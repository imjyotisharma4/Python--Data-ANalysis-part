{
 "cells": [
  {
   "cell_type": "code",
   "execution_count": null,
   "id": "385e674c",
   "metadata": {},
   "outputs": [],
   "source": [
    "import numpy as np"
   ]
  },
  {
   "cell_type": "code",
   "execution_count": null,
   "id": "a41611fa",
   "metadata": {},
   "outputs": [],
   "source": [
    "age=[12,13,14,15,16]\n",
    "age_ar=np.array(age)\n",
    "age_ar\n",
    "type(age_ar)"
   ]
  },
  {
   "cell_type": "code",
   "execution_count": null,
   "id": "681ae631",
   "metadata": {},
   "outputs": [],
   "source": [
    "np.random.random(size=4)   #random float"
   ]
  },
  {
   "cell_type": "code",
   "execution_count": null,
   "id": "2cd7d276",
   "metadata": {},
   "outputs": [],
   "source": [
    "np.random.randint(2,size=4)"
   ]
  },
  {
   "cell_type": "code",
   "execution_count": null,
   "id": "dc0008fe",
   "metadata": {},
   "outputs": [],
   "source": [
    "np.random.random(size=3)*8"
   ]
  },
  {
   "cell_type": "code",
   "execution_count": null,
   "id": "2f073711",
   "metadata": {},
   "outputs": [],
   "source": [
    "np.random.random(size=3)%2"
   ]
  },
  {
   "cell_type": "code",
   "execution_count": null,
   "id": "8119ec94",
   "metadata": {},
   "outputs": [],
   "source": [
    "np.random.rand(2,4)"
   ]
  },
  {
   "cell_type": "code",
   "execution_count": null,
   "id": "5c2833dc",
   "metadata": {},
   "outputs": [],
   "source": [
    "np.random.randint(2,4)"
   ]
  },
  {
   "cell_type": "code",
   "execution_count": null,
   "id": "eb467e78",
   "metadata": {},
   "outputs": [],
   "source": [
    "np.random.randint(0,11,size=(3,3))"
   ]
  },
  {
   "cell_type": "code",
   "execution_count": null,
   "id": "f68708ea",
   "metadata": {},
   "outputs": [],
   "source": [
    "even=np.arange(10,20,2)\n",
    "print(even)\n"
   ]
  },
  {
   "cell_type": "code",
   "execution_count": null,
   "id": "37f11777",
   "metadata": {},
   "outputs": [],
   "source": [
    "odd=np.arange(start=11,stop=100,step=2)\n",
    "print(odd)\n",
    "type(odd)"
   ]
  },
  {
   "cell_type": "code",
   "execution_count": null,
   "id": "76a2aeb2",
   "metadata": {},
   "outputs": [],
   "source": [
    "num=np.linspace(10,20,5)\n",
    "num"
   ]
  },
  {
   "cell_type": "code",
   "execution_count": null,
   "id": "05eda0f2",
   "metadata": {},
   "outputs": [],
   "source": [
    "np.zeros(10)"
   ]
  },
  {
   "cell_type": "code",
   "execution_count": null,
   "id": "f4083ef4",
   "metadata": {},
   "outputs": [],
   "source": [
    "np.ones(10)"
   ]
  },
  {
   "cell_type": "code",
   "execution_count": null,
   "id": "3eed4fba",
   "metadata": {},
   "outputs": [],
   "source": [
    "matrix=np.empty((3,3),dtype=str)\n",
    "matrix"
   ]
  },
  {
   "cell_type": "code",
   "execution_count": null,
   "id": "073d9a38",
   "metadata": {},
   "outputs": [],
   "source": [
    "print(np.__version__)"
   ]
  },
  {
   "cell_type": "code",
   "execution_count": null,
   "id": "6e79e27b",
   "metadata": {},
   "outputs": [],
   "source": [
    "mat=np.full((3,3),fill_value=11)\n",
    "mat"
   ]
  },
  {
   "cell_type": "code",
   "execution_count": null,
   "id": "a4f7583d",
   "metadata": {},
   "outputs": [],
   "source": [
    "np.identity(5)"
   ]
  },
  {
   "cell_type": "code",
   "execution_count": null,
   "id": "9e133d00",
   "metadata": {},
   "outputs": [],
   "source": [
    "np.eye(5,5,0)"
   ]
  },
  {
   "cell_type": "code",
   "execution_count": null,
   "id": "e3af51a1",
   "metadata": {},
   "outputs": [],
   "source": [
    "np.eye(5,5,2)"
   ]
  },
  {
   "cell_type": "code",
   "execution_count": null,
   "id": "8f4cecef",
   "metadata": {},
   "outputs": [],
   "source": [
    "np.eye(5,5,-2)"
   ]
  },
  {
   "cell_type": "code",
   "execution_count": null,
   "id": "da9f7237",
   "metadata": {},
   "outputs": [],
   "source": [
    "books=np.array([(\"Maths\",\"gk\",\"sci\"),(20,21,22)])\n",
    "print(books)"
   ]
  },
  {
   "cell_type": "code",
   "execution_count": null,
   "id": "0636a227",
   "metadata": {},
   "outputs": [],
   "source": [
    "books.size"
   ]
  },
  {
   "cell_type": "code",
   "execution_count": null,
   "id": "99b6f90f",
   "metadata": {},
   "outputs": [],
   "source": [
    "books=np.array([(1,2,3),(4,5,6)])\n",
    "books"
   ]
  },
  {
   "cell_type": "code",
   "execution_count": null,
   "id": "7d350216",
   "metadata": {},
   "outputs": [],
   "source": [
    "books.dtype"
   ]
  },
  {
   "cell_type": "code",
   "execution_count": null,
   "id": "ec9d25f1",
   "metadata": {},
   "outputs": [],
   "source": [
    "books.ndim"
   ]
  },
  {
   "cell_type": "code",
   "execution_count": null,
   "id": "eccae2cf",
   "metadata": {},
   "outputs": [],
   "source": [
    "book=books.reshape(6,1)\n",
    "book"
   ]
  },
  {
   "cell_type": "code",
   "execution_count": null,
   "id": "bbd83333",
   "metadata": {},
   "outputs": [],
   "source": [
    "data=np.array([(\"Charles\",12),(\"Logan\",13),(\"mina\",15)])\n",
    "data[-1]"
   ]
  },
  {
   "cell_type": "code",
   "execution_count": null,
   "id": "212d4682",
   "metadata": {},
   "outputs": [],
   "source": [
    "data[0][1]"
   ]
  },
  {
   "cell_type": "code",
   "execution_count": null,
   "id": "535b0276",
   "metadata": {},
   "outputs": [],
   "source": [
    "data[-1][0]"
   ]
  },
  {
   "cell_type": "code",
   "execution_count": null,
   "id": "a5addaaf",
   "metadata": {},
   "outputs": [],
   "source": [
    "weight=np.array([34,56,78,90,12,23])\n",
    "weight[3:5]"
   ]
  },
  {
   "cell_type": "code",
   "execution_count": null,
   "id": "ef14e33c",
   "metadata": {},
   "outputs": [],
   "source": [
    "weight[-3:-1]"
   ]
  },
  {
   "cell_type": "code",
   "execution_count": null,
   "id": "e82d59f5",
   "metadata": {},
   "outputs": [],
   "source": [
    "weight[0::3]"
   ]
  },
  {
   "cell_type": "code",
   "execution_count": null,
   "id": "e4cbc7bf",
   "metadata": {},
   "outputs": [],
   "source": [
    "weight[:3]"
   ]
  },
  {
   "cell_type": "code",
   "execution_count": null,
   "id": "73d1a652",
   "metadata": {},
   "outputs": [],
   "source": [
    "weight[0::2]"
   ]
  },
  {
   "cell_type": "code",
   "execution_count": null,
   "id": "64a7b6f5",
   "metadata": {},
   "outputs": [],
   "source": [
    "np.random.rand(4,5)"
   ]
  },
  {
   "cell_type": "code",
   "execution_count": null,
   "id": "8799ec21",
   "metadata": {},
   "outputs": [],
   "source": [
    "price=np.array([[3,4,5,6,7,8],\n",
    "       [1,2,3,4,5,6],\n",
    "       [2,3,4,5,6,7],\n",
    "       [5,6,7,8,9,0]])\n",
    "price"
   ]
  },
  {
   "cell_type": "code",
   "execution_count": null,
   "id": "faf167d6",
   "metadata": {},
   "outputs": [],
   "source": [
    "price.shape"
   ]
  },
  {
   "cell_type": "code",
   "execution_count": null,
   "id": "763f559b",
   "metadata": {},
   "outputs": [],
   "source": [
    "price=np.array([[3,4,5,6,7,8]])\n"
   ]
  },
  {
   "cell_type": "code",
   "execution_count": null,
   "id": "3c050749",
   "metadata": {},
   "outputs": [],
   "source": [
    "rate=np.array([[1,2,3,4,5,6]])\n"
   ]
  },
  {
   "cell_type": "code",
   "execution_count": null,
   "id": "ef5c4b81",
   "metadata": {},
   "outputs": [],
   "source": [
    "vstack_arr=np.vstack((price,rate))\n",
    "vstack_arr"
   ]
  },
  {
   "cell_type": "code",
   "execution_count": null,
   "id": "0e673330",
   "metadata": {},
   "outputs": [],
   "source": [
    "hstack1=np.hstack((price,rate))\n",
    "hstack1"
   ]
  },
  {
   "cell_type": "code",
   "execution_count": null,
   "id": "9e403da1",
   "metadata": {},
   "outputs": [],
   "source": [
    "np.mean(price)"
   ]
  },
  {
   "cell_type": "code",
   "execution_count": null,
   "id": "4da35f51",
   "metadata": {},
   "outputs": [],
   "source": [
    "np.std(price)"
   ]
  },
  {
   "cell_type": "code",
   "execution_count": null,
   "id": "7b444f34",
   "metadata": {},
   "outputs": [],
   "source": [
    "# pandas\n",
    "import pandas as pd\n",
    "import numpy as np"
   ]
  },
  {
   "cell_type": "code",
   "execution_count": null,
   "id": "15684121",
   "metadata": {},
   "outputs": [],
   "source": [
    "sal=pd.Series(\n",
    "np.array([2000,3000,5000,6000]),\n",
    "              index=np.arange(0,4,1)\n",
    ")\n",
    "sal"
   ]
  },
  {
   "cell_type": "code",
   "execution_count": null,
   "id": "6de5b3a2",
   "metadata": {},
   "outputs": [],
   "source": [
    "emp=pd.Series(np.array([2000,6000,4000,5000,7000]),index=('a','b','c','d','e')\n",
    ")\n",
    "emp"
   ]
  },
  {
   "cell_type": "code",
   "execution_count": null,
   "id": "c32ca4f0",
   "metadata": {},
   "outputs": [],
   "source": [
    "# Dictionary\n",
    "pro={'Diary':23,\"Soft\":24,\"Fruits\":25}\n",
    "prod=pd.Series(pro)\n",
    "prod"
   ]
  },
  {
   "cell_type": "code",
   "execution_count": null,
   "id": "4d84b107",
   "metadata": {},
   "outputs": [],
   "source": [
    "# create a dictionary\n",
    "class_d={'x':[\"Mat\",\"Eng\",\"Hin\"],\n",
    "        \"Y\":[\"Red\",\"Blue\",\"Yellow\"],\n",
    "        \"Z\":\"Sci\"}\n",
    "class_d=pd.Series(class_d)\n",
    "class_d"
   ]
  },
  {
   "cell_type": "code",
   "execution_count": null,
   "id": "cf528e4a",
   "metadata": {},
   "outputs": [],
   "source": [
    "class_d.index"
   ]
  },
  {
   "cell_type": "code",
   "execution_count": null,
   "id": "f6ce5672",
   "metadata": {},
   "outputs": [],
   "source": [
    "class_d[\"x\"]"
   ]
  },
  {
   "cell_type": "code",
   "execution_count": null,
   "id": "9fbda870",
   "metadata": {},
   "outputs": [],
   "source": [
    "class_d[\"Z\"]"
   ]
  },
  {
   "cell_type": "code",
   "execution_count": null,
   "id": "2b9e3404",
   "metadata": {},
   "outputs": [],
   "source": [
    "stu=pd.Series(np.array([450,560,780,360,230]),\n",
    "             index=['Sop','Emma','Mia','Will','Lily'])\n",
    "stu"
   ]
  },
  {
   "cell_type": "code",
   "execution_count": null,
   "id": "d04052b9",
   "metadata": {},
   "outputs": [],
   "source": [
    "stu[stu>300]"
   ]
  },
  {
   "cell_type": "code",
   "execution_count": null,
   "id": "8d03440c",
   "metadata": {},
   "outputs": [],
   "source": [
    "mr=pd.Series([12,17,13])\n",
    "sale=pd.Series([20,30,40])\n",
    "\n",
    "# multiply\n",
    "total=mr.multiply(sale)\n",
    "total"
   ]
  },
  {
   "cell_type": "code",
   "execution_count": null,
   "id": "715e7422",
   "metadata": {},
   "outputs": [],
   "source": [
    "mr=pd.Series([12,17,13])\n",
    "sale=pd.Series([20,30,40])\n",
    "\n",
    "# multiply\n",
    "total=mr.add(sale)\n",
    "total"
   ]
  },
  {
   "cell_type": "code",
   "execution_count": null,
   "id": "813712e3",
   "metadata": {},
   "outputs": [],
   "source": [
    "mr=pd.Series([12,17,13])\n",
    "sale=pd.Series([20,30,40])\n",
    "\n",
    "# multiply\n",
    "total=mr.subtract(sale)\n",
    "total"
   ]
  },
  {
   "cell_type": "code",
   "execution_count": null,
   "id": "27cdca7b",
   "metadata": {},
   "outputs": [],
   "source": [
    "mr=pd.Series([12,17,13])\n",
    "sale=pd.Series([20,30,40])\n",
    "\n",
    "# multiply\n",
    "total=mr-(sale)\n",
    "total"
   ]
  },
  {
   "cell_type": "code",
   "execution_count": null,
   "id": "cae28c51",
   "metadata": {},
   "outputs": [],
   "source": [
    "score=np.array([190,130,140,150,160,170,180])\n",
    "score=pd.Series(score)\n",
    "score.rank()"
   ]
  },
  {
   "cell_type": "code",
   "execution_count": null,
   "id": "810c6091",
   "metadata": {},
   "outputs": [],
   "source": [
    "sales=pd.Series([190,130,np.nan,140,150,160,170,180])\n",
    "sales.sort_values(ascending=True,na_position='last')\n"
   ]
  },
  {
   "cell_type": "code",
   "execution_count": null,
   "id": "b2ba2874",
   "metadata": {},
   "outputs": [],
   "source": [
    "height=pd.Series([4.4,7.8,5.6,np.nan,8,9])\n",
    "height.isnull()"
   ]
  },
  {
   "cell_type": "code",
   "execution_count": null,
   "id": "8b2980bf",
   "metadata": {},
   "outputs": [],
   "source": [
    "height=pd.Series([4.4,7.8,5.6,np.nan,8,9])\n",
    "height.notnull()"
   ]
  },
  {
   "cell_type": "code",
   "execution_count": null,
   "id": "385b4f99",
   "metadata": {},
   "outputs": [],
   "source": [
    "# Concatenation of Pandas Series"
   ]
  },
  {
   "cell_type": "code",
   "execution_count": null,
   "id": "86c45384",
   "metadata": {},
   "outputs": [],
   "source": [
    "import numpy as np\n",
    "import pandas as pd"
   ]
  },
  {
   "cell_type": "code",
   "execution_count": null,
   "id": "0e26ed92",
   "metadata": {},
   "outputs": [],
   "source": [
    "c1=np.arange(0,10,1)\n",
    "c2=np.arange(0,10,1)\n",
    "\n",
    "c1s=pd.Series(data=c1)\n",
    "c2s=pd.Series(data=c2)\n",
    "\n",
    "pd.concat([c1s,c2s],ignore_index=True)"
   ]
  },
  {
   "cell_type": "code",
   "execution_count": null,
   "id": "2b1d064d",
   "metadata": {},
   "outputs": [],
   "source": [
    "c1s=pd.Series(np.arange(0,10,1))\n",
    "c2s=pd.Series(np.arange(0,10,1))\n",
    "c1s.append(c2s)"
   ]
  },
  {
   "cell_type": "code",
   "execution_count": null,
   "id": "fbe52ecd",
   "metadata": {},
   "outputs": [],
   "source": [
    "ar1=np.random.randint(20,40,10)\n",
    "ar1"
   ]
  },
  {
   "cell_type": "code",
   "execution_count": null,
   "id": "9f02418f",
   "metadata": {},
   "outputs": [],
   "source": [
    "my=pd.Series(ar1)\n",
    "my"
   ]
  },
  {
   "cell_type": "code",
   "execution_count": null,
   "id": "87e7581c",
   "metadata": {},
   "outputs": [],
   "source": [
    "type(my)"
   ]
  },
  {
   "cell_type": "code",
   "execution_count": null,
   "id": "947b7b1b",
   "metadata": {},
   "outputs": [],
   "source": [
    "dir(my)"
   ]
  },
  {
   "cell_type": "code",
   "execution_count": null,
   "id": "2da1b204",
   "metadata": {},
   "outputs": [],
   "source": [
    "myList=[12,34,67,89,90]"
   ]
  },
  {
   "cell_type": "code",
   "execution_count": null,
   "id": "d9e27349",
   "metadata": {},
   "outputs": [],
   "source": [
    "mys=pd.Series(myList)\n",
    "mys"
   ]
  },
  {
   "cell_type": "code",
   "execution_count": null,
   "id": "d96b3569",
   "metadata": {},
   "outputs": [],
   "source": [
    "my=(12,34,\"A\",True,67,89)\n",
    "my=pd.Series(my)\n",
    "my"
   ]
  },
  {
   "cell_type": "code",
   "execution_count": null,
   "id": "f6639f85",
   "metadata": {},
   "outputs": [],
   "source": [
    "# Dictionary\n",
    "myD={'Name':'Mayank','Salary':50000,'Age':25}\n",
    "myD=pd.Series(myD)\n",
    "myD"
   ]
  },
  {
   "cell_type": "code",
   "execution_count": null,
   "id": "b6295797",
   "metadata": {},
   "outputs": [],
   "source": [
    "set2={12,13,45,67,89}\n",
    "set2"
   ]
  },
  {
   "cell_type": "code",
   "execution_count": null,
   "id": "6e88d497",
   "metadata": {},
   "outputs": [],
   "source": [
    "mys=pd.Series(set2)\n",
    "mys"
   ]
  },
  {
   "cell_type": "code",
   "execution_count": null,
   "id": "f5985a0a",
   "metadata": {},
   "outputs": [],
   "source": [
    "myD"
   ]
  },
  {
   "cell_type": "code",
   "execution_count": null,
   "id": "afad6755",
   "metadata": {},
   "outputs": [],
   "source": [
    "myDic=pd.Series([12,16,17,13],index=['a','b','c','d'])\n",
    "myDic"
   ]
  },
  {
   "cell_type": "code",
   "execution_count": null,
   "id": "d3644dbb",
   "metadata": {},
   "outputs": [],
   "source": [
    "Myl=[12,13,14,15,16]\n",
    "Myl=pd.Series(Myl,index=['101','102','103','104','105'])\n",
    "Myl"
   ]
  },
  {
   "cell_type": "code",
   "execution_count": null,
   "id": "9cfb9eca",
   "metadata": {},
   "outputs": [],
   "source": []
  },
  {
   "cell_type": "code",
   "execution_count": null,
   "id": "113675eb",
   "metadata": {},
   "outputs": [],
   "source": []
  },
  {
   "cell_type": "code",
   "execution_count": null,
   "id": "7779de85",
   "metadata": {},
   "outputs": [],
   "source": []
  },
  {
   "cell_type": "code",
   "execution_count": null,
   "id": "d63611e7",
   "metadata": {},
   "outputs": [],
   "source": [
    "class Layer:\n",
    "    no_of_games=4\n",
    "    def _init_(self,name,game):\n",
    "        self.name=name\n",
    "        self.game=game\n",
    "\n",
    "    def printdetail(self):\n",
    "        return f\"The Name is {self.name}. game is {self.game}\"\n",
    "harry=Layer(\"Rishabh\",\"Ludo\")\n",
    "print(harry.printdetail())"
   ]
  },
  {
   "cell_type": "code",
   "execution_count": null,
   "id": "4d1eaa7a",
   "metadata": {},
   "outputs": [],
   "source": []
  },
  {
   "cell_type": "code",
   "execution_count": null,
   "id": "6833c50b",
   "metadata": {},
   "outputs": [],
   "source": []
  },
  {
   "cell_type": "code",
   "execution_count": null,
   "id": "8e10d076",
   "metadata": {},
   "outputs": [],
   "source": []
  },
  {
   "cell_type": "code",
   "execution_count": null,
   "id": "f8e3ee7e",
   "metadata": {
    "scrolled": true
   },
   "outputs": [],
   "source": [
    "Myl.add_prefix(prefix='std')"
   ]
  },
  {
   "cell_type": "code",
   "execution_count": null,
   "id": "97531a0a",
   "metadata": {},
   "outputs": [],
   "source": [
    "Myl.add_suffix(suffix=\"int\")"
   ]
  },
  {
   "cell_type": "code",
   "execution_count": null,
   "id": "727641fa",
   "metadata": {},
   "outputs": [],
   "source": [
    "import pandas as pd\n",
    "import numpy as np\n",
    "ser1=pd.Series([12,34,56,78,89,90])\n",
    "ser1"
   ]
  },
  {
   "cell_type": "code",
   "execution_count": null,
   "id": "8d3c3f4a",
   "metadata": {},
   "outputs": [],
   "source": [
    "ser1.astype('float64')"
   ]
  },
  {
   "cell_type": "code",
   "execution_count": null,
   "id": "00dee048",
   "metadata": {},
   "outputs": [],
   "source": [
    "def myf(df):\n",
    "    return df*10"
   ]
  },
  {
   "cell_type": "code",
   "execution_count": null,
   "id": "b89c0490",
   "metadata": {},
   "outputs": [],
   "source": [
    "ser1.apply(myf)"
   ]
  },
  {
   "cell_type": "code",
   "execution_count": null,
   "id": "c292ec9a",
   "metadata": {},
   "outputs": [],
   "source": [
    "ser1.drop_duplicates()"
   ]
  },
  {
   "cell_type": "code",
   "execution_count": null,
   "id": "b9a1c68b",
   "metadata": {},
   "outputs": [],
   "source": [
    "myD={'emp':[101,102,103,104,105],\n",
    "    'emp':['Tej','Raj','pnj','abc','xyz'],\n",
    "    'gender':['m','f','m','f','m'],\n",
    "    'salary':[10,20,30,40,50]}"
   ]
  },
  {
   "cell_type": "code",
   "execution_count": null,
   "id": "33a9b49b",
   "metadata": {},
   "outputs": [],
   "source": [
    "myD"
   ]
  },
  {
   "cell_type": "code",
   "execution_count": null,
   "id": "2e1abe61",
   "metadata": {},
   "outputs": [],
   "source": [
    "myDic=pd.DataFrame(myD)\n",
    "myDic"
   ]
  },
  {
   "cell_type": "code",
   "execution_count": null,
   "id": "5fce5a00",
   "metadata": {},
   "outputs": [],
   "source": [
    "myL=[[111,'J','DSA'],\n",
    "    [112,'H','DA'],\n",
    "    [113,'P','MBA']]\n",
    "myL"
   ]
  },
  {
   "cell_type": "code",
   "execution_count": null,
   "id": "1440c6e2",
   "metadata": {},
   "outputs": [],
   "source": [
    "myL1=pd.DataFrame(myL,columns=['roll','Name','Course'],index=['a','b','c'])\n",
    "myL1"
   ]
  },
  {
   "cell_type": "code",
   "execution_count": null,
   "id": "881d8b9c",
   "metadata": {},
   "outputs": [],
   "source": [
    "ser1=pd.Series(np.random.randint(20,60,5))\n",
    "ser2=pd.Series(np.random.randint(30,70,5))\n",
    "ser2"
   ]
  },
  {
   "cell_type": "code",
   "execution_count": null,
   "id": "13c82b72",
   "metadata": {},
   "outputs": [],
   "source": [
    "# load trhe csv file"
   ]
  },
  {
   "cell_type": "code",
   "execution_count": null,
   "id": "39c6d7c3",
   "metadata": {},
   "outputs": [],
   "source": [
    "import pandas as pd"
   ]
  },
  {
   "cell_type": "code",
   "execution_count": null,
   "id": "c89e4043",
   "metadata": {},
   "outputs": [],
   "source": [
    "df=pd.read_csv(\"animal.csv\")\n",
    "df"
   ]
  },
  {
   "cell_type": "code",
   "execution_count": null,
   "id": "8550d2f2",
   "metadata": {},
   "outputs": [],
   "source": [
    "df.head()"
   ]
  },
  {
   "cell_type": "code",
   "execution_count": null,
   "id": "16c3432a",
   "metadata": {},
   "outputs": [],
   "source": [
    "df.tail()"
   ]
  },
  {
   "cell_type": "code",
   "execution_count": null,
   "id": "d0ef8d3b",
   "metadata": {},
   "outputs": [],
   "source": [
    "# shape\n",
    "df.shape"
   ]
  },
  {
   "cell_type": "code",
   "execution_count": null,
   "id": "82610264",
   "metadata": {},
   "outputs": [],
   "source": [
    "df.columns"
   ]
  },
  {
   "cell_type": "code",
   "execution_count": null,
   "id": "d2075678",
   "metadata": {},
   "outputs": [],
   "source": [
    "df.info()"
   ]
  },
  {
   "cell_type": "code",
   "execution_count": null,
   "id": "37851677",
   "metadata": {},
   "outputs": [],
   "source": [
    "df.describe()"
   ]
  },
  {
   "cell_type": "code",
   "execution_count": null,
   "id": "d4634c22",
   "metadata": {},
   "outputs": [],
   "source": [
    "df.describe(include='all')"
   ]
  },
  {
   "cell_type": "code",
   "execution_count": null,
   "id": "2ed988ca",
   "metadata": {},
   "outputs": [],
   "source": [
    "df.isna().sum()"
   ]
  },
  {
   "cell_type": "code",
   "execution_count": null,
   "id": "39427d0b",
   "metadata": {},
   "outputs": [],
   "source": [
    "mean=np.mean(df)\n",
    "mean"
   ]
  },
  {
   "cell_type": "code",
   "execution_count": null,
   "id": "f386cbe5",
   "metadata": {},
   "outputs": [],
   "source": [
    "df['age'].fillna(3.3)"
   ]
  },
  {
   "cell_type": "code",
   "execution_count": null,
   "id": "db2a8342",
   "metadata": {},
   "outputs": [],
   "source": [
    "df['age'].median()"
   ]
  },
  {
   "cell_type": "code",
   "execution_count": null,
   "id": "07e54245",
   "metadata": {},
   "outputs": [],
   "source": [
    "med=df['age'].fillna(df['age'].median())\n",
    "med"
   ]
  },
  {
   "cell_type": "code",
   "execution_count": null,
   "id": "1d26186e",
   "metadata": {},
   "outputs": [],
   "source": [
    "tempmean=df['age'].fillna(med)\n",
    "df"
   ]
  },
  {
   "cell_type": "code",
   "execution_count": null,
   "id": "1a806806",
   "metadata": {},
   "outputs": [],
   "source": [
    "df['age']=df['age'].fillna(med)\n",
    "df"
   ]
  },
  {
   "cell_type": "code",
   "execution_count": null,
   "id": "77c98801",
   "metadata": {},
   "outputs": [],
   "source": [
    "df[0:5]"
   ]
  },
  {
   "cell_type": "code",
   "execution_count": null,
   "id": "8730d14f",
   "metadata": {},
   "outputs": [],
   "source": [
    "df[4:6]"
   ]
  },
  {
   "cell_type": "code",
   "execution_count": null,
   "id": "4a913f71",
   "metadata": {},
   "outputs": [],
   "source": [
    "df['age']"
   ]
  },
  {
   "cell_type": "code",
   "execution_count": null,
   "id": "3101f586",
   "metadata": {},
   "outputs": [],
   "source": [
    "df[['animal','age']]"
   ]
  },
  {
   "cell_type": "code",
   "execution_count": null,
   "id": "b5c099ed",
   "metadata": {},
   "outputs": [],
   "source": [
    "# index based subsetting\n",
    "\n",
    "df.iloc[0:,2:4]"
   ]
  },
  {
   "cell_type": "code",
   "execution_count": null,
   "id": "255197c9",
   "metadata": {},
   "outputs": [],
   "source": [
    "df.iloc[0:5,0:]"
   ]
  },
  {
   "cell_type": "code",
   "execution_count": null,
   "id": "8375f022",
   "metadata": {},
   "outputs": [],
   "source": [
    "df.loc[1:4,'age']"
   ]
  },
  {
   "cell_type": "code",
   "execution_count": null,
   "id": "b47705de",
   "metadata": {},
   "outputs": [],
   "source": [
    "df.loc[1:4,['age','animal']]"
   ]
  },
  {
   "cell_type": "code",
   "execution_count": null,
   "id": "7544d0e7",
   "metadata": {},
   "outputs": [],
   "source": [
    "df[df['age']>4]"
   ]
  },
  {
   "cell_type": "code",
   "execution_count": null,
   "id": "de3cc53f",
   "metadata": {},
   "outputs": [],
   "source": [
    "df['age'][df['age']>4]"
   ]
  },
  {
   "cell_type": "code",
   "execution_count": null,
   "id": "912c7e21",
   "metadata": {},
   "outputs": [],
   "source": [
    "df.columns"
   ]
  },
  {
   "cell_type": "code",
   "execution_count": null,
   "id": "06b5c153",
   "metadata": {},
   "outputs": [],
   "source": [
    "import numpy as np"
   ]
  },
  {
   "cell_type": "code",
   "execution_count": null,
   "id": "3fa9718d",
   "metadata": {},
   "outputs": [],
   "source": [
    "np.array([12,13,15])"
   ]
  },
  {
   "cell_type": "code",
   "execution_count": null,
   "id": "c36a4e56",
   "metadata": {},
   "outputs": [],
   "source": [
    "ar=np.array([12,13,True,'Ankit','Nikita'])\n",
    "ar"
   ]
  },
  {
   "cell_type": "code",
   "execution_count": null,
   "id": "a3012b9c",
   "metadata": {},
   "outputs": [],
   "source": [
    "type(ar)"
   ]
  },
  {
   "cell_type": "code",
   "execution_count": null,
   "id": "59b63de9",
   "metadata": {},
   "outputs": [],
   "source": [
    "list=[89,90,91,24,56]\n",
    "list"
   ]
  },
  {
   "cell_type": "code",
   "execution_count": null,
   "id": "a01ed6ff",
   "metadata": {},
   "outputs": [],
   "source": [
    "# multi dim array\n",
    "l1=[101,102,103,104,105]\n",
    "l2=[23,24,25,26,27]\n",
    "ar1=np.array([list,l1,l2])\n",
    "ar1"
   ]
  },
  {
   "cell_type": "code",
   "execution_count": null,
   "id": "889e924a",
   "metadata": {},
   "outputs": [],
   "source": [
    "ar2=np.random.randint(10,size=(3,4))\n",
    "ar2"
   ]
  },
  {
   "cell_type": "code",
   "execution_count": null,
   "id": "cc8f674f",
   "metadata": {},
   "outputs": [],
   "source": [
    "ar3=np.random.randint(3,15,size=(1,4))\n",
    "ar3"
   ]
  },
  {
   "cell_type": "code",
   "execution_count": null,
   "id": "bb5bece2",
   "metadata": {},
   "outputs": [],
   "source": [
    "ar4=np.random.randint(12,20,size=[3,4])\n",
    "ar4"
   ]
  },
  {
   "cell_type": "code",
   "execution_count": null,
   "id": "6b676af7",
   "metadata": {},
   "outputs": [],
   "source": [
    "ar4.shape"
   ]
  },
  {
   "cell_type": "code",
   "execution_count": null,
   "id": "67e54c46",
   "metadata": {},
   "outputs": [],
   "source": [
    "ar4.dtype"
   ]
  },
  {
   "cell_type": "code",
   "execution_count": null,
   "id": "65bc656b",
   "metadata": {},
   "outputs": [],
   "source": [
    "ar5=np.arange(12)\n",
    "ar5"
   ]
  },
  {
   "cell_type": "code",
   "execution_count": null,
   "id": "ba2b74b5",
   "metadata": {},
   "outputs": [],
   "source": [
    "ar1=np.arange(12,21,2)\n",
    "ar1"
   ]
  },
  {
   "cell_type": "code",
   "execution_count": null,
   "id": "a1f975a1",
   "metadata": {},
   "outputs": [],
   "source": [
    "print(np.zeros((2,3)))"
   ]
  },
  {
   "cell_type": "code",
   "execution_count": null,
   "id": "9bd05491",
   "metadata": {},
   "outputs": [],
   "source": [
    "print(np.ones((3,3)))"
   ]
  },
  {
   "cell_type": "code",
   "execution_count": null,
   "id": "cc74ab38",
   "metadata": {},
   "outputs": [],
   "source": [
    "ar1[2:3]"
   ]
  },
  {
   "cell_type": "code",
   "execution_count": null,
   "id": "d5c6e25d",
   "metadata": {},
   "outputs": [],
   "source": [
    "ar1[[1,2,3]]"
   ]
  },
  {
   "cell_type": "code",
   "execution_count": null,
   "id": "265f2e55",
   "metadata": {},
   "outputs": [],
   "source": [
    "ar1[[3,4,1]]"
   ]
  },
  {
   "cell_type": "code",
   "execution_count": null,
   "id": "140ecfca",
   "metadata": {},
   "outputs": [],
   "source": [
    "myL=[12,13,14,15,16,17]\n",
    "myL"
   ]
  },
  {
   "cell_type": "code",
   "execution_count": null,
   "id": "3bbb85a4",
   "metadata": {},
   "outputs": [],
   "source": [
    "myL[4:5]"
   ]
  },
  {
   "cell_type": "code",
   "execution_count": null,
   "id": "d4a999ce",
   "metadata": {},
   "outputs": [],
   "source": [
    "myL[1:3]"
   ]
  },
  {
   "cell_type": "code",
   "execution_count": null,
   "id": "1130b331",
   "metadata": {},
   "outputs": [],
   "source": [
    "import numpy as np\n",
    "arr=np.linspace(2,8,5)\n",
    "arr"
   ]
  },
  {
   "cell_type": "code",
   "execution_count": null,
   "id": "494d1cde",
   "metadata": {},
   "outputs": [],
   "source": [
    "ar1=arr.copy()\n",
    "ar1"
   ]
  },
  {
   "cell_type": "code",
   "execution_count": null,
   "id": "b2d7330a",
   "metadata": {},
   "outputs": [],
   "source": [
    "ar1"
   ]
  },
  {
   "cell_type": "code",
   "execution_count": null,
   "id": "f32b4c90",
   "metadata": {},
   "outputs": [],
   "source": [
    "arr"
   ]
  },
  {
   "cell_type": "code",
   "execution_count": null,
   "id": "c2bf17aa",
   "metadata": {},
   "outputs": [],
   "source": [
    "# arr=ar1"
   ]
  },
  {
   "cell_type": "code",
   "execution_count": null,
   "id": "2f520043",
   "metadata": {},
   "outputs": [],
   "source": [
    "ar1=np.array([(2,5,6),(8,9,10)])\n",
    "ar1"
   ]
  },
  {
   "cell_type": "code",
   "execution_count": null,
   "id": "75c169a4",
   "metadata": {},
   "outputs": [],
   "source": [
    "ar2=np.array([(3,4,5),[6,7,8]])\n",
    "ar2"
   ]
  },
  {
   "cell_type": "code",
   "execution_count": null,
   "id": "94f97a4f",
   "metadata": {},
   "outputs": [],
   "source": [
    "import numpy as np"
   ]
  },
  {
   "cell_type": "code",
   "execution_count": null,
   "id": "ff552f80",
   "metadata": {},
   "outputs": [],
   "source": [
    "vs=np.vstack((ar1,ar2))\n",
    "vs"
   ]
  },
  {
   "cell_type": "code",
   "execution_count": null,
   "id": "3a160cbe",
   "metadata": {},
   "outputs": [],
   "source": [
    "hs=np.hstack((ar1,ar2))\n",
    "hs"
   ]
  },
  {
   "cell_type": "code",
   "execution_count": null,
   "id": "8e65300f",
   "metadata": {},
   "outputs": [],
   "source": [
    "np.mean(ar1)"
   ]
  },
  {
   "cell_type": "code",
   "execution_count": null,
   "id": "0581030f",
   "metadata": {},
   "outputs": [],
   "source": [
    "np.median(ar2)"
   ]
  },
  {
   "cell_type": "code",
   "execution_count": null,
   "id": "c1755d08",
   "metadata": {},
   "outputs": [],
   "source": [
    "np.var(ar2)"
   ]
  },
  {
   "cell_type": "code",
   "execution_count": null,
   "id": "63388b87",
   "metadata": {},
   "outputs": [],
   "source": []
  },
  {
   "cell_type": "code",
   "execution_count": null,
   "id": "16017cba",
   "metadata": {},
   "outputs": [],
   "source": [
    "ar1+ar2"
   ]
  },
  {
   "cell_type": "code",
   "execution_count": null,
   "id": "edb5d963",
   "metadata": {},
   "outputs": [],
   "source": [
    "print(ar1)\n",
    "print(ar2)"
   ]
  },
  {
   "cell_type": "code",
   "execution_count": null,
   "id": "fa57486a",
   "metadata": {},
   "outputs": [],
   "source": [
    "print(ar1-ar2)"
   ]
  },
  {
   "cell_type": "code",
   "execution_count": null,
   "id": "11787240",
   "metadata": {},
   "outputs": [],
   "source": [
    "# comparison operator\n",
    "ar1>ar2"
   ]
  },
  {
   "cell_type": "code",
   "execution_count": null,
   "id": "dafd95f7",
   "metadata": {},
   "outputs": [],
   "source": [
    "ar2=np.array([[0,1,2],[11,19,35]])\n",
    "ar2"
   ]
  },
  {
   "cell_type": "code",
   "execution_count": null,
   "id": "f58f9090",
   "metadata": {},
   "outputs": [],
   "source": [
    "ar1>ar2"
   ]
  },
  {
   "cell_type": "code",
   "execution_count": null,
   "id": "0a2a24a2",
   "metadata": {},
   "outputs": [],
   "source": [
    "ar1=np.random.randint(10,26,size=(3,4))\n",
    "ar1"
   ]
  },
  {
   "cell_type": "code",
   "execution_count": null,
   "id": "6ad5b996",
   "metadata": {},
   "outputs": [],
   "source": [
    "ar3=np.random.randn(3,4)\n",
    "ar3"
   ]
  },
  {
   "cell_type": "code",
   "execution_count": null,
   "id": "e1c590b0",
   "metadata": {},
   "outputs": [],
   "source": [
    "ar3.reshape(6,2)"
   ]
  },
  {
   "cell_type": "code",
   "execution_count": null,
   "id": "b071faf4",
   "metadata": {},
   "outputs": [],
   "source": [
    "ar5=np.array([12,34,56,78,90])\n",
    "ar5"
   ]
  },
  {
   "cell_type": "code",
   "execution_count": null,
   "id": "61415d71",
   "metadata": {},
   "outputs": [],
   "source": [
    "ar5.dtype"
   ]
  },
  {
   "cell_type": "code",
   "execution_count": null,
   "id": "e6afd358",
   "metadata": {},
   "outputs": [],
   "source": [
    "ar5.astype('float')"
   ]
  },
  {
   "cell_type": "code",
   "execution_count": null,
   "id": "91709b68",
   "metadata": {},
   "outputs": [],
   "source": [
    "myL=[12,34,56,78,90]\n",
    "myL"
   ]
  },
  {
   "cell_type": "code",
   "execution_count": null,
   "id": "80898c71",
   "metadata": {},
   "outputs": [],
   "source": [
    "myL[2:3]=[111,111]\n",
    "myL"
   ]
  },
  {
   "cell_type": "code",
   "execution_count": null,
   "id": "d306207c",
   "metadata": {},
   "outputs": [],
   "source": [
    "myL[1:]=120\n",
    "myL"
   ]
  },
  {
   "cell_type": "code",
   "execution_count": null,
   "id": "3dea3029",
   "metadata": {},
   "outputs": [],
   "source": [
    "myL=[12,34,56,78,90]\n",
    "myL1=np.array(myL)\n",
    "myL1"
   ]
  },
  {
   "cell_type": "code",
   "execution_count": null,
   "id": "c8e6b776",
   "metadata": {},
   "outputs": [],
   "source": [
    "myL1[1:]=120\n",
    "myL1"
   ]
  },
  {
   "cell_type": "code",
   "execution_count": null,
   "id": "572e8c03",
   "metadata": {},
   "outputs": [],
   "source": [
    "# pandas\n",
    "import pandas as pd"
   ]
  },
  {
   "cell_type": "code",
   "execution_count": null,
   "id": "f9675fd5",
   "metadata": {},
   "outputs": [],
   "source": [
    "ar1=[11,12,13,14,15,16]\n",
    "ar1"
   ]
  },
  {
   "cell_type": "code",
   "execution_count": null,
   "id": "e98eeb13",
   "metadata": {},
   "outputs": [],
   "source": [
    "mySer=pd.Series(ar1)\n",
    "mySer"
   ]
  },
  {
   "cell_type": "code",
   "execution_count": null,
   "id": "6fc205fb",
   "metadata": {},
   "outputs": [],
   "source": [
    "type(mySer)"
   ]
  },
  {
   "cell_type": "code",
   "execution_count": null,
   "id": "0036ec90",
   "metadata": {},
   "outputs": [],
   "source": [
    "dir(mySer)"
   ]
  },
  {
   "cell_type": "code",
   "execution_count": null,
   "id": "2eb4363d",
   "metadata": {},
   "outputs": [],
   "source": [
    "myL=[12,34,56,78,90]\n",
    "myL"
   ]
  },
  {
   "cell_type": "code",
   "execution_count": null,
   "id": "5466082f",
   "metadata": {},
   "outputs": [],
   "source": [
    "myser=pd.Series(myL)\n",
    "myser"
   ]
  },
  {
   "cell_type": "code",
   "execution_count": null,
   "id": "627e93c7",
   "metadata": {},
   "outputs": [],
   "source": [
    "myT=(12,34,\"Apple\",\"Banana\",89,True)\n",
    "myse1=pd.Series(myT)\n",
    "myse1"
   ]
  },
  {
   "cell_type": "code",
   "execution_count": null,
   "id": "7d05406c",
   "metadata": {},
   "outputs": [],
   "source": [
    "# Dictionary\n",
    "\n",
    "myD={'Name':'Mayank','Salary':50000,'Age':25}\n",
    "myD"
   ]
  },
  {
   "cell_type": "code",
   "execution_count": null,
   "id": "e44c45c1",
   "metadata": {},
   "outputs": [],
   "source": [
    "myse=pd.Series(myD)\n",
    "myse"
   ]
  },
  {
   "cell_type": "code",
   "execution_count": null,
   "id": "f68f3baf",
   "metadata": {},
   "outputs": [],
   "source": [
    "myset={12,13,14,15,16,17,18,19,20}\n",
    "myset"
   ]
  },
  {
   "cell_type": "code",
   "execution_count": null,
   "id": "aa4b67af",
   "metadata": {},
   "outputs": [],
   "source": [
    "myset1=pd.Series(myset)\n",
    "myset1                             #set type is unordered"
   ]
  },
  {
   "cell_type": "code",
   "execution_count": null,
   "id": "bc820ca7",
   "metadata": {},
   "outputs": [],
   "source": [
    "myser"
   ]
  },
  {
   "cell_type": "code",
   "execution_count": null,
   "id": "828da7f7",
   "metadata": {},
   "outputs": [],
   "source": [
    "mys=pd.Series([12,13,14,15,16],index=['a','b','c','d','e'])\n",
    "mys"
   ]
  },
  {
   "cell_type": "code",
   "execution_count": null,
   "id": "222ecd94",
   "metadata": {},
   "outputs": [],
   "source": [
    "mys5=pd.Series(myL,index=['101','102','103','104','105'])\n",
    "mys5"
   ]
  },
  {
   "cell_type": "code",
   "execution_count": null,
   "id": "32a9f162",
   "metadata": {},
   "outputs": [],
   "source": [
    "mys5.add_prefix(prefix='std')"
   ]
  },
  {
   "cell_type": "code",
   "execution_count": null,
   "id": "2ddc6036",
   "metadata": {},
   "outputs": [],
   "source": [
    "mys5.add_suffix(suffix='std')"
   ]
  },
  {
   "cell_type": "code",
   "execution_count": null,
   "id": "3187809b",
   "metadata": {},
   "outputs": [],
   "source": [
    "myL=pd.Series([11,45,15,None,16,19,None])\n",
    "myL"
   ]
  },
  {
   "cell_type": "code",
   "execution_count": null,
   "id": "e2cec033",
   "metadata": {},
   "outputs": [],
   "source": [
    "myL.dtype"
   ]
  },
  {
   "cell_type": "code",
   "execution_count": null,
   "id": "23e99a8f",
   "metadata": {},
   "outputs": [],
   "source": [
    "# isna() \n",
    "print(myL.isna())"
   ]
  },
  {
   "cell_type": "code",
   "execution_count": null,
   "id": "c9adf03d",
   "metadata": {},
   "outputs": [],
   "source": [
    "myL.isna().sum()"
   ]
  },
  {
   "cell_type": "code",
   "execution_count": null,
   "id": "600670c3",
   "metadata": {},
   "outputs": [],
   "source": [
    "myL.isna().any()"
   ]
  },
  {
   "cell_type": "code",
   "execution_count": null,
   "id": "5938aba9",
   "metadata": {},
   "outputs": [],
   "source": [
    "myL.dropna()"
   ]
  },
  {
   "cell_type": "code",
   "execution_count": null,
   "id": "27aa3b2b",
   "metadata": {},
   "outputs": [],
   "source": [
    "myL.fillna(10)"
   ]
  },
  {
   "cell_type": "code",
   "execution_count": null,
   "id": "70dca9e2",
   "metadata": {},
   "outputs": [],
   "source": [
    "import numpy as np"
   ]
  },
  {
   "cell_type": "code",
   "execution_count": null,
   "id": "86006141",
   "metadata": {},
   "outputs": [],
   "source": [
    "tempmean=np.mean(myL)\n",
    "tempmean"
   ]
  },
  {
   "cell_type": "code",
   "execution_count": null,
   "id": "0f08f559",
   "metadata": {},
   "outputs": [],
   "source": [
    "tempmed=np.nanmedian(myL)\n",
    "tempmed"
   ]
  },
  {
   "cell_type": "code",
   "execution_count": null,
   "id": "ee70d598",
   "metadata": {},
   "outputs": [],
   "source": [
    "myL.fillna(myL.median())"
   ]
  },
  {
   "cell_type": "code",
   "execution_count": null,
   "id": "faba750c",
   "metadata": {},
   "outputs": [],
   "source": [
    "myL.dtype"
   ]
  },
  {
   "cell_type": "code",
   "execution_count": null,
   "id": "e6463efe",
   "metadata": {},
   "outputs": [],
   "source": [
    "mys5.astype('int32')"
   ]
  },
  {
   "cell_type": "code",
   "execution_count": null,
   "id": "c132f77a",
   "metadata": {},
   "outputs": [],
   "source": [
    "def fun(df):\n",
    "    return df*10"
   ]
  },
  {
   "cell_type": "code",
   "execution_count": null,
   "id": "d7c53793",
   "metadata": {},
   "outputs": [],
   "source": [
    "mys5.apply(fun)"
   ]
  },
  {
   "cell_type": "code",
   "execution_count": null,
   "id": "4af210ca",
   "metadata": {},
   "outputs": [],
   "source": [
    "myL.apply(fun)"
   ]
  },
  {
   "cell_type": "code",
   "execution_count": null,
   "id": "24dab08a",
   "metadata": {},
   "outputs": [],
   "source": [
    "myL=pd.Series([12,13,14,15,16,17,12,13,18,19,20])\n",
    "myL"
   ]
  },
  {
   "cell_type": "code",
   "execution_count": null,
   "id": "a2ee905d",
   "metadata": {},
   "outputs": [],
   "source": [
    "myL.drop_duplicates()"
   ]
  },
  {
   "cell_type": "code",
   "execution_count": null,
   "id": "9f6e2cf5",
   "metadata": {},
   "outputs": [],
   "source": [
    "import pandas as pd\n",
    "import numpy as np\n",
    "myD={'emp_id':[101,102,103,104,105],\n",
    "'emp_name':['tej','palak','osman','anuj','sachin'],\n",
    "'gender':['m','f','m','f','m'],\n",
    "'salary':[10000,20000,30000,40000,50000]}\n",
    "myD"
   ]
  },
  {
   "cell_type": "code",
   "execution_count": null,
   "id": "bc4680f1",
   "metadata": {},
   "outputs": [],
   "source": [
    "# DataFrame\n",
    "\n",
    "myD1=pd.DataFrame(myD)\n",
    "myD1"
   ]
  },
  {
   "cell_type": "code",
   "execution_count": null,
   "id": "f321d0a8",
   "metadata": {},
   "outputs": [],
   "source": [
    "myL=[[111,'J',\"Dsa\"],\n",
    "     [222,'K','DA'],\n",
    "     [333,'L','MBA'],\n",
    "     [444,'M','CA']]\n",
    "myL"
   ]
  },
  {
   "cell_type": "code",
   "execution_count": null,
   "id": "d1cb7835",
   "metadata": {},
   "outputs": [],
   "source": [
    "myDf=pd.DataFrame(myL,columns=['std','Name','Roll'])\n",
    "myDf"
   ]
  },
  {
   "cell_type": "code",
   "execution_count": null,
   "id": "d5fbdcfd",
   "metadata": {},
   "outputs": [],
   "source": [
    "s1=pd.Series(np.random.randint(20,60,5))\n",
    "s2=pd.Series(np.random.randint(35000,55000,5))\n",
    "s2"
   ]
  },
  {
   "cell_type": "code",
   "execution_count": null,
   "id": "44da2862",
   "metadata": {},
   "outputs": [],
   "source": [
    "# Load the file\n",
    "# read_csv() -- Method by which we load/readour csv file"
   ]
  },
  {
   "cell_type": "code",
   "execution_count": null,
   "id": "0d053cee",
   "metadata": {},
   "outputs": [],
   "source": [
    "import pandas as pd\n",
    "import numpy as np"
   ]
  },
  {
   "cell_type": "code",
   "execution_count": null,
   "id": "7ff0b24b",
   "metadata": {},
   "outputs": [],
   "source": [
    "df=pd.read_csv(\"C:\\\\Users\\\\hp\\\\Downloads\\\\Data_File.csv\")\n",
    "df"
   ]
  },
  {
   "cell_type": "code",
   "execution_count": null,
   "id": "7a81f810",
   "metadata": {},
   "outputs": [],
   "source": [
    "df.head()"
   ]
  },
  {
   "cell_type": "code",
   "execution_count": null,
   "id": "952792e9",
   "metadata": {},
   "outputs": [],
   "source": [
    "df.tail()"
   ]
  },
  {
   "cell_type": "code",
   "execution_count": null,
   "id": "0a630f18",
   "metadata": {},
   "outputs": [],
   "source": [
    "df.head(8)"
   ]
  },
  {
   "cell_type": "code",
   "execution_count": null,
   "id": "25497ee2",
   "metadata": {},
   "outputs": [],
   "source": [
    "df.columns"
   ]
  },
  {
   "cell_type": "code",
   "execution_count": null,
   "id": "4b48987f",
   "metadata": {},
   "outputs": [],
   "source": [
    "df.shape"
   ]
  },
  {
   "cell_type": "code",
   "execution_count": null,
   "id": "20c66053",
   "metadata": {},
   "outputs": [],
   "source": [
    "df.info()"
   ]
  },
  {
   "cell_type": "code",
   "execution_count": null,
   "id": "80fb0bd0",
   "metadata": {},
   "outputs": [],
   "source": [
    "df.describe()"
   ]
  },
  {
   "cell_type": "code",
   "execution_count": null,
   "id": "3da43963",
   "metadata": {},
   "outputs": [],
   "source": [
    "df.describe(include='all')"
   ]
  },
  {
   "cell_type": "code",
   "execution_count": null,
   "id": "b1d66e2b",
   "metadata": {},
   "outputs": [],
   "source": [
    "df.isna().sum()"
   ]
  },
  {
   "cell_type": "code",
   "execution_count": null,
   "id": "018c5ae4",
   "metadata": {},
   "outputs": [],
   "source": [
    "df['Variable_A'].fillna(10)"
   ]
  },
  {
   "cell_type": "code",
   "execution_count": null,
   "id": "43de4d3a",
   "metadata": {},
   "outputs": [],
   "source": [
    "df['Variable_A'].fillna(10)"
   ]
  },
  {
   "cell_type": "code",
   "execution_count": null,
   "id": "65602e17",
   "metadata": {},
   "outputs": [],
   "source": [
    "df['Variable_A'].fillna(df['Variable_B'].mean())"
   ]
  },
  {
   "cell_type": "code",
   "execution_count": null,
   "id": "995f680b",
   "metadata": {},
   "outputs": [],
   "source": [
    "tempm=df['Variable_A'].mean()\n",
    "tempm=df['Variable_A'].fillna(tempm)\n",
    "df"
   ]
  },
  {
   "cell_type": "code",
   "execution_count": null,
   "id": "0033323d",
   "metadata": {},
   "outputs": [],
   "source": [
    "tempm=df[\"Variable_A\"].mean()\n",
    "df[\"Variable_A\"]=df[\"Variable_A\"].fillna(tempm)\n",
    "df"
   ]
  },
  {
   "cell_type": "code",
   "execution_count": null,
   "id": "f9ae3fa7",
   "metadata": {},
   "outputs": [],
   "source": [
    "df[0:5]"
   ]
  },
  {
   "cell_type": "code",
   "execution_count": null,
   "id": "a4b812ad",
   "metadata": {},
   "outputs": [],
   "source": [
    "df[2:7]"
   ]
  },
  {
   "cell_type": "code",
   "execution_count": null,
   "id": "e7cc8ef7",
   "metadata": {},
   "outputs": [],
   "source": [
    "df[\"Variable_A\"]"
   ]
  },
  {
   "cell_type": "code",
   "execution_count": null,
   "id": "b2c969ad",
   "metadata": {},
   "outputs": [],
   "source": [
    "df[[\"Variable_C\",\"Variable_A\",\"Variable_B\"]]"
   ]
  },
  {
   "cell_type": "code",
   "execution_count": null,
   "id": "8b087c77",
   "metadata": {},
   "outputs": [],
   "source": [
    "# needs both rows and columns on index subsetting  (R,C)\n",
    "# index based subsetting(iloc)\n",
    "df.iloc[0:5,1:3]"
   ]
  },
  {
   "cell_type": "code",
   "execution_count": null,
   "id": "8a0a0425",
   "metadata": {},
   "outputs": [],
   "source": [
    "df.iloc[0:5,:]"
   ]
  },
  {
   "cell_type": "code",
   "execution_count": null,
   "id": "c1230f34",
   "metadata": {},
   "outputs": [],
   "source": [
    "df.iloc[,1:3]"
   ]
  },
  {
   "cell_type": "code",
   "execution_count": null,
   "id": "c25092b2",
   "metadata": {},
   "outputs": [],
   "source": [
    "df.iloc[:,1:3]"
   ]
  },
  {
   "cell_type": "code",
   "execution_count": null,
   "id": "9f99140e",
   "metadata": {},
   "outputs": [],
   "source": [
    "df.loc[1:5,\"Variable_A\"]"
   ]
  },
  {
   "cell_type": "code",
   "execution_count": null,
   "id": "728d6869",
   "metadata": {},
   "outputs": [],
   "source": [
    "df.loc[1:5,[\"Variable_A\",\"Variable_B\"]]"
   ]
  },
  {
   "cell_type": "code",
   "execution_count": null,
   "id": "5b085d02",
   "metadata": {},
   "outputs": [],
   "source": [
    "df[\"Variable_A\"]>2"
   ]
  },
  {
   "cell_type": "code",
   "execution_count": null,
   "id": "2d53c106",
   "metadata": {},
   "outputs": [],
   "source": [
    "df[df[\"Variable_A\"]>2]"
   ]
  },
  {
   "cell_type": "code",
   "execution_count": null,
   "id": "9e5cf159",
   "metadata": {},
   "outputs": [],
   "source": [
    "df[\"Variable_A\"][df[\"Variable_A\"]>2]        #display the value that will be true"
   ]
  },
  {
   "cell_type": "code",
   "execution_count": null,
   "id": "86cfbb20",
   "metadata": {},
   "outputs": [],
   "source": [
    "df.columns"
   ]
  },
  {
   "cell_type": "code",
   "execution_count": null,
   "id": "8cece2c6",
   "metadata": {},
   "outputs": [],
   "source": [
    "df1=df.rename(columns={\"Variable_A\":\"Variable_A_new\",\"Variable_B\":\"Variable_B_new\",\"Variable_C\":\"Variable_C_new\",\n",
    "                   \"Variable_D\":\"Variable_D_new\",\"Variable_E\":\"Variable_E_new\",\"Variable_F\":\"Variable_F_new\"})   #To rename\n",
    "df1"
   ]
  },
  {
   "cell_type": "code",
   "execution_count": null,
   "id": "5c40dbec",
   "metadata": {},
   "outputs": [],
   "source": [
    "df1[\"Variable_F_new\"]=df1[\"Variable_A_new\"]*10\n",
    "df1[\"Variable_F_new\"]"
   ]
  },
  {
   "cell_type": "code",
   "execution_count": null,
   "id": "10ee1a3c",
   "metadata": {},
   "outputs": [],
   "source": [
    "df1.drop([\"Variable_A_new\"],axis=1)\n",
    "df1"
   ]
  },
  {
   "cell_type": "code",
   "execution_count": null,
   "id": "5e1feb6e",
   "metadata": {},
   "outputs": [],
   "source": [
    "df1.drop([\"Variable_B_new\"],axis=1,inplace=True)\n",
    "df1"
   ]
  },
  {
   "cell_type": "code",
   "execution_count": null,
   "id": "3d770c28",
   "metadata": {},
   "outputs": [],
   "source": [
    "df1.drop(11,axis=0)"
   ]
  },
  {
   "cell_type": "code",
   "execution_count": null,
   "id": "a034abcd",
   "metadata": {},
   "outputs": [],
   "source": [
    "df.drop([1,3],axis=0)"
   ]
  },
  {
   "cell_type": "code",
   "execution_count": null,
   "id": "65a6245f",
   "metadata": {},
   "outputs": [],
   "source": [
    "df_copy=df.copy()\n",
    "df_copy"
   ]
  },
  {
   "cell_type": "code",
   "execution_count": null,
   "id": "b0201eb4",
   "metadata": {},
   "outputs": [],
   "source": [
    "# concat()\n",
    "\n",
    "row=pd.concat([df,df_copy],axis=0)\n",
    "col=pd.concat([df,df_copy],axis=1)"
   ]
  },
  {
   "cell_type": "code",
   "execution_count": null,
   "id": "70197294",
   "metadata": {},
   "outputs": [],
   "source": [
    "row"
   ]
  },
  {
   "cell_type": "code",
   "execution_count": null,
   "id": "5ac25a06",
   "metadata": {},
   "outputs": [],
   "source": [
    "col"
   ]
  },
  {
   "cell_type": "code",
   "execution_count": null,
   "id": "440d967e",
   "metadata": {},
   "outputs": [],
   "source": [
    "print(df.shape,df_copy.shape)"
   ]
  },
  {
   "cell_type": "code",
   "execution_count": null,
   "id": "bc6a72ee",
   "metadata": {},
   "outputs": [],
   "source": [
    "row.shape"
   ]
  },
  {
   "cell_type": "code",
   "execution_count": null,
   "id": "2efc9341",
   "metadata": {},
   "outputs": [],
   "source": [
    "col.shape"
   ]
  },
  {
   "cell_type": "code",
   "execution_count": null,
   "id": "16379f34",
   "metadata": {},
   "outputs": [],
   "source": [
    "df.groupby(\"Variable_E\").count()"
   ]
  },
  {
   "cell_type": "code",
   "execution_count": null,
   "id": "13baaff1",
   "metadata": {},
   "outputs": [],
   "source": [
    "df.groupby(\"Variable_E\")[\"Variable_A\"].mean()"
   ]
  },
  {
   "cell_type": "code",
   "execution_count": null,
   "id": "291b3416",
   "metadata": {},
   "outputs": [],
   "source": [
    "df[\"Variable_E\"].value_counts()"
   ]
  },
  {
   "cell_type": "code",
   "execution_count": null,
   "id": "4801b4aa",
   "metadata": {},
   "outputs": [],
   "source": [
    "df[\"Variable_E\"].count()"
   ]
  },
  {
   "cell_type": "code",
   "execution_count": null,
   "id": "38d07b85",
   "metadata": {},
   "outputs": [],
   "source": [
    "# numpy"
   ]
  },
  {
   "cell_type": "code",
   "execution_count": null,
   "id": "a80807b5",
   "metadata": {},
   "outputs": [],
   "source": [
    "import numpy as np"
   ]
  },
  {
   "cell_type": "code",
   "execution_count": null,
   "id": "e11477cd",
   "metadata": {},
   "outputs": [],
   "source": [
    "print(np.char.center('hellio',20,fillchar='-'))"
   ]
  },
  {
   "cell_type": "code",
   "execution_count": null,
   "id": "df125667",
   "metadata": {},
   "outputs": [],
   "source": [
    "print(np.char.capitalize(\"hello World\"))"
   ]
  },
  {
   "cell_type": "code",
   "execution_count": null,
   "id": "51658c85",
   "metadata": {},
   "outputs": [],
   "source": []
  },
  {
   "cell_type": "code",
   "execution_count": null,
   "id": "a1194798",
   "metadata": {},
   "outputs": [],
   "source": [
    "print(np.char.title('how are you?'))"
   ]
  },
  {
   "cell_type": "code",
   "execution_count": null,
   "id": "f46203c7",
   "metadata": {},
   "outputs": [],
   "source": [
    "print(np.char.split('are you coming?'))"
   ]
  },
  {
   "cell_type": "code",
   "execution_count": null,
   "id": "7e80d57e",
   "metadata": {},
   "outputs": [],
   "source": [
    "print(np.char.lower('HOW ARE YOU?'))"
   ]
  },
  {
   "cell_type": "code",
   "execution_count": null,
   "id": "6f89ddfe",
   "metadata": {},
   "outputs": [],
   "source": [
    "print(np.char.upper('how are you?'))"
   ]
  },
  {
   "cell_type": "code",
   "execution_count": null,
   "id": "66a88730",
   "metadata": {},
   "outputs": [],
   "source": [
    "print(np.char.strip(['Nina','admin','anita'],'a'))"
   ]
  },
  {
   "cell_type": "code",
   "execution_count": null,
   "id": "523b1139",
   "metadata": {},
   "outputs": [],
   "source": [
    "print(np.char.join([':','-'],['day','yad']))"
   ]
  },
  {
   "cell_type": "code",
   "execution_count": null,
   "id": "307b0178",
   "metadata": {},
   "outputs": [],
   "source": [
    "print(np.char.replace(\"He is a good boy\",'is','was'))"
   ]
  },
  {
   "cell_type": "code",
   "execution_count": null,
   "id": "80d8d0d9",
   "metadata": {},
   "outputs": [],
   "source": [
    "# rollaxis\n",
    "value=np.zeros((1,2,3,4,5,6,7,8,9,10))\n",
    "val=np.rollaxis(value,5).shape\n",
    "print(val)"
   ]
  },
  {
   "cell_type": "code",
   "execution_count": null,
   "id": "d6232026",
   "metadata": {},
   "outputs": [],
   "source": [
    "# swapaxis\n",
    "value=np.ones((1,2,3,4,5,6,7,8,9,10))\n",
    "val=np.swapaxes(value,5,6).shape\n",
    "print(val)"
   ]
  },
  {
   "cell_type": "code",
   "execution_count": null,
   "id": "8b60d0b3",
   "metadata": {},
   "outputs": [],
   "source": [
    "a=np.array((1,2,3,4,5))\n",
    "b=np.array((5,6,7,8,9))\n",
    "c=np.add(a,b)\n",
    "print(c)"
   ]
  },
  {
   "cell_type": "code",
   "execution_count": null,
   "id": "c6797672",
   "metadata": {},
   "outputs": [],
   "source": [
    "a=np.array((1,2,3,4,5))\n",
    "b=np.array((5,6,7,8,9))\n",
    "c=np.subtract(a,b)\n",
    "print(c)"
   ]
  },
  {
   "cell_type": "code",
   "execution_count": null,
   "id": "6e1c65e6",
   "metadata": {},
   "outputs": [],
   "source": [
    "a=np.array((1,2,3,4,5))\n",
    "b=np.array((5,6,7,8,9))\n",
    "c=np.divide(a,b)\n",
    "print(c)"
   ]
  },
  {
   "cell_type": "code",
   "execution_count": null,
   "id": "3d9c11cb",
   "metadata": {},
   "outputs": [],
   "source": [
    "a=np.array((1,2,3,4,5))\n",
    "b=np.array((5,6,7,8,9))\n",
    "c=np.multiply(a,b)\n",
    "print(c)"
   ]
  },
  {
   "cell_type": "code",
   "execution_count": null,
   "id": "ab8157eb",
   "metadata": {},
   "outputs": [],
   "source": [
    "se=(\"a\",\"b\",\"c\",\"d\",\"e\",\"f\",\"g\",\"h\",\"i\",\"j\",\"k\",\"l\")\n",
    "x=slice(3,10,2)\n",
    "print(se[x])"
   ]
  },
  {
   "cell_type": "code",
   "execution_count": null,
   "id": "33436fe3",
   "metadata": {},
   "outputs": [],
   "source": [
    "# pandas"
   ]
  },
  {
   "cell_type": "code",
   "execution_count": null,
   "id": "609b40fe",
   "metadata": {},
   "outputs": [],
   "source": [
    "import pandas as pd"
   ]
  },
  {
   "cell_type": "code",
   "execution_count": null,
   "id": "03dcedc2",
   "metadata": {},
   "outputs": [],
   "source": [
    "data={'animal':['cat','dog','snake'],\n",
    "      'age':[2.5,3,np.nan],\n",
    "      'visits':[1,3,2],\n",
    "      'priority':['yes','no','yes']}\n",
    "labels=['a','b','c']\n",
    "df=pd.DataFrame(data,index=labels)\n",
    "df\n",
    "                "
   ]
  },
  {
   "cell_type": "code",
   "execution_count": null,
   "id": "4de557ec",
   "metadata": {},
   "outputs": [],
   "source": [
    "# matplotlib"
   ]
  },
  {
   "cell_type": "code",
   "execution_count": null,
   "id": "349d1df5",
   "metadata": {},
   "outputs": [],
   "source": [
    "from matplotlib import pyplot as plt\n",
    "a=np.array([2087,2020,4567,8900,4332,5678,2344,1123])\n",
    "plt.hist(a,bins=[0,10,20,30,40,50,60,70,80,90,100])                      # buckets\n",
    "plt.title(\"Histograms\")\n",
    "plt.show()"
   ]
  },
  {
   "cell_type": "code",
   "execution_count": null,
   "id": "cda29f4a",
   "metadata": {},
   "outputs": [],
   "source": [
    "import numpy as np\n",
    "from matplotlib import pyplot as plt\n",
    "x=np.arange(0,3*np.pi,0.1)\n",
    "y=np.sin(x)\n",
    "z=np.cos(y,z)\n",
    "plt.plot(x,y,z)\n",
    "plt.show()"
   ]
  },
  {
   "cell_type": "code",
   "execution_count": null,
   "id": "dddadceb",
   "metadata": {},
   "outputs": [],
   "source": [
    "from matplotlib import pylab"
   ]
  },
  {
   "cell_type": "code",
   "execution_count": null,
   "id": "bbcdffa0",
   "metadata": {},
   "outputs": [],
   "source": [
    "print(plt.__version__)"
   ]
  },
  {
   "cell_type": "code",
   "execution_count": null,
   "id": "568fff16",
   "metadata": {},
   "outputs": [],
   "source": [
    "import numpy as np\n",
    "import pandas as pd"
   ]
  },
  {
   "cell_type": "code",
   "execution_count": null,
   "id": "7c4bb455",
   "metadata": {},
   "outputs": [],
   "source": [
    "x=np.linspace(0,10,10)\n",
    "y=x*x+2\n",
    "print(x)\n",
    "print(y)"
   ]
  },
  {
   "cell_type": "code",
   "execution_count": null,
   "id": "acc765ef",
   "metadata": {},
   "outputs": [],
   "source": [
    "print(np.array([x,y]).reshape(10,2).reshape(5,4))"
   ]
  },
  {
   "cell_type": "code",
   "execution_count": null,
   "id": "49378005",
   "metadata": {},
   "outputs": [],
   "source": [
    "# command to draw\n",
    "\n",
    "pylab.plot(x,y,'r')"
   ]
  },
  {
   "cell_type": "code",
   "execution_count": null,
   "id": "8f8108ed",
   "metadata": {},
   "outputs": [],
   "source": [
    "# drawing a subgraph\n",
    "\n",
    "pylab.subplot(1,1,1)                  # pylab for images-row,col,ind\n",
    "pylab.plot(x,y,'r--')"
   ]
  },
  {
   "cell_type": "code",
   "execution_count": null,
   "id": "66620eab",
   "metadata": {},
   "outputs": [],
   "source": [
    "pylab.subplot(1,1,1)\n",
    "pylab.plot(y,x,'g--')"
   ]
  },
  {
   "cell_type": "code",
   "execution_count": null,
   "id": "63fb0b50",
   "metadata": {},
   "outputs": [],
   "source": [
    "pylab.subplot(1,2,2)               # row , col, ind\n",
    "pylab.plot(y,x,'g--')              # data,color,style"
   ]
  },
  {
   "cell_type": "code",
   "execution_count": null,
   "id": "47458ab7",
   "metadata": {},
   "outputs": [],
   "source": [
    "from matplotlib import pyplot as plt\n",
    "import numpy as np"
   ]
  },
  {
   "cell_type": "code",
   "execution_count": null,
   "id": "4b1ddb2a",
   "metadata": {},
   "outputs": [],
   "source": [
    "from matplotlib import pyplot as plt\n",
    "\n",
    "fig=plt.figure()\n",
    "axes=fig.add_axes([0.5,0.1,0.8,0.8])\n",
    "\n",
    "axes.plot(x,y,'r--')"
   ]
  },
  {
   "cell_type": "code",
   "execution_count": null,
   "id": "493c4293",
   "metadata": {},
   "outputs": [],
   "source": [
    "# subgraphs\n",
    "\n",
    "fig,axes=plt.subplots(nrows=1,ncols=2)\n",
    "x=[1,2,3,4,5,6]\n",
    "y=[x**2 for x in x]\n",
    "for ax in axes:\n",
    "    ax.plot(x,y,'r--')"
   ]
  },
  {
   "cell_type": "code",
   "execution_count": null,
   "id": "d2a3c4a6",
   "metadata": {},
   "outputs": [],
   "source": [
    "fig=plt.figure()\n",
    "axes1=fig.add_axes([0.1,0.1,0.8,0.8])\n",
    "axes2=fig.add_axes([0.2,0.5,0.5,0.3])\n",
    "\n",
    "axes1.plot(x,y,'r--')\n",
    "axes2.plot(y,x,'g--')"
   ]
  },
  {
   "cell_type": "code",
   "execution_count": null,
   "id": "8b49a2f8",
   "metadata": {},
   "outputs": [],
   "source": [
    "fig=plt.figure(figsize=(16,9),dpi=300)\n",
    "fig.add_subplot()\n",
    "plt.plot(x,y,'r--')"
   ]
  },
  {
   "cell_type": "code",
   "execution_count": null,
   "id": "3be451fb",
   "metadata": {},
   "outputs": [],
   "source": [
    "fig,axes=plt.subplots()\n",
    "axes.set_title(\"title of graph\")\n",
    "axes.set_xlabel(\"X\")\n",
    "axes.set_ylabel(\"Y\")\n",
    "axes.plot(x,y,'r--')"
   ]
  },
  {
   "cell_type": "code",
   "execution_count": null,
   "id": "f47e0445",
   "metadata": {},
   "outputs": [],
   "source": [
    "fig,axes=plt.subplots()\n",
    "axes.set_title(\"title of graph\")\n",
    "axes.set_xlabel(\"X\")\n",
    "axes.set_ylabel(\"Y\")\n",
    "axes.plot(x,y,'r')\n",
    "axes.legend([\"x=x**2\",'y=y**2'],loc=2)"
   ]
  },
  {
   "cell_type": "code",
   "execution_count": null,
   "id": "0dfce7a0",
   "metadata": {},
   "outputs": [],
   "source": [
    "fig,axes=plt.subplots(dpi=150)\n",
    "axes.plot(x,color='red',alpha=1)"
   ]
  },
  {
   "cell_type": "code",
   "execution_count": null,
   "id": "41d06682",
   "metadata": {},
   "outputs": [],
   "source": [
    "# Matplotlib is a desktop publishing package mainly designed for 2-d publication.\n",
    "# Matplot is a python package for 2D plotting that generates production ready graphics.\n",
    "# It supports interactive and non-interactive plotting and can save images in several output formats.\n",
    "# It provides a wide variety of plots such as line,histogram and pie-charts.\n"
   ]
  },
  {
   "cell_type": "code",
   "execution_count": null,
   "id": "c75af127",
   "metadata": {},
   "outputs": [],
   "source": [
    "import matplotlib.pyplot as plt\n",
    "import numpy as np\n",
    "x=np.arange(1,10)\n",
    "print(x)\n",
    "plt.plot(x)"
   ]
  },
  {
   "cell_type": "code",
   "execution_count": null,
   "id": "60bfea4d",
   "metadata": {},
   "outputs": [],
   "source": [
    "x=np.arange(1,10)\n",
    "y=[x**2 for x in x]\n",
    "print(x,y)\n",
    "plt.plot(x,y)"
   ]
  },
  {
   "cell_type": "code",
   "execution_count": null,
   "id": "98f17854",
   "metadata": {},
   "outputs": [],
   "source": [
    "x=np.arange(1,10)\n",
    "plt.plot(x,[x**2 for x in x])"
   ]
  },
  {
   "cell_type": "code",
   "execution_count": null,
   "id": "975bb700",
   "metadata": {},
   "outputs": [],
   "source": [
    "x=np.arange(1,10)\n",
    "print(x,y)\n",
    "plt.plot(x,[x**2 for x in x])\n",
    "plt.plot(x,[x**3 for x in x])\n",
    "plt.plot(x,[x**4 for x in x])\n"
   ]
  },
  {
   "cell_type": "code",
   "execution_count": null,
   "id": "dd32feb5",
   "metadata": {},
   "outputs": [],
   "source": [
    "# grid()  -  It displays the grid,by def True.\n",
    "\n",
    "x=np.arange(5,6,0.1)\n",
    "print(x)\n",
    "plt.plot(x)\n",
    "plt.grid(True)"
   ]
  },
  {
   "cell_type": "code",
   "execution_count": null,
   "id": "07037b8f",
   "metadata": {},
   "outputs": [],
   "source": [
    "# xlabel - It will display label of x axis\n",
    "# ylabel - It will display label of y axis\n",
    "\n",
    "plt.plot(x,[x**2 for x in x])\n",
    "plt.grid(True)\n",
    "plt.xlabel(\"X Axis\")\n",
    "plt.ylabel(\"Y Axis\")"
   ]
  },
  {
   "cell_type": "code",
   "execution_count": null,
   "id": "c2b27637",
   "metadata": {},
   "outputs": [],
   "source": [
    "# Title - It displays the title of the graph\n",
    "\n",
    "plt.plot(x,[x**3 for x in x])\n",
    "plt.grid(True)\n",
    "plt.title(\"MyGraph\")\n",
    "plt.xlabel(\"X\")\n",
    "plt.ylabel(\"Y\")"
   ]
  },
  {
   "cell_type": "code",
   "execution_count": null,
   "id": "437d2f11",
   "metadata": {},
   "outputs": [],
   "source": [
    "# axis - It displays the axis. We can also provide own axis"
   ]
  },
  {
   "cell_type": "code",
   "execution_count": null,
   "id": "cd504fcf",
   "metadata": {},
   "outputs": [],
   "source": [
    "plt.plot(x,[x*25 for x in x])\n",
    "plt.title(\"Graph\")\n",
    "plt.axis([4.5,6.5,100,150])\n",
    "print([x*25 for x in x])\n"
   ]
  },
  {
   "cell_type": "code",
   "execution_count": null,
   "id": "5df67e96",
   "metadata": {},
   "outputs": [],
   "source": [
    "x=np.arange(1,10)\n",
    "\n",
    "plt.plot(x,[x**2 for x in x],label='y=x*2')\n",
    "plt.plot(x,[x**3 for x in x],label='y=x*3')\n",
    "plt.plot(x,[x**4 for x in x],label='y=x**4')\n",
    "\n",
    "plt.legend()"
   ]
  },
  {
   "cell_type": "code",
   "execution_count": null,
   "id": "59683098",
   "metadata": {},
   "outputs": [],
   "source": [
    "x=np.arange(0.0,6.0,0.01)\n",
    "\n",
    "plt.plot(x,[x**2 for x in x],label='sq')\n",
    "plt.plot(x,[x**3 for x in x],label='cube')\n",
    "plt.plot(x,[x**4 for x in x],label='4th')\n",
    "\n",
    "plt.legend()\n",
    "plt.legend(loc='upper left')"
   ]
  },
  {
   "cell_type": "code",
   "execution_count": null,
   "id": "c6ffbf0d",
   "metadata": {},
   "outputs": [],
   "source": [
    "# customized - line,color and marker\n",
    "\n",
    "x=np.arange(0.0,6.0,0.01)\n",
    "\n",
    "plt.plot(x,[x**2 for x in x],'r--',label='Square')\n",
    "plt.plot(x,[x**3 for x in x],'y--',label='Cube')\n",
    "plt.plot(x,[x**4 for x in x],'g--',label='4th Power')\n",
    "\n",
    "plt.legend(loc='center')"
   ]
  },
  {
   "cell_type": "code",
   "execution_count": null,
   "id": "bcc3a3f3",
   "metadata": {},
   "outputs": [],
   "source": [
    "x=np.arange(0,6,1)\n",
    "\n",
    "plt.plot(x,[x**2 for x in x],'r--',label='sq')\n",
    "plt.plot(x,[x**3 for x in x],'y-D',label='cube')\n",
    "plt.plot(x,[x**4 for x in x],'g:',label='4th power')\n",
    "plt.legend()"
   ]
  },
  {
   "cell_type": "code",
   "execution_count": null,
   "id": "317c76a5",
   "metadata": {},
   "outputs": [],
   "source": [
    "# color, line and marker\n",
    "\n",
    "x=np.arange(1,25)\n",
    "\n",
    "plt.plot(x,[x*2 for x in x],'r-s',label='square')\n",
    "plt.plot(x,[x*3 for x in x],'y-D',label='Cube')\n",
    "plt.plot(x,[x*4 for x in x],'g:+',label='4th power')\n",
    "\n",
    "plt.legend()"
   ]
  },
  {
   "cell_type": "code",
   "execution_count": null,
   "id": "b4ff6c11",
   "metadata": {},
   "outputs": [],
   "source": [
    "# histogram - hist()-- quantitative/continuos\n",
    "\n",
    "x=np.random.randn(1000)\n",
    "plt.hist(x)"
   ]
  },
  {
   "cell_type": "code",
   "execution_count": null,
   "id": "b99858e1",
   "metadata": {},
   "outputs": [],
   "source": [
    "plt.bar([1,2,3,6],[3,2,5,1])"
   ]
  },
  {
   "cell_type": "code",
   "execution_count": null,
   "id": "35b46385",
   "metadata": {},
   "outputs": [],
   "source": [
    "# piechart -- pie()\n",
    "\n",
    "plt.figure(figsize=(50,50))\n",
    "names=['Rs','Js','Ps','Gs']\n",
    "score=[78,90,99,45]\n",
    "plt.pie(score,labels=names,autopct='%2.1f%%')"
   ]
  },
  {
   "cell_type": "code",
   "execution_count": null,
   "id": "e7fd58a1",
   "metadata": {},
   "outputs": [],
   "source": [
    "# scatterplot - Two continuous columns"
   ]
  },
  {
   "cell_type": "code",
   "execution_count": null,
   "id": "359a6403",
   "metadata": {},
   "outputs": [],
   "source": [
    "x=np.random.randn(200)\n",
    "y=np.random.randn(200)\n",
    "plt.scatter(x,y)"
   ]
  },
  {
   "cell_type": "code",
   "execution_count": null,
   "id": "8c10ffe7",
   "metadata": {},
   "outputs": [],
   "source": [
    "x=np.arange(1,10)\n",
    "plt.plot(x)\n",
    "plt.text(1.5,6,\"lineGraph\")          #x,y"
   ]
  },
  {
   "cell_type": "code",
   "execution_count": null,
   "id": "cc7c5289",
   "metadata": {},
   "outputs": [],
   "source": [
    "x=np.random.randint(0,10,2)\n",
    "plt.figure()\n",
    "plt.hist(x)"
   ]
  },
  {
   "cell_type": "code",
   "execution_count": null,
   "id": "94acbeb9",
   "metadata": {},
   "outputs": [],
   "source": [
    "# subplotting - dividing plots"
   ]
  },
  {
   "cell_type": "code",
   "execution_count": null,
   "id": "20091692",
   "metadata": {},
   "outputs": [],
   "source": [
    "fig,axes=plt.subplots(2,2,figsize=(8,8))\n",
    "axes[1,1].plot(x,[x**2 for x in x])"
   ]
  },
  {
   "cell_type": "code",
   "execution_count": null,
   "id": "ab4ee328",
   "metadata": {},
   "outputs": [],
   "source": [
    "fig,axes=plt.subplots(2,2,figsize=(8,8))\n",
    "axes[0,1].plot(x,[x*2 for x in x])"
   ]
  },
  {
   "cell_type": "code",
   "execution_count": null,
   "id": "8443aeed",
   "metadata": {},
   "outputs": [],
   "source": [
    "areas=['Marketing','Sales','Development','Hr','Customer Support']\n",
    "budget=[2.5,4,4,4.6,6.5]\n",
    "plt.pie(budget,labels=areas,autopct=\"%1.1f%%\")\n",
    "plt.title(\"Pie-chart\")\n",
    "plt.show()"
   ]
  },
  {
   "cell_type": "code",
   "execution_count": null,
   "id": "bb433ba1",
   "metadata": {},
   "outputs": [],
   "source": [
    "x=[23,45,67,89]\n",
    "y=[82,13,14,15]\n",
    "plt.scatter(x,y)"
   ]
  },
  {
   "cell_type": "code",
   "execution_count": null,
   "id": "1a9535fb",
   "metadata": {},
   "outputs": [],
   "source": [
    "age=[2,10,15,16]\n",
    "salary=[20000,10000,50000,30000]\n",
    "plt.bar(age,salary,color=\"yellow\")\n",
    "plt.xlabel(\"Age\")\n",
    "plt.ylabel(\"Salary\")\n",
    "plt.title(\"AGe vs Salary\")\n",
    "plt.show()"
   ]
  },
  {
   "cell_type": "code",
   "execution_count": null,
   "id": "b01e57a8",
   "metadata": {},
   "outputs": [],
   "source": [
    "product_id=[1,2,3,4,5,6,7,8]\n",
    "online_p=[233,456,770,120,222,444,200,200]\n",
    "plt.plot(product_id,color='red',marker='D',label='product_id')\n",
    "plt.plot(online_p,color='blue',marker='+',label='online_p')\n",
    "plt.plot(product_id,online_p,color='green',marker='D',label='online_p')\n",
    "plt.legend()\n",
    "plt.xlabel(\"Products\")\n",
    "plt.ylabel(\"Prices\")\n",
    "plt.title(\"Products vs Price\")"
   ]
  },
  {
   "cell_type": "code",
   "execution_count": null,
   "id": "35878772",
   "metadata": {},
   "outputs": [],
   "source": [
    "year=[2012,2013,2014,2015,2016,2017,2018,2019,2020]\n",
    "price=[2000,3000,4000,5000,6000,7000,8000,9000,10000]\n",
    "plt.bar(year,price,color='green',label=\"Price\")\n",
    "plt.legend()\n",
    "plt.xlabel(\"year\")\n",
    "plt.ylabel(\"Price\")\n",
    "plt.title(\"year vs price\")\n",
    "plt.show()"
   ]
  },
  {
   "cell_type": "code",
   "execution_count": null,
   "id": "f0f58d82",
   "metadata": {},
   "outputs": [],
   "source": [
    "from scipy import stats\n",
    "import pandas as pd\n",
    "import seaborn as sns \n",
    "import numpy as np\n",
    "import matplotlib.pyplot as plt"
   ]
  },
  {
   "cell_type": "code",
   "execution_count": null,
   "id": "be765033",
   "metadata": {},
   "outputs": [],
   "source": [
    "# import the data\n",
    "\n",
    "df=sns.load_dataset(\"iris\")\n",
    "df"
   ]
  },
  {
   "cell_type": "code",
   "execution_count": null,
   "id": "6a1c8b97",
   "metadata": {},
   "outputs": [],
   "source": [
    "df.head()"
   ]
  },
  {
   "cell_type": "code",
   "execution_count": null,
   "id": "c78c2e0b",
   "metadata": {},
   "outputs": [],
   "source": [
    "df.tail()"
   ]
  },
  {
   "cell_type": "code",
   "execution_count": null,
   "id": "a8ebab88",
   "metadata": {},
   "outputs": [],
   "source": [
    "df['species'].value_counts()"
   ]
  },
  {
   "cell_type": "code",
   "execution_count": null,
   "id": "fceec890",
   "metadata": {},
   "outputs": [],
   "source": [
    "setosa=df[(df['species']=='setosa')]\n",
    "setosa.shape\n"
   ]
  },
  {
   "cell_type": "code",
   "execution_count": null,
   "id": "649dc3e8",
   "metadata": {},
   "outputs": [],
   "source": [
    "versicolor=df[(df['species']=='versicolor')]\n",
    "versicolor.shape"
   ]
  },
  {
   "cell_type": "code",
   "execution_count": null,
   "id": "37feb93d",
   "metadata": {},
   "outputs": [],
   "source": [
    "virginica=df[(df['species']=='virginica')]\n",
    "virginica.shape"
   ]
  },
  {
   "cell_type": "code",
   "execution_count": null,
   "id": "75711e54",
   "metadata": {},
   "outputs": [],
   "source": [
    "setosa['sepal_width']=setosa['sepal_width'].sample(28)\n",
    "versicolor['sepal_width']=versicolor['sepal_width'].sample(28)\n"
   ]
  },
  {
   "cell_type": "code",
   "execution_count": null,
   "id": "d7bcc53c",
   "metadata": {},
   "outputs": [],
   "source": [
    "print(np.mean(setosa['sepal_width']))\n",
    "print(np.mean(versicolor['sepal_width']))"
   ]
  },
  {
   "cell_type": "code",
   "execution_count": null,
   "id": "8d21f9eb",
   "metadata": {},
   "outputs": [],
   "source": [
    "H0=\"Mean value of both distributions is same\"\n",
    "H1=\"Mean value is different\""
   ]
  },
  {
   "cell_type": "code",
   "execution_count": null,
   "id": "0f5e08d2",
   "metadata": {},
   "outputs": [],
   "source": [
    "tvalue,pvalue=stats.ttest_ind(setosa['sepal_width'], versicolor['sepal_width'])"
   ]
  },
  {
   "cell_type": "code",
   "execution_count": null,
   "id": "2407e1b5",
   "metadata": {},
   "outputs": [],
   "source": [
    "pvalue"
   ]
  },
  {
   "cell_type": "code",
   "execution_count": null,
   "id": "1f0c25a3",
   "metadata": {},
   "outputs": [],
   "source": [
    "tvalue"
   ]
  },
  {
   "cell_type": "code",
   "execution_count": null,
   "id": "aa5c86d3",
   "metadata": {},
   "outputs": [],
   "source": [
    "# skewness/kurtosis\n",
    "data = pd.read_csv(\"C:\\\\Users\\\\hp\\\\Documents\\\\DaTa sci\\\\STATISTICS\\\\housing data.csv\")\n",
    "data"
   ]
  },
  {
   "cell_type": "code",
   "execution_count": null,
   "id": "87b868d2",
   "metadata": {},
   "outputs": [],
   "source": [
    "data.shape"
   ]
  },
  {
   "cell_type": "code",
   "execution_count": null,
   "id": "b2efd305",
   "metadata": {},
   "outputs": [],
   "source": [
    "data['SalePrice'].head()"
   ]
  },
  {
   "cell_type": "code",
   "execution_count": null,
   "id": "e9bb0f22",
   "metadata": {},
   "outputs": [],
   "source": [
    "sns.distplot(data['SalePrice'])\n",
    "print('Skewnewss: ',data['SalePrice'].skew())\n",
    "print('Kurtosis: ',data['SalePrice'].kurtosis())\n",
    "plt.show()\n",
    "import warnings\n",
    "warnings.filterwarnings('ignore')"
   ]
  },
  {
   "cell_type": "code",
   "execution_count": null,
   "id": "7933e970",
   "metadata": {},
   "outputs": [],
   "source": [
    "# ztest"
   ]
  },
  {
   "cell_type": "code",
   "execution_count": null,
   "id": "a3575cba",
   "metadata": {},
   "outputs": [],
   "source": [
    "data[data['OverallQual']<=5]['SalePrice']"
   ]
  },
  {
   "cell_type": "code",
   "execution_count": null,
   "id": "e912498a",
   "metadata": {},
   "outputs": [],
   "source": [
    "price_a=data[data['OverallQual']<=5]['SalePrice']\n",
    "price_b=data[data['OverallQual']<=5]['SalePrice']"
   ]
  },
  {
   "cell_type": "code",
   "execution_count": null,
   "id": "ecfcca6d",
   "metadata": {},
   "outputs": [],
   "source": [
    "data[data['OverallQual']<=5]['SalePrice']"
   ]
  },
  {
   "cell_type": "code",
   "execution_count": null,
   "id": "dafe7a74",
   "metadata": {},
   "outputs": [],
   "source": [
    "print(price_a)"
   ]
  },
  {
   "cell_type": "code",
   "execution_count": null,
   "id": "b637de44",
   "metadata": {},
   "outputs": [],
   "source": [
    "from statsmodels.stats.weightstats import ztest"
   ]
  },
  {
   "cell_type": "code",
   "execution_count": null,
   "id": "48ddf564",
   "metadata": {},
   "outputs": [],
   "source": [
    "z_score,p_val = ztest(price_a,price_b)\n",
    "if p_val>0.05:\n",
    "    print('Ho: is True (There is no difference in price on the basis of Overall Qual)')\n",
    "else:\n",
    "    print('Ha: is True (The sales price different because of overall Qual)')"
   ]
  },
  {
   "cell_type": "code",
   "execution_count": null,
   "id": "08566e46",
   "metadata": {},
   "outputs": [],
   "source": [
    "print(p_val)"
   ]
  },
  {
   "cell_type": "code",
   "execution_count": null,
   "id": "6b41ecd7",
   "metadata": {},
   "outputs": [],
   "source": [
    "print(z_score)"
   ]
  },
  {
   "cell_type": "code",
   "execution_count": null,
   "id": "58b52cef",
   "metadata": {},
   "outputs": [],
   "source": [
    "# chi-square test"
   ]
  },
  {
   "cell_type": "code",
   "execution_count": null,
   "id": "8ba9af38",
   "metadata": {},
   "outputs": [],
   "source": [
    "data['GarageType'].value_counts()"
   ]
  },
  {
   "cell_type": "code",
   "execution_count": null,
   "id": "0d50fd84",
   "metadata": {},
   "outputs": [],
   "source": [
    "data['GarageCars'].value_counts()"
   ]
  },
  {
   "cell_type": "code",
   "execution_count": null,
   "id": "a12395da",
   "metadata": {},
   "outputs": [],
   "source": [
    "from scipy.stats import chi2_contingency"
   ]
  },
  {
   "cell_type": "code",
   "execution_count": null,
   "id": "46324d28",
   "metadata": {},
   "outputs": [],
   "source": [
    "observed=pd.crosstab(data['GarageCars'],data['GarageType'])\n",
    "observed"
   ]
  },
  {
   "cell_type": "code",
   "execution_count": null,
   "id": "4cd11a30",
   "metadata": {},
   "outputs": [],
   "source": [
    "chi,p_val,dof,expected = chi2_contingency(observed)"
   ]
  },
  {
   "cell_type": "code",
   "execution_count": null,
   "id": "4e3110f5",
   "metadata": {},
   "outputs": [],
   "source": [
    "expected"
   ]
  },
  {
   "cell_type": "code",
   "execution_count": null,
   "id": "4eb12292",
   "metadata": {},
   "outputs": [],
   "source": [
    "if p_val>0.05:\n",
    "    print('Ho: is True (Garage cars is independent of garage type)')\n",
    "else:\n",
    "    print('Ha: is True (Garage cars is dependent of garage type)')"
   ]
  },
  {
   "cell_type": "code",
   "execution_count": null,
   "id": "2f9f7d9c",
   "metadata": {},
   "outputs": [],
   "source": [
    "p_val"
   ]
  },
  {
   "cell_type": "code",
   "execution_count": null,
   "id": "eacd09dc",
   "metadata": {},
   "outputs": [],
   "source": [
    "# Anova\n",
    "\n",
    "df=sns.load_dataset(\"iris\")\n",
    "df"
   ]
  },
  {
   "cell_type": "code",
   "execution_count": null,
   "id": "bc9fa7a6",
   "metadata": {},
   "outputs": [],
   "source": [
    "setosa=df[df[\"species\"]=='setosa']['petal_length']\n",
    "versicolor=df[df[\"species\"]=='versicolor']['petal_length']\n",
    "virginica=df[df[\"species\"]=='virginica']['petal_length']"
   ]
  },
  {
   "cell_type": "code",
   "execution_count": null,
   "id": "17739a6a",
   "metadata": {},
   "outputs": [],
   "source": [
    "H0=\"mean value of petal_length of setosa,versicolor,virginica is same\"\n",
    "H1=\"mean value of petal_length of setosa,versicolor,virginica is different\""
   ]
  },
  {
   "cell_type": "code",
   "execution_count": null,
   "id": "bc9ee594",
   "metadata": {},
   "outputs": [],
   "source": [
    "import scipy.stats as stats "
   ]
  },
  {
   "cell_type": "code",
   "execution_count": null,
   "id": "97ba7182",
   "metadata": {},
   "outputs": [],
   "source": [
    "fvalue,pvalue=stats.f_oneway(setosa,versicolor,virginica)\n",
    "print(fvalue,pvalue)"
   ]
  },
  {
   "cell_type": "code",
   "execution_count": null,
   "id": "e3cf8e64",
   "metadata": {},
   "outputs": [],
   "source": [
    "if pvalue>=0.05:\n",
    "    print(H0)\n",
    "else:\n",
    "    print(H1)"
   ]
  },
  {
   "cell_type": "code",
   "execution_count": null,
   "id": "5b176981",
   "metadata": {},
   "outputs": [],
   "source": [
    "sns.boxplot(y=df['sepal_length'])"
   ]
  },
  {
   "cell_type": "code",
   "execution_count": null,
   "id": "bdeaf91b",
   "metadata": {},
   "outputs": [],
   "source": [
    "Q1=np.percentile(df['sepal_length'],q=25)\n",
    "Q3=np.percentile(df['sepal_length'],q=75)\n",
    "IQR=Q3-Q1\n",
    "IQR"
   ]
  },
  {
   "cell_type": "code",
   "execution_count": null,
   "id": "3094ee84",
   "metadata": {},
   "outputs": [],
   "source": [
    "IQR=np.percentile(df['sepal_length'],q=75)-np.percentile(df['sepal_length'],q=25)"
   ]
  },
  {
   "cell_type": "code",
   "execution_count": null,
   "id": "ee2ec4cc",
   "metadata": {},
   "outputs": [],
   "source": [
    "IQR"
   ]
  },
  {
   "cell_type": "code",
   "execution_count": null,
   "id": "11b04b18",
   "metadata": {},
   "outputs": [],
   "source": [
    "lb=Q1-1.5*IQR\n",
    "lb"
   ]
  },
  {
   "cell_type": "code",
   "execution_count": null,
   "id": "b5d17152",
   "metadata": {},
   "outputs": [],
   "source": [
    "up=Q3+1.5*IQR\n",
    "up"
   ]
  },
  {
   "cell_type": "code",
   "execution_count": null,
   "id": "7c9d1046",
   "metadata": {},
   "outputs": [],
   "source": [
    "# seaborn"
   ]
  },
  {
   "cell_type": "code",
   "execution_count": null,
   "id": "670618e8",
   "metadata": {},
   "outputs": [],
   "source": []
  },
  {
   "cell_type": "code",
   "execution_count": 2,
   "id": "8f870969",
   "metadata": {},
   "outputs": [],
   "source": [
    "import pandas as pd\n",
    "import numpy as np"
   ]
  },
  {
   "cell_type": "code",
   "execution_count": 3,
   "id": "4cd51ed9",
   "metadata": {},
   "outputs": [
    {
     "data": {
      "text/html": [
       "<div>\n",
       "<style scoped>\n",
       "    .dataframe tbody tr th:only-of-type {\n",
       "        vertical-align: middle;\n",
       "    }\n",
       "\n",
       "    .dataframe tbody tr th {\n",
       "        vertical-align: top;\n",
       "    }\n",
       "\n",
       "    .dataframe thead th {\n",
       "        text-align: right;\n",
       "    }\n",
       "</style>\n",
       "<table border=\"1\" class=\"dataframe\">\n",
       "  <thead>\n",
       "    <tr style=\"text-align: right;\">\n",
       "      <th></th>\n",
       "      <th>name</th>\n",
       "      <th>mpg</th>\n",
       "      <th>cyl</th>\n",
       "      <th>disp</th>\n",
       "      <th>hp</th>\n",
       "      <th>drat</th>\n",
       "      <th>wt</th>\n",
       "      <th>qsec</th>\n",
       "      <th>vs</th>\n",
       "      <th>am</th>\n",
       "      <th>gear</th>\n",
       "      <th>carb</th>\n",
       "      <th>Category</th>\n",
       "    </tr>\n",
       "  </thead>\n",
       "  <tbody>\n",
       "    <tr>\n",
       "      <th>0</th>\n",
       "      <td>Mazda RX4</td>\n",
       "      <td>21.0</td>\n",
       "      <td>6</td>\n",
       "      <td>160.0</td>\n",
       "      <td>110</td>\n",
       "      <td>3.90</td>\n",
       "      <td>2.620</td>\n",
       "      <td>16.46</td>\n",
       "      <td>0</td>\n",
       "      <td>1</td>\n",
       "      <td>4</td>\n",
       "      <td>4</td>\n",
       "      <td>A</td>\n",
       "    </tr>\n",
       "    <tr>\n",
       "      <th>1</th>\n",
       "      <td>Mazda RX4 Wag</td>\n",
       "      <td>21.0</td>\n",
       "      <td>6</td>\n",
       "      <td>160.0</td>\n",
       "      <td>110</td>\n",
       "      <td>3.90</td>\n",
       "      <td>2.875</td>\n",
       "      <td>17.02</td>\n",
       "      <td>0</td>\n",
       "      <td>1</td>\n",
       "      <td>4</td>\n",
       "      <td>4</td>\n",
       "      <td>B</td>\n",
       "    </tr>\n",
       "    <tr>\n",
       "      <th>2</th>\n",
       "      <td>Datsun 710</td>\n",
       "      <td>22.8</td>\n",
       "      <td>4</td>\n",
       "      <td>108.0</td>\n",
       "      <td>93</td>\n",
       "      <td>3.85</td>\n",
       "      <td>2.320</td>\n",
       "      <td>18.61</td>\n",
       "      <td>1</td>\n",
       "      <td>1</td>\n",
       "      <td>4</td>\n",
       "      <td>1</td>\n",
       "      <td>C</td>\n",
       "    </tr>\n",
       "    <tr>\n",
       "      <th>3</th>\n",
       "      <td>Hornet 4 Drive</td>\n",
       "      <td>21.4</td>\n",
       "      <td>6</td>\n",
       "      <td>258.0</td>\n",
       "      <td>110</td>\n",
       "      <td>3.08</td>\n",
       "      <td>3.215</td>\n",
       "      <td>19.44</td>\n",
       "      <td>1</td>\n",
       "      <td>0</td>\n",
       "      <td>3</td>\n",
       "      <td>1</td>\n",
       "      <td>B</td>\n",
       "    </tr>\n",
       "    <tr>\n",
       "      <th>4</th>\n",
       "      <td>Hornet Sportabout</td>\n",
       "      <td>18.7</td>\n",
       "      <td>8</td>\n",
       "      <td>360.0</td>\n",
       "      <td>175</td>\n",
       "      <td>3.15</td>\n",
       "      <td>3.440</td>\n",
       "      <td>17.02</td>\n",
       "      <td>0</td>\n",
       "      <td>0</td>\n",
       "      <td>3</td>\n",
       "      <td>2</td>\n",
       "      <td>C</td>\n",
       "    </tr>\n",
       "    <tr>\n",
       "      <th>5</th>\n",
       "      <td>Valiant</td>\n",
       "      <td>18.1</td>\n",
       "      <td>6</td>\n",
       "      <td>225.0</td>\n",
       "      <td>105</td>\n",
       "      <td>2.76</td>\n",
       "      <td>3.460</td>\n",
       "      <td>20.22</td>\n",
       "      <td>1</td>\n",
       "      <td>0</td>\n",
       "      <td>3</td>\n",
       "      <td>1</td>\n",
       "      <td>A</td>\n",
       "    </tr>\n",
       "    <tr>\n",
       "      <th>6</th>\n",
       "      <td>Duster 360</td>\n",
       "      <td>14.3</td>\n",
       "      <td>8</td>\n",
       "      <td>360.0</td>\n",
       "      <td>245</td>\n",
       "      <td>3.21</td>\n",
       "      <td>3.570</td>\n",
       "      <td>15.84</td>\n",
       "      <td>0</td>\n",
       "      <td>0</td>\n",
       "      <td>3</td>\n",
       "      <td>4</td>\n",
       "      <td>B</td>\n",
       "    </tr>\n",
       "    <tr>\n",
       "      <th>7</th>\n",
       "      <td>Merc 240D</td>\n",
       "      <td>24.4</td>\n",
       "      <td>4</td>\n",
       "      <td>146.7</td>\n",
       "      <td>62</td>\n",
       "      <td>3.69</td>\n",
       "      <td>3.190</td>\n",
       "      <td>20.00</td>\n",
       "      <td>1</td>\n",
       "      <td>0</td>\n",
       "      <td>4</td>\n",
       "      <td>2</td>\n",
       "      <td>C</td>\n",
       "    </tr>\n",
       "    <tr>\n",
       "      <th>8</th>\n",
       "      <td>Merc 230</td>\n",
       "      <td>22.8</td>\n",
       "      <td>4</td>\n",
       "      <td>140.8</td>\n",
       "      <td>95</td>\n",
       "      <td>3.92</td>\n",
       "      <td>3.150</td>\n",
       "      <td>22.90</td>\n",
       "      <td>1</td>\n",
       "      <td>0</td>\n",
       "      <td>4</td>\n",
       "      <td>2</td>\n",
       "      <td>A</td>\n",
       "    </tr>\n",
       "    <tr>\n",
       "      <th>9</th>\n",
       "      <td>Merc 280</td>\n",
       "      <td>19.2</td>\n",
       "      <td>6</td>\n",
       "      <td>167.6</td>\n",
       "      <td>123</td>\n",
       "      <td>3.92</td>\n",
       "      <td>3.440</td>\n",
       "      <td>18.30</td>\n",
       "      <td>1</td>\n",
       "      <td>0</td>\n",
       "      <td>4</td>\n",
       "      <td>4</td>\n",
       "      <td>B</td>\n",
       "    </tr>\n",
       "    <tr>\n",
       "      <th>10</th>\n",
       "      <td>Merc 280C</td>\n",
       "      <td>17.8</td>\n",
       "      <td>6</td>\n",
       "      <td>167.6</td>\n",
       "      <td>123</td>\n",
       "      <td>3.92</td>\n",
       "      <td>3.440</td>\n",
       "      <td>18.90</td>\n",
       "      <td>1</td>\n",
       "      <td>0</td>\n",
       "      <td>4</td>\n",
       "      <td>4</td>\n",
       "      <td>C</td>\n",
       "    </tr>\n",
       "    <tr>\n",
       "      <th>11</th>\n",
       "      <td>Merc 450SE</td>\n",
       "      <td>16.4</td>\n",
       "      <td>8</td>\n",
       "      <td>275.8</td>\n",
       "      <td>180</td>\n",
       "      <td>3.07</td>\n",
       "      <td>4.070</td>\n",
       "      <td>17.40</td>\n",
       "      <td>0</td>\n",
       "      <td>0</td>\n",
       "      <td>3</td>\n",
       "      <td>3</td>\n",
       "      <td>B</td>\n",
       "    </tr>\n",
       "    <tr>\n",
       "      <th>12</th>\n",
       "      <td>Merc 450SL</td>\n",
       "      <td>17.3</td>\n",
       "      <td>8</td>\n",
       "      <td>275.8</td>\n",
       "      <td>180</td>\n",
       "      <td>3.07</td>\n",
       "      <td>3.730</td>\n",
       "      <td>17.60</td>\n",
       "      <td>0</td>\n",
       "      <td>0</td>\n",
       "      <td>3</td>\n",
       "      <td>3</td>\n",
       "      <td>C</td>\n",
       "    </tr>\n",
       "    <tr>\n",
       "      <th>13</th>\n",
       "      <td>Merc 450SLC</td>\n",
       "      <td>15.2</td>\n",
       "      <td>8</td>\n",
       "      <td>275.8</td>\n",
       "      <td>180</td>\n",
       "      <td>3.07</td>\n",
       "      <td>3.780</td>\n",
       "      <td>18.00</td>\n",
       "      <td>0</td>\n",
       "      <td>0</td>\n",
       "      <td>3</td>\n",
       "      <td>3</td>\n",
       "      <td>A</td>\n",
       "    </tr>\n",
       "    <tr>\n",
       "      <th>14</th>\n",
       "      <td>Cadillac Fleetwood</td>\n",
       "      <td>10.4</td>\n",
       "      <td>8</td>\n",
       "      <td>472.0</td>\n",
       "      <td>205</td>\n",
       "      <td>2.93</td>\n",
       "      <td>5.250</td>\n",
       "      <td>17.98</td>\n",
       "      <td>0</td>\n",
       "      <td>0</td>\n",
       "      <td>3</td>\n",
       "      <td>4</td>\n",
       "      <td>NaN</td>\n",
       "    </tr>\n",
       "    <tr>\n",
       "      <th>15</th>\n",
       "      <td>Lincoln Continental</td>\n",
       "      <td>10.4</td>\n",
       "      <td>8</td>\n",
       "      <td>460.0</td>\n",
       "      <td>215</td>\n",
       "      <td>3.00</td>\n",
       "      <td>5.424</td>\n",
       "      <td>17.82</td>\n",
       "      <td>0</td>\n",
       "      <td>0</td>\n",
       "      <td>3</td>\n",
       "      <td>4</td>\n",
       "      <td>C</td>\n",
       "    </tr>\n",
       "    <tr>\n",
       "      <th>16</th>\n",
       "      <td>Chrysler Imperial</td>\n",
       "      <td>14.7</td>\n",
       "      <td>8</td>\n",
       "      <td>440.0</td>\n",
       "      <td>230</td>\n",
       "      <td>3.23</td>\n",
       "      <td>5.345</td>\n",
       "      <td>17.42</td>\n",
       "      <td>0</td>\n",
       "      <td>0</td>\n",
       "      <td>3</td>\n",
       "      <td>4</td>\n",
       "      <td>B</td>\n",
       "    </tr>\n",
       "    <tr>\n",
       "      <th>17</th>\n",
       "      <td>Fiat 128</td>\n",
       "      <td>32.4</td>\n",
       "      <td>4</td>\n",
       "      <td>78.7</td>\n",
       "      <td>66</td>\n",
       "      <td>4.08</td>\n",
       "      <td>2.200</td>\n",
       "      <td>19.47</td>\n",
       "      <td>1</td>\n",
       "      <td>1</td>\n",
       "      <td>4</td>\n",
       "      <td>1</td>\n",
       "      <td>C</td>\n",
       "    </tr>\n",
       "    <tr>\n",
       "      <th>18</th>\n",
       "      <td>Honda Civic</td>\n",
       "      <td>30.4</td>\n",
       "      <td>4</td>\n",
       "      <td>75.7</td>\n",
       "      <td>52</td>\n",
       "      <td>4.93</td>\n",
       "      <td>1.615</td>\n",
       "      <td>18.52</td>\n",
       "      <td>1</td>\n",
       "      <td>1</td>\n",
       "      <td>4</td>\n",
       "      <td>2</td>\n",
       "      <td>A</td>\n",
       "    </tr>\n",
       "    <tr>\n",
       "      <th>19</th>\n",
       "      <td>Toyota Corolla</td>\n",
       "      <td>33.9</td>\n",
       "      <td>4</td>\n",
       "      <td>71.1</td>\n",
       "      <td>65</td>\n",
       "      <td>4.22</td>\n",
       "      <td>1.835</td>\n",
       "      <td>19.90</td>\n",
       "      <td>1</td>\n",
       "      <td>1</td>\n",
       "      <td>4</td>\n",
       "      <td>1</td>\n",
       "      <td>B</td>\n",
       "    </tr>\n",
       "    <tr>\n",
       "      <th>20</th>\n",
       "      <td>Toyota Corona</td>\n",
       "      <td>21.5</td>\n",
       "      <td>4</td>\n",
       "      <td>120.1</td>\n",
       "      <td>97</td>\n",
       "      <td>3.70</td>\n",
       "      <td>2.465</td>\n",
       "      <td>20.01</td>\n",
       "      <td>1</td>\n",
       "      <td>0</td>\n",
       "      <td>3</td>\n",
       "      <td>1</td>\n",
       "      <td>C</td>\n",
       "    </tr>\n",
       "    <tr>\n",
       "      <th>21</th>\n",
       "      <td>Dodge Challenger</td>\n",
       "      <td>15.5</td>\n",
       "      <td>8</td>\n",
       "      <td>318.0</td>\n",
       "      <td>150</td>\n",
       "      <td>2.76</td>\n",
       "      <td>3.520</td>\n",
       "      <td>16.87</td>\n",
       "      <td>0</td>\n",
       "      <td>0</td>\n",
       "      <td>3</td>\n",
       "      <td>2</td>\n",
       "      <td>NaN</td>\n",
       "    </tr>\n",
       "    <tr>\n",
       "      <th>22</th>\n",
       "      <td>AMC Javelin</td>\n",
       "      <td>NaN</td>\n",
       "      <td>8</td>\n",
       "      <td>304.0</td>\n",
       "      <td>150</td>\n",
       "      <td>3.15</td>\n",
       "      <td>3.435</td>\n",
       "      <td>17.30</td>\n",
       "      <td>0</td>\n",
       "      <td>0</td>\n",
       "      <td>3</td>\n",
       "      <td>2</td>\n",
       "      <td>B</td>\n",
       "    </tr>\n",
       "    <tr>\n",
       "      <th>23</th>\n",
       "      <td>Camaro Z28</td>\n",
       "      <td>13.3</td>\n",
       "      <td>8</td>\n",
       "      <td>350.0</td>\n",
       "      <td>245</td>\n",
       "      <td>3.73</td>\n",
       "      <td>3.840</td>\n",
       "      <td>15.41</td>\n",
       "      <td>0</td>\n",
       "      <td>0</td>\n",
       "      <td>3</td>\n",
       "      <td>4</td>\n",
       "      <td>C</td>\n",
       "    </tr>\n",
       "    <tr>\n",
       "      <th>24</th>\n",
       "      <td>Pontiac Firebird</td>\n",
       "      <td>NaN</td>\n",
       "      <td>8</td>\n",
       "      <td>400.0</td>\n",
       "      <td>175</td>\n",
       "      <td>3.08</td>\n",
       "      <td>3.845</td>\n",
       "      <td>17.05</td>\n",
       "      <td>0</td>\n",
       "      <td>0</td>\n",
       "      <td>3</td>\n",
       "      <td>2</td>\n",
       "      <td>B</td>\n",
       "    </tr>\n",
       "    <tr>\n",
       "      <th>25</th>\n",
       "      <td>Fiat X1-9</td>\n",
       "      <td>27.3</td>\n",
       "      <td>4</td>\n",
       "      <td>79.0</td>\n",
       "      <td>66</td>\n",
       "      <td>4.08</td>\n",
       "      <td>1.935</td>\n",
       "      <td>18.90</td>\n",
       "      <td>1</td>\n",
       "      <td>1</td>\n",
       "      <td>4</td>\n",
       "      <td>1</td>\n",
       "      <td>C</td>\n",
       "    </tr>\n",
       "    <tr>\n",
       "      <th>26</th>\n",
       "      <td>Porsche 914-2</td>\n",
       "      <td>26.0</td>\n",
       "      <td>4</td>\n",
       "      <td>120.3</td>\n",
       "      <td>91</td>\n",
       "      <td>4.43</td>\n",
       "      <td>2.140</td>\n",
       "      <td>16.70</td>\n",
       "      <td>0</td>\n",
       "      <td>1</td>\n",
       "      <td>5</td>\n",
       "      <td>2</td>\n",
       "      <td>A</td>\n",
       "    </tr>\n",
       "    <tr>\n",
       "      <th>27</th>\n",
       "      <td>Lotus Europa</td>\n",
       "      <td>30.4</td>\n",
       "      <td>4</td>\n",
       "      <td>95.1</td>\n",
       "      <td>113</td>\n",
       "      <td>3.77</td>\n",
       "      <td>1.513</td>\n",
       "      <td>16.90</td>\n",
       "      <td>1</td>\n",
       "      <td>1</td>\n",
       "      <td>5</td>\n",
       "      <td>2</td>\n",
       "      <td>B</td>\n",
       "    </tr>\n",
       "    <tr>\n",
       "      <th>28</th>\n",
       "      <td>Ford Pantera L</td>\n",
       "      <td>15.8</td>\n",
       "      <td>8</td>\n",
       "      <td>351.0</td>\n",
       "      <td>264</td>\n",
       "      <td>4.22</td>\n",
       "      <td>3.170</td>\n",
       "      <td>14.50</td>\n",
       "      <td>0</td>\n",
       "      <td>1</td>\n",
       "      <td>5</td>\n",
       "      <td>4</td>\n",
       "      <td>C</td>\n",
       "    </tr>\n",
       "    <tr>\n",
       "      <th>29</th>\n",
       "      <td>Ferrari Dino</td>\n",
       "      <td>19.7</td>\n",
       "      <td>6</td>\n",
       "      <td>145.0</td>\n",
       "      <td>175</td>\n",
       "      <td>3.62</td>\n",
       "      <td>2.770</td>\n",
       "      <td>15.50</td>\n",
       "      <td>0</td>\n",
       "      <td>1</td>\n",
       "      <td>5</td>\n",
       "      <td>6</td>\n",
       "      <td>B</td>\n",
       "    </tr>\n",
       "    <tr>\n",
       "      <th>30</th>\n",
       "      <td>Maserati Bora</td>\n",
       "      <td>15.0</td>\n",
       "      <td>8</td>\n",
       "      <td>301.0</td>\n",
       "      <td>335</td>\n",
       "      <td>3.54</td>\n",
       "      <td>3.570</td>\n",
       "      <td>14.60</td>\n",
       "      <td>0</td>\n",
       "      <td>1</td>\n",
       "      <td>5</td>\n",
       "      <td>8</td>\n",
       "      <td>C</td>\n",
       "    </tr>\n",
       "    <tr>\n",
       "      <th>31</th>\n",
       "      <td>Volvo 142E</td>\n",
       "      <td>21.4</td>\n",
       "      <td>4</td>\n",
       "      <td>121.0</td>\n",
       "      <td>109</td>\n",
       "      <td>4.11</td>\n",
       "      <td>2.780</td>\n",
       "      <td>18.60</td>\n",
       "      <td>1</td>\n",
       "      <td>1</td>\n",
       "      <td>4</td>\n",
       "      <td>2</td>\n",
       "      <td>A</td>\n",
       "    </tr>\n",
       "  </tbody>\n",
       "</table>\n",
       "</div>"
      ],
      "text/plain": [
       "                   name   mpg  cyl   disp   hp  drat     wt   qsec  vs  am  \\\n",
       "0             Mazda RX4  21.0    6  160.0  110  3.90  2.620  16.46   0   1   \n",
       "1         Mazda RX4 Wag  21.0    6  160.0  110  3.90  2.875  17.02   0   1   \n",
       "2            Datsun 710  22.8    4  108.0   93  3.85  2.320  18.61   1   1   \n",
       "3        Hornet 4 Drive  21.4    6  258.0  110  3.08  3.215  19.44   1   0   \n",
       "4     Hornet Sportabout  18.7    8  360.0  175  3.15  3.440  17.02   0   0   \n",
       "5               Valiant  18.1    6  225.0  105  2.76  3.460  20.22   1   0   \n",
       "6            Duster 360  14.3    8  360.0  245  3.21  3.570  15.84   0   0   \n",
       "7             Merc 240D  24.4    4  146.7   62  3.69  3.190  20.00   1   0   \n",
       "8              Merc 230  22.8    4  140.8   95  3.92  3.150  22.90   1   0   \n",
       "9              Merc 280  19.2    6  167.6  123  3.92  3.440  18.30   1   0   \n",
       "10            Merc 280C  17.8    6  167.6  123  3.92  3.440  18.90   1   0   \n",
       "11           Merc 450SE  16.4    8  275.8  180  3.07  4.070  17.40   0   0   \n",
       "12           Merc 450SL  17.3    8  275.8  180  3.07  3.730  17.60   0   0   \n",
       "13          Merc 450SLC  15.2    8  275.8  180  3.07  3.780  18.00   0   0   \n",
       "14   Cadillac Fleetwood  10.4    8  472.0  205  2.93  5.250  17.98   0   0   \n",
       "15  Lincoln Continental  10.4    8  460.0  215  3.00  5.424  17.82   0   0   \n",
       "16    Chrysler Imperial  14.7    8  440.0  230  3.23  5.345  17.42   0   0   \n",
       "17             Fiat 128  32.4    4   78.7   66  4.08  2.200  19.47   1   1   \n",
       "18          Honda Civic  30.4    4   75.7   52  4.93  1.615  18.52   1   1   \n",
       "19       Toyota Corolla  33.9    4   71.1   65  4.22  1.835  19.90   1   1   \n",
       "20        Toyota Corona  21.5    4  120.1   97  3.70  2.465  20.01   1   0   \n",
       "21     Dodge Challenger  15.5    8  318.0  150  2.76  3.520  16.87   0   0   \n",
       "22          AMC Javelin   NaN    8  304.0  150  3.15  3.435  17.30   0   0   \n",
       "23           Camaro Z28  13.3    8  350.0  245  3.73  3.840  15.41   0   0   \n",
       "24     Pontiac Firebird   NaN    8  400.0  175  3.08  3.845  17.05   0   0   \n",
       "25            Fiat X1-9  27.3    4   79.0   66  4.08  1.935  18.90   1   1   \n",
       "26        Porsche 914-2  26.0    4  120.3   91  4.43  2.140  16.70   0   1   \n",
       "27         Lotus Europa  30.4    4   95.1  113  3.77  1.513  16.90   1   1   \n",
       "28       Ford Pantera L  15.8    8  351.0  264  4.22  3.170  14.50   0   1   \n",
       "29         Ferrari Dino  19.7    6  145.0  175  3.62  2.770  15.50   0   1   \n",
       "30        Maserati Bora  15.0    8  301.0  335  3.54  3.570  14.60   0   1   \n",
       "31           Volvo 142E  21.4    4  121.0  109  4.11  2.780  18.60   1   1   \n",
       "\n",
       "    gear  carb Category  \n",
       "0      4     4        A  \n",
       "1      4     4        B  \n",
       "2      4     1        C  \n",
       "3      3     1        B  \n",
       "4      3     2        C  \n",
       "5      3     1        A  \n",
       "6      3     4        B  \n",
       "7      4     2        C  \n",
       "8      4     2        A  \n",
       "9      4     4        B  \n",
       "10     4     4        C  \n",
       "11     3     3        B  \n",
       "12     3     3        C  \n",
       "13     3     3        A  \n",
       "14     3     4      NaN  \n",
       "15     3     4        C  \n",
       "16     3     4        B  \n",
       "17     4     1        C  \n",
       "18     4     2        A  \n",
       "19     4     1        B  \n",
       "20     3     1        C  \n",
       "21     3     2      NaN  \n",
       "22     3     2        B  \n",
       "23     3     4        C  \n",
       "24     3     2        B  \n",
       "25     4     1        C  \n",
       "26     5     2        A  \n",
       "27     5     2        B  \n",
       "28     5     4        C  \n",
       "29     5     6        B  \n",
       "30     5     8        C  \n",
       "31     4     2        A  "
      ]
     },
     "execution_count": 3,
     "metadata": {},
     "output_type": "execute_result"
    }
   ],
   "source": [
    "mt=pd.read_csv(\"C:\\\\Users\\\\hp\\\\Downloads\\\\Mtcars_New.csv\")\n",
    "mt"
   ]
  },
  {
   "cell_type": "code",
   "execution_count": 5,
   "id": "a8fa88b3",
   "metadata": {},
   "outputs": [
    {
     "name": "stdout",
     "output_type": "stream",
     "text": [
      "4\n",
      "16\n",
      "36\n",
      "64\n",
      "100\n"
     ]
    }
   ],
   "source": [
    "for i in range(1,11):\n",
    "    if i%2==0:\n",
    "        print(i**2)"
   ]
  },
  {
   "cell_type": "code",
   "execution_count": null,
   "id": "e8e956e2",
   "metadata": {},
   "outputs": [],
   "source": [
    "mt.isna().sum()"
   ]
  },
  {
   "cell_type": "code",
   "execution_count": null,
   "id": "e0b1ff92",
   "metadata": {},
   "outputs": [],
   "source": [
    "mt['mpg'].fillna(20,inplace=True)"
   ]
  },
  {
   "cell_type": "code",
   "execution_count": null,
   "id": "9261f15c",
   "metadata": {},
   "outputs": [],
   "source": [
    "mt['Category'].fillna('A',inplace=True)"
   ]
  },
  {
   "cell_type": "code",
   "execution_count": null,
   "id": "0503e66f",
   "metadata": {},
   "outputs": [],
   "source": [
    "mt.isna().sum()"
   ]
  },
  {
   "cell_type": "code",
   "execution_count": 12,
   "id": "6d53bb64",
   "metadata": {},
   "outputs": [
    {
     "name": "stderr",
     "output_type": "stream",
     "text": [
      "C:\\Users\\hp\\AppData\\Local\\Temp\\ipykernel_18168\\901559429.py:1: FutureWarning: Dropping of nuisance columns in DataFrame reductions (with 'numeric_only=None') is deprecated; in a future version this will raise TypeError.  Select only valid columns before calling the reduction.\n",
      "  mt.min()[1:]+mt.max()[1:]\n"
     ]
    },
    {
     "data": {
      "text/plain": [
       "mpg      44.3\n",
       "cyl        12\n",
       "disp    543.1\n",
       "hp        387\n",
       "drat     7.69\n",
       "wt      6.937\n",
       "qsec     37.4\n",
       "vs          1\n",
       "am          1\n",
       "gear        8\n",
       "carb        9\n",
       "dtype: object"
      ]
     },
     "execution_count": 12,
     "metadata": {},
     "output_type": "execute_result"
    }
   ],
   "source": [
    "mt.min()[1:]+mt.max()[1:]"
   ]
  },
  {
   "cell_type": "code",
   "execution_count": 7,
   "id": "96c16ee4",
   "metadata": {},
   "outputs": [
    {
     "name": "stderr",
     "output_type": "stream",
     "text": [
      "C:\\Users\\hp\\AppData\\Local\\Temp\\ipykernel_18168\\1183653591.py:1: FutureWarning: Dropping of nuisance columns in DataFrame reductions (with 'numeric_only=None') is deprecated; in a future version this will raise TypeError.  Select only valid columns before calling the reduction.\n",
      "  mt.max()\n"
     ]
    },
    {
     "data": {
      "text/plain": [
       "name    Volvo 142E\n",
       "mpg           33.9\n",
       "cyl              8\n",
       "disp         472.0\n",
       "hp             335\n",
       "drat          4.93\n",
       "wt           5.424\n",
       "qsec          22.9\n",
       "vs               1\n",
       "am               1\n",
       "gear             5\n",
       "carb             8\n",
       "dtype: object"
      ]
     },
     "execution_count": 7,
     "metadata": {},
     "output_type": "execute_result"
    }
   ],
   "source": [
    "mt.max()"
   ]
  },
  {
   "cell_type": "code",
   "execution_count": 24,
   "id": "11c7e3d6",
   "metadata": {},
   "outputs": [
    {
     "data": {
      "text/html": [
       "<div>\n",
       "<style scoped>\n",
       "    .dataframe tbody tr th:only-of-type {\n",
       "        vertical-align: middle;\n",
       "    }\n",
       "\n",
       "    .dataframe tbody tr th {\n",
       "        vertical-align: top;\n",
       "    }\n",
       "\n",
       "    .dataframe thead th {\n",
       "        text-align: right;\n",
       "    }\n",
       "</style>\n",
       "<table border=\"1\" class=\"dataframe\">\n",
       "  <thead>\n",
       "    <tr style=\"text-align: right;\">\n",
       "      <th>am</th>\n",
       "      <th>0</th>\n",
       "      <th>1</th>\n",
       "    </tr>\n",
       "    <tr>\n",
       "      <th>gear</th>\n",
       "      <th></th>\n",
       "      <th></th>\n",
       "    </tr>\n",
       "  </thead>\n",
       "  <tbody>\n",
       "    <tr>\n",
       "      <th>3</th>\n",
       "      <td>15.0</td>\n",
       "      <td>NaN</td>\n",
       "    </tr>\n",
       "    <tr>\n",
       "      <th>4</th>\n",
       "      <td>4.0</td>\n",
       "      <td>8.0</td>\n",
       "    </tr>\n",
       "    <tr>\n",
       "      <th>5</th>\n",
       "      <td>NaN</td>\n",
       "      <td>5.0</td>\n",
       "    </tr>\n",
       "  </tbody>\n",
       "</table>\n",
       "</div>"
      ],
      "text/plain": [
       "am       0    1\n",
       "gear           \n",
       "3     15.0  NaN\n",
       "4      4.0  8.0\n",
       "5      NaN  5.0"
      ]
     },
     "execution_count": 24,
     "metadata": {},
     "output_type": "execute_result"
    }
   ],
   "source": [
    "mt.groupby('gear')['am'].value_counts().unstack()"
   ]
  },
  {
   "cell_type": "code",
   "execution_count": 25,
   "id": "6854cdbe",
   "metadata": {},
   "outputs": [
    {
     "data": {
      "text/plain": [
       "Category  name               \n",
       "A         Honda Civic            1\n",
       "          Mazda RX4              1\n",
       "          Merc 230               0\n",
       "          Merc 450SLC            0\n",
       "          Porsche 914-2          1\n",
       "          Valiant                0\n",
       "          Volvo 142E             1\n",
       "B         AMC Javelin            0\n",
       "          Chrysler Imperial      0\n",
       "          Duster 360             0\n",
       "          Ferrari Dino           1\n",
       "          Hornet 4 Drive         0\n",
       "          Lotus Europa           1\n",
       "          Mazda RX4 Wag          1\n",
       "          Merc 280               0\n",
       "          Merc 450SE             0\n",
       "          Pontiac Firebird       0\n",
       "          Toyota Corolla         1\n",
       "C         Camaro Z28             0\n",
       "          Datsun 710             1\n",
       "          Fiat 128               1\n",
       "          Fiat X1-9              1\n",
       "          Ford Pantera L         1\n",
       "          Hornet Sportabout      0\n",
       "          Lincoln Continental    0\n",
       "          Maserati Bora          1\n",
       "          Merc 240D              0\n",
       "          Merc 280C              0\n",
       "          Merc 450SL             0\n",
       "          Toyota Corona          0\n",
       "Name: am, dtype: int64"
      ]
     },
     "execution_count": 25,
     "metadata": {},
     "output_type": "execute_result"
    }
   ],
   "source": [
    "mt.groupby(['Category','name'])['am'].sum()"
   ]
  },
  {
   "cell_type": "code",
   "execution_count": null,
   "id": "6cb96a11",
   "metadata": {},
   "outputs": [],
   "source": [
    "mt.groupby('cyl')['mpg'].mean()"
   ]
  },
  {
   "cell_type": "code",
   "execution_count": null,
   "id": "6d74cd76",
   "metadata": {},
   "outputs": [],
   "source": [
    "def cal(mi,ma,med):\n",
    "    mi=mt.min()\n",
    "    ma=mt.max()\n",
    "    med=mt.median()\n",
    "    return mi,ma,med"
   ]
  },
  {
   "cell_type": "code",
   "execution_count": null,
   "id": "2febdf3e",
   "metadata": {},
   "outputs": [],
   "source": [
    "mt(mi)"
   ]
  },
  {
   "cell_type": "code",
   "execution_count": null,
   "id": "379b7c4e",
   "metadata": {},
   "outputs": [],
   "source": [
    "mt['sq']=mt['wt']**2\n",
    "mt['sq']"
   ]
  },
  {
   "cell_type": "code",
   "execution_count": null,
   "id": "1941dd57",
   "metadata": {},
   "outputs": [],
   "source": [
    "sqmpg=mt['mpg']**0.5\n",
    "sqdis=mt['disp']**0.5\n",
    "sqhp=mt['hp']**0.5"
   ]
  },
  {
   "cell_type": "code",
   "execution_count": null,
   "id": "9a6517e6",
   "metadata": {},
   "outputs": [],
   "source": [
    "def sq(n):\n",
    "    sq=n**0.5\n",
    "    return sq"
   ]
  },
  {
   "cell_type": "code",
   "execution_count": null,
   "id": "ce3a03ca",
   "metadata": {},
   "outputs": [],
   "source": [
    "x=sq(mt['mpg'])\n",
    "x"
   ]
  },
  {
   "cell_type": "code",
   "execution_count": null,
   "id": "36efc68f",
   "metadata": {},
   "outputs": [],
   "source": [
    "y=sq(mt['disp'])\n",
    "y"
   ]
  },
  {
   "cell_type": "code",
   "execution_count": null,
   "id": "06bbebe3",
   "metadata": {},
   "outputs": [],
   "source": [
    "z=sq(mt['hp'])\n",
    "z"
   ]
  },
  {
   "cell_type": "code",
   "execution_count": null,
   "id": "fdf6b6c4",
   "metadata": {},
   "outputs": [],
   "source": [
    "y=mt['sqx']=x\n",
    "y"
   ]
  },
  {
   "cell_type": "code",
   "execution_count": null,
   "id": "c06de9c0",
   "metadata": {},
   "outputs": [],
   "source": []
  },
  {
   "cell_type": "code",
   "execution_count": null,
   "id": "89e6dbc7",
   "metadata": {},
   "outputs": [],
   "source": []
  },
  {
   "cell_type": "code",
   "execution_count": null,
   "id": "09ab5b78",
   "metadata": {},
   "outputs": [],
   "source": []
  },
  {
   "cell_type": "code",
   "execution_count": null,
   "id": "94849456",
   "metadata": {},
   "outputs": [],
   "source": [
    "z=mt['sqy']=y\n",
    "z"
   ]
  },
  {
   "cell_type": "code",
   "execution_count": null,
   "id": "8863efa3",
   "metadata": {},
   "outputs": [],
   "source": [
    "x=mt['sqz']=z\n",
    "x"
   ]
  },
  {
   "cell_type": "code",
   "execution_count": null,
   "id": "5b18753f",
   "metadata": {},
   "outputs": [],
   "source": [
    "rowiseconcat=pd.concat([mt,x,y,z],axis=0) \n",
    "rowiseconcat.head()"
   ]
  },
  {
   "cell_type": "code",
   "execution_count": null,
   "id": "40475642",
   "metadata": {},
   "outputs": [],
   "source": [
    "func=pd.concat([rowiseconcat,mt],axis=0)\n",
    "func"
   ]
  },
  {
   "cell_type": "code",
   "execution_count": 1,
   "id": "e44c2b38",
   "metadata": {},
   "outputs": [],
   "source": [
    "\n",
    "def func(*x):\n",
    "    for i in func(*x):\n",
    "        if sum(*x)%2==0:\n",
    "            print('sum:',sum(*x))\n",
    "            print(sum(*x),'is even')\n",
    "        else:\n",
    "            print('sum:',sum(*x))\n",
    "            print(sum(*x),'is odd')\n",
    "    \n",
    "  "
   ]
  },
  {
   "cell_type": "code",
   "execution_count": null,
   "id": "a9e848be",
   "metadata": {},
   "outputs": [],
   "source": [
    "func(20,30,40)"
   ]
  },
  {
   "cell_type": "code",
   "execution_count": null,
   "id": "de0743a5",
   "metadata": {},
   "outputs": [],
   "source": []
  },
  {
   "cell_type": "code",
   "execution_count": 1,
   "id": "a9f88b6c",
   "metadata": {},
   "outputs": [
    {
     "name": "stdout",
     "output_type": "stream",
     "text": [
      "4.5\n",
      "5\n"
     ]
    }
   ],
   "source": [
    "sales=4.5\n",
    "units_pur=5\n",
    "print(sales)\n",
    "print(units_pur)"
   ]
  },
  {
   "cell_type": "code",
   "execution_count": 2,
   "id": "d7cd4121",
   "metadata": {},
   "outputs": [
    {
     "data": {
      "text/plain": [
       "float"
      ]
     },
     "execution_count": 2,
     "metadata": {},
     "output_type": "execute_result"
    }
   ],
   "source": [
    "type(sales)"
   ]
  },
  {
   "cell_type": "code",
   "execution_count": 4,
   "id": "6f5dff76",
   "metadata": {},
   "outputs": [
    {
     "data": {
      "text/plain": [
       "int"
      ]
     },
     "execution_count": 4,
     "metadata": {},
     "output_type": "execute_result"
    }
   ],
   "source": [
    "type(units_pur)"
   ]
  },
  {
   "cell_type": "code",
   "execution_count": 5,
   "id": "4d55eed6",
   "metadata": {},
   "outputs": [
    {
     "name": "stdout",
     "output_type": "stream",
     "text": [
      "I love playing cricket\n"
     ]
    }
   ],
   "source": [
    "cap=\"I love playing cricket\"\n",
    "print(cap)"
   ]
  },
  {
   "cell_type": "code",
   "execution_count": 6,
   "id": "ea21b519",
   "metadata": {},
   "outputs": [
    {
     "data": {
      "text/plain": [
       "str"
      ]
     },
     "execution_count": 6,
     "metadata": {},
     "output_type": "execute_result"
    }
   ],
   "source": [
    "type(cap)"
   ]
  },
  {
   "cell_type": "code",
   "execution_count": 7,
   "id": "9c396312",
   "metadata": {},
   "outputs": [
    {
     "name": "stdout",
     "output_type": "stream",
     "text": [
      "Ashu\n"
     ]
    }
   ],
   "source": [
    "stu=\"Ashu\"\n",
    "print(stu)"
   ]
  },
  {
   "cell_type": "code",
   "execution_count": 8,
   "id": "7c67a862",
   "metadata": {},
   "outputs": [
    {
     "name": "stdout",
     "output_type": "stream",
     "text": [
      "True\n",
      "False\n"
     ]
    }
   ],
   "source": [
    "isstu=True\n",
    "has_paid=False\n",
    "print(isstu)\n",
    "print(has_paid)"
   ]
  },
  {
   "cell_type": "code",
   "execution_count": 9,
   "id": "bca769c8",
   "metadata": {},
   "outputs": [
    {
     "data": {
      "text/plain": [
       "bool"
      ]
     },
     "execution_count": 9,
     "metadata": {},
     "output_type": "execute_result"
    }
   ],
   "source": [
    "type(isstu)"
   ]
  },
  {
   "cell_type": "code",
   "execution_count": 10,
   "id": "cb1023e0",
   "metadata": {},
   "outputs": [
    {
     "data": {
      "text/plain": [
       "str"
      ]
     },
     "execution_count": 10,
     "metadata": {},
     "output_type": "execute_result"
    }
   ],
   "source": [
    "name=\"harish\"\n",
    "type(name)"
   ]
  },
  {
   "cell_type": "code",
   "execution_count": 11,
   "id": "5dea4829",
   "metadata": {},
   "outputs": [
    {
     "name": "stdout",
     "output_type": "stream",
     "text": [
      "harish\n"
     ]
    }
   ],
   "source": [
    "print(name)"
   ]
  },
  {
   "cell_type": "code",
   "execution_count": 15,
   "id": "28dddd93",
   "metadata": {},
   "outputs": [
    {
     "name": "stdout",
     "output_type": "stream",
     "text": [
      "12\n",
      "4.5\n",
      "AMit\n",
      "banku\n"
     ]
    }
   ],
   "source": [
    "x='12'\n",
    "y=4.5\n",
    "z=\"AMit\"\n",
    "a=\"banku\"\n",
    "print(x)\n",
    "print(y)\n",
    "print(z)\n",
    "print(a)"
   ]
  },
  {
   "cell_type": "code",
   "execution_count": 16,
   "id": "8fa53e25",
   "metadata": {},
   "outputs": [
    {
     "data": {
      "text/plain": [
       "str"
      ]
     },
     "execution_count": 16,
     "metadata": {},
     "output_type": "execute_result"
    }
   ],
   "source": [
    "type(x)"
   ]
  },
  {
   "cell_type": "code",
   "execution_count": 17,
   "id": "e6df7770",
   "metadata": {},
   "outputs": [
    {
     "data": {
      "text/plain": [
       "float"
      ]
     },
     "execution_count": 17,
     "metadata": {},
     "output_type": "execute_result"
    }
   ],
   "source": [
    "type(y)"
   ]
  },
  {
   "cell_type": "code",
   "execution_count": 18,
   "id": "32808b1d",
   "metadata": {},
   "outputs": [
    {
     "data": {
      "text/plain": [
       "str"
      ]
     },
     "execution_count": 18,
     "metadata": {},
     "output_type": "execute_result"
    }
   ],
   "source": [
    "type(z)"
   ]
  },
  {
   "cell_type": "code",
   "execution_count": 19,
   "id": "7f3aaac9",
   "metadata": {},
   "outputs": [
    {
     "data": {
      "text/plain": [
       "str"
      ]
     },
     "execution_count": 19,
     "metadata": {},
     "output_type": "execute_result"
    }
   ],
   "source": [
    "type(a)"
   ]
  },
  {
   "cell_type": "code",
   "execution_count": 20,
   "id": "6a0e65d5",
   "metadata": {},
   "outputs": [
    {
     "name": "stdout",
     "output_type": "stream",
     "text": [
      "hello world\n"
     ]
    }
   ],
   "source": [
    "print(\"hello world\")"
   ]
  },
  {
   "cell_type": "code",
   "execution_count": 21,
   "id": "beabf784",
   "metadata": {},
   "outputs": [
    {
     "data": {
      "text/plain": [
       "str"
      ]
     },
     "execution_count": 21,
     "metadata": {},
     "output_type": "execute_result"
    }
   ],
   "source": [
    "type(\"hello world\")"
   ]
  },
  {
   "cell_type": "code",
   "execution_count": 22,
   "id": "3e2b1194",
   "metadata": {},
   "outputs": [
    {
     "name": "stdout",
     "output_type": "stream",
     "text": [
      "gary\n"
     ]
    }
   ],
   "source": [
    "name='gary'\n",
    "print(name)"
   ]
  },
  {
   "cell_type": "code",
   "execution_count": 23,
   "id": "48fb26d6",
   "metadata": {},
   "outputs": [
    {
     "name": "stdout",
     "output_type": "stream",
     "text": [
      "garry\n"
     ]
    }
   ],
   "source": [
    "name='roger'\n",
    "name='garry'\n",
    "print(name)"
   ]
  },
  {
   "cell_type": "code",
   "execution_count": 26,
   "id": "f3d4c057",
   "metadata": {},
   "outputs": [
    {
     "name": "stdout",
     "output_type": "stream",
     "text": [
      "gary: 24\n",
      "harry: 24\n",
      "vary 24\n"
     ]
    }
   ],
   "source": [
    "gary=harry=vary=24\n",
    "print(\"gary:\",gary)\n",
    "print('harry:',harry)\n",
    "print('vary',vary)"
   ]
  },
  {
   "cell_type": "code",
   "execution_count": 27,
   "id": "707f50a3",
   "metadata": {},
   "outputs": [
    {
     "name": "stdout",
     "output_type": "stream",
     "text": [
      "Jyoti\n",
      "26\n",
      "40000\n"
     ]
    }
   ],
   "source": [
    "name,age,salary='Jyoti','26','40000'\n",
    "print(name)\n",
    "print(age)\n",
    "print(salary)"
   ]
  },
  {
   "cell_type": "code",
   "execution_count": 28,
   "id": "3449f6a3",
   "metadata": {},
   "outputs": [
    {
     "name": "stdout",
     "output_type": "stream",
     "text": [
      "22.5\n"
     ]
    },
    {
     "data": {
      "text/plain": [
       "float"
      ]
     },
     "execution_count": 28,
     "metadata": {},
     "output_type": "execute_result"
    }
   ],
   "source": [
    "sales=4.5\n",
    "num=5\n",
    "total=sales*num\n",
    "print(total)\n",
    "type(total)"
   ]
  },
  {
   "cell_type": "code",
   "execution_count": 30,
   "id": "46959306",
   "metadata": {},
   "outputs": [
    {
     "name": "stdout",
     "output_type": "stream",
     "text": [
      "252.5\n"
     ]
    }
   ],
   "source": [
    "price=250\n",
    "tax=\"2.5\"\n",
    "\n",
    "total=price+float(tax)\n",
    "print(total)"
   ]
  },
  {
   "cell_type": "code",
   "execution_count": 34,
   "id": "2d5e48c4",
   "metadata": {},
   "outputs": [
    {
     "name": "stdout",
     "output_type": "stream",
     "text": [
      "anamika sharma\n"
     ]
    },
    {
     "data": {
      "text/plain": [
       "str"
      ]
     },
     "execution_count": 34,
     "metadata": {},
     "output_type": "execute_result"
    }
   ],
   "source": [
    "f=\"anamika \"\n",
    "l=\"sharma\"\n",
    "name=f+l\n",
    "print(name)\n",
    "type(name)"
   ]
  },
  {
   "cell_type": "code",
   "execution_count": 36,
   "id": "196fd26e",
   "metadata": {},
   "outputs": [
    {
     "name": "stdout",
     "output_type": "stream",
     "text": [
      "anu kumari\n"
     ]
    },
    {
     "data": {
      "text/plain": [
       "str"
      ]
     },
     "execution_count": 36,
     "metadata": {},
     "output_type": "execute_result"
    }
   ],
   "source": [
    "f=\"anu\"\n",
    "l='kumari'\n",
    "name=f+\" \"+l\n",
    "print(name)\n",
    "type(name)"
   ]
  },
  {
   "cell_type": "code",
   "execution_count": 43,
   "id": "2dd1d3a8",
   "metadata": {},
   "outputs": [
    {
     "name": "stdout",
     "output_type": "stream",
     "text": [
      "hello,world\n"
     ]
    }
   ],
   "source": [
    "print(\"hello\",\"world\",sep=',')"
   ]
  },
  {
   "cell_type": "code",
   "execution_count": 45,
   "id": "bc3e9e0e",
   "metadata": {},
   "outputs": [
    {
     "name": "stdout",
     "output_type": "stream",
     "text": [
      "27.0\n"
     ]
    },
    {
     "data": {
      "text/plain": [
       "float"
      ]
     },
     "execution_count": 45,
     "metadata": {},
     "output_type": "execute_result"
    }
   ],
   "source": [
    "price=2.50\n",
    "tax='25'\n",
    "total=int(price)+float(tax)\n",
    "print(total)\n",
    "type(total)"
   ]
  },
  {
   "cell_type": "code",
   "execution_count": 46,
   "id": "81b50535",
   "metadata": {},
   "outputs": [
    {
     "data": {
      "text/plain": [
       "'52'"
      ]
     },
     "execution_count": 46,
     "metadata": {},
     "output_type": "execute_result"
    }
   ],
   "source": [
    "unit=52\n",
    "str(unit)"
   ]
  },
  {
   "cell_type": "code",
   "execution_count": 47,
   "id": "164b0e58",
   "metadata": {},
   "outputs": [
    {
     "data": {
      "text/plain": [
       "True"
      ]
     },
     "execution_count": 47,
     "metadata": {},
     "output_type": "execute_result"
    }
   ],
   "source": [
    "has,isliv=1,0\n",
    "bool(has)"
   ]
  },
  {
   "cell_type": "code",
   "execution_count": 48,
   "id": "4a2dcc20",
   "metadata": {},
   "outputs": [
    {
     "data": {
      "text/plain": [
       "False"
      ]
     },
     "execution_count": 48,
     "metadata": {},
     "output_type": "execute_result"
    }
   ],
   "source": [
    "bool(isliv)"
   ]
  },
  {
   "cell_type": "code",
   "execution_count": 50,
   "id": "c5fa63bb",
   "metadata": {},
   "outputs": [
    {
     "data": {
      "text/plain": [
       "int"
      ]
     },
     "execution_count": 50,
     "metadata": {},
     "output_type": "execute_result"
    }
   ],
   "source": [
    "type(has)"
   ]
  },
  {
   "cell_type": "code",
   "execution_count": 51,
   "id": "cd34f885",
   "metadata": {},
   "outputs": [
    {
     "name": "stdout",
     "output_type": "stream",
     "text": [
      "hello world\n"
     ]
    }
   ],
   "source": [
    "print(\"hello world\")"
   ]
  },
  {
   "cell_type": "code",
   "execution_count": 52,
   "id": "0390e2e6",
   "metadata": {},
   "outputs": [
    {
     "name": "stdout",
     "output_type": "stream",
     "text": [
      "hello mr. thomas\n"
     ]
    }
   ],
   "source": [
    "print(\"hello\",\"mr. thomas\")"
   ]
  },
  {
   "cell_type": "code",
   "execution_count": 54,
   "id": "5cb1ac44",
   "metadata": {},
   "outputs": [
    {
     "name": "stdout",
     "output_type": "stream",
     "text": [
      "('CPU', 'MOUSE', 'keyboard')\n"
     ]
    }
   ],
   "source": [
    "comp=('CPU','MOUSE','keyboard')\n",
    "print(comp)"
   ]
  },
  {
   "cell_type": "code",
   "execution_count": 56,
   "id": "d4ece42e",
   "metadata": {},
   "outputs": [
    {
     "name": "stdout",
     "output_type": "stream",
     "text": [
      "This is a boy\n",
      "\n",
      "\n",
      "This is a girl\n"
     ]
    }
   ],
   "source": [
    "print(\"This is a boy\")\n",
    "print(\"\\n\")\n",
    "print(\"This is a girl\")"
   ]
  },
  {
   "cell_type": "code",
   "execution_count": 57,
   "id": "8e4b0e53",
   "metadata": {},
   "outputs": [
    {
     "name": "stdout",
     "output_type": "stream",
     "text": [
      "This is a boy \n",
      " this is a girl\n"
     ]
    }
   ],
   "source": [
    "print(\"This is a boy \\n this is a girl\")"
   ]
  },
  {
   "cell_type": "code",
   "execution_count": 58,
   "id": "f62422ca",
   "metadata": {},
   "outputs": [
    {
     "name": "stdout",
     "output_type": "stream",
     "text": [
      "pythonis fun\n"
     ]
    }
   ],
   "source": [
    "print(\"python\"+'is fun')"
   ]
  },
  {
   "cell_type": "code",
   "execution_count": 59,
   "id": "94b974c1",
   "metadata": {},
   "outputs": [
    {
     "name": "stdout",
     "output_type": "stream",
     "text": [
      "python is fun \n"
     ]
    }
   ],
   "source": [
    "print(\"python \"+\"is fun \")"
   ]
  },
  {
   "cell_type": "code",
   "execution_count": 60,
   "id": "ad513577",
   "metadata": {},
   "outputs": [
    {
     "name": "stdout",
     "output_type": "stream",
     "text": [
      "python  is fun\n"
     ]
    }
   ],
   "source": [
    "print(\"python\"+\" \"+\" is fun\")"
   ]
  },
  {
   "cell_type": "code",
   "execution_count": 62,
   "id": "f53d5919",
   "metadata": {},
   "outputs": [
    {
     "name": "stdout",
     "output_type": "stream",
     "text": [
      "python  is really  fun\n"
     ]
    }
   ],
   "source": [
    "print(\"python\",\"is really\",\"fun\",sep=\"  \")"
   ]
  },
  {
   "cell_type": "code",
   "execution_count": 64,
   "id": "aa9ac763",
   "metadata": {},
   "outputs": [
    {
     "name": "stdout",
     "output_type": "stream",
     "text": [
      "I Like to watch tv\n"
     ]
    }
   ],
   "source": [
    "print(\"I\",'Like' ,'to', 'watch',\"tv\",sep=\" \")"
   ]
  },
  {
   "cell_type": "code",
   "execution_count": 66,
   "id": "9020fc82",
   "metadata": {},
   "outputs": [
    {
     "name": "stdout",
     "output_type": "stream",
     "text": [
      "singa singa singa \n"
     ]
    }
   ],
   "source": [
    "val=\"singa \"\n",
    "count=3\n",
    "res=val*count\n",
    "print(res)"
   ]
  },
  {
   "cell_type": "code",
   "execution_count": 70,
   "id": "ca2d17e1",
   "metadata": {},
   "outputs": [
    {
     "name": "stdout",
     "output_type": "stream",
     "text": [
      "kanpurkanpurkanpurkanpurkanpurkanpurkanpurkanpurkanpurkanpur \n",
      "\n"
     ]
    }
   ],
   "source": [
    "college=\"kanpur\"\n",
    "count=10\n",
    "colname=college*count\n",
    "print(colname)"
   ]
  },
  {
   "cell_type": "code",
   "execution_count": 71,
   "id": "c77db6ed",
   "metadata": {},
   "outputs": [
    {
     "name": "stdout",
     "output_type": "stream",
     "text": [
      "20.0\n"
     ]
    }
   ],
   "source": [
    "total=2000\n",
    "qty=100\n",
    "price=total/qty\n",
    "print(price)"
   ]
  },
  {
   "cell_type": "code",
   "execution_count": 72,
   "id": "84eae31f",
   "metadata": {},
   "outputs": [
    {
     "name": "stdout",
     "output_type": "stream",
     "text": [
      "117.0\n"
     ]
    }
   ],
   "source": [
    "total=589.8\n",
    "qty=5\n",
    "price=total//qty\n",
    "print(price)"
   ]
  },
  {
   "cell_type": "code",
   "execution_count": 73,
   "id": "287195aa",
   "metadata": {},
   "outputs": [
    {
     "name": "stdout",
     "output_type": "stream",
     "text": [
      "9\n"
     ]
    }
   ],
   "source": [
    "total=2700\n",
    "qty=23\n",
    "price=total%qty\n",
    "print(price)"
   ]
  },
  {
   "cell_type": "code",
   "execution_count": 74,
   "id": "3975b133",
   "metadata": {},
   "outputs": [
    {
     "name": "stdout",
     "output_type": "stream",
     "text": [
      "44\n"
     ]
    }
   ],
   "source": [
    "total=27890\n",
    "qty=234\n",
    "price=total%qty\n",
    "print(price)"
   ]
  },
  {
   "cell_type": "code",
   "execution_count": 75,
   "id": "6ff324bc",
   "metadata": {},
   "outputs": [
    {
     "name": "stdout",
     "output_type": "stream",
     "text": [
      "21.450000000000003\n"
     ]
    }
   ],
   "source": [
    "cost=123.45\n",
    "qty=34\n",
    "price=cost%qty\n",
    "print(price)"
   ]
  },
  {
   "cell_type": "code",
   "execution_count": 76,
   "id": "96fe1001",
   "metadata": {},
   "outputs": [
    {
     "name": "stdout",
     "output_type": "stream",
     "text": [
      "565\n"
     ]
    }
   ],
   "source": [
    "total=13000\n",
    "qty=23\n",
    "price=total//qty\n",
    "print(price)"
   ]
  },
  {
   "cell_type": "code",
   "execution_count": 77,
   "id": "c890f7fd",
   "metadata": {},
   "outputs": [
    {
     "name": "stdout",
     "output_type": "stream",
     "text": [
      "565.0\n"
     ]
    }
   ],
   "source": [
    "total=13000.50\n",
    "qty=23\n",
    "price=total//qty\n",
    "print(price)"
   ]
  },
  {
   "cell_type": "code",
   "execution_count": 78,
   "id": "904256fb",
   "metadata": {},
   "outputs": [
    {
     "name": "stdout",
     "output_type": "stream",
     "text": [
      "400\n"
     ]
    }
   ],
   "source": [
    "sq_side=20\n",
    "area=sq_side**2\n",
    "print(area)"
   ]
  },
  {
   "cell_type": "code",
   "execution_count": 79,
   "id": "6275fdc6",
   "metadata": {},
   "outputs": [
    {
     "name": "stdout",
     "output_type": "stream",
     "text": [
      "8000\n"
     ]
    }
   ],
   "source": [
    "cube_side=20\n",
    "area=cube_side**3\n",
    "print(area)"
   ]
  },
  {
   "cell_type": "code",
   "execution_count": 80,
   "id": "41f58917",
   "metadata": {},
   "outputs": [
    {
     "name": "stdout",
     "output_type": "stream",
     "text": [
      "25600000000\n"
     ]
    }
   ],
   "source": [
    "mul=400\n",
    "vol=mul**4\n",
    "print(vol)"
   ]
  },
  {
   "cell_type": "code",
   "execution_count": 84,
   "id": "8827f9de",
   "metadata": {},
   "outputs": [
    {
     "name": "stdout",
     "output_type": "stream",
     "text": [
      "ENter your name :Bunny\n",
      "Welcome Bunny dear!\n"
     ]
    }
   ],
   "source": [
    "name=input(\"ENter your name :\")\n",
    "print(\"Welcome\",name,\"dear!\")"
   ]
  },
  {
   "cell_type": "code",
   "execution_count": 85,
   "id": "e48dba35",
   "metadata": {},
   "outputs": [
    {
     "name": "stdout",
     "output_type": "stream",
     "text": [
      "Name:Bunny\n",
      "id:26\n",
      "Address:Tigaon\n",
      "Hi!:  Bunny 26 Tigaon\n"
     ]
    }
   ],
   "source": [
    "emp=input(\"Name:\")\n",
    "Id=input(\"id:\")\n",
    "Address=input(\"Address:\")\n",
    "print(\"Hi!: \",emp,Id,Address)"
   ]
  },
  {
   "cell_type": "code",
   "execution_count": 88,
   "id": "7952c5f5",
   "metadata": {},
   "outputs": [
    {
     "name": "stdout",
     "output_type": "stream",
     "text": [
      "Enter Price: 2000\n",
      "ENter qty: 5\n",
      "10000\n"
     ]
    }
   ],
   "source": [
    "price=int(input(\"Enter Price: \"))\n",
    "qty=int(input(\"ENter qty: \"))\n",
    "total=price*qty\n",
    "print(total)"
   ]
  },
  {
   "cell_type": "code",
   "execution_count": 90,
   "id": "11f16380",
   "metadata": {},
   "outputs": [
    {
     "name": "stdout",
     "output_type": "stream",
     "text": [
      "Enter Price: 5000\n",
      "ENter qty: 4\n"
     ]
    },
    {
     "ename": "TypeError",
     "evalue": "can't multiply sequence by non-int of type 'str'",
     "output_type": "error",
     "traceback": [
      "\u001b[1;31m---------------------------------------------------------------------------\u001b[0m",
      "\u001b[1;31mTypeError\u001b[0m                                 Traceback (most recent call last)",
      "\u001b[1;32m~\\AppData\\Local\\Temp\\ipykernel_21804\\453402141.py\u001b[0m in \u001b[0;36m<module>\u001b[1;34m\u001b[0m\n\u001b[0;32m      1\u001b[0m \u001b[0mprice\u001b[0m\u001b[1;33m=\u001b[0m\u001b[1;33m(\u001b[0m\u001b[0minput\u001b[0m\u001b[1;33m(\u001b[0m\u001b[1;34m\"Enter Price: \"\u001b[0m\u001b[1;33m)\u001b[0m\u001b[1;33m)\u001b[0m\u001b[1;33m\u001b[0m\u001b[1;33m\u001b[0m\u001b[0m\n\u001b[0;32m      2\u001b[0m \u001b[0mqty\u001b[0m\u001b[1;33m=\u001b[0m\u001b[1;33m(\u001b[0m\u001b[0minput\u001b[0m\u001b[1;33m(\u001b[0m\u001b[1;34m\"ENter qty: \"\u001b[0m\u001b[1;33m)\u001b[0m\u001b[1;33m)\u001b[0m\u001b[1;33m\u001b[0m\u001b[1;33m\u001b[0m\u001b[0m\n\u001b[1;32m----> 3\u001b[1;33m \u001b[0mtotal\u001b[0m\u001b[1;33m=\u001b[0m\u001b[0mprice\u001b[0m\u001b[1;33m*\u001b[0m\u001b[0mqty\u001b[0m\u001b[1;33m\u001b[0m\u001b[1;33m\u001b[0m\u001b[0m\n\u001b[0m\u001b[0;32m      4\u001b[0m \u001b[0mprint\u001b[0m\u001b[1;33m(\u001b[0m\u001b[0mtotal\u001b[0m\u001b[1;33m)\u001b[0m\u001b[1;33m\u001b[0m\u001b[1;33m\u001b[0m\u001b[0m\n\u001b[0;32m      5\u001b[0m \u001b[1;33m\u001b[0m\u001b[0m\n",
      "\u001b[1;31mTypeError\u001b[0m: can't multiply sequence by non-int of type 'str'"
     ]
    }
   ],
   "source": [
    "price=(input(\"Enter Price: \"))\n",
    "qty=(input(\"ENter qty: \"))\n",
    "total=price*qty\n",
    "print(total)\n",
    "        "
   ]
  },
  {
   "cell_type": "code",
   "execution_count": 91,
   "id": "5fe3b084",
   "metadata": {},
   "outputs": [
    {
     "name": "stdout",
     "output_type": "stream",
     "text": [
      "ENter the price: 30\n",
      "Enter qty: 4\n",
      "120.0\n"
     ]
    }
   ],
   "source": [
    "price=float(input(\"ENter the price: \"))\n",
    "qty=int(input(\"Enter qty: \"))\n",
    "total=price*qty\n",
    "print(total)"
   ]
  },
  {
   "cell_type": "code",
   "execution_count": 93,
   "id": "02e7c05c",
   "metadata": {},
   "outputs": [
    {
     "data": {
      "text/plain": [
       "False"
      ]
     },
     "execution_count": 93,
     "metadata": {},
     "output_type": "execute_result"
    }
   ],
   "source": [
    "ketty=28\n",
    "kenny=23\n",
    "ketty==kenny"
   ]
  },
  {
   "cell_type": "code",
   "execution_count": 94,
   "id": "bee60452",
   "metadata": {},
   "outputs": [
    {
     "data": {
      "text/plain": [
       "False"
      ]
     },
     "execution_count": 94,
     "metadata": {},
     "output_type": "execute_result"
    }
   ],
   "source": [
    "ketty<kenny"
   ]
  },
  {
   "cell_type": "code",
   "execution_count": 96,
   "id": "6337eb0a",
   "metadata": {},
   "outputs": [
    {
     "data": {
      "text/plain": [
       "True"
      ]
     },
     "execution_count": 96,
     "metadata": {},
     "output_type": "execute_result"
    }
   ],
   "source": [
    "ketty>=kenny"
   ]
  },
  {
   "cell_type": "code",
   "execution_count": 97,
   "id": "9c9a1d29",
   "metadata": {},
   "outputs": [
    {
     "data": {
      "text/plain": [
       "True"
      ]
     },
     "execution_count": 97,
     "metadata": {},
     "output_type": "execute_result"
    }
   ],
   "source": [
    "ketty!=kenny"
   ]
  },
  {
   "cell_type": "code",
   "execution_count": 98,
   "id": "766fce93",
   "metadata": {},
   "outputs": [
    {
     "data": {
      "text/plain": [
       "True"
      ]
     },
     "execution_count": 98,
     "metadata": {},
     "output_type": "execute_result"
    }
   ],
   "source": [
    "is_stu=True\n",
    "in_col=True\n",
    "in_sc=False\n",
    "is_stu and in_col"
   ]
  },
  {
   "cell_type": "code",
   "execution_count": 99,
   "id": "51d8a267",
   "metadata": {},
   "outputs": [
    {
     "data": {
      "text/plain": [
       "False"
      ]
     },
     "execution_count": 99,
     "metadata": {},
     "output_type": "execute_result"
    }
   ],
   "source": [
    "is_stu and in_sc"
   ]
  },
  {
   "cell_type": "code",
   "execution_count": 100,
   "id": "c285274e",
   "metadata": {},
   "outputs": [
    {
     "data": {
      "text/plain": [
       "True"
      ]
     },
     "execution_count": 100,
     "metadata": {},
     "output_type": "execute_result"
    }
   ],
   "source": [
    "is_stu or is_sc"
   ]
  },
  {
   "cell_type": "code",
   "execution_count": 101,
   "id": "6aa33e9b",
   "metadata": {},
   "outputs": [
    {
     "data": {
      "text/plain": [
       "True"
      ]
     },
     "execution_count": 101,
     "metadata": {},
     "output_type": "execute_result"
    }
   ],
   "source": [
    "not(in_sc)"
   ]
  },
  {
   "cell_type": "code",
   "execution_count": 103,
   "id": "e7e53cea",
   "metadata": {},
   "outputs": [
    {
     "name": "stdout",
     "output_type": "stream",
     "text": [
      "True\n"
     ]
    }
   ],
   "source": [
    "vowels=\"aeiou\"\n",
    "print(\"u\" in vowels)"
   ]
  },
  {
   "cell_type": "code",
   "execution_count": 104,
   "id": "6912f05e",
   "metadata": {},
   "outputs": [
    {
     "name": "stdout",
     "output_type": "stream",
     "text": [
      "False\n"
     ]
    }
   ],
   "source": [
    "print(\"j\" in vowels) "
   ]
  },
  {
   "cell_type": "code",
   "execution_count": 105,
   "id": "0f4a8201",
   "metadata": {},
   "outputs": [
    {
     "name": "stdout",
     "output_type": "stream",
     "text": [
      "False\n"
     ]
    }
   ],
   "source": [
    "print(\"u\" not in vowels)"
   ]
  },
  {
   "cell_type": "code",
   "execution_count": 106,
   "id": "9add8cb6",
   "metadata": {},
   "outputs": [
    {
     "name": "stdout",
     "output_type": "stream",
     "text": [
      "True\n"
     ]
    }
   ],
   "source": [
    "print(\"x\" not in vowels)"
   ]
  },
  {
   "cell_type": "code",
   "execution_count": 107,
   "id": "db770663",
   "metadata": {},
   "outputs": [
    {
     "data": {
      "text/plain": [
       "True"
      ]
     },
     "execution_count": 107,
     "metadata": {},
     "output_type": "execute_result"
    }
   ],
   "source": [
    "num=10\n",
    "(num%2==0)|(num%3==0)"
   ]
  },
  {
   "cell_type": "code",
   "execution_count": 108,
   "id": "337c8915",
   "metadata": {},
   "outputs": [
    {
     "data": {
      "text/plain": [
       "False"
      ]
     },
     "execution_count": 108,
     "metadata": {},
     "output_type": "execute_result"
    }
   ],
   "source": [
    "(num%2==0)&(num%3==0)"
   ]
  },
  {
   "cell_type": "code",
   "execution_count": 109,
   "id": "701c7139",
   "metadata": {},
   "outputs": [
    {
     "name": "stdout",
     "output_type": "stream",
     "text": [
      "5\n"
     ]
    }
   ],
   "source": [
    "a=2\n",
    "b=3\n",
    "a+=b\n",
    "print(a)"
   ]
  },
  {
   "cell_type": "code",
   "execution_count": 111,
   "id": "a35a36e8",
   "metadata": {},
   "outputs": [
    {
     "name": "stdout",
     "output_type": "stream",
     "text": [
      "-1\n"
     ]
    }
   ],
   "source": [
    "a-=b\n",
    "print(a)"
   ]
  },
  {
   "cell_type": "code",
   "execution_count": 113,
   "id": "0d19abd0",
   "metadata": {},
   "outputs": [
    {
     "name": "stdout",
     "output_type": "stream",
     "text": [
      "2\n"
     ]
    }
   ],
   "source": [
    "a%=b\n",
    "print(a)"
   ]
  },
  {
   "cell_type": "code",
   "execution_count": 115,
   "id": "00873456",
   "metadata": {},
   "outputs": [
    {
     "name": "stdout",
     "output_type": "stream",
     "text": [
      "0\n"
     ]
    }
   ],
   "source": [
    "a//=b\n",
    "print(a)"
   ]
  },
  {
   "cell_type": "code",
   "execution_count": 118,
   "id": "4836a0d6",
   "metadata": {},
   "outputs": [
    {
     "name": "stdout",
     "output_type": "stream",
     "text": [
      "8 is greater\n",
      "printed\n"
     ]
    }
   ],
   "source": [
    "num=8\n",
    "if(num>0):\n",
    "    print(num,\"is greater\")\n",
    "    print(\"printed\")"
   ]
  },
  {
   "cell_type": "code",
   "execution_count": 121,
   "id": "15f2f8bc",
   "metadata": {},
   "outputs": [
    {
     "name": "stdout",
     "output_type": "stream",
     "text": [
      "num\n"
     ]
    }
   ],
   "source": [
    "num=-1\n",
    "if(num>0):\n",
    "    print(num,\"is smaller\")\n",
    "print(\"num\")                    #works as else"
   ]
  },
  {
   "cell_type": "code",
   "execution_count": 123,
   "id": "65b85fa7",
   "metadata": {},
   "outputs": [
    {
     "name": "stdout",
     "output_type": "stream",
     "text": [
      "-1 is smaller than zero\n",
      "This is always printed\n"
     ]
    }
   ],
   "source": [
    "num=-1\n",
    "if(num>0):\n",
    "    print(num,\"is greater than zero\")\n",
    "else:\n",
    "    print(num,\"is smaller than zero\")\n",
    "    print(\"This is always printed\")"
   ]
  },
  {
   "cell_type": "code",
   "execution_count": 125,
   "id": "6e10bcd4",
   "metadata": {},
   "outputs": [
    {
     "name": "stdout",
     "output_type": "stream",
     "text": [
      "-8 is less than zero\n",
      "This is always printed\n"
     ]
    }
   ],
   "source": [
    "num=-8\n",
    "if(num>0):\n",
    "    print(num,\"is greater than zero\")\n",
    "else:\n",
    "    print(num,\"is less than zero\")\n",
    "print(\"This is always printed\")"
   ]
  },
  {
   "cell_type": "code",
   "execution_count": 126,
   "id": "f47c9dcf",
   "metadata": {},
   "outputs": [
    {
     "name": "stdout",
     "output_type": "stream",
     "text": [
      "Enter age: 8\n",
      "Bus fare is 20\n"
     ]
    }
   ],
   "source": [
    "age=int(input(\"Enter age: \"))\n",
    "if(0<age<3):\n",
    "    print(\"No fares for 0-3\")\n",
    "elif(3<age<10):\n",
    "    print(\"Bus fare is 20\")\n",
    "elif(10<age<20):\n",
    "    print(\"Bus fare is 25\")\n",
    "else:\n",
    "    print(\"Bus fare is 30\")"
   ]
  },
  {
   "cell_type": "code",
   "execution_count": 128,
   "id": "d1e1e9d1",
   "metadata": {},
   "outputs": [
    {
     "name": "stdout",
     "output_type": "stream",
     "text": [
      "49 is greater\n"
     ]
    }
   ],
   "source": [
    "n1=49\n",
    "n2=34\n",
    "n3=56\n",
    "if(n1>n2):\n",
    "    print(n1,\"is greater\")\n",
    "elif (n1<n2):\n",
    "    print(n2,\"is greater\")\n",
    "else:\n",
    "    print(n3,\"is greater\")"
   ]
  },
  {
   "cell_type": "code",
   "execution_count": 129,
   "id": "7233f198",
   "metadata": {},
   "outputs": [
    {
     "name": "stdout",
     "output_type": "stream",
     "text": [
      "89 is greater\n"
     ]
    }
   ],
   "source": [
    "n1=23\n",
    "n2=23\n",
    "n3=89\n",
    "if(n1>n2):\n",
    "    print(n1,\"is greater\")\n",
    "elif (n1<n2):\n",
    "    print(n2,\"is greater\")\n",
    "else:\n",
    "    print(n3,\"is greater\")"
   ]
  },
  {
   "cell_type": "code",
   "execution_count": 131,
   "id": "01f98422",
   "metadata": {},
   "outputs": [
    {
     "name": "stdout",
     "output_type": "stream",
     "text": [
      "23 is greater\n"
     ]
    }
   ],
   "source": [
    "n1=23\n",
    "n2=23\n",
    "n3=23\n",
    "if(n1>n2):\n",
    "    print(n1,\"is greater\")\n",
    "elif (n1<n2):\n",
    "    print(n2,\"is greater\")\n",
    "else:\n",
    "    print(n3,\"is greater\")"
   ]
  },
  {
   "cell_type": "code",
   "execution_count": 135,
   "id": "a971fb02",
   "metadata": {},
   "outputs": [
    {
     "name": "stdout",
     "output_type": "stream",
     "text": [
      "Enter the number: 1234\n",
      "password: abc\n",
      "Wrong password\n",
      "wrong id\n"
     ]
    }
   ],
   "source": [
    "user_id=input(\"Enter the number: \")\n",
    "password=input(\"password: \")\n",
    "if(user_id=='123'):\n",
    "    if(password=='abc'):\n",
    "        print(\"Password Accepted.Logged in\")\n",
    "else:\n",
    "    print(\"Wrong password\")"
   ]
  },
  {
   "cell_type": "code",
   "execution_count": 137,
   "id": "6f528703",
   "metadata": {},
   "outputs": [
    {
     "name": "stdout",
     "output_type": "stream",
     "text": [
      "Enter the cheque no. :1234\n",
      "IFSC : abc123\n",
      "Location :gfgfhg\n",
      "Cheque Bounced\n"
     ]
    }
   ],
   "source": [
    "cheque=input(\"Enter the cheque no. :\")\n",
    "ifsc=input(\"IFSC : \")\n",
    "Location=input(\"Location :\")\n",
    "if(cheque=='1234'):\n",
    "    if(ifsc=='abc123'):\n",
    "        if(Location=='Faridabad'):\n",
    "            print('Cheque Verified')\n",
    "        else:\n",
    "            print(\"Cheque Bounced\")\n",
    "    "
   ]
  },
  {
   "cell_type": "code",
   "execution_count": 140,
   "id": "4fc57e25",
   "metadata": {},
   "outputs": [
    {
     "name": "stdout",
     "output_type": "stream",
     "text": [
      "Enter user id: 567\n",
      "Password: abc\n"
     ]
    }
   ],
   "source": [
    "user_id=input(\"Enter user id: \")\n",
    "password=input(\"Password: \")\n",
    "if(password=='abc1'):\n",
    "    if(user_id=='123'):\n",
    "        print(\"Verified\")\n",
    "    else:\n",
    "        print(\"Not Verified\")"
   ]
  },
  {
   "cell_type": "code",
   "execution_count": 141,
   "id": "f3863233",
   "metadata": {},
   "outputs": [
    {
     "name": "stdout",
     "output_type": "stream",
     "text": [
      "Addition:  55\n"
     ]
    }
   ],
   "source": [
    "num=10\n",
    "add=0\n",
    "i=1\n",
    "\n",
    "while(i<=num):\n",
    "    add=add+i\n",
    "    i=i+1\n",
    "    \n",
    "print(\"Addition: \",add)"
   ]
  },
  {
   "cell_type": "code",
   "execution_count": 142,
   "id": "0fbf5787",
   "metadata": {},
   "outputs": [
    {
     "name": "stdout",
     "output_type": "stream",
     "text": [
      "Addition is  55\n"
     ]
    }
   ],
   "source": [
    "number=range(1,11)\n",
    "add=0\n",
    "for i in number:\n",
    "    add=add+i\n",
    "print(\"Addition is \",add)"
   ]
  },
  {
   "cell_type": "code",
   "execution_count": 143,
   "id": "f5daa567",
   "metadata": {},
   "outputs": [
    {
     "name": "stdout",
     "output_type": "stream",
     "text": [
      "30\n"
     ]
    }
   ],
   "source": [
    "a=10\n",
    "b=20\n",
    "a=a+b\n",
    "print(a)"
   ]
  },
  {
   "cell_type": "code",
   "execution_count": 145,
   "id": "9535f6b8",
   "metadata": {},
   "outputs": [
    {
     "name": "stdout",
     "output_type": "stream",
     "text": [
      "Enter the value of a: 8\n",
      "Enter the value of b: 9\n",
      "Sum of two num is :  17\n"
     ]
    }
   ],
   "source": [
    "a=int(input(\"Enter the value of a: \"))\n",
    "b=int(input(\"Enter the value of b: \"))\n",
    "Sum=a+b\n",
    "print(\"Sum of two num is : \",Sum)"
   ]
  },
  {
   "cell_type": "code",
   "execution_count": 147,
   "id": "a38f6cde",
   "metadata": {},
   "outputs": [
    {
     "name": "stdout",
     "output_type": "stream",
     "text": [
      "enter the value of a: 6\n",
      "enter the value of b: 7\n"
     ]
    },
    {
     "data": {
      "text/plain": [
       "13"
      ]
     },
     "execution_count": 147,
     "metadata": {},
     "output_type": "execute_result"
    }
   ],
   "source": [
    "def Sum(a,b):\n",
    "    Sum=a+b\n",
    "    return Sum\n",
    "a=int(input(\"enter the value of a: \"))\n",
    "b=int(input(\"enter the value of b: \"))\n",
    "Sum(a,b)"
   ]
  },
  {
   "cell_type": "code",
   "execution_count": 148,
   "id": "7a741c8b",
   "metadata": {},
   "outputs": [
    {
     "name": "stdout",
     "output_type": "stream",
     "text": [
      "30\n"
     ]
    }
   ],
   "source": [
    "def Sum(a,b):\n",
    "    Sum=a+b\n",
    "    return Sum\n",
    "a=10\n",
    "b=20\n",
    "print(Sum(a,b))"
   ]
  },
  {
   "cell_type": "code",
   "execution_count": 150,
   "id": "a74a34bd",
   "metadata": {},
   "outputs": [
    {
     "name": "stdout",
     "output_type": "stream",
     "text": [
      "Enter the value of a: 3\n",
      "ENter the value of b: 5\n",
      "8\n"
     ]
    }
   ],
   "source": [
    "def Sum(a,b):\n",
    "    add=a+b\n",
    "    return add\n",
    "a=int(input(\"Enter the value of a: \"))\n",
    "b=int(input(\"ENter the value of b: \"))\n",
    "print(Sum(a,b))"
   ]
  },
  {
   "cell_type": "code",
   "execution_count": 154,
   "id": "c849a2f8",
   "metadata": {},
   "outputs": [
    {
     "name": "stdout",
     "output_type": "stream",
     "text": [
      "sum of 10 and 20 is :30\n"
     ]
    }
   ],
   "source": [
    "a=10\n",
    "b=20\n",
    "\n",
    "sum=a+b\n",
    "print(\"sum of {0} and {1} is :{2}\".format(a,b,sum))"
   ]
  },
  {
   "cell_type": "code",
   "execution_count": 159,
   "id": "4ad63278",
   "metadata": {},
   "outputs": [
    {
     "name": "stdout",
     "output_type": "stream",
     "text": [
      "Enter the value of a: 3\n",
      "ENter the value of b: 4\n",
      "Sum of 3 and 4 is : 7\n"
     ]
    }
   ],
   "source": [
    "if __name__==\"__main__\":\n",
    "    a=int(input(\"Enter the value of a: \"))\n",
    "    b=int(input(\"ENter the value of b: \"))\n",
    "    sum=lambda a,b:a+b\n",
    "    print(\"Sum of {0} and {1} is : {2}\".format(a,b,sum(a,b)))\n"
   ]
  },
  {
   "cell_type": "code",
   "execution_count": 160,
   "id": "453d5f6d",
   "metadata": {},
   "outputs": [
    {
     "name": "stdout",
     "output_type": "stream",
     "text": [
      "Enter the value of a3\n",
      "Enter the value of b5\n",
      "Enter the value of c7\n",
      "c is greater\n"
     ]
    }
   ],
   "source": [
    "a=float(input(\"Enter the value of a\"))\n",
    "b=float(input(\"Enter the value of b\"))\n",
    "c=float(input(\"Enter the value of c\"))\n",
    "if (a>b and a>c):\n",
    "    print(\"a is greatest\")\n",
    "    \n",
    "    if (b>a and b>c):\n",
    "        print(\"b is greater\")\n",
    "else:\n",
    "    print(\"c is greater\")"
   ]
  },
  {
   "cell_type": "code",
   "execution_count": 163,
   "id": "450fed52",
   "metadata": {},
   "outputs": [
    {
     "name": "stdout",
     "output_type": "stream",
     "text": [
      "5\n"
     ]
    }
   ],
   "source": [
    "a=5\n",
    "b=5\n",
    "c=5\n",
    "print(max(a,b,c))"
   ]
  },
  {
   "cell_type": "code",
   "execution_count": 164,
   "id": "fdb8c60c",
   "metadata": {},
   "outputs": [
    {
     "name": "stdout",
     "output_type": "stream",
     "text": [
      "a: 3\n",
      "b: 5\n",
      "c: 7\n",
      "7.0\n"
     ]
    }
   ],
   "source": [
    "def max(a,b,c):\n",
    "    if (a>b and a>c):\n",
    "        return a\n",
    "    if (b>a and b>c):\n",
    "        return b\n",
    "    else:\n",
    "        return c\n",
    "a=float(input(\"a: \"))\n",
    "b=float(input(\"b: \"))\n",
    "c=float(input(\"c: \"))\n",
    "print(max(a,b,c))"
   ]
  },
  {
   "cell_type": "code",
   "execution_count": 168,
   "id": "a0264c5b",
   "metadata": {},
   "outputs": [
    {
     "name": "stdout",
     "output_type": "stream",
     "text": [
      "Enter the val: 5\n",
      "Factorial is :  120\n"
     ]
    },
    {
     "data": {
      "text/plain": [
       "120"
      ]
     },
     "execution_count": 168,
     "metadata": {},
     "output_type": "execute_result"
    }
   ],
   "source": [
    "def fact(n):\n",
    "    if n<0:\n",
    "        return 0\n",
    "    elif n==1 or n==0:\n",
    "        return 1\n",
    "    else:\n",
    "        fact=1\n",
    "        while(n>1):\n",
    "            fact=fact*n\n",
    "            n=n-1\n",
    "        return fact\n",
    "n=int(input(\"Enter the val: \"))\n",
    "print(\"Factorial is : \",fact(n))\n",
    "S"
   ]
  },
  {
   "cell_type": "code",
   "execution_count": 8,
   "id": "d7dc21b3",
   "metadata": {},
   "outputs": [
    {
     "name": "stdout",
     "output_type": "stream",
     "text": [
      "n: 6\n",
      "6 is not prime\n"
     ]
    }
   ],
   "source": [
    "num=int(input(\"n: \"))\n",
    "if num>1:\n",
    "    for i in range(2,num+1):\n",
    "        if (num%i==0):\n",
    "            print(num,\"is not prime\")\n",
    "            break\n",
    "        else:\n",
    "            print(num,\"num is prime\")"
   ]
  },
  {
   "cell_type": "code",
   "execution_count": 15,
   "id": "fbdcbb74",
   "metadata": {},
   "outputs": [
    {
     "name": "stdout",
     "output_type": "stream",
     "text": [
      "enter : 2\n",
      "enter: 10\n",
      "2 to 10\n",
      "2\n",
      "3\n",
      "5\n",
      "7\n"
     ]
    }
   ],
   "source": [
    "l=int(input(\"enter : \"))\n",
    "u=int(input(\"enter: \"))\n",
    "print(l,\"to\",u)\n",
    "for n in range(l,u+1):\n",
    "    if n>1:\n",
    "        for i in range(2,n):\n",
    "            if (n%i)==0:\n",
    "                break\n",
    "        else:\n",
    "            print(n)"
   ]
  },
  {
   "cell_type": "code",
   "execution_count": 17,
   "id": "86d84551",
   "metadata": {},
   "outputs": [
    {
     "name": "stdout",
     "output_type": "stream",
     "text": [
      "n: 22\n",
      "2\n",
      "3\n",
      "5\n",
      "7\n",
      "9\n",
      "11\n",
      "13\n",
      "15\n",
      "17\n",
      "19\n",
      "21\n"
     ]
    }
   ],
   "source": [
    "n=int(input(\"n: \"))\n",
    "for n in range(2,n+1):\n",
    "    if n>1:\n",
    "        for i in range(2,n):\n",
    "            if (n%2==0):\n",
    "                break\n",
    "        else:\n",
    "            print(n)"
   ]
  },
  {
   "cell_type": "code",
   "execution_count": 20,
   "id": "c69126ef",
   "metadata": {},
   "outputs": [
    {
     "name": "stdout",
     "output_type": "stream",
     "text": [
      "n: 5\n"
     ]
    },
    {
     "data": {
      "text/plain": [
       "120"
      ]
     },
     "execution_count": 20,
     "metadata": {},
     "output_type": "execute_result"
    }
   ],
   "source": [
    "n=int(input(\"n: \"))\n",
    "def fact(n):\n",
    "    if n<0:\n",
    "        return 0\n",
    "    if n==1 or n==0:\n",
    "        return 1\n",
    "    else:\n",
    "        fact=1\n",
    "        while(n>1):\n",
    "            fact=fact*n\n",
    "            n=n-1\n",
    "        return fact\n",
    "fact(n)"
   ]
  },
  {
   "cell_type": "code",
   "execution_count": 1,
   "id": "b6dcf1ad",
   "metadata": {},
   "outputs": [
    {
     "name": "stdout",
     "output_type": "stream",
     "text": [
      "enter: 5\n",
      "factorial: \n"
     ]
    },
    {
     "data": {
      "text/plain": [
       "120"
      ]
     },
     "execution_count": 1,
     "metadata": {},
     "output_type": "execute_result"
    }
   ],
   "source": [
    "def factorial(n):\n",
    "    return 1 if n==0 or n==1 else n*factorial(n-1);\n",
    "n=int(input(\"enter: \"))\n",
    "print(\"factorial: \")\n",
    "factorial(n)"
   ]
  },
  {
   "cell_type": "code",
   "execution_count": 8,
   "id": "457969e2",
   "metadata": {},
   "outputs": [
    {
     "name": "stdout",
     "output_type": "stream",
     "text": [
      "n: 9\n",
      "Ans:  29\n"
     ]
    }
   ],
   "source": [
    "def fibonacci(n):\n",
    "    if n<=0:\n",
    "        print(\"incorrect\")\n",
    "    elif n==1:\n",
    "        return 1\n",
    "    elif n==2:\n",
    "        return 1\n",
    "    else:\n",
    "        return fibonacci(n-1)+(n-2)\n",
    "    \n",
    "n=int(input(\"n: \"))\n",
    "print(\"Ans: \",fibonacci(n))"
   ]
  },
  {
   "cell_type": "code",
   "execution_count": 10,
   "id": "b1bc0388",
   "metadata": {},
   "outputs": [
    {
     "name": "stdout",
     "output_type": "stream",
     "text": [
      "n: 6\n",
      "5\n"
     ]
    }
   ],
   "source": [
    "def fibonacci(n):\n",
    "    a=0\n",
    "    b=1\n",
    "    if n<=0:\n",
    "        print(\"incorrect\")\n",
    "    elif n==1:\n",
    "        return 1\n",
    "    elif n==2:\n",
    "        return 1\n",
    "    else:\n",
    "        for i in range(2,n):\n",
    "            c=a+b\n",
    "            a=b\n",
    "            b=c\n",
    "        return b\n",
    "n=int(input(\"n: \"))\n",
    "print(fibonacci(n))"
   ]
  },
  {
   "cell_type": "code",
   "execution_count": 11,
   "id": "5a510325",
   "metadata": {},
   "outputs": [
    {
     "name": "stdout",
     "output_type": "stream",
     "text": [
      "103\n"
     ]
    }
   ],
   "source": [
    "char='g'\n",
    "print(ord(char))"
   ]
  },
  {
   "cell_type": "code",
   "execution_count": 12,
   "id": "cf9848a1",
   "metadata": {},
   "outputs": [
    {
     "name": "stdout",
     "output_type": "stream",
     "text": [
      "char: jyoti\n",
      "j \t 106\n",
      "y \t 121\n",
      "o \t 111\n",
      "t \t 116\n",
      "i \t 105\n"
     ]
    }
   ],
   "source": [
    "char=input(\"char: \")\n",
    "for i in char:\n",
    "    ascii=ord(i)\n",
    "    print(i,\"\\t\",ascii)"
   ]
  },
  {
   "cell_type": "code",
   "execution_count": 15,
   "id": "48df2185",
   "metadata": {},
   "outputs": [
    {
     "name": "stdout",
     "output_type": "stream",
     "text": [
      "enter: 6\n",
      "91\n"
     ]
    }
   ],
   "source": [
    "def sq(n):\n",
    "    sum=0\n",
    "    for i in range(1,n+1):\n",
    "        sum=sum+i*i\n",
    "    return sum\n",
    "n=int(input(\"enter: \"))\n",
    "print(sq(n))"
   ]
  },
  {
   "cell_type": "code",
   "execution_count": 16,
   "id": "a55859fd",
   "metadata": {},
   "outputs": [
    {
     "name": "stdout",
     "output_type": "stream",
     "text": [
      "enter: 3\n"
     ]
    },
    {
     "data": {
      "text/plain": [
       "36"
      ]
     },
     "execution_count": 16,
     "metadata": {},
     "output_type": "execute_result"
    }
   ],
   "source": [
    "def cube(n):\n",
    "    sum=0\n",
    "    for i in range(1,n+1):\n",
    "        sum=sum+i**3\n",
    "    return sum\n",
    "n=int(input(\"enter: \"))\n",
    "cube(n)"
   ]
  },
  {
   "cell_type": "code",
   "execution_count": 18,
   "id": "dbd9ab88",
   "metadata": {},
   "outputs": [
    {
     "name": "stdout",
     "output_type": "stream",
     "text": [
      "welcome\n",
      "hi dear\n",
      "call me\n"
     ]
    }
   ],
   "source": [
    "# FUnctions\n",
    "\n",
    "# def is used to create function\n",
    "\n",
    "def greet():\n",
    "    print(\"welcome\")\n",
    "    print(\"hi dear\")\n",
    "    print(\"call me\")\n",
    "greet()"
   ]
  },
  {
   "cell_type": "code",
   "execution_count": 23,
   "id": "fa5fce16",
   "metadata": {},
   "outputs": [
    {
     "name": "stdout",
     "output_type": "stream",
     "text": [
      "hi jyoti\n",
      "greet\n",
      "call\n"
     ]
    }
   ],
   "source": [
    "def greet(x):\n",
    "    print(\"hi\",x)\n",
    "    print(\"greet\")\n",
    "    print(\"call\")\n",
    "greet(\"jyoti\")"
   ]
  },
  {
   "cell_type": "code",
   "execution_count": 24,
   "id": "ded255c6",
   "metadata": {},
   "outputs": [
    {
     "data": {
      "text/plain": [
       "9"
      ]
     },
     "execution_count": 24,
     "metadata": {},
     "output_type": "execute_result"
    }
   ],
   "source": [
    "def add(x,y):\n",
    "    sum=x+y\n",
    "    return sum\n",
    "add(4,5)"
   ]
  },
  {
   "cell_type": "code",
   "execution_count": 27,
   "id": "f992600b",
   "metadata": {},
   "outputs": [
    {
     "data": {
      "text/plain": [
       "78.5"
      ]
     },
     "execution_count": 27,
     "metadata": {},
     "output_type": "execute_result"
    }
   ],
   "source": [
    "def cir(r):\n",
    "    area=3.14*r**2\n",
    "    return area\n",
    "cir(5)"
   ]
  },
  {
   "cell_type": "code",
   "execution_count": 28,
   "id": "5b4d07c5",
   "metadata": {},
   "outputs": [
    {
     "data": {
      "text/plain": [
       "113.0"
      ]
     },
     "execution_count": 28,
     "metadata": {},
     "output_type": "execute_result"
    }
   ],
   "source": [
    "def tem(c):\n",
    "    f=c*(9/5)+32\n",
    "    return f\n",
    "tem(45)\n",
    "   "
   ]
  },
  {
   "cell_type": "code",
   "execution_count": 29,
   "id": "e3c5fbfc",
   "metadata": {},
   "outputs": [
    {
     "name": "stdout",
     "output_type": "stream",
     "text": [
      "141.3\n"
     ]
    }
   ],
   "source": [
    "# volume of cylinder\n",
    "\n",
    "def cyl(r,h):\n",
    "    vol=3.14*r**2*h\n",
    "    print(vol)\n",
    "cyl(3,5)"
   ]
  },
  {
   "cell_type": "code",
   "execution_count": 31,
   "id": "67f561a6",
   "metadata": {},
   "outputs": [
    {
     "name": "stdout",
     "output_type": "stream",
     "text": [
      "odd\n"
     ]
    }
   ],
   "source": [
    "def eo(n):\n",
    "    if (n%2==0):\n",
    "        print(\"even\")\n",
    "    else:\n",
    "        print(\"odd\")\n",
    "eo(89)\n"
   ]
  },
  {
   "cell_type": "code",
   "execution_count": 32,
   "id": "5e4552de",
   "metadata": {},
   "outputs": [
    {
     "name": "stdout",
     "output_type": "stream",
     "text": [
      "even\n"
     ]
    }
   ],
   "source": [
    "eo(56)"
   ]
  },
  {
   "cell_type": "code",
   "execution_count": 33,
   "id": "df78f9e1",
   "metadata": {},
   "outputs": [
    {
     "name": "stdout",
     "output_type": "stream",
     "text": [
      "5.333333333333333\n"
     ]
    }
   ],
   "source": [
    "def avg(x,y,z):\n",
    "    avg=(x+y+z)/3\n",
    "    print(avg)\n",
    "avg(3,6,7)"
   ]
  },
  {
   "cell_type": "code",
   "execution_count": 34,
   "id": "d2babe6e",
   "metadata": {},
   "outputs": [
    {
     "name": "stdout",
     "output_type": "stream",
     "text": [
      "3.0\n"
     ]
    }
   ],
   "source": [
    "avg(3,3,3)"
   ]
  },
  {
   "cell_type": "code",
   "execution_count": 35,
   "id": "437aab95",
   "metadata": {},
   "outputs": [
    {
     "name": "stdout",
     "output_type": "stream",
     "text": [
      "l: 2 b: 3 h: 4\n",
      "Vol 24\n"
     ]
    }
   ],
   "source": [
    "def cubo(l,b,h):\n",
    "    print(\"l:\",l,\"b:\",b,\"h:\",h)\n",
    "    vol=l*b*h\n",
    "    print(\"Vol\",vol)\n",
    "cubo(2,3,4)"
   ]
  },
  {
   "cell_type": "code",
   "execution_count": 36,
   "id": "6d202b1b",
   "metadata": {},
   "outputs": [
    {
     "name": "stdout",
     "output_type": "stream",
     "text": [
      "l: 8.9 b: 5 h: 7.9\n",
      "Vol 351.55\n"
     ]
    }
   ],
   "source": [
    "cubo(8.9,5,7.9)"
   ]
  },
  {
   "cell_type": "code",
   "execution_count": 45,
   "id": "cad06300",
   "metadata": {},
   "outputs": [
    {
     "name": "stdout",
     "output_type": "stream",
     "text": [
      "[13, 14, 11]\n",
      "List:  [11, 13, 14]\n"
     ]
    },
    {
     "data": {
      "text/plain": [
       "[11, 13, 14]"
      ]
     },
     "execution_count": 45,
     "metadata": {},
     "output_type": "execute_result"
    }
   ],
   "source": [
    "def med(list):\n",
    "    list=[13,14,11]\n",
    "    print(list)\n",
    "    list.sort()\n",
    "    print(\"List: \",list)\n",
    "    return list\n",
    "med(list)"
   ]
  },
  {
   "cell_type": "code",
   "execution_count": 46,
   "id": "f3422a00",
   "metadata": {},
   "outputs": [
    {
     "data": {
      "text/plain": [
       "[2, 4, 9]"
      ]
     },
     "execution_count": 46,
     "metadata": {},
     "output_type": "execute_result"
    }
   ],
   "source": [
    "def med(p,q,r):\n",
    "    z=[p,q,r]\n",
    "    z.sort()\n",
    "    return z\n",
    "med(2,9,4)\n",
    "            "
   ]
  },
  {
   "cell_type": "code",
   "execution_count": 47,
   "id": "d17040bc",
   "metadata": {},
   "outputs": [
    {
     "data": {
      "text/plain": [
       "[3, 5, 7]"
      ]
     },
     "execution_count": 47,
     "metadata": {},
     "output_type": "execute_result"
    }
   ],
   "source": [
    "med(3,5,7)"
   ]
  },
  {
   "cell_type": "code",
   "execution_count": 48,
   "id": "5cf041a6",
   "metadata": {},
   "outputs": [
    {
     "name": "stdout",
     "output_type": "stream",
     "text": [
      "18.84\n"
     ]
    },
    {
     "data": {
      "text/plain": [
       "(18.84, 28.26)"
      ]
     },
     "execution_count": 48,
     "metadata": {},
     "output_type": "execute_result"
    }
   ],
   "source": [
    "def area(r):\n",
    "    cir=2*3.14*r\n",
    "    area=3.14*r**2\n",
    "    print(cir)\n",
    "    return cir,area\n",
    "area(3)"
   ]
  },
  {
   "cell_type": "code",
   "execution_count": 52,
   "id": "c5dd3a28",
   "metadata": {},
   "outputs": [
    {
     "name": "stdout",
     "output_type": "stream",
     "text": [
      "100.0\n"
     ]
    }
   ],
   "source": [
    "def si(p,r,t=2):\n",
    "    si=p*r*t/100\n",
    "    print(si)\n",
    "si(1000,5)\n"
   ]
  },
  {
   "cell_type": "code",
   "execution_count": 74,
   "id": "ee20d4e0",
   "metadata": {},
   "outputs": [
    {
     "name": "stdout",
     "output_type": "stream",
     "text": [
      "original [12, 46, 13, 89, 9, 56, 34]\n",
      "sorted list [9, 12, 13, 34, 46, 56, 89]\n"
     ]
    },
    {
     "data": {
      "text/plain": [
       "89"
      ]
     },
     "execution_count": 74,
     "metadata": {},
     "output_type": "execute_result"
    }
   ],
   "source": [
    "def myfun(*n):\n",
    "    mylis=list(n)\n",
    "    print(\"original\",mylis)\n",
    "    mylis.sort()\n",
    "    print(\"sorted list\",mylis)\n",
    "    return mylis[-1]\n",
    "\n",
    "myfun(12,46,13,89,9,56,34)"
   ]
  },
  {
   "cell_type": "code",
   "execution_count": 82,
   "id": "ae2dd338",
   "metadata": {},
   "outputs": [
    {
     "data": {
      "text/plain": [
       "7"
      ]
     },
     "execution_count": 82,
     "metadata": {},
     "output_type": "execute_result"
    }
   ],
   "source": [
    "len([2,3,4,5,6,7,8])"
   ]
  },
  {
   "cell_type": "code",
   "execution_count": 99,
   "id": "75fff69a",
   "metadata": {},
   "outputs": [
    {
     "ename": "TypeError",
     "evalue": "'list' object is not callable",
     "output_type": "error",
     "traceback": [
      "\u001b[1;31m---------------------------------------------------------------------------\u001b[0m",
      "\u001b[1;31mTypeError\u001b[0m                                 Traceback (most recent call last)",
      "\u001b[1;32m~\\AppData\\Local\\Temp\\ipykernel_17292\\1775007894.py\u001b[0m in \u001b[0;36m<module>\u001b[1;34m\u001b[0m\n\u001b[0;32m     11\u001b[0m         \u001b[0mmedian\u001b[0m\u001b[1;33m=\u001b[0m\u001b[0mmyl\u001b[0m\u001b[1;33m[\u001b[0m\u001b[0mi\u001b[0m\u001b[1;33m-\u001b[0m\u001b[1;36m1\u001b[0m\u001b[1;33m]\u001b[0m\u001b[1;33m\u001b[0m\u001b[1;33m\u001b[0m\u001b[0m\n\u001b[0;32m     12\u001b[0m     \u001b[1;32mreturn\u001b[0m \u001b[0mmedian\u001b[0m\u001b[1;33m\u001b[0m\u001b[1;33m\u001b[0m\u001b[0m\n\u001b[1;32m---> 13\u001b[1;33m \u001b[0mmed\u001b[0m\u001b[1;33m(\u001b[0m\u001b[1;36m34\u001b[0m\u001b[1;33m,\u001b[0m\u001b[1;36m67\u001b[0m\u001b[1;33m,\u001b[0m\u001b[1;36m89\u001b[0m\u001b[1;33m,\u001b[0m\u001b[1;36m45\u001b[0m\u001b[1;33m,\u001b[0m\u001b[1;36m67\u001b[0m\u001b[1;33m,\u001b[0m\u001b[1;36m89\u001b[0m\u001b[1;33m)\u001b[0m\u001b[1;33m\u001b[0m\u001b[1;33m\u001b[0m\u001b[0m\n\u001b[0m",
      "\u001b[1;32m~\\AppData\\Local\\Temp\\ipykernel_17292\\1775007894.py\u001b[0m in \u001b[0;36mmed\u001b[1;34m(*n)\u001b[0m\n\u001b[0;32m      1\u001b[0m \u001b[1;32mdef\u001b[0m \u001b[0mmed\u001b[0m\u001b[1;33m(\u001b[0m\u001b[1;33m*\u001b[0m\u001b[0mn\u001b[0m\u001b[1;33m)\u001b[0m\u001b[1;33m:\u001b[0m\u001b[1;33m\u001b[0m\u001b[1;33m\u001b[0m\u001b[0m\n\u001b[1;32m----> 2\u001b[1;33m     \u001b[0mmyl\u001b[0m\u001b[1;33m=\u001b[0m\u001b[0mlist\u001b[0m\u001b[1;33m(\u001b[0m\u001b[0mn\u001b[0m\u001b[1;33m)\u001b[0m\u001b[1;33m\u001b[0m\u001b[1;33m\u001b[0m\u001b[0m\n\u001b[0m\u001b[0;32m      3\u001b[0m     \u001b[0mmyl\u001b[0m\u001b[1;33m.\u001b[0m\u001b[0msort\u001b[0m\u001b[1;33m(\u001b[0m\u001b[1;33m)\u001b[0m\u001b[1;33m\u001b[0m\u001b[1;33m\u001b[0m\u001b[0m\n\u001b[0;32m      4\u001b[0m     \u001b[0mcount\u001b[0m\u001b[1;33m=\u001b[0m\u001b[0mlen\u001b[0m\u001b[1;33m(\u001b[0m\u001b[0mn\u001b[0m\u001b[1;33m)\u001b[0m\u001b[1;33m\u001b[0m\u001b[1;33m\u001b[0m\u001b[0m\n\u001b[0;32m      5\u001b[0m     \u001b[1;32mif\u001b[0m \u001b[0mcount\u001b[0m\u001b[1;33m%\u001b[0m\u001b[1;36m2\u001b[0m\u001b[1;33m==\u001b[0m\u001b[1;36m0\u001b[0m\u001b[1;33m:\u001b[0m\u001b[1;33m\u001b[0m\u001b[1;33m\u001b[0m\u001b[0m\n",
      "\u001b[1;31mTypeError\u001b[0m: 'list' object is not callable"
     ]
    }
   ],
   "source": [
    "def med(*n):\n",
    "    myl=list(n)\n",
    "    myl.sort()\n",
    "    count=len(n)\n",
    "    if count%2==0:\n",
    "        i1=int(count/2)\n",
    "        i2=int(count/2+1)\n",
    "        median=((myl[i1-1]+myl[i2-1]))/2\n",
    "    else:\n",
    "        i=int((count+1)/2)\n",
    "        median=myl[i-1]\n",
    "    return median\n",
    "med(34,67,89,45,67,89)"
   ]
  },
  {
   "cell_type": "code",
   "execution_count": 102,
   "id": "34c08a52",
   "metadata": {},
   "outputs": [
    {
     "name": "stdout",
     "output_type": "stream",
     "text": [
      "{'ram': 20, 'shyam': 50}\n"
     ]
    }
   ],
   "source": [
    "def marks(**n):\n",
    "    print(n)\n",
    "marks(ram=20,shyam=50)"
   ]
  },
  {
   "cell_type": "code",
   "execution_count": 103,
   "id": "ce325e97",
   "metadata": {},
   "outputs": [],
   "source": [
    "sum=lambda x1,x2:x1+x2"
   ]
  },
  {
   "cell_type": "code",
   "execution_count": 104,
   "id": "716c8e87",
   "metadata": {},
   "outputs": [
    {
     "data": {
      "text/plain": [
       "7"
      ]
     },
     "execution_count": 104,
     "metadata": {},
     "output_type": "execute_result"
    }
   ],
   "source": [
    "sum(3,4)"
   ]
  },
  {
   "cell_type": "code",
   "execution_count": 105,
   "id": "d336197d",
   "metadata": {},
   "outputs": [
    {
     "data": {
      "text/plain": [
       "134"
      ]
     },
     "execution_count": 105,
     "metadata": {},
     "output_type": "execute_result"
    }
   ],
   "source": [
    "sum(56,78)"
   ]
  },
  {
   "cell_type": "code",
   "execution_count": 106,
   "id": "6260d30c",
   "metadata": {},
   "outputs": [
    {
     "data": {
      "text/plain": [
       "400.0"
      ]
     },
     "execution_count": 106,
     "metadata": {},
     "output_type": "execute_result"
    }
   ],
   "source": [
    "si=lambda p,r,t:(p*r*t)/100\n",
    "si(4000,5,2)"
   ]
  },
  {
   "cell_type": "code",
   "execution_count": 107,
   "id": "59d4345d",
   "metadata": {},
   "outputs": [
    {
     "data": {
      "text/plain": [
       "216"
      ]
     },
     "execution_count": 107,
     "metadata": {},
     "output_type": "execute_result"
    }
   ],
   "source": [
    "cube=lambda a:a**3\n",
    "cube(6)"
   ]
  },
  {
   "cell_type": "code",
   "execution_count": 108,
   "id": "b96c426a",
   "metadata": {},
   "outputs": [
    {
     "data": {
      "text/plain": [
       "314.0"
      ]
     },
     "execution_count": 108,
     "metadata": {},
     "output_type": "execute_result"
    }
   ],
   "source": [
    "area=lambda r:3.14*r**2\n",
    "area(10)"
   ]
  },
  {
   "cell_type": "code",
   "execution_count": 110,
   "id": "94e5d1f4",
   "metadata": {},
   "outputs": [
    {
     "data": {
      "text/plain": [
       "'Welcome Jyoti'"
      ]
     },
     "execution_count": 110,
     "metadata": {},
     "output_type": "execute_result"
    }
   ],
   "source": [
    "dis=lambda name: \"Welcome \"+name\n",
    "dis(\"Jyoti\")"
   ]
  },
  {
   "cell_type": "code",
   "execution_count": 113,
   "id": "9df5c060",
   "metadata": {},
   "outputs": [
    {
     "name": "stdout",
     "output_type": "stream",
     "text": [
      "welcome ('jyoti', 'sharma')\n"
     ]
    }
   ],
   "source": [
    "greet=lambda *name:print(\"welcome\",name)\n",
    "greet(\"jyoti\",\"sharma\")"
   ]
  },
  {
   "cell_type": "code",
   "execution_count": 115,
   "id": "ecce0d3f",
   "metadata": {},
   "outputs": [
    {
     "name": "stdout",
     "output_type": "stream",
     "text": [
      "even\n"
     ]
    }
   ],
   "source": [
    "eo=lambda n:print(\"even\") if n%2==0 else print(\"odd\")\n",
    "eo(6)"
   ]
  },
  {
   "cell_type": "code",
   "execution_count": 120,
   "id": "c2d655ae",
   "metadata": {},
   "outputs": [
    {
     "name": "stdout",
     "output_type": "stream",
     "text": [
      "[12, 34, 56, 78]\n"
     ]
    }
   ],
   "source": [
    "mylist=[12,23,34,56,67,78]\n",
    "list=[]\n",
    "for i in mylist:\n",
    "    if i%2==0:\n",
    "        list.append(i)\n",
    "print(list)"
   ]
  },
  {
   "cell_type": "code",
   "execution_count": 126,
   "id": "20c8cbc8",
   "metadata": {},
   "outputs": [
    {
     "ename": "TypeError",
     "evalue": "'list' object is not callable",
     "output_type": "error",
     "traceback": [
      "\u001b[1;31m---------------------------------------------------------------------------\u001b[0m",
      "\u001b[1;31mTypeError\u001b[0m                                 Traceback (most recent call last)",
      "\u001b[1;32m~\\AppData\\Local\\Temp\\ipykernel_17292\\115978215.py\u001b[0m in \u001b[0;36m<module>\u001b[1;34m\u001b[0m\n\u001b[0;32m      1\u001b[0m \u001b[0mmylist\u001b[0m\u001b[1;33m=\u001b[0m\u001b[1;33m[\u001b[0m\u001b[1;36m12\u001b[0m\u001b[1;33m,\u001b[0m\u001b[1;36m23\u001b[0m\u001b[1;33m,\u001b[0m\u001b[1;36m34\u001b[0m\u001b[1;33m,\u001b[0m\u001b[1;36m56\u001b[0m\u001b[1;33m,\u001b[0m\u001b[1;36m67\u001b[0m\u001b[1;33m,\u001b[0m\u001b[1;36m78\u001b[0m\u001b[1;33m]\u001b[0m\u001b[1;33m\u001b[0m\u001b[1;33m\u001b[0m\u001b[0m\n\u001b[1;32m----> 2\u001b[1;33m \u001b[0mlist\u001b[0m\u001b[1;33m(\u001b[0m\u001b[0mfilter\u001b[0m\u001b[1;33m(\u001b[0m\u001b[1;32mlambda\u001b[0m \u001b[0mx\u001b[0m\u001b[1;33m:\u001b[0m\u001b[0mx\u001b[0m\u001b[1;33m%\u001b[0m\u001b[1;36m2\u001b[0m\u001b[1;33m==\u001b[0m\u001b[1;36m0\u001b[0m\u001b[1;33m,\u001b[0m\u001b[0mmylist\u001b[0m\u001b[1;33m)\u001b[0m\u001b[1;33m)\u001b[0m\u001b[1;33m\u001b[0m\u001b[1;33m\u001b[0m\u001b[0m\n\u001b[0m",
      "\u001b[1;31mTypeError\u001b[0m: 'list' object is not callable"
     ]
    }
   ],
   "source": [
    "mylist=[12,23,34,56,67,78]\n",
    "list(filter(lambda x:x%2==0,mylist))"
   ]
  },
  {
   "cell_type": "code",
   "execution_count": 130,
   "id": "55d0fa0b",
   "metadata": {},
   "outputs": [
    {
     "ename": "TypeError",
     "evalue": "'list' object is not callable",
     "output_type": "error",
     "traceback": [
      "\u001b[1;31m---------------------------------------------------------------------------\u001b[0m",
      "\u001b[1;31mTypeError\u001b[0m                                 Traceback (most recent call last)",
      "\u001b[1;32m~\\AppData\\Local\\Temp\\ipykernel_17292\\2729848069.py\u001b[0m in \u001b[0;36m<module>\u001b[1;34m\u001b[0m\n\u001b[0;32m      1\u001b[0m \u001b[0mmylist\u001b[0m\u001b[1;33m=\u001b[0m\u001b[1;33m[\u001b[0m\u001b[1;36m12\u001b[0m\u001b[1;33m,\u001b[0m\u001b[1;34m\"a\"\u001b[0m\u001b[1;33m,\u001b[0m\u001b[1;34m\"b\"\u001b[0m\u001b[1;33m,\u001b[0m\u001b[1;36m23\u001b[0m\u001b[1;33m,\u001b[0m\u001b[1;36m34\u001b[0m\u001b[1;33m,\u001b[0m\u001b[1;32mTrue\u001b[0m\u001b[1;33m,\u001b[0m\u001b[1;36m56\u001b[0m\u001b[1;33m,\u001b[0m\u001b[1;36m67\u001b[0m\u001b[1;33m,\u001b[0m\u001b[1;36m78\u001b[0m\u001b[1;33m]\u001b[0m\u001b[1;33m\u001b[0m\u001b[1;33m\u001b[0m\u001b[0m\n\u001b[1;32m----> 2\u001b[1;33m \u001b[0mlist\u001b[0m\u001b[1;33m(\u001b[0m\u001b[0mfilter\u001b[0m\u001b[1;33m(\u001b[0m\u001b[1;32mlambda\u001b[0m \u001b[0mx\u001b[0m\u001b[1;33m:\u001b[0m\u001b[0mtype\u001b[0m\u001b[1;33m(\u001b[0m\u001b[0mx\u001b[0m\u001b[1;33m)\u001b[0m\u001b[1;33m==\u001b[0m\u001b[0mstr\u001b[0m\u001b[1;33m,\u001b[0m\u001b[0mmylist\u001b[0m\u001b[1;33m)\u001b[0m\u001b[1;33m)\u001b[0m\u001b[1;33m\u001b[0m\u001b[1;33m\u001b[0m\u001b[0m\n\u001b[0m",
      "\u001b[1;31mTypeError\u001b[0m: 'list' object is not callable"
     ]
    }
   ],
   "source": [
    "mylist=[12,\"a\",\"b\",23,34,True,56,67,78]\n",
    "list(filter(lambda x:type(x)==str,mylist))"
   ]
  },
  {
   "cell_type": "code",
   "execution_count": 128,
   "id": "f22f3c18",
   "metadata": {},
   "outputs": [
    {
     "ename": "TypeError",
     "evalue": "'list' object is not callable",
     "output_type": "error",
     "traceback": [
      "\u001b[1;31m---------------------------------------------------------------------------\u001b[0m",
      "\u001b[1;31mTypeError\u001b[0m                                 Traceback (most recent call last)",
      "\u001b[1;32m~\\AppData\\Local\\Temp\\ipykernel_17292\\1062896447.py\u001b[0m in \u001b[0;36m<module>\u001b[1;34m\u001b[0m\n\u001b[0;32m      1\u001b[0m \u001b[0mmylist\u001b[0m\u001b[1;33m=\u001b[0m\u001b[1;33m[\u001b[0m\u001b[1;36m12\u001b[0m\u001b[1;33m,\u001b[0m\u001b[1;36m23\u001b[0m\u001b[1;33m,\u001b[0m\u001b[1;36m34\u001b[0m\u001b[1;33m,\u001b[0m\u001b[1;36m56\u001b[0m\u001b[1;33m,\u001b[0m\u001b[1;36m67\u001b[0m\u001b[1;33m,\u001b[0m\u001b[1;36m78\u001b[0m\u001b[1;33m]\u001b[0m\u001b[1;33m\u001b[0m\u001b[1;33m\u001b[0m\u001b[0m\n\u001b[1;32m----> 2\u001b[1;33m \u001b[0mlist\u001b[0m\u001b[1;33m(\u001b[0m\u001b[0mmap\u001b[0m\u001b[1;33m(\u001b[0m\u001b[1;32mlambda\u001b[0m \u001b[0mx\u001b[0m\u001b[1;33m:\u001b[0m\u001b[0mx\u001b[0m\u001b[1;33m**\u001b[0m\u001b[1;36m2\u001b[0m\u001b[1;33m,\u001b[0m\u001b[0mmylist\u001b[0m\u001b[1;33m)\u001b[0m\u001b[1;33m)\u001b[0m\u001b[1;33m\u001b[0m\u001b[1;33m\u001b[0m\u001b[0m\n\u001b[0m",
      "\u001b[1;31mTypeError\u001b[0m: 'list' object is not callable"
     ]
    }
   ],
   "source": [
    "mylist=[12,23,34,56,67,78]\n",
    "list(map(lambda x:x**2,mylist))"
   ]
  },
  {
   "cell_type": "code",
   "execution_count": null,
   "id": "4ab12995",
   "metadata": {},
   "outputs": [],
   "source": [
    "# WAP a program that will tell whether the no entered by the user is even or odd.\n",
    "# WAP a program that will tell whether the given no is a leap year or not.\n",
    "# WAP a program to find the Euclidean distance between the two coordinates.\n",
    "# WAP a program to find out whether it can form a triangle or not.\n",
    "# WAP a program that take a user input of cost price and selling price and determineas whether its a loss or profit."
   ]
  },
  {
   "cell_type": "code",
   "execution_count": 131,
   "id": "ddb6c9bf",
   "metadata": {},
   "outputs": [
    {
     "name": "stdout",
     "output_type": "stream",
     "text": [
      "Enter n: 4\n",
      "4 is even\n"
     ]
    }
   ],
   "source": [
    "n=int(input(\"Enter n: \"))\n",
    "if (n%2==0):\n",
    "    print(n,\"is even\")\n",
    "else:\n",
    "    print(n,\"is odd\")"
   ]
  },
  {
   "cell_type": "code",
   "execution_count": 132,
   "id": "b69d5757",
   "metadata": {},
   "outputs": [
    {
     "name": "stdout",
     "output_type": "stream",
     "text": [
      "Enter: 1997\n",
      "1997 is not a leap year\n"
     ]
    }
   ],
   "source": [
    "year=int(input(\"Enter: \"))\n",
    "if (year%400==0) and (year%100==0):\n",
    "    print(year,\"is leap year\")\n",
    "elif (year%400==0) and (year%100!=0):\n",
    "    print(year,\"is leap year\")\n",
    "else:\n",
    "    print(year,\"is not a leap year\")"
   ]
  },
  {
   "cell_type": "code",
   "execution_count": 136,
   "id": "6ce2618c",
   "metadata": {},
   "outputs": [
    {
     "data": {
      "text/plain": [
       "0.5"
      ]
     },
     "execution_count": 136,
     "metadata": {},
     "output_type": "execute_result"
    }
   ],
   "source": [
    "def eu(x1,x2,y1,y2):\n",
    "    eucli=((x2-x2)+(y2-y1))*0.5\n",
    "    return eucli\n",
    "eu(3,4,5,6)"
   ]
  },
  {
   "cell_type": "code",
   "execution_count": 139,
   "id": "564ad540",
   "metadata": {},
   "outputs": [
    {
     "name": "stdout",
     "output_type": "stream",
     "text": [
      "perfectly triangle\n"
     ]
    }
   ],
   "source": [
    "def tri(a,b,c):\n",
    "    if (a+b+c)==180:\n",
    "        print(\"perfectly triangle\")\n",
    "    else:\n",
    "        print(\"not a traiangle\")\n",
    "tri(60,30,90)"
   ]
  },
  {
   "cell_type": "code",
   "execution_count": 140,
   "id": "56a0fefb",
   "metadata": {},
   "outputs": [
    {
     "name": "stdout",
     "output_type": "stream",
     "text": [
      "profit\n"
     ]
    }
   ],
   "source": [
    "def find(c,s):\n",
    "    if s>c:\n",
    "        print(\"profit\")\n",
    "    elif s<c:\n",
    "        print(\"loss\")\n",
    "    else:\n",
    "        print(\"nothing\")\n",
    "find(45,78)"
   ]
  },
  {
   "cell_type": "code",
   "execution_count": 142,
   "id": "f2f3c722",
   "metadata": {},
   "outputs": [
    {
     "name": "stdout",
     "output_type": "stream",
     "text": [
      "profit\n"
     ]
    }
   ],
   "source": [
    "check=lambda cp,sp:print(\"profit\") if sp>cp else print(\"loss\")\n",
    "check(45,90)"
   ]
  },
  {
   "cell_type": "code",
   "execution_count": null,
   "id": "de75181f",
   "metadata": {},
   "outputs": [],
   "source": [
    "#r: read operation\n",
    "# w: write operation\n",
    "# a: append function\n",
    "# r+: read and write the previous data will not be deleted \n",
    "# w+ :To write and read.  Overrite . Previous data will be deleted.\n",
    "# a+ : append and read the data. Not overrite"
   ]
  },
  {
   "cell_type": "code",
   "execution_count": 1,
   "id": "c4c0e1d5",
   "metadata": {},
   "outputs": [
    {
     "data": {
      "text/plain": [
       "<_io.TextIOWrapper name='C:\\\\Users\\\\hp\\\\Documents\\\\fox.txt' mode='r' encoding='cp1252'>"
      ]
     },
     "execution_count": 1,
     "metadata": {},
     "output_type": "execute_result"
    }
   ],
   "source": [
    "# open() : to open the file\n",
    "\n",
    "file=open(\"C:\\\\Users\\\\hp\\\\Documents\\\\fox.txt\")\n",
    "file"
   ]
  },
  {
   "cell_type": "code",
   "execution_count": 2,
   "id": "0ba0b798",
   "metadata": {},
   "outputs": [
    {
     "data": {
      "text/plain": [
       "'The quick brown fox jumps over the lazy dog.\\nThe quick brown fox jumps over the lazy dog.\\nThe quick brown fox jumps over the lazy dog.\\nThe quick brown fox jumps over the lazy dog.\\nThe quick brown fox jumps over the lazy dog.\\nThe quick brown fox jumps over the lazy dog.\\n'"
      ]
     },
     "execution_count": 2,
     "metadata": {},
     "output_type": "execute_result"
    }
   ],
   "source": [
    "# read() -- to read the file\n",
    "\n",
    "file.read()"
   ]
  },
  {
   "cell_type": "code",
   "execution_count": 4,
   "id": "91829364",
   "metadata": {},
   "outputs": [
    {
     "data": {
      "text/plain": [
       "'The quick brown fox jumps over the lazy dog.1\\n'"
      ]
     },
     "execution_count": 4,
     "metadata": {},
     "output_type": "execute_result"
    }
   ],
   "source": [
    "# readline() -- to read the file line by line\n",
    "\n",
    "file=open(\"C:\\\\Users\\\\hp\\\\Documents\\\\fox.txt\")\n",
    "file.readline()"
   ]
  },
  {
   "cell_type": "code",
   "execution_count": 5,
   "id": "6b6e9f12",
   "metadata": {},
   "outputs": [
    {
     "data": {
      "text/plain": [
       "'The quick brown fox jumps over the lazy dog.2\\n'"
      ]
     },
     "execution_count": 5,
     "metadata": {},
     "output_type": "execute_result"
    }
   ],
   "source": [
    "# if we run again .. cursor will move to second line\n",
    "\n",
    "file.readline()"
   ]
  },
  {
   "cell_type": "code",
   "execution_count": 6,
   "id": "ffa52a14",
   "metadata": {},
   "outputs": [
    {
     "data": {
      "text/plain": [
       "'The quick brown fox jumps over the lazy dog.3\\nThe quick brown fox jumps over the lazy dog.4\\nThe quick brown fox jumps over the lazy dog.5\\nThe quick brown fox jumps over the lazy dog.6\\n'"
      ]
     },
     "execution_count": 6,
     "metadata": {},
     "output_type": "execute_result"
    }
   ],
   "source": [
    "file.read()"
   ]
  },
  {
   "cell_type": "code",
   "execution_count": 9,
   "id": "ff172152",
   "metadata": {},
   "outputs": [
    {
     "data": {
      "text/plain": [
       "''"
      ]
     },
     "execution_count": 9,
     "metadata": {},
     "output_type": "execute_result"
    }
   ],
   "source": [
    "file.read(2)"
   ]
  },
  {
   "cell_type": "code",
   "execution_count": 11,
   "id": "9d056285",
   "metadata": {},
   "outputs": [
    {
     "data": {
      "text/plain": [
       "<_io.TextIOWrapper name='C:\\\\Users\\\\hp\\\\Documents\\\\fox.txt' mode='r' encoding='cp1252'>"
      ]
     },
     "execution_count": 11,
     "metadata": {},
     "output_type": "execute_result"
    }
   ],
   "source": [
    "file=open(\"C:\\\\Users\\\\hp\\\\Documents\\\\fox.txt\",'r')\n",
    "file"
   ]
  },
  {
   "cell_type": "code",
   "execution_count": 12,
   "id": "65c68fc0",
   "metadata": {},
   "outputs": [
    {
     "data": {
      "text/plain": [
       "<_io.TextIOWrapper name='C:\\\\Users\\\\hp\\\\Documents\\\\fox.txt' mode='w' encoding='cp1252'>"
      ]
     },
     "execution_count": 12,
     "metadata": {},
     "output_type": "execute_result"
    }
   ],
   "source": [
    "file=open(\"C:\\\\Users\\\\hp\\\\Documents\\\\fox.txt\",'w')\n",
    "file\n",
    "# write mode , 'w' -- it overrites...deletes the previous and write \n",
    "# new data"
   ]
  },
  {
   "cell_type": "code",
   "execution_count": 14,
   "id": "1c8b9567",
   "metadata": {},
   "outputs": [
    {
     "data": {
      "text/plain": [
       "44"
      ]
     },
     "execution_count": 14,
     "metadata": {},
     "output_type": "execute_result"
    }
   ],
   "source": [
    "# write() -- to write into file. It overrites if opened in write mode.\n",
    "file.write(\"I am writing new file in my old file.\")\n",
    "file.write(\"This is further to above line\")\n",
    "file.write(\"I am adding one more line in my current file\")"
   ]
  },
  {
   "cell_type": "code",
   "execution_count": 15,
   "id": "926579fc",
   "metadata": {},
   "outputs": [],
   "source": [
    "# close()-- to close the file\n",
    "file.close()"
   ]
  },
  {
   "cell_type": "code",
   "execution_count": 17,
   "id": "3edaa43a",
   "metadata": {},
   "outputs": [
    {
     "data": {
      "text/plain": [
       "<_io.TextIOWrapper name='C:\\\\Users\\\\hp\\\\Documents\\\\fox.txt' mode='r' encoding='cp1252'>"
      ]
     },
     "execution_count": 17,
     "metadata": {},
     "output_type": "execute_result"
    }
   ],
   "source": [
    "file=open(\"C:\\\\Users\\\\hp\\\\Documents\\\\fox.txt\",'r')\n",
    "file"
   ]
  },
  {
   "cell_type": "code",
   "execution_count": 18,
   "id": "e2ad33fd",
   "metadata": {},
   "outputs": [
    {
     "data": {
      "text/plain": [
       "<_io.TextIOWrapper name='C:\\\\Users\\\\hp\\\\Documents\\\\fox.txt' mode='a' encoding='cp1252'>"
      ]
     },
     "execution_count": 18,
     "metadata": {},
     "output_type": "execute_result"
    }
   ],
   "source": [
    "file=open(\"C:\\\\Users\\\\hp\\\\Documents\\\\fox.txt\",'a')\n",
    "file\n",
    "# adds new lines with previous lines."
   ]
  },
  {
   "cell_type": "code",
   "execution_count": 19,
   "id": "4577717e",
   "metadata": {},
   "outputs": [],
   "source": [
    "file=open(\"C:\\\\Users\\\\hp\\\\Documents\\\\fox.txt\",'a')\n"
   ]
  },
  {
   "cell_type": "code",
   "execution_count": 20,
   "id": "268c7f98",
   "metadata": {},
   "outputs": [
    {
     "data": {
      "text/plain": [
       "10"
      ]
     },
     "execution_count": 20,
     "metadata": {},
     "output_type": "execute_result"
    }
   ],
   "source": [
    "file.write(\"I am writing \\n\")\n",
    "file.write(\"one more \\n\")\n",
    "file.write(\"New line \\n\")\n",
    "# shows no of characters in last line."
   ]
  },
  {
   "cell_type": "code",
   "execution_count": 24,
   "id": "e6b92638",
   "metadata": {},
   "outputs": [
    {
     "data": {
      "text/plain": [
       "'I am writing new file in my old file.This is further to above lineI am writing new file in my old file.This is further to above lineI am adding one more line in my current fileI am writing \\none more \\nNew line \\n'"
      ]
     },
     "execution_count": 24,
     "metadata": {},
     "output_type": "execute_result"
    }
   ],
   "source": [
    "file=open(\"C:\\\\Users\\\\hp\\\\Documents\\\\fox.txt\",'r+')\n",
    "file.read()"
   ]
  },
  {
   "cell_type": "code",
   "execution_count": 26,
   "id": "ec2e587a",
   "metadata": {},
   "outputs": [
    {
     "data": {
      "text/plain": [
       "24"
      ]
     },
     "execution_count": 26,
     "metadata": {},
     "output_type": "execute_result"
    }
   ],
   "source": [
    "file.write(\"I am adding \\n\")\n",
    "file.write(\" I want to understand \\n \")"
   ]
  },
  {
   "cell_type": "code",
   "execution_count": 27,
   "id": "314b1626",
   "metadata": {},
   "outputs": [],
   "source": [
    "file.close()"
   ]
  },
  {
   "cell_type": "code",
   "execution_count": 29,
   "id": "47f722c1",
   "metadata": {},
   "outputs": [
    {
     "data": {
      "text/plain": [
       "<_io.TextIOWrapper name='C:\\\\Users\\\\hp\\\\Documents\\\\fox.txt' mode='w+' encoding='cp1252'>"
      ]
     },
     "execution_count": 29,
     "metadata": {},
     "output_type": "execute_result"
    }
   ],
   "source": [
    "file=open(\"C:\\\\Users\\\\hp\\\\Documents\\\\fox.txt\",'w+')\n",
    "file"
   ]
  },
  {
   "cell_type": "code",
   "execution_count": 30,
   "id": "58bcd537",
   "metadata": {},
   "outputs": [
    {
     "data": {
      "text/plain": [
       "7"
      ]
     },
     "execution_count": 30,
     "metadata": {},
     "output_type": "execute_result"
    }
   ],
   "source": [
    "file.write(\" I am \")\n",
    "file.write(\"I want \")"
   ]
  },
  {
   "cell_type": "code",
   "execution_count": 33,
   "id": "6e8cc995",
   "metadata": {},
   "outputs": [
    {
     "data": {
      "text/plain": [
       "''"
      ]
     },
     "execution_count": 33,
     "metadata": {},
     "output_type": "execute_result"
    }
   ],
   "source": [
    "file.readline()"
   ]
  },
  {
   "cell_type": "code",
   "execution_count": 34,
   "id": "0fd608ed",
   "metadata": {},
   "outputs": [],
   "source": [
    "file.close()"
   ]
  },
  {
   "cell_type": "code",
   "execution_count": 35,
   "id": "26d7b15b",
   "metadata": {},
   "outputs": [
    {
     "name": "stdout",
     "output_type": "stream",
     "text": [
      "n1: 3\n",
      "n2: 3\n",
      "1.0\n"
     ]
    }
   ],
   "source": [
    "n1=int(input(\"n1: \"))\n",
    "n2=int(input(\"n2: \"))\n",
    "res=n1/n2\n",
    "print(res)"
   ]
  },
  {
   "cell_type": "code",
   "execution_count": 37,
   "id": "830c60f1",
   "metadata": {},
   "outputs": [
    {
     "name": "stdout",
     "output_type": "stream",
     "text": [
      "n1: 3\n",
      "n2: 0\n"
     ]
    },
    {
     "ename": "ZeroDivisionError",
     "evalue": "division by zero",
     "output_type": "error",
     "traceback": [
      "\u001b[1;31m---------------------------------------------------------------------------\u001b[0m",
      "\u001b[1;31mZeroDivisionError\u001b[0m                         Traceback (most recent call last)",
      "\u001b[1;32m~\\AppData\\Local\\Temp\\ipykernel_9508\\3311990089.py\u001b[0m in \u001b[0;36m<module>\u001b[1;34m\u001b[0m\n\u001b[0;32m      1\u001b[0m \u001b[0mn1\u001b[0m\u001b[1;33m=\u001b[0m\u001b[0mint\u001b[0m\u001b[1;33m(\u001b[0m\u001b[0minput\u001b[0m\u001b[1;33m(\u001b[0m\u001b[1;34m\"n1: \"\u001b[0m\u001b[1;33m)\u001b[0m\u001b[1;33m)\u001b[0m\u001b[1;33m\u001b[0m\u001b[1;33m\u001b[0m\u001b[0m\n\u001b[0;32m      2\u001b[0m \u001b[0mn2\u001b[0m\u001b[1;33m=\u001b[0m\u001b[0mint\u001b[0m\u001b[1;33m(\u001b[0m\u001b[0minput\u001b[0m\u001b[1;33m(\u001b[0m\u001b[1;34m\"n2: \"\u001b[0m\u001b[1;33m)\u001b[0m\u001b[1;33m)\u001b[0m\u001b[1;33m\u001b[0m\u001b[1;33m\u001b[0m\u001b[0m\n\u001b[1;32m----> 3\u001b[1;33m \u001b[0mres\u001b[0m\u001b[1;33m=\u001b[0m\u001b[0mn1\u001b[0m\u001b[1;33m/\u001b[0m\u001b[0mn2\u001b[0m\u001b[1;33m\u001b[0m\u001b[1;33m\u001b[0m\u001b[0m\n\u001b[0m\u001b[0;32m      4\u001b[0m \u001b[0mprint\u001b[0m\u001b[1;33m(\u001b[0m\u001b[0mres\u001b[0m\u001b[1;33m)\u001b[0m\u001b[1;33m\u001b[0m\u001b[1;33m\u001b[0m\u001b[0m\n",
      "\u001b[1;31mZeroDivisionError\u001b[0m: division by zero"
     ]
    }
   ],
   "source": [
    "n1=int(input(\"n1: \"))\n",
    "n2=int(input(\"n2: \"))\n",
    "res=n1/n2\n",
    "print(res)"
   ]
  },
  {
   "cell_type": "code",
   "execution_count": 38,
   "id": "866a0f9f",
   "metadata": {},
   "outputs": [
    {
     "ename": "NameError",
     "evalue": "name 'os' is not defined",
     "output_type": "error",
     "traceback": [
      "\u001b[1;31m---------------------------------------------------------------------------\u001b[0m",
      "\u001b[1;31mNameError\u001b[0m                                 Traceback (most recent call last)",
      "\u001b[1;32m~\\AppData\\Local\\Temp\\ipykernel_9508\\362830462.py\u001b[0m in \u001b[0;36m<module>\u001b[1;34m\u001b[0m\n\u001b[0;32m      1\u001b[0m \u001b[1;31m# getcwd -- get current working directory\u001b[0m\u001b[1;33m\u001b[0m\u001b[1;33m\u001b[0m\u001b[0m\n\u001b[1;32m----> 2\u001b[1;33m \u001b[0mos\u001b[0m\u001b[1;33m.\u001b[0m\u001b[0mgetcwd\u001b[0m\u001b[1;33m(\u001b[0m\u001b[1;33m)\u001b[0m\u001b[1;33m\u001b[0m\u001b[1;33m\u001b[0m\u001b[0m\n\u001b[0m",
      "\u001b[1;31mNameError\u001b[0m: name 'os' is not defined"
     ]
    }
   ],
   "source": [
    "# getcwd -- get current working directory\n",
    "os.getcwd()"
   ]
  },
  {
   "cell_type": "code",
   "execution_count": 39,
   "id": "b4f75633",
   "metadata": {},
   "outputs": [
    {
     "ename": "FileNotFoundError",
     "evalue": "[Errno 2] No such file or directory: 'newfile1.txt'",
     "output_type": "error",
     "traceback": [
      "\u001b[1;31m---------------------------------------------------------------------------\u001b[0m",
      "\u001b[1;31mFileNotFoundError\u001b[0m                         Traceback (most recent call last)",
      "\u001b[1;32m~\\AppData\\Local\\Temp\\ipykernel_9508\\4100947395.py\u001b[0m in \u001b[0;36m<module>\u001b[1;34m\u001b[0m\n\u001b[1;32m----> 1\u001b[1;33m \u001b[0mfile\u001b[0m\u001b[1;33m=\u001b[0m\u001b[0mopen\u001b[0m\u001b[1;33m(\u001b[0m\u001b[1;34m\"newfile1.txt\"\u001b[0m\u001b[1;33m)\u001b[0m\u001b[1;33m\u001b[0m\u001b[1;33m\u001b[0m\u001b[0m\n\u001b[0m",
      "\u001b[1;31mFileNotFoundError\u001b[0m: [Errno 2] No such file or directory: 'newfile1.txt'"
     ]
    }
   ],
   "source": [
    "file=open(\"newfile1.txt\")"
   ]
  },
  {
   "cell_type": "code",
   "execution_count": 43,
   "id": "89c703a9",
   "metadata": {},
   "outputs": [
    {
     "name": "stdout",
     "output_type": "stream",
     "text": [
      "n1: 3\n",
      "n2: 0\n",
      "cannot\n"
     ]
    }
   ],
   "source": [
    "# try -- we write that piece of code that will give us error.\n",
    "n1=int(input(\"n1: \"))\n",
    "n2=int(input(\"n2: \"))\n",
    "try:\n",
    "    res=n1/n2    #error will be thrown from here.error created from here.\n",
    "    print(res)\n",
    "except ZeroDivisionError:\n",
    "    print(\"cannot\")"
   ]
  },
  {
   "cell_type": "code",
   "execution_count": 45,
   "id": "498ffed1",
   "metadata": {},
   "outputs": [
    {
     "name": "stdout",
     "output_type": "stream",
     "text": [
      "n1: 9\n",
      "n2: 0\n",
      "cannot\n"
     ]
    }
   ],
   "source": [
    "n1=int(input(\"n1: \"))\n",
    "n2=int(input(\"n2: \"))\n",
    "try:\n",
    "    res=n1/n2\n",
    "    print(res)\n",
    "except Exception:\n",
    "    print(\"cannot\")"
   ]
  },
  {
   "cell_type": "code",
   "execution_count": 54,
   "id": "d83a0942",
   "metadata": {},
   "outputs": [
    {
     "name": "stdout",
     "output_type": "stream",
     "text": [
      "enter n1: 3\n",
      "enter n2: 0\n",
      "can\n"
     ]
    }
   ],
   "source": [
    "n1=int(input(\"enter n1: \"))\n",
    "n2=int(input(\"enter n2: \"))\n",
    "try:\n",
    "    res=int(n1)/int(n2)\n",
    "    print(res)\n",
    "except ValueError:\n",
    "    print(\"Cannot\")\n",
    "except ZeroDivisionError:\n",
    "    print(\"can\")"
   ]
  },
  {
   "cell_type": "code",
   "execution_count": 53,
   "id": "4e9177ab",
   "metadata": {},
   "outputs": [
    {
     "name": "stdout",
     "output_type": "stream",
     "text": [
      "Enter a no :3\n",
      "Enter a no :0\n",
      "Cannot be divided\n"
     ]
    }
   ],
   "source": [
    "num1=input(\"Enter a no :\")\n",
    "num2=input(\"Enter a no :\")\n",
    "try:\n",
    "    result=int(num1)/int(num2)  \n",
    "    print(result)\n",
    "except ValueError:                  #in case we have two errors\n",
    "    print(\"Cannot be divided\")\n",
    "except ZeroDivisionError:\n",
    "    print(\"Cannot be divided\")\n",
    "    "
   ]
  },
  {
   "cell_type": "code",
   "execution_count": 61,
   "id": "cabc5dc7",
   "metadata": {},
   "outputs": [
    {
     "name": "stdout",
     "output_type": "stream",
     "text": [
      "n1: 9\n",
      "n2: 9\n",
      "1.0\n",
      "Res\n"
     ]
    }
   ],
   "source": [
    "n1=input(\"n1: \")\n",
    "n2=input(\"n2: \")\n",
    "try:\n",
    "    res=int(n1)/int(n2)\n",
    "    print(res)\n",
    "except(ValueError,ZeroDivisionError):\n",
    "    print(\"cannot\")\n",
    "else:\n",
    "    print(\"Res\")"
   ]
  },
  {
   "cell_type": "code",
   "execution_count": null,
   "id": "3e1eb4d0",
   "metadata": {},
   "outputs": [],
   "source": []
  },
  {
   "cell_type": "code",
   "execution_count": 1,
   "id": "e72624d2",
   "metadata": {},
   "outputs": [
    {
     "name": "stdout",
     "output_type": "stream",
     "text": [
      "1\n",
      "2\n"
     ]
    }
   ],
   "source": [
    "i = 1\n",
    "while True:\n",
    "    if i%3 == 0:\n",
    "        break\n",
    "    print(i)\n",
    "    i += 1\n"
   ]
  },
  {
   "cell_type": "code",
   "execution_count": 2,
   "id": "8140ef45",
   "metadata": {},
   "outputs": [
    {
     "name": "stdout",
     "output_type": "stream",
     "text": [
      "0\n",
      "1\n",
      "2\n"
     ]
    }
   ],
   "source": [
    " i = 0\n",
    "while i < 5:\n",
    "    print(i)\n",
    "    i += 1\n",
    "    if i == 3:\n",
    "        break\n",
    "else:\n",
    "    print(0)\n"
   ]
  },
  {
   "cell_type": "code",
   "execution_count": 3,
   "id": "8cd20cdb",
   "metadata": {},
   "outputs": [
    {
     "data": {
      "text/plain": [
       "True"
      ]
     },
     "execution_count": 3,
     "metadata": {},
     "output_type": "execute_result"
    }
   ],
   "source": [
    "z=set('abc$de')\n",
    "'a' in z\n"
   ]
  },
  {
   "cell_type": "code",
   "execution_count": null,
   "id": "69b28e83",
   "metadata": {},
   "outputs": [],
   "source": []
  },
  {
   "cell_type": "code",
   "execution_count": null,
   "id": "425771ac",
   "metadata": {},
   "outputs": [],
   "source": [
    "# print"
   ]
  },
  {
   "cell_type": "code",
   "execution_count": 37,
   "id": "cbd24125",
   "metadata": {},
   "outputs": [
    {
     "name": "stdout",
     "output_type": "stream",
     "text": [
      "hello world\n"
     ]
    }
   ],
   "source": [
    "print(\"hello world\")"
   ]
  },
  {
   "cell_type": "code",
   "execution_count": 38,
   "id": "b7851ed0",
   "metadata": {},
   "outputs": [
    {
     "name": "stdout",
     "output_type": "stream",
     "text": [
      "india pok uk us\n"
     ]
    }
   ],
   "source": [
    "print(\"india\",\"pok\",\"uk\",\"us\")"
   ]
  },
  {
   "cell_type": "code",
   "execution_count": 39,
   "id": "e2d6f6a0",
   "metadata": {},
   "outputs": [
    {
     "name": "stdout",
     "output_type": "stream",
     "text": [
      "india,pok,uk,us\n"
     ]
    }
   ],
   "source": [
    "print(\"india\",\"pok\",\"uk\",\"us\",sep=',')"
   ]
  },
  {
   "cell_type": "code",
   "execution_count": 40,
   "id": "1a8f5637",
   "metadata": {},
   "outputs": [
    {
     "name": "stdout",
     "output_type": "stream",
     "text": [
      "hello\n",
      "world\n"
     ]
    }
   ],
   "source": [
    "print(\"hello\")\n",
    "print(\"world\")\n",
    "# by def end=\\n"
   ]
  },
  {
   "cell_type": "code",
   "execution_count": 41,
   "id": "3bed6b82",
   "metadata": {},
   "outputs": [
    {
     "name": "stdout",
     "output_type": "stream",
     "text": [
      "hello world\n"
     ]
    }
   ],
   "source": [
    "print(\"hello\",end=\" \")  # same line\n",
    "print(\"world\")"
   ]
  },
  {
   "cell_type": "code",
   "execution_count": 6,
   "id": "5212c288",
   "metadata": {},
   "outputs": [],
   "source": [
    "# data types:\n",
    "# basic(int,float,complex,bool,str)\n",
    "# container(list,tuples,sets and dictionary)\n",
    "# user defined(class-oop)"
   ]
  },
  {
   "cell_type": "code",
   "execution_count": 42,
   "id": "6c5d8963",
   "metadata": {},
   "outputs": [
    {
     "name": "stdout",
     "output_type": "stream",
     "text": [
      "1e+307\n"
     ]
    }
   ],
   "source": [
    "# integer- any number\n",
    "print(1e307)"
   ]
  },
  {
   "cell_type": "code",
   "execution_count": 43,
   "id": "834a2b26",
   "metadata": {},
   "outputs": [
    {
     "name": "stdout",
     "output_type": "stream",
     "text": [
      "inf\n"
     ]
    }
   ],
   "source": [
    "print(1e309)   # 10 pow(309)"
   ]
  },
  {
   "cell_type": "code",
   "execution_count": 44,
   "id": "9d950a5a",
   "metadata": {},
   "outputs": [
    {
     "name": "stdout",
     "output_type": "stream",
     "text": [
      "4.5\n"
     ]
    }
   ],
   "source": [
    "# float\n",
    "print(4.5)"
   ]
  },
  {
   "cell_type": "code",
   "execution_count": 45,
   "id": "c598b0cd",
   "metadata": {},
   "outputs": [
    {
     "name": "stdout",
     "output_type": "stream",
     "text": [
      "1.7e+308\n"
     ]
    }
   ],
   "source": [
    "print(1.7e308)"
   ]
  },
  {
   "cell_type": "code",
   "execution_count": 46,
   "id": "b23c8ee8",
   "metadata": {},
   "outputs": [
    {
     "name": "stdout",
     "output_type": "stream",
     "text": [
      "inf\n"
     ]
    }
   ],
   "source": [
    "print(1.7e309)"
   ]
  },
  {
   "cell_type": "code",
   "execution_count": 47,
   "id": "3d3f652c",
   "metadata": {},
   "outputs": [
    {
     "name": "stdout",
     "output_type": "stream",
     "text": [
      "True\n",
      "False\n"
     ]
    }
   ],
   "source": [
    "# boolean - True/False\n",
    "print(True)\n",
    "print(False)"
   ]
  },
  {
   "cell_type": "code",
   "execution_count": 48,
   "id": "b4a10dad",
   "metadata": {},
   "outputs": [
    {
     "name": "stdout",
     "output_type": "stream",
     "text": [
      "(4+5j)\n"
     ]
    }
   ],
   "source": [
    "# complex\n",
    "print(4+5j)"
   ]
  },
  {
   "cell_type": "code",
   "execution_count": 49,
   "id": "98d0b603",
   "metadata": {},
   "outputs": [
    {
     "name": "stdout",
     "output_type": "stream",
     "text": [
      "kolkatta\n",
      "hi\n"
     ]
    }
   ],
   "source": [
    "# string\n",
    "print('kolkatta')\n",
    "print(\"hi\")"
   ]
  },
  {
   "cell_type": "code",
   "execution_count": 50,
   "id": "1e76eb73",
   "metadata": {},
   "outputs": [],
   "source": [
    "# List"
   ]
  },
  {
   "cell_type": "code",
   "execution_count": 51,
   "id": "c96df7b8",
   "metadata": {},
   "outputs": [
    {
     "name": "stdout",
     "output_type": "stream",
     "text": [
      "[1, 2, 3, 4, 5, 6]\n"
     ]
    }
   ],
   "source": [
    "print([1,2,3,4,5,6])"
   ]
  },
  {
   "cell_type": "code",
   "execution_count": 52,
   "id": "32cf78d0",
   "metadata": {},
   "outputs": [],
   "source": [
    "# tuple"
   ]
  },
  {
   "cell_type": "code",
   "execution_count": 53,
   "id": "cf5af49f",
   "metadata": {},
   "outputs": [
    {
     "name": "stdout",
     "output_type": "stream",
     "text": [
      "(1, 2, 3, 4, 5, 6)\n"
     ]
    }
   ],
   "source": [
    "print((1,2,3,4,5,6))"
   ]
  },
  {
   "cell_type": "code",
   "execution_count": 54,
   "id": "a77d2b98",
   "metadata": {},
   "outputs": [],
   "source": [
    "# set"
   ]
  },
  {
   "cell_type": "code",
   "execution_count": 55,
   "id": "5e6a54e2",
   "metadata": {},
   "outputs": [
    {
     "name": "stdout",
     "output_type": "stream",
     "text": [
      "{1, 2, 3, 4, 5, 6}\n"
     ]
    }
   ],
   "source": [
    "print({1,2,3,4,5,6})"
   ]
  },
  {
   "cell_type": "code",
   "execution_count": 56,
   "id": "3eec5c87",
   "metadata": {},
   "outputs": [],
   "source": [
    "# dictionary"
   ]
  },
  {
   "cell_type": "code",
   "execution_count": 57,
   "id": "20f9b558",
   "metadata": {},
   "outputs": [
    {
     "name": "stdout",
     "output_type": "stream",
     "text": [
      "{'name': 'jyoti', 'age': 26, 'gender': 'female'}\n"
     ]
    }
   ],
   "source": [
    "print({'name':'jyoti','age':26,'gender':'female'})"
   ]
  },
  {
   "cell_type": "code",
   "execution_count": 58,
   "id": "77c828a9",
   "metadata": {},
   "outputs": [],
   "source": [
    "# comments ->  A simple piece of code that is not executable by \n",
    "#               compiler or interpreter.To enhance code readability."
   ]
  },
  {
   "cell_type": "code",
   "execution_count": 59,
   "id": "b677048b",
   "metadata": {},
   "outputs": [],
   "source": [
    "# Variables are containers for future use."
   ]
  },
  {
   "cell_type": "code",
   "execution_count": 60,
   "id": "0b81f995",
   "metadata": {},
   "outputs": [],
   "source": [
    "name='jyoti'"
   ]
  },
  {
   "cell_type": "code",
   "execution_count": 61,
   "id": "dd97dc07",
   "metadata": {},
   "outputs": [
    {
     "data": {
      "text/plain": [
       "str"
      ]
     },
     "execution_count": 61,
     "metadata": {},
     "output_type": "execute_result"
    }
   ],
   "source": [
    "type(name)"
   ]
  },
  {
   "cell_type": "code",
   "execution_count": 62,
   "id": "521cd900",
   "metadata": {},
   "outputs": [
    {
     "name": "stdout",
     "output_type": "stream",
     "text": [
      "jyoti\n"
     ]
    }
   ],
   "source": [
    "print(name)"
   ]
  },
  {
   "cell_type": "code",
   "execution_count": 63,
   "id": "a4d1c2c0",
   "metadata": {},
   "outputs": [],
   "source": [
    "name='hello'"
   ]
  },
  {
   "cell_type": "code",
   "execution_count": 64,
   "id": "64b2b1f1",
   "metadata": {},
   "outputs": [
    {
     "name": "stdout",
     "output_type": "stream",
     "text": [
      "hello\n"
     ]
    }
   ],
   "source": [
    "print(name)"
   ]
  },
  {
   "cell_type": "code",
   "execution_count": 65,
   "id": "58be2782",
   "metadata": {},
   "outputs": [],
   "source": [
    "#  no variable declaration"
   ]
  },
  {
   "cell_type": "code",
   "execution_count": 75,
   "id": "a15c7946",
   "metadata": {},
   "outputs": [],
   "source": [
    "# Dynamic typing - no need to decalare data type.(support in python) \n",
    "# static typing - need to specify data type.(not support in python)"
   ]
  },
  {
   "cell_type": "code",
   "execution_count": 76,
   "id": "f12eb879",
   "metadata": {},
   "outputs": [
    {
     "name": "stdout",
     "output_type": "stream",
     "text": [
      "True\n"
     ]
    }
   ],
   "source": [
    "print(name)"
   ]
  },
  {
   "cell_type": "code",
   "execution_count": 77,
   "id": "958fd784",
   "metadata": {},
   "outputs": [
    {
     "name": "stdout",
     "output_type": "stream",
     "text": [
      "4\n"
     ]
    }
   ],
   "source": [
    "name=4\n",
    "print(name)"
   ]
  },
  {
   "cell_type": "code",
   "execution_count": 78,
   "id": "2085edb8",
   "metadata": {},
   "outputs": [],
   "source": [
    "name=True"
   ]
  },
  {
   "cell_type": "code",
   "execution_count": 79,
   "id": "2d9b1138",
   "metadata": {},
   "outputs": [
    {
     "name": "stdout",
     "output_type": "stream",
     "text": [
      "True\n"
     ]
    }
   ],
   "source": [
    "print(name)"
   ]
  },
  {
   "cell_type": "code",
   "execution_count": 71,
   "id": "dc42d2bb",
   "metadata": {},
   "outputs": [],
   "source": [
    "# last input print"
   ]
  },
  {
   "cell_type": "code",
   "execution_count": 80,
   "id": "4197a741",
   "metadata": {},
   "outputs": [],
   "source": [
    " # Dynamic binding -A variable store multiple data types.\n",
    "# static binding - once data type is bind once throughout the lifetime that var remains same in other lang like c."
   ]
  },
  {
   "cell_type": "code",
   "execution_count": 81,
   "id": "c3d65c78",
   "metadata": {},
   "outputs": [],
   "source": [
    " # special declaration syntax\n",
    "a=5;b=6;c=7"
   ]
  },
  {
   "cell_type": "code",
   "execution_count": 82,
   "id": "a92d8f26",
   "metadata": {},
   "outputs": [
    {
     "name": "stdout",
     "output_type": "stream",
     "text": [
      "5\n",
      "6\n",
      "7\n"
     ]
    }
   ],
   "source": [
    "print(a)\n",
    "print(b)\n",
    "print(c)"
   ]
  },
  {
   "cell_type": "code",
   "execution_count": 83,
   "id": "cd5032a4",
   "metadata": {},
   "outputs": [
    {
     "name": "stdout",
     "output_type": "stream",
     "text": [
      "4\n",
      "5\n",
      "6\n"
     ]
    }
   ],
   "source": [
    "a,b,c=4,5,6\n",
    "print(a)\n",
    "print(b)\n",
    "print(c)"
   ]
  },
  {
   "cell_type": "code",
   "execution_count": 84,
   "id": "01371d0b",
   "metadata": {},
   "outputs": [
    {
     "name": "stdout",
     "output_type": "stream",
     "text": [
      "6\n",
      "6\n",
      "6\n"
     ]
    }
   ],
   "source": [
    "a=b=c=6\n",
    "print(a)\n",
    "print(b)\n",
    "print(c)"
   ]
  },
  {
   "cell_type": "code",
   "execution_count": 85,
   "id": "41f62fb2",
   "metadata": {},
   "outputs": [],
   "source": [
    "# keywords & identifiers in python.\n",
    "# Python is a case-sensitive language.\n",
    "# In programming, a keyword is a word that is reserved by a program because the word\n",
    "# has a special meaning. Keywords can be commands or parameters. Every programming language has a set of\n",
    "# keywords that cannot used as variable names."
   ]
  },
  {
   "cell_type": "code",
   "execution_count": 86,
   "id": "8fb9f367",
   "metadata": {},
   "outputs": [],
   "source": [
    "# HLL to LLL- done by compiler / interpreter convert to 1/0 form.\n",
    "# Python has 33 keywords"
   ]
  },
  {
   "cell_type": "code",
   "execution_count": 87,
   "id": "6644d217",
   "metadata": {},
   "outputs": [
    {
     "name": "stdout",
     "output_type": "stream",
     "text": [
      "['False', 'None', 'True', '__peg_parser__', 'and', 'as', 'assert', 'async', 'await', 'break', 'class', 'continue', 'def', 'del', 'elif', 'else', 'except', 'finally', 'for', 'from', 'global', 'if', 'import', 'in', 'is', 'lambda', 'nonlocal', 'not', 'or', 'pass', 'raise', 'return', 'try', 'while', 'with', 'yield']\n"
     ]
    }
   ],
   "source": [
    "import keyword\n",
    "print(keyword.kwlist)"
   ]
  },
  {
   "cell_type": "code",
   "execution_count": 88,
   "id": "84a05731",
   "metadata": {},
   "outputs": [],
   "source": [
    "# Identifiers - A python identifier is a name used to identify a variable, function,class, module or other objects."
   ]
  },
  {
   "cell_type": "code",
   "execution_count": 89,
   "id": "7c855f22",
   "metadata": {},
   "outputs": [],
   "source": [
    "# Rules:\n",
    "# Can only start with an alphabet or ' _ '\n",
    "# Followed by 0 or more letter, _and digits.\n",
    "# keywords cannot be used as an identifiers."
   ]
  },
  {
   "cell_type": "code",
   "execution_count": 74,
   "id": "a7d0b7c9",
   "metadata": {},
   "outputs": [
    {
     "name": "stdout",
     "output_type": "stream",
     "text": [
      "jyoti\n"
     ]
    }
   ],
   "source": [
    "_='jyoti'\n",
    "print(_)"
   ]
  },
  {
   "cell_type": "code",
   "execution_count": 76,
   "id": "3ffe4081",
   "metadata": {},
   "outputs": [],
   "source": [
    "# taking input from user.\n",
    "# unidirectional/static software - clock,calendar(cannot revert to machine)\n",
    "# dynamic software - youtube(search <- result ),ordering food"
   ]
  },
  {
   "cell_type": "code",
   "execution_count": 90,
   "id": "3c20d05a",
   "metadata": {},
   "outputs": [
    {
     "name": "stdout",
     "output_type": "stream",
     "text": [
      "hiuhjhjhj\n"
     ]
    },
    {
     "data": {
      "text/plain": [
       "'uhjhjhj'"
      ]
     },
     "execution_count": 90,
     "metadata": {},
     "output_type": "execute_result"
    }
   ],
   "source": [
    "input(prompt='hi')"
   ]
  },
  {
   "cell_type": "code",
   "execution_count": 91,
   "id": "8f5a9d45",
   "metadata": {},
   "outputs": [
    {
     "name": "stdout",
     "output_type": "stream",
     "text": [
      "hijnjn\n"
     ]
    },
    {
     "data": {
      "text/plain": [
       "'jnjn'"
      ]
     },
     "execution_count": 91,
     "metadata": {},
     "output_type": "execute_result"
    }
   ],
   "source": [
    "input('hi')"
   ]
  },
  {
   "cell_type": "code",
   "execution_count": 92,
   "id": "82a116d5",
   "metadata": {},
   "outputs": [
    {
     "name": "stdout",
     "output_type": "stream",
     "text": [
      "enter 1st num :u8\n"
     ]
    },
    {
     "data": {
      "text/plain": [
       "'u8'"
      ]
     },
     "execution_count": 92,
     "metadata": {},
     "output_type": "execute_result"
    }
   ],
   "source": [
    "input('enter 1st num :')"
   ]
  },
  {
   "cell_type": "code",
   "execution_count": 83,
   "id": "b2cefb72",
   "metadata": {},
   "outputs": [
    {
     "name": "stdout",
     "output_type": "stream",
     "text": [
      "1st num: 45\n",
      "2nd: 56\n"
     ]
    }
   ],
   "source": [
    "first=input('1st num: ')\n",
    "second=input('2nd: ')"
   ]
  },
  {
   "cell_type": "code",
   "execution_count": 84,
   "id": "5294dab0",
   "metadata": {},
   "outputs": [
    {
     "name": "stdout",
     "output_type": "stream",
     "text": [
      "45\n"
     ]
    }
   ],
   "source": [
    "print(first)"
   ]
  },
  {
   "cell_type": "code",
   "execution_count": 85,
   "id": "f680c1ba",
   "metadata": {},
   "outputs": [
    {
     "name": "stdout",
     "output_type": "stream",
     "text": [
      "56\n"
     ]
    }
   ],
   "source": [
    "print(second)"
   ]
  },
  {
   "cell_type": "code",
   "execution_count": 87,
   "id": "4bd3bede",
   "metadata": {},
   "outputs": [
    {
     "name": "stdout",
     "output_type": "stream",
     "text": [
      "4556\n"
     ]
    }
   ],
   "source": [
    "result=first+second\n",
    "print(result)   # literally add...data type not defined.....by default..it is string format.(universal format)"
   ]
  },
  {
   "cell_type": "code",
   "execution_count": 89,
   "id": "21d66121",
   "metadata": {},
   "outputs": [
    {
     "data": {
      "text/plain": [
       "int"
      ]
     },
     "execution_count": 89,
     "metadata": {},
     "output_type": "execute_result"
    }
   ],
   "source": [
    "# type\n",
    "type(4)"
   ]
  },
  {
   "cell_type": "code",
   "execution_count": 90,
   "id": "f4ceb3ab",
   "metadata": {},
   "outputs": [
    {
     "data": {
      "text/plain": [
       "float"
      ]
     },
     "execution_count": 90,
     "metadata": {},
     "output_type": "execute_result"
    }
   ],
   "source": [
    "type(4.5)"
   ]
  },
  {
   "cell_type": "code",
   "execution_count": 91,
   "id": "ab1dfff8",
   "metadata": {},
   "outputs": [
    {
     "data": {
      "text/plain": [
       "complex"
      ]
     },
     "execution_count": 91,
     "metadata": {},
     "output_type": "execute_result"
    }
   ],
   "source": [
    "type(6+7j)"
   ]
  },
  {
   "cell_type": "code",
   "execution_count": 92,
   "id": "0601436b",
   "metadata": {},
   "outputs": [
    {
     "data": {
      "text/plain": [
       "str"
      ]
     },
     "execution_count": 92,
     "metadata": {},
     "output_type": "execute_result"
    }
   ],
   "source": [
    "type(first)"
   ]
  },
  {
   "cell_type": "code",
   "execution_count": 93,
   "id": "829c6e36",
   "metadata": {},
   "outputs": [],
   "source": [
    "# data type conversion\n",
    "# implicit -> when python automatically does type conversion.\n",
    "# explicit -> when python needs type conversion."
   ]
  },
  {
   "cell_type": "code",
   "execution_count": 94,
   "id": "30e9572e",
   "metadata": {},
   "outputs": [
    {
     "data": {
      "text/plain": [
       "9.5"
      ]
     },
     "execution_count": 94,
     "metadata": {},
     "output_type": "execute_result"
    }
   ],
   "source": [
    "4+5.5    # implicit"
   ]
  },
  {
   "cell_type": "code",
   "execution_count": 95,
   "id": "5e139fcb",
   "metadata": {},
   "outputs": [
    {
     "data": {
      "text/plain": [
       "(11+7j)"
      ]
     },
     "execution_count": 95,
     "metadata": {},
     "output_type": "execute_result"
    }
   ],
   "source": [
    "5+6+7j"
   ]
  },
  {
   "cell_type": "code",
   "execution_count": 99,
   "id": "d92a1f76",
   "metadata": {},
   "outputs": [
    {
     "data": {
      "text/plain": [
       "4"
      ]
     },
     "execution_count": 99,
     "metadata": {},
     "output_type": "execute_result"
    }
   ],
   "source": [
    "# explicit\n",
    "int(4.5)        # float to integer\n"
   ]
  },
  {
   "cell_type": "code",
   "execution_count": 100,
   "id": "edcf3697",
   "metadata": {},
   "outputs": [
    {
     "data": {
      "text/plain": [
       "4"
      ]
     },
     "execution_count": 100,
     "metadata": {},
     "output_type": "execute_result"
    }
   ],
   "source": [
    "int('4')"
   ]
  },
  {
   "cell_type": "code",
   "execution_count": 101,
   "id": "1e7d5f57",
   "metadata": {},
   "outputs": [
    {
     "data": {
      "text/plain": [
       "4.0"
      ]
     },
     "execution_count": 101,
     "metadata": {},
     "output_type": "execute_result"
    }
   ],
   "source": [
    "float(4)"
   ]
  },
  {
   "cell_type": "code",
   "execution_count": 102,
   "id": "d997dcb4",
   "metadata": {},
   "outputs": [
    {
     "data": {
      "text/plain": [
       "'5'"
      ]
     },
     "execution_count": 102,
     "metadata": {},
     "output_type": "execute_result"
    }
   ],
   "source": [
    "str(5)"
   ]
  },
  {
   "cell_type": "code",
   "execution_count": 103,
   "id": "ece1bfbe",
   "metadata": {},
   "outputs": [
    {
     "data": {
      "text/plain": [
       "True"
      ]
     },
     "execution_count": 103,
     "metadata": {},
     "output_type": "execute_result"
    }
   ],
   "source": [
    "bool(1)"
   ]
  },
  {
   "cell_type": "code",
   "execution_count": 105,
   "id": "9397dc80",
   "metadata": {},
   "outputs": [
    {
     "data": {
      "text/plain": [
       "(4+0j)"
      ]
     },
     "execution_count": 105,
     "metadata": {},
     "output_type": "execute_result"
    }
   ],
   "source": [
    "complex(4)"
   ]
  },
  {
   "cell_type": "code",
   "execution_count": 106,
   "id": "1751eb17",
   "metadata": {},
   "outputs": [
    {
     "data": {
      "text/plain": [
       "['h', 'e', 'l', 'l', 'o']"
      ]
     },
     "execution_count": 106,
     "metadata": {},
     "output_type": "execute_result"
    }
   ],
   "source": [
    "list('hello')"
   ]
  },
  {
   "cell_type": "code",
   "execution_count": 109,
   "id": "ae3bac13",
   "metadata": {},
   "outputs": [],
   "source": [
    "a=5.6"
   ]
  },
  {
   "cell_type": "code",
   "execution_count": 110,
   "id": "697857aa",
   "metadata": {},
   "outputs": [
    {
     "data": {
      "text/plain": [
       "5"
      ]
     },
     "execution_count": 110,
     "metadata": {},
     "output_type": "execute_result"
    }
   ],
   "source": [
    "# type conversion is not permanent\n",
    "int(a)"
   ]
  },
  {
   "cell_type": "code",
   "execution_count": 111,
   "id": "89f92e1e",
   "metadata": {},
   "outputs": [
    {
     "data": {
      "text/plain": [
       "5.6"
      ]
     },
     "execution_count": 111,
     "metadata": {},
     "output_type": "execute_result"
    }
   ],
   "source": [
    "a"
   ]
  },
  {
   "cell_type": "code",
   "execution_count": 114,
   "id": "36a496a1",
   "metadata": {},
   "outputs": [
    {
     "name": "stdout",
     "output_type": "stream",
     "text": [
      "enter 1st: 3\n",
      "enter 2nd: 4\n",
      "7\n"
     ]
    }
   ],
   "source": [
    "first=input(\"enter 1st: \")\n",
    "scnd=input(\"enter 2nd: \")\n",
    "res=int(first)+int(scnd)\n",
    "print(res)"
   ]
  },
  {
   "cell_type": "code",
   "execution_count": 115,
   "id": "da04caa7",
   "metadata": {},
   "outputs": [],
   "source": [
    "#  literals : Literal is a raw data given in a variable. In python, there are a various types of literals. They are as follows:\n",
    "#  Numeric, String,Boolean, Special."
   ]
  },
  {
   "cell_type": "code",
   "execution_count": 116,
   "id": "33d08d52",
   "metadata": {},
   "outputs": [],
   "source": [
    "# Numeric:\n",
    "a=0b1010    # binary literals\n",
    "b=100       # decimal literals\n",
    "c=0o310     # octal literals\n",
    "d=0x12c     # hexadecimal literals"
   ]
  },
  {
   "cell_type": "code",
   "execution_count": 117,
   "id": "70285eb4",
   "metadata": {},
   "outputs": [],
   "source": [
    "# float literal\n",
    "float_1=10.5\n",
    "float_2=1.5e2\n",
    "float_3=1.5e-3"
   ]
  },
  {
   "cell_type": "code",
   "execution_count": 118,
   "id": "b875afa0",
   "metadata": {},
   "outputs": [],
   "source": [
    "# complex literal\n",
    "x=3.14j"
   ]
  },
  {
   "cell_type": "code",
   "execution_count": 121,
   "id": "7b9bab98",
   "metadata": {},
   "outputs": [
    {
     "name": "stdout",
     "output_type": "stream",
     "text": [
      "10,100,200,300\n"
     ]
    }
   ],
   "source": [
    "print(a,b,c,d,sep=',')"
   ]
  },
  {
   "cell_type": "code",
   "execution_count": 122,
   "id": "d6c50510",
   "metadata": {},
   "outputs": [
    {
     "name": "stdout",
     "output_type": "stream",
     "text": [
      "10\n",
      "100\n",
      "200\n",
      "300\n"
     ]
    }
   ],
   "source": [
    "print(a)\n",
    "print(b)\n",
    "print(c)\n",
    "print(d)"
   ]
  },
  {
   "cell_type": "code",
   "execution_count": 124,
   "id": "aae00e93",
   "metadata": {},
   "outputs": [
    {
     "name": "stdout",
     "output_type": "stream",
     "text": [
      "10.5, 150.0, 0.0015\n"
     ]
    }
   ],
   "source": [
    "print(float_1,float_2,float_3,sep=\", \")"
   ]
  },
  {
   "cell_type": "code",
   "execution_count": 126,
   "id": "e6945afe",
   "metadata": {},
   "outputs": [
    {
     "name": "stdout",
     "output_type": "stream",
     "text": [
      "3.14j,3.14,0.0\n"
     ]
    }
   ],
   "source": [
    "print(x,x.imag,x.real,sep=',')"
   ]
  },
  {
   "cell_type": "code",
   "execution_count": 93,
   "id": "92d9d323",
   "metadata": {},
   "outputs": [],
   "source": [
    "#   string literals \n",
    "string='This is Python'\n",
    "strings=\"This is Python\"\n",
    "char=\"C\"\n",
    "multiline_str=\"\"\"This is a multiline string with more than one line code.\"\"\"\n",
    "unicode=u\"\\U0001f600\\U0001F606\\U0001F923\"\n",
    "raw_str=r\"raw \\n string\""
   ]
  },
  {
   "cell_type": "code",
   "execution_count": 94,
   "id": "3d8c8419",
   "metadata": {},
   "outputs": [
    {
     "name": "stdout",
     "output_type": "stream",
     "text": [
      "This is Python\n",
      "This is Python\n",
      "C\n",
      "This is a multiline string with more than one line code.\n",
      "😀😆🤣\n",
      "raw \\n string\n"
     ]
    }
   ],
   "source": [
    "print(string)\n",
    "print(strings)\n",
    "print(char)\n",
    "print(multiline_str)\n",
    "print(unicode)\n",
    "print(raw_str)"
   ]
  },
  {
   "cell_type": "code",
   "execution_count": null,
   "id": "ed0e6176",
   "metadata": {},
   "outputs": [],
   "source": [
    "# Boolean Literal"
   ]
  },
  {
   "cell_type": "code",
   "execution_count": 95,
   "id": "4e2a8fa3",
   "metadata": {},
   "outputs": [
    {
     "name": "stdout",
     "output_type": "stream",
     "text": [
      "5\n",
      "10\n"
     ]
    }
   ],
   "source": [
    "a=True+4   # True=1 in bool\n",
    "b=False+10  # False=0 in bool\n",
    "\n",
    "print(a)\n",
    "print(b)"
   ]
  },
  {
   "cell_type": "code",
   "execution_count": 96,
   "id": "ae40fa6c",
   "metadata": {},
   "outputs": [],
   "source": [
    "# Special Literal"
   ]
  },
  {
   "cell_type": "code",
   "execution_count": 97,
   "id": "d31bbec2",
   "metadata": {},
   "outputs": [
    {
     "name": "stdout",
     "output_type": "stream",
     "text": [
      "None\n"
     ]
    }
   ],
   "source": [
    "a=None             # \n",
    "print(a)"
   ]
  },
  {
   "cell_type": "code",
   "execution_count": 98,
   "id": "9fddffec",
   "metadata": {},
   "outputs": [
    {
     "data": {
      "text/plain": [
       "79"
      ]
     },
     "execution_count": 98,
     "metadata": {},
     "output_type": "execute_result"
    }
   ],
   "source": [
    "c=34+45\n",
    "c"
   ]
  },
  {
   "cell_type": "code",
   "execution_count": 99,
   "id": "20cda3c1",
   "metadata": {},
   "outputs": [],
   "source": [
    " # in such scenarios when the value of variable is not given, keep 'None'."
   ]
  },
  {
   "cell_type": "code",
   "execution_count": 101,
   "id": "e013c147",
   "metadata": {},
   "outputs": [],
   "source": [
    "# Operators : Operators are used to perform operations on variables and values.\n",
    "             # Python has following operators:\n",
    "#  Arithmetic,Comparison, Logical,Bitwise, Assignment, Identity, Membership operators."
   ]
  },
  {
   "cell_type": "code",
   "execution_count": 102,
   "id": "cdf43c95",
   "metadata": {},
   "outputs": [
    {
     "name": "stdout",
     "output_type": "stream",
     "text": [
      "7\n"
     ]
    }
   ],
   "source": [
    "x=5\n",
    "y=2\n",
    "print(x+y)"
   ]
  },
  {
   "cell_type": "code",
   "execution_count": 103,
   "id": "66bd1ac9",
   "metadata": {},
   "outputs": [
    {
     "name": "stdout",
     "output_type": "stream",
     "text": [
      "3\n"
     ]
    }
   ],
   "source": [
    "print(x-y)"
   ]
  },
  {
   "cell_type": "code",
   "execution_count": 104,
   "id": "81285841",
   "metadata": {},
   "outputs": [
    {
     "name": "stdout",
     "output_type": "stream",
     "text": [
      "10\n"
     ]
    }
   ],
   "source": [
    "print(x*y)"
   ]
  },
  {
   "cell_type": "code",
   "execution_count": 105,
   "id": "24b1c95c",
   "metadata": {},
   "outputs": [
    {
     "name": "stdout",
     "output_type": "stream",
     "text": [
      "1\n"
     ]
    }
   ],
   "source": [
    "print(x%y)"
   ]
  },
  {
   "cell_type": "code",
   "execution_count": 106,
   "id": "5d555ca6",
   "metadata": {},
   "outputs": [
    {
     "name": "stdout",
     "output_type": "stream",
     "text": [
      "25\n"
     ]
    }
   ],
   "source": [
    "print(x**y)"
   ]
  },
  {
   "cell_type": "code",
   "execution_count": 107,
   "id": "be08113b",
   "metadata": {},
   "outputs": [
    {
     "name": "stdout",
     "output_type": "stream",
     "text": [
      "2\n"
     ]
    }
   ],
   "source": [
    "print(x//2)"
   ]
  },
  {
   "cell_type": "code",
   "execution_count": 108,
   "id": "eea56f67",
   "metadata": {},
   "outputs": [
    {
     "name": "stdout",
     "output_type": "stream",
     "text": [
      "True\n"
     ]
    }
   ],
   "source": [
    "print(x>y)"
   ]
  },
  {
   "cell_type": "code",
   "execution_count": 109,
   "id": "4ef7bb33",
   "metadata": {},
   "outputs": [
    {
     "name": "stdout",
     "output_type": "stream",
     "text": [
      "False\n"
     ]
    }
   ],
   "source": [
    "print(x<y)"
   ]
  },
  {
   "cell_type": "code",
   "execution_count": 110,
   "id": "690ca33b",
   "metadata": {},
   "outputs": [
    {
     "name": "stdout",
     "output_type": "stream",
     "text": [
      "False\n"
     ]
    }
   ],
   "source": [
    "print(x<=y)"
   ]
  },
  {
   "cell_type": "code",
   "execution_count": 111,
   "id": "5971c619",
   "metadata": {},
   "outputs": [
    {
     "name": "stdout",
     "output_type": "stream",
     "text": [
      "False\n"
     ]
    }
   ],
   "source": [
    "print(x==y)"
   ]
  },
  {
   "cell_type": "code",
   "execution_count": 112,
   "id": "5ca3d197",
   "metadata": {},
   "outputs": [
    {
     "name": "stdout",
     "output_type": "stream",
     "text": [
      "True\n"
     ]
    }
   ],
   "source": [
    "print(x!=y)"
   ]
  },
  {
   "cell_type": "code",
   "execution_count": 113,
   "id": "a4c363f2",
   "metadata": {},
   "outputs": [
    {
     "name": "stdout",
     "output_type": "stream",
     "text": [
      "True\n"
     ]
    }
   ],
   "source": [
    "# Logical operators\n",
    "x=True\n",
    "y=False\n",
    "print(x or y)"
   ]
  },
  {
   "cell_type": "code",
   "execution_count": 114,
   "id": "1e85991e",
   "metadata": {},
   "outputs": [
    {
     "name": "stdout",
     "output_type": "stream",
     "text": [
      "False\n"
     ]
    }
   ],
   "source": [
    "print(x & y)"
   ]
  },
  {
   "cell_type": "code",
   "execution_count": 115,
   "id": "7f744950",
   "metadata": {},
   "outputs": [
    {
     "name": "stdout",
     "output_type": "stream",
     "text": [
      "False\n"
     ]
    }
   ],
   "source": [
    "print(not x)"
   ]
  },
  {
   "cell_type": "code",
   "execution_count": 116,
   "id": "98e42d76",
   "metadata": {},
   "outputs": [
    {
     "name": "stdout",
     "output_type": "stream",
     "text": [
      "True\n"
     ]
    }
   ],
   "source": [
    "print(not y)"
   ]
  },
  {
   "cell_type": "code",
   "execution_count": 117,
   "id": "00c2f2b9",
   "metadata": {},
   "outputs": [
    {
     "name": "stdout",
     "output_type": "stream",
     "text": [
      "2\n"
     ]
    }
   ],
   "source": [
    "# Bitwise operators\n",
    "\n",
    "x=2\n",
    "y=3\n",
    "print(x&y)"
   ]
  },
  {
   "cell_type": "code",
   "execution_count": 119,
   "id": "38f6154a",
   "metadata": {},
   "outputs": [],
   "source": [
    "# binary of \n",
    "# x=010\n",
    "# y=110\n",
    "#  -------\n",
    "#   010(and operation)"
   ]
  },
  {
   "cell_type": "code",
   "execution_count": 120,
   "id": "50271355",
   "metadata": {},
   "outputs": [
    {
     "name": "stdout",
     "output_type": "stream",
     "text": [
      "3\n"
     ]
    }
   ],
   "source": [
    "print(x|y)"
   ]
  },
  {
   "cell_type": "code",
   "execution_count": 121,
   "id": "856ee455",
   "metadata": {},
   "outputs": [
    {
     "name": "stdout",
     "output_type": "stream",
     "text": [
      "0\n"
     ]
    }
   ],
   "source": [
    "print(x>>2)"
   ]
  },
  {
   "cell_type": "code",
   "execution_count": 122,
   "id": "fffc6b90",
   "metadata": {},
   "outputs": [
    {
     "name": "stdout",
     "output_type": "stream",
     "text": [
      "24\n"
     ]
    }
   ],
   "source": [
    "print(y<<3)"
   ]
  },
  {
   "cell_type": "code",
   "execution_count": 123,
   "id": "515a8a6c",
   "metadata": {},
   "outputs": [
    {
     "name": "stdout",
     "output_type": "stream",
     "text": [
      "3\n"
     ]
    }
   ],
   "source": [
    "# Assignment operator\n",
    "\n",
    "a=3\n",
    "print(a)"
   ]
  },
  {
   "cell_type": "code",
   "execution_count": 124,
   "id": "d73ba693",
   "metadata": {},
   "outputs": [
    {
     "name": "stdout",
     "output_type": "stream",
     "text": [
      "6\n"
     ]
    }
   ],
   "source": [
    "a+=3\n",
    "print(a)\n",
    "\n",
    "# a=a+3"
   ]
  },
  {
   "cell_type": "code",
   "execution_count": 125,
   "id": "d50f570f",
   "metadata": {},
   "outputs": [],
   "source": [
    "a*=3"
   ]
  },
  {
   "cell_type": "code",
   "execution_count": 130,
   "id": "62619a4e",
   "metadata": {},
   "outputs": [],
   "source": [
    "a*=3\n"
   ]
  },
  {
   "cell_type": "code",
   "execution_count": 131,
   "id": "b9b1206b",
   "metadata": {},
   "outputs": [],
   "source": [
    "a&=3"
   ]
  },
  {
   "cell_type": "code",
   "execution_count": 132,
   "id": "d6a5ec0d",
   "metadata": {},
   "outputs": [],
   "source": [
    "a=a+3\n",
    "a+=3"
   ]
  },
  {
   "cell_type": "code",
   "execution_count": 136,
   "id": "a62e2b20",
   "metadata": {},
   "outputs": [
    {
     "name": "stdout",
     "output_type": "stream",
     "text": [
      "True\n"
     ]
    }
   ],
   "source": [
    "# identity operators\n",
    "\n",
    "a=3\n",
    "b=3\n",
    "print(a is b)         # same memory location so identical"
   ]
  },
  {
   "cell_type": "code",
   "execution_count": 137,
   "id": "87ab7970",
   "metadata": {},
   "outputs": [
    {
     "name": "stdout",
     "output_type": "stream",
     "text": [
      "True\n"
     ]
    }
   ],
   "source": [
    "a='hello'\n",
    "b='hello'\n",
    "print(a is b)"
   ]
  },
  {
   "cell_type": "code",
   "execution_count": 138,
   "id": "5ba3c809",
   "metadata": {},
   "outputs": [
    {
     "name": "stdout",
     "output_type": "stream",
     "text": [
      "False\n"
     ]
    }
   ],
   "source": [
    "a=[1,2,3]\n",
    "b=[1,2,3]\n",
    "print(a is b)\n",
    "#  It doesnt matter that same things lie on same location."
   ]
  },
  {
   "cell_type": "code",
   "execution_count": 139,
   "id": "fb75dd78",
   "metadata": {},
   "outputs": [
    {
     "name": "stdout",
     "output_type": "stream",
     "text": [
      "False\n"
     ]
    }
   ],
   "source": [
    "a='hello-world'\n",
    "b='hello-world'\n",
    "\n",
    "print(a is b)"
   ]
  },
  {
   "cell_type": "code",
   "execution_count": 140,
   "id": "3ffb7a38",
   "metadata": {},
   "outputs": [
    {
     "name": "stdout",
     "output_type": "stream",
     "text": [
      "True\n"
     ]
    }
   ],
   "source": [
    "a='hello-world'\n",
    "b='hello-world'\n",
    "\n",
    "print(a is not b)"
   ]
  },
  {
   "cell_type": "code",
   "execution_count": 141,
   "id": "73434941",
   "metadata": {},
   "outputs": [
    {
     "name": "stdout",
     "output_type": "stream",
     "text": [
      "True\n"
     ]
    }
   ],
   "source": [
    "#  membership operator\n",
    "\n",
    "x=\"delhi\"\n",
    "print('d' in x)"
   ]
  },
  {
   "cell_type": "code",
   "execution_count": 142,
   "id": "2e5edfd9",
   "metadata": {},
   "outputs": [
    {
     "name": "stdout",
     "output_type": "stream",
     "text": [
      "False\n"
     ]
    }
   ],
   "source": [
    "print('d' not in x)"
   ]
  },
  {
   "cell_type": "code",
   "execution_count": 143,
   "id": "9c4f3100",
   "metadata": {},
   "outputs": [
    {
     "name": "stdout",
     "output_type": "stream",
     "text": [
      "False\n"
     ]
    }
   ],
   "source": [
    "x=[1,2,3]\n",
    "print(5 in x)\n",
    "# List,tuple,dictionary,set --> are not sharing same location."
   ]
  },
  {
   "cell_type": "code",
   "execution_count": 144,
   "id": "df5f0763",
   "metadata": {},
   "outputs": [],
   "source": [
    "# if-else statements - Decision Control Statements"
   ]
  },
  {
   "cell_type": "code",
   "execution_count": 145,
   "id": "d6c91bea",
   "metadata": {},
   "outputs": [
    {
     "name": "stdout",
     "output_type": "stream",
     "text": [
      "email : imsharmajyoti4@gmail.com\n",
      "password : 1234\n",
      "Welcome 😀\n"
     ]
    }
   ],
   "source": [
    "# Correct email - imsharmajyoti4@gmail.com\n",
    "# password - 1234\n",
    "email=input(\"email : \")\n",
    "if '@' in email:\n",
    "    password=input(\"password : \")\n",
    "    if email==\"imsharmajyoti4@gmail.com\" and password==\"1234\":\n",
    "        print(\"Welcome\",u\"\\U0001f600\")\n",
    "    elif email==\"imsharmajyoti4@gmail.com\" and password!=\"1234\":\n",
    "        print(\"Password Incorrect\")\n",
    "        password=input(\"Again enter the password\")\n",
    "        if password==\"1234\":\n",
    "            print(\"Finally Correct\",u\"\\U0001f600\")\n",
    "        else:\n",
    "            print(\"Still Incorrect\")\n",
    "    else:\n",
    "        print(\"Incorrect Credentials\")"
   ]
  },
  {
   "cell_type": "code",
   "execution_count": 146,
   "id": "1c638dde",
   "metadata": {},
   "outputs": [
    {
     "name": "stdout",
     "output_type": "stream",
     "text": [
      "line1\n",
      "line2\n"
     ]
    }
   ],
   "source": [
    "# indentation \n",
    "name='xyz'\n",
    "if name=='xyz':\n",
    "    print(\"line1\")\n",
    "    print(\"line2\")\n",
    "else:\n",
    "    print(\"line3\")\n",
    "    \n",
    "# due to code readability... when working in team. So, braces, semi-colon has not used."
   ]
  },
  {
   "cell_type": "code",
   "execution_count": null,
   "id": "0e2250b1",
   "metadata": {},
   "outputs": [],
   "source": [
    "# use of loops --> \n"
   ]
  }
 ],
 "metadata": {
  "kernelspec": {
   "display_name": "Python 3 (ipykernel)",
   "language": "python",
   "name": "python3"
  },
  "language_info": {
   "codemirror_mode": {
    "name": "ipython",
    "version": 3
   },
   "file_extension": ".py",
   "mimetype": "text/x-python",
   "name": "python",
   "nbconvert_exporter": "python",
   "pygments_lexer": "ipython3",
   "version": "3.9.13"
  }
 },
 "nbformat": 4,
 "nbformat_minor": 5
}
