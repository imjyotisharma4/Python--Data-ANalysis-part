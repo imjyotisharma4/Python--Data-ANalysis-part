{
 "cells": [
  {
   "cell_type": "code",
   "execution_count": 1,
   "id": "64dd92e1",
   "metadata": {},
   "outputs": [
    {
     "name": "stdout",
     "output_type": "stream",
     "text": [
      "Tata Industries\n",
      "Ambani\n",
      "Bill Gates\n"
     ]
    }
   ],
   "source": [
    "Microsoft=\"Bill Gates\"\n",
    "Reliance=\"Ambani\"\n",
    "Tata=\"Tata Industries\"\n",
    "print(Tata)\n",
    "print(Reliance)\n",
    "print(Microsoft)\n"
   ]
  },
  {
   "cell_type": "code",
   "execution_count": 1,
   "id": "e6172923",
   "metadata": {},
   "outputs": [
    {
     "data": {
      "text/plain": [
       "98"
      ]
     },
     "execution_count": 1,
     "metadata": {},
     "output_type": "execute_result"
    }
   ],
   "source": [
    "ord(\"b\")"
   ]
  },
  {
   "cell_type": "code",
   "execution_count": 3,
   "id": "3e250877",
   "metadata": {},
   "outputs": [
    {
     "name": "stdout",
     "output_type": "stream",
     "text": [
      "66\n"
     ]
    }
   ],
   "source": [
    "print(ord(\"B\"))"
   ]
  },
  {
   "cell_type": "code",
   "execution_count": 1,
   "id": "5c890c66",
   "metadata": {},
   "outputs": [
    {
     "data": {
      "text/plain": [
       "'Hello World'"
      ]
     },
     "execution_count": 1,
     "metadata": {},
     "output_type": "execute_result"
    }
   ],
   "source": [
    "\"Hello World\""
   ]
  },
  {
   "cell_type": "code",
   "execution_count": 2,
   "id": "aa4db99c",
   "metadata": {},
   "outputs": [
    {
     "name": "stdout",
     "output_type": "stream",
     "text": [
      "Hello world\n"
     ]
    }
   ],
   "source": [
    "print(\"Hello world\")"
   ]
  },
  {
   "cell_type": "code",
   "execution_count": 1,
   "id": "8c7269eb",
   "metadata": {},
   "outputs": [
    {
     "data": {
      "text/plain": [
       "[]"
      ]
     },
     "execution_count": 1,
     "metadata": {},
     "output_type": "execute_result"
    }
   ],
   "source": [
    "list()"
   ]
  },
  {
   "cell_type": "markdown",
   "id": "b4c0410e",
   "metadata": {},
   "source": [
    "# w3c Schools"
   ]
  },
  {
   "cell_type": "code",
   "execution_count": 1,
   "id": "cf73143d",
   "metadata": {},
   "outputs": [
    {
     "data": {
      "text/plain": [
       "'Hello world'"
      ]
     },
     "execution_count": 1,
     "metadata": {},
     "output_type": "execute_result"
    }
   ],
   "source": [
    "\"Hello world\""
   ]
  },
  {
   "cell_type": "code",
   "execution_count": 2,
   "id": "a0d2f1a2",
   "metadata": {},
   "outputs": [
    {
     "name": "stdout",
     "output_type": "stream",
     "text": [
      "Hello world\n"
     ]
    }
   ],
   "source": [
    "print(\"Hello world\")"
   ]
  },
  {
   "cell_type": "code",
   "execution_count": 3,
   "id": "58b5859a",
   "metadata": {},
   "outputs": [
    {
     "name": "stdout",
     "output_type": "stream",
     "text": [
      "15\n"
     ]
    }
   ],
   "source": [
    "x=5\n",
    "y=10\n",
    "print(x+y)"
   ]
  },
  {
   "cell_type": "code",
   "execution_count": 2,
   "id": "adebe9ff",
   "metadata": {},
   "outputs": [
    {
     "ename": "TypeError",
     "evalue": "unsupported operand type(s) for +: 'int' and 'str'",
     "output_type": "error",
     "traceback": [
      "\u001b[1;31m---------------------------------------------------------------------------\u001b[0m",
      "\u001b[1;31mTypeError\u001b[0m                                 Traceback (most recent call last)",
      "\u001b[1;32m~\\AppData\\Local\\Temp\\ipykernel_9616\\847802100.py\u001b[0m in \u001b[0;36m<module>\u001b[1;34m\u001b[0m\n\u001b[0;32m      1\u001b[0m \u001b[0mx\u001b[0m\u001b[1;33m=\u001b[0m\u001b[1;36m5\u001b[0m\u001b[1;33m\u001b[0m\u001b[1;33m\u001b[0m\u001b[0m\n\u001b[0;32m      2\u001b[0m \u001b[0my\u001b[0m\u001b[1;33m=\u001b[0m\u001b[1;34m'Sneha'\u001b[0m\u001b[1;33m\u001b[0m\u001b[1;33m\u001b[0m\u001b[0m\n\u001b[1;32m----> 3\u001b[1;33m \u001b[0mprint\u001b[0m\u001b[1;33m(\u001b[0m\u001b[0mx\u001b[0m\u001b[1;33m+\u001b[0m\u001b[0my\u001b[0m\u001b[1;33m)\u001b[0m\u001b[1;33m\u001b[0m\u001b[1;33m\u001b[0m\u001b[0m\n\u001b[0m",
      "\u001b[1;31mTypeError\u001b[0m: unsupported operand type(s) for +: 'int' and 'str'"
     ]
    }
   ],
   "source": [
    "x=5\n",
    "y='Sneha'\n",
    "print(x+y)"
   ]
  },
  {
   "cell_type": "code",
   "execution_count": 3,
   "id": "2f22cd5c",
   "metadata": {},
   "outputs": [
    {
     "name": "stdout",
     "output_type": "stream",
     "text": [
      "please add: I m Jyoti\n"
     ]
    }
   ],
   "source": [
    "x=\"I m Jyoti\"\n",
    "def myfun():\n",
    "    print(\"please add:\",x)\n",
    "myfun()"
   ]
  },
  {
   "cell_type": "code",
   "execution_count": 5,
   "id": "a22a3e32",
   "metadata": {},
   "outputs": [
    {
     "name": "stdout",
     "output_type": "stream",
     "text": [
      "I m Aparajita\n",
      "please add: I m Jyoti\n"
     ]
    }
   ],
   "source": [
    "x=\"I m Jyoti\"\n",
    "\n",
    "def myfun():\n",
    "    x='I m Aparajita'\n",
    "    print(x)\n",
    "myfun()\n",
    "print(\"please add:\",x)"
   ]
  },
  {
   "cell_type": "code",
   "execution_count": 3,
   "id": "df0a7518",
   "metadata": {},
   "outputs": [
    {
     "name": "stdout",
     "output_type": "stream",
     "text": [
      "I m Aparajita\n",
      "please add: I m Aparajita\n"
     ]
    }
   ],
   "source": [
    "x=\"I m Jyoti\"\n",
    "\n",
    "def myfun():\n",
    "    global x\n",
    "    x='I m Aparajita'\n",
    "    print(x)\n",
    "myfun()\n",
    "print(\"please add:\",x)"
   ]
  },
  {
   "cell_type": "code",
   "execution_count": null,
   "id": "d1f5771e",
   "metadata": {},
   "outputs": [],
   "source": [
    "# x = \"Hello World\"\tstr\t\n",
    "# x = 20\tint\t\n",
    "# x = 20.5\tfloat\t\n",
    "# x = 1j\tcomplex\t\n",
    "# x = [\"apple\", \"banana\", \"cherry\"]\tlist\t\n",
    "# x = (\"apple\", \"banana\", \"cherry\")\ttuple\t\n",
    "# x = range(6)\trange\t\n",
    "# x = {\"name\" : \"John\", \"age\" : 36}\tdict\t\n",
    "# x = {\"apple\", \"banana\", \"cherry\"}\tset\t\n",
    "# x = frozenset({\"apple\", \"banana\", \"cherry\"})\tfrozenset\t\n",
    "# x = True\tbool\t\n",
    "# x = b\"Hello\"\tbytes\t\n",
    "# x = bytearray(5)\tbytearray\t\n",
    "# x = memoryview(bytes(5))\tmemoryview\t\n",
    "# x = None"
   ]
  },
  {
   "cell_type": "code",
   "execution_count": 15,
   "id": "5fbc84d9",
   "metadata": {},
   "outputs": [
    {
     "data": {
      "text/plain": [
       "'Hello World'"
      ]
     },
     "execution_count": 15,
     "metadata": {},
     "output_type": "execute_result"
    }
   ],
   "source": [
    "x = str(\"Hello World\")\n",
    "x"
   ]
  },
  {
   "cell_type": "code",
   "execution_count": 16,
   "id": "e35ebf8d",
   "metadata": {},
   "outputs": [
    {
     "data": {
      "text/plain": [
       "20"
      ]
     },
     "execution_count": 16,
     "metadata": {},
     "output_type": "execute_result"
    }
   ],
   "source": [
    "x=int(20)\n",
    "x"
   ]
  },
  {
   "cell_type": "code",
   "execution_count": 17,
   "id": "8a480c65",
   "metadata": {},
   "outputs": [
    {
     "data": {
      "text/plain": [
       "20.5"
      ]
     },
     "execution_count": 17,
     "metadata": {},
     "output_type": "execute_result"
    }
   ],
   "source": [
    "x = float(20.5)\n",
    "x"
   ]
  },
  {
   "cell_type": "code",
   "execution_count": 18,
   "id": "84965ca5",
   "metadata": {},
   "outputs": [
    {
     "data": {
      "text/plain": [
       "1j"
      ]
     },
     "execution_count": 18,
     "metadata": {},
     "output_type": "execute_result"
    }
   ],
   "source": [
    "x = complex(1j)\n",
    "x"
   ]
  },
  {
   "cell_type": "code",
   "execution_count": 19,
   "id": "092b1cae",
   "metadata": {},
   "outputs": [
    {
     "data": {
      "text/plain": [
       "['apple', 'banana', 'cherry']"
      ]
     },
     "execution_count": 19,
     "metadata": {},
     "output_type": "execute_result"
    }
   ],
   "source": [
    "x = list((\"apple\", \"banana\", \"cherry\"))\n",
    "x"
   ]
  },
  {
   "cell_type": "code",
   "execution_count": 21,
   "id": "f634bf5c",
   "metadata": {},
   "outputs": [
    {
     "data": {
      "text/plain": [
       "('apple', 'banana', 'cherry')"
      ]
     },
     "execution_count": 21,
     "metadata": {},
     "output_type": "execute_result"
    }
   ],
   "source": [
    "x = tuple((\"apple\", \"banana\", \"cherry\"))\n",
    "x"
   ]
  },
  {
   "cell_type": "code",
   "execution_count": 11,
   "id": "a0b84fdd",
   "metadata": {},
   "outputs": [
    {
     "data": {
      "text/plain": [
       "range(0, 6)"
      ]
     },
     "execution_count": 11,
     "metadata": {},
     "output_type": "execute_result"
    }
   ],
   "source": [
    "x = range(6)\n",
    "x"
   ]
  },
  {
   "cell_type": "code",
   "execution_count": 31,
   "id": "abcf7ecb",
   "metadata": {},
   "outputs": [
    {
     "data": {
      "text/plain": [
       "{'name': 'John', 'age': 36, 'salary': 56000}"
      ]
     },
     "execution_count": 31,
     "metadata": {},
     "output_type": "execute_result"
    }
   ],
   "source": [
    "x = dict(name=\"John\",age= 36,salary=56000)\n",
    "x"
   ]
  },
  {
   "cell_type": "code",
   "execution_count": 33,
   "id": "556c44f6",
   "metadata": {},
   "outputs": [
    {
     "data": {
      "text/plain": [
       "{'apple', 'banana', 'cherry'}"
      ]
     },
     "execution_count": 33,
     "metadata": {},
     "output_type": "execute_result"
    }
   ],
   "source": [
    "x = set((\"apple\", \"banana\", \"cherry\"))\n",
    "x"
   ]
  },
  {
   "cell_type": "code",
   "execution_count": 34,
   "id": "889126d1",
   "metadata": {},
   "outputs": [
    {
     "data": {
      "text/plain": [
       "frozenset({'apple', 'banana', 'cherry'})"
      ]
     },
     "execution_count": 34,
     "metadata": {},
     "output_type": "execute_result"
    }
   ],
   "source": [
    "x = frozenset((\"apple\", \"banana\", \"cherry\"))\n",
    "x"
   ]
  },
  {
   "cell_type": "code",
   "execution_count": 36,
   "id": "79409409",
   "metadata": {},
   "outputs": [
    {
     "data": {
      "text/plain": [
       "bool"
      ]
     },
     "execution_count": 36,
     "metadata": {},
     "output_type": "execute_result"
    }
   ],
   "source": [
    "x = bool\n",
    "x"
   ]
  },
  {
   "cell_type": "code",
   "execution_count": 38,
   "id": "210aae2b",
   "metadata": {},
   "outputs": [
    {
     "data": {
      "text/plain": [
       "b'\\x00\\x00\\x00\\x00\\x00'"
      ]
     },
     "execution_count": 38,
     "metadata": {},
     "output_type": "execute_result"
    }
   ],
   "source": [
    "x=bytes(5)\n",
    "x"
   ]
  },
  {
   "cell_type": "code",
   "execution_count": 39,
   "id": "d3b80263",
   "metadata": {},
   "outputs": [
    {
     "data": {
      "text/plain": [
       "bytearray(b'\\x00\\x00\\x00\\x00\\x00')"
      ]
     },
     "execution_count": 39,
     "metadata": {},
     "output_type": "execute_result"
    }
   ],
   "source": [
    "x=bytearray(5)\n",
    "x"
   ]
  },
  {
   "cell_type": "code",
   "execution_count": 40,
   "id": "2d87025a",
   "metadata": {},
   "outputs": [
    {
     "data": {
      "text/plain": [
       "<memory at 0x0000018A65C7BAC0>"
      ]
     },
     "execution_count": 40,
     "metadata": {},
     "output_type": "execute_result"
    }
   ],
   "source": [
    "x = memoryview(bytes(5))\n",
    "x"
   ]
  },
  {
   "cell_type": "code",
   "execution_count": 1,
   "id": "a849364c",
   "metadata": {},
   "outputs": [
    {
     "data": {
      "text/plain": [
       "float"
      ]
     },
     "execution_count": 1,
     "metadata": {},
     "output_type": "execute_result"
    }
   ],
   "source": [
    "x=35e3\n",
    "type(x)"
   ]
  },
  {
   "cell_type": "code",
   "execution_count": 5,
   "id": "a5a7c15c",
   "metadata": {},
   "outputs": [
    {
     "data": {
      "text/plain": [
       "41"
      ]
     },
     "execution_count": 5,
     "metadata": {},
     "output_type": "execute_result"
    }
   ],
   "source": [
    "# Random number ---------------- display a random no between 1 to 9 \n",
    "import random\n",
    "random.randrange(1,50)"
   ]
  },
  {
   "cell_type": "code",
   "execution_count": 6,
   "id": "ee465632",
   "metadata": {},
   "outputs": [
    {
     "ename": "TypeError",
     "evalue": "unsupported operand type(s) for +: 'int' and 'str'",
     "output_type": "error",
     "traceback": [
      "\u001b[1;31m---------------------------------------------------------------------------\u001b[0m",
      "\u001b[1;31mTypeError\u001b[0m                                 Traceback (most recent call last)",
      "\u001b[1;32m~\\AppData\\Local\\Temp\\ipykernel_23280\\386147204.py\u001b[0m in \u001b[0;36m<module>\u001b[1;34m\u001b[0m\n\u001b[0;32m      2\u001b[0m \u001b[0my\u001b[0m \u001b[1;33m=\u001b[0m \u001b[1;34m\"John\"\u001b[0m\u001b[1;33m\u001b[0m\u001b[1;33m\u001b[0m\u001b[0m\n\u001b[0;32m      3\u001b[0m \u001b[1;31m# print(x, y)\u001b[0m\u001b[1;33m\u001b[0m\u001b[1;33m\u001b[0m\u001b[0m\n\u001b[1;32m----> 4\u001b[1;33m \u001b[0mprint\u001b[0m\u001b[1;33m(\u001b[0m\u001b[0mx\u001b[0m\u001b[1;33m+\u001b[0m\u001b[0my\u001b[0m\u001b[1;33m)\u001b[0m\u001b[1;33m\u001b[0m\u001b[1;33m\u001b[0m\u001b[0m\n\u001b[0m",
      "\u001b[1;31mTypeError\u001b[0m: unsupported operand type(s) for +: 'int' and 'str'"
     ]
    }
   ],
   "source": [
    "x = 5\n",
    "y = \"John\"\n",
    "# print(x, y)\n"
   ]
  },
  {
   "cell_type": "code",
   "execution_count": 9,
   "id": "3452e1a3",
   "metadata": {},
   "outputs": [
    {
     "ename": "TypeError",
     "evalue": "unsupported operand type(s) for +: 'int' and 'str'",
     "output_type": "error",
     "traceback": [
      "\u001b[1;31m---------------------------------------------------------------------------\u001b[0m",
      "\u001b[1;31mTypeError\u001b[0m                                 Traceback (most recent call last)",
      "\u001b[1;32m~\\AppData\\Local\\Temp\\ipykernel_23280\\24070975.py\u001b[0m in \u001b[0;36m<module>\u001b[1;34m\u001b[0m\n\u001b[0;32m      1\u001b[0m \u001b[0mx\u001b[0m \u001b[1;33m=\u001b[0m \u001b[1;36m5\u001b[0m\u001b[1;33m\u001b[0m\u001b[1;33m\u001b[0m\u001b[0m\n\u001b[0;32m      2\u001b[0m \u001b[0my\u001b[0m \u001b[1;33m=\u001b[0m \u001b[1;34m\"John\"\u001b[0m\u001b[1;33m\u001b[0m\u001b[1;33m\u001b[0m\u001b[0m\n\u001b[1;32m----> 3\u001b[1;33m \u001b[0mx\u001b[0m\u001b[1;33m=\u001b[0m\u001b[1;33m(\u001b[0m\u001b[0mx\u001b[0m\u001b[1;33m+\u001b[0m\u001b[0my\u001b[0m\u001b[1;33m)\u001b[0m\u001b[1;33m\u001b[0m\u001b[1;33m\u001b[0m\u001b[0m\n\u001b[0m\u001b[0;32m      4\u001b[0m \u001b[0mprint\u001b[0m\u001b[1;33m(\u001b[0m\u001b[0mx\u001b[0m\u001b[1;33m)\u001b[0m\u001b[1;33m\u001b[0m\u001b[1;33m\u001b[0m\u001b[0m\n",
      "\u001b[1;31mTypeError\u001b[0m: unsupported operand type(s) for +: 'int' and 'str'"
     ]
    }
   ],
   "source": [
    "x = 5\n",
    "y = \"John\"\n",
    "x=(x+y)\n",
    "print(x)"
   ]
  },
  {
   "cell_type": "code",
   "execution_count": null,
   "id": "8161f5f5",
   "metadata": {},
   "outputs": [],
   "source": [
    "a = \"Hello, World!\"\n",
    "print(a[1])"
   ]
  },
  {
   "cell_type": "code",
   "execution_count": 5,
   "id": "e8352918",
   "metadata": {},
   "outputs": [
    {
     "name": "stdout",
     "output_type": "stream",
     "text": [
      "True\n"
     ]
    }
   ],
   "source": [
    "txt = \"The best things in life are free!\"\n",
    "print(\"free\" in txt)"
   ]
  },
  {
   "cell_type": "code",
   "execution_count": null,
   "id": "84156ef3",
   "metadata": {},
   "outputs": [],
   "source": [
    "b = \"Hello, World!\"\n",
    "print(b[-5:-2])"
   ]
  },
  {
   "cell_type": "code",
   "execution_count": 12,
   "id": "57ac8212",
   "metadata": {},
   "outputs": [
    {
     "name": "stdout",
     "output_type": "stream",
     "text": [
      "Jello, World!\n"
     ]
    }
   ],
   "source": [
    "name = \"Hello, World!\"\n",
    "print(name.replace(\"H\", \"J\"))"
   ]
  },
  {
   "cell_type": "code",
   "execution_count": 20,
   "id": "5fe71ca7",
   "metadata": {},
   "outputs": [
    {
     "data": {
      "text/plain": [
       "'We are the so-called \"Vikings\" from the north.'"
      ]
     },
     "execution_count": 20,
     "metadata": {},
     "output_type": "execute_result"
    }
   ],
   "source": [
    "txt = \"We are the so-called \\\"Vikings\\\" from the north.\"                 #Use of 'Escape'\n",
    "txt"
   ]
  },
  {
   "cell_type": "code",
   "execution_count": 12,
   "id": "617fba70",
   "metadata": {},
   "outputs": [
    {
     "name": "stdout",
     "output_type": "stream",
     "text": [
      "True\n",
      "True\n"
     ]
    }
   ],
   "source": [
    "print(bool(\"Hello\"))\n",
    "print(bool(15))"
   ]
  },
  {
   "cell_type": "code",
   "execution_count": 1,
   "id": "a0dd1fb9",
   "metadata": {},
   "outputs": [
    {
     "ename": "IndentationError",
     "evalue": "expected an indented block (4169275597.py, line 3)",
     "output_type": "error",
     "traceback": [
      "\u001b[1;36m  File \u001b[1;32m\"C:\\Users\\hp\\AppData\\Local\\Temp\\ipykernel_3144\\4169275597.py\"\u001b[1;36m, line \u001b[1;32m3\u001b[0m\n\u001b[1;33m    return 0;\u001b[0m\n\u001b[1;37m    ^\u001b[0m\n\u001b[1;31mIndentationError\u001b[0m\u001b[1;31m:\u001b[0m expected an indented block\n"
     ]
    }
   ],
   "source": [
    "class myclass():\n",
    "    def __len__(self):\n",
    "    return 0;\n",
    "\n",
    "myobj = myclass()\n",
    "print(bool(myobj))"
   ]
  },
  {
   "cell_type": "code",
   "execution_count": null,
   "id": "75382c5f",
   "metadata": {},
   "outputs": [],
   "source": [
    "x = 200\n",
    "print(isinstance(x, int))"
   ]
  },
  {
   "cell_type": "code",
   "execution_count": null,
   "id": "bf6e1658",
   "metadata": {},
   "outputs": [],
   "source": []
  },
  {
   "cell_type": "code",
   "execution_count": null,
   "id": "410a0855",
   "metadata": {},
   "outputs": [],
   "source": [
    "type(Tata)\n"
   ]
  },
  {
   "cell_type": "code",
   "execution_count": 3,
   "id": "b4104b21",
   "metadata": {},
   "outputs": [
    {
     "data": {
      "text/plain": [
       "str"
      ]
     },
     "execution_count": 3,
     "metadata": {},
     "output_type": "execute_result"
    }
   ],
   "source": [
    "type(Reliance)"
   ]
  },
  {
   "cell_type": "code",
   "execution_count": 4,
   "id": "b365e6d7",
   "metadata": {},
   "outputs": [
    {
     "data": {
      "text/plain": [
       "str"
      ]
     },
     "execution_count": 4,
     "metadata": {},
     "output_type": "execute_result"
    }
   ],
   "source": [
    "type(Microsoft)"
   ]
  },
  {
   "cell_type": "code",
   "execution_count": 5,
   "id": "f1a9b63e",
   "metadata": {},
   "outputs": [
    {
     "name": "stdout",
     "output_type": "stream",
     "text": [
      "Age of father is= 57\n",
      "Age of son is= 22\n",
      "Age of daughter is= 26\n"
     ]
    }
   ],
   "source": [
    "Age_of_father=57\n",
    "Age_of_son=22\n",
    "Age_of_daughter=26\n",
    "print(\"Age of father is=\",Age_of_father)\n",
    "print(\"Age of son is=\",Age_of_son)\n",
    "print(\"Age of daughter is=\",Age_of_daughter)"
   ]
  },
  {
   "cell_type": "code",
   "execution_count": 6,
   "id": "c1d21902",
   "metadata": {},
   "outputs": [
    {
     "name": "stdout",
     "output_type": "stream",
     "text": [
      "Salary of jyoti is : Rs.45,000\n",
      "Age of Jyoti is : 26years\n",
      "Working experience of jyoti is : 1month\n"
     ]
    }
   ],
   "source": [
    "Jyoti_salary,Jyoti_age,Jyoti_experience=\"Rs.45,000\",\"26years\",\"1month\"\n",
    "print(\"Salary of jyoti is :\",Jyoti_salary)\n",
    "print(\"Age of Jyoti is :\",Jyoti_age)\n",
    "print(\"Working experience of jyoti is :\",Jyoti_experience)"
   ]
  },
  {
   "cell_type": "code",
   "execution_count": 7,
   "id": "64e5c10e",
   "metadata": {},
   "outputs": [
    {
     "name": "stdout",
     "output_type": "stream",
     "text": [
      "2520000\n"
     ]
    },
    {
     "data": {
      "text/plain": [
       "int"
      ]
     },
     "execution_count": 7,
     "metadata": {},
     "output_type": "execute_result"
    }
   ],
   "source": [
    "Pulses=45000\n",
    "qty=56\n",
    "total=0\n",
    "total=Pulses*qty\n",
    "print(total)\n",
    "type(total)"
   ]
  },
  {
   "cell_type": "code",
   "execution_count": null,
   "id": "a8ef1d09",
   "metadata": {},
   "outputs": [],
   "source": [
    "Mango=50\n",
    "qty=6.5\n",
    "total=Mango*qty\n",
    "print(total)\n",
    "type(total)"
   ]
  },
  {
   "cell_type": "code",
   "execution_count": null,
   "id": "a1f8e4ec",
   "metadata": {},
   "outputs": [],
   "source": [
    "Mango=56.9\n",
    "qty=6\n",
    "total=Mango*qty\n",
    "print(total)\n",
    "type(total)"
   ]
  },
  {
   "cell_type": "code",
   "execution_count": 25,
   "id": "f6964a88",
   "metadata": {},
   "outputs": [
    {
     "name": "stdout",
     "output_type": "stream",
     "text": [
      "Ram  Karan  Ravi\n"
     ]
    }
   ],
   "source": [
    "print(\"Ram\",\" \" \"Karan\",\" \" \"Ravi\")"
   ]
  },
  {
   "cell_type": "code",
   "execution_count": 26,
   "id": "cc56d9f0",
   "metadata": {},
   "outputs": [
    {
     "name": "stdout",
     "output_type": "stream",
     "text": [
      "ram karan ravi\n"
     ]
    }
   ],
   "source": [
    "print(\"ram\",\"karan\",\"ravi\",sep= \" \" )"
   ]
  },
  {
   "cell_type": "code",
   "execution_count": null,
   "id": "4b4b5df1",
   "metadata": {},
   "outputs": [],
   "source": [
    "#float data type\n",
    "x=2.5\n",
    "\n",
    "str(x)"
   ]
  },
  {
   "cell_type": "code",
   "execution_count": null,
   "id": "51a40105",
   "metadata": {},
   "outputs": [],
   "source": [
    "#string data type\n",
    "x=\"2.5\"\n",
    "str(x)"
   ]
  },
  {
   "cell_type": "code",
   "execution_count": null,
   "id": "383d8581",
   "metadata": {},
   "outputs": [],
   "source": [
    "float(x)"
   ]
  },
  {
   "cell_type": "code",
   "execution_count": null,
   "id": "5de79ba7",
   "metadata": {},
   "outputs": [],
   "source": [
    "bool(x)"
   ]
  },
  {
   "cell_type": "code",
   "execution_count": null,
   "id": "065a9f35",
   "metadata": {},
   "outputs": [],
   "source": [
    "Apple=50\n",
    "Mango=60\n",
    "Banana=35\n",
    "Qty=5\n",
    "Total_price_of_Mango=Mango*Qty\n",
    "Total_price_of_Apple=Apple*Qty\n",
    "Total_price_of_Banana=Banana*Qty\n",
    "print(\"Price of Mango is :\",Total_price_of_Mango)\n",
    "print(\"Price of Apple is :\",Total_price_of_Apple)\n",
    "print(\"Price of Banana is :\",Total_price_of_Banana)"
   ]
  },
  {
   "cell_type": "code",
   "execution_count": null,
   "id": "11938b3f",
   "metadata": {},
   "outputs": [],
   "source": [
    "Apple=58.5\n",
    "Mango=60.7\n",
    "Banana=35\n",
    "Qty=5\n",
    "Total_price_of_Mango=Mango*Qty\n",
    "Total_price_of_Apple=Apple*Qty\n",
    "Total_price_of_Banana=Banana*Qty\n",
    "print(\"Price of Mango is :\",Total_price_of_Mango)\n",
    "print(\"Price of Apple is :\",Total_price_of_Apple)\n",
    "print(\"Price of Banana is :\",Total_price_of_Banana)"
   ]
  },
  {
   "cell_type": "code",
   "execution_count": null,
   "id": "68e062b1",
   "metadata": {},
   "outputs": [],
   "source": [
    "# // FLOOR division\n",
    "a=345\n",
    "b=56\n",
    "c=a//b\n",
    "print(c)"
   ]
  },
  {
   "cell_type": "code",
   "execution_count": null,
   "id": "509f7f37",
   "metadata": {},
   "outputs": [],
   "source": [
    "# cube\n",
    "a=345\n",
    "a=a**3\n",
    "print(a)"
   ]
  },
  {
   "cell_type": "code",
   "execution_count": null,
   "id": "3e3e2e7d",
   "metadata": {},
   "outputs": [],
   "source": [
    "ram=int(input(\"Enter the value of money: Rs. \"))\n",
    "shyam=int(input(\"ENter the valuem of money: Rs. \"))\n",
    "total=ram+shyam\n",
    "print(total)"
   ]
  },
  {
   "cell_type": "code",
   "execution_count": 27,
   "id": "a0d65d04",
   "metadata": {},
   "outputs": [
    {
     "data": {
      "text/plain": [
       "False"
      ]
     },
     "execution_count": 27,
     "metadata": {},
     "output_type": "execute_result"
    }
   ],
   "source": [
    "abhi=23\n",
    "ani=67\n",
    "abhi==ani"
   ]
  },
  {
   "cell_type": "code",
   "execution_count": 28,
   "id": "57644599",
   "metadata": {},
   "outputs": [
    {
     "data": {
      "text/plain": [
       "True"
      ]
     },
     "execution_count": 28,
     "metadata": {},
     "output_type": "execute_result"
    }
   ],
   "source": [
    "abhi!=ani"
   ]
  },
  {
   "cell_type": "code",
   "execution_count": 29,
   "id": "556fd1c1",
   "metadata": {},
   "outputs": [
    {
     "data": {
      "text/plain": [
       "23"
      ]
     },
     "execution_count": 29,
     "metadata": {},
     "output_type": "execute_result"
    }
   ],
   "source": [
    "abhi or ani"
   ]
  },
  {
   "cell_type": "code",
   "execution_count": 30,
   "id": "bbba8bb7",
   "metadata": {},
   "outputs": [
    {
     "data": {
      "text/plain": [
       "67"
      ]
     },
     "execution_count": 30,
     "metadata": {},
     "output_type": "execute_result"
    }
   ],
   "source": [
    "abhi and ani"
   ]
  },
  {
   "cell_type": "code",
   "execution_count": 31,
   "id": "36dc0658",
   "metadata": {},
   "outputs": [
    {
     "name": "stdout",
     "output_type": "stream",
     "text": [
      "True\n"
     ]
    }
   ],
   "source": [
    "# in or not in\n",
    "spell=\"obediently\"\n",
    "print(\"i\" in spell)"
   ]
  },
  {
   "cell_type": "code",
   "execution_count": 32,
   "id": "62e46c55",
   "metadata": {},
   "outputs": [
    {
     "name": "stdout",
     "output_type": "stream",
     "text": [
      "False\n"
     ]
    }
   ],
   "source": [
    "print(\"z\"in spell)"
   ]
  },
  {
   "cell_type": "code",
   "execution_count": 33,
   "id": "67fbb33c",
   "metadata": {},
   "outputs": [
    {
     "data": {
      "text/plain": [
       "False"
      ]
     },
     "execution_count": 33,
     "metadata": {},
     "output_type": "execute_result"
    }
   ],
   "source": [
    "print\n",
    "(\"y\" not in spell)"
   ]
  },
  {
   "cell_type": "code",
   "execution_count": 34,
   "id": "957505b7",
   "metadata": {},
   "outputs": [
    {
     "data": {
      "text/plain": [
       "True"
      ]
     },
     "execution_count": 34,
     "metadata": {},
     "output_type": "execute_result"
    }
   ],
   "source": [
    "#bitwise and / bitwise or\n",
    "val=10\n",
    "(val%2==0)|(val%5==0)"
   ]
  },
  {
   "cell_type": "code",
   "execution_count": 35,
   "id": "e44ffb0e",
   "metadata": {},
   "outputs": [
    {
     "data": {
      "text/plain": [
       "True"
      ]
     },
     "execution_count": 35,
     "metadata": {},
     "output_type": "execute_result"
    }
   ],
   "source": [
    "#bitwise and / bitwise or\n",
    "val=10\n",
    "(val%2==0) & (val%5==0)"
   ]
  },
  {
   "cell_type": "code",
   "execution_count": 36,
   "id": "16511cad",
   "metadata": {},
   "outputs": [
    {
     "name": "stdout",
     "output_type": "stream",
     "text": [
      "0\n"
     ]
    }
   ],
   "source": [
    "a=45\n",
    "b=45\n",
    "a-=b\n",
    "print(a)"
   ]
  },
  {
   "cell_type": "code",
   "execution_count": 37,
   "id": "9b84a228",
   "metadata": {},
   "outputs": [
    {
     "name": "stdout",
     "output_type": "stream",
     "text": [
      "0\n"
     ]
    }
   ],
   "source": [
    "a//=b\n",
    "print(a)"
   ]
  },
  {
   "cell_type": "code",
   "execution_count": 41,
   "id": "5279f18d",
   "metadata": {},
   "outputs": [
    {
     "name": "stdout",
     "output_type": "stream",
     "text": [
      "Enter user id: jhjhhg\n",
      "password: jhjhk\n"
     ]
    }
   ],
   "source": [
    "#Program to check password for a user\n",
    "user_id=input(\"Enter user id: \")\n",
    "password=input(\"password: \")\n",
    "if(password==\"abc1234\"):\n",
    "    if(user_id==\"ds_py\"):\n",
    "        print(\"Verified user\")\n",
    "    else:\n",
    "        print(\"not verified\")\n",
    "    \n",
    "            "
   ]
  },
  {
   "cell_type": "code",
   "execution_count": null,
   "id": "47710dfb",
   "metadata": {},
   "outputs": [],
   "source": [
    "num1=234\n",
    "num2=567\n",
    "sum=num1+num2\n",
    "print(\"sum of {0} and {1} is {2}\" .format(num1,num2,sum))"
   ]
  },
  {
   "cell_type": "code",
   "execution_count": null,
   "id": "4b7fb2fd",
   "metadata": {},
   "outputs": [],
   "source": [
    "num1=int(input(\"Enter first value: \"))\n",
    "num2=int(input(\"Enter second value: \"))\n",
    "sum=num1+num2\n",
    "print(\"Sum of {0} and {1} is: {2} \". format(num2,num1,sum))"
   ]
  },
  {
   "cell_type": "code",
   "execution_count": 18,
   "id": "37fb8943",
   "metadata": {},
   "outputs": [
    {
     "name": "stdout",
     "output_type": "stream",
     "text": [
      "Enter first value: 45\n",
      "Enter second value: 56\n",
      "Difference of 45.0 and 56.0 is : -11.0\n"
     ]
    }
   ],
   "source": [
    "num1=float(input(\"Enter first value: \"))\n",
    "num2=float(input(\"Enter second value: \"))\n",
    "sub=num1 - num2\n",
    "print(\"Difference of {0} and {1} is : {2}\". format(num1,num2,sub))"
   ]
  },
  {
   "cell_type": "code",
   "execution_count": 5,
   "id": "34881a2a",
   "metadata": {},
   "outputs": [
    {
     "name": "stdout",
     "output_type": "stream",
     "text": [
      "num is greater:  13\n"
     ]
    }
   ],
   "source": [
    "#greatest\n",
    "num1=12\n",
    "num2=13\n",
    "if(num1>num2):\n",
    "    print(\"num1 is greater: \",num1)\n",
    "else:\n",
    "    print(\"num is greater: \",num2)\n",
    "\n"
   ]
  },
  {
   "cell_type": "code",
   "execution_count": 7,
   "id": "9030ed30",
   "metadata": {},
   "outputs": [
    {
     "name": "stdout",
     "output_type": "stream",
     "text": [
      "ENter num1: 23\n",
      "ENter num2:14\n",
      "Greatest number is:  23\n"
     ]
    }
   ],
   "source": [
    "#greatest\n",
    "num1=int(input(\"ENter num1: \"))\n",
    "num2=int(input(\"ENter num2:\"))\n",
    "if(num1>num2):\n",
    "    print(\"Greatest number is: \",num1)\n",
    "else:\n",
    "    print(\"Greatest number is: \",num2)\n"
   ]
  },
  {
   "cell_type": "code",
   "execution_count": 13,
   "id": "67a49ba8",
   "metadata": {},
   "outputs": [
    {
     "name": "stdout",
     "output_type": "stream",
     "text": [
      "ENter num1: 90\n",
      "ENter num2:89\n",
      "ENter num3: 56\n",
      "ENter num4: 14\n",
      "Greatest number is :  90\n"
     ]
    }
   ],
   "source": [
    "#greatest\n",
    "num1=int(input(\"ENter num1: \"))\n",
    "num2=int(input(\"ENter num2:\"))\n",
    "num3=int(input(\"ENter num3: \"))\n",
    "num4=int(input(\"ENter num4: \"))\n",
    "print(\"Greatest number is : \",max(num1,num2,num3,num4))"
   ]
  },
  {
   "cell_type": "code",
   "execution_count": 16,
   "id": "3de86ad9",
   "metadata": {},
   "outputs": [
    {
     "name": "stdout",
     "output_type": "stream",
     "text": [
      "ENter num1: 90\n",
      "ENter num2:3.5\n",
      "ENter num3: 5.9\n",
      "ENter num4: 34\n",
      "SMallest number is :  3.5\n"
     ]
    }
   ],
   "source": [
    "#smallest\n",
    "num1=int(input(\"ENter num1: \"))\n",
    "num2=float(input(\"ENter num2:\"))\n",
    "num3=float(input(\"ENter num3: \"))\n",
    "num4=int(input(\"ENter num4: \"))\n",
    "print(\"SMallest number is : \",min(num1,num2,num3,num4))"
   ]
  },
  {
   "cell_type": "code",
   "execution_count": 43,
   "id": "b85f4ca9",
   "metadata": {},
   "outputs": [
    {
     "name": "stdout",
     "output_type": "stream",
     "text": [
      "Enter the value of n: 9\n",
      "the sum is:  45\n"
     ]
    }
   ],
   "source": [
    "#use of for loop for sum of natural no.\n",
    "\n",
    "n=int(input(\"Enter the value of n: \"))\n",
    "#initialize\n",
    "sum=0\n",
    "i=1\n",
    "while i<=n:\n",
    "    sum=sum+i\n",
    "    i=i+1\n",
    "    #print the sum\n",
    "print(\"the sum is: \",sum)"
   ]
  },
  {
   "cell_type": "code",
   "execution_count": 44,
   "id": "22d1ad4f",
   "metadata": {},
   "outputs": [
    {
     "name": "stdout",
     "output_type": "stream",
     "text": [
      "The sum is :  0\n",
      "The sum is :  1\n",
      "The sum is :  3\n",
      "The sum is :  6\n",
      "The sum is :  10\n",
      "The sum is :  15\n",
      "The sum is :  21\n",
      "The sum is :  28\n",
      "The sum is :  36\n",
      "The sum is :  45\n",
      "The sum is :  55\n"
     ]
    }
   ],
   "source": [
    "# whole no\n",
    "n=10\n",
    "#initialize\n",
    "sum=0\n",
    "i=0\n",
    "while i<=n:\n",
    "    sum=sum+i\n",
    "    i=i+1\n",
    "    #print\n",
    "    print(\"The sum is : \",sum)\n"
   ]
  },
  {
   "cell_type": "code",
   "execution_count": 47,
   "id": "643db72b",
   "metadata": {},
   "outputs": [
    {
     "name": "stdout",
     "output_type": "stream",
     "text": [
      "5\n",
      "6\n",
      "7\n",
      "8\n",
      "9\n",
      "10\n"
     ]
    }
   ],
   "source": [
    "#use of while loop\n",
    "\n",
    "count=5\n",
    "while count<=10:\n",
    "    print(count)\n",
    "    count=count+1\n",
    "\n"
   ]
  },
  {
   "cell_type": "code",
   "execution_count": 3,
   "id": "757a66c1",
   "metadata": {},
   "outputs": [
    {
     "name": "stdout",
     "output_type": "stream",
     "text": [
      "The dog is sleeping\n",
      "The cat is dancing\n",
      "\n",
      "\n",
      "The dog is sleeping\n",
      "The cat is dancing\n",
      "\n",
      "\n",
      "The dog is sleeping\n",
      "The cat is dancing\n",
      "\n",
      "\n",
      "The dog is sleeping\n",
      "The cat is dancing\n",
      "\n",
      "\n",
      "The dog is sleeping\n",
      "The cat is dancing\n",
      "\n",
      "\n"
     ]
    }
   ],
   "source": [
    "#while\n",
    "count=0\n",
    "while count<5:\n",
    "    print(\"The dog is sleeping\")\n",
    "    print(\"The cat is dancing\")\n",
    "    print(\"\\n\")\n",
    "    count=count+1\n",
    "   "
   ]
  },
  {
   "cell_type": "code",
   "execution_count": 50,
   "id": "2af0e867",
   "metadata": {},
   "outputs": [
    {
     "name": "stdout",
     "output_type": "stream",
     "text": [
      "Enter a number : 8\n",
      "16\n",
      "24\n",
      "32\n",
      "40\n",
      "48\n",
      "56\n",
      "64\n",
      "72\n"
     ]
    }
   ],
   "source": [
    "#while\n",
    "Number=int(input(\"Enter a number : \"))\n",
    "count=1\n",
    "while(count<n-1):\n",
    "    count=count+1\n",
    "    product=Number*count\n",
    "    print(product)"
   ]
  },
  {
   "cell_type": "code",
   "execution_count": 51,
   "id": "e0d5ade5",
   "metadata": {},
   "outputs": [
    {
     "name": "stdout",
     "output_type": "stream",
     "text": [
      "['a', 'b', 'i']\n"
     ]
    }
   ],
   "source": [
    "ai=['a','b']\n",
    "ai.append('i')\n",
    "print(ai)"
   ]
  },
  {
   "cell_type": "code",
   "execution_count": 52,
   "id": "20b0498e",
   "metadata": {},
   "outputs": [
    {
     "name": "stdout",
     "output_type": "stream",
     "text": [
      "Above ten,\n",
      "and also above 20!\n"
     ]
    }
   ],
   "source": [
    "x = 41\n",
    "\n",
    "if x > 10:\n",
    "    print(\"Above ten,\")\n",
    "if x > 20:\n",
    "    print(\"and also above 20!\")\n",
    "else:\n",
    "    print(\"but not above 20.\")\n"
   ]
  },
  {
   "cell_type": "code",
   "execution_count": 12,
   "id": "bc4f91e8",
   "metadata": {},
   "outputs": [
    {
     "name": "stdout",
     "output_type": "stream",
     "text": [
      "Enter a no : 56\n",
      "positive\n"
     ]
    }
   ],
   "source": [
    "num=float(input(\"Enter a no : \"))\n",
    "if num>=0:\n",
    "    if num==0:\n",
    "        print(\"zero\")\n",
    "    else:\n",
    "        print(\"positive\")\n",
    "else:\n",
    "    print(\"negative\")"
   ]
  },
  {
   "cell_type": "code",
   "execution_count": 13,
   "id": "39a1cbd3",
   "metadata": {},
   "outputs": [
    {
     "name": "stdout",
     "output_type": "stream",
     "text": [
      "Enter a number: -78\n",
      "Negative number\n"
     ]
    }
   ],
   "source": [
    "num = float(input(\"Enter a number: \"))\n",
    "if num >= 0:\n",
    "    if num == 0:\n",
    "        print(\"Zero\")\n",
    "    else:\n",
    "        print(\"Positive number\")\n",
    "else:\n",
    "    print(\"Negative number\")"
   ]
  },
  {
   "cell_type": "code",
   "execution_count": 53,
   "id": "8ee9a75b",
   "metadata": {},
   "outputs": [
    {
     "name": "stdout",
     "output_type": "stream",
     "text": [
      "inside\n",
      "inside\n",
      "inside\n",
      "inside\n",
      "inside else\n"
     ]
    }
   ],
   "source": [
    "count=0\n",
    "while count<=3:\n",
    "    print(\"inside\")\n",
    "    count=count+1\n",
    "else:\n",
    "    print(\"inside else\")\n",
    "        "
   ]
  },
  {
   "cell_type": "code",
   "execution_count": 2,
   "id": "6e9cb0fe",
   "metadata": {},
   "outputs": [
    {
     "name": "stdout",
     "output_type": "stream",
     "text": [
      "5\n",
      "6\n",
      "7\n",
      "8\n",
      "9\n",
      "10\n"
     ]
    }
   ],
   "source": [
    "count=5\n",
    "while count<=10:\n",
    "    print(count)\n",
    "    count=count+1\n",
    "\n"
   ]
  },
  {
   "cell_type": "code",
   "execution_count": 10,
   "id": "fea15d28",
   "metadata": {},
   "outputs": [
    {
     "ename": "ModuleNotFoundError",
     "evalue": "No module named 'dash'",
     "output_type": "error",
     "traceback": [
      "\u001b[1;31m---------------------------------------------------------------------------\u001b[0m",
      "\u001b[1;31mModuleNotFoundError\u001b[0m                       Traceback (most recent call last)",
      "Input \u001b[1;32mIn [10]\u001b[0m, in \u001b[0;36m<cell line: 4>\u001b[1;34m()\u001b[0m\n\u001b[0;32m      2\u001b[0m \u001b[38;5;28;01mimport\u001b[39;00m \u001b[38;5;21;01mplotly\u001b[39;00m\n\u001b[0;32m      3\u001b[0m \u001b[38;5;28;01mimport\u001b[39;00m \u001b[38;5;21;01mplotly\u001b[39;00m\u001b[38;5;21;01m.\u001b[39;00m\u001b[38;5;21;01mexpress\u001b[39;00m \u001b[38;5;28;01mas\u001b[39;00m \u001b[38;5;21;01mpx\u001b[39;00m\n\u001b[1;32m----> 4\u001b[0m \u001b[38;5;28;01mfrom\u001b[39;00m \u001b[38;5;21;01mdash\u001b[39;00m \u001b[38;5;28;01mimport\u001b[39;00m Dash, dcc, html, Input, Output\n\u001b[0;32m      6\u001b[0m app \u001b[38;5;241m=\u001b[39m dash\u001b[38;5;241m.\u001b[39mDash(\u001b[38;5;18m__name__\u001b[39m)\n\u001b[0;32m      7\u001b[0m app \u001b[38;5;241m=\u001b[39m dash\u001b[38;5;241m.\u001b[39mDash(\u001b[38;5;18m__name__\u001b[39m)\n",
      "\u001b[1;31mModuleNotFoundError\u001b[0m: No module named 'dash'"
     ]
    }
   ],
   "source": [
    "import pandas as pd\n",
    "import plotly\n",
    "import plotly.express as px\n",
    "from dash import Dash, dcc, html, Input, Output\n",
    "\n",
    "app = dash.Dash(__name__)\n",
    "app = dash.Dash(__name__)\n",
    "\n",
    "app.layout = html.Div([\n",
    "    dcc.Graph(id='graph-with-slider'),\n",
    "    dcc.Slider(\n",
    "        df['year'].min(),\n",
    "        df['year'].max(),\n",
    "        step=None,\n",
    "        value=df['year'].min(),\n",
    "        marks={str(year): str(year) for year in df['year'].unique()},\n",
    "        id='year-slider'\n",
    "    )\n",
    "])\n",
    "\n",
    "\n",
    "@app.callback(\n",
    "    Output('graph-with-slider', 'figure'),\n",
    "    Input('year-slider', 'value'))\n",
    "def update_figure(selected_year):\n",
    "    filtered_df = df[df.year == selected_year]\n",
    "\n",
    "    fig = px.scatter(filtered_df, x=\"gdpPercap\", y=\"lifeExp\",\n",
    "                     size=\"pop\", color=\"continent\", hover_name=\"country\",\n",
    "                     log_x=True, size_max=55)\n",
    "\n",
    "    fig.update_layout(transition_duration=500)\n",
    "\n",
    "    return fig\n",
    "\n",
    "\n",
    "if __name__ == '__main__':\n",
    "    app.run_server(debug=True)\n"
   ]
  },
  {
   "cell_type": "code",
   "execution_count": 28,
   "id": "194508be",
   "metadata": {},
   "outputs": [],
   "source": [
    "import numpy as np\n",
    "import pandas as pd\n"
   ]
  },
  {
   "cell_type": "markdown",
   "id": "258e7d3f",
   "metadata": {},
   "source": [
    "# Executives"
   ]
  },
  {
   "cell_type": "code",
   "execution_count": 46,
   "id": "db7146d4",
   "metadata": {},
   "outputs": [
    {
     "data": {
      "text/html": [
       "<div>\n",
       "<style scoped>\n",
       "    .dataframe tbody tr th:only-of-type {\n",
       "        vertical-align: middle;\n",
       "    }\n",
       "\n",
       "    .dataframe tbody tr th {\n",
       "        vertical-align: top;\n",
       "    }\n",
       "\n",
       "    .dataframe thead th {\n",
       "        text-align: right;\n",
       "    }\n",
       "</style>\n",
       "<table border=\"1\" class=\"dataframe\">\n",
       "  <thead>\n",
       "    <tr style=\"text-align: right;\">\n",
       "      <th></th>\n",
       "      <th>Sr. no</th>\n",
       "      <th>Position</th>\n",
       "      <th>Number of employees</th>\n",
       "      <th>Salary/month/employee</th>\n",
       "      <th>Salary/month</th>\n",
       "      <th>Salary/year/employee</th>\n",
       "      <th>Salary/year</th>\n",
       "    </tr>\n",
       "  </thead>\n",
       "  <tbody>\n",
       "    <tr>\n",
       "      <th>0</th>\n",
       "      <td>1</td>\n",
       "      <td>Founder - CVO</td>\n",
       "      <td>1</td>\n",
       "      <td>Rs.50000</td>\n",
       "      <td>Rs.50,000.00</td>\n",
       "      <td>Rs.600,000.00</td>\n",
       "      <td>Rs.600,000.00</td>\n",
       "    </tr>\n",
       "    <tr>\n",
       "      <th>1</th>\n",
       "      <td>2</td>\n",
       "      <td>CEO</td>\n",
       "      <td>1</td>\n",
       "      <td>Rs.50,000.00</td>\n",
       "      <td>Rs.50,000.00</td>\n",
       "      <td>Rs.600,000.00</td>\n",
       "      <td>Rs.600,000.00</td>\n",
       "    </tr>\n",
       "    <tr>\n",
       "      <th>2</th>\n",
       "      <td>3</td>\n",
       "      <td>Co-founder - COO</td>\n",
       "      <td>1</td>\n",
       "      <td>Rs.50,000.00</td>\n",
       "      <td>Rs.50,000.00</td>\n",
       "      <td>Rs.600,000.00</td>\n",
       "      <td>Rs.600,000.00</td>\n",
       "    </tr>\n",
       "  </tbody>\n",
       "</table>\n",
       "</div>"
      ],
      "text/plain": [
       "   Sr. no          Position  Number of employees Salary/month/employee  \\\n",
       "0       1     Founder - CVO                    1              Rs.50000   \n",
       "1       2               CEO                    1          Rs.50,000.00   \n",
       "2       3  Co-founder - COO                    1          Rs.50,000.00   \n",
       "\n",
       "   Salary/month Salary/year/employee    Salary/year  \n",
       "0  Rs.50,000.00        Rs.600,000.00  Rs.600,000.00  \n",
       "1  Rs.50,000.00        Rs.600,000.00  Rs.600,000.00  \n",
       "2  Rs.50,000.00        Rs.600,000.00  Rs.600,000.00  "
      ]
     },
     "execution_count": 46,
     "metadata": {},
     "output_type": "execute_result"
    }
   ],
   "source": [
    "executive=pd.read_csv('Executives.csv')\n",
    "executive"
   ]
  },
  {
   "cell_type": "markdown",
   "id": "2f4bec98",
   "metadata": {},
   "source": [
    "# Developers"
   ]
  },
  {
   "cell_type": "code",
   "execution_count": 55,
   "id": "a56069c0",
   "metadata": {},
   "outputs": [
    {
     "data": {
      "text/html": [
       "<div>\n",
       "<style scoped>\n",
       "    .dataframe tbody tr th:only-of-type {\n",
       "        vertical-align: middle;\n",
       "    }\n",
       "\n",
       "    .dataframe tbody tr th {\n",
       "        vertical-align: top;\n",
       "    }\n",
       "\n",
       "    .dataframe thead th {\n",
       "        text-align: right;\n",
       "    }\n",
       "</style>\n",
       "<table border=\"1\" class=\"dataframe\">\n",
       "  <thead>\n",
       "    <tr style=\"text-align: right;\">\n",
       "      <th></th>\n",
       "      <th>Sr.No.</th>\n",
       "      <th>Position</th>\n",
       "      <th>Number of employees</th>\n",
       "      <th>Salary/month/employee</th>\n",
       "      <th>Salary/month</th>\n",
       "      <th>Salary/year/employee</th>\n",
       "      <th>Salary/year</th>\n",
       "    </tr>\n",
       "  </thead>\n",
       "  <tbody>\n",
       "    <tr>\n",
       "      <th>0</th>\n",
       "      <td>1.0</td>\n",
       "      <td>Head Of Engineering - Experienced (in years an...</td>\n",
       "      <td>1.0</td>\n",
       "      <td>Rs.125,000.00</td>\n",
       "      <td>Rs.125,000.00</td>\n",
       "      <td>Rs.1,500,000.00</td>\n",
       "      <td>Rs.1,500,000.00</td>\n",
       "    </tr>\n",
       "    <tr>\n",
       "      <th>1</th>\n",
       "      <td>2.0</td>\n",
       "      <td>Backend Developer</td>\n",
       "      <td>2.0</td>\n",
       "      <td>Rs.115,000.00</td>\n",
       "      <td>Rs.230,000.00</td>\n",
       "      <td>Rs.1,380,000.00</td>\n",
       "      <td>Rs.2,760,000.00</td>\n",
       "    </tr>\n",
       "    <tr>\n",
       "      <th>2</th>\n",
       "      <td>3.0</td>\n",
       "      <td>Frontend Developer</td>\n",
       "      <td>2.0</td>\n",
       "      <td>Rs.90,000.00</td>\n",
       "      <td>Rs.180,000.00</td>\n",
       "      <td>Rs.1,080,000.00</td>\n",
       "      <td>Rs.2,160,000.00</td>\n",
       "    </tr>\n",
       "    <tr>\n",
       "      <th>3</th>\n",
       "      <td>4.0</td>\n",
       "      <td>QA Testers (1 QA for 4 developers)</td>\n",
       "      <td>1.0</td>\n",
       "      <td>Rs.35,000.00</td>\n",
       "      <td>Rs.35,000.00</td>\n",
       "      <td>Rs.420,000.00</td>\n",
       "      <td>Rs.420,000.00</td>\n",
       "    </tr>\n",
       "    <tr>\n",
       "      <th>4</th>\n",
       "      <td>5.0</td>\n",
       "      <td>Fresher - Team leader</td>\n",
       "      <td>2.0</td>\n",
       "      <td>Rs.41,666.67</td>\n",
       "      <td>Rs.83,333.33</td>\n",
       "      <td>Rs.500,000.00</td>\n",
       "      <td>Rs.1,000,000.00</td>\n",
       "    </tr>\n",
       "    <tr>\n",
       "      <th>5</th>\n",
       "      <td>6.0</td>\n",
       "      <td>Fresher(2 in each team)</td>\n",
       "      <td>4.0</td>\n",
       "      <td>Rs.27,916.67</td>\n",
       "      <td>Rs.111,666.67</td>\n",
       "      <td>Rs.335,000.00</td>\n",
       "      <td>Rs.1,340,000.00</td>\n",
       "    </tr>\n",
       "    <tr>\n",
       "      <th>6</th>\n",
       "      <td>7.0</td>\n",
       "      <td>Interns</td>\n",
       "      <td>8.0</td>\n",
       "      <td>Rs.1,000.00</td>\n",
       "      <td>Rs.8,000.00</td>\n",
       "      <td>Rs.12,000.00</td>\n",
       "      <td>Rs.96,000.00</td>\n",
       "    </tr>\n",
       "  </tbody>\n",
       "</table>\n",
       "</div>"
      ],
      "text/plain": [
       "   Sr.No.                                           Position  \\\n",
       "0     1.0  Head Of Engineering - Experienced (in years an...   \n",
       "1     2.0                                  Backend Developer   \n",
       "2     3.0                                 Frontend Developer   \n",
       "3     4.0                 QA Testers (1 QA for 4 developers)   \n",
       "4     5.0                             Fresher - Team leader    \n",
       "5     6.0                            Fresher(2 in each team)   \n",
       "6     7.0                                            Interns   \n",
       "\n",
       "   Number of employees Salary/month/employee   Salary/month  \\\n",
       "0                  1.0         Rs.125,000.00  Rs.125,000.00   \n",
       "1                  2.0         Rs.115,000.00  Rs.230,000.00   \n",
       "2                  2.0          Rs.90,000.00  Rs.180,000.00   \n",
       "3                  1.0          Rs.35,000.00   Rs.35,000.00   \n",
       "4                  2.0          Rs.41,666.67   Rs.83,333.33   \n",
       "5                  4.0          Rs.27,916.67  Rs.111,666.67   \n",
       "6                  8.0           Rs.1,000.00    Rs.8,000.00   \n",
       "\n",
       "  Salary/year/employee      Salary/year  \n",
       "0      Rs.1,500,000.00  Rs.1,500,000.00  \n",
       "1      Rs.1,380,000.00  Rs.2,760,000.00  \n",
       "2      Rs.1,080,000.00  Rs.2,160,000.00  \n",
       "3        Rs.420,000.00    Rs.420,000.00  \n",
       "4        Rs.500,000.00  Rs.1,000,000.00  \n",
       "5        Rs.335,000.00  Rs.1,340,000.00  \n",
       "6         Rs.12,000.00     Rs.96,000.00  "
      ]
     },
     "execution_count": 55,
     "metadata": {},
     "output_type": "execute_result"
    }
   ],
   "source": [
    "dvp=pd.read_csv('developers.csv').head(7)\n",
    "dvp"
   ]
  },
  {
   "cell_type": "code",
   "execution_count": 43,
   "id": "21d7c29c",
   "metadata": {},
   "outputs": [
    {
     "data": {
      "text/html": [
       "<div>\n",
       "<style scoped>\n",
       "    .dataframe tbody tr th:only-of-type {\n",
       "        vertical-align: middle;\n",
       "    }\n",
       "\n",
       "    .dataframe tbody tr th {\n",
       "        vertical-align: top;\n",
       "    }\n",
       "\n",
       "    .dataframe thead th {\n",
       "        text-align: right;\n",
       "    }\n",
       "</style>\n",
       "<table border=\"1\" class=\"dataframe\">\n",
       "  <thead>\n",
       "    <tr style=\"text-align: right;\">\n",
       "      <th></th>\n",
       "      <th>Sr. no</th>\n",
       "      <th>Position</th>\n",
       "      <th>Number of employees</th>\n",
       "      <th>Salary/month/employee</th>\n",
       "      <th>Salary/month</th>\n",
       "      <th>Salary/year/employee</th>\n",
       "      <th>Salary/year</th>\n",
       "      <th>Sr.No.</th>\n",
       "    </tr>\n",
       "  </thead>\n",
       "  <tbody>\n",
       "    <tr>\n",
       "      <th>0</th>\n",
       "      <td>1.0</td>\n",
       "      <td>Founder - CVO</td>\n",
       "      <td>1.0</td>\n",
       "      <td>Rs.50000</td>\n",
       "      <td>Rs.50,000.00</td>\n",
       "      <td>Rs.600,000.00</td>\n",
       "      <td>Rs.600,000.00</td>\n",
       "      <td>NaN</td>\n",
       "    </tr>\n",
       "    <tr>\n",
       "      <th>1</th>\n",
       "      <td>2.0</td>\n",
       "      <td>CEO</td>\n",
       "      <td>1.0</td>\n",
       "      <td>Rs.50,000.00</td>\n",
       "      <td>Rs.50,000.00</td>\n",
       "      <td>Rs.600,000.00</td>\n",
       "      <td>Rs.600,000.00</td>\n",
       "      <td>NaN</td>\n",
       "    </tr>\n",
       "    <tr>\n",
       "      <th>2</th>\n",
       "      <td>3.0</td>\n",
       "      <td>Co-founder - COO</td>\n",
       "      <td>1.0</td>\n",
       "      <td>Rs.50,000.00</td>\n",
       "      <td>Rs.50,000.00</td>\n",
       "      <td>Rs.600,000.00</td>\n",
       "      <td>Rs.600,000.00</td>\n",
       "      <td>NaN</td>\n",
       "    </tr>\n",
       "    <tr>\n",
       "      <th>0</th>\n",
       "      <td>NaN</td>\n",
       "      <td>Head Of Engineering - Experienced (in years an...</td>\n",
       "      <td>1.0</td>\n",
       "      <td>Rs.125,000.00</td>\n",
       "      <td>Rs.125,000.00</td>\n",
       "      <td>Rs.1,500,000.00</td>\n",
       "      <td>Rs.1,500,000.00</td>\n",
       "      <td>1.0</td>\n",
       "    </tr>\n",
       "    <tr>\n",
       "      <th>1</th>\n",
       "      <td>NaN</td>\n",
       "      <td>Backend Developer</td>\n",
       "      <td>2.0</td>\n",
       "      <td>Rs.115,000.00</td>\n",
       "      <td>Rs.230,000.00</td>\n",
       "      <td>Rs.1,380,000.00</td>\n",
       "      <td>Rs.2,760,000.00</td>\n",
       "      <td>2.0</td>\n",
       "    </tr>\n",
       "    <tr>\n",
       "      <th>2</th>\n",
       "      <td>NaN</td>\n",
       "      <td>Frontend Developer</td>\n",
       "      <td>2.0</td>\n",
       "      <td>Rs.90,000.00</td>\n",
       "      <td>Rs.180,000.00</td>\n",
       "      <td>Rs.1,080,000.00</td>\n",
       "      <td>Rs.2,160,000.00</td>\n",
       "      <td>3.0</td>\n",
       "    </tr>\n",
       "    <tr>\n",
       "      <th>3</th>\n",
       "      <td>NaN</td>\n",
       "      <td>QA Testers (1 QA for 4 developers)</td>\n",
       "      <td>1.0</td>\n",
       "      <td>Rs.35,000.00</td>\n",
       "      <td>Rs.35,000.00</td>\n",
       "      <td>Rs.420,000.00</td>\n",
       "      <td>Rs.420,000.00</td>\n",
       "      <td>4.0</td>\n",
       "    </tr>\n",
       "    <tr>\n",
       "      <th>4</th>\n",
       "      <td>NaN</td>\n",
       "      <td>Fresher - Team leader</td>\n",
       "      <td>2.0</td>\n",
       "      <td>Rs.41,666.67</td>\n",
       "      <td>Rs.83,333.33</td>\n",
       "      <td>Rs.500,000.00</td>\n",
       "      <td>Rs.1,000,000.00</td>\n",
       "      <td>5.0</td>\n",
       "    </tr>\n",
       "    <tr>\n",
       "      <th>5</th>\n",
       "      <td>NaN</td>\n",
       "      <td>Fresher(2 in each team)</td>\n",
       "      <td>4.0</td>\n",
       "      <td>Rs.27,916.67</td>\n",
       "      <td>Rs.111,666.67</td>\n",
       "      <td>Rs.335,000.00</td>\n",
       "      <td>Rs.1,340,000.00</td>\n",
       "      <td>6.0</td>\n",
       "    </tr>\n",
       "    <tr>\n",
       "      <th>6</th>\n",
       "      <td>NaN</td>\n",
       "      <td>Interns</td>\n",
       "      <td>8.0</td>\n",
       "      <td>Rs.1,000.00</td>\n",
       "      <td>Rs.8,000.00</td>\n",
       "      <td>Rs.12,000.00</td>\n",
       "      <td>Rs.96,000.00</td>\n",
       "      <td>7.0</td>\n",
       "    </tr>\n",
       "  </tbody>\n",
       "</table>\n",
       "</div>"
      ],
      "text/plain": [
       "   Sr. no                                           Position  \\\n",
       "0     1.0                                      Founder - CVO   \n",
       "1     2.0                                                CEO   \n",
       "2     3.0                                   Co-founder - COO   \n",
       "0     NaN  Head Of Engineering - Experienced (in years an...   \n",
       "1     NaN                                  Backend Developer   \n",
       "2     NaN                                 Frontend Developer   \n",
       "3     NaN                 QA Testers (1 QA for 4 developers)   \n",
       "4     NaN                             Fresher - Team leader    \n",
       "5     NaN                            Fresher(2 in each team)   \n",
       "6     NaN                                            Interns   \n",
       "\n",
       "   Number of employees Salary/month/employee   Salary/month  \\\n",
       "0                  1.0              Rs.50000   Rs.50,000.00   \n",
       "1                  1.0          Rs.50,000.00   Rs.50,000.00   \n",
       "2                  1.0          Rs.50,000.00   Rs.50,000.00   \n",
       "0                  1.0         Rs.125,000.00  Rs.125,000.00   \n",
       "1                  2.0         Rs.115,000.00  Rs.230,000.00   \n",
       "2                  2.0          Rs.90,000.00  Rs.180,000.00   \n",
       "3                  1.0          Rs.35,000.00   Rs.35,000.00   \n",
       "4                  2.0          Rs.41,666.67   Rs.83,333.33   \n",
       "5                  4.0          Rs.27,916.67  Rs.111,666.67   \n",
       "6                  8.0           Rs.1,000.00    Rs.8,000.00   \n",
       "\n",
       "  Salary/year/employee      Salary/year  Sr.No.  \n",
       "0        Rs.600,000.00    Rs.600,000.00     NaN  \n",
       "1        Rs.600,000.00    Rs.600,000.00     NaN  \n",
       "2        Rs.600,000.00    Rs.600,000.00     NaN  \n",
       "0      Rs.1,500,000.00  Rs.1,500,000.00     1.0  \n",
       "1      Rs.1,380,000.00  Rs.2,760,000.00     2.0  \n",
       "2      Rs.1,080,000.00  Rs.2,160,000.00     3.0  \n",
       "3        Rs.420,000.00    Rs.420,000.00     4.0  \n",
       "4        Rs.500,000.00  Rs.1,000,000.00     5.0  \n",
       "5        Rs.335,000.00  Rs.1,340,000.00     6.0  \n",
       "6         Rs.12,000.00     Rs.96,000.00     7.0  "
      ]
     },
     "execution_count": 43,
     "metadata": {},
     "output_type": "execute_result"
    }
   ],
   "source": [
    "# concatenation \n",
    "\n",
    "mask=pd.concat([data,data1])\n",
    "mask"
   ]
  },
  {
   "cell_type": "code",
   "execution_count": 33,
   "id": "6d16c5c1",
   "metadata": {},
   "outputs": [
    {
     "name": "stdout",
     "output_type": "stream",
     "text": [
      "<class 'pandas.core.frame.DataFrame'>\n",
      "RangeIndex: 3 entries, 0 to 2\n",
      "Data columns (total 7 columns):\n",
      " #   Column                 Non-Null Count  Dtype \n",
      "---  ------                 --------------  ----- \n",
      " 0   Sr. no                 3 non-null      int64 \n",
      " 1   Position               3 non-null      object\n",
      " 2   Number of employees    3 non-null      int64 \n",
      " 3   Salary/month/employee  3 non-null      object\n",
      " 4   Salary/month           3 non-null      object\n",
      " 5   Salary/year/employee   3 non-null      object\n",
      " 6   Salary/year            3 non-null      object\n",
      "dtypes: int64(2), object(5)\n",
      "memory usage: 296.0+ bytes\n"
     ]
    }
   ],
   "source": [
    "data.info()                           # preview of data"
   ]
  },
  {
   "cell_type": "code",
   "execution_count": 62,
   "id": "18216e4a",
   "metadata": {},
   "outputs": [
    {
     "data": {
      "text/html": [
       "<div>\n",
       "<style scoped>\n",
       "    .dataframe tbody tr th:only-of-type {\n",
       "        vertical-align: middle;\n",
       "    }\n",
       "\n",
       "    .dataframe tbody tr th {\n",
       "        vertical-align: top;\n",
       "    }\n",
       "\n",
       "    .dataframe thead th {\n",
       "        text-align: right;\n",
       "    }\n",
       "</style>\n",
       "<table border=\"1\" class=\"dataframe\">\n",
       "  <thead>\n",
       "    <tr style=\"text-align: right;\">\n",
       "      <th></th>\n",
       "      <th>Sr.No.</th>\n",
       "      <th>Position</th>\n",
       "      <th>Number of employees</th>\n",
       "      <th>Salary/month/employee</th>\n",
       "      <th>Salary/month</th>\n",
       "      <th>Salary/year/employee</th>\n",
       "      <th>Salary/year</th>\n",
       "    </tr>\n",
       "  </thead>\n",
       "  <tbody>\n",
       "    <tr>\n",
       "      <th>0</th>\n",
       "      <td>1.0</td>\n",
       "      <td>Head Of Engineering - Experienced (in years an...</td>\n",
       "      <td>1.0</td>\n",
       "      <td>Rs.125,000.00</td>\n",
       "      <td>Rs.125,000.00</td>\n",
       "      <td>Rs.1,500,000.00</td>\n",
       "      <td>Rs.1,500,000.00</td>\n",
       "    </tr>\n",
       "    <tr>\n",
       "      <th>1</th>\n",
       "      <td>2.0</td>\n",
       "      <td>Backend Developer</td>\n",
       "      <td>2.0</td>\n",
       "      <td>Rs.115,000.00</td>\n",
       "      <td>Rs.230,000.00</td>\n",
       "      <td>Rs.1,380,000.00</td>\n",
       "      <td>Rs.2,760,000.00</td>\n",
       "    </tr>\n",
       "    <tr>\n",
       "      <th>2</th>\n",
       "      <td>3.0</td>\n",
       "      <td>Frontend Developer</td>\n",
       "      <td>2.0</td>\n",
       "      <td>Rs.90,000.00</td>\n",
       "      <td>Rs.180,000.00</td>\n",
       "      <td>Rs.1,080,000.00</td>\n",
       "      <td>Rs.2,160,000.00</td>\n",
       "    </tr>\n",
       "    <tr>\n",
       "      <th>3</th>\n",
       "      <td>4.0</td>\n",
       "      <td>QA Testers (1 QA for 4 developers)</td>\n",
       "      <td>1.0</td>\n",
       "      <td>Rs.35,000.00</td>\n",
       "      <td>Rs.35,000.00</td>\n",
       "      <td>Rs.420,000.00</td>\n",
       "      <td>Rs.420,000.00</td>\n",
       "    </tr>\n",
       "    <tr>\n",
       "      <th>4</th>\n",
       "      <td>5.0</td>\n",
       "      <td>Fresher - Team leader</td>\n",
       "      <td>2.0</td>\n",
       "      <td>Rs.41,666.67</td>\n",
       "      <td>Rs.83,333.33</td>\n",
       "      <td>Rs.500,000.00</td>\n",
       "      <td>Rs.1,000,000.00</td>\n",
       "    </tr>\n",
       "    <tr>\n",
       "      <th>5</th>\n",
       "      <td>6.0</td>\n",
       "      <td>Fresher(2 in each team)</td>\n",
       "      <td>4.0</td>\n",
       "      <td>Rs.27,916.67</td>\n",
       "      <td>Rs.111,666.67</td>\n",
       "      <td>Rs.335,000.00</td>\n",
       "      <td>Rs.1,340,000.00</td>\n",
       "    </tr>\n",
       "    <tr>\n",
       "      <th>6</th>\n",
       "      <td>7.0</td>\n",
       "      <td>Interns</td>\n",
       "      <td>8.0</td>\n",
       "      <td>Rs.1,000.00</td>\n",
       "      <td>Rs.8,000.00</td>\n",
       "      <td>Rs.12,000.00</td>\n",
       "      <td>Rs.96,000.00</td>\n",
       "    </tr>\n",
       "  </tbody>\n",
       "</table>\n",
       "</div>"
      ],
      "text/plain": [
       "   Sr.No.                                           Position  \\\n",
       "0     1.0  Head Of Engineering - Experienced (in years an...   \n",
       "1     2.0                                  Backend Developer   \n",
       "2     3.0                                 Frontend Developer   \n",
       "3     4.0                 QA Testers (1 QA for 4 developers)   \n",
       "4     5.0                             Fresher - Team leader    \n",
       "5     6.0                            Fresher(2 in each team)   \n",
       "6     7.0                                            Interns   \n",
       "\n",
       "   Number of employees Salary/month/employee   Salary/month  \\\n",
       "0                  1.0         Rs.125,000.00  Rs.125,000.00   \n",
       "1                  2.0         Rs.115,000.00  Rs.230,000.00   \n",
       "2                  2.0          Rs.90,000.00  Rs.180,000.00   \n",
       "3                  1.0          Rs.35,000.00   Rs.35,000.00   \n",
       "4                  2.0          Rs.41,666.67   Rs.83,333.33   \n",
       "5                  4.0          Rs.27,916.67  Rs.111,666.67   \n",
       "6                  8.0           Rs.1,000.00    Rs.8,000.00   \n",
       "\n",
       "  Salary/year/employee      Salary/year  \n",
       "0      Rs.1,500,000.00  Rs.1,500,000.00  \n",
       "1      Rs.1,380,000.00  Rs.2,760,000.00  \n",
       "2      Rs.1,080,000.00  Rs.2,160,000.00  \n",
       "3        Rs.420,000.00    Rs.420,000.00  \n",
       "4        Rs.500,000.00  Rs.1,000,000.00  \n",
       "5        Rs.335,000.00  Rs.1,340,000.00  \n",
       "6         Rs.12,000.00     Rs.96,000.00  "
      ]
     },
     "execution_count": 62,
     "metadata": {},
     "output_type": "execute_result"
    }
   ],
   "source": [
    "dvp=pd.read_csv('developers.csv').head(7)\n",
    "dvp"
   ]
  },
  {
   "cell_type": "code",
   "execution_count": 85,
   "id": "00022882",
   "metadata": {
    "collapsed": true
   },
   "outputs": [
    {
     "data": {
      "text/plain": [
       "<AxesSubplot:ylabel='Position'>"
      ]
     },
     "execution_count": 85,
     "metadata": {},
     "output_type": "execute_result"
    },
    {
     "data": {
      "image/png": "[encoded data removed]",
      "text/plain": [
       "<Figure size 432x288 with 1 Axes>"
      ]
     },
     "metadata": {},
     "output_type": "display_data"
    }
   ],
   "source": [
    "\n",
    "import matplotlib.pyplot as pandaa\n",
    "dvp['Position'].value_counts().plot(kind='pie')"
   ]
  },
  {
   "cell_type": "code",
   "execution_count": 90,
   "id": "3af101ff",
   "metadata": {
    "scrolled": true
   },
   "outputs": [
    {
     "data": {
      "text/plain": [
       "<AxesSubplot:>"
      ]
     },
     "execution_count": 90,
     "metadata": {},
     "output_type": "execute_result"
    },
    {
     "data": {
      "image/png": "[encoded data removed]",
      "text/plain": [
       "<Figure size 432x288 with 1 Axes>"
      ]
     },
     "metadata": {
      "needs_background": "light"
     },
     "output_type": "display_data"
    }
   ],
   "source": [
    "import matplotlib.pyplot as pandaa\n",
    "dvp['Position'].value_counts().plot(kind='barh')"
   ]
  },
  {
   "cell_type": "code",
   "execution_count": 91,
   "id": "3928b05e",
   "metadata": {},
   "outputs": [
    {
     "ename": "KeyError",
     "evalue": "('Position', 'Number of employees')",
     "output_type": "error",
     "traceback": [
      "\u001b[1;31m---------------------------------------------------------------------------\u001b[0m",
      "\u001b[1;31mKeyError\u001b[0m                                  Traceback (most recent call last)",
      "File \u001b[1;32m~\\anaconda3\\lib\\site-packages\\pandas\\core\\indexes\\base.py:3621\u001b[0m, in \u001b[0;36mIndex.get_loc\u001b[1;34m(self, key, method, tolerance)\u001b[0m\n\u001b[0;32m   3620\u001b[0m \u001b[38;5;28;01mtry\u001b[39;00m:\n\u001b[1;32m-> 3621\u001b[0m     \u001b[38;5;28;01mreturn\u001b[39;00m \u001b[38;5;28;43mself\u001b[39;49m\u001b[38;5;241;43m.\u001b[39;49m\u001b[43m_engine\u001b[49m\u001b[38;5;241;43m.\u001b[39;49m\u001b[43mget_loc\u001b[49m\u001b[43m(\u001b[49m\u001b[43mcasted_key\u001b[49m\u001b[43m)\u001b[49m\n\u001b[0;32m   3622\u001b[0m \u001b[38;5;28;01mexcept\u001b[39;00m \u001b[38;5;167;01mKeyError\u001b[39;00m \u001b[38;5;28;01mas\u001b[39;00m err:\n",
      "File \u001b[1;32m~\\anaconda3\\lib\\site-packages\\pandas\\_libs\\index.pyx:136\u001b[0m, in \u001b[0;36mpandas._libs.index.IndexEngine.get_loc\u001b[1;34m()\u001b[0m\n",
      "File \u001b[1;32m~\\anaconda3\\lib\\site-packages\\pandas\\_libs\\index.pyx:163\u001b[0m, in \u001b[0;36mpandas._libs.index.IndexEngine.get_loc\u001b[1;34m()\u001b[0m\n",
      "File \u001b[1;32mpandas\\_libs\\hashtable_class_helper.pxi:5198\u001b[0m, in \u001b[0;36mpandas._libs.hashtable.PyObjectHashTable.get_item\u001b[1;34m()\u001b[0m\n",
      "File \u001b[1;32mpandas\\_libs\\hashtable_class_helper.pxi:5206\u001b[0m, in \u001b[0;36mpandas._libs.hashtable.PyObjectHashTable.get_item\u001b[1;34m()\u001b[0m\n",
      "\u001b[1;31mKeyError\u001b[0m: ('Position', 'Number of employees')",
      "\nThe above exception was the direct cause of the following exception:\n",
      "\u001b[1;31mKeyError\u001b[0m                                  Traceback (most recent call last)",
      "Input \u001b[1;32mIn [91]\u001b[0m, in \u001b[0;36m<cell line: 1>\u001b[1;34m()\u001b[0m\n\u001b[1;32m----> 1\u001b[0m \u001b[43mdata\u001b[49m\u001b[43m[\u001b[49m\u001b[38;5;124;43m'\u001b[39;49m\u001b[38;5;124;43mPosition\u001b[39;49m\u001b[38;5;124;43m'\u001b[39;49m\u001b[43m,\u001b[49m\u001b[38;5;124;43m'\u001b[39;49m\u001b[38;5;124;43mNumber of employees\u001b[39;49m\u001b[38;5;124;43m'\u001b[39;49m\u001b[43m]\u001b[49m\n",
      "File \u001b[1;32m~\\anaconda3\\lib\\site-packages\\pandas\\core\\frame.py:3505\u001b[0m, in \u001b[0;36mDataFrame.__getitem__\u001b[1;34m(self, key)\u001b[0m\n\u001b[0;32m   3503\u001b[0m \u001b[38;5;28;01mif\u001b[39;00m \u001b[38;5;28mself\u001b[39m\u001b[38;5;241m.\u001b[39mcolumns\u001b[38;5;241m.\u001b[39mnlevels \u001b[38;5;241m>\u001b[39m \u001b[38;5;241m1\u001b[39m:\n\u001b[0;32m   3504\u001b[0m     \u001b[38;5;28;01mreturn\u001b[39;00m \u001b[38;5;28mself\u001b[39m\u001b[38;5;241m.\u001b[39m_getitem_multilevel(key)\n\u001b[1;32m-> 3505\u001b[0m indexer \u001b[38;5;241m=\u001b[39m \u001b[38;5;28;43mself\u001b[39;49m\u001b[38;5;241;43m.\u001b[39;49m\u001b[43mcolumns\u001b[49m\u001b[38;5;241;43m.\u001b[39;49m\u001b[43mget_loc\u001b[49m\u001b[43m(\u001b[49m\u001b[43mkey\u001b[49m\u001b[43m)\u001b[49m\n\u001b[0;32m   3506\u001b[0m \u001b[38;5;28;01mif\u001b[39;00m is_integer(indexer):\n\u001b[0;32m   3507\u001b[0m     indexer \u001b[38;5;241m=\u001b[39m [indexer]\n",
      "File \u001b[1;32m~\\anaconda3\\lib\\site-packages\\pandas\\core\\indexes\\base.py:3623\u001b[0m, in \u001b[0;36mIndex.get_loc\u001b[1;34m(self, key, method, tolerance)\u001b[0m\n\u001b[0;32m   3621\u001b[0m     \u001b[38;5;28;01mreturn\u001b[39;00m \u001b[38;5;28mself\u001b[39m\u001b[38;5;241m.\u001b[39m_engine\u001b[38;5;241m.\u001b[39mget_loc(casted_key)\n\u001b[0;32m   3622\u001b[0m \u001b[38;5;28;01mexcept\u001b[39;00m \u001b[38;5;167;01mKeyError\u001b[39;00m \u001b[38;5;28;01mas\u001b[39;00m err:\n\u001b[1;32m-> 3623\u001b[0m     \u001b[38;5;28;01mraise\u001b[39;00m \u001b[38;5;167;01mKeyError\u001b[39;00m(key) \u001b[38;5;28;01mfrom\u001b[39;00m \u001b[38;5;21;01merr\u001b[39;00m\n\u001b[0;32m   3624\u001b[0m \u001b[38;5;28;01mexcept\u001b[39;00m \u001b[38;5;167;01mTypeError\u001b[39;00m:\n\u001b[0;32m   3625\u001b[0m     \u001b[38;5;66;03m# If we have a listlike key, _check_indexing_error will raise\u001b[39;00m\n\u001b[0;32m   3626\u001b[0m     \u001b[38;5;66;03m#  InvalidIndexError. Otherwise we fall through and re-raise\u001b[39;00m\n\u001b[0;32m   3627\u001b[0m     \u001b[38;5;66;03m#  the TypeError.\u001b[39;00m\n\u001b[0;32m   3628\u001b[0m     \u001b[38;5;28mself\u001b[39m\u001b[38;5;241m.\u001b[39m_check_indexing_error(key)\n",
      "\u001b[1;31mKeyError\u001b[0m: ('Position', 'Number of employees')"
     ]
    }
   ],
   "source": [
    "data['Position','Number of employees']"
   ]
  },
  {
   "cell_type": "code",
   "execution_count": 2,
   "id": "af50c1d2",
   "metadata": {},
   "outputs": [],
   "source": [
    "# list"
   ]
  },
  {
   "cell_type": "code",
   "execution_count": 2,
   "id": "173dc681",
   "metadata": {},
   "outputs": [
    {
     "data": {
      "text/plain": [
       "[1, 2, 3, 'a', 'b']"
      ]
     },
     "execution_count": 2,
     "metadata": {},
     "output_type": "execute_result"
    }
   ],
   "source": [
    "x=[1,2,3,'a',\"b\"]\n",
    "x"
   ]
  },
  {
   "cell_type": "code",
   "execution_count": 3,
   "id": "49de69e6",
   "metadata": {},
   "outputs": [
    {
     "data": {
      "text/plain": [
       "list"
      ]
     },
     "execution_count": 3,
     "metadata": {},
     "output_type": "execute_result"
    }
   ],
   "source": [
    "type(x)"
   ]
  },
  {
   "cell_type": "code",
   "execution_count": 4,
   "id": "0e2c92a3",
   "metadata": {},
   "outputs": [
    {
     "data": {
      "text/plain": [
       "['ankita', 'neha', 'rashi', 'sumit']"
      ]
     },
     "execution_count": 4,
     "metadata": {},
     "output_type": "execute_result"
    }
   ],
   "source": [
    "x=['ankita','neha','rashi','sumit']\n",
    "x"
   ]
  },
  {
   "cell_type": "code",
   "execution_count": 5,
   "id": "db8c2686",
   "metadata": {},
   "outputs": [
    {
     "data": {
      "text/plain": [
       "'sumit'"
      ]
     },
     "execution_count": 5,
     "metadata": {},
     "output_type": "execute_result"
    }
   ],
   "source": [
    "max(x)"
   ]
  },
  {
   "cell_type": "code",
   "execution_count": 6,
   "id": "1820d2d9",
   "metadata": {},
   "outputs": [
    {
     "data": {
      "text/plain": [
       "'ankita'"
      ]
     },
     "execution_count": 6,
     "metadata": {},
     "output_type": "execute_result"
    }
   ],
   "source": [
    "min(x)"
   ]
  },
  {
   "cell_type": "code",
   "execution_count": 7,
   "id": "c4c18706",
   "metadata": {},
   "outputs": [
    {
     "data": {
      "text/plain": [
       "'e'"
      ]
     },
     "execution_count": 7,
     "metadata": {},
     "output_type": "execute_result"
    }
   ],
   "source": [
    "# list\n",
    "text='I love Python'\n",
    "text[5]"
   ]
  },
  {
   "cell_type": "code",
   "execution_count": 10,
   "id": "60a4ab5f",
   "metadata": {},
   "outputs": [
    {
     "data": {
      "text/plain": [
       "'n'"
      ]
     },
     "execution_count": 10,
     "metadata": {},
     "output_type": "execute_result"
    }
   ],
   "source": [
    "text[-1]"
   ]
  },
  {
   "cell_type": "code",
   "execution_count": 11,
   "id": "ed02165a",
   "metadata": {},
   "outputs": [
    {
     "data": {
      "text/plain": [
       "'y'"
      ]
     },
     "execution_count": 11,
     "metadata": {},
     "output_type": "execute_result"
    }
   ],
   "source": [
    "text[-5]"
   ]
  },
  {
   "cell_type": "code",
   "execution_count": 14,
   "id": "0069873e",
   "metadata": {},
   "outputs": [
    {
     "data": {
      "text/plain": [
       "''"
      ]
     },
     "execution_count": 14,
     "metadata": {},
     "output_type": "execute_result"
    }
   ],
   "source": [
    "text[-1:5]"
   ]
  },
  {
   "cell_type": "code",
   "execution_count": 17,
   "id": "06806dcb",
   "metadata": {},
   "outputs": [
    {
     "data": {
      "text/plain": [
       "' oe'"
      ]
     },
     "execution_count": 17,
     "metadata": {},
     "output_type": "execute_result"
    }
   ],
   "source": [
    "text[1:6:2]  #1,3,5"
   ]
  },
  {
   "cell_type": "code",
   "execution_count": 18,
   "id": "af7dc50e",
   "metadata": {},
   "outputs": [
    {
     "data": {
      "text/plain": [
       "'tho'"
      ]
     },
     "execution_count": 18,
     "metadata": {},
     "output_type": "execute_result"
    }
   ],
   "source": [
    "text[-4:-1]"
   ]
  },
  {
   "cell_type": "code",
   "execution_count": 19,
   "id": "68be8161",
   "metadata": {},
   "outputs": [
    {
     "data": {
      "text/plain": [
       "'I love Python'"
      ]
     },
     "execution_count": 19,
     "metadata": {},
     "output_type": "execute_result"
    }
   ],
   "source": [
    "text[:]   #all"
   ]
  },
  {
   "cell_type": "code",
   "execution_count": 20,
   "id": "5d9c9cf3",
   "metadata": {},
   "outputs": [
    {
     "data": {
      "text/plain": [
       "'love Python'"
      ]
     },
     "execution_count": 20,
     "metadata": {},
     "output_type": "execute_result"
    }
   ],
   "source": [
    "text[2:]   #after 2"
   ]
  },
  {
   "cell_type": "code",
   "execution_count": 21,
   "id": "70418dc6",
   "metadata": {},
   "outputs": [
    {
     "data": {
      "text/plain": [
       "'h'"
      ]
     },
     "execution_count": 21,
     "metadata": {},
     "output_type": "execute_result"
    }
   ],
   "source": [
    "text[-3]"
   ]
  },
  {
   "cell_type": "code",
   "execution_count": 22,
   "id": "b496ef93",
   "metadata": {},
   "outputs": [
    {
     "data": {
      "text/plain": [
       "['__add__',\n",
       " '__class__',\n",
       " '__contains__',\n",
       " '__delattr__',\n",
       " '__dir__',\n",
       " '__doc__',\n",
       " '__eq__',\n",
       " '__format__',\n",
       " '__ge__',\n",
       " '__getattribute__',\n",
       " '__getitem__',\n",
       " '__getnewargs__',\n",
       " '__gt__',\n",
       " '__hash__',\n",
       " '__init__',\n",
       " '__init_subclass__',\n",
       " '__iter__',\n",
       " '__le__',\n",
       " '__len__',\n",
       " '__lt__',\n",
       " '__mod__',\n",
       " '__mul__',\n",
       " '__ne__',\n",
       " '__new__',\n",
       " '__reduce__',\n",
       " '__reduce_ex__',\n",
       " '__repr__',\n",
       " '__rmod__',\n",
       " '__rmul__',\n",
       " '__setattr__',\n",
       " '__sizeof__',\n",
       " '__str__',\n",
       " '__subclasshook__',\n",
       " 'capitalize',\n",
       " 'casefold',\n",
       " 'center',\n",
       " 'count',\n",
       " 'encode',\n",
       " 'endswith',\n",
       " 'expandtabs',\n",
       " 'find',\n",
       " 'format',\n",
       " 'format_map',\n",
       " 'index',\n",
       " 'isalnum',\n",
       " 'isalpha',\n",
       " 'isascii',\n",
       " 'isdecimal',\n",
       " 'isdigit',\n",
       " 'isidentifier',\n",
       " 'islower',\n",
       " 'isnumeric',\n",
       " 'isprintable',\n",
       " 'isspace',\n",
       " 'istitle',\n",
       " 'isupper',\n",
       " 'join',\n",
       " 'ljust',\n",
       " 'lower',\n",
       " 'lstrip',\n",
       " 'maketrans',\n",
       " 'partition',\n",
       " 'removeprefix',\n",
       " 'removesuffix',\n",
       " 'replace',\n",
       " 'rfind',\n",
       " 'rindex',\n",
       " 'rjust',\n",
       " 'rpartition',\n",
       " 'rsplit',\n",
       " 'rstrip',\n",
       " 'split',\n",
       " 'splitlines',\n",
       " 'startswith',\n",
       " 'strip',\n",
       " 'swapcase',\n",
       " 'title',\n",
       " 'translate',\n",
       " 'upper',\n",
       " 'zfill']"
      ]
     },
     "execution_count": 22,
     "metadata": {},
     "output_type": "execute_result"
    }
   ],
   "source": [
    "dir(text)"
   ]
  },
  {
   "cell_type": "code",
   "execution_count": 24,
   "id": "3ca3dae0",
   "metadata": {},
   "outputs": [
    {
     "name": "stdout",
     "output_type": "stream",
     "text": [
      "original: I love Python\n"
     ]
    }
   ],
   "source": [
    "print(\"original:\",text)"
   ]
  },
  {
   "cell_type": "code",
   "execution_count": 30,
   "id": "0a09158e",
   "metadata": {},
   "outputs": [
    {
     "name": "stdout",
     "output_type": "stream",
     "text": [
      "[23, 90, 78, 56, 64, 97]\n",
      "after append [23, 90, 78, 56, 64, 97, 104]\n"
     ]
    }
   ],
   "source": [
    "list=[23,90,78,56,64,97]\n",
    "print(list)\n",
    "list.append(104)\n",
    "print(\"after append\",list)"
   ]
  },
  {
   "cell_type": "code",
   "execution_count": 37,
   "id": "c138e2ec",
   "metadata": {},
   "outputs": [
    {
     "name": "stdout",
     "output_type": "stream",
     "text": [
      "[23, 90, 78, 56, 64, 97, 104, 87, 87]\n",
      "[23, 90, 78, 56, 64, 97, 104, 87]\n"
     ]
    }
   ],
   "source": [
    "list1=list.copy()\n",
    "list1.append(87)\n",
    "print(list1)\n",
    "print(list)"
   ]
  },
  {
   "cell_type": "code",
   "execution_count": 38,
   "id": "d081fc55",
   "metadata": {},
   "outputs": [
    {
     "data": {
      "text/plain": [
       "[23, 90, 78, 34, 56, 64, 97, 104, 87, 87]"
      ]
     },
     "execution_count": 38,
     "metadata": {},
     "output_type": "execute_result"
    }
   ],
   "source": [
    "list1.insert(3,34)\n",
    "list1"
   ]
  },
  {
   "cell_type": "code",
   "execution_count": 40,
   "id": "66c33b8b",
   "metadata": {},
   "outputs": [
    {
     "data": {
      "text/plain": [
       "[23, 90, 78, 34, 56, 64, 97, 104, 87]"
      ]
     },
     "execution_count": 40,
     "metadata": {},
     "output_type": "execute_result"
    }
   ],
   "source": [
    "list1.pop()  # removes last element from the list automatically.\n",
    "list1"
   ]
  },
  {
   "cell_type": "code",
   "execution_count": 46,
   "id": "19eeea18",
   "metadata": {},
   "outputs": [
    {
     "data": {
      "text/plain": [
       "[23, 34, 87]"
      ]
     },
     "execution_count": 46,
     "metadata": {},
     "output_type": "execute_result"
    }
   ],
   "source": [
    "list1.pop(2)\n",
    "list1"
   ]
  },
  {
   "cell_type": "code",
   "execution_count": 47,
   "id": "020874a2",
   "metadata": {},
   "outputs": [
    {
     "data": {
      "text/plain": [
       "[87, 34, 23]"
      ]
     },
     "execution_count": 47,
     "metadata": {},
     "output_type": "execute_result"
    }
   ],
   "source": [
    "list1.reverse()\n",
    "list1"
   ]
  },
  {
   "cell_type": "code",
   "execution_count": 49,
   "id": "5387d6d3",
   "metadata": {},
   "outputs": [
    {
     "name": "stdout",
     "output_type": "stream",
     "text": [
      "[12, 33, 24, 15, 16, 17]\n",
      "[12, 15, 16, 17, 24, 33]\n"
     ]
    }
   ],
   "source": [
    "# sort()\n",
    "\n",
    "list=[12,33,24,15,16,17]\n",
    "print(list)\n",
    "list.sort()\n",
    "print(list)"
   ]
  },
  {
   "cell_type": "code",
   "execution_count": 52,
   "id": "581044fd",
   "metadata": {},
   "outputs": [
    {
     "data": {
      "text/plain": [
       "[33, 24, 17, 16, 15, 12]"
      ]
     },
     "execution_count": 52,
     "metadata": {},
     "output_type": "execute_result"
    }
   ],
   "source": [
    "list.sort(reverse=True)\n",
    "list"
   ]
  },
  {
   "cell_type": "code",
   "execution_count": 53,
   "id": "96814c72",
   "metadata": {},
   "outputs": [
    {
     "name": "stdout",
     "output_type": "stream",
     "text": [
      "['cake', 'egg', 'sandwich', 'toast']\n",
      "['cake', 'sandwich', 'toast']\n"
     ]
    }
   ],
   "source": [
    "mylist=[\"cake\",\"egg\",\"sandwich\",\"toast\"]\n",
    "print(mylist)\n",
    "mylist.remove(\"egg\")\n",
    "print(mylist)"
   ]
  },
  {
   "cell_type": "code",
   "execution_count": 55,
   "id": "0ac36a7c",
   "metadata": {},
   "outputs": [
    {
     "data": {
      "text/plain": [
       "3"
      ]
     },
     "execution_count": 55,
     "metadata": {},
     "output_type": "execute_result"
    }
   ],
   "source": [
    "ml=[33, 24, 33,89,12,12,15,17, 16, 15, 12]\n",
    "ml.count(12)"
   ]
  },
  {
   "cell_type": "code",
   "execution_count": 56,
   "id": "800eecc7",
   "metadata": {},
   "outputs": [
    {
     "name": "stdout",
     "output_type": "stream",
     "text": [
      "7\n"
     ]
    }
   ],
   "source": [
    "# index()\n",
    "print(ml.index(17))     #index of '7'"
   ]
  },
  {
   "cell_type": "code",
   "execution_count": 69,
   "id": "6cc3634e",
   "metadata": {},
   "outputs": [
    {
     "data": {
      "text/plain": [
       "[33, 24, 33, 89, 12, 12, 15, 17, 16, 15, 12, 10, 12, 15]"
      ]
     },
     "execution_count": 69,
     "metadata": {},
     "output_type": "execute_result"
    }
   ],
   "source": [
    "ml=[33, 24, 33,89,12,12,15,17, 16, 15, 12]\n",
    "ml.extend([10,12,15])\n",
    "ml"
   ]
  },
  {
   "cell_type": "code",
   "execution_count": 70,
   "id": "ea85133a",
   "metadata": {},
   "outputs": [
    {
     "ename": "NameError",
     "evalue": "name 'm1' is not defined",
     "output_type": "error",
     "traceback": [
      "\u001b[1;31m---------------------------------------------------------------------------\u001b[0m",
      "\u001b[1;31mNameError\u001b[0m                                 Traceback (most recent call last)",
      "\u001b[1;32m~\\AppData\\Local\\Temp\\ipykernel_9608\\1161793926.py\u001b[0m in \u001b[0;36m<module>\u001b[1;34m\u001b[0m\n\u001b[0;32m      1\u001b[0m \u001b[1;32mdel\u001b[0m \u001b[0mm1\u001b[0m\u001b[1;33m\u001b[0m\u001b[1;33m\u001b[0m\u001b[0m\n\u001b[1;32m----> 2\u001b[1;33m \u001b[0mm1\u001b[0m\u001b[1;33m\u001b[0m\u001b[1;33m\u001b[0m\u001b[0m\n\u001b[0m",
      "\u001b[1;31mNameError\u001b[0m: name 'm1' is not defined"
     ]
    }
   ],
   "source": [
    "del m1\n",
    "m1"
   ]
  },
  {
   "cell_type": "code",
   "execution_count": 71,
   "id": "0d6cb9ea",
   "metadata": {},
   "outputs": [
    {
     "data": {
      "text/plain": [
       "[]"
      ]
     },
     "execution_count": 71,
     "metadata": {},
     "output_type": "execute_result"
    }
   ],
   "source": [
    "ml.clear()\n",
    "ml"
   ]
  },
  {
   "cell_type": "code",
   "execution_count": 73,
   "id": "07d97179",
   "metadata": {},
   "outputs": [
    {
     "name": "stdout",
     "output_type": "stream",
     "text": [
      "even 12\n",
      "even 16\n",
      "odd 17\n",
      "even 18\n",
      "odd 19\n",
      "even 40\n"
     ]
    }
   ],
   "source": [
    "my=[12,16,17,18,19,40]\n",
    "my1=[]\n",
    "for i in my:\n",
    "    if i%2==0:\n",
    "        print(\"even\",i)\n",
    "    else:\n",
    "        print(\"odd\",i)"
   ]
  },
  {
   "cell_type": "code",
   "execution_count": 93,
   "id": "9945df9f",
   "metadata": {},
   "outputs": [
    {
     "name": "stdout",
     "output_type": "stream",
     "text": [
      "enter no: 8\n",
      "evn\n",
      "[8]\n",
      "evn\n",
      "[8, 8]\n",
      "evn\n",
      "[8, 8, 8]\n",
      "evn\n",
      "[8, 8, 8, 8]\n",
      "evn\n",
      "[8, 8, 8, 8, 8]\n"
     ]
    }
   ],
   "source": [
    "my=[]\n",
    "num=int(input(\"enter no: \"))\n",
    "for i in range(0,5):\n",
    "    if num%2==0:\n",
    "        print(\"even\")\n",
    "        my.append(num)\n",
    "    print(my)\n",
    "    "
   ]
  },
  {
   "cell_type": "code",
   "execution_count": null,
   "id": "ba8816d4",
   "metadata": {},
   "outputs": [],
   "source": []
  },
  {
   "cell_type": "code",
   "execution_count": 9,
   "id": "d882d109",
   "metadata": {},
   "outputs": [
    {
     "data": {
      "text/plain": [
       "'nohtyP evol I'"
      ]
     },
     "execution_count": 9,
     "metadata": {},
     "output_type": "execute_result"
    }
   ],
   "source": [
    "text[::-1]"
   ]
  },
  {
   "cell_type": "code",
   "execution_count": null,
   "id": "883c7e83",
   "metadata": {},
   "outputs": [],
   "source": [
    "# interchanging first & last position\n"
   ]
  },
  {
   "cell_type": "code",
   "execution_count": 5,
   "id": "fc49298b",
   "metadata": {},
   "outputs": [
    {
     "name": "stdout",
     "output_type": "stream",
     "text": [
      "[24, 35, 9, 56, 12]\n"
     ]
    }
   ],
   "source": [
    "li=[12,35,9,56,24]\n",
    "new=li[4]\n",
    "li[4]=li[0]\n",
    "li[0]=new\n",
    "print(li)"
   ]
  },
  {
   "cell_type": "code",
   "execution_count": 9,
   "id": "84edfc36",
   "metadata": {},
   "outputs": [
    {
     "data": {
      "text/plain": [
       "[24, 35, 9, 56, 12]"
      ]
     },
     "execution_count": 9,
     "metadata": {},
     "output_type": "execute_result"
    }
   ],
   "source": [
    "def swap(li):\n",
    "    li=[12,35,9,56,24]\n",
    "    new=li[4]\n",
    "    li[4]=li[0]\n",
    "    li[0]=new\n",
    "    return li\n",
    "swap(li)"
   ]
  },
  {
   "cell_type": "code",
   "execution_count": 30,
   "id": "1e55c10c",
   "metadata": {},
   "outputs": [
    {
     "name": "stdout",
     "output_type": "stream",
     "text": [
      "[24, 35, 9, 56, 221]\n"
     ]
    }
   ],
   "source": [
    "li=[221,35,9,56,24]\n",
    "\n",
    "def swap(li):\n",
    "    li[0],li[-1]=li[-1],li[0]\n",
    "    return li\n",
    "print(swap(li))"
   ]
  },
  {
   "cell_type": "code",
   "execution_count": 17,
   "id": "fd58f9e8",
   "metadata": {},
   "outputs": [
    {
     "data": {
      "text/plain": [
       "[24, 35, 9, 56, 22]"
      ]
     },
     "execution_count": 17,
     "metadata": {},
     "output_type": "execute_result"
    }
   ],
   "source": [
    "def swap(li):\n",
    "    temp=li[0],li[-1]\n",
    "    li[-1],li[0]=temp\n",
    "    return li\n",
    "li=[22,35,9,56,24]\n",
    "swap(li)"
   ]
  },
  {
   "cell_type": "code",
   "execution_count": 22,
   "id": "6caaaec1",
   "metadata": {},
   "outputs": [
    {
     "name": "stdout",
     "output_type": "stream",
     "text": [
      "[24, 35, 9, 56, 22]\n"
     ]
    }
   ],
   "source": [
    "li=[22,35,9,56,24]\n",
    "\n",
    "def swap(li,pos1,pos2,pos3):\n",
    "    temp=li[pos1],li[pos2],li[pos3]\n",
    "    li[pos3],li[pos2],li[pos1]=temp\n",
    "    return li\n",
    "pos1,pos2,pos3=1,3,5\n",
    "print(swap(li,pos1-1,pos2-1,pos3-1))"
   ]
  },
  {
   "cell_type": "code",
   "execution_count": 38,
   "id": "77c43db2",
   "metadata": {},
   "outputs": [
    {
     "name": "stdout",
     "output_type": "stream",
     "text": [
      "[24, 35, 9, 56, 21]\n"
     ]
    }
   ],
   "source": [
    "# interchange 1 to 3rd\n",
    "li=[21,35,9,56,24]\n",
    "\n",
    "def swap(li,pos1,pos3):\n",
    "    li[pos1],li[pos3]=li[pos3],li[pos1]\n",
    "    return li\n",
    "print(swap(li,pos1-1,pos3-1))\n",
    "    "
   ]
  },
  {
   "cell_type": "code",
   "execution_count": 59,
   "id": "3637f521",
   "metadata": {},
   "outputs": [
    {
     "name": "stdout",
     "output_type": "stream",
     "text": [
      "16\n",
      "25\n"
     ]
    }
   ],
   "source": [
    "# multiplying the items into the list\n",
    "def mul(list):\n",
    "    res=1\n",
    "    for i in list:\n",
    "        res=i*i\n",
    "    return res\n",
    "a=[1,2,3,4]\n",
    "b=[2,3,4,5]\n",
    "print(mul(a))\n",
    "print(mul(b))"
   ]
  },
  {
   "cell_type": "code",
   "execution_count": 60,
   "id": "128265c7",
   "metadata": {},
   "outputs": [
    {
     "data": {
      "text/plain": [
       "4"
      ]
     },
     "execution_count": 60,
     "metadata": {},
     "output_type": "execute_result"
    }
   ],
   "source": [
    "len(a)"
   ]
  },
  {
   "cell_type": "code",
   "execution_count": 69,
   "id": "15bbaa54",
   "metadata": {},
   "outputs": [
    {
     "name": "stdout",
     "output_type": "stream",
     "text": [
      "4\n"
     ]
    }
   ],
   "source": [
    "# count the elements in the list\n",
    "a=[1,2,3,4]\n",
    "counter=0\n",
    "for i in a:\n",
    "    counter=counter+1\n",
    "print(str(counter))"
   ]
  },
  {
   "cell_type": "code",
   "execution_count": 73,
   "id": "c6d4bae3",
   "metadata": {},
   "outputs": [
    {
     "name": "stdout",
     "output_type": "stream",
     "text": [
      "['My', 'name', 'is', 'Anthhony'] 4\n"
     ]
    }
   ],
   "source": [
    "list=[]\n",
    "list.append(\"My\")\n",
    "list.append(\"name\")\n",
    "list.append(\"is\")\n",
    "list.append(\"Anthhony\")\n",
    "print(list,len(list))"
   ]
  },
  {
   "cell_type": "code",
   "execution_count": 74,
   "id": "f5c6055d",
   "metadata": {},
   "outputs": [
    {
     "data": {
      "text/plain": [
       "18"
      ]
     },
     "execution_count": 74,
     "metadata": {},
     "output_type": "execute_result"
    }
   ],
   "source": [
    "list=len(\"My name is anthony\")\n",
    "list"
   ]
  },
  {
   "cell_type": "code",
   "execution_count": 79,
   "id": "58d6858c",
   "metadata": {},
   "outputs": [
    {
     "name": "stdout",
     "output_type": "stream",
     "text": [
      "enter val: 56\n",
      "nota\n"
     ]
    }
   ],
   "source": [
    "list=[12,45,86,97,36]\n",
    "i=int(input(\"enter val: \"))\n",
    "if i in list:\n",
    "    print(\"present\")\n",
    "else:\n",
    "    print(\"nota\")"
   ]
  },
  {
   "cell_type": "code",
   "execution_count": 84,
   "id": "d2c124ca",
   "metadata": {},
   "outputs": [
    {
     "name": "stdout",
     "output_type": "stream",
     "text": [
      "enter val:86\n",
      "12 not present\n",
      "45 not present\n",
      "86 present\n",
      "97 not present\n",
      "36 not present\n"
     ]
    }
   ],
   "source": [
    "list=[12,45,86,97,36]\n",
    "num=int(input(\"enter val:\"))\n",
    "for i in list:\n",
    "    if(i==num):\n",
    "        print(i,\"present\")\n",
    "    else:\n",
    "        print(i,\"not present\")"
   ]
  },
  {
   "cell_type": "code",
   "execution_count": 85,
   "id": "e6d291b4",
   "metadata": {},
   "outputs": [
    {
     "name": "stdout",
     "output_type": "stream",
     "text": [
      "present\n"
     ]
    }
   ],
   "source": [
    "list=[12,45,86,97,36]\n",
    "if(45 in list):\n",
    "    print(\"present\")\n",
    "else:\n",
    "    print(\"not present\")"
   ]
  },
  {
   "cell_type": "code",
   "execution_count": 86,
   "id": "b9ccc66b",
   "metadata": {},
   "outputs": [
    {
     "name": "stdout",
     "output_type": "stream",
     "text": [
      "List before clear: [12, 45, 86, 97, 36]\n",
      "[]\n"
     ]
    }
   ],
   "source": [
    "list=[12,45,86,97,36]\n",
    "print(\"List before clear:\",list)\n",
    "list.clear()\n",
    "print(list)"
   ]
  },
  {
   "cell_type": "code",
   "execution_count": 88,
   "id": "2ac667d0",
   "metadata": {},
   "outputs": [
    {
     "data": {
      "text/plain": [
       "[36, 97, 86, 45, 12]"
      ]
     },
     "execution_count": 88,
     "metadata": {},
     "output_type": "execute_result"
    }
   ],
   "source": [
    "# reversing a list\n",
    "list=[12,45,86,97,36]\n",
    "list.reverse()\n",
    "list"
   ]
  },
  {
   "cell_type": "code",
   "execution_count": 90,
   "id": "17b7232f",
   "metadata": {},
   "outputs": [
    {
     "data": {
      "text/plain": [
       "[36, 97, 86, 45, 12]"
      ]
     },
     "execution_count": 90,
     "metadata": {},
     "output_type": "execute_result"
    }
   ],
   "source": [
    "list=[12,45,86,97,36]\n",
    "list[::-1]"
   ]
  },
  {
   "cell_type": "code",
   "execution_count": 91,
   "id": "fd7a6009",
   "metadata": {},
   "outputs": [
    {
     "name": "stdout",
     "output_type": "stream",
     "text": [
      "[36, 97, 86, 45, 12]\n"
     ]
    }
   ],
   "source": [
    "list=[12,45,86,97,36]\n",
    "l=[]\n",
    "for i in list:\n",
    "    l.insert(0,i)\n",
    "print(l)"
   ]
  },
  {
   "cell_type": "code",
   "execution_count": 93,
   "id": "566087e2",
   "metadata": {},
   "outputs": [
    {
     "name": "stdout",
     "output_type": "stream",
     "text": [
      "[36, 97, 86, 45, 12]\n"
     ]
    }
   ],
   "source": [
    "def rev(list):\n",
    "    new=list[::-1]\n",
    "    return new\n",
    "list=[12,45,86,97,36]\n",
    "print(rev(list))"
   ]
  },
  {
   "cell_type": "code",
   "execution_count": 94,
   "id": "25506c5e",
   "metadata": {},
   "outputs": [
    {
     "data": {
      "text/plain": [
       "[97, 86, 45, 36, 12]"
      ]
     },
     "execution_count": 94,
     "metadata": {},
     "output_type": "execute_result"
    }
   ],
   "source": [
    "list=[12,45,86,97,36]\n",
    "list.sort(reverse=True)\n",
    "list"
   ]
  },
  {
   "cell_type": "code",
   "execution_count": 95,
   "id": "401d5e62",
   "metadata": {},
   "outputs": [
    {
     "data": {
      "text/plain": [
       "12"
      ]
     },
     "execution_count": 95,
     "metadata": {},
     "output_type": "execute_result"
    }
   ],
   "source": [
    "list[-1]"
   ]
  },
  {
   "cell_type": "code",
   "execution_count": 96,
   "id": "6e5a2b2e",
   "metadata": {},
   "outputs": [
    {
     "name": "stdout",
     "output_type": "stream",
     "text": [
      "12\n"
     ]
    }
   ],
   "source": [
    "# smallest\n",
    "print(min(list))"
   ]
  },
  {
   "cell_type": "code",
   "execution_count": 97,
   "id": "7a2b992c",
   "metadata": {},
   "outputs": [
    {
     "data": {
      "text/plain": [
       "97"
      ]
     },
     "execution_count": 97,
     "metadata": {},
     "output_type": "execute_result"
    }
   ],
   "source": [
    "max(list)"
   ]
  },
  {
   "cell_type": "code",
   "execution_count": 107,
   "id": "39e8ebbe",
   "metadata": {},
   "outputs": [
    {
     "name": "stdout",
     "output_type": "stream",
     "text": [
      "Enter the number : 2\n",
      "Enter no of times: 23\n",
      "Enter no of times: 56\n",
      "new list is : [23, 56]\n"
     ]
    }
   ],
   "source": [
    "# total numbers=nos in list\n",
    "list=[]\n",
    "num=int(input(\"Enter the number : \"))\n",
    "for i in range(1,num+1):\n",
    "    ele=int(input(\"Enter no of times: \"))\n",
    "    list.append(ele)\n",
    "print(\"new list is :\",list)                 "
   ]
  },
  {
   "cell_type": "code",
   "execution_count": 110,
   "id": "597f06b6",
   "metadata": {},
   "outputs": [
    {
     "data": {
      "text/plain": [
       "97"
      ]
     },
     "execution_count": 110,
     "metadata": {},
     "output_type": "execute_result"
    }
   ],
   "source": [
    "# largest in the list\n",
    "list=[12,45,86,97,36]\n",
    "list.sort(reverse=True)\n",
    "list[0]"
   ]
  },
  {
   "cell_type": "code",
   "execution_count": 111,
   "id": "183a4c9a",
   "metadata": {},
   "outputs": [
    {
     "data": {
      "text/plain": [
       "97"
      ]
     },
     "execution_count": 111,
     "metadata": {},
     "output_type": "execute_result"
    }
   ],
   "source": [
    "# largest in the list -- using reverse(from last)\n",
    "list=[12,45,86,97,36]\n",
    "max(list)"
   ]
  },
  {
   "cell_type": "code",
   "execution_count": 113,
   "id": "04cef4d9",
   "metadata": {},
   "outputs": [
    {
     "data": {
      "text/plain": [
       "97"
      ]
     },
     "execution_count": 113,
     "metadata": {},
     "output_type": "execute_result"
    }
   ],
   "source": [
    "# maximum\n",
    "list=[12,45,86,97,36]\n",
    "def maxi(list):\n",
    "    list.sort(reverse=True)\n",
    "    return list[0]\n",
    "maxi(list)"
   ]
  },
  {
   "cell_type": "code",
   "execution_count": 114,
   "id": "183b15a5",
   "metadata": {},
   "outputs": [
    {
     "data": {
      "text/plain": [
       "86"
      ]
     },
     "execution_count": 114,
     "metadata": {},
     "output_type": "execute_result"
    }
   ],
   "source": [
    "# second largest\n",
    "list=[12,45,86,97,36]\n",
    "list.sort(reverse=True)\n",
    "list[1]"
   ]
  },
  {
   "cell_type": "code",
   "execution_count": 115,
   "id": "98c9ff1f",
   "metadata": {},
   "outputs": [
    {
     "name": "stdout",
     "output_type": "stream",
     "text": [
      "12\n",
      "is even\n",
      "86\n",
      "is even\n",
      "36\n",
      "is even\n"
     ]
    }
   ],
   "source": [
    "# even\n",
    "list=[12,45,86,97,36]\n",
    "for num in list:\n",
    "    if num%2==0:\n",
    "        print(num,sep=\" \")\n",
    "        print(\"is even\")"
   ]
  },
  {
   "cell_type": "code",
   "execution_count": 116,
   "id": "a9de3133",
   "metadata": {},
   "outputs": [
    {
     "name": "stdout",
     "output_type": "stream",
     "text": [
      "12 is even\n",
      "86 is even\n",
      "36 is even\n"
     ]
    }
   ],
   "source": [
    "list=[12,45,86,97,36]\n",
    "for i in list:\n",
    "    if i%2!=0:\n",
    "        pass\n",
    "    else:\n",
    "        print(i,\"is even\")"
   ]
  },
  {
   "cell_type": "code",
   "execution_count": 117,
   "id": "004ad853",
   "metadata": {},
   "outputs": [
    {
     "name": "stdout",
     "output_type": "stream",
     "text": [
      "45 odd\n",
      "97 odd\n"
     ]
    }
   ],
   "source": [
    "list=[12,45,86,97,36]\n",
    "for i in list:\n",
    "    if i%2==0:\n",
    "        pass\n",
    "    else:\n",
    "        print(i,\"odd\")"
   ]
  },
  {
   "cell_type": "code",
   "execution_count": 119,
   "id": "10c68774",
   "metadata": {},
   "outputs": [
    {
     "name": "stdout",
     "output_type": "stream",
     "text": [
      "Enter the val: 2\n",
      "Enter the val: 17\n",
      "2 is even\n",
      "3 is odd\n",
      "4 is even\n",
      "5 is odd\n",
      "6 is even\n",
      "7 is odd\n",
      "8 is even\n",
      "9 is odd\n",
      "10 is even\n",
      "11 is odd\n",
      "12 is even\n",
      "13 is odd\n",
      "14 is even\n",
      "15 is odd\n",
      "16 is even\n",
      "17 is odd\n"
     ]
    }
   ],
   "source": [
    "# even no in range\n",
    "s=int(input(\"Enter the val: \"))\n",
    "e=int(input(\"Enter the val: \"))\n",
    "for num in range(s,e+1):\n",
    "    if num%2==0:\n",
    "        print(num,\"is even\")\n",
    "    else:\n",
    "        print(num,\"is odd\")"
   ]
  },
  {
   "cell_type": "code",
   "execution_count": 120,
   "id": "6e3f3e91",
   "metadata": {},
   "outputs": [
    {
     "name": "stdout",
     "output_type": "stream",
     "text": [
      "45\n",
      "97\n",
      "36\n"
     ]
    }
   ],
   "source": [
    "# postive\n",
    "list=[-12,45,-86,97,36]\n",
    "for i in list:\n",
    "    if i>0:\n",
    "        print(i)"
   ]
  },
  {
   "cell_type": "code",
   "execution_count": 134,
   "id": "5cf066eb",
   "metadata": {},
   "outputs": [
    {
     "name": "stdout",
     "output_type": "stream",
     "text": [
      "enter: 4\n",
      "enter: 9\n",
      "4 positive\n",
      "5 positive\n",
      "6 positive\n",
      "7 positive\n",
      "8 positive\n",
      "9 positive\n"
     ]
    }
   ],
   "source": [
    "# pos neg\n",
    "s=int(input(\"enter: \"))\n",
    "e=int(input(\"enter: \"))\n",
    "list=[]\n",
    "for i in range(s,e+1):\n",
    "    if i>0:\n",
    "        print(i,\"positive\")\n",
    "    else:\n",
    "        print(i,\"neg\")\n",
    "        "
   ]
  },
  {
   "cell_type": "code",
   "execution_count": 136,
   "id": "92f14316",
   "metadata": {},
   "outputs": [
    {
     "name": "stdout",
     "output_type": "stream",
     "text": [
      "[]\n"
     ]
    }
   ],
   "source": [
    "list=[12,45,86,97,36]\n",
    "neg=[num for num in list if num<0]\n",
    "print(neg)"
   ]
  },
  {
   "cell_type": "code",
   "execution_count": 145,
   "id": "d5581c70",
   "metadata": {},
   "outputs": [
    {
     "name": "stdout",
     "output_type": "stream",
     "text": [
      "enter the val-3\n",
      "enter:3\n",
      "-3 neg\n",
      "-2 neg\n",
      "-1 neg\n",
      "0 pos\n",
      "1 pos\n",
      "2 pos\n",
      "3 pos\n"
     ]
    }
   ],
   "source": [
    "s=int(input(\"enter the val\"))\n",
    "e=int(input(\"enter:\"))\n",
    "for num in range(s,e+1):\n",
    "    if num<0:\n",
    "        print(num,\"neg\")\n",
    "    else:\n",
    "        print(num,\"pos\")\n"
   ]
  },
  {
   "cell_type": "code",
   "execution_count": 161,
   "id": "3e2d636a",
   "metadata": {},
   "outputs": [
    {
     "name": "stdout",
     "output_type": "stream",
     "text": [
      "[23, 90, 57]\n"
     ]
    }
   ],
   "source": [
    "list=[23,78,90,57,58]\n",
    "for i in list:\n",
    "    if i%2==0:\n",
    "        list.remove(i)\n",
    "print(list)  \n",
    "#odd no"
   ]
  },
  {
   "cell_type": "code",
   "execution_count": 163,
   "id": "d9642792",
   "metadata": {},
   "outputs": [
    {
     "data": {
      "text/plain": [
       "[57]"
      ]
     },
     "execution_count": 163,
     "metadata": {},
     "output_type": "execute_result"
    }
   ],
   "source": [
    "del list[0:1]\n",
    "list"
   ]
  },
  {
   "cell_type": "code",
   "execution_count": 162,
   "id": "4d9c7285",
   "metadata": {},
   "outputs": [
    {
     "data": {
      "text/plain": [
       "[23, 57]"
      ]
     },
     "execution_count": 162,
     "metadata": {},
     "output_type": "execute_result"
    }
   ],
   "source": [
    "list.remove(90)\n",
    "list"
   ]
  },
  {
   "cell_type": "code",
   "execution_count": 165,
   "id": "e991f6de",
   "metadata": {},
   "outputs": [
    {
     "data": {
      "text/plain": [
       "[23, 90, 58]"
      ]
     },
     "execution_count": 165,
     "metadata": {},
     "output_type": "execute_result"
    }
   ],
   "source": [
    "list=[23,78,90,57,58]\n",
    "remove=(78,57)\n",
    "list=[elements for elements in list if elements not in remove]\n",
    "list"
   ]
  },
  {
   "cell_type": "code",
   "execution_count": 169,
   "id": "d9f5432b",
   "metadata": {},
   "outputs": [
    {
     "name": "stdout",
     "output_type": "stream",
     "text": [
      "[57, 58]\n"
     ]
    }
   ],
   "source": [
    "list=[23,78,90,57,58]\n",
    "dele=[0,1,2]\n",
    "for i in sorted(dele,reverse=True):\n",
    "        del list[i]\n",
    "print(list)"
   ]
  },
  {
   "cell_type": "code",
   "execution_count": 170,
   "id": "bc5fd4c8",
   "metadata": {},
   "outputs": [
    {
     "name": "stdout",
     "output_type": "stream",
     "text": [
      "[11, 23, 45, 67, 89, 90]\n"
     ]
    }
   ],
   "source": [
    "# removing list\n",
    "list=[11,23,45,[],67,89,[],90,[]]\n",
    "for i in list:\n",
    "    if i==[]:\n",
    "        list.remove(i)\n",
    "print(list)"
   ]
  },
  {
   "cell_type": "code",
   "execution_count": null,
   "id": "bdf326a6",
   "metadata": {},
   "outputs": [],
   "source": []
  },
  {
   "cell_type": "code",
   "execution_count": null,
   "id": "fadfc11b",
   "metadata": {},
   "outputs": [],
   "source": [
    "# tuple\n"
   ]
  },
  {
   "cell_type": "code",
   "execution_count": 172,
   "id": "a1663187",
   "metadata": {},
   "outputs": [
    {
     "data": {
      "text/plain": [
       "tuple"
      ]
     },
     "execution_count": 172,
     "metadata": {},
     "output_type": "execute_result"
    }
   ],
   "source": [
    "num=(23,88,89,37,565,90,90)\n",
    "type(num)"
   ]
  },
  {
   "cell_type": "code",
   "execution_count": 174,
   "id": "0c77d81a",
   "metadata": {},
   "outputs": [
    {
     "data": {
      "text/plain": [
       "(78, 89, 56, 45, 34, 23, 'cake', 'peach', False)"
      ]
     },
     "execution_count": 174,
     "metadata": {},
     "output_type": "execute_result"
    }
   ],
   "source": [
    "tup=(78,89,56,45,34,23,\"cake\",\"peach\",False)\n",
    "type(tup)\n",
    "tup"
   ]
  },
  {
   "cell_type": "code",
   "execution_count": 177,
   "id": "02d1b4a4",
   "metadata": {},
   "outputs": [
    {
     "data": {
      "text/plain": [
       "45"
      ]
     },
     "execution_count": 177,
     "metadata": {},
     "output_type": "execute_result"
    }
   ],
   "source": [
    "tup[3]"
   ]
  },
  {
   "cell_type": "code",
   "execution_count": 178,
   "id": "f9f21aa8",
   "metadata": {},
   "outputs": [
    {
     "data": {
      "text/plain": [
       "23"
      ]
     },
     "execution_count": 178,
     "metadata": {},
     "output_type": "execute_result"
    }
   ],
   "source": [
    "tup[-4]"
   ]
  },
  {
   "cell_type": "code",
   "execution_count": 180,
   "id": "1cfa1e1e",
   "metadata": {},
   "outputs": [
    {
     "data": {
      "text/plain": [
       "['__add__',\n",
       " '__class__',\n",
       " '__class_getitem__',\n",
       " '__contains__',\n",
       " '__delattr__',\n",
       " '__dir__',\n",
       " '__doc__',\n",
       " '__eq__',\n",
       " '__format__',\n",
       " '__ge__',\n",
       " '__getattribute__',\n",
       " '__getitem__',\n",
       " '__getnewargs__',\n",
       " '__gt__',\n",
       " '__hash__',\n",
       " '__init__',\n",
       " '__init_subclass__',\n",
       " '__iter__',\n",
       " '__le__',\n",
       " '__len__',\n",
       " '__lt__',\n",
       " '__mul__',\n",
       " '__ne__',\n",
       " '__new__',\n",
       " '__reduce__',\n",
       " '__reduce_ex__',\n",
       " '__repr__',\n",
       " '__rmul__',\n",
       " '__setattr__',\n",
       " '__sizeof__',\n",
       " '__str__',\n",
       " '__subclasshook__',\n",
       " 'count',\n",
       " 'index']"
      ]
     },
     "execution_count": 180,
     "metadata": {},
     "output_type": "execute_result"
    }
   ],
   "source": [
    "hash(tup)\n",
    "dir(tup)"
   ]
  },
  {
   "cell_type": "code",
   "execution_count": 181,
   "id": "fe13c7ce",
   "metadata": {},
   "outputs": [
    {
     "data": {
      "text/plain": [
       "(78, 89, 56, 45, 34, 23, 67, 89)"
      ]
     },
     "execution_count": 181,
     "metadata": {},
     "output_type": "execute_result"
    }
   ],
   "source": [
    "tup=(78,89,56,45,34,23,67,89)\n",
    "tup"
   ]
  },
  {
   "cell_type": "code",
   "execution_count": 182,
   "id": "7098220c",
   "metadata": {},
   "outputs": [
    {
     "data": {
      "text/plain": [
       "2"
      ]
     },
     "execution_count": 182,
     "metadata": {},
     "output_type": "execute_result"
    }
   ],
   "source": [
    "tup.count(89)"
   ]
  },
  {
   "cell_type": "code",
   "execution_count": 190,
   "id": "ad11e3db",
   "metadata": {},
   "outputs": [
    {
     "name": "stdout",
     "output_type": "stream",
     "text": [
      "5\n"
     ]
    }
   ],
   "source": [
    "print(tup.index(23))    #in tuple we have to give element"
   ]
  },
  {
   "cell_type": "code",
   "execution_count": null,
   "id": "b747a5f9",
   "metadata": {},
   "outputs": [],
   "source": []
  },
  {
   "cell_type": "code",
   "execution_count": null,
   "id": "ff85eee6",
   "metadata": {},
   "outputs": [],
   "source": [
    "# Dictionary  -- key:value"
   ]
  },
  {
   "cell_type": "code",
   "execution_count": 201,
   "id": "89b6e3f5",
   "metadata": {},
   "outputs": [
    {
     "name": "stdout",
     "output_type": "stream",
     "text": [
      "{'python': 78, 'math': 88, 'ml': 10}\n"
     ]
    }
   ],
   "source": [
    "dic={\"python\":78,\"math\":88,\"ml\":10}\n",
    "print(dic)"
   ]
  },
  {
   "cell_type": "code",
   "execution_count": 202,
   "id": "253edfc8",
   "metadata": {},
   "outputs": [
    {
     "data": {
      "text/plain": [
       "dict"
      ]
     },
     "execution_count": 202,
     "metadata": {},
     "output_type": "execute_result"
    }
   ],
   "source": [
    "type(dic)"
   ]
  },
  {
   "cell_type": "code",
   "execution_count": 203,
   "id": "89d678ff",
   "metadata": {},
   "outputs": [
    {
     "data": {
      "text/plain": [
       "{'python': 78, 'math': 18, 'ml': 10}"
      ]
     },
     "execution_count": 203,
     "metadata": {},
     "output_type": "execute_result"
    }
   ],
   "source": [
    "dic[\"math\"]=18\n",
    "dic"
   ]
  },
  {
   "cell_type": "code",
   "execution_count": 204,
   "id": "47381966",
   "metadata": {},
   "outputs": [
    {
     "data": {
      "text/plain": [
       "{101: 'j', 102: 'm', 103: 'p'}"
      ]
     },
     "execution_count": 204,
     "metadata": {},
     "output_type": "execute_result"
    }
   ],
   "source": [
    "dic={101:\"p\",102:\"m\",103:'p',101:\"j\"}\n",
    "dic"
   ]
  },
  {
   "cell_type": "code",
   "execution_count": 205,
   "id": "113a3904",
   "metadata": {},
   "outputs": [
    {
     "data": {
      "text/plain": [
       "dict_keys([101, 102, 103])"
      ]
     },
     "execution_count": 205,
     "metadata": {},
     "output_type": "execute_result"
    }
   ],
   "source": [
    "mydic={101:\"p\",102:\"m\",103:'p',101:\"j\"}\n",
    "mydic.keys()"
   ]
  },
  {
   "cell_type": "code",
   "execution_count": 206,
   "id": "1d3568ed",
   "metadata": {},
   "outputs": [
    {
     "data": {
      "text/plain": [
       "dict_values(['j', 'm', 'p'])"
      ]
     },
     "execution_count": 206,
     "metadata": {},
     "output_type": "execute_result"
    }
   ],
   "source": [
    "mydic.values()"
   ]
  },
  {
   "cell_type": "code",
   "execution_count": 207,
   "id": "4afdeddf",
   "metadata": {},
   "outputs": [
    {
     "data": {
      "text/plain": [
       "dict_items([(101, 'j'), (102, 'm'), (103, 'p')])"
      ]
     },
     "execution_count": 207,
     "metadata": {},
     "output_type": "execute_result"
    }
   ],
   "source": [
    "mydic.items()"
   ]
  },
  {
   "cell_type": "code",
   "execution_count": 208,
   "id": "e26dcbc8",
   "metadata": {},
   "outputs": [
    {
     "data": {
      "text/plain": [
       "'m'"
      ]
     },
     "execution_count": 208,
     "metadata": {},
     "output_type": "execute_result"
    }
   ],
   "source": [
    "mydic[102]"
   ]
  },
  {
   "cell_type": "code",
   "execution_count": 212,
   "id": "00ed5178",
   "metadata": {},
   "outputs": [
    {
     "data": {
      "text/plain": [
       "'j'"
      ]
     },
     "execution_count": 212,
     "metadata": {},
     "output_type": "execute_result"
    }
   ],
   "source": [
    "mydic.get(101)"
   ]
  },
  {
   "cell_type": "code",
   "execution_count": 214,
   "id": "4b2576d1",
   "metadata": {},
   "outputs": [
    {
     "data": {
      "text/plain": [
       "'j'"
      ]
     },
     "execution_count": 214,
     "metadata": {},
     "output_type": "execute_result"
    }
   ],
   "source": [
    "mydic.get(101)"
   ]
  },
  {
   "cell_type": "code",
   "execution_count": 215,
   "id": "40d0e562",
   "metadata": {},
   "outputs": [
    {
     "data": {
      "text/plain": [
       "'my'"
      ]
     },
     "execution_count": 215,
     "metadata": {},
     "output_type": "execute_result"
    }
   ],
   "source": [
    "mydic.get(105,\"my\")"
   ]
  },
  {
   "cell_type": "code",
   "execution_count": 222,
   "id": "7022817f",
   "metadata": {},
   "outputs": [],
   "source": [
    "dic={\"std_name\":[\"s\",\"a\",\"s\"],\"roll_no\":[101,102,103],\"course\":[\"dsa\",\"dm\",\"web\"]}"
   ]
  },
  {
   "cell_type": "code",
   "execution_count": 223,
   "id": "da0b15e6",
   "metadata": {},
   "outputs": [
    {
     "data": {
      "text/plain": [
       "{'std_name': ['s', 'a', 's'],\n",
       " 'roll_no': [101, 102, 103],\n",
       " 'course': ['dsa', 'dm', 'web']}"
      ]
     },
     "execution_count": 223,
     "metadata": {},
     "output_type": "execute_result"
    }
   ],
   "source": [
    "dic"
   ]
  },
  {
   "cell_type": "code",
   "execution_count": 224,
   "id": "1d465a26",
   "metadata": {},
   "outputs": [
    {
     "data": {
      "text/plain": [
       "[101, 102, 103]"
      ]
     },
     "execution_count": 224,
     "metadata": {},
     "output_type": "execute_result"
    }
   ],
   "source": [
    "dic.setdefault('roll_no',[121,122,123])"
   ]
  },
  {
   "cell_type": "code",
   "execution_count": 225,
   "id": "609e15a9",
   "metadata": {},
   "outputs": [
    {
     "data": {
      "text/plain": [
       "['dsa', 'dm', 'web']"
      ]
     },
     "execution_count": 225,
     "metadata": {},
     "output_type": "execute_result"
    }
   ],
   "source": [
    "dic.get(\"course\")"
   ]
  },
  {
   "cell_type": "code",
   "execution_count": 226,
   "id": "5fdf12e5",
   "metadata": {},
   "outputs": [
    {
     "data": {
      "text/plain": [
       "{'std_name': ['s', 'a', 's'],\n",
       " 'roll_no': [101, 102, 103],\n",
       " 'course': ['dsa', 'dm', 'web']}"
      ]
     },
     "execution_count": 226,
     "metadata": {},
     "output_type": "execute_result"
    }
   ],
   "source": [
    "dic"
   ]
  },
  {
   "cell_type": "code",
   "execution_count": 227,
   "id": "236adc51",
   "metadata": {},
   "outputs": [
    {
     "data": {
      "text/plain": [
       "{'std_name': ['s', 'a', 's'],\n",
       " 'roll_no': [101, 102, 103],\n",
       " 'course': ['dsa', 'dm', 'web'],\n",
       " 'gender': ['M', 'M', 'F']}"
      ]
     },
     "execution_count": 227,
     "metadata": {},
     "output_type": "execute_result"
    }
   ],
   "source": [
    "dic.update({\"gender\":[\"M\",\"M\",\"F\"]})\n",
    "dic"
   ]
  },
  {
   "cell_type": "code",
   "execution_count": 228,
   "id": "1e3aecfd",
   "metadata": {},
   "outputs": [
    {
     "data": {
      "text/plain": [
       "{'std_name': ['s', 'a', 's'],\n",
       " 'roll_no': [2, 3, 4],\n",
       " 'course': ['dsa', 'dm', 'web'],\n",
       " 'gender': ['M', 'M', 'F']}"
      ]
     },
     "execution_count": 228,
     "metadata": {},
     "output_type": "execute_result"
    }
   ],
   "source": [
    "dic.update({\"roll_no\":[2,3,4]})\n",
    "dic"
   ]
  },
  {
   "cell_type": "code",
   "execution_count": 230,
   "id": "ac5856a7",
   "metadata": {},
   "outputs": [
    {
     "data": {
      "text/plain": [
       "3"
      ]
     },
     "execution_count": 230,
     "metadata": {},
     "output_type": "execute_result"
    }
   ],
   "source": [
    "dic[\"roll_no\"][1]"
   ]
  },
  {
   "cell_type": "code",
   "execution_count": 231,
   "id": "9bf95a20",
   "metadata": {},
   "outputs": [
    {
     "data": {
      "text/plain": [
       "[2, 3, 4]"
      ]
     },
     "execution_count": 231,
     "metadata": {},
     "output_type": "execute_result"
    }
   ],
   "source": [
    "dic.pop(\"roll_no\")"
   ]
  },
  {
   "cell_type": "code",
   "execution_count": 232,
   "id": "5fab1677",
   "metadata": {},
   "outputs": [
    {
     "data": {
      "text/plain": [
       "{'std_name': ['s', 'a', 's'],\n",
       " 'course': ['dsa', 'dm', 'web'],\n",
       " 'gender': ['M', 'M', 'F']}"
      ]
     },
     "execution_count": 232,
     "metadata": {},
     "output_type": "execute_result"
    }
   ],
   "source": [
    "dic"
   ]
  },
  {
   "cell_type": "code",
   "execution_count": 233,
   "id": "dc857c4e",
   "metadata": {},
   "outputs": [
    {
     "data": {
      "text/plain": [
       "('gender', ['M', 'M', 'F'])"
      ]
     },
     "execution_count": 233,
     "metadata": {},
     "output_type": "execute_result"
    }
   ],
   "source": [
    "dic.popitem()"
   ]
  },
  {
   "cell_type": "code",
   "execution_count": 234,
   "id": "631e9bec",
   "metadata": {},
   "outputs": [
    {
     "data": {
      "text/plain": [
       "{'std_name': ['s', 'a', 's'], 'course': ['dsa', 'dm', 'web']}"
      ]
     },
     "execution_count": 234,
     "metadata": {},
     "output_type": "execute_result"
    }
   ],
   "source": [
    "dic"
   ]
  },
  {
   "cell_type": "code",
   "execution_count": 235,
   "id": "14535d00",
   "metadata": {},
   "outputs": [
    {
     "data": {
      "text/plain": [
       "{'std_name': ['s', 'a', 's'], 'course': ['dsa', 'dm', 'web']}"
      ]
     },
     "execution_count": 235,
     "metadata": {},
     "output_type": "execute_result"
    }
   ],
   "source": [
    "dic1=dic.copy()\n",
    "dic1"
   ]
  },
  {
   "cell_type": "code",
   "execution_count": 236,
   "id": "0539cb61",
   "metadata": {},
   "outputs": [],
   "source": [
    "dic1.clear()"
   ]
  },
  {
   "cell_type": "code",
   "execution_count": 237,
   "id": "fbf83660",
   "metadata": {},
   "outputs": [
    {
     "data": {
      "text/plain": [
       "{}"
      ]
     },
     "execution_count": 237,
     "metadata": {},
     "output_type": "execute_result"
    }
   ],
   "source": [
    "dic1"
   ]
  },
  {
   "cell_type": "code",
   "execution_count": 238,
   "id": "222acf75",
   "metadata": {},
   "outputs": [
    {
     "data": {
      "text/plain": [
       "{'std_name': ['s', 'a', 's'], 'course': ['dsa', 'dm', 'web']}"
      ]
     },
     "execution_count": 238,
     "metadata": {},
     "output_type": "execute_result"
    }
   ],
   "source": [
    "dic"
   ]
  },
  {
   "cell_type": "code",
   "execution_count": 240,
   "id": "0255765f",
   "metadata": {},
   "outputs": [],
   "source": [
    "dc={'std_name': ['s', 'a', 's'],\n",
    " 'roll_no': [101, 102, 103],\n",
    " 'course': ['dsa', 'dm', 'web']}\n"
   ]
  },
  {
   "cell_type": "code",
   "execution_count": 242,
   "id": "1715baf6",
   "metadata": {},
   "outputs": [
    {
     "ename": "NameError",
     "evalue": "name 'dc' is not defined",
     "output_type": "error",
     "traceback": [
      "\u001b[1;31m---------------------------------------------------------------------------\u001b[0m",
      "\u001b[1;31mNameError\u001b[0m                                 Traceback (most recent call last)",
      "\u001b[1;32m~\\AppData\\Local\\Temp\\ipykernel_7800\\1825489215.py\u001b[0m in \u001b[0;36m<module>\u001b[1;34m\u001b[0m\n\u001b[1;32m----> 1\u001b[1;33m \u001b[1;32mdel\u001b[0m \u001b[0mdc\u001b[0m\u001b[1;33m\u001b[0m\u001b[1;33m\u001b[0m\u001b[0m\n\u001b[0m\u001b[0;32m      2\u001b[0m \u001b[0mdc\u001b[0m\u001b[1;33m\u001b[0m\u001b[1;33m\u001b[0m\u001b[0m\n",
      "\u001b[1;31mNameError\u001b[0m: name 'dc' is not defined"
     ]
    }
   ],
   "source": [
    "del dc\n",
    "dc"
   ]
  },
  {
   "cell_type": "code",
   "execution_count": null,
   "id": "71728502",
   "metadata": {},
   "outputs": [],
   "source": []
  },
  {
   "cell_type": "code",
   "execution_count": 243,
   "id": "c2cc82f8",
   "metadata": {},
   "outputs": [
    {
     "data": {
      "text/plain": [
       "{12, 21, 56, 63, 89}"
      ]
     },
     "execution_count": 243,
     "metadata": {},
     "output_type": "execute_result"
    }
   ],
   "source": [
    "# set\n",
    "myset={12,89,56,63,21}\n",
    "myset"
   ]
  },
  {
   "cell_type": "code",
   "execution_count": 244,
   "id": "c81a3fba",
   "metadata": {},
   "outputs": [
    {
     "ename": "TypeError",
     "evalue": "'set' object is not subscriptable",
     "output_type": "error",
     "traceback": [
      "\u001b[1;31m---------------------------------------------------------------------------\u001b[0m",
      "\u001b[1;31mTypeError\u001b[0m                                 Traceback (most recent call last)",
      "\u001b[1;32m~\\AppData\\Local\\Temp\\ipykernel_7800\\136987509.py\u001b[0m in \u001b[0;36m<module>\u001b[1;34m\u001b[0m\n\u001b[1;32m----> 1\u001b[1;33m \u001b[0mmyset\u001b[0m\u001b[1;33m[\u001b[0m\u001b[1;36m2\u001b[0m\u001b[1;33m]\u001b[0m\u001b[1;33m\u001b[0m\u001b[1;33m\u001b[0m\u001b[0m\n\u001b[0m",
      "\u001b[1;31mTypeError\u001b[0m: 'set' object is not subscriptable"
     ]
    }
   ],
   "source": [
    "myset[2]"
   ]
  },
  {
   "cell_type": "code",
   "execution_count": 246,
   "id": "030d4fc8",
   "metadata": {},
   "outputs": [
    {
     "data": {
      "text/plain": [
       "{12, 13, 67, 98, 'Thanks', True, 'Welcome'}"
      ]
     },
     "execution_count": 246,
     "metadata": {},
     "output_type": "execute_result"
    }
   ],
   "source": [
    "s1={13,12,67,98,\"Thanks\",True,\"Welcome\"}\n",
    "s1"
   ]
  },
  {
   "cell_type": "code",
   "execution_count": 247,
   "id": "e8d03540",
   "metadata": {},
   "outputs": [],
   "source": [
    "# add\n",
    "s1.add(\"Apple\")"
   ]
  },
  {
   "cell_type": "code",
   "execution_count": 248,
   "id": "4e093856",
   "metadata": {},
   "outputs": [
    {
     "data": {
      "text/plain": [
       "{12, 13, 67, 98, 'Apple', 'Thanks', True, 'Welcome'}"
      ]
     },
     "execution_count": 248,
     "metadata": {},
     "output_type": "execute_result"
    }
   ],
   "source": [
    "s1"
   ]
  },
  {
   "cell_type": "code",
   "execution_count": 249,
   "id": "0b14ac85",
   "metadata": {},
   "outputs": [
    {
     "data": {
      "text/plain": [
       "(14, 12, 13, 16, 12, 13, 14, 16)"
      ]
     },
     "execution_count": 249,
     "metadata": {},
     "output_type": "execute_result"
    }
   ],
   "source": [
    "tup1=(14,12,13,16)\n",
    "tup2=(12,13,14,16)\n",
    "tup1+tup2"
   ]
  },
  {
   "cell_type": "code",
   "execution_count": 250,
   "id": "11bc564c",
   "metadata": {},
   "outputs": [
    {
     "ename": "TypeError",
     "evalue": "unhashable type: 'set'",
     "output_type": "error",
     "traceback": [
      "\u001b[1;31m---------------------------------------------------------------------------\u001b[0m",
      "\u001b[1;31mTypeError\u001b[0m                                 Traceback (most recent call last)",
      "\u001b[1;32m~\\AppData\\Local\\Temp\\ipykernel_7800\\1052607250.py\u001b[0m in \u001b[0;36m<module>\u001b[1;34m\u001b[0m\n\u001b[1;32m----> 1\u001b[1;33m \u001b[0mhash\u001b[0m\u001b[1;33m(\u001b[0m\u001b[0ms1\u001b[0m\u001b[1;33m)\u001b[0m\u001b[1;33m\u001b[0m\u001b[1;33m\u001b[0m\u001b[0m\n\u001b[0m",
      "\u001b[1;31mTypeError\u001b[0m: unhashable type: 'set'"
     ]
    }
   ],
   "source": [
    "hash(s1)"
   ]
  },
  {
   "cell_type": "code",
   "execution_count": null,
   "id": "2f60026c",
   "metadata": {},
   "outputs": [],
   "source": [
    "# remove() -- It removes elementwise"
   ]
  },
  {
   "cell_type": "code",
   "execution_count": 251,
   "id": "c6293ea2",
   "metadata": {},
   "outputs": [
    {
     "data": {
      "text/plain": [
       "{12, 23, 98, 'Apple', 'Banana'}"
      ]
     },
     "execution_count": 251,
     "metadata": {},
     "output_type": "execute_result"
    }
   ],
   "source": [
    "s3={23,98,12,\"Apple\",\"Banana\"}\n",
    "s3"
   ]
  },
  {
   "cell_type": "code",
   "execution_count": 252,
   "id": "9f0743d5",
   "metadata": {},
   "outputs": [],
   "source": [
    "s3.remove(12)"
   ]
  },
  {
   "cell_type": "code",
   "execution_count": 253,
   "id": "78140041",
   "metadata": {},
   "outputs": [
    {
     "data": {
      "text/plain": [
       "{23, 98, 'Apple', 'Banana'}"
      ]
     },
     "execution_count": 253,
     "metadata": {},
     "output_type": "execute_result"
    }
   ],
   "source": [
    "s3"
   ]
  },
  {
   "cell_type": "code",
   "execution_count": null,
   "id": "8de27e4c",
   "metadata": {},
   "outputs": [],
   "source": [
    "# pop() -- remove items randomly"
   ]
  },
  {
   "cell_type": "code",
   "execution_count": 254,
   "id": "9d7d1c9f",
   "metadata": {},
   "outputs": [
    {
     "data": {
      "text/plain": [
       "98"
      ]
     },
     "execution_count": 254,
     "metadata": {},
     "output_type": "execute_result"
    }
   ],
   "source": [
    "s3.pop()"
   ]
  },
  {
   "cell_type": "code",
   "execution_count": 255,
   "id": "3d80ee5a",
   "metadata": {},
   "outputs": [
    {
     "data": {
      "text/plain": [
       "23"
      ]
     },
     "execution_count": 255,
     "metadata": {},
     "output_type": "execute_result"
    }
   ],
   "source": [
    "s3.pop()"
   ]
  },
  {
   "cell_type": "code",
   "execution_count": 256,
   "id": "6deae5ba",
   "metadata": {},
   "outputs": [
    {
     "data": {
      "text/plain": [
       "{'Apple', 'Banana'}"
      ]
     },
     "execution_count": 256,
     "metadata": {},
     "output_type": "execute_result"
    }
   ],
   "source": [
    "s3"
   ]
  },
  {
   "cell_type": "code",
   "execution_count": 261,
   "id": "4ce98212",
   "metadata": {},
   "outputs": [],
   "source": [
    "set1={12,45,90,76,34,11}\n",
    "set2={11,17,18,15,20,12}\n"
   ]
  },
  {
   "cell_type": "code",
   "execution_count": 262,
   "id": "97925b28",
   "metadata": {},
   "outputs": [
    {
     "name": "stdout",
     "output_type": "stream",
     "text": [
      "{34, 90, 11, 12, 45, 76}\n",
      "{17, 18, 20, 11, 12, 15}\n"
     ]
    }
   ],
   "source": [
    "print(set1)\n",
    "print(set2)"
   ]
  },
  {
   "cell_type": "code",
   "execution_count": 263,
   "id": "5e7ccdbd",
   "metadata": {},
   "outputs": [
    {
     "data": {
      "text/plain": [
       "{34, 45, 76, 90}"
      ]
     },
     "execution_count": 263,
     "metadata": {},
     "output_type": "execute_result"
    }
   ],
   "source": [
    "set1.difference(set2)"
   ]
  },
  {
   "cell_type": "code",
   "execution_count": 264,
   "id": "40e29ded",
   "metadata": {},
   "outputs": [
    {
     "data": {
      "text/plain": [
       "{15, 17, 18, 20}"
      ]
     },
     "execution_count": 264,
     "metadata": {},
     "output_type": "execute_result"
    }
   ],
   "source": [
    "set2.difference(set1)"
   ]
  },
  {
   "cell_type": "code",
   "execution_count": 265,
   "id": "f3397feb",
   "metadata": {},
   "outputs": [
    {
     "data": {
      "text/plain": [
       "{11, 12}"
      ]
     },
     "execution_count": 265,
     "metadata": {},
     "output_type": "execute_result"
    }
   ],
   "source": [
    "# intersection -- It returns the common elements\n",
    "set1.intersection(set2)"
   ]
  },
  {
   "cell_type": "code",
   "execution_count": 273,
   "id": "99a9b1d7",
   "metadata": {},
   "outputs": [
    {
     "data": {
      "text/plain": [
       "{11, 17, 18, 19, 20}"
      ]
     },
     "execution_count": 273,
     "metadata": {},
     "output_type": "execute_result"
    }
   ],
   "source": [
    "s2={11,17,18,19,20,11,11,18}\n",
    "s2"
   ]
  },
  {
   "cell_type": "code",
   "execution_count": 267,
   "id": "595dca89",
   "metadata": {},
   "outputs": [
    {
     "data": {
      "text/plain": [
       "{11, 12, 15, 17, 18, 20, 34, 45, 76, 90}"
      ]
     },
     "execution_count": 267,
     "metadata": {},
     "output_type": "execute_result"
    }
   ],
   "source": [
    "set1.union(set2)"
   ]
  },
  {
   "cell_type": "code",
   "execution_count": 274,
   "id": "c29a4556",
   "metadata": {},
   "outputs": [],
   "source": [
    "for i in range(1,10):\n",
    "    s2.add(i)\n",
    "    s2"
   ]
  },
  {
   "cell_type": "code",
   "execution_count": 275,
   "id": "ca46f8c3",
   "metadata": {},
   "outputs": [],
   "source": [
    "my=[12,\"lion\"]\n",
    "for i in my:\n",
    "    set1.add(i)"
   ]
  },
  {
   "cell_type": "code",
   "execution_count": 276,
   "id": "53bdc030",
   "metadata": {},
   "outputs": [
    {
     "data": {
      "text/plain": [
       "{11, 12, 34, 45, 76, 90, 'lion'}"
      ]
     },
     "execution_count": 276,
     "metadata": {},
     "output_type": "execute_result"
    }
   ],
   "source": [
    "set1"
   ]
  },
  {
   "cell_type": "code",
   "execution_count": null,
   "id": "c29e6899",
   "metadata": {},
   "outputs": [],
   "source": []
  },
  {
   "cell_type": "code",
   "execution_count": 285,
   "id": "7956fd76",
   "metadata": {},
   "outputs": [
    {
     "name": "stdout",
     "output_type": "stream",
     "text": [
      "Enter : 4\n",
      "Enter : 4\n",
      "Enter : 4\n",
      "invaild\n"
     ]
    }
   ],
   "source": [
    "# practice\n",
    "\n",
    "age1=int(input(\"Enter : \"))\n",
    "age2=int(input(\"Enter : \"))\n",
    "age3=int(input(\"Enter : \"))\n",
    "if age1>age2 and age1>age3:\n",
    "    print(age1)\n",
    "elif age2>age3 and age2>age1:\n",
    "    print(age2)\n",
    "elif age3>age1 and age3>age2:\n",
    "    print(age3)\n",
    "elif age1==age2 or age2==age3 or age1==age3 or age1==age2==age3:\n",
    "    print(\"invaild\")"
   ]
  },
  {
   "cell_type": "code",
   "execution_count": 286,
   "id": "1a2bcfa2",
   "metadata": {},
   "outputs": [
    {
     "name": "stdout",
     "output_type": "stream",
     "text": [
      "enter temp: 45\n",
      "113.0\n"
     ]
    }
   ],
   "source": [
    "tempc=int(input(\"enter temp: \"))\n",
    "F=tempc*(9/5)+32\n",
    "print(F)"
   ]
  },
  {
   "cell_type": "code",
   "execution_count": 288,
   "id": "348c2d84",
   "metadata": {},
   "outputs": [
    {
     "name": "stdout",
     "output_type": "stream",
     "text": [
      "56 45\n"
     ]
    }
   ],
   "source": [
    "a=45\n",
    "b=56\n",
    "a,b=b,a\n",
    "print(a,b)"
   ]
  },
  {
   "cell_type": "code",
   "execution_count": 290,
   "id": "1b8b29af",
   "metadata": {},
   "outputs": [
    {
     "name": "stdout",
     "output_type": "stream",
     "text": [
      "45 56\n",
      "56 45\n"
     ]
    }
   ],
   "source": [
    "a=45\n",
    "b=56\n",
    "print(a,b)\n",
    "temp=b\n",
    "b=a\n",
    "a=temp\n",
    "print(a,b)"
   ]
  },
  {
   "cell_type": "code",
   "execution_count": 294,
   "id": "1a6928e9",
   "metadata": {},
   "outputs": [
    {
     "data": {
      "text/plain": [
       "123"
      ]
     },
     "execution_count": 294,
     "metadata": {},
     "output_type": "execute_result"
    }
   ],
   "source": [
    "a=123\n",
    "a=str(a)\n",
    "a[0]\n",
    "a[1]\n",
    "a[2]\n",
    "int(a[0]+a[1]+a[2])"
   ]
  },
  {
   "cell_type": "code",
   "execution_count": 298,
   "id": "56f98217",
   "metadata": {},
   "outputs": [
    {
     "name": "stdout",
     "output_type": "stream",
     "text": [
      "Enter : 45\n",
      "Enter : 45\n",
      "Enter : 45\n"
     ]
    },
    {
     "data": {
      "text/plain": [
       "45"
      ]
     },
     "execution_count": 298,
     "metadata": {},
     "output_type": "execute_result"
    }
   ],
   "source": [
    "age1=int(input(\"Enter : \"))\n",
    "age2=int(input(\"Enter : \"))\n",
    "age3=int(input(\"Enter : \"))\n",
    "age=[age1,age2,age3]\n",
    "max(age)"
   ]
  },
  {
   "cell_type": "code",
   "execution_count": 300,
   "id": "c46c6674",
   "metadata": {},
   "outputs": [
    {
     "ename": "NameError",
     "evalue": "name 'Cloning' is not defined",
     "output_type": "error",
     "traceback": [
      "\u001b[1;31m---------------------------------------------------------------------------\u001b[0m",
      "\u001b[1;31mNameError\u001b[0m                                 Traceback (most recent call last)",
      "\u001b[1;32m~\\AppData\\Local\\Temp\\ipykernel_7800\\1892068016.py\u001b[0m in \u001b[0;36m<module>\u001b[1;34m\u001b[0m\n\u001b[0;32m      1\u001b[0m \u001b[0ml1\u001b[0m\u001b[1;33m=\u001b[0m\u001b[1;33m[\u001b[0m\u001b[1;36m6\u001b[0m\u001b[1;33m,\u001b[0m\u001b[1;36m7\u001b[0m\u001b[1;33m,\u001b[0m\u001b[1;36m9\u001b[0m\u001b[1;33m,\u001b[0m\u001b[1;36m0\u001b[0m\u001b[1;33m,\u001b[0m\u001b[1;36m8\u001b[0m\u001b[1;33m]\u001b[0m\u001b[1;33m\u001b[0m\u001b[1;33m\u001b[0m\u001b[0m\n\u001b[1;32m----> 2\u001b[1;33m \u001b[0ml2\u001b[0m\u001b[1;33m=\u001b[0m\u001b[0mCloning\u001b[0m\u001b[1;33m(\u001b[0m\u001b[0ml1\u001b[0m\u001b[1;33m)\u001b[0m\u001b[1;33m\u001b[0m\u001b[1;33m\u001b[0m\u001b[0m\n\u001b[0m\u001b[0;32m      3\u001b[0m \u001b[0mprint\u001b[0m\u001b[1;33m(\u001b[0m\u001b[0ml2\u001b[0m\u001b[1;33m)\u001b[0m\u001b[1;33m\u001b[0m\u001b[1;33m\u001b[0m\u001b[0m\n",
      "\u001b[1;31mNameError\u001b[0m: name 'Cloning' is not defined"
     ]
    }
   ],
   "source": [
    "l1=[6,7,9,0,8]\n",
    "l2=Cloning(l1)\n",
    "print(l2)"
   ]
  },
  {
   "cell_type": "code",
   "execution_count": 307,
   "id": "42fb0ebe",
   "metadata": {},
   "outputs": [
    {
     "name": "stdout",
     "output_type": "stream",
     "text": [
      "[7, 9]\n"
     ]
    }
   ],
   "source": [
    "list=[7,9,4,5,6,7,8,9]\n",
    "new=[]\n",
    "for a in list:\n",
    "    n=list.count(a)\n",
    "    if n>1:\n",
    "        if new.count(a)==0:\n",
    "            new.append(a)\n",
    "print(new)\n",
    "       "
   ]
  },
  {
   "cell_type": "code",
   "execution_count": null,
   "id": "e143d967",
   "metadata": {},
   "outputs": [],
   "source": []
  },
  {
   "cell_type": "code",
   "execution_count": null,
   "id": "1cfaf700",
   "metadata": {},
   "outputs": [],
   "source": []
  },
  {
   "cell_type": "code",
   "execution_count": null,
   "id": "3089ced6",
   "metadata": {},
   "outputs": [],
   "source": []
  },
  {
   "cell_type": "code",
   "execution_count": null,
   "id": "b4005341",
   "metadata": {},
   "outputs": [],
   "source": [
    "# Python program to add two numbers\n"
   ]
  },
  {
   "cell_type": "code",
   "execution_count": 1,
   "id": "bd55e6f3",
   "metadata": {},
   "outputs": [
    {
     "name": "stdout",
     "output_type": "stream",
     "text": [
      "7\n"
     ]
    }
   ],
   "source": [
    "a=3\n",
    "b=4\n",
    "c=a+b\n",
    "print(c)"
   ]
  },
  {
   "cell_type": "code",
   "execution_count": 6,
   "id": "1bcca9e1",
   "metadata": {},
   "outputs": [
    {
     "name": "stdout",
     "output_type": "stream",
     "text": [
      "Sum of 10 and 9 is 19\n"
     ]
    }
   ],
   "source": [
    "a=9\n",
    "b=10\n",
    "sum=a+b\n",
    "print(\"Sum of {0} and {1} is {2}\".format(b,a,sum) )"
   ]
  },
  {
   "cell_type": "code",
   "execution_count": 13,
   "id": "c0dfa81a",
   "metadata": {},
   "outputs": [
    {
     "name": "stdout",
     "output_type": "stream",
     "text": [
      "Enter the value of a3\n",
      "Enter the value of b5\n",
      "Sum of 3 and 5 is 8\n"
     ]
    }
   ],
   "source": [
    "a=int(input(\"Enter the value of a\"))\n",
    "b=int(input(\"Enter the value of b\"))\n",
    "sum=(a)+(b)\n",
    "print(\"Sum of {0} and {1} is {2}\".format(a,b,sum))"
   ]
  },
  {
   "cell_type": "code",
   "execution_count": 17,
   "id": "60fef3e6",
   "metadata": {},
   "outputs": [
    {
     "name": "stdout",
     "output_type": "stream",
     "text": [
      "{<function <lambda> at 0x00000184DBE3D430>}\n"
     ]
    }
   ],
   "source": [
    "a=10\n",
    "b=10\n",
    "sum_={lambda a,b: a+b}\n",
    "print(sum_)"
   ]
  },
  {
   "cell_type": "code",
   "execution_count": 19,
   "id": "838972aa",
   "metadata": {},
   "outputs": [
    {
     "data": {
      "text/plain": [
       "4"
      ]
     },
     "execution_count": 19,
     "metadata": {},
     "output_type": "execute_result"
    }
   ],
   "source": [
    "def add(a,b):\n",
    "        return a+b\n",
    "\n",
    "add(1,3)"
   ]
  },
  {
   "cell_type": "code",
   "execution_count": 20,
   "id": "c2dae4a5",
   "metadata": {},
   "outputs": [
    {
     "name": "stdout",
     "output_type": "stream",
     "text": [
      "b is greater\n"
     ]
    }
   ],
   "source": [
    "# Maximum of two numbers in Python\n",
    "a=2\n",
    "b=4\n",
    "if a>b:\n",
    "    print(\"a is greater\")\n",
    "else:\n",
    "    print(\"b is greater\")"
   ]
  },
  {
   "cell_type": "code",
   "execution_count": 21,
   "id": "9c1685c5",
   "metadata": {},
   "outputs": [
    {
     "name": "stdout",
     "output_type": "stream",
     "text": [
      "4\n"
     ]
    }
   ],
   "source": [
    "a=2\n",
    "b=4\n",
    "print(max(a,b))"
   ]
  },
  {
   "cell_type": "code",
   "execution_count": 22,
   "id": "d9bee39d",
   "metadata": {},
   "outputs": [
    {
     "name": "stdout",
     "output_type": "stream",
     "text": [
      "4\n"
     ]
    }
   ],
   "source": [
    "a=2\n",
    "b=4\n",
    "print(a if a>b else b)"
   ]
  },
  {
   "cell_type": "code",
   "execution_count": 23,
   "id": "519cc0b0",
   "metadata": {},
   "outputs": [
    {
     "name": "stdout",
     "output_type": "stream",
     "text": [
      "<function <lambda> at 0x00000184DBEBA8B0>\n"
     ]
    }
   ],
   "source": [
    "a=2\n",
    "b=4\n",
    "sum_=lambda a,b:a if a>b else b\n",
    "print(sum_)"
   ]
  },
  {
   "cell_type": "code",
   "execution_count": 24,
   "id": "959348ee",
   "metadata": {},
   "outputs": [
    {
     "name": "stdout",
     "output_type": "stream",
     "text": [
      "[3]\n"
     ]
    }
   ],
   "source": [
    "a=2\n",
    "b=3\n",
    "x=[a if a>b else b]\n",
    "print(x)"
   ]
  },
  {
   "cell_type": "code",
   "execution_count": 30,
   "id": "13be4eb0",
   "metadata": {},
   "outputs": [
    {
     "name": "stdout",
     "output_type": "stream",
     "text": [
      "3\n"
     ]
    }
   ],
   "source": [
    "a=2\n",
    "b=3\n",
    "x=[a,b]\n",
    "x.sort()\n",
    "print(x[-1])"
   ]
  },
  {
   "cell_type": "code",
   "execution_count": 41,
   "id": "f7d90cdf",
   "metadata": {},
   "outputs": [
    {
     "name": "stdout",
     "output_type": "stream",
     "text": [
      "Enter a no:5\n",
      "120\n"
     ]
    }
   ],
   "source": [
    "# Python Program for factorial of a number\n",
    "fact=1\n",
    "n=int(input(\"Enter a no:\"))\n",
    "for i in range(1,n+1):\n",
    "    fact=fact*i\n",
    "    n=n+1\n",
    "print(fact)\n"
   ]
  },
  {
   "cell_type": "code",
   "execution_count": 57,
   "id": "babbe287",
   "metadata": {},
   "outputs": [
    {
     "name": "stdout",
     "output_type": "stream",
     "text": [
      "Enter a num:5\n",
      "Factorial of  5 is 120\n"
     ]
    }
   ],
   "source": [
    "def fact(n):\n",
    "    return 1 if (n==1 or n==0) else n*fact(n-1)\n",
    "n=int(input(\"Enter a num:\"))\n",
    "print(\"Factorial of \",n ,\"is\",fact(n))"
   ]
  },
  {
   "cell_type": "code",
   "execution_count": 60,
   "id": "04c31d5a",
   "metadata": {},
   "outputs": [
    {
     "name": "stdout",
     "output_type": "stream",
     "text": [
      "Enter a num:5\n",
      "Factorial of  5 is 120\n"
     ]
    }
   ],
   "source": [
    "import math\n",
    "def factorial(n):\n",
    "    return(math.factorial(n))\n",
    "n=int(input(\"Enter a num:\"))\n",
    "print(\"Factorial of \",n,\"is\",factorial(n))"
   ]
  },
  {
   "cell_type": "code",
   "execution_count": 62,
   "id": "18493d1f",
   "metadata": {},
   "outputs": [
    {
     "name": "stdout",
     "output_type": "stream",
     "text": [
      "120\n"
     ]
    }
   ],
   "source": [
    "import numpy as np\n",
    "n=5\n",
    "x=np.prod([i for i in range(1,n+1)])\n",
    "print(x)"
   ]
  },
  {
   "cell_type": "code",
   "execution_count": 63,
   "id": "1c9222f4",
   "metadata": {},
   "outputs": [
    {
     "name": "stdout",
     "output_type": "stream",
     "text": [
      "1000.0\n"
     ]
    }
   ],
   "source": [
    "P=10000\n",
    "R=5\n",
    "T=2\n",
    "SI=(P*R*T)/100\n",
    "print(SI)"
   ]
  },
  {
   "cell_type": "code",
   "execution_count": 65,
   "id": "5ad78ed5",
   "metadata": {},
   "outputs": [
    {
     "name": "stdout",
     "output_type": "stream",
     "text": [
      "The Simple Interest is : 1000.0\n"
     ]
    },
    {
     "data": {
      "text/plain": [
       "1000.0"
      ]
     },
     "execution_count": 65,
     "metadata": {},
     "output_type": "execute_result"
    }
   ],
   "source": [
    "def si(p,r,t):\n",
    "    si=(p*r*t)/100\n",
    "    print(\"The Simple Interest is :\",si)\n",
    "    return si\n",
    "si(10000,5,2)"
   ]
  },
  {
   "cell_type": "code",
   "execution_count": 69,
   "id": "0c8b7b89",
   "metadata": {},
   "outputs": [
    {
     "name": "stdout",
     "output_type": "stream",
     "text": [
      "Enter the value of p10000\n",
      "Enter the value of r5\n",
      "Enter the value of t2\n",
      "The simple interest is: 1000.0\n"
     ]
    },
    {
     "data": {
      "text/plain": [
       "1000.0"
      ]
     },
     "execution_count": 69,
     "metadata": {},
     "output_type": "execute_result"
    }
   ],
   "source": [
    "def si(p,r,t):\n",
    "    si=(p*r*t)/100\n",
    "    print(\"The simple interest is:\",si)\n",
    "    return si\n",
    "p=int(input(\"Enter the value of p\"))\n",
    "r=int(input(\"Enter the value of r\"))\n",
    "t=int(input(\"Enter the value of t\"))\n",
    "si(p,r,t)"
   ]
  },
  {
   "cell_type": "code",
   "execution_count": 75,
   "id": "2166a1ef",
   "metadata": {},
   "outputs": [
    {
     "name": "stdout",
     "output_type": "stream",
     "text": [
      "Compound interest is  6288.946267774416\n"
     ]
    }
   ],
   "source": [
    "def ci(p,r,t):\n",
    "    Amt=p*(pow((1+r/100),t))\n",
    "    ci=Amt-p\n",
    "    print(\"Compound interest is \",ci)\n",
    "ci(10000,10.25,5)"
   ]
  },
  {
   "cell_type": "code",
   "execution_count": 78,
   "id": "960a594e",
   "metadata": {},
   "outputs": [
    {
     "name": "stdout",
     "output_type": "stream",
     "text": [
      "3014.34199206202\n"
     ]
    }
   ],
   "source": [
    "p=10000\n",
    "r=5\n",
    "t=5.4\n",
    "Amt=p*(1+(r/100))**t\n",
    "ci=Amt-p\n",
    "print(ci)"
   ]
  },
  {
   "cell_type": "code",
   "execution_count": 79,
   "id": "d62749d5",
   "metadata": {},
   "outputs": [
    {
     "name": "stdout",
     "output_type": "stream",
     "text": [
      "19.625\n"
     ]
    }
   ],
   "source": [
    "r=2.5\n",
    "pi=3.14\n",
    "area=pi*r**2\n",
    "print(area)"
   ]
  },
  {
   "cell_type": "code",
   "execution_count": 82,
   "id": "8df6a9a1",
   "metadata": {},
   "outputs": [
    {
     "name": "stdout",
     "output_type": "stream",
     "text": [
      "Enter the value of radius:2.5\n"
     ]
    },
    {
     "data": {
      "text/plain": [
       "19.625"
      ]
     },
     "execution_count": 82,
     "metadata": {},
     "output_type": "execute_result"
    }
   ],
   "source": [
    "def area(r):\n",
    "    pi=3.14\n",
    "    Area=pi*r*r\n",
    "    return Area\n",
    "r=float(input(\"Enter the value of radius:\"))\n",
    "area(r)"
   ]
  },
  {
   "cell_type": "code",
   "execution_count": 83,
   "id": "6bf49496",
   "metadata": {},
   "outputs": [
    {
     "data": {
      "text/plain": [
       "19.634954084936208"
      ]
     },
     "execution_count": 83,
     "metadata": {},
     "output_type": "execute_result"
    }
   ],
   "source": [
    "import math\n",
    "def area(r):\n",
    "    area=math.pi*pow(r,2)\n",
    "    return area\n",
    "area(2.5)"
   ]
  },
  {
   "cell_type": "code",
   "execution_count": 86,
   "id": "3b08ff1c",
   "metadata": {},
   "outputs": [
    {
     "name": "stdout",
     "output_type": "stream",
     "text": [
      "Enter the number:5\n",
      "5 is not a prime number\n"
     ]
    }
   ],
   "source": [
    "num=int(input(\"Enter the number:\"))\n",
    "if num>1:\n",
    "    for i in range(2,num):\n",
    "        if (num%i)==0:\n",
    "            print(num,\"is not a prime no\")\n",
    "            print(i,\"times\",num//i,\"is\",num)\n",
    "            break\n",
    "    else:\n",
    "        print(num,\"is not a prime number\")\n",
    "       "
   ]
  },
  {
   "cell_type": "code",
   "execution_count": 106,
   "id": "de89471d",
   "metadata": {},
   "outputs": [
    {
     "name": "stdout",
     "output_type": "stream",
     "text": [
      "Enter a number:2\n",
      "Enter a number:10\n",
      "Prime numbers between 2 and 10 are:\n",
      "3\n",
      "5\n",
      "5\n",
      "5\n",
      "7\n",
      "7\n",
      "7\n",
      "7\n",
      "7\n",
      "9\n"
     ]
    }
   ],
   "source": [
    "lower=int(input(\"Enter a number:\"))\n",
    "upper=int(input(\"Enter a number:\"))\n",
    "print(\"Prime numbers between\",lower,\"and\",upper,\"are:\")\n",
    "\n",
    "for num in range(lower, upper+1):\n",
    "    for i in range(2,num+1):\n",
    "        if num>1:\n",
    "            if(num%i)==0:\n",
    "                break\n",
    "            else:\n",
    "                print(num)\n",
    "        \n",
    "             "
   ]
  },
  {
   "cell_type": "code",
   "execution_count": null,
   "id": "4a75fb09",
   "metadata": {},
   "outputs": [],
   "source": [
    "# ord() contains the value of the alphabet\n"
   ]
  },
  {
   "cell_type": "code",
   "execution_count": 108,
   "id": "f1f3a792",
   "metadata": {},
   "outputs": [
    {
     "data": {
      "text/plain": [
       "66"
      ]
     },
     "execution_count": 108,
     "metadata": {},
     "output_type": "execute_result"
    }
   ],
   "source": [
    "ord(\"B\")"
   ]
  },
  {
   "cell_type": "code",
   "execution_count": 109,
   "id": "89b2465a",
   "metadata": {},
   "outputs": [
    {
     "data": {
      "text/plain": [
       "98"
      ]
     },
     "execution_count": 109,
     "metadata": {},
     "output_type": "execute_result"
    }
   ],
   "source": [
    "ord(\"b\")"
   ]
  },
  {
   "cell_type": "code",
   "execution_count": 110,
   "id": "f11323fb",
   "metadata": {},
   "outputs": [
    {
     "name": "stdout",
     "output_type": "stream",
     "text": [
      "66\n"
     ]
    }
   ],
   "source": [
    "print(ord(\"B\"))"
   ]
  },
  {
   "cell_type": "code",
   "execution_count": 111,
   "id": "fe9da619",
   "metadata": {
    "scrolled": true
   },
   "outputs": [
    {
     "data": {
      "text/plain": [
       "['__doc__',\n",
       " '__loader__',\n",
       " '__name__',\n",
       " '__package__',\n",
       " '__spec__',\n",
       " 'acos',\n",
       " 'acosh',\n",
       " 'asin',\n",
       " 'asinh',\n",
       " 'atan',\n",
       " 'atan2',\n",
       " 'atanh',\n",
       " 'ceil',\n",
       " 'comb',\n",
       " 'copysign',\n",
       " 'cos',\n",
       " 'cosh',\n",
       " 'degrees',\n",
       " 'dist',\n",
       " 'e',\n",
       " 'erf',\n",
       " 'erfc',\n",
       " 'exp',\n",
       " 'expm1',\n",
       " 'fabs',\n",
       " 'factorial',\n",
       " 'floor',\n",
       " 'fmod',\n",
       " 'frexp',\n",
       " 'fsum',\n",
       " 'gamma',\n",
       " 'gcd',\n",
       " 'hypot',\n",
       " 'inf',\n",
       " 'isclose',\n",
       " 'isfinite',\n",
       " 'isinf',\n",
       " 'isnan',\n",
       " 'isqrt',\n",
       " 'lcm',\n",
       " 'ldexp',\n",
       " 'lgamma',\n",
       " 'log',\n",
       " 'log10',\n",
       " 'log1p',\n",
       " 'log2',\n",
       " 'modf',\n",
       " 'nan',\n",
       " 'nextafter',\n",
       " 'perm',\n",
       " 'pi',\n",
       " 'pow',\n",
       " 'prod',\n",
       " 'radians',\n",
       " 'remainder',\n",
       " 'sin',\n",
       " 'sinh',\n",
       " 'sqrt',\n",
       " 'tan',\n",
       " 'tanh',\n",
       " 'tau',\n",
       " 'trunc',\n",
       " 'ulp']"
      ]
     },
     "execution_count": 111,
     "metadata": {},
     "output_type": "execute_result"
    }
   ],
   "source": [
    "import math\n",
    "dir(math)"
   ]
  },
  {
   "cell_type": "code",
   "execution_count": null,
   "id": "197a0512",
   "metadata": {},
   "outputs": [],
   "source": [
    "# membership operator\n",
    "#  in , not in\n",
    "# boolean - True / False\n"
   ]
  },
  {
   "cell_type": "code",
   "execution_count": 112,
   "id": "112a5193",
   "metadata": {},
   "outputs": [
    {
     "data": {
      "text/plain": [
       "True"
      ]
     },
     "execution_count": 112,
     "metadata": {},
     "output_type": "execute_result"
    }
   ],
   "source": [
    "'a'=='a'"
   ]
  },
  {
   "cell_type": "code",
   "execution_count": 113,
   "id": "5de926db",
   "metadata": {},
   "outputs": [
    {
     "data": {
      "text/plain": [
       "False"
      ]
     },
     "execution_count": 113,
     "metadata": {},
     "output_type": "execute_result"
    }
   ],
   "source": [
    "'a'=='apple'"
   ]
  },
  {
   "cell_type": "code",
   "execution_count": 115,
   "id": "89cddd9a",
   "metadata": {},
   "outputs": [
    {
     "data": {
      "text/plain": [
       "True"
      ]
     },
     "execution_count": 115,
     "metadata": {},
     "output_type": "execute_result"
    }
   ],
   "source": [
    "'a' in 'apple'"
   ]
  },
  {
   "cell_type": "code",
   "execution_count": 117,
   "id": "50c0930c",
   "metadata": {},
   "outputs": [
    {
     "data": {
      "text/plain": [
       "True"
      ]
     },
     "execution_count": 117,
     "metadata": {},
     "output_type": "execute_result"
    }
   ],
   "source": [
    "'123' in '123456'"
   ]
  },
  {
   "cell_type": "code",
   "execution_count": 118,
   "id": "ac88d3e5",
   "metadata": {},
   "outputs": [
    {
     "data": {
      "text/plain": [
       "False"
      ]
     },
     "execution_count": 118,
     "metadata": {},
     "output_type": "execute_result"
    }
   ],
   "source": [
    "# not in\n",
    "'A' not in 'Apple'"
   ]
  },
  {
   "cell_type": "code",
   "execution_count": null,
   "id": "d661b695",
   "metadata": {},
   "outputs": [],
   "source": [
    "# Identity operator\n",
    "#  is , is not\n",
    "\n",
    "#  'is' equivalent to ==\n",
    "# 'is not' equivalent to != "
   ]
  },
  {
   "cell_type": "code",
   "execution_count": 119,
   "id": "96ef4562",
   "metadata": {},
   "outputs": [
    {
     "data": {
      "text/plain": [
       "False"
      ]
     },
     "execution_count": 119,
     "metadata": {},
     "output_type": "execute_result"
    }
   ],
   "source": [
    "5==6"
   ]
  },
  {
   "cell_type": "code",
   "execution_count": 120,
   "id": "2fa98e65",
   "metadata": {},
   "outputs": [
    {
     "name": "stderr",
     "output_type": "stream",
     "text": [
      "<>:1: SyntaxWarning: \"is\" with a literal. Did you mean \"==\"?\n",
      "<>:1: SyntaxWarning: \"is\" with a literal. Did you mean \"==\"?\n",
      "C:\\Users\\hp\\AppData\\Local\\Temp\\ipykernel_27424\\2929037671.py:1: SyntaxWarning: \"is\" with a literal. Did you mean \"==\"?\n",
      "  5 is 6\n"
     ]
    },
    {
     "data": {
      "text/plain": [
       "False"
      ]
     },
     "execution_count": 120,
     "metadata": {},
     "output_type": "execute_result"
    }
   ],
   "source": [
    "5 is 6"
   ]
  },
  {
   "cell_type": "code",
   "execution_count": 122,
   "id": "4236e24b",
   "metadata": {},
   "outputs": [
    {
     "data": {
      "text/plain": [
       "True"
      ]
     },
     "execution_count": 122,
     "metadata": {},
     "output_type": "execute_result"
    }
   ],
   "source": [
    "5==5"
   ]
  },
  {
   "cell_type": "code",
   "execution_count": 123,
   "id": "08a8bc19",
   "metadata": {},
   "outputs": [
    {
     "data": {
      "text/plain": [
       "True"
      ]
     },
     "execution_count": 123,
     "metadata": {},
     "output_type": "execute_result"
    }
   ],
   "source": [
    "\"Apple\"==\"Apple\""
   ]
  },
  {
   "cell_type": "code",
   "execution_count": 124,
   "id": "842679f6",
   "metadata": {},
   "outputs": [
    {
     "name": "stderr",
     "output_type": "stream",
     "text": [
      "<>:1: SyntaxWarning: \"is\" with a literal. Did you mean \"==\"?\n",
      "<>:1: SyntaxWarning: \"is\" with a literal. Did you mean \"==\"?\n",
      "C:\\Users\\hp\\AppData\\Local\\Temp\\ipykernel_27424\\2412404430.py:1: SyntaxWarning: \"is\" with a literal. Did you mean \"==\"?\n",
      "  \"Apple\" is \"Apple\"\n"
     ]
    },
    {
     "data": {
      "text/plain": [
       "True"
      ]
     },
     "execution_count": 124,
     "metadata": {},
     "output_type": "execute_result"
    }
   ],
   "source": [
    "\"Apple\" is \"Apple\""
   ]
  },
  {
   "cell_type": "code",
   "execution_count": 126,
   "id": "e95b868d",
   "metadata": {},
   "outputs": [],
   "source": [
    "x=\"Tiger\""
   ]
  },
  {
   "cell_type": "code",
   "execution_count": 127,
   "id": "4a4928d0",
   "metadata": {},
   "outputs": [
    {
     "data": {
      "text/plain": [
       "1670158997360"
      ]
     },
     "execution_count": 127,
     "metadata": {},
     "output_type": "execute_result"
    }
   ],
   "source": [
    "id(x)"
   ]
  },
  {
   "cell_type": "code",
   "execution_count": 128,
   "id": "c18f5906",
   "metadata": {},
   "outputs": [
    {
     "data": {
      "text/plain": [
       "1670159116144"
      ]
     },
     "execution_count": 128,
     "metadata": {},
     "output_type": "execute_result"
    }
   ],
   "source": [
    "y=\"Lion\"\n",
    "id(y)"
   ]
  },
  {
   "cell_type": "code",
   "execution_count": 129,
   "id": "c2800c07",
   "metadata": {},
   "outputs": [
    {
     "name": "stdout",
     "output_type": "stream",
     "text": [
      "False\n"
     ]
    }
   ],
   "source": [
    "print(x==y)"
   ]
  },
  {
   "cell_type": "code",
   "execution_count": 130,
   "id": "e412e497",
   "metadata": {},
   "outputs": [
    {
     "name": "stdout",
     "output_type": "stream",
     "text": [
      "False\n"
     ]
    }
   ],
   "source": [
    "print(x is y)"
   ]
  },
  {
   "cell_type": "code",
   "execution_count": 131,
   "id": "018d6325",
   "metadata": {},
   "outputs": [
    {
     "name": "stdout",
     "output_type": "stream",
     "text": [
      "True\n"
     ]
    }
   ],
   "source": [
    "print(x==x)"
   ]
  },
  {
   "cell_type": "code",
   "execution_count": 132,
   "id": "a61a8be3",
   "metadata": {},
   "outputs": [
    {
     "name": "stdout",
     "output_type": "stream",
     "text": [
      "Address of variable x 1670158997360\n",
      "Address of variable y 1670159116144\n"
     ]
    }
   ],
   "source": [
    "print(\"Address of variable x\",id(x))\n",
    "print(\"Address of variable y\",id(y))"
   ]
  },
  {
   "cell_type": "code",
   "execution_count": 133,
   "id": "ec53d2ae",
   "metadata": {},
   "outputs": [
    {
     "name": "stderr",
     "output_type": "stream",
     "text": [
      "<>:2: SyntaxWarning: \"is not\" with a literal. Did you mean \"!=\"?\n",
      "<>:2: SyntaxWarning: \"is not\" with a literal. Did you mean \"!=\"?\n",
      "C:\\Users\\hp\\AppData\\Local\\Temp\\ipykernel_27424\\3342362332.py:2: SyntaxWarning: \"is not\" with a literal. Did you mean \"!=\"?\n",
      "  'Ram'is not 'Shyam'\n"
     ]
    },
    {
     "data": {
      "text/plain": [
       "True"
      ]
     },
     "execution_count": 133,
     "metadata": {},
     "output_type": "execute_result"
    }
   ],
   "source": [
    "# is not\n",
    "'Ram'is not 'Shyam'"
   ]
  },
  {
   "cell_type": "code",
   "execution_count": 134,
   "id": "a35d1b57",
   "metadata": {},
   "outputs": [
    {
     "data": {
      "text/plain": [
       "False"
      ]
     },
     "execution_count": 134,
     "metadata": {},
     "output_type": "execute_result"
    }
   ],
   "source": [
    "# And\n",
    "\n",
    "3>5 and 6>8"
   ]
  },
  {
   "cell_type": "code",
   "execution_count": 135,
   "id": "dec5f620",
   "metadata": {},
   "outputs": [
    {
     "data": {
      "text/plain": [
       "False"
      ]
     },
     "execution_count": 135,
     "metadata": {},
     "output_type": "execute_result"
    }
   ],
   "source": [
    "10==10 and 12>18 and 11>19"
   ]
  },
  {
   "cell_type": "code",
   "execution_count": 136,
   "id": "415e7fc5",
   "metadata": {},
   "outputs": [
    {
     "data": {
      "text/plain": [
       "True"
      ]
     },
     "execution_count": 136,
     "metadata": {},
     "output_type": "execute_result"
    }
   ],
   "source": [
    "# or \n",
    "23<78 or 12>19 and 11>19"
   ]
  },
  {
   "cell_type": "code",
   "execution_count": 138,
   "id": "87dd8b8c",
   "metadata": {},
   "outputs": [
    {
     "data": {
      "text/plain": [
       "False"
      ]
     },
     "execution_count": 138,
     "metadata": {},
     "output_type": "execute_result"
    }
   ],
   "source": [
    "not True "
   ]
  },
  {
   "cell_type": "code",
   "execution_count": 139,
   "id": "634ab6d1",
   "metadata": {},
   "outputs": [
    {
     "data": {
      "text/plain": [
       "True"
      ]
     },
     "execution_count": 139,
     "metadata": {},
     "output_type": "execute_result"
    }
   ],
   "source": [
    "not False"
   ]
  },
  {
   "cell_type": "code",
   "execution_count": 140,
   "id": "857bc7b8",
   "metadata": {},
   "outputs": [
    {
     "data": {
      "text/plain": [
       "False"
      ]
     },
     "execution_count": 140,
     "metadata": {},
     "output_type": "execute_result"
    }
   ],
   "source": [
    "12>56 and 15<34 or 45>78"
   ]
  },
  {
   "cell_type": "code",
   "execution_count": 141,
   "id": "b893caa7",
   "metadata": {},
   "outputs": [
    {
     "data": {
      "text/plain": [
       "False"
      ]
     },
     "execution_count": 141,
     "metadata": {},
     "output_type": "execute_result"
    }
   ],
   "source": [
    "12>56 and 15<34 and 45<78"
   ]
  },
  {
   "cell_type": "code",
   "execution_count": 142,
   "id": "325acbd6",
   "metadata": {},
   "outputs": [
    {
     "data": {
      "text/plain": [
       "31"
      ]
     },
     "execution_count": 142,
     "metadata": {},
     "output_type": "execute_result"
    }
   ],
   "source": [
    "# bitwise 'OR'\n",
    "22|25"
   ]
  },
  {
   "cell_type": "code",
   "execution_count": 143,
   "id": "93677f34",
   "metadata": {},
   "outputs": [
    {
     "data": {
      "text/plain": [
       "15"
      ]
     },
     "execution_count": 143,
     "metadata": {},
     "output_type": "execute_result"
    }
   ],
   "source": [
    "12|15"
   ]
  },
  {
   "cell_type": "code",
   "execution_count": 145,
   "id": "5b2f370a",
   "metadata": {},
   "outputs": [
    {
     "data": {
      "text/plain": [
       "29"
      ]
     },
     "execution_count": 145,
     "metadata": {},
     "output_type": "execute_result"
    }
   ],
   "source": [
    "13|25"
   ]
  },
  {
   "cell_type": "code",
   "execution_count": null,
   "id": "4d46a397",
   "metadata": {},
   "outputs": [],
   "source": [
    "# bitwise ' and'"
   ]
  },
  {
   "cell_type": "code",
   "execution_count": 146,
   "id": "feb8558e",
   "metadata": {},
   "outputs": [
    {
     "data": {
      "text/plain": [
       "2"
      ]
     },
     "execution_count": 146,
     "metadata": {},
     "output_type": "execute_result"
    }
   ],
   "source": [
    "23 & 34"
   ]
  },
  {
   "cell_type": "code",
   "execution_count": 147,
   "id": "be9c0539",
   "metadata": {},
   "outputs": [
    {
     "data": {
      "text/plain": [
       "5"
      ]
     },
     "execution_count": 147,
     "metadata": {},
     "output_type": "execute_result"
    }
   ],
   "source": [
    "45 & 23"
   ]
  },
  {
   "cell_type": "code",
   "execution_count": 148,
   "id": "1c009afa",
   "metadata": {},
   "outputs": [
    {
     "data": {
      "text/plain": [
       "31"
      ]
     },
     "execution_count": 148,
     "metadata": {},
     "output_type": "execute_result"
    }
   ],
   "source": [
    "15^16"
   ]
  },
  {
   "cell_type": "code",
   "execution_count": null,
   "id": "3f2ee54a",
   "metadata": {},
   "outputs": [],
   "source": [
    "# ord() contains the value of the alphabet"
   ]
  },
  {
   "cell_type": "code",
   "execution_count": 1,
   "id": "0c22654c",
   "metadata": {},
   "outputs": [
    {
     "data": {
      "text/plain": [
       "66"
      ]
     },
     "execution_count": 1,
     "metadata": {},
     "output_type": "execute_result"
    }
   ],
   "source": [
    "ord(\"B\")"
   ]
  },
  {
   "cell_type": "code",
   "execution_count": 2,
   "id": "404cdbf3",
   "metadata": {},
   "outputs": [
    {
     "data": {
      "text/plain": [
       "98"
      ]
     },
     "execution_count": 2,
     "metadata": {},
     "output_type": "execute_result"
    }
   ],
   "source": [
    "ord(\"b\")"
   ]
  },
  {
   "cell_type": "code",
   "execution_count": 3,
   "id": "e1348be7",
   "metadata": {},
   "outputs": [],
   "source": [
    "import math"
   ]
  },
  {
   "cell_type": "code",
   "execution_count": 4,
   "id": "60b95956",
   "metadata": {},
   "outputs": [
    {
     "data": {
      "text/plain": [
       "['__doc__',\n",
       " '__loader__',\n",
       " '__name__',\n",
       " '__package__',\n",
       " '__spec__',\n",
       " 'acos',\n",
       " 'acosh',\n",
       " 'asin',\n",
       " 'asinh',\n",
       " 'atan',\n",
       " 'atan2',\n",
       " 'atanh',\n",
       " 'ceil',\n",
       " 'comb',\n",
       " 'copysign',\n",
       " 'cos',\n",
       " 'cosh',\n",
       " 'degrees',\n",
       " 'dist',\n",
       " 'e',\n",
       " 'erf',\n",
       " 'erfc',\n",
       " 'exp',\n",
       " 'expm1',\n",
       " 'fabs',\n",
       " 'factorial',\n",
       " 'floor',\n",
       " 'fmod',\n",
       " 'frexp',\n",
       " 'fsum',\n",
       " 'gamma',\n",
       " 'gcd',\n",
       " 'hypot',\n",
       " 'inf',\n",
       " 'isclose',\n",
       " 'isfinite',\n",
       " 'isinf',\n",
       " 'isnan',\n",
       " 'isqrt',\n",
       " 'lcm',\n",
       " 'ldexp',\n",
       " 'lgamma',\n",
       " 'log',\n",
       " 'log10',\n",
       " 'log1p',\n",
       " 'log2',\n",
       " 'modf',\n",
       " 'nan',\n",
       " 'nextafter',\n",
       " 'perm',\n",
       " 'pi',\n",
       " 'pow',\n",
       " 'prod',\n",
       " 'radians',\n",
       " 'remainder',\n",
       " 'sin',\n",
       " 'sinh',\n",
       " 'sqrt',\n",
       " 'tan',\n",
       " 'tanh',\n",
       " 'tau',\n",
       " 'trunc',\n",
       " 'ulp']"
      ]
     },
     "execution_count": 4,
     "metadata": {},
     "output_type": "execute_result"
    }
   ],
   "source": [
    "dir(math)"
   ]
  },
  {
   "cell_type": "code",
   "execution_count": null,
   "id": "a68c7ff5",
   "metadata": {},
   "outputs": [],
   "source": [
    "# in , not in\n",
    "# boolean-True,False"
   ]
  },
  {
   "cell_type": "code",
   "execution_count": 5,
   "id": "89cd1620",
   "metadata": {},
   "outputs": [
    {
     "data": {
      "text/plain": [
       "True"
      ]
     },
     "execution_count": 5,
     "metadata": {},
     "output_type": "execute_result"
    }
   ],
   "source": [
    "\"a\"==\"a\""
   ]
  },
  {
   "cell_type": "code",
   "execution_count": 6,
   "id": "7d6a14eb",
   "metadata": {},
   "outputs": [
    {
     "name": "stderr",
     "output_type": "stream",
     "text": [
      "<>:1: SyntaxWarning: \"is\" with a literal. Did you mean \"==\"?\n",
      "<>:1: SyntaxWarning: \"is\" with a literal. Did you mean \"==\"?\n",
      "C:\\Users\\hp\\AppData\\Local\\Temp\\ipykernel_17160\\1783323536.py:1: SyntaxWarning: \"is\" with a literal. Did you mean \"==\"?\n",
      "  5 is 5\n"
     ]
    },
    {
     "data": {
      "text/plain": [
       "True"
      ]
     },
     "execution_count": 6,
     "metadata": {},
     "output_type": "execute_result"
    }
   ],
   "source": [
    "5 is 5"
   ]
  },
  {
   "cell_type": "code",
   "execution_count": 7,
   "id": "ea2a0e75",
   "metadata": {},
   "outputs": [
    {
     "data": {
      "text/plain": [
       "2210642748528"
      ]
     },
     "execution_count": 7,
     "metadata": {},
     "output_type": "execute_result"
    }
   ],
   "source": [
    "x=\"tog\"\n",
    "id(x)"
   ]
  },
  {
   "cell_type": "code",
   "execution_count": 10,
   "id": "dcec245f",
   "metadata": {},
   "outputs": [
    {
     "data": {
      "text/plain": [
       "True"
      ]
     },
     "execution_count": 10,
     "metadata": {},
     "output_type": "execute_result"
    }
   ],
   "source": [
    "23>45 and 78>90 or 34==34"
   ]
  },
  {
   "cell_type": "code",
   "execution_count": 12,
   "id": "5a4920a2",
   "metadata": {},
   "outputs": [
    {
     "data": {
      "text/plain": [
       "31"
      ]
     },
     "execution_count": 12,
     "metadata": {},
     "output_type": "execute_result"
    }
   ],
   "source": [
    "22|25 "
   ]
  },
  {
   "cell_type": "code",
   "execution_count": 13,
   "id": "8e221cc6",
   "metadata": {},
   "outputs": [
    {
     "data": {
      "text/plain": [
       "15"
      ]
     },
     "execution_count": 13,
     "metadata": {},
     "output_type": "execute_result"
    }
   ],
   "source": [
    "12|15"
   ]
  },
  {
   "cell_type": "code",
   "execution_count": 14,
   "id": "9b86daa2",
   "metadata": {},
   "outputs": [
    {
     "data": {
      "text/plain": [
       "2"
      ]
     },
     "execution_count": 14,
     "metadata": {},
     "output_type": "execute_result"
    }
   ],
   "source": [
    "23 & 34"
   ]
  },
  {
   "cell_type": "code",
   "execution_count": 15,
   "id": "1d5e349e",
   "metadata": {},
   "outputs": [
    {
     "data": {
      "text/plain": [
       "31"
      ]
     },
     "execution_count": 15,
     "metadata": {},
     "output_type": "execute_result"
    }
   ],
   "source": [
    "15^16"
   ]
  },
  {
   "cell_type": "code",
   "execution_count": 16,
   "id": "2e7bd7cd",
   "metadata": {},
   "outputs": [
    {
     "data": {
      "text/plain": [
       "-11"
      ]
     },
     "execution_count": 16,
     "metadata": {},
     "output_type": "execute_result"
    }
   ],
   "source": [
    "~10"
   ]
  },
  {
   "cell_type": "code",
   "execution_count": 17,
   "id": "bd9ebfee",
   "metadata": {},
   "outputs": [
    {
     "data": {
      "text/plain": [
       "4"
      ]
     },
     "execution_count": 17,
     "metadata": {},
     "output_type": "execute_result"
    }
   ],
   "source": [
    "~-5"
   ]
  },
  {
   "cell_type": "code",
   "execution_count": 18,
   "id": "6384604e",
   "metadata": {},
   "outputs": [
    {
     "name": "stdout",
     "output_type": "stream",
     "text": [
      "Enter: 34\n",
      "you can apply\n"
     ]
    }
   ],
   "source": [
    "# flow control\n",
    "age=int(input(\"Enter: \"))\n",
    "if age>18:\n",
    "    print(\"you can apply\")\n",
    "else:\n",
    "    print(\"you cannot apply\")"
   ]
  },
  {
   "cell_type": "code",
   "execution_count": 20,
   "id": "e0fc04c1",
   "metadata": {},
   "outputs": [
    {
     "name": "stdout",
     "output_type": "stream",
     "text": [
      "enter33\n",
      "odd\n"
     ]
    }
   ],
   "source": [
    "n=int(input(\"enter\"))\n",
    "if (n%2==0):\n",
    "    print(\"even num\",n)\n",
    "print(\"odd\")"
   ]
  },
  {
   "cell_type": "code",
   "execution_count": 21,
   "id": "240f43d9",
   "metadata": {},
   "outputs": [
    {
     "name": "stdout",
     "output_type": "stream",
     "text": [
      "enter: 34\n",
      "34 is not div by 7\n"
     ]
    }
   ],
   "source": [
    "n=int(input(\"enter: \"))\n",
    "if (n%7==0):\n",
    "    print(n,\"the no is div by 7\")\n",
    "else:\n",
    "    print(n,\"is not div by 7\")"
   ]
  },
  {
   "cell_type": "code",
   "execution_count": 23,
   "id": "c528a6d1",
   "metadata": {},
   "outputs": [
    {
     "name": "stdout",
     "output_type": "stream",
     "text": [
      "enter: 450\n",
      "Rs 500\n"
     ]
    }
   ],
   "source": [
    "# multiple if's\n",
    "\n",
    "units=int(input(\"enter: \"))\n",
    "if units<=200:\n",
    "    print(\"No bill\")\n",
    "if units>200 and units<=400:\n",
    "    print(\"Rs 150\")\n",
    "if units>400 and units<=600:\n",
    "    print(\"Rs 500\")\n",
    "if units>600:\n",
    "    print(\"Rs 1500\")"
   ]
  },
  {
   "cell_type": "code",
   "execution_count": 24,
   "id": "6ebddc18",
   "metadata": {},
   "outputs": [
    {
     "name": "stdout",
     "output_type": "stream",
     "text": [
      "marks: 56\n",
      "D\n"
     ]
    }
   ],
   "source": [
    "marks=int(input(\"marks: \"))\n",
    "if marks>90:\n",
    "    print(\"A+\")\n",
    "if marks>80 and marks<=90:\n",
    "    print(\"A\")\n",
    "if marks>70 and marks<=60:\n",
    "    print(\"B\")\n",
    "if marks>60 and marks<=70:\n",
    "    print(\"C\")\n",
    "if marks>50 and marks<=60:\n",
    "    print(\"D\")\n",
    "if marks<50:\n",
    "    print(\"fail\")"
   ]
  },
  {
   "cell_type": "code",
   "execution_count": 25,
   "id": "8a544bed",
   "metadata": {},
   "outputs": [
    {
     "name": "stdout",
     "output_type": "stream",
     "text": [
      "enter your age: 55\n",
      "full\n"
     ]
    }
   ],
   "source": [
    "age=int(input(\"enter your age: \"))\n",
    "if age<5:\n",
    "    print(\"no tic\")\n",
    "elif age>=5 and age<=10:\n",
    "    print(\"half\")\n",
    "elif age>=10 and age<60:\n",
    "    print(\"full\")\n",
    "elif age>=60:\n",
    "    print(\"30%\")"
   ]
  },
  {
   "cell_type": "code",
   "execution_count": 28,
   "id": "8bedb7df",
   "metadata": {},
   "outputs": [
    {
     "name": "stdout",
     "output_type": "stream",
     "text": [
      "enter: i\n",
      "vowel\n"
     ]
    }
   ],
   "source": [
    "letter=input(\"enter: \")\n",
    "if letter.lower() in \"aeiou\":\n",
    "    print(\"vowel\")\n",
    "elif letter.lower()=='y':\n",
    "    print(\"nothing\")\n",
    "else:\n",
    "    print(\"consonant\")"
   ]
  },
  {
   "cell_type": "code",
   "execution_count": 31,
   "id": "18e5a342",
   "metadata": {},
   "outputs": [
    {
     "name": "stdout",
     "output_type": "stream",
     "text": [
      "enter: 67\n",
      "invalid\n"
     ]
    }
   ],
   "source": [
    "letter=input(\"enter: \")\n",
    "if letter.lower() in \"aeiou\":\n",
    "    print(\"vowel\")\n",
    "elif letter.lower()=='y':\n",
    "    print(\"nothing\")\n",
    "elif letter in \"0123456789\":\n",
    "    print(\"invalid\")\n",
    "else:\n",
    "    print(\"consonant\")"
   ]
  },
  {
   "cell_type": "code",
   "execution_count": 32,
   "id": "9399ff56",
   "metadata": {},
   "outputs": [
    {
     "name": "stdout",
     "output_type": "stream",
     "text": [
      "name: JANUARY\n",
      "31 days\n"
     ]
    }
   ],
   "source": [
    "month=input(\"name: \")\n",
    "if month.lower() in ['january','march','may','july','august','october','december']:\n",
    "    print(\"31 days\")\n",
    "elif month.lower() in ['february']:\n",
    "    print(\"28/29days\")\n",
    "elif month.lower() in ['april','june','september','november']:\n",
    "    print(\"30 days\")\n",
    "else:\n",
    "    print(\"invalid\")\n",
    "    "
   ]
  },
  {
   "cell_type": "code",
   "execution_count": 33,
   "id": "bc90e968",
   "metadata": {},
   "outputs": [
    {
     "name": "stdout",
     "output_type": "stream",
     "text": [
      "age: 67\n",
      "do you have dl: y/n?n\n",
      "please apply for driving lisence\n"
     ]
    }
   ],
   "source": [
    "age=int(input(\"age: \"))\n",
    "if age>18:\n",
    "    drive=input(\"do you have dl: y/n?\")\n",
    "    if drive.lower()=='y':\n",
    "        print(\"you are authorized to drive\")\n",
    "    else:\n",
    "        print(\"please apply for driving lisence\")\n",
    "else:\n",
    "    print(\"You are not eligible for dl\")"
   ]
  },
  {
   "cell_type": "code",
   "execution_count": 36,
   "id": "b2b2625d",
   "metadata": {},
   "outputs": [
    {
     "name": "stdout",
     "output_type": "stream",
     "text": [
      "age: 88\n",
      "do you have dl: y/n?y\n",
      "you are authorized to drive\n"
     ]
    }
   ],
   "source": [
    "age=int(input(\"age: \"))\n",
    "if age>18:\n",
    "    drive=input(\"do you have dl: y/n?\")\n",
    "    if drive.lower()=='y':\n",
    "        print(\"you are authorized to drive\")\n",
    "    elif drive.lower()=='n':\n",
    "        print(\"you are not athrz\")\n",
    "    else:\n",
    "        print(\"enter valid letter\")\n",
    "else:\n",
    "    print(\"no eli\")"
   ]
  },
  {
   "cell_type": "code",
   "execution_count": 38,
   "id": "509ee6b4",
   "metadata": {},
   "outputs": [
    {
     "name": "stdout",
     "output_type": "stream",
     "text": [
      "enter course: b.t,bs,bba  ?B.T\n",
      "enter the per: 78\n",
      "Rs.5000\n"
     ]
    }
   ],
   "source": [
    "course=input(\"enter course: b.t,bs,bba  ?\")\n",
    "per=int(input(\"enter the per: \"))\n",
    "if course.lower()=='b.t':\n",
    "    if per==90:\n",
    "        print(\"Rs.15000\")\n",
    "    elif per>70 and per<90:\n",
    "        print(\"Rs.5000\")\n",
    "        \n",
    "if course==\"b.sc\":\n",
    "    if per==90:\n",
    "        print(\"Rs.15000\")\n",
    "    elif per>=70 and per<90:\n",
    "        print(\"Rs.5000\")\n",
    "if course.lower()=='b.ba':\n",
    "    if per==90:\n",
    "        print(\"Rs.15000\")\n",
    "    elif per>=70 and per<90:\n",
    "        print(\"Rs.5000\")\n",
    "    else:\n",
    "        print(\"Not valid\")"
   ]
  },
  {
   "cell_type": "code",
   "execution_count": null,
   "id": "3a8047f6",
   "metadata": {},
   "outputs": [],
   "source": [
    "# LOOPS"
   ]
  },
  {
   "cell_type": "code",
   "execution_count": 39,
   "id": "cd0316fb",
   "metadata": {},
   "outputs": [
    {
     "name": "stdout",
     "output_type": "stream",
     "text": [
      "welcome\n",
      "welcome\n",
      "welcome\n",
      "welcome\n",
      "welcome\n"
     ]
    }
   ],
   "source": [
    "for i in range(5):\n",
    "    print(\"welcome\")"
   ]
  },
  {
   "cell_type": "code",
   "execution_count": 40,
   "id": "90642be1",
   "metadata": {},
   "outputs": [
    {
     "name": "stdout",
     "output_type": "stream",
     "text": [
      "0\n",
      "1\n",
      "2\n",
      "3\n",
      "4\n",
      "5\n",
      "6\n",
      "7\n",
      "8\n",
      "9\n",
      "10\n"
     ]
    }
   ],
   "source": [
    "for i in range(11):\n",
    "    print(i)"
   ]
  },
  {
   "cell_type": "code",
   "execution_count": 41,
   "id": "6e3f4124",
   "metadata": {},
   "outputs": [
    {
     "name": "stdout",
     "output_type": "stream",
     "text": [
      "0\n",
      "1\n",
      "2\n",
      "3\n",
      "4\n",
      "5\n",
      "6\n",
      "7\n",
      "8\n",
      "9\n"
     ]
    }
   ],
   "source": [
    "for i in range(0,10):\n",
    "    print(i)"
   ]
  },
  {
   "cell_type": "code",
   "execution_count": 43,
   "id": "d8d7f8d2",
   "metadata": {},
   "outputs": [
    {
     "name": "stdout",
     "output_type": "stream",
     "text": [
      "2\n",
      "3\n",
      "4\n",
      "5\n",
      "6\n",
      "7\n",
      "8\n",
      "9\n",
      "10\n",
      "11\n",
      "12\n",
      "13\n",
      "14\n"
     ]
    }
   ],
   "source": [
    "for i in range(2,15):\n",
    "    print(i)"
   ]
  },
  {
   "cell_type": "code",
   "execution_count": 44,
   "id": "b468dcd8",
   "metadata": {},
   "outputs": [
    {
     "name": "stdout",
     "output_type": "stream",
     "text": [
      "2\n",
      "4\n",
      "6\n",
      "8\n",
      "10\n",
      "12\n",
      "14\n"
     ]
    }
   ],
   "source": [
    "for i in range(2,15,2):\n",
    "    print(i)"
   ]
  },
  {
   "cell_type": "code",
   "execution_count": 45,
   "id": "ea1dad29",
   "metadata": {},
   "outputs": [
    {
     "name": "stdout",
     "output_type": "stream",
     "text": [
      "15\n",
      "14\n",
      "13\n",
      "12\n",
      "11\n",
      "10\n",
      "9\n",
      "8\n",
      "7\n",
      "6\n",
      "5\n",
      "4\n",
      "3\n",
      "2\n",
      "1\n"
     ]
    }
   ],
   "source": [
    "for i in range(15,0,-1):\n",
    "    print(i)"
   ]
  },
  {
   "cell_type": "code",
   "execution_count": 46,
   "id": "de9d81ff",
   "metadata": {},
   "outputs": [
    {
     "name": "stdout",
     "output_type": "stream",
     "text": [
      "5\n",
      "7\n",
      "9\n",
      "11\n",
      "13\n",
      "15\n",
      "17\n",
      "19\n",
      "21\n",
      "23\n"
     ]
    }
   ],
   "source": [
    "for i in range(5,25,2):\n",
    "    print(i)"
   ]
  },
  {
   "cell_type": "code",
   "execution_count": 49,
   "id": "8ab66f91",
   "metadata": {},
   "outputs": [
    {
     "name": "stdout",
     "output_type": "stream",
     "text": [
      "10\n",
      "9\n",
      "8\n",
      "7\n",
      "6\n",
      "5\n",
      "4\n",
      "3\n",
      "2\n"
     ]
    }
   ],
   "source": [
    "for i in range(10,1,-1):\n",
    "    print(i)"
   ]
  },
  {
   "cell_type": "code",
   "execution_count": 54,
   "id": "f48ccb5f",
   "metadata": {},
   "outputs": [
    {
     "name": "stdout",
     "output_type": "stream",
     "text": [
      "12\n",
      "15\n",
      "18\n",
      "21\n",
      "24\n",
      "27\n",
      "30\n",
      "33\n"
     ]
    }
   ],
   "source": [
    "for i in range(10,36):\n",
    "    if (i%3==0):\n",
    "        print(i)"
   ]
  },
  {
   "cell_type": "code",
   "execution_count": 55,
   "id": "d2603401",
   "metadata": {},
   "outputs": [
    {
     "name": "stdout",
     "output_type": "stream",
     "text": [
      "210\n",
      "245\n",
      "280\n",
      "315\n",
      "350\n"
     ]
    }
   ],
   "source": [
    "for i in range(200,351):\n",
    "    if (i%5==0) and (i%7==0):\n",
    "        print(i)"
   ]
  },
  {
   "cell_type": "code",
   "execution_count": 56,
   "id": "3b845450",
   "metadata": {},
   "outputs": [
    {
     "name": "stdout",
     "output_type": "stream",
     "text": [
      "153\n",
      "162\n",
      "171\n",
      "180\n",
      "189\n",
      "198\n",
      "207\n",
      "216\n",
      "225\n",
      "234\n",
      "243\n",
      "252\n",
      "261\n",
      "270\n",
      "279\n",
      "288\n",
      "297\n",
      "306\n",
      "315\n",
      "324\n",
      "333\n",
      "342\n"
     ]
    }
   ],
   "source": [
    "for i in range(150,350):\n",
    "    if (i%9==0):\n",
    "        print(i)"
   ]
  },
  {
   "cell_type": "code",
   "execution_count": 57,
   "id": "9ac44eb0",
   "metadata": {},
   "outputs": [
    {
     "name": "stdout",
     "output_type": "stream",
     "text": [
      "5445\n"
     ]
    }
   ],
   "source": [
    "add=0\n",
    "for i in range(150,351):\n",
    "    if (i%9==0):\n",
    "        add=add+i\n",
    "print(add)"
   ]
  },
  {
   "cell_type": "code",
   "execution_count": 58,
   "id": "c9e79dc8",
   "metadata": {},
   "outputs": [
    {
     "name": "stdout",
     "output_type": "stream",
     "text": [
      "4620\n"
     ]
    }
   ],
   "source": [
    "add=0\n",
    "for i in range(330,109,-1):\n",
    "    if (i%11==0):\n",
    "        add=add+i\n",
    "print(add)"
   ]
  },
  {
   "cell_type": "code",
   "execution_count": 61,
   "id": "c3d249b3",
   "metadata": {},
   "outputs": [
    {
     "name": "stdout",
     "output_type": "stream",
     "text": [
      "enter: 5\n",
      "120\n"
     ]
    }
   ],
   "source": [
    "mul=1\n",
    "n=int(input(\"enter: \"))\n",
    "for i in range(1,n+1):\n",
    "    mul=mul*i\n",
    "    n=n-1\n",
    "print(mul)"
   ]
  },
  {
   "cell_type": "code",
   "execution_count": 64,
   "id": "a175ef44",
   "metadata": {},
   "outputs": [
    {
     "name": "stdout",
     "output_type": "stream",
     "text": [
      "enter: 5\n",
      "5 x 1 = 5\n",
      "5 x 2 = 10\n",
      "5 x 3 = 15\n",
      "5 x 4 = 20\n",
      "5 x 5 = 25\n",
      "5 x 6 = 30\n",
      "5 x 7 = 35\n",
      "5 x 8 = 40\n",
      "5 x 9 = 45\n",
      "5 x 10 = 50\n"
     ]
    }
   ],
   "source": [
    "n=int(input(\"enter: \"))\n",
    "for i in range(1,11):\n",
    "    print(n,\"x\",i,\"=\",n*i)"
   ]
  },
  {
   "cell_type": "code",
   "execution_count": 76,
   "id": "6f54a752",
   "metadata": {},
   "outputs": [
    {
     "ename": "SyntaxError",
     "evalue": "invalid syntax (3290038176.py, line 2)",
     "output_type": "error",
     "traceback": [
      "\u001b[1;36m  File \u001b[1;32m\"C:\\Users\\hp\\AppData\\Local\\Temp\\ipykernel_17160\\3290038176.py\"\u001b[1;36m, line \u001b[1;32m2\u001b[0m\n\u001b[1;33m    x=lambda n:print(n*i)for i in range(1,11)\u001b[0m\n\u001b[1;37m                         ^\u001b[0m\n\u001b[1;31mSyntaxError\u001b[0m\u001b[1;31m:\u001b[0m invalid syntax\n"
     ]
    }
   ],
   "source": [
    "n=int(input(\"enter the num: \"))\n",
    "x=lambda n:print(n*i)for i in range(1,11) \n",
    "print(x)"
   ]
  },
  {
   "cell_type": "code",
   "execution_count": 78,
   "id": "6586e094",
   "metadata": {},
   "outputs": [
    {
     "name": "stdout",
     "output_type": "stream",
     "text": [
      "enter: 5\n",
      "5 ! = 120\n"
     ]
    }
   ],
   "source": [
    "mul=1\n",
    "n=int(input(\"enter: \"))\n",
    "for i in range(1,n+1):\n",
    "    mul=mul*i\n",
    "    n=n-1\n",
    "print(i,\"!\",\"=\",mul)"
   ]
  },
  {
   "cell_type": "code",
   "execution_count": 81,
   "id": "ec75131e",
   "metadata": {},
   "outputs": [
    {
     "name": "stdout",
     "output_type": "stream",
     "text": [
      "1 ! = 1\n",
      "2 ! = 2\n",
      "3 ! = 6\n",
      "4 ! = 24\n",
      "5 ! = 120\n",
      "6 ! = 720\n",
      "7 ! = 5040\n",
      "8 ! = 40320\n",
      "9 ! = 362880\n",
      "10 ! = 3628800\n",
      "11 ! = 39916800\n"
     ]
    }
   ],
   "source": [
    "mul=1\n",
    "for i in range(1,12):\n",
    "    mul=mul*i\n",
    "    n=n-1\n",
    "    print(i,\"!\",\"=\",mul)"
   ]
  },
  {
   "cell_type": "code",
   "execution_count": 82,
   "id": "a5b7221e",
   "metadata": {},
   "outputs": [
    {
     "name": "stdout",
     "output_type": "stream",
     "text": [
      "1\n",
      "2\n",
      "3\n",
      "4\n",
      "5\n",
      "6\n",
      "7\n",
      "8\n",
      "9\n",
      "10\n"
     ]
    }
   ],
   "source": [
    "i=1\n",
    "while(i<11):\n",
    "    print(i)\n",
    "    i=i+1"
   ]
  },
  {
   "cell_type": "code",
   "execution_count": 83,
   "id": "a6945f7f",
   "metadata": {},
   "outputs": [
    {
     "name": "stdout",
     "output_type": "stream",
     "text": [
      "0\n",
      "1\n",
      "2\n",
      "3\n",
      "4\n",
      "5\n",
      "6\n",
      "7\n",
      "8\n",
      "9\n",
      "10\n"
     ]
    }
   ],
   "source": [
    "i=0\n",
    "while(i<11):\n",
    "    print(i)\n",
    "    i=i+1"
   ]
  },
  {
   "cell_type": "code",
   "execution_count": 84,
   "id": "6b95b426",
   "metadata": {},
   "outputs": [
    {
     "name": "stdout",
     "output_type": "stream",
     "text": [
      "0\n",
      "2\n",
      "4\n",
      "6\n",
      "8\n",
      "10\n",
      "12\n",
      "14\n",
      "16\n",
      "18\n",
      "20\n"
     ]
    }
   ],
   "source": [
    "i=0\n",
    "while(i<21):\n",
    "    print(i)\n",
    "    i=i+2"
   ]
  },
  {
   "cell_type": "code",
   "execution_count": 85,
   "id": "65ef7686",
   "metadata": {},
   "outputs": [
    {
     "name": "stdout",
     "output_type": "stream",
     "text": [
      "10\n",
      "9\n",
      "8\n",
      "7\n",
      "6\n",
      "5\n",
      "4\n",
      "3\n",
      "2\n",
      "1\n",
      "0\n"
     ]
    }
   ],
   "source": [
    "i=10\n",
    "while(i>=0):\n",
    "    print(i)\n",
    "    i=i-1"
   ]
  },
  {
   "cell_type": "code",
   "execution_count": null,
   "id": "598b8f27",
   "metadata": {},
   "outputs": [],
   "source": [
    "i=10\n",
    "while(i<156):\n",
    "    if(i%5==0) and (i%7==0):\n",
    "            print(i)\n",
    "    i=i+1"
   ]
  },
  {
   "cell_type": "code",
   "execution_count": 88,
   "id": "4250fff6",
   "metadata": {},
   "outputs": [
    {
     "name": "stdout",
     "output_type": "stream",
     "text": [
      "35\n",
      "70\n",
      "105\n",
      "140\n"
     ]
    }
   ],
   "source": [
    "for i in range(10,156):\n",
    "    if (i%5==0) and (i%7==0):\n",
    "        print(i)"
   ]
  },
  {
   "cell_type": "code",
   "execution_count": 94,
   "id": "c13f7711",
   "metadata": {},
   "outputs": [
    {
     "name": "stdout",
     "output_type": "stream",
     "text": [
      "35\n",
      "70\n",
      "105\n",
      "140\n",
      "156\n"
     ]
    }
   ],
   "source": [
    "i=10\n",
    "while(i<156):\n",
    "    if (i%5==0) and (i%7==0):\n",
    "        print(i)\n",
    "    i=i+1\n",
    "print(i)"
   ]
  },
  {
   "cell_type": "code",
   "execution_count": 92,
   "id": "6c73277a",
   "metadata": {},
   "outputs": [
    {
     "name": "stdout",
     "output_type": "stream",
     "text": [
      "sq \t 121\n",
      "cube \t 1331\n",
      "sq \t 144\n",
      "cube \t 1728\n",
      "sq \t 169\n",
      "cube \t 2197\n",
      "sq \t 196\n",
      "cube \t 2744\n",
      "sq \t 225\n",
      "cube \t 3375\n",
      "sq \t 256\n",
      "cube \t 4096\n",
      "sq \t 289\n",
      "cube \t 4913\n",
      "sq \t 324\n",
      "cube \t 5832\n",
      "sq \t 361\n",
      "cube \t 6859\n",
      "sq \t 400\n",
      "cube \t 8000\n",
      "sq \t 441\n",
      "cube \t 9261\n",
      "sq \t 484\n",
      "cube \t 10648\n"
     ]
    }
   ],
   "source": [
    "i=11\n",
    "while(i<=22):\n",
    "    sq=i**2\n",
    "    cube=i**3\n",
    "    print(\"sq \\t\",sq)\n",
    "    print(\"cube \\t\",cube)\n",
    "    i=i+1"
   ]
  },
  {
   "cell_type": "code",
   "execution_count": 93,
   "id": "32546d2b",
   "metadata": {},
   "outputs": [
    {
     "name": "stdout",
     "output_type": "stream",
     "text": [
      "7308\n"
     ]
    }
   ],
   "source": [
    "add=0\n",
    "i=150\n",
    "while(i<=350):\n",
    "    if(i%7==0):\n",
    "        add=add+i\n",
    "    i=i+1\n",
    "print(add)"
   ]
  },
  {
   "cell_type": "code",
   "execution_count": 96,
   "id": "02505c89",
   "metadata": {},
   "outputs": [
    {
     "name": "stdout",
     "output_type": "stream",
     "text": [
      "num: 5\n",
      "5 x 1 = 5\n",
      "5 x 2 = 10\n",
      "5 x 3 = 15\n",
      "5 x 4 = 20\n",
      "5 x 5 = 25\n",
      "5 x 6 = 30\n",
      "5 x 7 = 35\n",
      "5 x 8 = 40\n",
      "5 x 9 = 45\n",
      "5 x 10 = 50\n"
     ]
    }
   ],
   "source": [
    "i=1\n",
    "mul=int(input(\"num: \"))\n",
    "while(i<11):\n",
    "    print(mul,\"x\",i,\"=\",mul*i)\n",
    "    i=i+1\n"
   ]
  },
  {
   "cell_type": "code",
   "execution_count": null,
   "id": "f69a2dea",
   "metadata": {},
   "outputs": [],
   "source": [
    "# Data Structure\n",
    "# primitive- scalar/store single value\n",
    "# vector- store more than 1 data type-list,tuple,dictionary,set"
   ]
  },
  {
   "cell_type": "code",
   "execution_count": 97,
   "id": "afcbeec9",
   "metadata": {},
   "outputs": [
    {
     "data": {
      "text/plain": [
       "list"
      ]
     },
     "execution_count": 97,
     "metadata": {},
     "output_type": "execute_result"
    }
   ],
   "source": [
    "# List\n",
    "\n",
    "mylist=[]\n",
    "type(mylist)"
   ]
  },
  {
   "cell_type": "code",
   "execution_count": 98,
   "id": "855bcef7",
   "metadata": {},
   "outputs": [
    {
     "name": "stdout",
     "output_type": "stream",
     "text": [
      "<class 'list'>\n"
     ]
    }
   ],
   "source": [
    "mylist=[23,45,67,89]\n",
    "print(type(mylist))"
   ]
  },
  {
   "cell_type": "code",
   "execution_count": 99,
   "id": "def5771b",
   "metadata": {},
   "outputs": [
    {
     "data": {
      "text/plain": [
       "[23, 45, 67, 89]"
      ]
     },
     "execution_count": 99,
     "metadata": {},
     "output_type": "execute_result"
    }
   ],
   "source": [
    "mylist"
   ]
  },
  {
   "cell_type": "code",
   "execution_count": 100,
   "id": "cb6ae5b7",
   "metadata": {},
   "outputs": [
    {
     "name": "stdout",
     "output_type": "stream",
     "text": [
      "67\n"
     ]
    }
   ],
   "source": [
    "print(mylist[2])"
   ]
  },
  {
   "cell_type": "code",
   "execution_count": 101,
   "id": "8f6c246a",
   "metadata": {},
   "outputs": [
    {
     "data": {
      "text/plain": [
       "[49, 45, 67, 89]"
      ]
     },
     "execution_count": 101,
     "metadata": {},
     "output_type": "execute_result"
    }
   ],
   "source": [
    "mylist[0]=49\n",
    "mylist"
   ]
  },
  {
   "cell_type": "code",
   "execution_count": 102,
   "id": "62b37fba",
   "metadata": {},
   "outputs": [
    {
     "data": {
      "text/plain": [
       "['sun', 'mon', 'tue', 'wed']"
      ]
     },
     "execution_count": 102,
     "metadata": {},
     "output_type": "execute_result"
    }
   ],
   "source": [
    "days=[\"sun\",\"mon\",\"tue\",\"wed\"]\n",
    "days"
   ]
  },
  {
   "cell_type": "code",
   "execution_count": 104,
   "id": "6985a355",
   "metadata": {},
   "outputs": [
    {
     "data": {
      "text/plain": [
       "['sun', 'mon', 'tue', 'thu']"
      ]
     },
     "execution_count": 104,
     "metadata": {},
     "output_type": "execute_result"
    }
   ],
   "source": [
    "days[3]=\"thu\"\n",
    "days"
   ]
  },
  {
   "cell_type": "code",
   "execution_count": 105,
   "id": "1f3ab600",
   "metadata": {},
   "outputs": [
    {
     "ename": "TypeError",
     "evalue": "unhashable type: 'list'",
     "output_type": "error",
     "traceback": [
      "\u001b[1;31m---------------------------------------------------------------------------\u001b[0m",
      "\u001b[1;31mTypeError\u001b[0m                                 Traceback (most recent call last)",
      "\u001b[1;32m~\\AppData\\Local\\Temp\\ipykernel_17160\\1387919026.py\u001b[0m in \u001b[0;36m<module>\u001b[1;34m\u001b[0m\n\u001b[1;32m----> 1\u001b[1;33m \u001b[0mhash\u001b[0m\u001b[1;33m(\u001b[0m\u001b[0mdays\u001b[0m\u001b[1;33m)\u001b[0m\u001b[1;33m\u001b[0m\u001b[1;33m\u001b[0m\u001b[0m\n\u001b[0m",
      "\u001b[1;31mTypeError\u001b[0m: unhashable type: 'list'"
     ]
    }
   ],
   "source": [
    "hash(days)"
   ]
  },
  {
   "cell_type": "code",
   "execution_count": 106,
   "id": "a2f974a2",
   "metadata": {},
   "outputs": [
    {
     "data": {
      "text/plain": [
       "'thu'"
      ]
     },
     "execution_count": 106,
     "metadata": {},
     "output_type": "execute_result"
    }
   ],
   "source": [
    "days[-1]"
   ]
  },
  {
   "cell_type": "code",
   "execution_count": null,
   "id": "b6ab73f2",
   "metadata": {},
   "outputs": [],
   "source": []
  },
  {
   "cell_type": "code",
   "execution_count": 107,
   "id": "23f2b7bb",
   "metadata": {},
   "outputs": [
    {
     "data": {
      "text/plain": [
       "[45, 67, 89]"
      ]
     },
     "execution_count": 107,
     "metadata": {},
     "output_type": "execute_result"
    }
   ],
   "source": [
    "mylist[1:4]"
   ]
  },
  {
   "cell_type": "code",
   "execution_count": 108,
   "id": "7498d8eb",
   "metadata": {},
   "outputs": [
    {
     "data": {
      "text/plain": [
       "[45, 89]"
      ]
     },
     "execution_count": 108,
     "metadata": {},
     "output_type": "execute_result"
    }
   ],
   "source": [
    "mylist[1:4:2]"
   ]
  },
  {
   "cell_type": "code",
   "execution_count": 109,
   "id": "607d2749",
   "metadata": {},
   "outputs": [
    {
     "data": {
      "text/plain": [
       "[49, 45, 67, 89]"
      ]
     },
     "execution_count": 109,
     "metadata": {},
     "output_type": "execute_result"
    }
   ],
   "source": [
    "mylist"
   ]
  },
  {
   "cell_type": "code",
   "execution_count": 110,
   "id": "3d933b72",
   "metadata": {},
   "outputs": [
    {
     "data": {
      "text/plain": [
       "[49, 45, 44, 89]"
      ]
     },
     "execution_count": 110,
     "metadata": {},
     "output_type": "execute_result"
    }
   ],
   "source": [
    "mylist[2]=44\n",
    "mylist"
   ]
  },
  {
   "cell_type": "code",
   "execution_count": 111,
   "id": "f2b67cff",
   "metadata": {},
   "outputs": [
    {
     "data": {
      "text/plain": [
       "44"
      ]
     },
     "execution_count": 111,
     "metadata": {},
     "output_type": "execute_result"
    }
   ],
   "source": [
    "mylist[2]"
   ]
  },
  {
   "cell_type": "code",
   "execution_count": 115,
   "id": "33f70f0b",
   "metadata": {},
   "outputs": [
    {
     "data": {
      "text/plain": [
       "[89, 44, 45]"
      ]
     },
     "execution_count": 115,
     "metadata": {},
     "output_type": "execute_result"
    }
   ],
   "source": [
    "mylist[3:0:-1]"
   ]
  },
  {
   "cell_type": "code",
   "execution_count": 114,
   "id": "033b8f78",
   "metadata": {},
   "outputs": [
    {
     "data": {
      "text/plain": [
       "[49, 45, 44, 89]"
      ]
     },
     "execution_count": 114,
     "metadata": {},
     "output_type": "execute_result"
    }
   ],
   "source": [
    "mylist[:]"
   ]
  },
  {
   "cell_type": "code",
   "execution_count": 116,
   "id": "f9fcd73c",
   "metadata": {},
   "outputs": [
    {
     "data": {
      "text/plain": [
       "[45, 44, 89]"
      ]
     },
     "execution_count": 116,
     "metadata": {},
     "output_type": "execute_result"
    }
   ],
   "source": [
    "mylist[1:]"
   ]
  },
  {
   "cell_type": "code",
   "execution_count": 117,
   "id": "c75e0022",
   "metadata": {},
   "outputs": [
    {
     "data": {
      "text/plain": [
       "['__add__',\n",
       " '__class__',\n",
       " '__class_getitem__',\n",
       " '__contains__',\n",
       " '__delattr__',\n",
       " '__delitem__',\n",
       " '__dir__',\n",
       " '__doc__',\n",
       " '__eq__',\n",
       " '__format__',\n",
       " '__ge__',\n",
       " '__getattribute__',\n",
       " '__getitem__',\n",
       " '__gt__',\n",
       " '__hash__',\n",
       " '__iadd__',\n",
       " '__imul__',\n",
       " '__init__',\n",
       " '__init_subclass__',\n",
       " '__iter__',\n",
       " '__le__',\n",
       " '__len__',\n",
       " '__lt__',\n",
       " '__mul__',\n",
       " '__ne__',\n",
       " '__new__',\n",
       " '__reduce__',\n",
       " '__reduce_ex__',\n",
       " '__repr__',\n",
       " '__reversed__',\n",
       " '__rmul__',\n",
       " '__setattr__',\n",
       " '__setitem__',\n",
       " '__sizeof__',\n",
       " '__str__',\n",
       " '__subclasshook__',\n",
       " 'append',\n",
       " 'clear',\n",
       " 'copy',\n",
       " 'count',\n",
       " 'extend',\n",
       " 'index',\n",
       " 'insert',\n",
       " 'pop',\n",
       " 'remove',\n",
       " 'reverse',\n",
       " 'sort']"
      ]
     },
     "execution_count": 117,
     "metadata": {},
     "output_type": "execute_result"
    }
   ],
   "source": [
    "dir(mylist)"
   ]
  },
  {
   "cell_type": "code",
   "execution_count": 119,
   "id": "bde3e544",
   "metadata": {},
   "outputs": [
    {
     "name": "stdout",
     "output_type": "stream",
     "text": [
      "mylist [49, 45, 44, 89, 45]\n",
      "afetr appending [49, 45, 44, 89, 45, 45]\n"
     ]
    }
   ],
   "source": [
    "print(\"mylist\",mylist)\n",
    "mylist.append(45)\n",
    "\n",
    "print(\"afetr appending\",mylist)"
   ]
  },
  {
   "cell_type": "code",
   "execution_count": 120,
   "id": "27f63d37",
   "metadata": {},
   "outputs": [],
   "source": [
    "mylist.insert(2,167)"
   ]
  },
  {
   "cell_type": "code",
   "execution_count": 121,
   "id": "df7d558d",
   "metadata": {},
   "outputs": [
    {
     "data": {
      "text/plain": [
       "[49, 45, 167, 44, 89, 45, 45]"
      ]
     },
     "execution_count": 121,
     "metadata": {},
     "output_type": "execute_result"
    }
   ],
   "source": [
    "mylist"
   ]
  },
  {
   "cell_type": "code",
   "execution_count": 122,
   "id": "249078bf",
   "metadata": {},
   "outputs": [
    {
     "data": {
      "text/plain": [
       "[49, 45, 167, 44, 89, 45]"
      ]
     },
     "execution_count": 122,
     "metadata": {},
     "output_type": "execute_result"
    }
   ],
   "source": [
    "mylist.pop()\n",
    "mylist"
   ]
  },
  {
   "cell_type": "code",
   "execution_count": 123,
   "id": "6963b5b5",
   "metadata": {},
   "outputs": [
    {
     "data": {
      "text/plain": [
       "[49, 45, 44, 89, 45]"
      ]
     },
     "execution_count": 123,
     "metadata": {},
     "output_type": "execute_result"
    }
   ],
   "source": [
    "mylist.pop(2)\n",
    "mylist"
   ]
  },
  {
   "cell_type": "code",
   "execution_count": 124,
   "id": "7c13cd6f",
   "metadata": {},
   "outputs": [
    {
     "data": {
      "text/plain": [
       "[45, 89, 44, 45, 49]"
      ]
     },
     "execution_count": 124,
     "metadata": {},
     "output_type": "execute_result"
    }
   ],
   "source": [
    "mylist.reverse()\n",
    "mylist"
   ]
  },
  {
   "cell_type": "code",
   "execution_count": 126,
   "id": "9dba2851",
   "metadata": {},
   "outputs": [
    {
     "name": "stdout",
     "output_type": "stream",
     "text": [
      "original list: [12, 13, 14, 15, 19, 17, 18]\n",
      "sorted list [12, 13, 14, 15, 17, 18, 19]\n"
     ]
    }
   ],
   "source": [
    "mylist=[12,13,14,15,19,17,18]\n",
    "print(\"original list:\",mylist)\n",
    "mylist.sort()\n",
    "print(\"sorted list\",mylist)"
   ]
  },
  {
   "cell_type": "code",
   "execution_count": 127,
   "id": "11926617",
   "metadata": {},
   "outputs": [
    {
     "name": "stdout",
     "output_type": "stream",
     "text": [
      "sorted [19, 18, 17, 15, 14, 13, 12]\n"
     ]
    }
   ],
   "source": [
    "mylist.sort(reverse=True)\n",
    "print(\"sorted\",mylist)"
   ]
  },
  {
   "cell_type": "code",
   "execution_count": 128,
   "id": "9d40b859",
   "metadata": {},
   "outputs": [
    {
     "name": "stdout",
     "output_type": "stream",
     "text": [
      "original list ['apple', 'cake', 'coffee', 'choco']\n",
      "after ['apple', 'coffee', 'choco']\n"
     ]
    }
   ],
   "source": [
    "myl=[\"apple\",\"cake\",\"coffee\",\"choco\"]\n",
    "print(\"original list\",myl)\n",
    "myl.remove(\"cake\")\n",
    "print(\"after\",myl)"
   ]
  },
  {
   "cell_type": "code",
   "execution_count": 129,
   "id": "3effd698",
   "metadata": {},
   "outputs": [
    {
     "data": {
      "text/plain": [
       "3"
      ]
     },
     "execution_count": 129,
     "metadata": {},
     "output_type": "execute_result"
    }
   ],
   "source": [
    "myl=[11,133,44,66,11,33,77,66,11]\n",
    "myl.count(11)"
   ]
  },
  {
   "cell_type": "code",
   "execution_count": 130,
   "id": "6dc2b5d1",
   "metadata": {},
   "outputs": [
    {
     "name": "stdout",
     "output_type": "stream",
     "text": [
      "0\n",
      "3\n"
     ]
    }
   ],
   "source": [
    "print(myl.index(11))\n",
    "print(myl.index(66))"
   ]
  },
  {
   "cell_type": "code",
   "execution_count": 131,
   "id": "0e93443f",
   "metadata": {},
   "outputs": [
    {
     "data": {
      "text/plain": [
       "[11, 133, 44, 66, 11, 33, 77, 66, 11, 101, 103, 104, 105]"
      ]
     },
     "execution_count": 131,
     "metadata": {},
     "output_type": "execute_result"
    }
   ],
   "source": [
    "mylist=[12,33,42,45,64]\n",
    "myl.extend([101,103,104,105])\n",
    "myl"
   ]
  },
  {
   "cell_type": "code",
   "execution_count": 132,
   "id": "b417c2c0",
   "metadata": {},
   "outputs": [
    {
     "data": {
      "text/plain": [
       "[11, 133, 44, 66, 11, 33, 77, 66, 11, 101, 103, 104, 105, [12, 13, 14]]"
      ]
     },
     "execution_count": 132,
     "metadata": {},
     "output_type": "execute_result"
    }
   ],
   "source": [
    "myl.append([12,13,14])\n",
    "myl"
   ]
  },
  {
   "cell_type": "code",
   "execution_count": 141,
   "id": "119f21b7",
   "metadata": {},
   "outputs": [
    {
     "ename": "NameError",
     "evalue": "name 'myl' is not defined",
     "output_type": "error",
     "traceback": [
      "\u001b[1;31m---------------------------------------------------------------------------\u001b[0m",
      "\u001b[1;31mNameError\u001b[0m                                 Traceback (most recent call last)",
      "\u001b[1;32m~\\AppData\\Local\\Temp\\ipykernel_17160\\2049666132.py\u001b[0m in \u001b[0;36m<module>\u001b[1;34m\u001b[0m\n\u001b[1;32m----> 1\u001b[1;33m \u001b[0mmyl1\u001b[0m\u001b[1;33m=\u001b[0m\u001b[0mmyl\u001b[0m\u001b[1;33m.\u001b[0m\u001b[0mcopy\u001b[0m\u001b[1;33m(\u001b[0m\u001b[1;33m)\u001b[0m\u001b[1;33m\u001b[0m\u001b[1;33m\u001b[0m\u001b[0m\n\u001b[0m\u001b[0;32m      2\u001b[0m \u001b[0mmyl1\u001b[0m\u001b[1;33m\u001b[0m\u001b[1;33m\u001b[0m\u001b[0m\n",
      "\u001b[1;31mNameError\u001b[0m: name 'myl' is not defined"
     ]
    }
   ],
   "source": [
    "myl1=myl.copy()\n",
    "myl1"
   ]
  },
  {
   "cell_type": "code",
   "execution_count": 142,
   "id": "f4946719",
   "metadata": {},
   "outputs": [
    {
     "ename": "NameError",
     "evalue": "name 'myl' is not defined",
     "output_type": "error",
     "traceback": [
      "\u001b[1;31m---------------------------------------------------------------------------\u001b[0m",
      "\u001b[1;31mNameError\u001b[0m                                 Traceback (most recent call last)",
      "\u001b[1;32m~\\AppData\\Local\\Temp\\ipykernel_17160\\58270027.py\u001b[0m in \u001b[0;36m<module>\u001b[1;34m\u001b[0m\n\u001b[1;32m----> 1\u001b[1;33m \u001b[0mmyl\u001b[0m\u001b[1;33m\u001b[0m\u001b[1;33m\u001b[0m\u001b[0m\n\u001b[0m",
      "\u001b[1;31mNameError\u001b[0m: name 'myl' is not defined"
     ]
    }
   ],
   "source": [
    "myl"
   ]
  },
  {
   "cell_type": "code",
   "execution_count": 140,
   "id": "68aad936",
   "metadata": {},
   "outputs": [
    {
     "ename": "NameError",
     "evalue": "name 'myl1' is not defined",
     "output_type": "error",
     "traceback": [
      "\u001b[1;31m---------------------------------------------------------------------------\u001b[0m",
      "\u001b[1;31mNameError\u001b[0m                                 Traceback (most recent call last)",
      "\u001b[1;32m~\\AppData\\Local\\Temp\\ipykernel_17160\\1356084689.py\u001b[0m in \u001b[0;36m<module>\u001b[1;34m\u001b[0m\n\u001b[1;32m----> 1\u001b[1;33m \u001b[0mmyl1\u001b[0m\u001b[1;33m\u001b[0m\u001b[1;33m\u001b[0m\u001b[0m\n\u001b[0m",
      "\u001b[1;31mNameError\u001b[0m: name 'myl1' is not defined"
     ]
    }
   ],
   "source": [
    "myl1"
   ]
  },
  {
   "cell_type": "code",
   "execution_count": 137,
   "id": "9ea0fe56",
   "metadata": {},
   "outputs": [
    {
     "data": {
      "text/plain": [
       "[]"
      ]
     },
     "execution_count": 137,
     "metadata": {},
     "output_type": "execute_result"
    }
   ],
   "source": [
    "myl.clear()\n",
    "myl"
   ]
  },
  {
   "cell_type": "code",
   "execution_count": 143,
   "id": "38acdd33",
   "metadata": {},
   "outputs": [
    {
     "ename": "NameError",
     "evalue": "name 'myl1' is not defined",
     "output_type": "error",
     "traceback": [
      "\u001b[1;31m---------------------------------------------------------------------------\u001b[0m",
      "\u001b[1;31mNameError\u001b[0m                                 Traceback (most recent call last)",
      "\u001b[1;32m~\\AppData\\Local\\Temp\\ipykernel_17160\\4170610109.py\u001b[0m in \u001b[0;36m<module>\u001b[1;34m\u001b[0m\n\u001b[1;32m----> 1\u001b[1;33m \u001b[1;32mdel\u001b[0m \u001b[0mmyl1\u001b[0m\u001b[1;33m\u001b[0m\u001b[1;33m\u001b[0m\u001b[0m\n\u001b[0m\u001b[0;32m      2\u001b[0m \u001b[0mmyl1\u001b[0m\u001b[1;33m\u001b[0m\u001b[1;33m\u001b[0m\u001b[0m\n",
      "\u001b[1;31mNameError\u001b[0m: name 'myl1' is not defined"
     ]
    }
   ],
   "source": [
    "del myl1\n",
    "myl1"
   ]
  },
  {
   "cell_type": "code",
   "execution_count": 154,
   "id": "6c0b387e",
   "metadata": {},
   "outputs": [
    {
     "data": {
      "text/plain": [
       "[1, 22, 34, 56]"
      ]
     },
     "execution_count": 154,
     "metadata": {},
     "output_type": "execute_result"
    }
   ],
   "source": [
    "mlist=[1,22,34,56]\n",
    "mlist"
   ]
  },
  {
   "cell_type": "code",
   "execution_count": 155,
   "id": "1936a37d",
   "metadata": {},
   "outputs": [],
   "source": [
    "del mlist"
   ]
  },
  {
   "cell_type": "code",
   "execution_count": 156,
   "id": "68244987",
   "metadata": {},
   "outputs": [
    {
     "ename": "NameError",
     "evalue": "name 'mlist' is not defined",
     "output_type": "error",
     "traceback": [
      "\u001b[1;31m---------------------------------------------------------------------------\u001b[0m",
      "\u001b[1;31mNameError\u001b[0m                                 Traceback (most recent call last)",
      "\u001b[1;32m~\\AppData\\Local\\Temp\\ipykernel_17160\\4256051945.py\u001b[0m in \u001b[0;36m<module>\u001b[1;34m\u001b[0m\n\u001b[1;32m----> 1\u001b[1;33m \u001b[0mprint\u001b[0m\u001b[1;33m(\u001b[0m\u001b[0mmlist\u001b[0m\u001b[1;33m)\u001b[0m\u001b[1;33m\u001b[0m\u001b[1;33m\u001b[0m\u001b[0m\n\u001b[0m",
      "\u001b[1;31mNameError\u001b[0m: name 'mlist' is not defined"
     ]
    }
   ],
   "source": [
    "print(mlist)"
   ]
  },
  {
   "cell_type": "code",
   "execution_count": 162,
   "id": "2a76958c",
   "metadata": {},
   "outputs": [
    {
     "name": "stdout",
     "output_type": "stream",
     "text": [
      "[12, 24]\n"
     ]
    }
   ],
   "source": [
    "mylist=[23,91,12,24,45,67,89,123]\n",
    "mylist1=[]\n",
    "for i in mylist:\n",
    "    if (i%2==0):\n",
    "        mylist1.append(i)\n",
    "print(mylist1)"
   ]
  },
  {
   "cell_type": "code",
   "execution_count": 163,
   "id": "6c9aced1",
   "metadata": {},
   "outputs": [
    {
     "name": "stdout",
     "output_type": "stream",
     "text": [
      "odd num:  [23, 91, 45, 67, 89, 123]\n"
     ]
    }
   ],
   "source": [
    "mylist=[23,91,12,24,45,67,89,123]\n",
    "mylist1=[]\n",
    "for i in mylist:\n",
    "    if i%2!=0:\n",
    "        mylist1.append(i)\n",
    "print(\"odd num: \",mylist1)"
   ]
  },
  {
   "cell_type": "code",
   "execution_count": 172,
   "id": "6bf7f0b2",
   "metadata": {},
   "outputs": [
    {
     "name": "stdout",
     "output_type": "stream",
     "text": [
      "no.9\n",
      "no.5\n",
      "no.6\n",
      "no.3\n",
      "no.2\n",
      "no.1\n",
      "newlist: [9, 5, 6, 3, 2, 1]\n",
      "[1, 2, 3, 6, 5, 9]\n"
     ]
    }
   ],
   "source": [
    "list=[]\n",
    "for i in range(0,6):\n",
    "    n=int(input(\"no.\"))\n",
    "    list.append(n)\n",
    "print(\"newlist:\",list)\n",
    "newlist=list[::-1]\n",
    "print(newlist)"
   ]
  },
  {
   "cell_type": "code",
   "execution_count": 175,
   "id": "3cbe710f",
   "metadata": {},
   "outputs": [
    {
     "name": "stdout",
     "output_type": "stream",
     "text": [
      "num: 6\n",
      "num: 7\n",
      "num: 9\n",
      "num: 4\n",
      "num: 3\n",
      "num: 2\n",
      "[9, 7, 6, 4, 3, 2]\n"
     ]
    }
   ],
   "source": [
    "list=[]\n",
    "for i in range(0,6):\n",
    "    n=int(input(\"num: \"))\n",
    "    list.append(n)\n",
    "    list.sort(reverse=True)\n",
    "print(list)"
   ]
  },
  {
   "cell_type": "code",
   "execution_count": 183,
   "id": "ebad0789",
   "metadata": {},
   "outputs": [
    {
     "name": "stdout",
     "output_type": "stream",
     "text": [
      "[12, 13, 49, 56, 78]\n",
      "None\n",
      "[78, 56, 49, 13, 12]\n"
     ]
    }
   ],
   "source": [
    "new=[]\n",
    "new_l=[12,13,49,56,78]\n",
    "for i in new_l:\n",
    "    new.append(i)\n",
    "print(new)\n",
    "print(new.reverse())   #methgod cannot be displayed\n",
    "print(new)"
   ]
  },
  {
   "cell_type": "code",
   "execution_count": 184,
   "id": "a0ce5664",
   "metadata": {},
   "outputs": [
    {
     "name": "stdout",
     "output_type": "stream",
     "text": [
      "[90, 89, 67, 45, 31, 23]\n",
      "89\n"
     ]
    }
   ],
   "source": [
    "mylist=[23,90,45,67,89,31]\n",
    "mylist.sort(reverse=True)\n",
    "print(mylist)\n",
    "print(mylist[1])"
   ]
  },
  {
   "cell_type": "code",
   "execution_count": 185,
   "id": "fa17be52",
   "metadata": {},
   "outputs": [
    {
     "data": {
      "text/plain": [
       "list"
      ]
     },
     "execution_count": 185,
     "metadata": {},
     "output_type": "execute_result"
    }
   ],
   "source": [
    "type(mylist)"
   ]
  },
  {
   "cell_type": "code",
   "execution_count": null,
   "id": "855766df",
   "metadata": {},
   "outputs": [],
   "source": []
  },
  {
   "cell_type": "code",
   "execution_count": null,
   "id": "cf9ea5c5",
   "metadata": {},
   "outputs": [],
   "source": [
    "# List\n",
    "\n",
    "# It can be created using []\n",
    "# It can store multiple values of different data types\n",
    "# It is an ordered -------- display in same as input given\n",
    "# Elements of list can be accessed using []\n",
    "# It is mutable ------------ Changed/ Modified\n",
    "# It is unhashable ----------        hash()   ------ No consecutive memory allocate in RAM ----- "
   ]
  },
  {
   "cell_type": "code",
   "execution_count": 186,
   "id": "e064ac43",
   "metadata": {},
   "outputs": [],
   "source": [
    "# Tuple \n",
    "\n",
    "# it has created using ()\n",
    "# it can store multiple values of different data type\n",
    "# it has index\n",
    "# it is immutable\n",
    "# it is Hashable\n",
    "# elements of tuple can be accessed using []"
   ]
  },
  {
   "cell_type": "code",
   "execution_count": null,
   "id": "54814f27",
   "metadata": {},
   "outputs": [],
   "source": [
    "# dicitionary {}\n",
    "\n",
    "# it is created key, value pair\n",
    "# syntax\n",
    "# {key1 : value ,key2 :value,key3:value}\n",
    "# between key and value :is used.\n",
    "# it can store mltipule values\n",
    "# key and and values both can have different data type\n",
    "# it is mutable\n",
    "# elements of dicitionary can be accessed using key in []\n",
    "# it is unindex\n"
   ]
  },
  {
   "cell_type": "code",
   "execution_count": null,
   "id": "78b05fe9",
   "metadata": {},
   "outputs": [],
   "source": [
    "# Set\n",
    "\n",
    "# Set is a dictionary without keys.It has only values.\n",
    "# It is created using {}\n",
    "# It is unindexed\n",
    "# It is unordered\n",
    "# It is mutable\n",
    "# It is unhashable"
   ]
  },
  {
   "cell_type": "code",
   "execution_count": null,
   "id": "df5adf8d",
   "metadata": {},
   "outputs": [],
   "source": []
  },
  {
   "cell_type": "code",
   "execution_count": 187,
   "id": "bf4999e5",
   "metadata": {},
   "outputs": [
    {
     "data": {
      "text/plain": [
       "tuple"
      ]
     },
     "execution_count": 187,
     "metadata": {},
     "output_type": "execute_result"
    }
   ],
   "source": [
    "num=(12,23,45,67,89)\n",
    "type(num)"
   ]
  },
  {
   "cell_type": "code",
   "execution_count": 188,
   "id": "2cf5c7e2",
   "metadata": {},
   "outputs": [
    {
     "name": "stdout",
     "output_type": "stream",
     "text": [
      "(12, 67, 89, True, 77.8, 'cake')\n"
     ]
    }
   ],
   "source": [
    "tup=(12,67,89,True,77.8,\"cake\")\n",
    "print(tup)"
   ]
  },
  {
   "cell_type": "code",
   "execution_count": 2,
   "id": "bbec9077",
   "metadata": {},
   "outputs": [
    {
     "data": {
      "text/plain": [
       "'v'"
      ]
     },
     "execution_count": 2,
     "metadata": {},
     "output_type": "execute_result"
    }
   ],
   "source": [
    "#python\n",
    "text=\"I love python\"\n",
    "text[1]\n",
    "text[4]"
   ]
  },
  {
   "cell_type": "code",
   "execution_count": 3,
   "id": "cb9be32c",
   "metadata": {},
   "outputs": [
    {
     "data": {
      "text/plain": [
       "'I love python'"
      ]
     },
     "execution_count": 3,
     "metadata": {},
     "output_type": "execute_result"
    }
   ],
   "source": [
    "# reverse\n",
    "text[::1]"
   ]
  },
  {
   "cell_type": "code",
   "execution_count": 5,
   "id": "6ff4807a",
   "metadata": {},
   "outputs": [
    {
     "data": {
      "text/plain": [
       "'nohtyp evol I'"
      ]
     },
     "execution_count": 5,
     "metadata": {},
     "output_type": "execute_result"
    }
   ],
   "source": [
    "text[::-1]"
   ]
  },
  {
   "cell_type": "code",
   "execution_count": 9,
   "id": "8e8259dc",
   "metadata": {},
   "outputs": [
    {
     "name": "stdout",
     "output_type": "stream",
     "text": [
      "[17, 13, 14, 15, 16, 12]\n"
     ]
    }
   ],
   "source": [
    "# interchanging first & last position\n",
    "def swap(new):\n",
    "    size=len(new)\n",
    "    temp=new[0]\n",
    "    new[0]=new[size-1]\n",
    "    new[size-1]=temp\n",
    "    return new\n",
    "new=[12,13,14,15,16,17]\n",
    "print(swap(new))"
   ]
  },
  {
   "cell_type": "code",
   "execution_count": 10,
   "id": "b9b3f5f4",
   "metadata": {},
   "outputs": [
    {
     "name": "stdout",
     "output_type": "stream",
     "text": [
      "[17, 13, 14, 15, 16, 12]\n"
     ]
    }
   ],
   "source": [
    "def swap(new):\n",
    "    new[0],new[-1]=new[-1],new[0]\n",
    "    return new\n",
    "new=[12,13,14,15,16,17]\n",
    "print(swap(new))"
   ]
  },
  {
   "cell_type": "code",
   "execution_count": 11,
   "id": "a8a40347",
   "metadata": {},
   "outputs": [
    {
     "data": {
      "text/plain": [
       "[80, 67, 58, 34, 90]"
      ]
     },
     "execution_count": 11,
     "metadata": {},
     "output_type": "execute_result"
    }
   ],
   "source": [
    "new=[90,67,58,34,80]\n",
    "swap(new)"
   ]
  },
  {
   "cell_type": "code",
   "execution_count": 20,
   "id": "6b63e957",
   "metadata": {},
   "outputs": [
    {
     "name": "stdout",
     "output_type": "stream",
     "text": [
      "[26, 78, 47, 50, 45, 38]\n"
     ]
    }
   ],
   "source": [
    "def swap(list,p1,p2,p3):\n",
    "    temp=list[p1],list[p2],list[p3]\n",
    "    list[p3],list[p2],list[p1]=temp\n",
    "    return list\n",
    "\n",
    "List=[45,78,47,50,26,38]\n",
    "p1,p2,p3=1,3,5\n",
    "\n",
    "print(swap(List,p1-1,p2-1,p3-1))"
   ]
  },
  {
   "cell_type": "code",
   "execution_count": 24,
   "id": "aa59446e",
   "metadata": {},
   "outputs": [
    {
     "name": "stdout",
     "output_type": "stream",
     "text": [
      "[14, 13, 12, 15]\n"
     ]
    }
   ],
   "source": [
    "# interchange first to third\n",
    "def swap(list,p1,p2):\n",
    "    temp=list[p1]\n",
    "    \n",
    "    list[p1]=list[p2]\n",
    "    list[p2]=temp\n",
    "    \n",
    "    return list\n",
    "list=[12,13,14,15]\n",
    "p1,p2=1,3\n",
    "print(swap(list,p1-1,p2-1))"
   ]
  },
  {
   "cell_type": "code",
   "execution_count": 27,
   "id": "46aae39a",
   "metadata": {},
   "outputs": [
    {
     "name": "stdout",
     "output_type": "stream",
     "text": [
      "multiplication of list a is : 6\n",
      "Multiplication of list b is : 60\n"
     ]
    }
   ],
   "source": [
    "# multiplying the items within the list\n",
    "def mul(list):\n",
    "    count=1\n",
    "    for items in list:\n",
    "        count=count*items\n",
    "    return count\n",
    "\n",
    "a=[1,2,3]\n",
    "b=[3,4,5]\n",
    "print(\"multiplication of list a is :\",mul(a))\n",
    "print(\"Multiplication of list b is :\",mul(b))"
   ]
  },
  {
   "cell_type": "code",
   "execution_count": 28,
   "id": "ddf07ae2",
   "metadata": {},
   "outputs": [
    {
     "data": {
      "text/plain": [
       "3"
      ]
     },
     "execution_count": 28,
     "metadata": {},
     "output_type": "execute_result"
    }
   ],
   "source": [
    "len(a)"
   ]
  },
  {
   "cell_type": "code",
   "execution_count": 29,
   "id": "9eb06251",
   "metadata": {},
   "outputs": [
    {
     "data": {
      "text/plain": [
       "3"
      ]
     },
     "execution_count": 29,
     "metadata": {},
     "output_type": "execute_result"
    }
   ],
   "source": [
    "len(b)"
   ]
  },
  {
   "cell_type": "code",
   "execution_count": 35,
   "id": "1d9b1ae1",
   "metadata": {},
   "outputs": [
    {
     "name": "stdout",
     "output_type": "stream",
     "text": [
      "This is my list\n",
      "Length :  4\n"
     ]
    }
   ],
   "source": [
    "# count the elements in the list\n",
    "List=[1,2,3,4,5,6,7,8]\n",
    "print(\"This is my list\")\n",
    "counter=0\n",
    "for i in list:\n",
    "    counter=counter+1\n",
    "print(\"Length : \",str(counter))\n"
   ]
  },
  {
   "cell_type": "code",
   "execution_count": 38,
   "id": "cbe68f16",
   "metadata": {},
   "outputs": [
    {
     "name": "stdout",
     "output_type": "stream",
     "text": [
      "Length: 4\n",
      "['my', 'name', 'is', 'Anthony']\n"
     ]
    }
   ],
   "source": [
    "# adding elements in a list\n",
    "list=[]\n",
    "list.append(\"my\")\n",
    "list.append(\"name\")\n",
    "list.append(\"is\")\n",
    "list.append(\"Anthony\")\n",
    "print(\"Length:\",len(list))\n",
    "print(list)"
   ]
  },
  {
   "cell_type": "code",
   "execution_count": 39,
   "id": "8af40b1e",
   "metadata": {},
   "outputs": [
    {
     "name": "stdout",
     "output_type": "stream",
     "text": [
      "9\n"
     ]
    }
   ],
   "source": [
    "List=len(\"My python\")\n",
    "print(List)"
   ]
  },
  {
   "cell_type": "code",
   "execution_count": 43,
   "id": "2fc3cf84",
   "metadata": {},
   "outputs": [
    {
     "name": "stdout",
     "output_type": "stream",
     "text": [
      "enter:5\n",
      "element exist\n"
     ]
    }
   ],
   "source": [
    "List=[1,5,6,7,8,9,3]\n",
    "item=int(input(\"enter:\"))\n",
    "if item in List:\n",
    "    print(\"element exist\")\n",
    "else:\n",
    "    print(\"element does not exist\")"
   ]
  },
  {
   "cell_type": "code",
   "execution_count": 49,
   "id": "2a5b4e40",
   "metadata": {},
   "outputs": [
    {
     "name": "stdout",
     "output_type": "stream",
     "text": [
      "element not present\n"
     ]
    }
   ],
   "source": [
    "# heck element is present or not \n",
    "List=[1,8,5,3,2]\n",
    "for i in List:\n",
    "    if(i==45):\n",
    "        print(\"Element\")"
   ]
  },
  {
   "cell_type": "code",
   "execution_count": 50,
   "id": "7c632e94",
   "metadata": {},
   "outputs": [
    {
     "name": "stdout",
     "output_type": "stream",
     "text": [
      "Do not\n"
     ]
    }
   ],
   "source": [
    "list=[1,3,5,7,9]\n",
    "if(41 in list):\n",
    "    print(\"exist\")\n",
    "else:\n",
    "    print(\"Do not\")"
   ]
  },
  {
   "cell_type": "code",
   "execution_count": 53,
   "id": "9aed3ad8",
   "metadata": {},
   "outputs": [
    {
     "name": "stdout",
     "output_type": "stream",
     "text": [
      "Before : [2, 4, 5, 7, 8, 9, 1]\n",
      "After : []\n"
     ]
    }
   ],
   "source": [
    "# clearing a list\n",
    "\n",
    "List=[2,4,5,7,8,9,1]\n",
    "print(\"Before :\",List)\n",
    "\n",
    "List.clear()\n",
    "print(\"After :\",List)"
   ]
  },
  {
   "cell_type": "code",
   "execution_count": 54,
   "id": "4b616017",
   "metadata": {},
   "outputs": [
    {
     "name": "stdout",
     "output_type": "stream",
     "text": [
      "[]\n"
     ]
    }
   ],
   "source": [
    "List=[]\n",
    "print(List)"
   ]
  },
  {
   "cell_type": "code",
   "execution_count": 55,
   "id": "d76bd488",
   "metadata": {},
   "outputs": [
    {
     "data": {
      "text/plain": [
       "[3, 6, 4, 7, 9, 2]"
      ]
     },
     "execution_count": 55,
     "metadata": {},
     "output_type": "execute_result"
    }
   ],
   "source": [
    "# reversing a list\n",
    "\n",
    "List=[2,9,7,4,6,3]\n",
    "List[::-1]"
   ]
  },
  {
   "cell_type": "code",
   "execution_count": 56,
   "id": "e9bca41c",
   "metadata": {},
   "outputs": [
    {
     "name": "stdout",
     "output_type": "stream",
     "text": [
      "[3, 6, 4, 7, 9, 2]\n"
     ]
    }
   ],
   "source": [
    "List=[2,9,7,4,6,3]\n",
    "List.reverse()\n",
    "print(List)"
   ]
  },
  {
   "cell_type": "code",
   "execution_count": 61,
   "id": "316345e2",
   "metadata": {},
   "outputs": [
    {
     "name": "stdout",
     "output_type": "stream",
     "text": [
      "[3, 6, 4, 7, 9, 2]\n"
     ]
    }
   ],
   "source": [
    "# using insert function \n",
    "List=[2,9,7,4,6,3]\n",
    "L=[]\n",
    "for i in List:\n",
    "    L.insert(0,i)\n",
    "print(L)"
   ]
  },
  {
   "cell_type": "code",
   "execution_count": 67,
   "id": "87f829b7",
   "metadata": {},
   "outputs": [
    {
     "data": {
      "text/plain": [
       "[2, 9, 7, 4, 6, 3]"
      ]
     },
     "execution_count": 67,
     "metadata": {},
     "output_type": "execute_result"
    }
   ],
   "source": [
    "List=[2,9,7,4,6,3]\n",
    "L=List.copy()\n",
    "L"
   ]
  },
  {
   "cell_type": "code",
   "execution_count": 68,
   "id": "53e0a837",
   "metadata": {},
   "outputs": [
    {
     "name": "stdout",
     "output_type": "stream",
     "text": [
      "[0, 8, 7, 5, 3, 1]\n"
     ]
    }
   ],
   "source": [
    "def rev(list):\n",
    "    new=list[::-1]\n",
    "    return new\n",
    "list=[1,3,5,7,8,0]\n",
    "print(rev(list))"
   ]
  },
  {
   "cell_type": "code",
   "execution_count": 69,
   "id": "6b7f7ef4",
   "metadata": {},
   "outputs": [
    {
     "data": {
      "text/plain": [
       "2"
      ]
     },
     "execution_count": 69,
     "metadata": {},
     "output_type": "execute_result"
    }
   ],
   "source": [
    "List=[2,9,7,4,6,3]\n",
    "List.sort()\n",
    "List[0]"
   ]
  },
  {
   "cell_type": "code",
   "execution_count": 72,
   "id": "e7e8ee57",
   "metadata": {},
   "outputs": [
    {
     "name": "stdout",
     "output_type": "stream",
     "text": [
      "Length : [11, 12, 13, 15, 16, 17, 19]\n"
     ]
    }
   ],
   "source": [
    "def sort(List):\n",
    "    List.sort()\n",
    "    return List\n",
    "    \n",
    "List=[11,12,13,19,15,16,17]\n",
    "print(\"Length :\",sort(List))"
   ]
  },
  {
   "cell_type": "code",
   "execution_count": 73,
   "id": "a438f505",
   "metadata": {},
   "outputs": [
    {
     "data": {
      "text/plain": [
       "6"
      ]
     },
     "execution_count": 73,
     "metadata": {},
     "output_type": "execute_result"
    }
   ],
   "source": [
    "# Smallest in the List - Using sort()\n",
    "List=[2,9,7,4,6,3]\n",
    "List.sort()\n",
    "List[3]"
   ]
  },
  {
   "cell_type": "code",
   "execution_count": 75,
   "id": "dc357189",
   "metadata": {},
   "outputs": [
    {
     "name": "stdout",
     "output_type": "stream",
     "text": [
      "[9, 7, 6, 4, 3, 2]\n"
     ]
    },
    {
     "data": {
      "text/plain": [
       "4"
      ]
     },
     "execution_count": 75,
     "metadata": {},
     "output_type": "execute_result"
    }
   ],
   "source": [
    "#  Smallest in the list - using reverse(from last)\n",
    "\n",
    "List=[2,9,7,4,6,3]\n",
    "List.sort(reverse=True)\n",
    "print(List)\n",
    "List[3]"
   ]
  },
  {
   "cell_type": "code",
   "execution_count": 77,
   "id": "ad27a175",
   "metadata": {},
   "outputs": [
    {
     "name": "stdout",
     "output_type": "stream",
     "text": [
      "2\n"
     ]
    }
   ],
   "source": [
    "#  Smallest in the list\n",
    "\n",
    "List=[2,9,7,4,6,3]\n",
    "print(min(List))"
   ]
  },
  {
   "cell_type": "code",
   "execution_count": 85,
   "id": "618b6dfd",
   "metadata": {},
   "outputs": [
    {
     "name": "stdout",
     "output_type": "stream",
     "text": [
      "ENter thye numbers yopu want in list :4\n",
      "Number in series: 12\n",
      "Number in series: 34\n",
      "Number in series: 56\n",
      "Number in series: 78\n",
      "[12, 34, 56, 78]\n",
      "12\n",
      "12\n",
      "34\n",
      "56\n",
      "78\n"
     ]
    }
   ],
   "source": [
    "List=[]\n",
    "n=int(input(\"ENter thye numbers yopu want in list :\"))\n",
    "for i in range(1,n+1):\n",
    "    E=int(input(\"Number in series: \"))\n",
    "    List.append(E)\n",
    "    \n",
    "print(List)\n",
    "print(min(List))\n",
    "for i in List:\n",
    "    print(i)"
   ]
  },
  {
   "cell_type": "code",
   "execution_count": 86,
   "id": "5a553095",
   "metadata": {},
   "outputs": [
    {
     "name": "stdout",
     "output_type": "stream",
     "text": [
      "15\n"
     ]
    }
   ],
   "source": [
    "#  Largest in the List\n",
    "\n",
    "List=[11,12,13,14,15]\n",
    "print(max(List))"
   ]
  },
  {
   "cell_type": "code",
   "execution_count": 88,
   "id": "53421ba2",
   "metadata": {},
   "outputs": [
    {
     "name": "stdout",
     "output_type": "stream",
     "text": [
      "List: 5\n",
      "Enter the element : 0\n",
      "Enter the element : 4\n",
      "Enter the element : 9\n",
      "Enter the element : 6\n",
      "Enter the element : 1\n",
      "Greatest element:  9\n"
     ]
    }
   ],
   "source": [
    "List=[]\n",
    "n=int(input(\"List: \"))\n",
    "for i in range(1,n+1):\n",
    "    i=int(input(\"Enter the element : \"))\n",
    "    List.append(i)\n",
    "print(\"Greatest element: \",max(List))"
   ]
  },
  {
   "cell_type": "code",
   "execution_count": 89,
   "id": "fd79bf96",
   "metadata": {},
   "outputs": [
    {
     "name": "stdout",
     "output_type": "stream",
     "text": [
      "17\n"
     ]
    }
   ],
   "source": [
    "def maxi(List):\n",
    "    temp=List[0]\n",
    "    for x in List:\n",
    "        if x>temp:\n",
    "            temp=x\n",
    "    return temp\n",
    "List=[12,13,14,15,16,17]\n",
    "print(maxi(List))"
   ]
  },
  {
   "cell_type": "code",
   "execution_count": 91,
   "id": "2b0a117c",
   "metadata": {},
   "outputs": [
    {
     "name": "stdout",
     "output_type": "stream",
     "text": [
      "11\n"
     ]
    }
   ],
   "source": [
    "List=[10,12,13,15,17,11]\n",
    "List.sort(reverse=True)\n",
    "print(List[-2])"
   ]
  },
  {
   "cell_type": "code",
   "execution_count": 94,
   "id": "453023ae",
   "metadata": {},
   "outputs": [
    {
     "data": {
      "text/plain": [
       "78"
      ]
     },
     "execution_count": 94,
     "metadata": {},
     "output_type": "execute_result"
    }
   ],
   "source": [
    "#  Python program to find second Largest\n",
    "List=[10,2,42,56,78,98]\n",
    "List.sort(reverse=True)\n",
    "List[1]"
   ]
  },
  {
   "cell_type": "code",
   "execution_count": 96,
   "id": "8f23820e",
   "metadata": {},
   "outputs": [
    {
     "name": "stdout",
     "output_type": "stream",
     "text": [
      "9\n"
     ]
    }
   ],
   "source": [
    "# print 'n' largest no in the list\n",
    "List=[2,5,6,8,9]\n",
    "List.sort()\n",
    "print(List[4])"
   ]
  },
  {
   "cell_type": "code",
   "execution_count": 101,
   "id": "244d07c9",
   "metadata": {},
   "outputs": [
    {
     "name": "stdout",
     "output_type": "stream",
     "text": [
      "31\n",
      "is odd\n",
      "34\n",
      "is even\n",
      "56\n",
      "is even\n",
      "87\n",
      "is odd\n",
      "90\n",
      "is even\n",
      "24\n",
      "is even\n"
     ]
    }
   ],
   "source": [
    "#  Even \n",
    "List=[31,34,56,87,90,24]\n",
    "for i in List:\n",
    "    if i%2==0:\n",
    "        print(i,sep=\",\")\n",
    "        print(\"is even\")\n",
    "    else:\n",
    "        print(i,sep=\",\")\n",
    "        print(\"is odd\")"
   ]
  },
  {
   "cell_type": "code",
   "execution_count": 107,
   "id": "e624c5d6",
   "metadata": {},
   "outputs": [
    {
     "name": "stdout",
     "output_type": "stream",
     "text": [
      "91 is odd\n"
     ]
    }
   ],
   "source": [
    "List=[12,34,56,78,91]\n",
    "for i in List:\n",
    "    if i%2!=0:\n",
    "        print(i,\"is odd\")"
   ]
  },
  {
   "cell_type": "code",
   "execution_count": 108,
   "id": "fe4b76f0",
   "metadata": {},
   "outputs": [
    {
     "name": "stdout",
     "output_type": "stream",
     "text": [
      "31 odd\n",
      "56 even\n",
      "87 odd\n",
      "9 odd\n",
      "23 odd\n",
      "44 even\n"
     ]
    }
   ],
   "source": [
    "# Odd\n",
    "List=[31,56,87,9,23,44]\n",
    "for i in List:\n",
    "    if i%2!=0:\n",
    "        print(i,\"odd\")\n",
    "    else:\n",
    "        print(i,\"even\")"
   ]
  },
  {
   "cell_type": "code",
   "execution_count": 109,
   "id": "c422a034",
   "metadata": {},
   "outputs": [
    {
     "name": "stdout",
     "output_type": "stream",
     "text": [
      "56 even\n",
      "44 even\n"
     ]
    }
   ],
   "source": [
    "List=[31,56,87,9,23,44]\n",
    "for i in List:\n",
    "    if i%2!=0:\n",
    "        pass\n",
    "    else:\n",
    "        print(i,\"even\")"
   ]
  },
  {
   "cell_type": "code",
   "execution_count": 114,
   "id": "f7f5b263",
   "metadata": {},
   "outputs": [
    {
     "name": "stdout",
     "output_type": "stream",
     "text": [
      "Number : 5\n",
      "Number : 10\n",
      "6\n",
      "8\n",
      "10\n"
     ]
    }
   ],
   "source": [
    "s=int(input(\"Number : \"))\n",
    "e=int(input(\"Number : \"))\n",
    "for i in range(s,e+1):\n",
    "    if i%2==0:\n",
    "        print(i,sep=\"\")"
   ]
  },
  {
   "cell_type": "code",
   "execution_count": 116,
   "id": "141c00ff",
   "metadata": {},
   "outputs": [
    {
     "name": "stdout",
     "output_type": "stream",
     "text": [
      "Number : 3\n",
      "Number : 10\n",
      "3\n",
      "5\n",
      "7\n",
      "9\n"
     ]
    }
   ],
   "source": [
    "s=int(input(\"Number : \"))\n",
    "e=int(input(\"Number : \"))\n",
    "for i in range(s,e+1):\n",
    "    if i%2!=0:\n",
    "        print(i,sep=\"\")"
   ]
  },
  {
   "cell_type": "code",
   "execution_count": 118,
   "id": "b9e9cc20",
   "metadata": {},
   "outputs": [
    {
     "name": "stdout",
     "output_type": "stream",
     "text": [
      "enter : 45\n",
      "45 is even\n",
      "None\n"
     ]
    }
   ],
   "source": [
    "#  USing odd function\n",
    "\n",
    "def odd(n):\n",
    "    if n%2==0:\n",
    "        print(n,\"is odd\")\n",
    "    else:\n",
    "        print(n,\"is even\")\n",
    "n=int(input(\"enter : \"))\n",
    "print(odd(n))"
   ]
  },
  {
   "cell_type": "code",
   "execution_count": 121,
   "id": "573e1b7b",
   "metadata": {},
   "outputs": [
    {
     "name": "stdout",
     "output_type": "stream",
     "text": [
      "29 positive num\n",
      "56 positive num\n",
      "78 positive num\n",
      "70 positive num\n"
     ]
    }
   ],
   "source": [
    "List=[29,-34,56,78,70]\n",
    "for i in List:\n",
    "    if i<=0:\n",
    "        pass\n",
    "    else:\n",
    "        print(i,\"positive num\")\n"
   ]
  },
  {
   "cell_type": "code",
   "execution_count": 123,
   "id": "d22ced7c",
   "metadata": {},
   "outputs": [
    {
     "name": "stdout",
     "output_type": "stream",
     "text": [
      "[23, 67, 78]\n"
     ]
    }
   ],
   "source": [
    "#  Positive integers in a list\n",
    "List=[23,-45,67,78]\n",
    "p=[n for n in List if n>=0]\n",
    "print(p)"
   ]
  },
  {
   "cell_type": "code",
   "execution_count": 125,
   "id": "9e4c6f0e",
   "metadata": {},
   "outputs": [
    {
     "name": "stdout",
     "output_type": "stream",
     "text": [
      "Enter : 4\n",
      "Enter : 10\n",
      "4 positive: \n",
      "4\n",
      "5 positive: \n",
      "5\n",
      "6 positive: \n",
      "6\n",
      "7 positive: \n",
      "7\n",
      "8 positive: \n",
      "8\n",
      "9 positive: \n",
      "9\n",
      "10 positive: \n",
      "10\n"
     ]
    }
   ],
   "source": [
    "#  print positive number in List\n",
    "s=int(input(\"Enter : \"))\n",
    "e=int(input(\"Enter : \"))\n",
    "for n in range(s,e+1):\n",
    "    if n>=0:\n",
    "        print(n,\"positive: \")\n",
    "        print(n,sep=\"\")"
   ]
  },
  {
   "cell_type": "code",
   "execution_count": 128,
   "id": "50813ad0",
   "metadata": {},
   "outputs": [
    {
     "name": "stdout",
     "output_type": "stream",
     "text": [
      "12 pos\n",
      "13 pos\n",
      "14 pos\n",
      "15 pos\n",
      "16 pos\n"
     ]
    }
   ],
   "source": [
    "#  Negative numbers in a list\n",
    "List=[12,13,14,15,16,-1]\n",
    "for i in List:\n",
    "    if i<0:\n",
    "        pass\n",
    "    else:\n",
    "        print(i,\"pos\")"
   ]
  },
  {
   "cell_type": "code",
   "execution_count": 2,
   "id": "def6cb3a",
   "metadata": {},
   "outputs": [
    {
     "name": "stdout",
     "output_type": "stream",
     "text": [
      "-2 negative\n",
      "30 pos\n",
      "56 pos\n",
      "-9 negative\n"
     ]
    }
   ],
   "source": [
    "def List(n):\n",
    "    for n in list:\n",
    "        if (n<0):\n",
    "            print(n,\"negative\")\n",
    "        elif n==0:\n",
    "            print(n,\"0\")\n",
    "        else:\n",
    "            print(n,\"pos\")\n",
    "\n",
    "list=[-2,30,56,-9]\n",
    "List(list)"
   ]
  },
  {
   "cell_type": "code",
   "execution_count": 5,
   "id": "219f3d45",
   "metadata": {},
   "outputs": [
    {
     "name": "stdout",
     "output_type": "stream",
     "text": [
      "Negative :  [-12]\n"
     ]
    }
   ],
   "source": [
    "# negative numbers in a list\n",
    "L=[11,-12,13,14,15,16]\n",
    "neg=[n for n in L if n<0]\n",
    "print(\"Negative : \",neg)"
   ]
  },
  {
   "cell_type": "code",
   "execution_count": 12,
   "id": "32db4401",
   "metadata": {},
   "outputs": [
    {
     "name": "stdout",
     "output_type": "stream",
     "text": [
      "start: -3\n",
      "end: 3\n",
      "[-3, -2, -1]\n"
     ]
    }
   ],
   "source": [
    "# <!-- \\ print negative numbers in range -->\n",
    "List=[]\n",
    "s=int(input(\"start: \"))\n",
    "e=int(input(\"end: \"))\n",
    "for n in range(s,e+1):\n",
    "    if n<0:\n",
    "        List.append(n)\n",
    "print(List)\n",
    "        "
   ]
  },
  {
   "cell_type": "code",
   "execution_count": 23,
   "id": "8796b1b8",
   "metadata": {},
   "outputs": [
    {
     "name": "stdout",
     "output_type": "stream",
     "text": [
      "New List : [11, 13, 15]\n"
     ]
    }
   ],
   "source": [
    "# removing even numbers\n",
    "List=[11,12,13,14,15]\n",
    "for i in List:\n",
    "    if i%2==0:\n",
    "        List.remove(i)\n",
    "print(\"New List :\",List)"
   ]
  },
  {
   "cell_type": "code",
   "execution_count": 26,
   "id": "6a289e47",
   "metadata": {},
   "outputs": [
    {
     "name": "stdout",
     "output_type": "stream",
     "text": [
      "New List :  [14, 16]\n"
     ]
    }
   ],
   "source": [
    "List=[11,14,15,16,17]\n",
    "for i in List:\n",
    "    if i%2!=0:\n",
    "        List.remove(i)\n",
    "print(\"New List : \",List)"
   ]
  },
  {
   "cell_type": "code",
   "execution_count": 29,
   "id": "e65be7e9",
   "metadata": {},
   "outputs": [
    {
     "name": "stdout",
     "output_type": "stream",
     "text": [
      "[11, 13, 15]\n"
     ]
    }
   ],
   "source": [
    "# Removing odd numbers\n",
    "List=[11,12,13,14,15,16]\n",
    "x=[i for i in List if i%2!=0]\n",
    "print(x)                         # add '*' before list to remove sq brackets"
   ]
  },
  {
   "cell_type": "code",
   "execution_count": 30,
   "id": "0efe04f4",
   "metadata": {},
   "outputs": [
    {
     "name": "stdout",
     "output_type": "stream",
     "text": [
      "[11, 14, 15, 16]\n"
     ]
    }
   ],
   "source": [
    "# Using slicing method - Deleteing the elements in giving range\n",
    "List=[11,12,13,14,15,16]\n",
    "del List[1:3]\n",
    "print(List)              # ( ) not compulsory"
   ]
  },
  {
   "cell_type": "code",
   "execution_count": 31,
   "id": "9b800f03",
   "metadata": {},
   "outputs": [
    {
     "data": {
      "text/plain": [
       "[11, 12, 13, 15]"
      ]
     },
     "execution_count": 31,
     "metadata": {},
     "output_type": "execute_result"
    }
   ],
   "source": [
    "# List comprehension for removing elements from the List\n",
    "\n",
    "List=[11,12,13,14,15,16]\n",
    "remove=(14,16)\n",
    "List=[E for E in List if E not in remove]\n",
    "List"
   ]
  },
  {
   "cell_type": "code",
   "execution_count": 43,
   "id": "98cc29bb",
   "metadata": {
    "scrolled": true
   },
   "outputs": [
    {
     "ename": "IndexError",
     "evalue": "list assignment index out of range",
     "output_type": "error",
     "traceback": [
      "\u001b[1;31m---------------------------------------------------------------------------\u001b[0m",
      "\u001b[1;31mIndexError\u001b[0m                                Traceback (most recent call last)",
      "\u001b[1;32m~\\AppData\\Local\\Temp\\ipykernel_11916\\2176831242.py\u001b[0m in \u001b[0;36m<module>\u001b[1;34m\u001b[0m\n\u001b[0;32m      2\u001b[0m \u001b[0mdelete\u001b[0m\u001b[1;33m=\u001b[0m\u001b[1;33m[\u001b[0m\u001b[1;36m1\u001b[0m\u001b[1;33m,\u001b[0m\u001b[1;36m3\u001b[0m\u001b[1;33m]\u001b[0m\u001b[1;33m\u001b[0m\u001b[1;33m\u001b[0m\u001b[0m\n\u001b[0;32m      3\u001b[0m \u001b[1;32mfor\u001b[0m \u001b[0mi\u001b[0m \u001b[1;32min\u001b[0m \u001b[0msorted\u001b[0m\u001b[1;33m(\u001b[0m\u001b[0mdelete\u001b[0m\u001b[1;33m,\u001b[0m\u001b[0mreverse\u001b[0m\u001b[1;33m=\u001b[0m\u001b[1;32mTrue\u001b[0m\u001b[1;33m)\u001b[0m\u001b[1;33m:\u001b[0m\u001b[1;33m\u001b[0m\u001b[1;33m\u001b[0m\u001b[0m\n\u001b[1;32m----> 4\u001b[1;33m     \u001b[1;32mdel\u001b[0m \u001b[0mlist\u001b[0m\u001b[1;33m[\u001b[0m\u001b[0mi\u001b[0m\u001b[1;33m]\u001b[0m\u001b[1;33m\u001b[0m\u001b[1;33m\u001b[0m\u001b[0m\n\u001b[0m\u001b[0;32m      5\u001b[0m \u001b[0mprint\u001b[0m\u001b[1;33m(\u001b[0m\u001b[0mList\u001b[0m\u001b[1;33m)\u001b[0m\u001b[1;33m\u001b[0m\u001b[1;33m\u001b[0m\u001b[0m\n",
      "\u001b[1;31mIndexError\u001b[0m: list assignment index out of range"
     ]
    }
   ],
   "source": [
    "List=[91,12,13,14,15,16]\n",
    "delete=[1,3]\n",
    "for i in sorted(delete,reverse=True):\n",
    "    del list[i]\n",
    "print(List)"
   ]
  },
  {
   "cell_type": "code",
   "execution_count": 46,
   "id": "0b9b65a2",
   "metadata": {},
   "outputs": [
    {
     "name": "stdout",
     "output_type": "stream",
     "text": [
      "[11, 56, 23]\n"
     ]
    }
   ],
   "source": [
    "#  removing elements from the list\n",
    "\n",
    "List=[11,12,56,78,23]\n",
    "delete=[1,3]\n",
    "for i in sorted(delete,reverse=True):\n",
    "    del List[i]\n",
    "print(List)"
   ]
  },
  {
   "cell_type": "code",
   "execution_count": 48,
   "id": "c25e7bb5",
   "metadata": {},
   "outputs": [
    {
     "data": {
      "text/plain": [
       "[11, 45, 78, 90, 23, 67]"
      ]
     },
     "execution_count": 48,
     "metadata": {},
     "output_type": "execute_result"
    }
   ],
   "source": [
    "#  removing list from list\n",
    "\n",
    "List=[11,45,78,[],90,23,67,[]]\n",
    "rem=[i for i in List if i!=[]]\n",
    "rem"
   ]
  },
  {
   "cell_type": "code",
   "execution_count": 51,
   "id": "3fa8ea32",
   "metadata": {},
   "outputs": [
    {
     "name": "stdout",
     "output_type": "stream",
     "text": [
      "11 67 89 34 56\n"
     ]
    }
   ],
   "source": [
    "#  removing list elements by using filter - method\n",
    "\n",
    "List=[11,67,89,[],34,56,[]]\n",
    "r=filter(None,List)\n",
    "print(*r)"
   ]
  },
  {
   "cell_type": "code",
   "execution_count": 54,
   "id": "4a4bbfc0",
   "metadata": {},
   "outputs": [
    {
     "ename": "NameError",
     "evalue": "name 'cloning' is not defined",
     "output_type": "error",
     "traceback": [
      "\u001b[1;31m---------------------------------------------------------------------------\u001b[0m",
      "\u001b[1;31mNameError\u001b[0m                                 Traceback (most recent call last)",
      "\u001b[1;32m~\\AppData\\Local\\Temp\\ipykernel_11916\\1176650825.py\u001b[0m in \u001b[0;36m<module>\u001b[1;34m\u001b[0m\n\u001b[0;32m      1\u001b[0m \u001b[1;31m#  Cloning of the List\u001b[0m\u001b[1;33m\u001b[0m\u001b[1;33m\u001b[0m\u001b[0m\n\u001b[0;32m      2\u001b[0m \u001b[0ml1\u001b[0m\u001b[1;33m=\u001b[0m\u001b[1;33m[\u001b[0m\u001b[1;36m80\u001b[0m\u001b[1;33m,\u001b[0m\u001b[1;36m33\u001b[0m\u001b[1;33m,\u001b[0m\u001b[1;36m45\u001b[0m\u001b[1;33m,\u001b[0m\u001b[1;36m67\u001b[0m\u001b[1;33m,\u001b[0m\u001b[1;36m13\u001b[0m\u001b[1;33m,\u001b[0m\u001b[1;36m60\u001b[0m\u001b[1;33m]\u001b[0m\u001b[1;33m\u001b[0m\u001b[1;33m\u001b[0m\u001b[0m\n\u001b[1;32m----> 3\u001b[1;33m \u001b[0ml2\u001b[0m\u001b[1;33m=\u001b[0m\u001b[0mcloning\u001b[0m\u001b[1;33m(\u001b[0m\u001b[0ml1\u001b[0m\u001b[1;33m)\u001b[0m\u001b[1;33m\u001b[0m\u001b[1;33m\u001b[0m\u001b[0m\n\u001b[0m\u001b[0;32m      4\u001b[0m \u001b[0mprint\u001b[0m\u001b[1;33m(\u001b[0m\u001b[1;34m\"After : \"\u001b[0m\u001b[1;33m,\u001b[0m\u001b[0ml2\u001b[0m\u001b[1;33m)\u001b[0m\u001b[1;33m\u001b[0m\u001b[1;33m\u001b[0m\u001b[0m\n",
      "\u001b[1;31mNameError\u001b[0m: name 'cloning' is not defined"
     ]
    }
   ],
   "source": [
    "#  Cloning of the List\n",
    "l1=[80,33,45,67,13,60]\n",
    "l2=cloning(l1)\n",
    "print(\"After : \",l2)"
   ]
  },
  {
   "cell_type": "code",
   "execution_count": 55,
   "id": "cb29c2ef",
   "metadata": {},
   "outputs": [
    {
     "name": "stdout",
     "output_type": "stream",
     "text": [
      "[11, 12, 13, 14, 15, 16]\n"
     ]
    }
   ],
   "source": [
    "#  Copying\n",
    "List=[11,12,13,14,15,16]\n",
    "l1=List.copy()\n",
    "print(l1)"
   ]
  },
  {
   "cell_type": "code",
   "execution_count": 61,
   "id": "057711ab",
   "metadata": {},
   "outputs": [
    {
     "name": "stdout",
     "output_type": "stream",
     "text": [
      "[11, 12, 13, 14, 15, 16]\n"
     ]
    }
   ],
   "source": [
    "def cloning(l1):\n",
    "    new=[i for i in l1]\n",
    "    return new\n",
    "l1=[11,12,13,14,15,16]\n",
    "l2=l1.copy()\n",
    "print(l2)"
   ]
  },
  {
   "cell_type": "code",
   "execution_count": 59,
   "id": "5e5c5269",
   "metadata": {},
   "outputs": [
    {
     "data": {
      "text/plain": [
       "2"
      ]
     },
     "execution_count": 59,
     "metadata": {},
     "output_type": "execute_result"
    }
   ],
   "source": [
    "List=[11,12,11,14,15,16]\n",
    "List.count(11)"
   ]
  },
  {
   "cell_type": "code",
   "execution_count": 65,
   "id": "292f8ab9",
   "metadata": {},
   "outputs": [
    {
     "name": "stdout",
     "output_type": "stream",
     "text": [
      "Enter : 11\n",
      "11 2 times\n"
     ]
    }
   ],
   "source": [
    "#  Count occurence of an element\n",
    "List=[11,12,11,14,15,16]\n",
    "e=int(input(\"Enter : \"))\n",
    "x=[i for i in List if i==e]\n",
    "print(e,len(x),\"times\")"
   ]
  },
  {
   "cell_type": "code",
   "execution_count": 76,
   "id": "af2d3536",
   "metadata": {},
   "outputs": [
    {
     "name": "stdout",
     "output_type": "stream",
     "text": [
      "['23', 'ram', 'aniket']\n"
     ]
    }
   ],
   "source": [
    "# remove tuple\n",
    "def rem(tup):\n",
    "    for i in tup:\n",
    "        if (len(i)==0):\n",
    "            tup.remove(i)\n",
    "    return tup\n",
    "tup=[('23'),(),('ram'),(),('aniket')]\n",
    "print(rem(tup))\n",
    "            "
   ]
  },
  {
   "cell_type": "code",
   "execution_count": 79,
   "id": "96f81ad3",
   "metadata": {},
   "outputs": [
    {
     "name": "stdout",
     "output_type": "stream",
     "text": [
      "[7, 8]\n"
     ]
    }
   ],
   "source": [
    "#  Program to print duplicate numbers in a given list\n",
    "List=[1,3,4,5,6,7,7,8,8,9]\n",
    "new=[]\n",
    "for a in List:\n",
    "    n=List.count(a)\n",
    "    if n>1:\n",
    "        if new.count(a)==0:\n",
    "            new.append(a)\n",
    "print(new)"
   ]
  },
  {
   "cell_type": "code",
   "execution_count": 85,
   "id": "8f2e1bb1",
   "metadata": {},
   "outputs": [
    {
     "data": {
      "text/plain": [
       "[1, 2, 3, 4, 5, 6, 7, 8]"
      ]
     },
     "execution_count": 85,
     "metadata": {},
     "output_type": "execute_result"
    }
   ],
   "source": [
    "# List\n",
    "x=[1,2,3,4,5,6,7,8]\n",
    "x"
   ]
  },
  {
   "cell_type": "code",
   "execution_count": 86,
   "id": "77ad7c76",
   "metadata": {},
   "outputs": [
    {
     "data": {
      "text/plain": [
       "list"
      ]
     },
     "execution_count": 86,
     "metadata": {},
     "output_type": "execute_result"
    }
   ],
   "source": [
    "type(x)"
   ]
  },
  {
   "cell_type": "code",
   "execution_count": 91,
   "id": "5efb13a8",
   "metadata": {},
   "outputs": [
    {
     "data": {
      "text/plain": [
       "['azita', 'ankita', 'renuka', 'sumit']"
      ]
     },
     "execution_count": 91,
     "metadata": {},
     "output_type": "execute_result"
    }
   ],
   "source": [
    "x=['azita','ankita','renuka','sumit']\n",
    "x"
   ]
  },
  {
   "cell_type": "code",
   "execution_count": 92,
   "id": "1d33e543",
   "metadata": {},
   "outputs": [
    {
     "data": {
      "text/plain": [
       "'sumit'"
      ]
     },
     "execution_count": 92,
     "metadata": {},
     "output_type": "execute_result"
    }
   ],
   "source": [
    "max(x)"
   ]
  },
  {
   "cell_type": "code",
   "execution_count": 93,
   "id": "e6cd8796",
   "metadata": {},
   "outputs": [
    {
     "data": {
      "text/plain": [
       "'ankita'"
      ]
     },
     "execution_count": 93,
     "metadata": {},
     "output_type": "execute_result"
    }
   ],
   "source": [
    "min(x)"
   ]
  },
  {
   "cell_type": "code",
   "execution_count": 102,
   "id": "0d894015",
   "metadata": {},
   "outputs": [
    {
     "data": {
      "text/plain": [
       "' '"
      ]
     },
     "execution_count": 102,
     "metadata": {},
     "output_type": "execute_result"
    }
   ],
   "source": [
    "# List\n",
    "text='Ilive Python'\n",
    "text[5]"
   ]
  },
  {
   "cell_type": "code",
   "execution_count": 95,
   "id": "38acc7e8",
   "metadata": {},
   "outputs": [
    {
     "data": {
      "text/plain": [
       "'n'"
      ]
     },
     "execution_count": 95,
     "metadata": {},
     "output_type": "execute_result"
    }
   ],
   "source": [
    "text[-1]"
   ]
  },
  {
   "cell_type": "code",
   "execution_count": 96,
   "id": "039a1a1c",
   "metadata": {},
   "outputs": [
    {
     "data": {
      "text/plain": [
       "' liv'"
      ]
     },
     "execution_count": 96,
     "metadata": {},
     "output_type": "execute_result"
    }
   ],
   "source": [
    "text[1:5]"
   ]
  },
  {
   "cell_type": "code",
   "execution_count": 97,
   "id": "aeaf922c",
   "metadata": {},
   "outputs": [
    {
     "data": {
      "text/plain": [
       "''"
      ]
     },
     "execution_count": 97,
     "metadata": {},
     "output_type": "execute_result"
    }
   ],
   "source": [
    "text[-1:3]"
   ]
  },
  {
   "cell_type": "code",
   "execution_count": 103,
   "id": "84bfb4f5",
   "metadata": {},
   "outputs": [
    {
     "data": {
      "text/plain": [
       "'lv '"
      ]
     },
     "execution_count": 103,
     "metadata": {},
     "output_type": "execute_result"
    }
   ],
   "source": [
    "text[1:6:2]"
   ]
  },
  {
   "cell_type": "code",
   "execution_count": 104,
   "id": "89ca3989",
   "metadata": {},
   "outputs": [
    {
     "data": {
      "text/plain": [
       "'tho'"
      ]
     },
     "execution_count": 104,
     "metadata": {},
     "output_type": "execute_result"
    }
   ],
   "source": [
    "text[-4:-1]"
   ]
  },
  {
   "cell_type": "code",
   "execution_count": 105,
   "id": "572306f1",
   "metadata": {},
   "outputs": [
    {
     "data": {
      "text/plain": [
       "'nohtyP evilI'"
      ]
     },
     "execution_count": 105,
     "metadata": {},
     "output_type": "execute_result"
    }
   ],
   "source": [
    "text[::-1]"
   ]
  },
  {
   "cell_type": "code",
   "execution_count": 106,
   "id": "e3a2c6b7",
   "metadata": {},
   "outputs": [
    {
     "data": {
      "text/plain": [
       "['__add__',\n",
       " '__class__',\n",
       " '__contains__',\n",
       " '__delattr__',\n",
       " '__dir__',\n",
       " '__doc__',\n",
       " '__eq__',\n",
       " '__format__',\n",
       " '__ge__',\n",
       " '__getattribute__',\n",
       " '__getitem__',\n",
       " '__getnewargs__',\n",
       " '__gt__',\n",
       " '__hash__',\n",
       " '__init__',\n",
       " '__init_subclass__',\n",
       " '__iter__',\n",
       " '__le__',\n",
       " '__len__',\n",
       " '__lt__',\n",
       " '__mod__',\n",
       " '__mul__',\n",
       " '__ne__',\n",
       " '__new__',\n",
       " '__reduce__',\n",
       " '__reduce_ex__',\n",
       " '__repr__',\n",
       " '__rmod__',\n",
       " '__rmul__',\n",
       " '__setattr__',\n",
       " '__sizeof__',\n",
       " '__str__',\n",
       " '__subclasshook__',\n",
       " 'capitalize',\n",
       " 'casefold',\n",
       " 'center',\n",
       " 'count',\n",
       " 'encode',\n",
       " 'endswith',\n",
       " 'expandtabs',\n",
       " 'find',\n",
       " 'format',\n",
       " 'format_map',\n",
       " 'index',\n",
       " 'isalnum',\n",
       " 'isalpha',\n",
       " 'isascii',\n",
       " 'isdecimal',\n",
       " 'isdigit',\n",
       " 'isidentifier',\n",
       " 'islower',\n",
       " 'isnumeric',\n",
       " 'isprintable',\n",
       " 'isspace',\n",
       " 'istitle',\n",
       " 'isupper',\n",
       " 'join',\n",
       " 'ljust',\n",
       " 'lower',\n",
       " 'lstrip',\n",
       " 'maketrans',\n",
       " 'partition',\n",
       " 'removeprefix',\n",
       " 'removesuffix',\n",
       " 'replace',\n",
       " 'rfind',\n",
       " 'rindex',\n",
       " 'rjust',\n",
       " 'rpartition',\n",
       " 'rsplit',\n",
       " 'rstrip',\n",
       " 'split',\n",
       " 'splitlines',\n",
       " 'startswith',\n",
       " 'strip',\n",
       " 'swapcase',\n",
       " 'title',\n",
       " 'translate',\n",
       " 'upper',\n",
       " 'zfill']"
      ]
     },
     "execution_count": 106,
     "metadata": {},
     "output_type": "execute_result"
    }
   ],
   "source": [
    "dir(text)"
   ]
  },
  {
   "cell_type": "code",
   "execution_count": 108,
   "id": "d60024b0",
   "metadata": {},
   "outputs": [
    {
     "name": "stdout",
     "output_type": "stream",
     "text": [
      "original list :   Ilive Python\n"
     ]
    }
   ],
   "source": [
    "print(\"original list :  \",text)"
   ]
  },
  {
   "cell_type": "code",
   "execution_count": 110,
   "id": "5638891a",
   "metadata": {},
   "outputs": [
    {
     "name": "stdout",
     "output_type": "stream",
     "text": [
      "[23, 90, 78, 56, 64, 97]\n"
     ]
    },
    {
     "data": {
      "text/plain": [
       "[23, 90, 78, 56, 64, 97, 104]"
      ]
     },
     "execution_count": 110,
     "metadata": {},
     "output_type": "execute_result"
    }
   ],
   "source": [
    "list=[23,90,78,56,64,97]\n",
    "print(list)\n",
    "list.append(104)\n",
    "list"
   ]
  },
  {
   "cell_type": "code",
   "execution_count": 111,
   "id": "219e4b8c",
   "metadata": {},
   "outputs": [
    {
     "name": "stdout",
     "output_type": "stream",
     "text": [
      "[23, 90, 78, 56, 64, 97, 104, 113]\n"
     ]
    }
   ],
   "source": [
    "l1=list.copy()\n",
    "l1.append(113)\n",
    "print(l1)"
   ]
  },
  {
   "cell_type": "code",
   "execution_count": 112,
   "id": "7f978648",
   "metadata": {},
   "outputs": [
    {
     "name": "stdout",
     "output_type": "stream",
     "text": [
      "[23, 90, 78, 56, 64, 97, 104]\n"
     ]
    }
   ],
   "source": [
    "print(list)"
   ]
  },
  {
   "cell_type": "code",
   "execution_count": 113,
   "id": "22103ce7",
   "metadata": {},
   "outputs": [
    {
     "data": {
      "text/plain": [
       "[23, 90, 78, 34, 56, 64, 97, 104, 113]"
      ]
     },
     "execution_count": 113,
     "metadata": {},
     "output_type": "execute_result"
    }
   ],
   "source": [
    "l1.insert(3,34)\n",
    "l1"
   ]
  },
  {
   "cell_type": "code",
   "execution_count": 114,
   "id": "2536b468",
   "metadata": {},
   "outputs": [
    {
     "data": {
      "text/plain": [
       "[23, 90, 34, 56, 64, 97, 104, 113]"
      ]
     },
     "execution_count": 114,
     "metadata": {},
     "output_type": "execute_result"
    }
   ],
   "source": [
    "# removes last element from the list automatically\n",
    "l1.pop(2)\n",
    "l1"
   ]
  },
  {
   "cell_type": "code",
   "execution_count": 115,
   "id": "980c66c7",
   "metadata": {},
   "outputs": [
    {
     "data": {
      "text/plain": [
       "[113, 104, 97, 64, 56, 34, 90, 23]"
      ]
     },
     "execution_count": 115,
     "metadata": {},
     "output_type": "execute_result"
    }
   ],
   "source": [
    "l1.reverse()\n",
    "l1"
   ]
  },
  {
   "cell_type": "code",
   "execution_count": 116,
   "id": "59d920ef",
   "metadata": {},
   "outputs": [
    {
     "name": "stdout",
     "output_type": "stream",
     "text": [
      "[23, 90, 78, 56, 64, 97]\n",
      "[23, 56, 64, 78, 90, 97]\n"
     ]
    }
   ],
   "source": [
    "#  sort()\n",
    "\n",
    "list=[23,90,78,56,64,97]\n",
    "print(list)\n",
    "list.sort()\n",
    "print(list)"
   ]
  },
  {
   "cell_type": "code",
   "execution_count": 117,
   "id": "55f60f6d",
   "metadata": {},
   "outputs": [
    {
     "data": {
      "text/plain": [
       "[97, 90, 78, 64, 56, 23]"
      ]
     },
     "execution_count": 117,
     "metadata": {},
     "output_type": "execute_result"
    }
   ],
   "source": [
    "list.sort(reverse=True)\n",
    "list"
   ]
  },
  {
   "cell_type": "code",
   "execution_count": 118,
   "id": "90cc298f",
   "metadata": {},
   "outputs": [
    {
     "name": "stdout",
     "output_type": "stream",
     "text": [
      "['cake', 'melon', 'papaya', 'ritha']\n",
      "['cake', 'papaya', 'ritha']\n"
     ]
    }
   ],
   "source": [
    "my=['cake','melon','papaya','ritha']\n",
    "print(my)\n",
    "my.remove('melon')\n",
    "print(my)"
   ]
  },
  {
   "cell_type": "code",
   "execution_count": 119,
   "id": "49d6265a",
   "metadata": {},
   "outputs": [
    {
     "data": {
      "text/plain": [
       "3"
      ]
     },
     "execution_count": 119,
     "metadata": {},
     "output_type": "execute_result"
    }
   ],
   "source": [
    "ml=[23,23,4,55,567,432,1114,4456,567,55,23]\n",
    "ml.count(23)"
   ]
  },
  {
   "cell_type": "code",
   "execution_count": 120,
   "id": "a0d6234f",
   "metadata": {},
   "outputs": [
    {
     "name": "stdout",
     "output_type": "stream",
     "text": [
      "6\n"
     ]
    }
   ],
   "source": [
    "#  index()\n",
    "print(ml.index(1114))"
   ]
  },
  {
   "cell_type": "code",
   "execution_count": 129,
   "id": "fc81866c",
   "metadata": {},
   "outputs": [
    {
     "data": {
      "text/plain": [
       "[23, 23, 4, 55, 567, 432, 1114, 4456, 567, 55, 23, 10, 4, 5]"
      ]
     },
     "execution_count": 129,
     "metadata": {},
     "output_type": "execute_result"
    }
   ],
   "source": [
    "ml=[23,23,4,55,567,432,1114,4456,567,55,23]\n",
    "ml.extend([10,4,5])\n",
    "ml"
   ]
  },
  {
   "cell_type": "code",
   "execution_count": 126,
   "id": "6a87d2cf",
   "metadata": {},
   "outputs": [
    {
     "ename": "NameError",
     "evalue": "name 'ml' is not defined",
     "output_type": "error",
     "traceback": [
      "\u001b[1;31m---------------------------------------------------------------------------\u001b[0m",
      "\u001b[1;31mNameError\u001b[0m                                 Traceback (most recent call last)",
      "\u001b[1;32m~\\AppData\\Local\\Temp\\ipykernel_11916\\2571165673.py\u001b[0m in \u001b[0;36m<module>\u001b[1;34m\u001b[0m\n\u001b[1;32m----> 1\u001b[1;33m \u001b[1;32mdel\u001b[0m \u001b[0mml\u001b[0m\u001b[1;33m[\u001b[0m\u001b[0mi\u001b[0m\u001b[1;33m]\u001b[0m\u001b[1;33m\u001b[0m\u001b[1;33m\u001b[0m\u001b[0m\n\u001b[0m\u001b[0;32m      2\u001b[0m \u001b[0mprint\u001b[0m\u001b[1;33m(\u001b[0m\u001b[0mml\u001b[0m\u001b[1;33m)\u001b[0m\u001b[1;33m\u001b[0m\u001b[1;33m\u001b[0m\u001b[0m\n",
      "\u001b[1;31mNameError\u001b[0m: name 'ml' is not defined"
     ]
    }
   ],
   "source": [
    "del ml[i]\n",
    "print(ml)"
   ]
  },
  {
   "cell_type": "code",
   "execution_count": 130,
   "id": "6057600b",
   "metadata": {},
   "outputs": [
    {
     "data": {
      "text/plain": [
       "[]"
      ]
     },
     "execution_count": 130,
     "metadata": {},
     "output_type": "execute_result"
    }
   ],
   "source": [
    "ml.clear()\n",
    "ml"
   ]
  },
  {
   "cell_type": "code",
   "execution_count": 142,
   "id": "c37756d4",
   "metadata": {},
   "outputs": [
    {
     "name": "stdout",
     "output_type": "stream",
     "text": [
      "12\n",
      "34\n",
      "76\n",
      "86\n",
      "[12, 34, 76, 86]\n"
     ]
    }
   ],
   "source": [
    "my=[12,23,45,34,76,86]\n",
    "myl=[]\n",
    "for i in my:\n",
    "    if i%2==0:\n",
    "        print(i)\n",
    "        myl.append(i)\n",
    "print(myl)"
   ]
  },
  {
   "cell_type": "code",
   "execution_count": 152,
   "id": "85afbd7d",
   "metadata": {},
   "outputs": [
    {
     "name": "stdout",
     "output_type": "stream",
     "text": [
      "enter : 6\n",
      "even\n",
      "[6]\n"
     ]
    }
   ],
   "source": [
    "my=[]\n",
    "n=int(input(\"enter : \"))\n",
    "if n%2==0:\n",
    "    print(\"even\")\n",
    "    my.append(n)\n",
    "    print(my)\n",
    "else:\n",
    "    print(\"odd\")\n"
   ]
  },
  {
   "cell_type": "code",
   "execution_count": 156,
   "id": "07530e16",
   "metadata": {},
   "outputs": [
    {
     "name": "stdout",
     "output_type": "stream",
     "text": [
      "[99, 34, 56, 78, 12]\n"
     ]
    }
   ],
   "source": [
    "# interchanging first & last position\n",
    "L=[12,34,56,78,99]\n",
    "new=L[4]\n",
    "L[4]=L[0]\n",
    "L[0]=new\n",
    "print(L)"
   ]
  },
  {
   "cell_type": "code",
   "execution_count": 157,
   "id": "865d5d53",
   "metadata": {},
   "outputs": [
    {
     "data": {
      "text/plain": [
       "[99, 34, 56, 78, 12]"
      ]
     },
     "execution_count": 157,
     "metadata": {},
     "output_type": "execute_result"
    }
   ],
   "source": [
    "def swap(L):\n",
    "    L=[12,34,56,78,99]\n",
    "    new=L[4]\n",
    "    L[4]=L[0]\n",
    "    L[0]=new\n",
    "    return L\n",
    "swap(L)"
   ]
  },
  {
   "cell_type": "code",
   "execution_count": 1,
   "id": "eee31ddf",
   "metadata": {},
   "outputs": [
    {
     "name": "stdout",
     "output_type": "stream",
     "text": [
      "['apple', 'cake', 'coffee', 'chocolate']\n",
      "['apple', 'coffee', 'chocolate']\n"
     ]
    }
   ],
   "source": [
    "li=[\"apple\",\"cake\",\"coffee\",\"chocolate\"]\n",
    "print(li)\n",
    "li.remove(\"cake\")\n",
    "print(li)"
   ]
  },
  {
   "cell_type": "code",
   "execution_count": 2,
   "id": "59f0f524",
   "metadata": {},
   "outputs": [
    {
     "data": {
      "text/plain": [
       "3"
      ]
     },
     "execution_count": 2,
     "metadata": {},
     "output_type": "execute_result"
    }
   ],
   "source": [
    "#  count() -- count the no of elements pass\n",
    "my=[11,133,144,12,11,66,77,88,11]\n",
    "my.count(11)"
   ]
  },
  {
   "cell_type": "code",
   "execution_count": 3,
   "id": "b1d83f0a",
   "metadata": {},
   "outputs": [
    {
     "data": {
      "text/plain": [
       "9"
      ]
     },
     "execution_count": 3,
     "metadata": {},
     "output_type": "execute_result"
    }
   ],
   "source": [
    "len(my)"
   ]
  },
  {
   "cell_type": "code",
   "execution_count": 4,
   "id": "67404ca1",
   "metadata": {},
   "outputs": [
    {
     "name": "stdout",
     "output_type": "stream",
     "text": [
      "0\n",
      "5\n"
     ]
    }
   ],
   "source": [
    "# index() -- It gives the index of the given element. In case of repetition it gives first index.\n",
    "\n",
    "print(my.index(11))\n",
    "print(my.index(66))"
   ]
  },
  {
   "cell_type": "code",
   "execution_count": 6,
   "id": "4c2e0ee6",
   "metadata": {},
   "outputs": [
    {
     "name": "stdout",
     "output_type": "stream",
     "text": [
      "[11, 133, 144, 12, 11, 66, 77, 88, 11, 44]\n"
     ]
    }
   ],
   "source": [
    "#  extend() -- It can be add more than one element in the list.It adds the element in the end\n",
    "my=[11,133,144,12,11,66,77,88,11]\n",
    "my.extend([44])\n",
    "print(my)"
   ]
  },
  {
   "cell_type": "code",
   "execution_count": 10,
   "id": "b2268f47",
   "metadata": {},
   "outputs": [
    {
     "name": "stdout",
     "output_type": "stream",
     "text": [
      "[11, 133, 11, 144, 12, 11, 66, 77, 88, 11]\n"
     ]
    }
   ],
   "source": [
    "my=[11,133,144,12,11,66,77,88,11]\n",
    "my.insert(2,11)\n",
    "print(my)"
   ]
  },
  {
   "cell_type": "code",
   "execution_count": 16,
   "id": "c29c34eb",
   "metadata": {},
   "outputs": [
    {
     "data": {
      "text/plain": [
       "[11, 133, 11, 144, 12, 11, 66, 77, 88, 11]"
      ]
     },
     "execution_count": 16,
     "metadata": {},
     "output_type": "execute_result"
    }
   ],
   "source": [
    "mylist=my.copy()\n",
    "mylist"
   ]
  },
  {
   "cell_type": "code",
   "execution_count": 17,
   "id": "e699cac2",
   "metadata": {},
   "outputs": [
    {
     "data": {
      "text/plain": [
       "[]"
      ]
     },
     "execution_count": 17,
     "metadata": {},
     "output_type": "execute_result"
    }
   ],
   "source": [
    "#  clear() - It remove all the element\n",
    "mylist.clear()\n",
    "mylist"
   ]
  },
  {
   "cell_type": "code",
   "execution_count": 23,
   "id": "2c85bacf",
   "metadata": {},
   "outputs": [
    {
     "ename": "NameError",
     "evalue": "name 'mylist' is not defined",
     "output_type": "error",
     "traceback": [
      "\u001b[1;31m---------------------------------------------------------------------------\u001b[0m",
      "\u001b[1;31mNameError\u001b[0m                                 Traceback (most recent call last)",
      "\u001b[1;32m~\\AppData\\Local\\Temp\\ipykernel_24164\\422619610.py\u001b[0m in \u001b[0;36m<module>\u001b[1;34m\u001b[0m\n\u001b[1;32m----> 1\u001b[1;33m \u001b[1;32mdel\u001b[0m \u001b[0mmylist\u001b[0m\u001b[1;33m\u001b[0m\u001b[1;33m\u001b[0m\u001b[0m\n\u001b[0m\u001b[0;32m      2\u001b[0m \u001b[0mmylist\u001b[0m\u001b[1;33m\u001b[0m\u001b[1;33m\u001b[0m\u001b[0m\n",
      "\u001b[1;31mNameError\u001b[0m: name 'mylist' is not defined"
     ]
    }
   ],
   "source": [
    "del mylist\n",
    "mylist"
   ]
  },
  {
   "cell_type": "code",
   "execution_count": 25,
   "id": "010000c7",
   "metadata": {},
   "outputs": [
    {
     "name": "stdout",
     "output_type": "stream",
     "text": [
      "[11, 133, 11, 77, 11]\n"
     ]
    }
   ],
   "source": [
    "my=[11,133,144,12,11,66,77,88,11]\n",
    "myl=[]\n",
    "for i in my:\n",
    "    if i%2!=0:\n",
    "        myl.append(i)\n",
    "print(myl)"
   ]
  },
  {
   "cell_type": "code",
   "execution_count": 26,
   "id": "adc69e5d",
   "metadata": {},
   "outputs": [
    {
     "name": "stdout",
     "output_type": "stream",
     "text": [
      "enter :4\n",
      "enter :5\n",
      "enter :6\n",
      "enter :6\n",
      "enter :77\n",
      "List: [4, 5, 6, 6, 77]\n"
     ]
    }
   ],
   "source": [
    "#  Take the input from the user and make a list of 5 elements\n",
    "\n",
    "List=[]\n",
    "for i in range(0,5):\n",
    "    n=int(input(\"enter :\"))\n",
    "    List.append(n)\n",
    "print(\"List:\",List )"
   ]
  },
  {
   "cell_type": "code",
   "execution_count": null,
   "id": "8ef81f47",
   "metadata": {},
   "outputs": [],
   "source": [
    "#  Make a list of odd numbers....... "
   ]
  },
  {
   "cell_type": "code",
   "execution_count": 28,
   "id": "ec7ebf01",
   "metadata": {},
   "outputs": [
    {
     "name": "stdout",
     "output_type": "stream",
     "text": [
      "23\n",
      "91\n",
      "45\n",
      "67\n",
      "89\n",
      "123\n",
      "[23, 91, 45, 67, 89, 123]\n"
     ]
    }
   ],
   "source": [
    "list=[23,91,12,24,45,67,89,123]\n",
    "my=[]\n",
    "for i in list:\n",
    "    if i%2!=0:\n",
    "        my.append(i)\n",
    "        print(i)\n",
    "print(my)"
   ]
  },
  {
   "cell_type": "code",
   "execution_count": 29,
   "id": "8ec6922a",
   "metadata": {},
   "outputs": [
    {
     "name": "stdout",
     "output_type": "stream",
     "text": [
      "enter: 4\n",
      "enter: 9\n",
      "enter: 2\n",
      "enter: 5\n",
      "enter: 1\n",
      "enter: 4\n",
      "[4, 9, 2, 5, 1, 4]\n",
      "[4, 1, 5, 2, 9, 4]\n"
     ]
    }
   ],
   "source": [
    "# Take the input from user and make a list of 6 elements. Display the reverse.\n",
    "\n",
    "list=[]\n",
    "for i in range(0,6):\n",
    "    n=int(input(\"enter: \"))\n",
    "    list.append(n)\n",
    "print(list)\n",
    "new=list[::-1]\n",
    "print(new)"
   ]
  },
  {
   "cell_type": "code",
   "execution_count": 33,
   "id": "bb5a3302",
   "metadata": {},
   "outputs": [
    {
     "name": "stdout",
     "output_type": "stream",
     "text": [
      "enter : 7\n",
      "enter : 4\n",
      "enter : 4\n",
      "enter : 3\n",
      "enter : 2\n",
      "enter : 2\n",
      "[7, 6, 4, 4, 3, 2]\n"
     ]
    }
   ],
   "source": [
    "List=[]\n",
    "for i in range(0,6):\n",
    "    List.append(n)\n",
    "    n=int(input(\"enter : \"))\n",
    "    List.sort(reverse=True)\n",
    "print(List)\n"
   ]
  },
  {
   "cell_type": "code",
   "execution_count": null,
   "id": "7e463367",
   "metadata": {},
   "outputs": [],
   "source": []
  },
  {
   "cell_type": "code",
   "execution_count": null,
   "id": "7ba7f112",
   "metadata": {},
   "outputs": [],
   "source": []
  },
  {
   "cell_type": "code",
   "execution_count": null,
   "id": "b8955c20",
   "metadata": {},
   "outputs": [],
   "source": []
  },
  {
   "cell_type": "code",
   "execution_count": null,
   "id": "d10a009b",
   "metadata": {},
   "outputs": [],
   "source": []
  },
  {
   "cell_type": "code",
   "execution_count": null,
   "id": "f89761d3",
   "metadata": {},
   "outputs": [],
   "source": []
  },
  {
   "cell_type": "code",
   "execution_count": 34,
   "id": "a72a4ac6",
   "metadata": {},
   "outputs": [
    {
     "ename": "KeyboardInterrupt",
     "evalue": "",
     "output_type": "error",
     "traceback": [
      "\u001b[1;31m---------------------------------------------------------------------------\u001b[0m",
      "\u001b[1;31mKeyboardInterrupt\u001b[0m                         Traceback (most recent call last)",
      "\u001b[1;32m~\\AppData\\Local\\Temp\\ipykernel_24164\\2637899453.py\u001b[0m in \u001b[0;36m<module>\u001b[1;34m\u001b[0m\n\u001b[0;32m      1\u001b[0m \u001b[0mnew\u001b[0m\u001b[1;33m=\u001b[0m\u001b[1;33m[\u001b[0m\u001b[1;33m]\u001b[0m\u001b[1;33m\u001b[0m\u001b[1;33m\u001b[0m\u001b[0m\n\u001b[0;32m      2\u001b[0m \u001b[0mnew\u001b[0m\u001b[1;33m=\u001b[0m\u001b[1;33m[\u001b[0m\u001b[1;36m23\u001b[0m\u001b[1;33m,\u001b[0m\u001b[1;36m45\u001b[0m\u001b[1;33m,\u001b[0m\u001b[1;36m67\u001b[0m\u001b[1;33m,\u001b[0m\u001b[1;36m89\u001b[0m\u001b[1;33m]\u001b[0m\u001b[1;33m\u001b[0m\u001b[1;33m\u001b[0m\u001b[0m\n\u001b[1;32m----> 3\u001b[1;33m \u001b[1;32mfor\u001b[0m \u001b[0mi\u001b[0m \u001b[1;32min\u001b[0m \u001b[0mnew\u001b[0m\u001b[1;33m:\u001b[0m\u001b[1;33m\u001b[0m\u001b[1;33m\u001b[0m\u001b[0m\n\u001b[0m\u001b[0;32m      4\u001b[0m     \u001b[0mnew\u001b[0m\u001b[1;33m.\u001b[0m\u001b[0mappend\u001b[0m\u001b[1;33m(\u001b[0m\u001b[0mi\u001b[0m\u001b[1;33m)\u001b[0m\u001b[1;33m\u001b[0m\u001b[1;33m\u001b[0m\u001b[0m\n\u001b[0;32m      5\u001b[0m \u001b[0mprint\u001b[0m\u001b[1;33m(\u001b[0m\u001b[0mnew\u001b[0m\u001b[1;33m)\u001b[0m\u001b[1;33m\u001b[0m\u001b[1;33m\u001b[0m\u001b[0m\n",
      "\u001b[1;31mKeyboardInterrupt\u001b[0m: "
     ]
    }
   ],
   "source": [
    "new=[]\n",
    "new=[23,45,67,89]\n",
    "for i in new:\n",
    "    new.append(i)\n",
    "print(new)\n",
    "print(new.reverse())\n",
    "print(new)"
   ]
  },
  {
   "cell_type": "code",
   "execution_count": 35,
   "id": "f758acce",
   "metadata": {},
   "outputs": [
    {
     "name": "stdout",
     "output_type": "stream",
     "text": [
      "[123, 91, 89, 67, 45, 24, 23, 12]\n",
      "mysecond:  91\n"
     ]
    }
   ],
   "source": [
    "# find the second highest num from the below list\n",
    "List=[23,91,12,24,45,67,89,123]\n",
    "List.sort(reverse=True)\n",
    "print(List)\n",
    "print(\"mysecond: \",List[1])"
   ]
  },
  {
   "cell_type": "code",
   "execution_count": 36,
   "id": "3ea3238f",
   "metadata": {},
   "outputs": [
    {
     "data": {
      "text/plain": [
       "list"
      ]
     },
     "execution_count": 36,
     "metadata": {},
     "output_type": "execute_result"
    }
   ],
   "source": [
    "#  Nested List ----- List inside a list is nested List\n",
    "list=[23,91,12,24,45,67,89,123]\n",
    "type(list)"
   ]
  },
  {
   "cell_type": "code",
   "execution_count": 38,
   "id": "b2fbcc9e",
   "metadata": {},
   "outputs": [
    {
     "data": {
      "text/plain": [
       "'I Love Data Science'"
      ]
     },
     "execution_count": 38,
     "metadata": {},
     "output_type": "execute_result"
    }
   ],
   "source": [
    "# Built in methods\n",
    "\n",
    "text=\"I Love Python\"\n",
    "text1=text.replace(\"Python\",\"Data Science\")\n",
    "text1"
   ]
  },
  {
   "cell_type": "code",
   "execution_count": 39,
   "id": "0bd50928",
   "metadata": {},
   "outputs": [
    {
     "data": {
      "text/plain": [
       "'I LOVE PYTHON'"
      ]
     },
     "execution_count": 39,
     "metadata": {},
     "output_type": "execute_result"
    }
   ],
   "source": [
    "text.upper()"
   ]
  },
  {
   "cell_type": "code",
   "execution_count": 40,
   "id": "20362b03",
   "metadata": {},
   "outputs": [
    {
     "data": {
      "text/plain": [
       "'i love python'"
      ]
     },
     "execution_count": 40,
     "metadata": {},
     "output_type": "execute_result"
    }
   ],
   "source": [
    "text.lower()"
   ]
  },
  {
   "cell_type": "code",
   "execution_count": 41,
   "id": "96ccc8a9",
   "metadata": {},
   "outputs": [
    {
     "data": {
      "text/plain": [
       "'I Love Python'"
      ]
     },
     "execution_count": 41,
     "metadata": {},
     "output_type": "execute_result"
    }
   ],
   "source": [
    "text.title()"
   ]
  },
  {
   "cell_type": "code",
   "execution_count": 42,
   "id": "c062797f",
   "metadata": {},
   "outputs": [
    {
     "data": {
      "text/plain": [
       "'08/03/2022'"
      ]
     },
     "execution_count": 42,
     "metadata": {},
     "output_type": "execute_result"
    }
   ],
   "source": [
    "con=\"08\",\"03\",\"2022\"\n",
    "sep=\"/\"\n",
    "sep.join(con)"
   ]
  },
  {
   "cell_type": "code",
   "execution_count": 45,
   "id": "03a1ddc5",
   "metadata": {},
   "outputs": [
    {
     "data": {
      "text/plain": [
       "'i[]love[]python'"
      ]
     },
     "execution_count": 45,
     "metadata": {},
     "output_type": "execute_result"
    }
   ],
   "source": [
    "con=\"i\",\"love\",\"python\"\n",
    "sep=\"[]\"\n",
    "sep.join(con)"
   ]
  },
  {
   "cell_type": "code",
   "execution_count": 52,
   "id": "c05b328c",
   "metadata": {},
   "outputs": [
    {
     "data": {
      "text/plain": [
       "'I**** love** Python'"
      ]
     },
     "execution_count": 52,
     "metadata": {},
     "output_type": "execute_result"
    }
   ],
   "source": [
    "text=\"*******I**** love** Python******\"\n",
    "text1=text.strip(\"*\")\n",
    "text1"
   ]
  },
  {
   "cell_type": "code",
   "execution_count": 53,
   "id": "aceb94c3",
   "metadata": {},
   "outputs": [
    {
     "data": {
      "text/plain": [
       "(13, 4, 56, 5)"
      ]
     },
     "execution_count": 53,
     "metadata": {},
     "output_type": "execute_result"
    }
   ],
   "source": [
    "n=(13,4,56,5)\n",
    "n"
   ]
  },
  {
   "cell_type": "code",
   "execution_count": 54,
   "id": "c1aae07f",
   "metadata": {},
   "outputs": [
    {
     "data": {
      "text/plain": [
       "(12, 56, 78, 'Cake', True, 77.8, 34)"
      ]
     },
     "execution_count": 54,
     "metadata": {},
     "output_type": "execute_result"
    }
   ],
   "source": [
    "tup=(12,56,78,\"Cake\",True,77.8,34)\n",
    "# It can store multiple values of different data type\n",
    "tup"
   ]
  },
  {
   "cell_type": "code",
   "execution_count": 57,
   "id": "fae529c3",
   "metadata": {},
   "outputs": [
    {
     "data": {
      "text/plain": [
       "'Cake'"
      ]
     },
     "execution_count": 57,
     "metadata": {},
     "output_type": "execute_result"
    }
   ],
   "source": [
    "tup[3]"
   ]
  },
  {
   "cell_type": "code",
   "execution_count": 58,
   "id": "cfa1030b",
   "metadata": {},
   "outputs": [
    {
     "data": {
      "text/plain": [
       "'Cake'"
      ]
     },
     "execution_count": 58,
     "metadata": {},
     "output_type": "execute_result"
    }
   ],
   "source": [
    "tup[-4]"
   ]
  },
  {
   "cell_type": "code",
   "execution_count": 59,
   "id": "56a08943",
   "metadata": {},
   "outputs": [
    {
     "data": {
      "text/plain": [
       "6170518392968305009"
      ]
     },
     "execution_count": 59,
     "metadata": {},
     "output_type": "execute_result"
    }
   ],
   "source": [
    "hash(tup)"
   ]
  },
  {
   "cell_type": "code",
   "execution_count": 60,
   "id": "275ae1e2",
   "metadata": {},
   "outputs": [
    {
     "data": {
      "text/plain": [
       "['__add__',\n",
       " '__class__',\n",
       " '__class_getitem__',\n",
       " '__contains__',\n",
       " '__delattr__',\n",
       " '__dir__',\n",
       " '__doc__',\n",
       " '__eq__',\n",
       " '__format__',\n",
       " '__ge__',\n",
       " '__getattribute__',\n",
       " '__getitem__',\n",
       " '__getnewargs__',\n",
       " '__gt__',\n",
       " '__hash__',\n",
       " '__init__',\n",
       " '__init_subclass__',\n",
       " '__iter__',\n",
       " '__le__',\n",
       " '__len__',\n",
       " '__lt__',\n",
       " '__mul__',\n",
       " '__ne__',\n",
       " '__new__',\n",
       " '__reduce__',\n",
       " '__reduce_ex__',\n",
       " '__repr__',\n",
       " '__rmul__',\n",
       " '__setattr__',\n",
       " '__sizeof__',\n",
       " '__str__',\n",
       " '__subclasshook__',\n",
       " 'count',\n",
       " 'index']"
      ]
     },
     "execution_count": 60,
     "metadata": {},
     "output_type": "execute_result"
    }
   ],
   "source": [
    "dir(tup)"
   ]
  },
  {
   "cell_type": "code",
   "execution_count": 61,
   "id": "74c44e5c",
   "metadata": {},
   "outputs": [
    {
     "data": {
      "text/plain": [
       "4"
      ]
     },
     "execution_count": 61,
     "metadata": {},
     "output_type": "execute_result"
    }
   ],
   "source": [
    "tup=(11,12,13,14,15,16,17,12,12,12,11)\n",
    "tup.count(12)"
   ]
  },
  {
   "cell_type": "code",
   "execution_count": 62,
   "id": "b5650801",
   "metadata": {},
   "outputs": [
    {
     "name": "stdout",
     "output_type": "stream",
     "text": [
      "1\n"
     ]
    }
   ],
   "source": [
    "# index() -- it displays the index value of a givem element.\n",
    "print(tup.index(12))"
   ]
  },
  {
   "cell_type": "code",
   "execution_count": 63,
   "id": "d1744b11",
   "metadata": {},
   "outputs": [
    {
     "name": "stdout",
     "output_type": "stream",
     "text": [
      "5\n"
     ]
    }
   ],
   "source": [
    "print(tup.index(16))"
   ]
  },
  {
   "cell_type": "code",
   "execution_count": 64,
   "id": "9891fb5c",
   "metadata": {},
   "outputs": [
    {
     "name": "stdout",
     "output_type": "stream",
     "text": [
      "('Tea', 'Coffee', 'Sugar', 'Noodles', 25, 2.6, True)\n"
     ]
    },
    {
     "data": {
      "text/plain": [
       "tuple"
      ]
     },
     "execution_count": 64,
     "metadata": {},
     "output_type": "execute_result"
    }
   ],
   "source": [
    "# Creating a heterogeneous tuple\n",
    "item=(\"Tea\",\"Coffee\",\"Sugar\",\"Noodles\",25,2.6,True)\n",
    "print(item)\n",
    "type(item)"
   ]
  },
  {
   "cell_type": "code",
   "execution_count": 65,
   "id": "e13781e7",
   "metadata": {},
   "outputs": [
    {
     "data": {
      "text/plain": [
       "['Coffee', 'Noodles', 'Sugar', 'Tea']"
      ]
     },
     "execution_count": 65,
     "metadata": {},
     "output_type": "execute_result"
    }
   ],
   "source": [
    "#  creating a heterogeneous tuple\n",
    "item=(\"Tea\",\"Coffee\",\"Sugar\",\"Noodles\")\n",
    "sorted(item)"
   ]
  },
  {
   "cell_type": "code",
   "execution_count": 66,
   "id": "0a23de16",
   "metadata": {},
   "outputs": [
    {
     "data": {
      "text/plain": [
       "['Tea', 'Sugar', 'Noodles', 'Coffee']"
      ]
     },
     "execution_count": 66,
     "metadata": {},
     "output_type": "execute_result"
    }
   ],
   "source": [
    "#  Creating a heterogeneous tuple\n",
    "item=(\"Tea\",\"Coffee\",\"Sugar\",\"Noodles\")\n",
    "\n",
    "sorted(item,reverse=True)"
   ]
  },
  {
   "cell_type": "code",
   "execution_count": 77,
   "id": "06a97ba7",
   "metadata": {},
   "outputs": [
    {
     "data": {
      "text/plain": [
       "(100, 88, 3, 4.4, 55, 99, 5, 7, [22, 33, 44, 120])"
      ]
     },
     "execution_count": 77,
     "metadata": {},
     "output_type": "execute_result"
    }
   ],
   "source": [
    "#  defining a tuple\n",
    "price=(100,88,3,4.4,55,99,5,7,[22,33,44])\n",
    "price[8].append(120)\n",
    "price"
   ]
  },
  {
   "cell_type": "code",
   "execution_count": null,
   "id": "873a5b12",
   "metadata": {},
   "outputs": [],
   "source": []
  },
  {
   "cell_type": "code",
   "execution_count": null,
   "id": "ae8da632",
   "metadata": {},
   "outputs": [],
   "source": [
    "#  Dictionary"
   ]
  },
  {
   "cell_type": "code",
   "execution_count": 3,
   "id": "a41be6eb",
   "metadata": {},
   "outputs": [
    {
     "name": "stdout",
     "output_type": "stream",
     "text": [
      "{'python': 500, 'Math': 400, 'Ml': 1000}\n"
     ]
    },
    {
     "data": {
      "text/plain": [
       "dict"
      ]
     },
     "execution_count": 3,
     "metadata": {},
     "output_type": "execute_result"
    }
   ],
   "source": [
    "dic={\"python\":500,\"Math\":400,\"Ml\":1000}\n",
    "print(dic)\n",
    "type(dic)"
   ]
  },
  {
   "cell_type": "code",
   "execution_count": 4,
   "id": "72ea9cbb",
   "metadata": {},
   "outputs": [
    {
     "name": "stdout",
     "output_type": "stream",
     "text": [
      "{11: 11000, 12: 12000, 14: 14000}\n"
     ]
    },
    {
     "data": {
      "text/plain": [
       "dict"
      ]
     },
     "execution_count": 4,
     "metadata": {},
     "output_type": "execute_result"
    }
   ],
   "source": [
    "dic={11:11000,12:12000,14:14000}\n",
    "print(dic)\n",
    "type(dic)"
   ]
  },
  {
   "cell_type": "code",
   "execution_count": 5,
   "id": "4d8c0d7c",
   "metadata": {},
   "outputs": [
    {
     "name": "stdout",
     "output_type": "stream",
     "text": [
      "{'nikhil': 'm', 'Ankit': 'F', 'Jyoti': 'F'}\n"
     ]
    },
    {
     "data": {
      "text/plain": [
       "dict"
      ]
     },
     "execution_count": 5,
     "metadata": {},
     "output_type": "execute_result"
    }
   ],
   "source": [
    "det={\"nikhil\":\"m\",\"Ankit\":\"F\",\"Jyoti\":\"F\"}\n",
    "print(det)\n",
    "type(det)"
   ]
  },
  {
   "cell_type": "code",
   "execution_count": 6,
   "id": "f1a73af0",
   "metadata": {},
   "outputs": [],
   "source": [
    "dic[\"math\"]=12"
   ]
  },
  {
   "cell_type": "code",
   "execution_count": 7,
   "id": "58721d14",
   "metadata": {},
   "outputs": [
    {
     "name": "stdout",
     "output_type": "stream",
     "text": [
      "{11: 11000, 12: 12000, 14: 14000, 'math': 12}\n"
     ]
    }
   ],
   "source": [
    "print(dic)"
   ]
  },
  {
   "cell_type": "code",
   "execution_count": 8,
   "id": "1e112609",
   "metadata": {},
   "outputs": [
    {
     "data": {
      "text/plain": [
       "{101: 'm', 102: 'f'}"
      ]
     },
     "execution_count": 8,
     "metadata": {},
     "output_type": "execute_result"
    }
   ],
   "source": [
    "dic1={101:\"m\",102:\"f\"}\n",
    "dic1"
   ]
  },
  {
   "cell_type": "code",
   "execution_count": 9,
   "id": "3d0cffb5",
   "metadata": {},
   "outputs": [
    {
     "data": {
      "text/plain": [
       "{101: 'hr', 102: 'mg', 103: 'ceo'}"
      ]
     },
     "execution_count": 9,
     "metadata": {},
     "output_type": "execute_result"
    }
   ],
   "source": [
    "dic={101:\"hr\",102:\"mg\",103:\"ceo\"}\n",
    "dic"
   ]
  },
  {
   "cell_type": "code",
   "execution_count": 10,
   "id": "a0cf1cd7",
   "metadata": {},
   "outputs": [
    {
     "data": {
      "text/plain": [
       "dict_keys([101, 102, 103])"
      ]
     },
     "execution_count": 10,
     "metadata": {},
     "output_type": "execute_result"
    }
   ],
   "source": [
    "#  keys() -- it displays all the keys\n",
    "dic.keys()"
   ]
  },
  {
   "cell_type": "code",
   "execution_count": 11,
   "id": "d3db0119",
   "metadata": {},
   "outputs": [
    {
     "data": {
      "text/plain": [
       "dict_values(['hr', 'mg', 'ceo'])"
      ]
     },
     "execution_count": 11,
     "metadata": {},
     "output_type": "execute_result"
    }
   ],
   "source": [
    "# values() -- It displays all key values\n",
    "dic.values()"
   ]
  },
  {
   "cell_type": "code",
   "execution_count": 12,
   "id": "e9ebfaf0",
   "metadata": {},
   "outputs": [
    {
     "data": {
      "text/plain": [
       "dict_items([(101, 'hr'), (102, 'mg'), (103, 'ceo')])"
      ]
     },
     "execution_count": 12,
     "metadata": {},
     "output_type": "execute_result"
    }
   ],
   "source": [
    "#  items() -- Convert list into dict\n",
    "dic.items()"
   ]
  },
  {
   "cell_type": "code",
   "execution_count": 13,
   "id": "1b0c4fdb",
   "metadata": {},
   "outputs": [
    {
     "data": {
      "text/plain": [
       "'hr'"
      ]
     },
     "execution_count": 13,
     "metadata": {},
     "output_type": "execute_result"
    }
   ],
   "source": [
    "dic[101]"
   ]
  },
  {
   "cell_type": "code",
   "execution_count": 14,
   "id": "cce1d96f",
   "metadata": {},
   "outputs": [
    {
     "data": {
      "text/plain": [
       "'mg'"
      ]
     },
     "execution_count": 14,
     "metadata": {},
     "output_type": "execute_result"
    }
   ],
   "source": [
    "dic[102]"
   ]
  },
  {
   "cell_type": "code",
   "execution_count": 15,
   "id": "f4715aa7",
   "metadata": {},
   "outputs": [
    {
     "ename": "KeyError",
     "evalue": "105",
     "output_type": "error",
     "traceback": [
      "\u001b[1;31m---------------------------------------------------------------------------\u001b[0m",
      "\u001b[1;31mKeyError\u001b[0m                                  Traceback (most recent call last)",
      "\u001b[1;32m~\\AppData\\Local\\Temp\\ipykernel_20996\\3229541253.py\u001b[0m in \u001b[0;36m<module>\u001b[1;34m\u001b[0m\n\u001b[1;32m----> 1\u001b[1;33m \u001b[0mdic\u001b[0m\u001b[1;33m[\u001b[0m\u001b[1;36m105\u001b[0m\u001b[1;33m]\u001b[0m                  \u001b[1;31m# Not available\u001b[0m\u001b[1;33m\u001b[0m\u001b[1;33m\u001b[0m\u001b[0m\n\u001b[0m",
      "\u001b[1;31mKeyError\u001b[0m: 105"
     ]
    }
   ],
   "source": [
    "dic[105]                  # Not available"
   ]
  },
  {
   "cell_type": "code",
   "execution_count": 16,
   "id": "9a81fc64",
   "metadata": {},
   "outputs": [
    {
     "data": {
      "text/plain": [
       "'hr'"
      ]
     },
     "execution_count": 16,
     "metadata": {},
     "output_type": "execute_result"
    }
   ],
   "source": [
    "#  get() -- It displays the given keys values if available. If not available then it does not throw error.\n",
    "dic.get(101)"
   ]
  },
  {
   "cell_type": "code",
   "execution_count": 17,
   "id": "a19fd273",
   "metadata": {},
   "outputs": [
    {
     "data": {
      "text/plain": [
       "'Keys not found'"
      ]
     },
     "execution_count": 17,
     "metadata": {},
     "output_type": "execute_result"
    }
   ],
   "source": [
    "dic.get(108,\"Keys not found\")"
   ]
  },
  {
   "cell_type": "code",
   "execution_count": 18,
   "id": "fe994f46",
   "metadata": {},
   "outputs": [
    {
     "data": {
      "text/plain": [
       "'ceo'"
      ]
     },
     "execution_count": 18,
     "metadata": {},
     "output_type": "execute_result"
    }
   ],
   "source": [
    "dic.get(103,\"Keys not found\")"
   ]
  },
  {
   "cell_type": "code",
   "execution_count": 19,
   "id": "6ea2f68f",
   "metadata": {},
   "outputs": [
    {
     "data": {
      "text/plain": [
       "{'std name': ['sukh', 'Abdul', 'Shalini'],\n",
       " 'Roll_no': [101, 102, 103],\n",
       " 'Course': ['DSA', 'DM', 'Web']}"
      ]
     },
     "execution_count": 19,
     "metadata": {},
     "output_type": "execute_result"
    }
   ],
   "source": [
    "dic={\"std name\":[\"sukh\",\"Abdul\",\"Shalini\"],\"Roll_no\":[101,102,103],\"Course\":[\"DSA\",\"DM\",\"Web\"]}\n",
    "dic"
   ]
  },
  {
   "cell_type": "code",
   "execution_count": 20,
   "id": "d1c35054",
   "metadata": {},
   "outputs": [
    {
     "data": {
      "text/plain": [
       "[101, 102, 103]"
      ]
     },
     "execution_count": 20,
     "metadata": {},
     "output_type": "execute_result"
    }
   ],
   "source": [
    "# setdefault -- It adds the keys and values and returns the values if keys are not available.\n",
    "# If keys are available then it does not change the values.\n",
    "# It only returns the values of existing keys.\n",
    "# When you are not sure to change values........takes values in tuple\n",
    "\n",
    "dic.setdefault(\"Roll_no\",[110,120,130])"
   ]
  },
  {
   "cell_type": "code",
   "execution_count": 21,
   "id": "fd384ba2",
   "metadata": {},
   "outputs": [
    {
     "data": {
      "text/plain": [
       "[80, 90, 100]"
      ]
     },
     "execution_count": 21,
     "metadata": {},
     "output_type": "execute_result"
    }
   ],
   "source": [
    "dic.setdefault(\"marks\",[80,90,100])"
   ]
  },
  {
   "cell_type": "code",
   "execution_count": 22,
   "id": "a2a4eaf9",
   "metadata": {},
   "outputs": [
    {
     "data": {
      "text/plain": [
       "[101, 102, 103]"
      ]
     },
     "execution_count": 22,
     "metadata": {},
     "output_type": "execute_result"
    }
   ],
   "source": [
    "dic.get(\"Roll_no\")"
   ]
  },
  {
   "cell_type": "code",
   "execution_count": 23,
   "id": "fda65dc5",
   "metadata": {},
   "outputs": [
    {
     "data": {
      "text/plain": [
       "{'std name': ['sukh', 'Abdul', 'Shalini'],\n",
       " 'Roll_no': [101, 102, 103],\n",
       " 'Course': ['DSA', 'DM', 'Web'],\n",
       " 'marks': [80, 90, 100]}"
      ]
     },
     "execution_count": 23,
     "metadata": {},
     "output_type": "execute_result"
    }
   ],
   "source": [
    "dic"
   ]
  },
  {
   "cell_type": "code",
   "execution_count": 24,
   "id": "d65afd90",
   "metadata": {},
   "outputs": [],
   "source": [
    "#  update() -- Add new keys/values.\n",
    "# when you are sure to change values............takes values in dictionary\n",
    "dic.update({\"gender\":[\"M\",\"M\",\"F\"]})"
   ]
  },
  {
   "cell_type": "code",
   "execution_count": 25,
   "id": "5dcafeeb",
   "metadata": {},
   "outputs": [
    {
     "data": {
      "text/plain": [
       "{'std name': ['sukh', 'Abdul', 'Shalini'],\n",
       " 'Roll_no': [101, 102, 103],\n",
       " 'Course': ['DSA', 'DM', 'Web'],\n",
       " 'marks': [80, 90, 100],\n",
       " 'gender': ['M', 'M', 'F']}"
      ]
     },
     "execution_count": 25,
     "metadata": {},
     "output_type": "execute_result"
    }
   ],
   "source": [
    "dic"
   ]
  },
  {
   "cell_type": "code",
   "execution_count": 26,
   "id": "98704a05",
   "metadata": {},
   "outputs": [],
   "source": [
    "dic.update({\"Roll_no\":[102,103,104]})"
   ]
  },
  {
   "cell_type": "code",
   "execution_count": 27,
   "id": "99bf94bb",
   "metadata": {},
   "outputs": [
    {
     "data": {
      "text/plain": [
       "{'std name': ['sukh', 'Abdul', 'Shalini'],\n",
       " 'Roll_no': [102, 103, 104],\n",
       " 'Course': ['DSA', 'DM', 'Web'],\n",
       " 'marks': [80, 90, 100],\n",
       " 'gender': ['M', 'M', 'F']}"
      ]
     },
     "execution_count": 27,
     "metadata": {},
     "output_type": "execute_result"
    }
   ],
   "source": [
    "dic"
   ]
  },
  {
   "cell_type": "code",
   "execution_count": 28,
   "id": "fa325a72",
   "metadata": {},
   "outputs": [
    {
     "data": {
      "text/plain": [
       "102"
      ]
     },
     "execution_count": 28,
     "metadata": {},
     "output_type": "execute_result"
    }
   ],
   "source": [
    "dic[\"Roll_no\"][0]"
   ]
  },
  {
   "cell_type": "code",
   "execution_count": 29,
   "id": "972c288c",
   "metadata": {},
   "outputs": [
    {
     "data": {
      "text/plain": [
       "[102, 103, 104]"
      ]
     },
     "execution_count": 29,
     "metadata": {},
     "output_type": "execute_result"
    }
   ],
   "source": [
    "#  pop() -- remove keys with values.. need to pass keys[remove specific keys]\n",
    "dic.pop(\"Roll_no\")"
   ]
  },
  {
   "cell_type": "code",
   "execution_count": 30,
   "id": "802a5d9f",
   "metadata": {},
   "outputs": [
    {
     "data": {
      "text/plain": [
       "{'std name': ['sukh', 'Abdul', 'Shalini'],\n",
       " 'Course': ['DSA', 'DM', 'Web'],\n",
       " 'marks': [80, 90, 100],\n",
       " 'gender': ['M', 'M', 'F']}"
      ]
     },
     "execution_count": 30,
     "metadata": {},
     "output_type": "execute_result"
    }
   ],
   "source": [
    "dic"
   ]
  },
  {
   "cell_type": "code",
   "execution_count": 31,
   "id": "b114a2e6",
   "metadata": {},
   "outputs": [
    {
     "data": {
      "text/plain": [
       "('gender', ['M', 'M', 'F'])"
      ]
     },
     "execution_count": 31,
     "metadata": {},
     "output_type": "execute_result"
    }
   ],
   "source": [
    "#  popitem() -- It removes the last keys and it returns the keys & values\n",
    "\n",
    "dic.popitem()"
   ]
  },
  {
   "cell_type": "code",
   "execution_count": 32,
   "id": "c94d7f2a",
   "metadata": {},
   "outputs": [
    {
     "data": {
      "text/plain": [
       "{'std name': ['sukh', 'Abdul', 'Shalini'],\n",
       " 'Course': ['DSA', 'DM', 'Web'],\n",
       " 'marks': [80, 90, 100]}"
      ]
     },
     "execution_count": 32,
     "metadata": {},
     "output_type": "execute_result"
    }
   ],
   "source": [
    "dic"
   ]
  },
  {
   "cell_type": "code",
   "execution_count": 33,
   "id": "73110bb6",
   "metadata": {},
   "outputs": [
    {
     "data": {
      "text/plain": [
       "{'std name': ['sukh', 'Abdul', 'Shalini'],\n",
       " 'Course': ['DSA', 'DM', 'Web'],\n",
       " 'marks': [80, 90, 100]}"
      ]
     },
     "execution_count": 33,
     "metadata": {},
     "output_type": "execute_result"
    }
   ],
   "source": [
    "dic1=dic.copy()\n",
    "dic1"
   ]
  },
  {
   "cell_type": "code",
   "execution_count": 35,
   "id": "b05bbf47",
   "metadata": {},
   "outputs": [
    {
     "data": {
      "text/plain": [
       "{}"
      ]
     },
     "execution_count": 35,
     "metadata": {},
     "output_type": "execute_result"
    }
   ],
   "source": [
    "dic1.clear()\n",
    "dic1"
   ]
  },
  {
   "cell_type": "code",
   "execution_count": 36,
   "id": "3d5762e7",
   "metadata": {},
   "outputs": [
    {
     "ename": "NameError",
     "evalue": "name 'dic1' is not defined",
     "output_type": "error",
     "traceback": [
      "\u001b[1;31m---------------------------------------------------------------------------\u001b[0m",
      "\u001b[1;31mNameError\u001b[0m                                 Traceback (most recent call last)",
      "\u001b[1;32m~\\AppData\\Local\\Temp\\ipykernel_20996\\707881537.py\u001b[0m in \u001b[0;36m<module>\u001b[1;34m\u001b[0m\n\u001b[0;32m      1\u001b[0m \u001b[1;32mdel\u001b[0m \u001b[0mdic1\u001b[0m\u001b[1;33m\u001b[0m\u001b[1;33m\u001b[0m\u001b[0m\n\u001b[1;32m----> 2\u001b[1;33m \u001b[0mdic1\u001b[0m\u001b[1;33m\u001b[0m\u001b[1;33m\u001b[0m\u001b[0m\n\u001b[0m",
      "\u001b[1;31mNameError\u001b[0m: name 'dic1' is not defined"
     ]
    }
   ],
   "source": [
    "del dic1\n",
    "dic1"
   ]
  },
  {
   "cell_type": "code",
   "execution_count": null,
   "id": "20889587",
   "metadata": {},
   "outputs": [],
   "source": [
    "# set()\n",
    "\n",
    "# set is a dictionary without keys. It has only values.\n",
    "#  it is created using {}\n",
    "# It is unindexed.\n",
    "#  It is unordered.\n",
    "#  It is mutable.\n",
    "#  It is unhashable."
   ]
  },
  {
   "cell_type": "code",
   "execution_count": 39,
   "id": "de3d8fb0",
   "metadata": {},
   "outputs": [
    {
     "data": {
      "text/plain": [
       "{12, 45, 67, 89, 90}"
      ]
     },
     "execution_count": 39,
     "metadata": {},
     "output_type": "execute_result"
    }
   ],
   "source": [
    "set={12,45,67,89,90}\n",
    "set"
   ]
  },
  {
   "cell_type": "code",
   "execution_count": 38,
   "id": "ced2d0f5",
   "metadata": {},
   "outputs": [
    {
     "ename": "TypeError",
     "evalue": "'set' object is not subscriptable",
     "output_type": "error",
     "traceback": [
      "\u001b[1;31m---------------------------------------------------------------------------\u001b[0m",
      "\u001b[1;31mTypeError\u001b[0m                                 Traceback (most recent call last)",
      "\u001b[1;32m~\\AppData\\Local\\Temp\\ipykernel_20996\\2507697740.py\u001b[0m in \u001b[0;36m<module>\u001b[1;34m\u001b[0m\n\u001b[1;32m----> 1\u001b[1;33m \u001b[0mset\u001b[0m\u001b[1;33m[\u001b[0m\u001b[1;36m1\u001b[0m\u001b[1;33m]\u001b[0m\u001b[1;33m\u001b[0m\u001b[1;33m\u001b[0m\u001b[0m\n\u001b[0m",
      "\u001b[1;31mTypeError\u001b[0m: 'set' object is not subscriptable"
     ]
    }
   ],
   "source": [
    "set[1]"
   ]
  },
  {
   "cell_type": "code",
   "execution_count": 40,
   "id": "ea1630fd",
   "metadata": {},
   "outputs": [
    {
     "data": {
      "text/plain": [
       "{12, 34, 56.7, True, 'hello', 'welcome'}"
      ]
     },
     "execution_count": 40,
     "metadata": {},
     "output_type": "execute_result"
    }
   ],
   "source": [
    "s={12,34,56.7,\"hello\",\"welcome\",True}\n",
    "s"
   ]
  },
  {
   "cell_type": "code",
   "execution_count": 46,
   "id": "8ca5f73a",
   "metadata": {},
   "outputs": [],
   "source": [
    "#  add\n",
    "s.add(\"apple\")"
   ]
  },
  {
   "cell_type": "code",
   "execution_count": 43,
   "id": "a911d782",
   "metadata": {},
   "outputs": [
    {
     "data": {
      "text/plain": [
       "{12, 34, 56.7, True, 'apple', 'hello', 'welcome'}"
      ]
     },
     "execution_count": 43,
     "metadata": {},
     "output_type": "execute_result"
    }
   ],
   "source": [
    "s"
   ]
  },
  {
   "cell_type": "code",
   "execution_count": 44,
   "id": "4be9a631",
   "metadata": {},
   "outputs": [
    {
     "data": {
      "text/plain": [
       "(1, 2, 3, 4, 54, 5, 6, 2, 3, 5, 5, 6, 6, 6)"
      ]
     },
     "execution_count": 44,
     "metadata": {},
     "output_type": "execute_result"
    }
   ],
   "source": [
    "t1=(1,2,3,4,54,5,6)\n",
    "t2=(2,3,5,5,6,6,6)\n",
    "t1+t2"
   ]
  },
  {
   "cell_type": "code",
   "execution_count": 49,
   "id": "7e17dbba",
   "metadata": {},
   "outputs": [
    {
     "ename": "TypeError",
     "evalue": "unhashable type: 'set'",
     "output_type": "error",
     "traceback": [
      "\u001b[1;31m---------------------------------------------------------------------------\u001b[0m",
      "\u001b[1;31mTypeError\u001b[0m                                 Traceback (most recent call last)",
      "\u001b[1;32m~\\AppData\\Local\\Temp\\ipykernel_20996\\1674652599.py\u001b[0m in \u001b[0;36m<module>\u001b[1;34m\u001b[0m\n\u001b[1;32m----> 1\u001b[1;33m \u001b[0mhash\u001b[0m\u001b[1;33m(\u001b[0m\u001b[0ms\u001b[0m\u001b[1;33m)\u001b[0m\u001b[1;33m\u001b[0m\u001b[1;33m\u001b[0m\u001b[0m\n\u001b[0m",
      "\u001b[1;31mTypeError\u001b[0m: unhashable type: 'set'"
     ]
    }
   ],
   "source": [
    "hash(s)"
   ]
  },
  {
   "cell_type": "code",
   "execution_count": 52,
   "id": "8ca6f72f",
   "metadata": {},
   "outputs": [],
   "source": [
    "s.remove(12)"
   ]
  },
  {
   "cell_type": "code",
   "execution_count": 53,
   "id": "aef97b98",
   "metadata": {},
   "outputs": [
    {
     "data": {
      "text/plain": [
       "{34, 56.7, True, 'apple', 'hello', 'welcome'}"
      ]
     },
     "execution_count": 53,
     "metadata": {},
     "output_type": "execute_result"
    }
   ],
   "source": [
    "s"
   ]
  },
  {
   "cell_type": "code",
   "execution_count": 55,
   "id": "6bcb9d0c",
   "metadata": {},
   "outputs": [
    {
     "data": {
      "text/plain": [
       "34"
      ]
     },
     "execution_count": 55,
     "metadata": {},
     "output_type": "execute_result"
    }
   ],
   "source": [
    "# pop() -- remove items randomly\n",
    "s.pop()"
   ]
  },
  {
   "cell_type": "code",
   "execution_count": 56,
   "id": "a555eda2",
   "metadata": {},
   "outputs": [
    {
     "data": {
      "text/plain": [
       "{56.7, 'apple', 'hello', 'welcome'}"
      ]
     },
     "execution_count": 56,
     "metadata": {},
     "output_type": "execute_result"
    }
   ],
   "source": [
    "s"
   ]
  },
  {
   "cell_type": "code",
   "execution_count": 57,
   "id": "d4c0fcff",
   "metadata": {},
   "outputs": [
    {
     "name": "stdout",
     "output_type": "stream",
     "text": [
      "{12, 13, 14, 15}\n"
     ]
    }
   ],
   "source": [
    "s1={12,13,14,15}\n",
    "s2={11,12,13,14}\n",
    "print(s1)"
   ]
  },
  {
   "cell_type": "code",
   "execution_count": 58,
   "id": "d98c8880",
   "metadata": {},
   "outputs": [
    {
     "name": "stdout",
     "output_type": "stream",
     "text": [
      "{11, 12, 13, 14}\n"
     ]
    }
   ],
   "source": [
    "print(s2)"
   ]
  },
  {
   "cell_type": "code",
   "execution_count": 61,
   "id": "0319cef8",
   "metadata": {},
   "outputs": [
    {
     "data": {
      "text/plain": [
       "{11}"
      ]
     },
     "execution_count": 61,
     "metadata": {},
     "output_type": "execute_result"
    }
   ],
   "source": [
    "s2.difference(s1)\n",
    "#  remove common elements from both the sets"
   ]
  },
  {
   "cell_type": "code",
   "execution_count": 63,
   "id": "7197a898",
   "metadata": {},
   "outputs": [
    {
     "data": {
      "text/plain": [
       "{12, 13, 14}"
      ]
     },
     "execution_count": 63,
     "metadata": {},
     "output_type": "execute_result"
    }
   ],
   "source": [
    "#  intersection- It returns the common elements\n",
    "\n",
    "s1.intersection(s2)"
   ]
  },
  {
   "cell_type": "code",
   "execution_count": 65,
   "id": "f92ba58e",
   "metadata": {},
   "outputs": [
    {
     "data": {
      "text/plain": [
       "{4, 6, 7, 11, 12, 67, 78, 90, 455}"
      ]
     },
     "execution_count": 65,
     "metadata": {},
     "output_type": "execute_result"
    }
   ],
   "source": [
    "s2={11,12,12,4,455,6,67,7,7,78,90}\n",
    "s2                # It only displays the unique elements"
   ]
  },
  {
   "cell_type": "code",
   "execution_count": 66,
   "id": "7fd1e375",
   "metadata": {},
   "outputs": [
    {
     "data": {
      "text/plain": [
       "{4, 6, 7, 11, 12, 13, 14, 15, 67, 78, 90, 455}"
      ]
     },
     "execution_count": 66,
     "metadata": {},
     "output_type": "execute_result"
    }
   ],
   "source": [
    "#  union() - unique value of both the sets are combined together.\n",
    "\n",
    "s1.union(s2)"
   ]
  },
  {
   "cell_type": "code",
   "execution_count": 71,
   "id": "276f5fac",
   "metadata": {},
   "outputs": [
    {
     "data": {
      "text/plain": [
       "{1, 2, 3, 4, 5, 6, 7, 8, 9, 11, 12, 67, 78, 90, 455}"
      ]
     },
     "execution_count": 71,
     "metadata": {},
     "output_type": "execute_result"
    }
   ],
   "source": [
    "for i in range(1,10):\n",
    "    s2.add(i)\n",
    "s2"
   ]
  },
  {
   "cell_type": "code",
   "execution_count": 68,
   "id": "86d36a07",
   "metadata": {},
   "outputs": [],
   "source": [
    "list=[12,\"lion\"]\n",
    "for i in list:\n",
    "    s1.add(i)"
   ]
  },
  {
   "cell_type": "code",
   "execution_count": 69,
   "id": "dcdbef09",
   "metadata": {},
   "outputs": [
    {
     "data": {
      "text/plain": [
       "{1, 12, 13, 14, 15, 2, 3, 4, 5, 6, 7, 8, 9, 'lion'}"
      ]
     },
     "execution_count": 69,
     "metadata": {},
     "output_type": "execute_result"
    }
   ],
   "source": [
    "s1"
   ]
  },
  {
   "cell_type": "code",
   "execution_count": null,
   "id": "dc55f36b",
   "metadata": {},
   "outputs": [],
   "source": []
  },
  {
   "cell_type": "code",
   "execution_count": null,
   "id": "f0e23d2e",
   "metadata": {},
   "outputs": [],
   "source": []
  },
  {
   "cell_type": "code",
   "execution_count": null,
   "id": "0e2f1958",
   "metadata": {},
   "outputs": [],
   "source": []
  },
  {
   "cell_type": "code",
   "execution_count": null,
   "id": "ab602572",
   "metadata": {},
   "outputs": [],
   "source": []
  },
  {
   "cell_type": "code",
   "execution_count": null,
   "id": "ac89ef0f",
   "metadata": {},
   "outputs": [],
   "source": []
  }
 ],
 "metadata": {
  "kernelspec": {
   "display_name": "Python 3 (ipykernel)",
   "language": "python",
   "name": "python3"
  },
  "language_info": {
   "codemirror_mode": {
    "name": "ipython",
    "version": 3
   },
   "file_extension": ".py",
   "mimetype": "text/x-python",
   "name": "python",
   "nbconvert_exporter": "python",
   "pygments_lexer": "ipython3",
   "version": "3.9.13"
  }
 },
 "nbformat": 4,
 "nbformat_minor": 5
}
