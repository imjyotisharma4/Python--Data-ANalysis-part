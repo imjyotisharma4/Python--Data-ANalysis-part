{
 "cells": [
  {
   "cell_type": "code",
   "execution_count": 2,
   "id": "c011fcbc",
   "metadata": {},
   "outputs": [],
   "source": [
    "import numpy as np"
   ]
  },
  {
   "cell_type": "code",
   "execution_count": 5,
   "id": "77159b97",
   "metadata": {},
   "outputs": [
    {
     "name": "stdout",
     "output_type": "stream",
     "text": [
      "[23 47 67 90 68]\n"
     ]
    },
    {
     "data": {
      "text/plain": [
       "numpy.ndarray"
      ]
     },
     "execution_count": 5,
     "metadata": {},
     "output_type": "execute_result"
    }
   ],
   "source": [
    "age_list=[23,47,67,90,68]\n",
    "\n",
    "# create array from the list using np.array\n",
    "age_array=np.array(age_list)\n",
    "\n",
    "# print the array\n",
    "print(age_array)\n",
    "\n",
    "# check the type of array\n",
    "type(age_array)                   #n-dimensional array"
   ]
  },
  {
   "cell_type": "code",
   "execution_count": 5,
   "id": "e33ce320",
   "metadata": {},
   "outputs": [
    {
     "data": {
      "text/plain": [
       "array([0.39858724, 0.63659657, 0.75201147, 0.81671215])"
      ]
     },
     "execution_count": 5,
     "metadata": {},
     "output_type": "execute_result"
    }
   ],
   "source": [
    "np.random.random(size=4)\n"
   ]
  },
  {
   "cell_type": "code",
   "execution_count": 8,
   "id": "2877f870",
   "metadata": {},
   "outputs": [
    {
     "data": {
      "text/plain": [
       "array([0, 1, 1, 0])"
      ]
     },
     "execution_count": 8,
     "metadata": {},
     "output_type": "execute_result"
    }
   ],
   "source": [
    "np.random.randint(2,size=4)"
   ]
  },
  {
   "cell_type": "code",
   "execution_count": 5,
   "id": "08f21af2",
   "metadata": {},
   "outputs": [
    {
     "data": {
      "text/plain": [
       "array([7.65466687, 5.43737962, 7.24677134])"
      ]
     },
     "execution_count": 5,
     "metadata": {},
     "output_type": "execute_result"
    }
   ],
   "source": [
    "np.random.random(size=3)*8"
   ]
  },
  {
   "cell_type": "code",
   "execution_count": 11,
   "id": "de624793",
   "metadata": {},
   "outputs": [
    {
     "data": {
      "text/plain": [
       "array([0.03781679, 0.2319306 , 0.65865319])"
      ]
     },
     "execution_count": 11,
     "metadata": {},
     "output_type": "execute_result"
    }
   ],
   "source": [
    "np.random.random(size=3)%2"
   ]
  },
  {
   "cell_type": "code",
   "execution_count": 12,
   "id": "98a2f36c",
   "metadata": {},
   "outputs": [
    {
     "data": {
      "text/plain": [
       "array([[0.47579013, 0.82290034, 0.59136526, 0.07260854],\n",
       "       [0.7316778 , 0.27424431, 0.13568523, 0.30443266]])"
      ]
     },
     "execution_count": 12,
     "metadata": {},
     "output_type": "execute_result"
    }
   ],
   "source": [
    "# shape-rows and columns\n",
    "\n",
    "np.random.rand(2,4)\n",
    "            "
   ]
  },
  {
   "cell_type": "code",
   "execution_count": 4,
   "id": "eb00174f",
   "metadata": {},
   "outputs": [
    {
     "data": {
      "text/plain": [
       "array([[0.08412807, 0.93937641, 0.37472369, 0.68571316, 0.81289862,\n",
       "        0.68214307, 0.61129619, 0.94222384, 0.34289145, 0.08958167],\n",
       "       [0.94433851, 0.21244446, 0.80030211, 0.82733236, 0.8962517 ,\n",
       "        0.31594656, 0.58483107, 0.85209204, 0.06380662, 0.65573861]])"
      ]
     },
     "execution_count": 4,
     "metadata": {},
     "output_type": "execute_result"
    }
   ],
   "source": [
    "np.random.rand(2,10)\n",
    "            "
   ]
  },
  {
   "cell_type": "code",
   "execution_count": 14,
   "id": "dcb2842c",
   "metadata": {},
   "outputs": [
    {
     "data": {
      "text/plain": [
       "3"
      ]
     },
     "execution_count": 14,
     "metadata": {},
     "output_type": "execute_result"
    }
   ],
   "source": [
    "np.random.randint(2,4)\n",
    "            "
   ]
  },
  {
   "cell_type": "code",
   "execution_count": 15,
   "id": "030e26f1",
   "metadata": {},
   "outputs": [
    {
     "data": {
      "text/plain": [
       "array([[[0.26544542, 0.51531975, 0.9712749 , ..., 0.29222541,\n",
       "         0.29930218, 0.93914557],\n",
       "        [0.6255135 , 0.64249375, 0.09428961, ..., 0.09519116,\n",
       "         0.90108927, 0.96252572],\n",
       "        [0.78095016, 0.90751289, 0.01740494, ..., 0.70594034,\n",
       "         0.31298906, 0.78813642],\n",
       "        ...,\n",
       "        [0.83979106, 0.17701564, 0.34131794, ..., 0.75455004,\n",
       "         0.20861461, 0.91371734],\n",
       "        [0.90700221, 0.83340414, 0.20651661, ..., 0.94344583,\n",
       "         0.75561689, 0.29204678],\n",
       "        [0.52332584, 0.01500391, 0.89828848, ..., 0.46834933,\n",
       "         0.11341492, 0.80773958]],\n",
       "\n",
       "       [[0.80936503, 0.71534799, 0.26239137, ..., 0.37046754,\n",
       "         0.58491072, 0.82179095],\n",
       "        [0.95643201, 0.36073439, 0.15348765, ..., 0.98717154,\n",
       "         0.07426797, 0.96072934],\n",
       "        [0.20056323, 0.51318488, 0.7160161 , ..., 0.01760947,\n",
       "         0.0286067 , 0.04433253],\n",
       "        ...,\n",
       "        [0.40953762, 0.91403752, 0.07879469, ..., 0.36903079,\n",
       "         0.63256891, 0.71452629],\n",
       "        [0.86052414, 0.39999797, 0.38136858, ..., 0.09319628,\n",
       "         0.94940993, 0.90473282],\n",
       "        [0.45752357, 0.87502234, 0.07277091, ..., 0.95903055,\n",
       "         0.65382501, 0.13334149]],\n",
       "\n",
       "       [[0.21520053, 0.23692611, 0.18707831, ..., 0.93941205,\n",
       "         0.87743352, 0.44473472],\n",
       "        [0.41203465, 0.75702194, 0.97589625, ..., 0.00943279,\n",
       "         0.13759822, 0.48127284],\n",
       "        [0.69040066, 0.97165376, 0.19454765, ..., 0.53355561,\n",
       "         0.68455823, 0.76104922],\n",
       "        ...,\n",
       "        [0.35260941, 0.30620655, 0.45170348, ..., 0.86400563,\n",
       "         0.03884679, 0.2585422 ],\n",
       "        [0.53349806, 0.73991763, 0.09950372, ..., 0.69719822,\n",
       "         0.554111  , 0.33305745],\n",
       "        [0.21690323, 0.10289497, 0.1224338 , ..., 0.05583182,\n",
       "         0.94365458, 0.31608899]],\n",
       "\n",
       "       ...,\n",
       "\n",
       "       [[0.32817633, 0.95773664, 0.56851691, ..., 0.03422091,\n",
       "         0.61124129, 0.38837827],\n",
       "        [0.87698725, 0.98227529, 0.97704541, ..., 0.92132966,\n",
       "         0.53614175, 0.38604757],\n",
       "        [0.72518789, 0.02275149, 0.5477599 , ..., 0.72133096,\n",
       "         0.86964396, 0.54639303],\n",
       "        ...,\n",
       "        [0.62659006, 0.46082767, 0.16578919, ..., 0.23168173,\n",
       "         0.6048105 , 0.99150225],\n",
       "        [0.20314811, 0.97762612, 0.74704447, ..., 0.21653878,\n",
       "         0.17303658, 0.88477508],\n",
       "        [0.13941092, 0.47275942, 0.94836058, ..., 0.153161  ,\n",
       "         0.92939855, 0.95006731]],\n",
       "\n",
       "       [[0.86241529, 0.8911043 , 0.71021103, ..., 0.48257663,\n",
       "         0.57319984, 0.90370711],\n",
       "        [0.72409089, 0.45465884, 0.49356531, ..., 0.32634083,\n",
       "         0.16602356, 0.55226068],\n",
       "        [0.35084568, 0.45316502, 0.81695269, ..., 0.10294747,\n",
       "         0.9405683 , 0.51056737],\n",
       "        ...,\n",
       "        [0.25525984, 0.17661535, 0.27632652, ..., 0.46158661,\n",
       "         0.15019048, 0.69794666],\n",
       "        [0.1639556 , 0.0373806 , 0.39401492, ..., 0.68631174,\n",
       "         0.96122365, 0.75136275],\n",
       "        [0.87870906, 0.26185875, 0.88470124, ..., 0.49584984,\n",
       "         0.9374136 , 0.21854239]],\n",
       "\n",
       "       [[0.14715173, 0.91485713, 0.53855054, ..., 0.03605336,\n",
       "         0.18922545, 0.78487137],\n",
       "        [0.36747072, 0.88555706, 0.46141749, ..., 0.93731765,\n",
       "         0.6996355 , 0.4318004 ],\n",
       "        [0.46170855, 0.57875778, 0.58075226, ..., 0.17311242,\n",
       "         0.40224653, 0.06735582],\n",
       "        ...,\n",
       "        [0.90423979, 0.9656779 , 0.18130389, ..., 0.68051021,\n",
       "         0.02486922, 0.27559956],\n",
       "        [0.05806337, 0.39825774, 0.60255619, ..., 0.65234549,\n",
       "         0.10291347, 0.42723372],\n",
       "        [0.24916204, 0.94251283, 0.53851037, ..., 0.06520425,\n",
       "         0.97151737, 0.27712534]]])"
      ]
     },
     "execution_count": 15,
     "metadata": {},
     "output_type": "execute_result"
    }
   ],
   "source": [
    "np.random.rand(10,100,8)       #any 8 random values between 10 to 100\n",
    "            "
   ]
  },
  {
   "cell_type": "code",
   "execution_count": 9,
   "id": "2550858b",
   "metadata": {},
   "outputs": [
    {
     "name": "stdout",
     "output_type": "stream",
     "text": [
      "[10 12 14 16 18 20 22 24 26 28 30 32 34 36 38 40 42 44 46 48 50 52 54 56\n",
      " 58 60 62 64 66 68 70 72 74 76 78 80 82 84 86 88 90 92 94 96 98]\n"
     ]
    },
    {
     "data": {
      "text/plain": [
       "numpy.ndarray"
      ]
     },
     "execution_count": 9,
     "metadata": {},
     "output_type": "execute_result"
    }
   ],
   "source": [
    "# create an array of even numbers between 10,100\n",
    "# here 10 is inclusive and 100 is exclusive\n",
    "\n",
    "# even=np.arange(start=10,stop=100,step=2)                         #numbers generated have the same difference\n",
    "even=np.arange(10,100,2)                         #numbers generated have the same difference\n",
    "\n",
    "# print the array\n",
    "print(even)\n",
    "\n",
    "# check the type of even\n",
    "type(even)"
   ]
  },
  {
   "cell_type": "code",
   "execution_count": 20,
   "id": "1673f0d7",
   "metadata": {},
   "outputs": [
    {
     "name": "stdout",
     "output_type": "stream",
     "text": [
      "[11 13 15 17 19 21 23 25 27 29 31 33 35 37 39 41 43 45 47 49 51 53 55 57\n",
      " 59 61 63 65 67 69 71 73 75 77 79 81 83 85 87 89 91 93 95 97 99]\n"
     ]
    },
    {
     "data": {
      "text/plain": [
       "numpy.ndarray"
      ]
     },
     "execution_count": 20,
     "metadata": {},
     "output_type": "execute_result"
    }
   ],
   "source": [
    "# create an array of odd numbers between 10,100\n",
    "# here 10 is inclusive and 100 is exclusive\n",
    "\n",
    "odd=np.arange(start=11,stop=100,step=2)\n",
    "\n",
    "# print the array\n",
    "print(odd)\n",
    "\n",
    "# check the type of even\n",
    "type(odd)"
   ]
  },
  {
   "cell_type": "code",
   "execution_count": 22,
   "id": "296845f4",
   "metadata": {},
   "outputs": [
    {
     "name": "stdout",
     "output_type": "stream",
     "text": [
      "[  1.  12.  23.  34.  45.  56.  67.  78.  89. 100.]\n"
     ]
    },
    {
     "data": {
      "text/plain": [
       "numpy.ndarray"
      ]
     },
     "execution_count": 22,
     "metadata": {},
     "output_type": "execute_result"
    }
   ],
   "source": [
    "# create numbers between 10,100\n",
    "# here 1 and 100 are inclusive\n",
    "# num is the number of values that we need in our array\n",
    "\n",
    "#               *Both are inclusive in case of linspace  \n",
    "#               * here 10 and 100 are inclusive *\n",
    "\n",
    "nums=np.linspace(start=1,stop=100,num=10)\n",
    "\n",
    "# print the array\n",
    "print(nums)\n",
    "\n",
    "# check the type of even\n",
    "type(nums)"
   ]
  },
  {
   "cell_type": "code",
   "execution_count": 26,
   "id": "64242fbd",
   "metadata": {},
   "outputs": [
    {
     "name": "stdout",
     "output_type": "stream",
     "text": [
      "[  1.   17.5  34.   50.5  67.   83.5 100. ]\n"
     ]
    },
    {
     "data": {
      "text/plain": [
       "numpy.ndarray"
      ]
     },
     "execution_count": 26,
     "metadata": {},
     "output_type": "execute_result"
    }
   ],
   "source": [
    "# create numbers between 10,100\n",
    "# here 1 and 100 are inclusive\n",
    "# num is the number of values that we need in our array\n",
    "# here 10 is inclusive and 100 is exclusive\n",
    "\n",
    "nums=np.linspace(1,100,7)\n",
    "\n",
    "# print the array\n",
    "print(nums)\n",
    "\n",
    "# check the type of even\n",
    "type(nums)"
   ]
  },
  {
   "cell_type": "code",
   "execution_count": 27,
   "id": "542b0cbc",
   "metadata": {},
   "outputs": [
    {
     "data": {
      "text/plain": [
       "array([0., 0., 0., 0., 0., 0., 0., 0., 0., 0.])"
      ]
     },
     "execution_count": 27,
     "metadata": {},
     "output_type": "execute_result"
    }
   ],
   "source": [
    "np.zeros(10)"
   ]
  },
  {
   "cell_type": "code",
   "execution_count": 12,
   "id": "ee305680",
   "metadata": {},
   "outputs": [
    {
     "data": {
      "text/plain": [
       "array([1., 1., 1., 1., 1., 1., 1., 1., 1., 1.])"
      ]
     },
     "execution_count": 12,
     "metadata": {},
     "output_type": "execute_result"
    }
   ],
   "source": [
    "np.ones(10)"
   ]
  },
  {
   "cell_type": "code",
   "execution_count": 11,
   "id": "fa9332d8",
   "metadata": {},
   "outputs": [
    {
     "name": "stdout",
     "output_type": "stream",
     "text": [
      "[['' '' '']\n",
      " ['' '' '']\n",
      " ['' '' '']]\n"
     ]
    }
   ],
   "source": [
    "# create a 3 x 3 matrix\n",
    "\n",
    "matrix=np.empty((3,3),dtype=str)\n",
    "\n",
    "# print the matrix\n",
    "print(matrix)"
   ]
  },
  {
   "cell_type": "code",
   "execution_count": 12,
   "id": "dda8c499",
   "metadata": {},
   "outputs": [
    {
     "name": "stdout",
     "output_type": "stream",
     "text": [
      "1.21.5\n"
     ]
    }
   ],
   "source": [
    "import numpy as np\n",
    "print(np.__version__)"
   ]
  },
  {
   "cell_type": "code",
   "execution_count": 13,
   "id": "d1caeb08",
   "metadata": {},
   "outputs": [],
   "source": [
    "import numpy as np"
   ]
  },
  {
   "cell_type": "code",
   "execution_count": 14,
   "id": "9ee38c4c",
   "metadata": {},
   "outputs": [
    {
     "name": "stdout",
     "output_type": "stream",
     "text": [
      "[[11 11 11]\n",
      " [11 11 11]\n",
      " [11 11 11]]\n"
     ]
    }
   ],
   "source": [
    "matrix = np.full((3,3),fill_value=11)                              \n",
    "print(matrix)                                                      "
   ]
  },
  {
   "cell_type": "code",
   "execution_count": 4,
   "id": "f2e7c605",
   "metadata": {},
   "outputs": [
    {
     "data": {
      "text/plain": [
       "array([[1., 0., 0., 0., 0.],\n",
       "       [0., 1., 0., 0., 0.],\n",
       "       [0., 0., 1., 0., 0.],\n",
       "       [0., 0., 0., 1., 0.],\n",
       "       [0., 0., 0., 0., 1.]])"
      ]
     },
     "execution_count": 4,
     "metadata": {},
     "output_type": "execute_result"
    }
   ],
   "source": [
    "np.identity(5)"
   ]
  },
  {
   "cell_type": "code",
   "execution_count": 15,
   "id": "f638f3bb",
   "metadata": {},
   "outputs": [
    {
     "data": {
      "text/plain": [
       "array([[1., 0., 0., 0., 0.],\n",
       "       [0., 1., 0., 0., 0.],\n",
       "       [0., 0., 1., 0., 0.],\n",
       "       [0., 0., 0., 1., 0.],\n",
       "       [0., 0., 0., 0., 1.]])"
      ]
     },
     "execution_count": 15,
     "metadata": {},
     "output_type": "execute_result"
    }
   ],
   "source": [
    "np.eye(N=5,M=5,k=0)"
   ]
  },
  {
   "cell_type": "code",
   "execution_count": 18,
   "id": "62c83bd7",
   "metadata": {},
   "outputs": [
    {
     "data": {
      "text/plain": [
       "array([[0., 0., 1., 0., 0.],\n",
       "       [0., 0., 0., 1., 0.],\n",
       "       [0., 0., 0., 0., 1.],\n",
       "       [0., 0., 0., 0., 0.],\n",
       "       [0., 0., 0., 0., 0.]])"
      ]
     },
     "execution_count": 18,
     "metadata": {},
     "output_type": "execute_result"
    }
   ],
   "source": [
    "np.eye(N=5,M=5,k=2)"
   ]
  },
  {
   "cell_type": "code",
   "execution_count": 17,
   "id": "4000b75f",
   "metadata": {},
   "outputs": [
    {
     "data": {
      "text/plain": [
       "array([[0., 0., 0., 0., 0.],\n",
       "       [0., 0., 0., 0., 0.],\n",
       "       [1., 0., 0., 0., 0.],\n",
       "       [0., 1., 0., 0., 0.],\n",
       "       [0., 0., 1., 0., 0.]])"
      ]
     },
     "execution_count": 17,
     "metadata": {},
     "output_type": "execute_result"
    }
   ],
   "source": [
    "np.eye(N=5,M=5,k=-2)"
   ]
  },
  {
   "cell_type": "code",
   "execution_count": 13,
   "id": "7097a026",
   "metadata": {},
   "outputs": [
    {
     "name": "stdout",
     "output_type": "stream",
     "text": [
      "Shape of array is :  (2, 3)\n"
     ]
    }
   ],
   "source": [
    "books=np.array([(\"Maths\",\"Eng\",\"Hin\"),(20,23,12)])\n",
    "print(\"Shape of array is : \",books.shape)     #no of rows and columns in matrix"
   ]
  },
  {
   "cell_type": "code",
   "execution_count": 14,
   "id": "965eb23e",
   "metadata": {},
   "outputs": [
    {
     "name": "stdout",
     "output_type": "stream",
     "text": [
      "Size of array is :  6\n"
     ]
    }
   ],
   "source": [
    "books=np.array([(\"Maths\",\"Eng\",\"Hin\"),(20,23,18)])\n",
    "print(\"Size of array is : \",books.size)        # size of the matrix/no of elements"
   ]
  },
  {
   "cell_type": "code",
   "execution_count": 23,
   "id": "360a4c36",
   "metadata": {},
   "outputs": [
    {
     "name": "stdout",
     "output_type": "stream",
     "text": [
      "Shape of array is :  6\n"
     ]
    }
   ],
   "source": [
    "books=np.array([(3,1,4),(20,23,18)])\n",
    "print(\"Size of array is : \",books.size)        # size of the matrix/no of elements"
   ]
  },
  {
   "cell_type": "code",
   "execution_count": 24,
   "id": "adab3e6b",
   "metadata": {},
   "outputs": [
    {
     "name": "stdout",
     "output_type": "stream",
     "text": [
      "Shape of array is :  int32\n"
     ]
    }
   ],
   "source": [
    "books=np.array([(3,1,4),(20,23,18)])\n",
    "print(\"type of array is : \",books.dtype)        # type of the matrix/no of elements"
   ]
  },
  {
   "cell_type": "code",
   "execution_count": 31,
   "id": "fe908330",
   "metadata": {},
   "outputs": [
    {
     "name": "stdout",
     "output_type": "stream",
     "text": [
      "dimensions of array is :  2\n"
     ]
    }
   ],
   "source": [
    "books=np.array([(\"Maths\",\"Eng\",\"Hin\"),(20,23,18)])\n",
    "print(\"dimensions of array is : \",books.ndim)        # dimensions of the matrix/no of elements"
   ]
  },
  {
   "cell_type": "code",
   "execution_count": 15,
   "id": "6083448c",
   "metadata": {},
   "outputs": [
    {
     "name": "stdout",
     "output_type": "stream",
     "text": [
      "Created array :  [['Maths' '18']\n",
      " ['Eng' '19']\n",
      " ['Hin' '20']]\n",
      "\n",
      " reshaped array is :  [['Maths']\n",
      " ['18']\n",
      " ['Eng']\n",
      " ['19']\n",
      " ['Hin']\n",
      " ['20']]\n"
     ]
    }
   ],
   "source": [
    "# reshape- methods\n",
    "\n",
    "books=np.array([(\"Maths\",18),(\"Eng\",19),(\"Hin\",20)])\n",
    "print(\"Created array : \",books)\n",
    "books_rate=books.reshape(6,1)\n",
    "print(\"\\n reshaped array is : \",books_rate)        # size of the matrix/no of elements"
   ]
  },
  {
   "cell_type": "code",
   "execution_count": 34,
   "id": "c2d6d944",
   "metadata": {},
   "outputs": [
    {
     "name": "stdout",
     "output_type": "stream",
     "text": [
      "Last element :  ['Jessica' '22']\n"
     ]
    }
   ],
   "source": [
    "data=np.array([(\"Charles\",18),(\"Logan\",20),(\"Jessica\",22)])\n",
    "print(\"Last element : \",data[-1])"
   ]
  },
  {
   "cell_type": "code",
   "execution_count": 35,
   "id": "4e6b4d97",
   "metadata": {},
   "outputs": [
    {
     "name": "stdout",
     "output_type": "stream",
     "text": [
      "Elememnt at index position :  ['Logan' '20']\n"
     ]
    }
   ],
   "source": [
    "print(\"Elememnt at index position : \",data[1])"
   ]
  },
  {
   "cell_type": "code",
   "execution_count": 36,
   "id": "62d3a0fd",
   "metadata": {},
   "outputs": [
    {
     "data": {
      "text/plain": [
       "'18'"
      ]
     },
     "execution_count": 36,
     "metadata": {},
     "output_type": "execute_result"
    }
   ],
   "source": [
    "data[0][1]"
   ]
  },
  {
   "cell_type": "code",
   "execution_count": 38,
   "id": "5fdd42c0",
   "metadata": {},
   "outputs": [
    {
     "data": {
      "text/plain": [
       "'20'"
      ]
     },
     "execution_count": 38,
     "metadata": {},
     "output_type": "execute_result"
    }
   ],
   "source": [
    "data[1][1]"
   ]
  },
  {
   "cell_type": "code",
   "execution_count": 41,
   "id": "9bd9a312",
   "metadata": {},
   "outputs": [
    {
     "data": {
      "text/plain": [
       "'22'"
      ]
     },
     "execution_count": 41,
     "metadata": {},
     "output_type": "execute_result"
    }
   ],
   "source": [
    "data[2][1]"
   ]
  },
  {
   "cell_type": "code",
   "execution_count": 42,
   "id": "1a14f4e6",
   "metadata": {},
   "outputs": [
    {
     "data": {
      "text/plain": [
       "'Jessica'"
      ]
     },
     "execution_count": 42,
     "metadata": {},
     "output_type": "execute_result"
    }
   ],
   "source": [
    "data[2][0]"
   ]
  },
  {
   "cell_type": "code",
   "execution_count": 16,
   "id": "35a0d0c6",
   "metadata": {},
   "outputs": [],
   "source": [
    "import numpy as np"
   ]
  },
  {
   "cell_type": "code",
   "execution_count": 7,
   "id": "ba6a55be",
   "metadata": {},
   "outputs": [
    {
     "name": "stdout",
     "output_type": "stream",
     "text": [
      "4th and 5th element:  [43. 92.]\n"
     ]
    }
   ],
   "source": [
    "#  consider a ID Array\n",
    "\n",
    "weight=np.array([73,68,55.5,43,92,66,44])\n",
    "\n",
    "# retrieve the 4th and the 5th element\n",
    "print(\"4th and 5th element: \",weight[3:5])\n"
   ]
  },
  {
   "cell_type": "code",
   "execution_count": 8,
   "id": "9aedeb01",
   "metadata": {},
   "outputs": [
    {
     "name": "stdout",
     "output_type": "stream",
     "text": [
      "4th and 5th element:  [92. 66.]\n"
     ]
    }
   ],
   "source": [
    "#  retrieve the 4th and the 5th element from reverse indexing \n",
    "print(\"4th and 5th element: \",weight[-3:-1])"
   ]
  },
  {
   "cell_type": "code",
   "execution_count": 9,
   "id": "1dd82d6f",
   "metadata": {},
   "outputs": [
    {
     "name": "stdout",
     "output_type": "stream",
     "text": [
      "every second element:  [73. 43. 44.]\n"
     ]
    }
   ],
   "source": [
    "#  retrieve every third element\n",
    "print(\"every second element: \",weight[0::3])     #jumping"
   ]
  },
  {
   "cell_type": "code",
   "execution_count": 11,
   "id": "b66310e2",
   "metadata": {},
   "outputs": [
    {
     "name": "stdout",
     "output_type": "stream",
     "text": [
      "elements before 43:  [73.  68.  55.5]\n"
     ]
    }
   ],
   "source": [
    "#  retrieve all elements before 43\n",
    "print(\"elements before 43: \",weight[:3])       #before 3rd index"
   ]
  },
  {
   "cell_type": "code",
   "execution_count": 12,
   "id": "82315764",
   "metadata": {},
   "outputs": [
    {
     "name": "stdout",
     "output_type": "stream",
     "text": [
      "elements before 43:  [73.  55.5 92.  44. ]\n"
     ]
    }
   ],
   "source": [
    "#  retrieve all elements before 43\n",
    "print(\"elements before 43: \",weight[0::2])       #before 3rd index"
   ]
  },
  {
   "cell_type": "code",
   "execution_count": 14,
   "id": "4ae85137",
   "metadata": {},
   "outputs": [
    {
     "data": {
      "text/plain": [
       "array([[9.25310534e-01, 5.12730221e-02, 9.39694628e-01, 2.21289108e-01,\n",
       "        3.60450970e-01],\n",
       "       [3.73296848e-01, 2.91822984e-05, 7.84087900e-01, 3.42094901e-01,\n",
       "        8.24225912e-01],\n",
       "       [2.29883839e-01, 5.53715832e-01, 2.39301548e-01, 4.41444854e-01,\n",
       "        1.84150036e-01],\n",
       "       [2.01286637e-01, 4.94055016e-01, 1.26907234e-01, 5.33365537e-01,\n",
       "        7.40738777e-01]])"
      ]
     },
     "execution_count": 14,
     "metadata": {},
     "output_type": "execute_result"
    }
   ],
   "source": [
    "#  2 D\n",
    "np.random.rand(4,5)"
   ]
  },
  {
   "cell_type": "code",
   "execution_count": 16,
   "id": "450f372c",
   "metadata": {},
   "outputs": [
    {
     "data": {
      "text/plain": [
       "array([[3, 4, 5, 6, 7, 8],\n",
       "       [1, 2, 3, 4, 5, 6],\n",
       "       [2, 3, 4, 5, 6, 7],\n",
       "       [5, 6, 7, 8, 9, 0]])"
      ]
     },
     "execution_count": 16,
     "metadata": {},
     "output_type": "execute_result"
    }
   ],
   "source": [
    "price=np.array([[3,4,5,6,7,8],\n",
    "       [1,2,3,4,5,6],\n",
    "       [2,3,4,5,6,7],\n",
    "       [5,6,7,8,9,0]])\n",
    "price\n",
    "\n"
   ]
  },
  {
   "cell_type": "code",
   "execution_count": 17,
   "id": "ee71115d",
   "metadata": {},
   "outputs": [
    {
     "data": {
      "text/plain": [
       "array([[3, 4],\n",
       "       [4, 5],\n",
       "       [7, 8]])"
      ]
     },
     "execution_count": 17,
     "metadata": {},
     "output_type": "execute_result"
    }
   ],
   "source": [
    "# select all rows except ist\n",
    "# select 3rd and 4th column\n",
    "price[1:,2:4]"
   ]
  },
  {
   "cell_type": "code",
   "execution_count": 19,
   "id": "60800576",
   "metadata": {},
   "outputs": [
    {
     "data": {
      "text/plain": [
       "(4, 6)"
      ]
     },
     "execution_count": 19,
     "metadata": {},
     "output_type": "execute_result"
    }
   ],
   "source": [
    "price.shape"
   ]
  },
  {
   "cell_type": "code",
   "execution_count": 20,
   "id": "c02bf781",
   "metadata": {},
   "outputs": [
    {
     "data": {
      "text/plain": [
       "24"
      ]
     },
     "execution_count": 20,
     "metadata": {},
     "output_type": "execute_result"
    }
   ],
   "source": [
    "price.size"
   ]
  },
  {
   "cell_type": "code",
   "execution_count": 21,
   "id": "98714eb2",
   "metadata": {},
   "outputs": [
    {
     "data": {
      "text/plain": [
       "dtype('int32')"
      ]
     },
     "execution_count": 21,
     "metadata": {},
     "output_type": "execute_result"
    }
   ],
   "source": [
    "price.dtype"
   ]
  },
  {
   "cell_type": "code",
   "execution_count": 22,
   "id": "141bcf9b",
   "metadata": {},
   "outputs": [
    {
     "data": {
      "text/plain": [
       "2"
      ]
     },
     "execution_count": 22,
     "metadata": {},
     "output_type": "execute_result"
    }
   ],
   "source": [
    "price.ndim"
   ]
  },
  {
   "cell_type": "code",
   "execution_count": 23,
   "id": "b7cb2cba",
   "metadata": {},
   "outputs": [
    {
     "name": "stdout",
     "output_type": "stream",
     "text": [
      "element- wise multiplication: \n",
      " [[ 4  0  2]\n",
      " [ 8 -6  0]]\n"
     ]
    }
   ],
   "source": [
    "# element-wise multiplication\n",
    "\n",
    "n1=np.array([[1,0,2],[4,-2,3]])\n",
    "n2=np.array([[4,0,1],[2,3,0]])\n",
    "\n",
    "# element-wise multiplication\n",
    "\n",
    "prod=n1*n2\n",
    "print(\"element- wise multiplication: \\n\",prod)"
   ]
  },
  {
   "cell_type": "code",
   "execution_count": 25,
   "id": "2d2274b3",
   "metadata": {},
   "outputs": [
    {
     "name": "stdout",
     "output_type": "stream",
     "text": [
      "matrix multiplication: \n",
      " [[ 8  6]\n",
      " [18  7]]\n"
     ]
    }
   ],
   "source": [
    "# matrix multiplication\n",
    "\n",
    "n1=np.array([[1,0,2],[4,-2,3]])\n",
    "n2=np.array([[4,0],[2,1],[2,3]])\n",
    "\n",
    "# element-wise multiplication\n",
    "\n",
    "prod=n1.dot(n2)\n",
    "print(\"matrix multiplication: \\n\",prod)"
   ]
  },
  {
   "cell_type": "code",
   "execution_count": 6,
   "id": "650eb5e8",
   "metadata": {},
   "outputs": [
    {
     "name": "stdout",
     "output_type": "stream",
     "text": [
      "14.2\n",
      "\n",
      "\n",
      "2.96\n"
     ]
    }
   ],
   "source": [
    "# Variance - var()                                               \n",
    "import numpy as np\n",
    "age_list=np.array([12,13,14,15,17])\n",
    "x=age_list.mean()                                                \n",
    "print(x)\n",
    "print(\"\\n\")\n",
    "print(age_list.var())"
   ]
  },
  {
   "cell_type": "code",
   "execution_count": 2,
   "id": "57d96c4b",
   "metadata": {},
   "outputs": [
    {
     "name": "stdout",
     "output_type": "stream",
     "text": [
      "Area of squares: [144 169 196 225 289]\n"
     ]
    }
   ],
   "source": [
    "# create an array of sides of a square\n",
    "age_list=np.array([12,13,14,15,17])\n",
    "\n",
    "# print the area of all the squares\n",
    "print(\"Area of squares:\",np.square(age_list))\n"
   ]
  },
  {
   "cell_type": "code",
   "execution_count": 20,
   "id": "44d7e849",
   "metadata": {},
   "outputs": [
    {
     "name": "stdout",
     "output_type": "stream",
     "text": [
      "Values of cubes: [1728 2197 2744 3375 4913]\n"
     ]
    }
   ],
   "source": [
    "# power()   -  Used to raise the numbers in the array to the given value\n",
    "cube=np.array([12,13,14,15,17])\n",
    "\n",
    "print(\"Values of cubes:\",np.power(cube,3))                  "
   ]
  },
  {
   "cell_type": "code",
   "execution_count": 4,
   "id": "a379214c",
   "metadata": {},
   "outputs": [
    {
     "name": "stdout",
     "output_type": "stream",
     "text": [
      "\n",
      " Original Matrix: [['Charles' '18']\n",
      " ['Logan' '30']\n",
      " ['Jessica' '34']]\n",
      "\n",
      " Transpose: [['Charles' 'Logan' 'Jessica']\n",
      " ['18' '30' '34']]\n"
     ]
    }
   ],
   "source": [
    "# transpose  - reverses the dimension of the array    3x2=2x3\n",
    "data=np.array([(\"Charles\",18),(\"Logan\",30),(\"Jessica\",34)])\n",
    "\n",
    "# print the original matrix\n",
    "print(\"\\n Original Matrix:\",data)\n",
    "\n",
    "# print the transpose of the matrix\n",
    "print(\"\\n Transpose:\",np.transpose(data))"
   ]
  },
  {
   "cell_type": "code",
   "execution_count": 8,
   "id": "4383ab76",
   "metadata": {},
   "outputs": [
    {
     "name": "stdout",
     "output_type": "stream",
     "text": [
      "Concatenated array: [19 22 18 20 38 21 73 68 55 43 92 66]\n"
     ]
    }
   ],
   "source": [
    "# concatenate- 1D\n",
    "# create an array of age of employees\n",
    "age=np.array([19,22,18,20,38,21])\n",
    "\n",
    "# create an array of weight of employees\n",
    "weight=np.array([73,68,55,43,92,66])\n",
    "\n",
    "# concatenate two arrays\n",
    "employees=np.concatenate([age,weight])\n",
    "\n",
    "# print the concatenated array\n",
    "print(\"Concatenated array:\",employees)"
   ]
  },
  {
   "cell_type": "code",
   "execution_count": 14,
   "id": "8389dcfd",
   "metadata": {},
   "outputs": [
    {
     "name": "stdout",
     "output_type": "stream",
     "text": [
      "All employees:\n",
      " [['Charles' '10']\n",
      " ['Logan  ' '20']\n",
      " ['Jessica' '34']\n",
      " ['Jean' '21']\n",
      " ['Phoenix' '21']]\n"
     ]
    }
   ],
   "source": [
    "# concatenate- 2D   - we can concatenate 2D arrays either along rows (axis=0) or coluns(axis=1) provided they have same shape\n",
    "# create an array of name and age of data scientists\n",
    "data_sci=np.array([(\"Charles\",10),[\"Logan\",20],[\"Jessica\",34]])\n",
    "\n",
    "# create an array of name and age of consultants\n",
    "consultants=np.array([[\"Jean\",21],[\"Phoenix\",21]])\n",
    "\n",
    "# concatenate the two arrays as employees\n",
    "employee=np.concatenate([data_sci,consultants])\n",
    "\n",
    "# print the employees\n",
    "print(\"All employees:\\n\",employee)\n"
   ]
  },
  {
   "cell_type": "code",
   "execution_count": 13,
   "id": "05cd03e1",
   "metadata": {},
   "outputs": [
    {
     "name": "stdout",
     "output_type": "stream",
     "text": [
      "Original Array: \n",
      " [[1 3 5 7]\n",
      " [2 4 6 8]]\n",
      "Flattened array: \n",
      " [1 3 5 7 2 4 6 8]\n"
     ]
    }
   ],
   "source": [
    "# Flatten - converting 2D to 1D\n",
    "\n",
    "num=np.array([[1,3,5,7],[2,4,6,8]])\n",
    "print(\"Original Array: \\n\",num)\n",
    "\n",
    "# flatten\n",
    "print(\"Flattened array: \\n\",np.ndarray.flatten(num))        "
   ]
  },
  {
   "cell_type": "markdown",
   "id": "f3fa2c6c",
   "metadata": {},
   "source": [
    "# extra questions\n",
    "\n"
   ]
  },
  {
   "cell_type": "code",
   "execution_count": 22,
   "id": "0df9fbda",
   "metadata": {},
   "outputs": [
    {
     "name": "stdout",
     "output_type": "stream",
     "text": [
      "-------hello--------\n"
     ]
    }
   ],
   "source": [
    "print(np.char.center('hello',20,fillchar='-'))           #string value is 20 ,filled with----"
   ]
  },
  {
   "cell_type": "code",
   "execution_count": 24,
   "id": "99082c2c",
   "metadata": {},
   "outputs": [
    {
     "name": "stdout",
     "output_type": "stream",
     "text": [
      "Hello world\n"
     ]
    }
   ],
   "source": [
    "print(np.char.capitalize('hello world'))           #capitalize first word of the sentence"
   ]
  },
  {
   "cell_type": "code",
   "execution_count": 25,
   "id": "fab9be99",
   "metadata": {},
   "outputs": [
    {
     "name": "stdout",
     "output_type": "stream",
     "text": [
      "How Are You?\n"
     ]
    }
   ],
   "source": [
    "print(np.char.title('how are you?'))          #Capitalize each word of the sentence"
   ]
  },
  {
   "cell_type": "code",
   "execution_count": 28,
   "id": "0295a283",
   "metadata": {},
   "outputs": [
    {
     "name": "stdout",
     "output_type": "stream",
     "text": [
      "how are you?\n"
     ]
    }
   ],
   "source": [
    "print(np.char.lower('How Are You?'))               #lower case"
   ]
  },
  {
   "cell_type": "code",
   "execution_count": 29,
   "id": "a905a94a",
   "metadata": {},
   "outputs": [
    {
     "name": "stdout",
     "output_type": "stream",
     "text": [
      "HOW ARE YOU?\n"
     ]
    }
   ],
   "source": [
    "print(np.char.upper('how are you?'))            #upper case"
   ]
  },
  {
   "cell_type": "code",
   "execution_count": 30,
   "id": "e138ff59",
   "metadata": {},
   "outputs": [
    {
     "name": "stdout",
     "output_type": "stream",
     "text": [
      "['are', 'you', 'coming?']\n"
     ]
    }
   ],
   "source": [
    "print(np.char.split('are you coming?'))                #separating each word"
   ]
  },
  {
   "cell_type": "code",
   "execution_count": 38,
   "id": "7be27452",
   "metadata": {},
   "outputs": [
    {
     "name": "stdout",
     "output_type": "stream",
     "text": [
      "['Nin' 'dmin' 'nit']\n"
     ]
    }
   ],
   "source": [
    "print(np.char.strip(['Nina','admin','anita'],'a'))        #remove 'a' letter from the given strings"
   ]
  },
  {
   "cell_type": "code",
   "execution_count": 44,
   "id": "d89ab4db",
   "metadata": {},
   "outputs": [
    {
     "name": "stdout",
     "output_type": "stream",
     "text": [
      "['d:a:y' 'y-a-d']\n"
     ]
    }
   ],
   "source": [
    "print(np.char.join([':','-'],['day','yad']))             # use of seprators "
   ]
  },
  {
   "cell_type": "code",
   "execution_count": 45,
   "id": "411c2e30",
   "metadata": {},
   "outputs": [
    {
     "name": "stdout",
     "output_type": "stream",
     "text": [
      "He was a good boy\n"
     ]
    }
   ],
   "source": [
    "print(np.char.replace(\"He is a good boy\",'is','was'))              # 'is' replaced with 'was'"
   ]
  },
  {
   "cell_type": "code",
   "execution_count": 75,
   "id": "518c8d00",
   "metadata": {},
   "outputs": [],
   "source": [
    "import numpy as np"
   ]
  },
  {
   "cell_type": "code",
   "execution_count": 97,
   "id": "0d4c9f11",
   "metadata": {},
   "outputs": [
    {
     "name": "stdout",
     "output_type": "stream",
     "text": [
      "(6, 1, 2, 3, 4, 5, 7, 8, 9, 10)\n"
     ]
    }
   ],
   "source": [
    "# rollaxis()\n",
    " \n",
    "value=np.zeros((1,2,3,4,5,6,7,8,9,10))               #np.array use np.ones / np.zeros                 \n",
    "val=np.rollaxis(value,5).shape                       #roll 5th value\n",
    "print(val)"
   ]
  },
  {
   "cell_type": "code",
   "execution_count": 103,
   "id": "9d1188c8",
   "metadata": {},
   "outputs": [
    {
     "name": "stdout",
     "output_type": "stream",
     "text": [
      "(1, 2, 3, 4, 5, 7, 6, 8, 9, 10)\n"
     ]
    }
   ],
   "source": [
    "# swap axis\n",
    "\n",
    "value=np.ones((1,2,3,4,5,6,7,8,9,10))\n",
    "val=np.swapaxes(value,5,6).shape                     #swap the value of 5th & 6th\n",
    "print(val)"
   ]
  },
  {
   "cell_type": "code",
   "execution_count": 106,
   "id": "d692f14f",
   "metadata": {},
   "outputs": [
    {
     "name": "stdout",
     "output_type": "stream",
     "text": [
      "[ 6  8 10 12 14]\n"
     ]
    }
   ],
   "source": [
    "a=np.array((1,2,3,4,5))\n",
    "b=np.array((5,6,7,8,9))\n",
    "c=np.add(a,b)                           #adding in numpy\n",
    "print(c)"
   ]
  },
  {
   "cell_type": "code",
   "execution_count": 108,
   "id": "2df1b898",
   "metadata": {},
   "outputs": [
    {
     "name": "stdout",
     "output_type": "stream",
     "text": [
      "[-4 -4 -4 -4 -4]\n"
     ]
    }
   ],
   "source": [
    "a=np.array((1,2,3,4,5))\n",
    "b=np.array((5,6,7,8,9))\n",
    "c=np.subtract(a,b)                           #subtraction in numpy\n",
    "print(c)"
   ]
  },
  {
   "cell_type": "code",
   "execution_count": 111,
   "id": "64a37ce5",
   "metadata": {},
   "outputs": [
    {
     "name": "stdout",
     "output_type": "stream",
     "text": [
      "[2. 2. 9. 8. 5.]\n"
     ]
    }
   ],
   "source": [
    "a=np.array((10,12,63,64,45))\n",
    "b=np.array((5,6,7,8,9))\n",
    "c=np.divide(a,b)                           #divide in numpy\n",
    "print(c)"
   ]
  },
  {
   "cell_type": "code",
   "execution_count": 110,
   "id": "f7b344cb",
   "metadata": {},
   "outputs": [
    {
     "name": "stdout",
     "output_type": "stream",
     "text": [
      "[ 5 12 21 32 45]\n"
     ]
    }
   ],
   "source": [
    "a=np.array((1,2,3,4,5))\n",
    "b=np.array((5,6,7,8,9))\n",
    "c=np.multiply(a,b)                           #multiplication in numpy\n",
    "print(c)"
   ]
  },
  {
   "cell_type": "code",
   "execution_count": 123,
   "id": "38457ba7",
   "metadata": {},
   "outputs": [
    {
     "name": "stdout",
     "output_type": "stream",
     "text": [
      "('d', 'f', 'h', 'j')\n"
     ]
    }
   ],
   "source": [
    "s=(\"a\",\"b\",\"c\",\"d\",\"e\",\"f\",\"g\",\"h\",\"i\",\"j\",\"k\",\"l\")\n",
    "x=slice(3,10,2)                          #include 3,5,7,9- leave 2 steps\n",
    "print(s[x])                           #calling the index to print slice()"
   ]
  },
  {
   "cell_type": "markdown",
   "id": "7f1399ba",
   "metadata": {},
   "source": [
    "<!-- Histogram -->\n"
   ]
  },
  {
   "cell_type": "markdown",
   "id": "b16ac20c",
   "metadata": {},
   "source": [
    "# Histogram"
   ]
  },
  {
   "cell_type": "code",
   "execution_count": 149,
   "id": "03f22439",
   "metadata": {},
   "outputs": [
    {
     "data": {
      "image/png": "[encoded data removed]",
      "text/plain": [
       "<Figure size 432x288 with 1 Axes>"
      ]
     },
     "metadata": {
      "needs_background": "light"
     },
     "output_type": "display_data"
    }
   ],
   "source": [
    "from matplotlib import pyplot as plt\n",
    "a=np.array([2087,2020,4567,8900,4332,5678,2344,1123])\n",
    "plt.hist(a,bins=[0,10,20,30,40,50,60,70,80,90,100])                      # buckets\n",
    "plt.title(\"Histograms\")\n",
    "plt.show()"
   ]
  },
  {
   "cell_type": "markdown",
   "id": "f329ee93",
   "metadata": {},
   "source": [
    "# graph"
   ]
  },
  {
   "cell_type": "code",
   "execution_count": 3,
   "id": "6c019e50",
   "metadata": {},
   "outputs": [
    {
     "data": {
      "image/png": "[encoded data removed]",
      "text/plain": [
       "<Figure size 640x480 with 1 Axes>"
      ]
     },
     "metadata": {},
     "output_type": "display_data"
    }
   ],
   "source": [
    "import numpy as np\n",
    "import matplotlib.pyplot as plt\n",
    "x=np.arange(0,3*np.pi,0.1)\n",
    "y=np.sin(x)\n",
    "z=np.cos(y,x)\n",
    "plt.plot(x,y,z)\n",
    "plt.show()"
   ]
  },
  {
   "cell_type": "code",
   "execution_count": 4,
   "id": "00d16e2b",
   "metadata": {},
   "outputs": [
    {
     "data": {
      "image/png": "[encoded data removed]",
      "text/plain": [
       "<Figure size 640x480 with 1 Axes>"
      ]
     },
     "metadata": {},
     "output_type": "display_data"
    }
   ],
   "source": [
    "x=np.arange(0,3*np.pi,0.1)\n",
    "y=np.sin(x)\n",
    "z=np.cos(y,z)\n",
    "plt.plot(x,y,z)\n",
    "plt.show()"
   ]
  },
  {
   "cell_type": "markdown",
   "id": "4dcae2dd",
   "metadata": {},
   "source": [
    "# Class by Dayanand Sir"
   ]
  },
  {
   "cell_type": "code",
   "execution_count": 5,
   "id": "4cdf346c",
   "metadata": {},
   "outputs": [],
   "source": [
    "import numpy as np\n",
    "arr1=np.array([[1,2,3],[4,5,6],[7,8,9]])\n",
    "arr2=np.array([[10,11,12],[3,9,10],[1,9,8]])"
   ]
  },
  {
   "cell_type": "code",
   "execution_count": 6,
   "id": "a2161387",
   "metadata": {},
   "outputs": [
    {
     "name": "stdout",
     "output_type": "stream",
     "text": [
      "[[1 2 3]\n",
      " [4 5 6]\n",
      " [7 8 9]]\n",
      "[[10 11 12]\n",
      " [ 3  9 10]\n",
      " [ 1  9  8]]\n"
     ]
    }
   ],
   "source": [
    "print(arr1)\n",
    "print(arr2)"
   ]
  },
  {
   "cell_type": "code",
   "execution_count": 7,
   "id": "f23c7bc5",
   "metadata": {},
   "outputs": [
    {
     "name": "stdout",
     "output_type": "stream",
     "text": [
      "[[11 13 15]\n",
      " [ 7 14 16]\n",
      " [ 8 17 17]]\n"
     ]
    }
   ],
   "source": [
    "# Arithmetic operation\n",
    "print(arr1+arr2)"
   ]
  },
  {
   "cell_type": "code",
   "execution_count": 8,
   "id": "1ebf7aa5",
   "metadata": {},
   "outputs": [
    {
     "name": "stdout",
     "output_type": "stream",
     "text": [
      "[[-9 -9 -9]\n",
      " [ 1 -4 -4]\n",
      " [ 6 -1  1]]\n"
     ]
    }
   ],
   "source": [
    "print(arr1-arr2)"
   ]
  },
  {
   "cell_type": "code",
   "execution_count": 9,
   "id": "d613e86c",
   "metadata": {},
   "outputs": [
    {
     "name": "stdout",
     "output_type": "stream",
     "text": [
      "[[10 22 36]\n",
      " [12 45 60]\n",
      " [ 7 72 72]]\n"
     ]
    }
   ],
   "source": [
    "print(arr1*arr2)"
   ]
  },
  {
   "cell_type": "code",
   "execution_count": 10,
   "id": "47dc09cf",
   "metadata": {},
   "outputs": [
    {
     "name": "stdout",
     "output_type": "stream",
     "text": [
      "[[ 5 10 15]\n",
      " [20 25 30]\n",
      " [35 40 45]]\n"
     ]
    }
   ],
   "source": [
    "print(arr1*5)       # multiplying 5 with array1"
   ]
  },
  {
   "cell_type": "code",
   "execution_count": 11,
   "id": "a0a7623a",
   "metadata": {},
   "outputs": [
    {
     "name": "stdout",
     "output_type": "stream",
     "text": [
      "[[0.1        0.18181818 0.25      ]\n",
      " [1.33333333 0.55555556 0.6       ]\n",
      " [7.         0.88888889 1.125     ]]\n"
     ]
    }
   ],
   "source": [
    "print(arr1/arr2)"
   ]
  },
  {
   "cell_type": "code",
   "execution_count": 14,
   "id": "03f5f463",
   "metadata": {},
   "outputs": [
    {
     "name": "stdout",
     "output_type": "stream",
     "text": [
      "(3, 3)\n",
      "(3, 3)\n"
     ]
    }
   ],
   "source": [
    "print(arr1.shape)\n",
    "print(arr2.shape)                 "
   ]
  },
  {
   "cell_type": "code",
   "execution_count": 13,
   "id": "7419169c",
   "metadata": {},
   "outputs": [],
   "source": [
    "arr3=np.array([[9,10,11],[12,14,16]])"
   ]
  },
  {
   "cell_type": "code",
   "execution_count": 14,
   "id": "606ef42f",
   "metadata": {},
   "outputs": [
    {
     "ename": "ValueError",
     "evalue": "operands could not be broadcast together with shapes (3,3) (2,3) ",
     "output_type": "error",
     "traceback": [
      "\u001b[1;31m---------------------------------------------------------------------------\u001b[0m",
      "\u001b[1;31mValueError\u001b[0m                                Traceback (most recent call last)",
      "\u001b[1;32m~\\AppData\\Local\\Temp\\ipykernel_17144\\425661793.py\u001b[0m in \u001b[0;36m<module>\u001b[1;34m\u001b[0m\n\u001b[1;32m----> 1\u001b[1;33m \u001b[0mprint\u001b[0m\u001b[1;33m(\u001b[0m\u001b[0marr1\u001b[0m\u001b[1;33m+\u001b[0m\u001b[0marr3\u001b[0m\u001b[1;33m)\u001b[0m                                      \u001b[1;31m#to perform any arithmetic operation, shape of the array should be same\u001b[0m\u001b[1;33m\u001b[0m\u001b[1;33m\u001b[0m\u001b[0m\n\u001b[0m",
      "\u001b[1;31mValueError\u001b[0m: operands could not be broadcast together with shapes (3,3) (2,3) "
     ]
    }
   ],
   "source": [
    "print(arr1+arr3)                                      #to perform any arithmetic operation, shape of the array should be same"
   ]
  },
  {
   "cell_type": "code",
   "execution_count": 15,
   "id": "08bbaf70",
   "metadata": {},
   "outputs": [
    {
     "data": {
      "text/plain": [
       "array([[ 72,  80,  88],\n",
       "       [ 96, 112, 128]])"
      ]
     },
     "execution_count": 15,
     "metadata": {},
     "output_type": "execute_result"
    }
   ],
   "source": [
    "arr3*8"
   ]
  },
  {
   "cell_type": "code",
   "execution_count": 16,
   "id": "8fa09229",
   "metadata": {},
   "outputs": [
    {
     "name": "stdout",
     "output_type": "stream",
     "text": [
      "5.0\n"
     ]
    }
   ],
   "source": [
    "# Mean - average\n",
    "\n",
    "\n",
    "print(np.mean(arr1))"
   ]
  },
  {
   "cell_type": "code",
   "execution_count": 17,
   "id": "0fbb2937",
   "metadata": {},
   "outputs": [
    {
     "name": "stdout",
     "output_type": "stream",
     "text": [
      "2.581988897471611\n"
     ]
    }
   ],
   "source": [
    "# std - standard deviation\n",
    "\n",
    "print(np.std(arr1))"
   ]
  },
  {
   "cell_type": "code",
   "execution_count": 18,
   "id": "c25b76d8",
   "metadata": {},
   "outputs": [
    {
     "name": "stdout",
     "output_type": "stream",
     "text": [
      "5.0\n"
     ]
    }
   ],
   "source": [
    "# median - mid value of the given data\n",
    "\n",
    "print(np.median(arr1))"
   ]
  },
  {
   "cell_type": "code",
   "execution_count": 19,
   "id": "30816725",
   "metadata": {},
   "outputs": [
    {
     "name": "stdout",
     "output_type": "stream",
     "text": [
      "6.666666666666667\n"
     ]
    }
   ],
   "source": [
    "# var - variance\n",
    "\n",
    "print(np.var(arr1))"
   ]
  },
  {
   "cell_type": "code",
   "execution_count": 20,
   "id": "000cbf5e",
   "metadata": {},
   "outputs": [
    {
     "data": {
      "text/plain": [
       "array([[False, False, False],\n",
       "       [ True, False, False],\n",
       "       [ True, False,  True]])"
      ]
     },
     "execution_count": 20,
     "metadata": {},
     "output_type": "execute_result"
    }
   ],
   "source": [
    "# Comparison Operator\n",
    "\n",
    "arr1>arr2"
   ]
  },
  {
   "cell_type": "code",
   "execution_count": 21,
   "id": "69e66dc4",
   "metadata": {},
   "outputs": [],
   "source": [
    "names=np.array([[\"Tej\",\"Bharat\",\"Palak\"],[\"ANkit\",\"Shailender\",\"Jyoti\"]])"
   ]
  },
  {
   "cell_type": "code",
   "execution_count": 22,
   "id": "21e1b475",
   "metadata": {},
   "outputs": [
    {
     "data": {
      "text/plain": [
       "array([[False, False, False],\n",
       "       [False, False,  True]])"
      ]
     },
     "execution_count": 22,
     "metadata": {},
     "output_type": "execute_result"
    }
   ],
   "source": [
    "names==\"Jyoti\""
   ]
  },
  {
   "cell_type": "code",
   "execution_count": 23,
   "id": "debb1309",
   "metadata": {},
   "outputs": [],
   "source": [
    "mylist=np.array([14,15,16,17,18])"
   ]
  },
  {
   "cell_type": "code",
   "execution_count": 24,
   "id": "0335c598",
   "metadata": {},
   "outputs": [
    {
     "data": {
      "text/plain": [
       "array([14, 15])"
      ]
     },
     "execution_count": 24,
     "metadata": {},
     "output_type": "execute_result"
    }
   ],
   "source": [
    "mylist[0:2]"
   ]
  },
  {
   "cell_type": "code",
   "execution_count": 25,
   "id": "74f31a27",
   "metadata": {},
   "outputs": [],
   "source": [
    "mylist[1]=101                 #putting 101 at [1] index position\n"
   ]
  },
  {
   "cell_type": "code",
   "execution_count": 26,
   "id": "3c1d71b0",
   "metadata": {},
   "outputs": [
    {
     "data": {
      "text/plain": [
       "array([ 14, 101,  16,  17,  18])"
      ]
     },
     "execution_count": 26,
     "metadata": {},
     "output_type": "execute_result"
    }
   ],
   "source": [
    "mylist"
   ]
  },
  {
   "cell_type": "code",
   "execution_count": 27,
   "id": "14817638",
   "metadata": {},
   "outputs": [],
   "source": [
    "# Array broadcasting- with array only\n",
    "arr5=np.array(mylist)"
   ]
  },
  {
   "cell_type": "code",
   "execution_count": 28,
   "id": "049b6a3a",
   "metadata": {},
   "outputs": [
    {
     "name": "stdout",
     "output_type": "stream",
     "text": [
      "[ 14 101  16  17  18]\n"
     ]
    }
   ],
   "source": [
    "print(arr5)"
   ]
  },
  {
   "cell_type": "code",
   "execution_count": 29,
   "id": "ac16874a",
   "metadata": {},
   "outputs": [
    {
     "name": "stdout",
     "output_type": "stream",
     "text": [
      "[[-0.69507707  0.47587728 -0.06788443]\n",
      " [ 0.14821074  1.19287439 -1.14556339]\n",
      " [ 1.27365575  0.40321099  0.39954786]\n",
      " [-1.54414272 -0.97869339 -1.23853923]]\n",
      "(4, 3)\n"
     ]
    }
   ],
   "source": [
    "myArray=np.random.randn(4,3)\n",
    "print(myArray)\n",
    "print(myArray.shape)"
   ]
  },
  {
   "cell_type": "code",
   "execution_count": 30,
   "id": "0988e75e",
   "metadata": {},
   "outputs": [
    {
     "name": "stdout",
     "output_type": "stream",
     "text": [
      "[[-0.69507707  0.47587728]\n",
      " [-0.06788443  0.14821074]\n",
      " [ 1.19287439 -1.14556339]\n",
      " [ 1.27365575  0.40321099]\n",
      " [ 0.39954786 -1.54414272]\n",
      " [-0.97869339 -1.23853923]]\n"
     ]
    }
   ],
   "source": [
    "# Reshape\n",
    "print(myArray.reshape(6,2))"
   ]
  },
  {
   "cell_type": "code",
   "execution_count": 31,
   "id": "950d0799",
   "metadata": {},
   "outputs": [
    {
     "name": "stdout",
     "output_type": "stream",
     "text": [
      "[[-0.69507707]\n",
      " [ 0.47587728]\n",
      " [-0.06788443]\n",
      " [ 0.14821074]\n",
      " [ 1.19287439]\n",
      " [-1.14556339]\n",
      " [ 1.27365575]\n",
      " [ 0.40321099]\n",
      " [ 0.39954786]\n",
      " [-1.54414272]\n",
      " [-0.97869339]\n",
      " [-1.23853923]]\n"
     ]
    }
   ],
   "source": [
    "print(myArray.reshape(12,1))"
   ]
  },
  {
   "cell_type": "code",
   "execution_count": 32,
   "id": "34a29621",
   "metadata": {},
   "outputs": [],
   "source": [
    "#  Campus X\n",
    "#  creating numpy / n-d array\n",
    "import numpy as np"
   ]
  },
  {
   "cell_type": "code",
   "execution_count": 33,
   "id": "aa6d464b",
   "metadata": {},
   "outputs": [
    {
     "data": {
      "text/plain": [
       "array([1, 2, 3, 4, 5, 6])"
      ]
     },
     "execution_count": 33,
     "metadata": {},
     "output_type": "execute_result"
    }
   ],
   "source": [
    "arr1=np.array([1,2,3,4,5,6])\n",
    "arr1                         # Looks like a vector"
   ]
  },
  {
   "cell_type": "code",
   "execution_count": 34,
   "id": "2a49460d",
   "metadata": {},
   "outputs": [
    {
     "data": {
      "text/plain": [
       "numpy.ndarray"
      ]
     },
     "execution_count": 34,
     "metadata": {},
     "output_type": "execute_result"
    }
   ],
   "source": [
    "type(arr1)"
   ]
  },
  {
   "cell_type": "code",
   "execution_count": 35,
   "id": "949bc9c2",
   "metadata": {},
   "outputs": [
    {
     "data": {
      "text/plain": [
       "array([[1, 2, 3],\n",
       "       [3, 4, 5],\n",
       "       [5, 6, 7]])"
      ]
     },
     "execution_count": 35,
     "metadata": {},
     "output_type": "execute_result"
    }
   ],
   "source": [
    "arr2=np.array([[1,2,3],[3,4,5],[5,6,7]])\n",
    "arr2"
   ]
  },
  {
   "cell_type": "code",
   "execution_count": 36,
   "id": "ce41b875",
   "metadata": {},
   "outputs": [
    {
     "data": {
      "text/plain": [
       "array([[0., 0., 0.],\n",
       "       [0., 0., 0.]])"
      ]
     },
     "execution_count": 36,
     "metadata": {},
     "output_type": "execute_result"
    }
   ],
   "source": [
    "arr3=np.zeros((2,3))\n",
    "arr3"
   ]
  },
  {
   "cell_type": "code",
   "execution_count": 37,
   "id": "1376e4d7",
   "metadata": {},
   "outputs": [
    {
     "data": {
      "text/plain": [
       "array([[1., 1., 1.],\n",
       "       [1., 1., 1.],\n",
       "       [1., 1., 1.]])"
      ]
     },
     "execution_count": 37,
     "metadata": {},
     "output_type": "execute_result"
    }
   ],
   "source": [
    "arr4=np.ones((3,3))\n",
    "arr4           # float captures more scenario as compared to integers"
   ]
  },
  {
   "cell_type": "code",
   "execution_count": 38,
   "id": "7c33d670",
   "metadata": {},
   "outputs": [],
   "source": [
    "arr5=np.identity(5)"
   ]
  },
  {
   "cell_type": "code",
   "execution_count": 39,
   "id": "41ccc524",
   "metadata": {},
   "outputs": [
    {
     "data": {
      "text/plain": [
       "array([[1., 0., 0., 0., 0.],\n",
       "       [0., 1., 0., 0., 0.],\n",
       "       [0., 0., 1., 0., 0.],\n",
       "       [0., 0., 0., 1., 0.],\n",
       "       [0., 0., 0., 0., 1.]])"
      ]
     },
     "execution_count": 39,
     "metadata": {},
     "output_type": "execute_result"
    }
   ],
   "source": [
    "arr5"
   ]
  },
  {
   "cell_type": "code",
   "execution_count": 40,
   "id": "78465ed2",
   "metadata": {},
   "outputs": [],
   "source": [
    "arr6=np.arange(5,16)"
   ]
  },
  {
   "cell_type": "code",
   "execution_count": 41,
   "id": "4b399ebe",
   "metadata": {},
   "outputs": [
    {
     "data": {
      "text/plain": [
       "array([ 5,  6,  7,  8,  9, 10, 11, 12, 13, 14, 15])"
      ]
     },
     "execution_count": 41,
     "metadata": {},
     "output_type": "execute_result"
    }
   ],
   "source": [
    "arr6"
   ]
  },
  {
   "cell_type": "code",
   "execution_count": 42,
   "id": "e283d45e",
   "metadata": {},
   "outputs": [
    {
     "data": {
      "text/plain": [
       "array([ 5,  7,  9, 11, 13, 15])"
      ]
     },
     "execution_count": 42,
     "metadata": {},
     "output_type": "execute_result"
    }
   ],
   "source": [
    "arr6=np.arange(5,16,2)\n",
    "arr6"
   ]
  },
  {
   "cell_type": "code",
   "execution_count": 43,
   "id": "54484936",
   "metadata": {},
   "outputs": [
    {
     "data": {
      "text/plain": [
       "array([10.        , 11.11111111, 12.22222222, 13.33333333, 14.44444444,\n",
       "       15.55555556, 16.66666667, 17.77777778, 18.88888889, 20.        ])"
      ]
     },
     "execution_count": 43,
     "metadata": {},
     "output_type": "execute_result"
    }
   ],
   "source": [
    "arr7=np.linspace(10,20,10)     # lower range ,upper range, equidistance\n",
    "arr7          # numbers are linearly spaced"
   ]
  },
  {
   "cell_type": "code",
   "execution_count": 44,
   "id": "811d0aa8",
   "metadata": {},
   "outputs": [
    {
     "data": {
      "text/plain": [
       "array([10.        , 11.11111111, 12.22222222, 13.33333333, 14.44444444,\n",
       "       15.55555556, 16.66666667, 17.77777778, 18.88888889, 20.        ])"
      ]
     },
     "execution_count": 44,
     "metadata": {},
     "output_type": "execute_result"
    }
   ],
   "source": [
    "arr8=arr7.copy()\n",
    "arr8"
   ]
  },
  {
   "cell_type": "code",
   "execution_count": 45,
   "id": "5899e7df",
   "metadata": {},
   "outputs": [
    {
     "data": {
      "text/plain": [
       "(6,)"
      ]
     },
     "execution_count": 45,
     "metadata": {},
     "output_type": "execute_result"
    }
   ],
   "source": [
    "arr1.shape"
   ]
  },
  {
   "cell_type": "code",
   "execution_count": 46,
   "id": "1344a348",
   "metadata": {},
   "outputs": [
    {
     "data": {
      "text/plain": [
       "(3, 3)"
      ]
     },
     "execution_count": 46,
     "metadata": {},
     "output_type": "execute_result"
    }
   ],
   "source": [
    "arr2.shape"
   ]
  },
  {
   "cell_type": "code",
   "execution_count": 47,
   "id": "f375e49f",
   "metadata": {},
   "outputs": [
    {
     "data": {
      "text/plain": [
       "array([[[1, 2],\n",
       "        [3, 4]],\n",
       "\n",
       "       [[5, 6],\n",
       "        [7, 8]]])"
      ]
     },
     "execution_count": 47,
     "metadata": {},
     "output_type": "execute_result"
    }
   ],
   "source": [
    "arr9=np.array([[[1,2],[3,4]],[[5,6],[7,8]]])\n",
    "arr9        # 2 matrix, one behind another-- 3Dmatrix"
   ]
  },
  {
   "cell_type": "code",
   "execution_count": 48,
   "id": "f5df2ce3",
   "metadata": {},
   "outputs": [
    {
     "data": {
      "text/plain": [
       "(2, 2, 2)"
      ]
     },
     "execution_count": 48,
     "metadata": {},
     "output_type": "execute_result"
    }
   ],
   "source": [
    "arr9.shape"
   ]
  },
  {
   "cell_type": "code",
   "execution_count": 49,
   "id": "f76ec8e4",
   "metadata": {},
   "outputs": [
    {
     "data": {
      "text/plain": [
       "3"
      ]
     },
     "execution_count": 49,
     "metadata": {},
     "output_type": "execute_result"
    }
   ],
   "source": [
    "arr9.ndim"
   ]
  },
  {
   "cell_type": "code",
   "execution_count": 50,
   "id": "fda07274",
   "metadata": {},
   "outputs": [
    {
     "data": {
      "text/plain": [
       "2"
      ]
     },
     "execution_count": 50,
     "metadata": {},
     "output_type": "execute_result"
    }
   ],
   "source": [
    "arr2.ndim"
   ]
  },
  {
   "cell_type": "code",
   "execution_count": 51,
   "id": "02051f92",
   "metadata": {},
   "outputs": [
    {
     "data": {
      "text/plain": [
       "1"
      ]
     },
     "execution_count": 51,
     "metadata": {},
     "output_type": "execute_result"
    }
   ],
   "source": [
    "arr1\n",
    "arr1.ndim"
   ]
  },
  {
   "cell_type": "code",
   "execution_count": 52,
   "id": "1ec864db",
   "metadata": {},
   "outputs": [
    {
     "data": {
      "text/plain": [
       "6"
      ]
     },
     "execution_count": 52,
     "metadata": {},
     "output_type": "execute_result"
    }
   ],
   "source": [
    "arr1.size       # no of items"
   ]
  },
  {
   "cell_type": "code",
   "execution_count": 53,
   "id": "bb3ef530",
   "metadata": {},
   "outputs": [
    {
     "data": {
      "text/plain": [
       "8"
      ]
     },
     "execution_count": 53,
     "metadata": {},
     "output_type": "execute_result"
    }
   ],
   "source": [
    "arr9.size"
   ]
  },
  {
   "cell_type": "code",
   "execution_count": 54,
   "id": "e8b70d12",
   "metadata": {},
   "outputs": [
    {
     "data": {
      "text/plain": [
       "8"
      ]
     },
     "execution_count": 54,
     "metadata": {},
     "output_type": "execute_result"
    }
   ],
   "source": [
    "arr8.itemsize                  # float"
   ]
  },
  {
   "cell_type": "code",
   "execution_count": 55,
   "id": "f61519c4",
   "metadata": {},
   "outputs": [
    {
     "data": {
      "text/plain": [
       "dtype('float64')"
      ]
     },
     "execution_count": 55,
     "metadata": {},
     "output_type": "execute_result"
    }
   ],
   "source": [
    "arr8.dtype"
   ]
  },
  {
   "cell_type": "code",
   "execution_count": 56,
   "id": "a1b8c8bb",
   "metadata": {},
   "outputs": [
    {
     "data": {
      "text/plain": [
       "dtype('int32')"
      ]
     },
     "execution_count": 56,
     "metadata": {},
     "output_type": "execute_result"
    }
   ],
   "source": [
    "arr9.dtype"
   ]
  },
  {
   "cell_type": "code",
   "execution_count": 57,
   "id": "8fd55a78",
   "metadata": {},
   "outputs": [
    {
     "data": {
      "text/plain": [
       "array([[[1., 2.],\n",
       "        [3., 4.]],\n",
       "\n",
       "       [[5., 6.],\n",
       "        [7., 8.]]])"
      ]
     },
     "execution_count": 57,
     "metadata": {},
     "output_type": "execute_result"
    }
   ],
   "source": [
    "arr9.astype(\"float\")           # DATATYPE CONVERSION"
   ]
  },
  {
   "cell_type": "code",
   "execution_count": 58,
   "id": "c9a2e3ff",
   "metadata": {},
   "outputs": [],
   "source": [
    "# List vs array\n",
    "# Faster, convenient, Less Memory"
   ]
  },
  {
   "cell_type": "code",
   "execution_count": 59,
   "id": "f3358da9",
   "metadata": {},
   "outputs": [],
   "source": [
    "Lista=range(100)\n",
    "arr11=np.arange(100)"
   ]
  },
  {
   "cell_type": "code",
   "execution_count": 60,
   "id": "adad79eb",
   "metadata": {},
   "outputs": [
    {
     "data": {
      "text/plain": [
       "range(0, 100)"
      ]
     },
     "execution_count": 60,
     "metadata": {},
     "output_type": "execute_result"
    }
   ],
   "source": [
    "Lista"
   ]
  },
  {
   "cell_type": "code",
   "execution_count": 61,
   "id": "d5008944",
   "metadata": {},
   "outputs": [
    {
     "data": {
      "text/plain": [
       "array([ 0,  1,  2,  3,  4,  5,  6,  7,  8,  9, 10, 11, 12, 13, 14, 15, 16,\n",
       "       17, 18, 19, 20, 21, 22, 23, 24, 25, 26, 27, 28, 29, 30, 31, 32, 33,\n",
       "       34, 35, 36, 37, 38, 39, 40, 41, 42, 43, 44, 45, 46, 47, 48, 49, 50,\n",
       "       51, 52, 53, 54, 55, 56, 57, 58, 59, 60, 61, 62, 63, 64, 65, 66, 67,\n",
       "       68, 69, 70, 71, 72, 73, 74, 75, 76, 77, 78, 79, 80, 81, 82, 83, 84,\n",
       "       85, 86, 87, 88, 89, 90, 91, 92, 93, 94, 95, 96, 97, 98, 99])"
      ]
     },
     "execution_count": 61,
     "metadata": {},
     "output_type": "execute_result"
    }
   ],
   "source": [
    "arr11"
   ]
  },
  {
   "cell_type": "code",
   "execution_count": 62,
   "id": "995777ef",
   "metadata": {},
   "outputs": [],
   "source": [
    "import  sys         # system"
   ]
  },
  {
   "cell_type": "code",
   "execution_count": 63,
   "id": "2c2007f2",
   "metadata": {},
   "outputs": [
    {
     "name": "stdout",
     "output_type": "stream",
     "text": [
      "2800\n"
     ]
    }
   ],
   "source": [
    "print(sys.getsizeof(87)*len(Lista))     # size of one item...length of the list\n",
    "# occupy 2800 bytes"
   ]
  },
  {
   "cell_type": "code",
   "execution_count": 64,
   "id": "f08a18c2",
   "metadata": {},
   "outputs": [
    {
     "name": "stdout",
     "output_type": "stream",
     "text": [
      "400\n"
     ]
    }
   ],
   "source": [
    "print(arr11.itemsize*arr11.size)            #  size of one item"
   ]
  },
  {
   "cell_type": "code",
   "execution_count": 65,
   "id": "b9fa36a5",
   "metadata": {},
   "outputs": [],
   "source": [
    "# np array stores less memory as compared to 'List'\n"
   ]
  },
  {
   "cell_type": "code",
   "execution_count": 66,
   "id": "266d4b86",
   "metadata": {},
   "outputs": [],
   "source": [
    "import time"
   ]
  },
  {
   "cell_type": "code",
   "execution_count": 67,
   "id": "f5c7c8af",
   "metadata": {},
   "outputs": [],
   "source": [
    "x=range(10000000)\n",
    "y=range(100000,20000000)"
   ]
  },
  {
   "cell_type": "code",
   "execution_count": 68,
   "id": "1cbdd9d6",
   "metadata": {},
   "outputs": [
    {
     "name": "stdout",
     "output_type": "stream",
     "text": [
      "1.7607064247131348\n"
     ]
    }
   ],
   "source": [
    "start_time=time.time()        # give current time\n",
    "\n",
    "c=[(x,y) for x,y in zip(x,y)]        # add by taking elemment one-one from each list\n",
    "\n",
    "\n",
    "print(time.time()-start_time)\n",
    "\n",
    "# time taken to run this operation"
   ]
  },
  {
   "cell_type": "code",
   "execution_count": 69,
   "id": "8471a724",
   "metadata": {},
   "outputs": [],
   "source": [
    "a=np.arange(10000000)\n",
    "b=np.arange(10000000,20000000)"
   ]
  },
  {
   "cell_type": "code",
   "execution_count": 70,
   "id": "3ea42224",
   "metadata": {},
   "outputs": [
    {
     "name": "stdout",
     "output_type": "stream",
     "text": [
      "0.5067873001098633\n"
     ]
    }
   ],
   "source": [
    "start_time=time.time()\n",
    "\n",
    "c=a+b  # c becomes numpy array\n",
    "\n",
    "print(time.time()-start_time)"
   ]
  },
  {
   "cell_type": "code",
   "execution_count": 71,
   "id": "9ff9676a",
   "metadata": {},
   "outputs": [
    {
     "data": {
      "text/plain": [
       "array([ 0,  1,  2,  3,  4,  5,  6,  7,  8,  9, 10, 11, 12, 13, 14, 15, 16,\n",
       "       17, 18, 19, 20, 21, 22, 23])"
      ]
     },
     "execution_count": 71,
     "metadata": {},
     "output_type": "execute_result"
    }
   ],
   "source": [
    "arr12=np.arange(24)\n",
    "arr12"
   ]
  },
  {
   "cell_type": "code",
   "execution_count": 72,
   "id": "869370a6",
   "metadata": {},
   "outputs": [
    {
     "data": {
      "text/plain": [
       "array([[ 0,  1,  2,  3],\n",
       "       [ 4,  5,  6,  7],\n",
       "       [ 8,  9, 10, 11],\n",
       "       [12, 13, 14, 15],\n",
       "       [16, 17, 18, 19],\n",
       "       [20, 21, 22, 23]])"
      ]
     },
     "execution_count": 72,
     "metadata": {},
     "output_type": "execute_result"
    }
   ],
   "source": [
    "arr12=np.arange(24).reshape(6,4)\n",
    "arr12"
   ]
  },
  {
   "cell_type": "code",
   "execution_count": 73,
   "id": "efdf7829",
   "metadata": {},
   "outputs": [
    {
     "data": {
      "text/plain": [
       "4"
      ]
     },
     "execution_count": 73,
     "metadata": {},
     "output_type": "execute_result"
    }
   ],
   "source": [
    "arr1[3]"
   ]
  },
  {
   "cell_type": "code",
   "execution_count": 74,
   "id": "4aa8c1f4",
   "metadata": {},
   "outputs": [
    {
     "data": {
      "text/plain": [
       "array([3, 4])"
      ]
     },
     "execution_count": 74,
     "metadata": {},
     "output_type": "execute_result"
    }
   ],
   "source": [
    "arr1[2:4]"
   ]
  },
  {
   "cell_type": "code",
   "execution_count": 75,
   "id": "ad3ca8a1",
   "metadata": {},
   "outputs": [
    {
     "data": {
      "text/plain": [
       "6"
      ]
     },
     "execution_count": 75,
     "metadata": {},
     "output_type": "execute_result"
    }
   ],
   "source": [
    "arr1[-1]"
   ]
  },
  {
   "cell_type": "code",
   "execution_count": 76,
   "id": "4b4359b0",
   "metadata": {},
   "outputs": [
    {
     "data": {
      "text/plain": [
       "array([ 8,  9, 10, 11])"
      ]
     },
     "execution_count": 76,
     "metadata": {},
     "output_type": "execute_result"
    }
   ],
   "source": [
    "arr12[2]"
   ]
  },
  {
   "cell_type": "code",
   "execution_count": 77,
   "id": "bcce50c9",
   "metadata": {},
   "outputs": [
    {
     "data": {
      "text/plain": [
       "array([[0, 1, 2, 3],\n",
       "       [4, 5, 6, 7]])"
      ]
     },
     "execution_count": 77,
     "metadata": {},
     "output_type": "execute_result"
    }
   ],
   "source": [
    "arr12[:2]"
   ]
  },
  {
   "cell_type": "code",
   "execution_count": 78,
   "id": "bf3f8eb6",
   "metadata": {},
   "outputs": [
    {
     "data": {
      "text/plain": [
       "array([ 2,  6, 10, 14, 18, 22])"
      ]
     },
     "execution_count": 78,
     "metadata": {},
     "output_type": "execute_result"
    }
   ],
   "source": [
    "arr12[:,2]               # 3 col"
   ]
  },
  {
   "cell_type": "code",
   "execution_count": 79,
   "id": "78dde3b7",
   "metadata": {},
   "outputs": [
    {
     "data": {
      "text/plain": [
       "array([[2, 3],\n",
       "       [6, 7]])"
      ]
     },
     "execution_count": 79,
     "metadata": {},
     "output_type": "execute_result"
    }
   ],
   "source": [
    "arr12[:2,2:4]"
   ]
  },
  {
   "cell_type": "code",
   "execution_count": 80,
   "id": "5b60090f",
   "metadata": {},
   "outputs": [
    {
     "data": {
      "text/plain": [
       "array([[ 9, 10],\n",
       "       [13, 14]])"
      ]
     },
     "execution_count": 80,
     "metadata": {},
     "output_type": "execute_result"
    }
   ],
   "source": [
    "arr12[2:4,1:3]"
   ]
  },
  {
   "cell_type": "code",
   "execution_count": 81,
   "id": "621822cf",
   "metadata": {},
   "outputs": [
    {
     "data": {
      "text/plain": [
       "array([[18, 19],\n",
       "       [22, 23]])"
      ]
     },
     "execution_count": 81,
     "metadata": {},
     "output_type": "execute_result"
    }
   ],
   "source": [
    "arr12[4:6,2:4]"
   ]
  },
  {
   "cell_type": "code",
   "execution_count": 82,
   "id": "ca9d034b",
   "metadata": {},
   "outputs": [
    {
     "name": "stdout",
     "output_type": "stream",
     "text": [
      "[0 1 2 3]\n",
      "[4 5 6 7]\n",
      "[ 8  9 10 11]\n",
      "[12 13 14 15]\n",
      "[16 17 18 19]\n",
      "[20 21 22 23]\n"
     ]
    }
   ],
   "source": [
    "for i in arr12:\n",
    "    print(i)           # ITERATE ROWISE"
   ]
  },
  {
   "cell_type": "code",
   "execution_count": 83,
   "id": "7999074f",
   "metadata": {},
   "outputs": [
    {
     "name": "stdout",
     "output_type": "stream",
     "text": [
      "0\n",
      "1\n",
      "2\n",
      "3\n",
      "4\n",
      "5\n",
      "6\n",
      "7\n",
      "8\n",
      "9\n",
      "10\n",
      "11\n",
      "12\n",
      "13\n",
      "14\n",
      "15\n",
      "16\n",
      "17\n",
      "18\n",
      "19\n",
      "20\n",
      "21\n",
      "22\n",
      "23\n"
     ]
    }
   ],
   "source": [
    "for i in np.nditer(arr12):\n",
    "    print(i)        \n",
    "# particular filter on each pixel of image-eg"
   ]
  },
  {
   "cell_type": "code",
   "execution_count": 84,
   "id": "4b1207df",
   "metadata": {},
   "outputs": [
    {
     "data": {
      "text/plain": [
       "array([-3, -3, -3, -3, -3, -3])"
      ]
     },
     "execution_count": 84,
     "metadata": {},
     "output_type": "execute_result"
    }
   ],
   "source": [
    "arr1=np.array([1,2,3,4,5,6])\n",
    "arr2=np.array([4,5,6,7,8,9])\n",
    "arr1-arr2"
   ]
  },
  {
   "cell_type": "code",
   "execution_count": 85,
   "id": "e6e2024c",
   "metadata": {},
   "outputs": [
    {
     "data": {
      "text/plain": [
       "array([ 4, 10, 18, 28, 40, 54])"
      ]
     },
     "execution_count": 85,
     "metadata": {},
     "output_type": "execute_result"
    }
   ],
   "source": [
    "arr1*arr2      # vector mul"
   ]
  },
  {
   "cell_type": "code",
   "execution_count": 86,
   "id": "8c1af9ff",
   "metadata": {},
   "outputs": [
    {
     "data": {
      "text/plain": [
       "array([ 2,  4,  6,  8, 10, 12])"
      ]
     },
     "execution_count": 86,
     "metadata": {},
     "output_type": "execute_result"
    }
   ],
   "source": [
    "arr1*2            #scalar mul"
   ]
  },
  {
   "cell_type": "code",
   "execution_count": 87,
   "id": "2a5ada6d",
   "metadata": {},
   "outputs": [
    {
     "data": {
      "text/plain": [
       "array([ True,  True,  True,  True,  True,  True])"
      ]
     },
     "execution_count": 87,
     "metadata": {},
     "output_type": "execute_result"
    }
   ],
   "source": [
    "arr2>3"
   ]
  },
  {
   "cell_type": "code",
   "execution_count": 88,
   "id": "a9b1ba35",
   "metadata": {},
   "outputs": [
    {
     "data": {
      "text/plain": [
       "array([4, 5, 6, 7, 8, 9])"
      ]
     },
     "execution_count": 88,
     "metadata": {},
     "output_type": "execute_result"
    }
   ],
   "source": [
    "arr2[arr2>3]"
   ]
  },
  {
   "cell_type": "code",
   "execution_count": 89,
   "id": "b8379719",
   "metadata": {},
   "outputs": [],
   "source": [
    "arr3=np.arange(6).reshape(2,3)\n",
    "arr4=np.arange(6,12).reshape(3,2)"
   ]
  },
  {
   "cell_type": "code",
   "execution_count": 90,
   "id": "d7cbe951",
   "metadata": {},
   "outputs": [
    {
     "data": {
      "text/plain": [
       "array([[0, 1, 2],\n",
       "       [3, 4, 5]])"
      ]
     },
     "execution_count": 90,
     "metadata": {},
     "output_type": "execute_result"
    }
   ],
   "source": [
    "arr3\n"
   ]
  },
  {
   "cell_type": "code",
   "execution_count": 91,
   "id": "fc6244c6",
   "metadata": {},
   "outputs": [
    {
     "data": {
      "text/plain": [
       "array([[ 6,  7],\n",
       "       [ 8,  9],\n",
       "       [10, 11]])"
      ]
     },
     "execution_count": 91,
     "metadata": {},
     "output_type": "execute_result"
    }
   ],
   "source": [
    "arr4"
   ]
  },
  {
   "cell_type": "code",
   "execution_count": 92,
   "id": "e9a943e7",
   "metadata": {},
   "outputs": [
    {
     "data": {
      "text/plain": [
       "array([[ 28,  31],\n",
       "       [100, 112]])"
      ]
     },
     "execution_count": 92,
     "metadata": {},
     "output_type": "execute_result"
    }
   ],
   "source": [
    "arr3.dot(arr4)"
   ]
  },
  {
   "cell_type": "code",
   "execution_count": 93,
   "id": "e2108788",
   "metadata": {},
   "outputs": [
    {
     "ename": "ValueError",
     "evalue": "shapes (6,) and (2,3) not aligned: 6 (dim 0) != 2 (dim 0)",
     "output_type": "error",
     "traceback": [
      "\u001b[1;31m---------------------------------------------------------------------------\u001b[0m",
      "\u001b[1;31mValueError\u001b[0m                                Traceback (most recent call last)",
      "\u001b[1;32m~\\AppData\\Local\\Temp\\ipykernel_17144\\2309766231.py\u001b[0m in \u001b[0;36m<module>\u001b[1;34m\u001b[0m\n\u001b[1;32m----> 1\u001b[1;33m \u001b[0marr1\u001b[0m\u001b[1;33m.\u001b[0m\u001b[0mdot\u001b[0m\u001b[1;33m(\u001b[0m\u001b[0marr3\u001b[0m\u001b[1;33m)\u001b[0m\u001b[1;33m\u001b[0m\u001b[1;33m\u001b[0m\u001b[0m\n\u001b[0m",
      "\u001b[1;31mValueError\u001b[0m: shapes (6,) and (2,3) not aligned: 6 (dim 0) != 2 (dim 0)"
     ]
    }
   ],
   "source": [
    "arr1.dot(arr3)"
   ]
  },
  {
   "cell_type": "code",
   "execution_count": 94,
   "id": "4b79708d",
   "metadata": {},
   "outputs": [
    {
     "data": {
      "text/plain": [
       "array([[ 6,  7],\n",
       "       [ 8,  9],\n",
       "       [10, 11]])"
      ]
     },
     "execution_count": 94,
     "metadata": {},
     "output_type": "execute_result"
    }
   ],
   "source": [
    "arr4"
   ]
  },
  {
   "cell_type": "code",
   "execution_count": 95,
   "id": "3799f8e2",
   "metadata": {},
   "outputs": [
    {
     "data": {
      "text/plain": [
       "11"
      ]
     },
     "execution_count": 95,
     "metadata": {},
     "output_type": "execute_result"
    }
   ],
   "source": [
    "arr4.max()"
   ]
  },
  {
   "cell_type": "code",
   "execution_count": 96,
   "id": "ee8e1011",
   "metadata": {},
   "outputs": [
    {
     "data": {
      "text/plain": [
       "6"
      ]
     },
     "execution_count": 96,
     "metadata": {},
     "output_type": "execute_result"
    }
   ],
   "source": [
    "arr4.min()"
   ]
  },
  {
   "cell_type": "code",
   "execution_count": 97,
   "id": "83f175d8",
   "metadata": {},
   "outputs": [
    {
     "data": {
      "text/plain": [
       "array([6, 7])"
      ]
     },
     "execution_count": 97,
     "metadata": {},
     "output_type": "execute_result"
    }
   ],
   "source": [
    "arr4.min(axis=0)"
   ]
  },
  {
   "cell_type": "code",
   "execution_count": 98,
   "id": "09f8736e",
   "metadata": {},
   "outputs": [
    {
     "data": {
      "text/plain": [
       "array([ 6,  8, 10])"
      ]
     },
     "execution_count": 98,
     "metadata": {},
     "output_type": "execute_result"
    }
   ],
   "source": [
    "arr4.min(axis=1)"
   ]
  },
  {
   "cell_type": "code",
   "execution_count": 99,
   "id": "f7339a9b",
   "metadata": {},
   "outputs": [
    {
     "data": {
      "text/plain": [
       "array([24, 27])"
      ]
     },
     "execution_count": 99,
     "metadata": {},
     "output_type": "execute_result"
    }
   ],
   "source": [
    "arr4.sum(axis=0)"
   ]
  },
  {
   "cell_type": "code",
   "execution_count": 100,
   "id": "dfcb5771",
   "metadata": {},
   "outputs": [
    {
     "data": {
      "text/plain": [
       "8.5"
      ]
     },
     "execution_count": 100,
     "metadata": {},
     "output_type": "execute_result"
    }
   ],
   "source": [
    "arr4.mean()"
   ]
  },
  {
   "cell_type": "code",
   "execution_count": 101,
   "id": "86e54475",
   "metadata": {},
   "outputs": [
    {
     "data": {
      "text/plain": [
       "1.707825127659933"
      ]
     },
     "execution_count": 101,
     "metadata": {},
     "output_type": "execute_result"
    }
   ],
   "source": [
    "arr4.std()"
   ]
  },
  {
   "cell_type": "code",
   "execution_count": 102,
   "id": "180d8577",
   "metadata": {},
   "outputs": [
    {
     "data": {
      "text/plain": [
       "array([[-0.2794155 ,  0.6569866 ],\n",
       "       [ 0.98935825,  0.41211849],\n",
       "       [-0.54402111, -0.99999021]])"
      ]
     },
     "execution_count": 102,
     "metadata": {},
     "output_type": "execute_result"
    }
   ],
   "source": [
    "np.sin(arr4)      # no need of object-oops"
   ]
  },
  {
   "cell_type": "code",
   "execution_count": 103,
   "id": "b562db04",
   "metadata": {},
   "outputs": [
    {
     "data": {
      "text/plain": [
       "8.5"
      ]
     },
     "execution_count": 103,
     "metadata": {},
     "output_type": "execute_result"
    }
   ],
   "source": [
    "np.median(arr4)"
   ]
  },
  {
   "cell_type": "code",
   "execution_count": 104,
   "id": "9f887d5c",
   "metadata": {},
   "outputs": [
    {
     "data": {
      "text/plain": [
       "array([[  403.42879349,  1096.63315843],\n",
       "       [ 2980.95798704,  8103.08392758],\n",
       "       [22026.46579481, 59874.1417152 ]])"
      ]
     },
     "execution_count": 104,
     "metadata": {},
     "output_type": "execute_result"
    }
   ],
   "source": [
    "np.exp(arr4)             #exponental"
   ]
  },
  {
   "cell_type": "code",
   "execution_count": 105,
   "id": "7885a87a",
   "metadata": {},
   "outputs": [
    {
     "data": {
      "text/plain": [
       "array([[2.44948974, 2.64575131],\n",
       "       [2.82842712, 3.        ],\n",
       "       [3.16227766, 3.31662479]])"
      ]
     },
     "execution_count": 105,
     "metadata": {},
     "output_type": "execute_result"
    }
   ],
   "source": [
    "np.sqrt(arr4)"
   ]
  },
  {
   "cell_type": "code",
   "execution_count": 106,
   "id": "ce9dd026",
   "metadata": {},
   "outputs": [
    {
     "data": {
      "text/plain": [
       "2"
      ]
     },
     "execution_count": 106,
     "metadata": {},
     "output_type": "execute_result"
    }
   ],
   "source": [
    "arr4.ndim"
   ]
  },
  {
   "cell_type": "code",
   "execution_count": 107,
   "id": "aa952dbc",
   "metadata": {},
   "outputs": [
    {
     "data": {
      "text/plain": [
       "2"
      ]
     },
     "execution_count": 107,
     "metadata": {},
     "output_type": "execute_result"
    }
   ],
   "source": [
    "arr4.ndim"
   ]
  },
  {
   "cell_type": "code",
   "execution_count": 108,
   "id": "a265c0cd",
   "metadata": {},
   "outputs": [
    {
     "data": {
      "text/plain": [
       "array([ 6,  7,  8,  9, 10, 11])"
      ]
     },
     "execution_count": 108,
     "metadata": {},
     "output_type": "execute_result"
    }
   ],
   "source": [
    "arr4.ravel()     # change the shape of numpy array               "
   ]
  },
  {
   "cell_type": "code",
   "execution_count": 109,
   "id": "9b76ce67",
   "metadata": {},
   "outputs": [
    {
     "data": {
      "text/plain": [
       "array([[ 6,  7,  8],\n",
       "       [ 9, 10, 11]])"
      ]
     },
     "execution_count": 109,
     "metadata": {},
     "output_type": "execute_result"
    }
   ],
   "source": [
    "arr4.reshape(2,3)"
   ]
  },
  {
   "cell_type": "code",
   "execution_count": 110,
   "id": "de0614cc",
   "metadata": {},
   "outputs": [
    {
     "data": {
      "text/plain": [
       "array([[ 6,  8, 10],\n",
       "       [ 7,  9, 11]])"
      ]
     },
     "execution_count": 110,
     "metadata": {},
     "output_type": "execute_result"
    }
   ],
   "source": [
    "arr4.T"
   ]
  },
  {
   "cell_type": "code",
   "execution_count": 111,
   "id": "d28bbaab",
   "metadata": {},
   "outputs": [
    {
     "data": {
      "text/plain": [
       "array([[ 6,  8, 10],\n",
       "       [ 7,  9, 11]])"
      ]
     },
     "execution_count": 111,
     "metadata": {},
     "output_type": "execute_result"
    }
   ],
   "source": [
    "x=arr4.transpose()  # row--> col,col--> row\n",
    "x"
   ]
  },
  {
   "cell_type": "code",
   "execution_count": 112,
   "id": "9994c57e",
   "metadata": {},
   "outputs": [
    {
     "data": {
      "text/plain": [
       "array([[ 6,  7],\n",
       "       [ 8,  9],\n",
       "       [10, 11]])"
      ]
     },
     "execution_count": 112,
     "metadata": {},
     "output_type": "execute_result"
    }
   ],
   "source": [
    "x.T"
   ]
  },
  {
   "cell_type": "code",
   "execution_count": 113,
   "id": "68483419",
   "metadata": {},
   "outputs": [
    {
     "data": {
      "text/plain": [
       "array([[0, 1, 2],\n",
       "       [3, 4, 5]])"
      ]
     },
     "execution_count": 113,
     "metadata": {},
     "output_type": "execute_result"
    }
   ],
   "source": [
    "# stacking can be used to combine array\n",
    "arr3"
   ]
  },
  {
   "cell_type": "code",
   "execution_count": 114,
   "id": "2bcc7b23",
   "metadata": {},
   "outputs": [],
   "source": [
    "arr5=np.arange(12,18).reshape(2,3)"
   ]
  },
  {
   "cell_type": "code",
   "execution_count": 115,
   "id": "3c96192c",
   "metadata": {},
   "outputs": [
    {
     "data": {
      "text/plain": [
       "array([[12, 13, 14],\n",
       "       [15, 16, 17]])"
      ]
     },
     "execution_count": 115,
     "metadata": {},
     "output_type": "execute_result"
    }
   ],
   "source": [
    "arr5"
   ]
  },
  {
   "cell_type": "code",
   "execution_count": 116,
   "id": "d7ce0e59",
   "metadata": {},
   "outputs": [
    {
     "data": {
      "text/plain": [
       "array([[ 0,  1,  2, 12, 13, 14],\n",
       "       [ 3,  4,  5, 15, 16, 17]])"
      ]
     },
     "execution_count": 116,
     "metadata": {},
     "output_type": "execute_result"
    }
   ],
   "source": [
    "np.hstack((arr3,arr5))"
   ]
  },
  {
   "cell_type": "code",
   "execution_count": 117,
   "id": "3cb65f4d",
   "metadata": {},
   "outputs": [
    {
     "data": {
      "text/plain": [
       "array([[ 0,  1,  2],\n",
       "       [ 3,  4,  5],\n",
       "       [12, 13, 14],\n",
       "       [15, 16, 17]])"
      ]
     },
     "execution_count": 117,
     "metadata": {},
     "output_type": "execute_result"
    }
   ],
   "source": [
    "np.vstack((arr3,arr5))"
   ]
  },
  {
   "cell_type": "code",
   "execution_count": 125,
   "id": "40056b78",
   "metadata": {},
   "outputs": [
    {
     "data": {
      "text/plain": [
       "[array([[0, 1, 2]]), array([[3, 4, 5]])]"
      ]
     },
     "execution_count": 125,
     "metadata": {},
     "output_type": "execute_result"
    }
   ],
   "source": [
    "np.vsplit(arr3,2)"
   ]
  },
  {
   "cell_type": "code",
   "execution_count": 126,
   "id": "7acb07b0",
   "metadata": {},
   "outputs": [],
   "source": [
    "arr8=np.arange(24).reshape(6,4)"
   ]
  },
  {
   "cell_type": "code",
   "execution_count": 127,
   "id": "54b20624",
   "metadata": {},
   "outputs": [
    {
     "data": {
      "text/plain": [
       "array([[ 0,  1,  2,  3],\n",
       "       [ 4,  5,  6,  7],\n",
       "       [ 8,  9, 10, 11],\n",
       "       [12, 13, 14, 15],\n",
       "       [16, 17, 18, 19],\n",
       "       [20, 21, 22, 23]])"
      ]
     },
     "execution_count": 127,
     "metadata": {},
     "output_type": "execute_result"
    }
   ],
   "source": [
    "arr8"
   ]
  },
  {
   "cell_type": "code",
   "execution_count": 128,
   "id": "7dcbdef2",
   "metadata": {},
   "outputs": [
    {
     "data": {
      "text/plain": [
       "array([[ 0,  1,  2,  3],\n",
       "       [ 8,  9, 10, 11],\n",
       "       [16, 17, 18, 19]])"
      ]
     },
     "execution_count": 128,
     "metadata": {},
     "output_type": "execute_result"
    }
   ],
   "source": [
    "# need 1,3 & 5 th row-- fancy indexing\n",
    "arr8[[0,2,4]]"
   ]
  },
  {
   "cell_type": "code",
   "execution_count": 131,
   "id": "bec82306",
   "metadata": {},
   "outputs": [],
   "source": [
    "#  indexing using boolean\n",
    "arr=np.random.randint(low=1,high=100,size=20).reshape(4,5)"
   ]
  },
  {
   "cell_type": "code",
   "execution_count": 132,
   "id": "93ce8abd",
   "metadata": {},
   "outputs": [
    {
     "data": {
      "text/plain": [
       "array([[85, 73, 49, 78, 11],\n",
       "       [38,  8, 63, 32, 25],\n",
       "       [19, 42, 14, 71, 79],\n",
       "       [28, 62, 44, 73, 98]])"
      ]
     },
     "execution_count": 132,
     "metadata": {},
     "output_type": "execute_result"
    }
   ],
   "source": [
    "arr"
   ]
  },
  {
   "cell_type": "code",
   "execution_count": 133,
   "id": "63375e1f",
   "metadata": {},
   "outputs": [
    {
     "data": {
      "text/plain": [
       "array([85, 73, 49, 78, 11])"
      ]
     },
     "execution_count": 133,
     "metadata": {},
     "output_type": "execute_result"
    }
   ],
   "source": [
    "arr[0]"
   ]
  },
  {
   "cell_type": "code",
   "execution_count": 134,
   "id": "af826b04",
   "metadata": {},
   "outputs": [
    {
     "data": {
      "text/plain": [
       "array([[ True,  True, False,  True, False],\n",
       "       [False, False,  True, False, False],\n",
       "       [False, False, False,  True,  True],\n",
       "       [False,  True, False,  True,  True]])"
      ]
     },
     "execution_count": 134,
     "metadata": {},
     "output_type": "execute_result"
    }
   ],
   "source": [
    "arr>50"
   ]
  },
  {
   "cell_type": "code",
   "execution_count": 135,
   "id": "2044cee4",
   "metadata": {},
   "outputs": [
    {
     "data": {
      "text/plain": [
       "array([85, 73, 78, 63, 71, 79, 62, 73, 98])"
      ]
     },
     "execution_count": 135,
     "metadata": {},
     "output_type": "execute_result"
    }
   ],
   "source": [
    "arr[arr>50]        # items greater than '50'"
   ]
  },
  {
   "cell_type": "code",
   "execution_count": 136,
   "id": "0b0b1d5d",
   "metadata": {},
   "outputs": [
    {
     "data": {
      "text/plain": [
       "(4, 5)"
      ]
     },
     "execution_count": 136,
     "metadata": {},
     "output_type": "execute_result"
    }
   ],
   "source": [
    "arr.shape"
   ]
  },
  {
   "cell_type": "code",
   "execution_count": 137,
   "id": "d5df0c64",
   "metadata": {},
   "outputs": [
    {
     "data": {
      "text/plain": [
       "array([85, 73, 78, 63, 71, 79, 62, 73, 98])"
      ]
     },
     "execution_count": 137,
     "metadata": {},
     "output_type": "execute_result"
    }
   ],
   "source": [
    "#  indexing using boolean array\n",
    "arr[arr>50]"
   ]
  },
  {
   "cell_type": "code",
   "execution_count": 138,
   "id": "40da451c",
   "metadata": {},
   "outputs": [
    {
     "data": {
      "text/plain": [
       "array([85, 73, 63, 71, 79, 73])"
      ]
     },
     "execution_count": 138,
     "metadata": {},
     "output_type": "execute_result"
    }
   ],
   "source": [
    "arr[(arr>50)&(arr%2!=0)]       # greater than and odd"
   ]
  },
  {
   "cell_type": "code",
   "execution_count": 141,
   "id": "8d008508",
   "metadata": {},
   "outputs": [],
   "source": [
    "arr[(arr>50)&(arr%2!=0)]=0     # replace such values with zero '0'"
   ]
  },
  {
   "cell_type": "code",
   "execution_count": 143,
   "id": "b915509c",
   "metadata": {},
   "outputs": [
    {
     "data": {
      "text/plain": [
       "array([[ 0,  0, 49, 78, 11],\n",
       "       [38,  8,  0, 32, 25],\n",
       "       [19, 42, 14,  0,  0],\n",
       "       [28, 62, 44,  0, 98]])"
      ]
     },
     "execution_count": 143,
     "metadata": {},
     "output_type": "execute_result"
    }
   ],
   "source": [
    "arr"
   ]
  },
  {
   "cell_type": "code",
   "execution_count": null,
   "id": "5444d026",
   "metadata": {},
   "outputs": [],
   "source": [
    "#  plotting graphs using numpy"
   ]
  },
  {
   "cell_type": "code",
   "execution_count": 145,
   "id": "f6024635",
   "metadata": {},
   "outputs": [],
   "source": [
    "x=np.linspace(-40,40,100)          # linearly spaced"
   ]
  },
  {
   "cell_type": "code",
   "execution_count": 146,
   "id": "26f59c16",
   "metadata": {},
   "outputs": [
    {
     "data": {
      "text/plain": [
       "array([-40.        , -39.19191919, -38.38383838, -37.57575758,\n",
       "       -36.76767677, -35.95959596, -35.15151515, -34.34343434,\n",
       "       -33.53535354, -32.72727273, -31.91919192, -31.11111111,\n",
       "       -30.3030303 , -29.49494949, -28.68686869, -27.87878788,\n",
       "       -27.07070707, -26.26262626, -25.45454545, -24.64646465,\n",
       "       -23.83838384, -23.03030303, -22.22222222, -21.41414141,\n",
       "       -20.60606061, -19.7979798 , -18.98989899, -18.18181818,\n",
       "       -17.37373737, -16.56565657, -15.75757576, -14.94949495,\n",
       "       -14.14141414, -13.33333333, -12.52525253, -11.71717172,\n",
       "       -10.90909091, -10.1010101 ,  -9.29292929,  -8.48484848,\n",
       "        -7.67676768,  -6.86868687,  -6.06060606,  -5.25252525,\n",
       "        -4.44444444,  -3.63636364,  -2.82828283,  -2.02020202,\n",
       "        -1.21212121,  -0.4040404 ,   0.4040404 ,   1.21212121,\n",
       "         2.02020202,   2.82828283,   3.63636364,   4.44444444,\n",
       "         5.25252525,   6.06060606,   6.86868687,   7.67676768,\n",
       "         8.48484848,   9.29292929,  10.1010101 ,  10.90909091,\n",
       "        11.71717172,  12.52525253,  13.33333333,  14.14141414,\n",
       "        14.94949495,  15.75757576,  16.56565657,  17.37373737,\n",
       "        18.18181818,  18.98989899,  19.7979798 ,  20.60606061,\n",
       "        21.41414141,  22.22222222,  23.03030303,  23.83838384,\n",
       "        24.64646465,  25.45454545,  26.26262626,  27.07070707,\n",
       "        27.87878788,  28.68686869,  29.49494949,  30.3030303 ,\n",
       "        31.11111111,  31.91919192,  32.72727273,  33.53535354,\n",
       "        34.34343434,  35.15151515,  35.95959596,  36.76767677,\n",
       "        37.57575758,  38.38383838,  39.19191919,  40.        ])"
      ]
     },
     "execution_count": 146,
     "metadata": {},
     "output_type": "execute_result"
    }
   ],
   "source": [
    "x"
   ]
  },
  {
   "cell_type": "code",
   "execution_count": 147,
   "id": "b81c45c4",
   "metadata": {},
   "outputs": [
    {
     "data": {
      "text/plain": [
       "100"
      ]
     },
     "execution_count": 147,
     "metadata": {},
     "output_type": "execute_result"
    }
   ],
   "source": [
    "x.size"
   ]
  },
  {
   "cell_type": "code",
   "execution_count": 150,
   "id": "1e7a626a",
   "metadata": {},
   "outputs": [],
   "source": [
    "y=np.sin(x)"
   ]
  },
  {
   "cell_type": "code",
   "execution_count": 149,
   "id": "da7f4f1b",
   "metadata": {},
   "outputs": [
    {
     "data": {
      "text/plain": [
       "100"
      ]
     },
     "execution_count": 149,
     "metadata": {},
     "output_type": "execute_result"
    }
   ],
   "source": [
    "y.size           # 'y' is numpy array whose size is '100'."
   ]
  },
  {
   "cell_type": "code",
   "execution_count": 153,
   "id": "a5a2a290",
   "metadata": {},
   "outputs": [],
   "source": [
    "#\n",
    "import matplotlib.pyplot as plt\n",
    "%matplotlib inline     # graph visible on the screen"
   ]
  },
  {
   "cell_type": "code",
   "execution_count": 155,
   "id": "6a660341",
   "metadata": {},
   "outputs": [
    {
     "data": {
      "text/plain": [
       "[<matplotlib.lines.Line2D at 0x25781678b50>]"
      ]
     },
     "execution_count": 155,
     "metadata": {},
     "output_type": "execute_result"
    },
    {
     "data": {
      "image/png": "[encoded data removed]",
      "text/plain": [
       "<Figure size 640x480 with 1 Axes>"
      ]
     },
     "metadata": {},
     "output_type": "display_data"
    }
   ],
   "source": [
    "plt.plot(x,y)      # needs 'x' & 'y'"
   ]
  },
  {
   "cell_type": "code",
   "execution_count": 156,
   "id": "9329f8c1",
   "metadata": {},
   "outputs": [
    {
     "data": {
      "text/plain": [
       "array([1526.        , 1463.62269156, 1402.55137231, 1342.78604224,\n",
       "       1284.32670136, 1227.17334966, 1171.32598714, 1116.78461381,\n",
       "       1063.54922967, 1011.61983471,  960.99642894,  911.67901235,\n",
       "        863.66758494,  816.96214672,  771.56269768,  727.46923783,\n",
       "        684.68176717,  643.20028569,  603.02479339,  564.15529028,\n",
       "        526.59177635,  490.33425161,  455.38271605,  421.73716968,\n",
       "        389.39761249,  358.36404449,  328.63646567,  300.21487603,\n",
       "        273.09927558,  247.28966432,  222.78604224,  199.58840935,\n",
       "        177.69676564,  157.11111111,  137.83144577,  119.85776962,\n",
       "        103.19008264,   87.82838486,   73.77267626,   61.02295684,\n",
       "         49.57922661,   39.44148556,   30.6097337 ,   23.08397102,\n",
       "         16.86419753,   11.95041322,    8.3426181 ,    6.04081216,\n",
       "          5.04499541,    5.35516784,    6.97132946,    9.89348026,\n",
       "         14.12162024,   19.65574941,   26.49586777,   34.64197531,\n",
       "         44.09407203,   54.85215794,   66.91623304,   80.28629732,\n",
       "         94.96235078,  110.94439343,  128.23242526,  146.82644628,\n",
       "        166.72645648,  187.93245587,  210.44444444,  234.2624222 ,\n",
       "        259.38638914,  285.81634527,  313.55229058,  342.59422508,\n",
       "        372.94214876,  404.59606163,  437.55596368,  471.82185491,\n",
       "        507.39373533,  544.27160494,  582.45546373,  621.9453117 ,\n",
       "        662.74114886,  704.84297521,  748.25079074,  792.96459545,\n",
       "        838.98438935,  886.31017243,  934.9419447 ,  984.87970615,\n",
       "       1036.12345679, 1088.67319661, 1142.52892562, 1197.69064381,\n",
       "       1254.15835119, 1311.93204775, 1371.0117335 , 1431.39740843,\n",
       "       1493.08907254, 1556.08672584, 1620.39036833, 1686.        ])"
      ]
     },
     "execution_count": 156,
     "metadata": {},
     "output_type": "execute_result"
    }
   ],
   "source": [
    "y=x*x+2*x+6\n",
    "y"
   ]
  },
  {
   "cell_type": "code",
   "execution_count": 157,
   "id": "7ee9a5b1",
   "metadata": {},
   "outputs": [
    {
     "data": {
      "text/plain": [
       "[<matplotlib.lines.Line2D at 0x257816f97f0>]"
      ]
     },
     "execution_count": 157,
     "metadata": {},
     "output_type": "execute_result"
    },
    {
     "data": {
      "image/png": "[encoded data removed]",
      "text/plain": [
       "<Figure size 640x480 with 1 Axes>"
      ]
     },
     "metadata": {},
     "output_type": "display_data"
    }
   ],
   "source": [
    "plt.plot(x,y)"
   ]
  },
  {
   "cell_type": "code",
   "execution_count": null,
   "id": "64adb87b",
   "metadata": {},
   "outputs": [],
   "source": [
    "#  broadcasting\n"
   ]
  },
  {
   "cell_type": "code",
   "execution_count": 158,
   "id": "d3f86081",
   "metadata": {},
   "outputs": [],
   "source": [
    "#  1 scenario\n",
    "\n",
    "a1=np.arange(8).reshape(2,4)\n",
    "a2=np.arange(8,16).reshape(2,4)"
   ]
  },
  {
   "cell_type": "code",
   "execution_count": 159,
   "id": "92759400",
   "metadata": {},
   "outputs": [
    {
     "name": "stdout",
     "output_type": "stream",
     "text": [
      "[[0 1 2 3]\n",
      " [4 5 6 7]]\n",
      "[[ 8  9 10 11]\n",
      " [12 13 14 15]]\n"
     ]
    }
   ],
   "source": [
    "print(a1)\n",
    "print(a2)"
   ]
  },
  {
   "cell_type": "code",
   "execution_count": 160,
   "id": "77d20026",
   "metadata": {},
   "outputs": [
    {
     "data": {
      "text/plain": [
       "array([[ 8, 10, 12, 14],\n",
       "       [16, 18, 20, 22]])"
      ]
     },
     "execution_count": 160,
     "metadata": {},
     "output_type": "execute_result"
    }
   ],
   "source": [
    "a1+a2"
   ]
  },
  {
   "cell_type": "code",
   "execution_count": null,
   "id": "e6c6990c",
   "metadata": {},
   "outputs": [],
   "source": [
    "# 2 scenario"
   ]
  },
  {
   "cell_type": "code",
   "execution_count": 165,
   "id": "3c6eee95",
   "metadata": {},
   "outputs": [],
   "source": [
    "a3=np.arange(9).reshape(3,3)\n",
    "a4=np.arange(3).reshape(1,3)"
   ]
  },
  {
   "cell_type": "code",
   "execution_count": 166,
   "id": "2bc91314",
   "metadata": {},
   "outputs": [
    {
     "name": "stdout",
     "output_type": "stream",
     "text": [
      "[[0 1 2]\n",
      " [3 4 5]\n",
      " [6 7 8]]\n",
      "[[0 1 2]]\n"
     ]
    }
   ],
   "source": [
    "print(a3)\n",
    "print(a4)"
   ]
  },
  {
   "cell_type": "code",
   "execution_count": 167,
   "id": "55febf59",
   "metadata": {},
   "outputs": [
    {
     "data": {
      "text/plain": [
       "array([[ 0,  2,  4],\n",
       "       [ 3,  5,  7],\n",
       "       [ 6,  8, 10]])"
      ]
     },
     "execution_count": 167,
     "metadata": {},
     "output_type": "execute_result"
    }
   ],
   "source": [
    "a3+a4"
   ]
  },
  {
   "cell_type": "code",
   "execution_count": null,
   "id": "bba4358b",
   "metadata": {},
   "outputs": [],
   "source": [
    "# Broadcasting --> perform such that it perform operations of data of various dimensions."
   ]
  },
  {
   "cell_type": "code",
   "execution_count": null,
   "id": "7435ffd6",
   "metadata": {},
   "outputs": [],
   "source": [
    "#  Rules for broadcasting"
   ]
  },
  {
   "cell_type": "code",
   "execution_count": 169,
   "id": "02948ecb",
   "metadata": {},
   "outputs": [],
   "source": [
    "a7=np.arange(3).reshape(1,3)\n",
    "a8=np.arange(12).reshape(4,3)\n",
    "\n",
    "\n",
    "# (,3) correspond similar"
   ]
  },
  {
   "cell_type": "code",
   "execution_count": 170,
   "id": "6bbedf82",
   "metadata": {},
   "outputs": [
    {
     "name": "stdout",
     "output_type": "stream",
     "text": [
      "[[0 1 2]]\n",
      "[[ 0  1  2]\n",
      " [ 3  4  5]\n",
      " [ 6  7  8]\n",
      " [ 9 10 11]]\n"
     ]
    }
   ],
   "source": []
  },
  {
   "cell_type": "code",
   "execution_count": 171,
   "id": "ea539369",
   "metadata": {},
   "outputs": [
    {
     "ename": "ValueError",
     "evalue": "cannot reshape array of size 9 into shape (1,3)",
     "output_type": "error",
     "traceback": [
      "\u001b[1;31m---------------------------------------------------------------------------\u001b[0m",
      "\u001b[1;31mValueError\u001b[0m                                Traceback (most recent call last)",
      "\u001b[1;32m~\\AppData\\Local\\Temp\\ipykernel_17144\\559649776.py\u001b[0m in \u001b[0;36m<module>\u001b[1;34m\u001b[0m\n\u001b[1;32m----> 1\u001b[1;33m \u001b[0ma5\u001b[0m\u001b[1;33m=\u001b[0m\u001b[0mnp\u001b[0m\u001b[1;33m.\u001b[0m\u001b[0marange\u001b[0m\u001b[1;33m(\u001b[0m\u001b[1;36m9\u001b[0m\u001b[1;33m)\u001b[0m\u001b[1;33m.\u001b[0m\u001b[0mreshape\u001b[0m\u001b[1;33m(\u001b[0m\u001b[1;36m1\u001b[0m\u001b[1;33m,\u001b[0m\u001b[1;36m3\u001b[0m\u001b[1;33m)\u001b[0m\u001b[1;33m\u001b[0m\u001b[1;33m\u001b[0m\u001b[0m\n\u001b[0m\u001b[0;32m      2\u001b[0m \u001b[0ma6\u001b[0m\u001b[1;33m=\u001b[0m\u001b[0mnp\u001b[0m\u001b[1;33m.\u001b[0m\u001b[0marange\u001b[0m\u001b[1;33m(\u001b[0m\u001b[1;36m3\u001b[0m\u001b[1;33m)\u001b[0m\u001b[1;33m.\u001b[0m\u001b[0mreshape\u001b[0m\u001b[1;33m(\u001b[0m\u001b[1;36m4\u001b[0m\u001b[1;33m,\u001b[0m\u001b[1;36m4\u001b[0m\u001b[1;33m)\u001b[0m\u001b[1;33m\u001b[0m\u001b[1;33m\u001b[0m\u001b[0m\n",
      "\u001b[1;31mValueError\u001b[0m: cannot reshape array of size 9 into shape (1,3)"
     ]
    }
   ],
   "source": [
    "a5=np.arange(9).reshape(1,3)\n",
    "a6=np.arange(3).reshape(4,4)\n",
    "\n",
    "# (,3-4) dissimilar"
   ]
  },
  {
   "cell_type": "code",
   "execution_count": 172,
   "id": "869205b2",
   "metadata": {},
   "outputs": [],
   "source": [
    "# if x=1 and y=1, then the operation will take place no matter what\n",
    "a1=np.arange(1).reshape(1,1)\n",
    "a2=np.arange(20).reshape(4,5)"
   ]
  },
  {
   "cell_type": "code",
   "execution_count": 174,
   "id": "8a42dfc1",
   "metadata": {},
   "outputs": [
    {
     "name": "stdout",
     "output_type": "stream",
     "text": [
      "[[ 0  1  2  3  4]\n",
      " [ 5  6  7  8  9]\n",
      " [10 11 12 13 14]\n",
      " [15 16 17 18 19]]\n"
     ]
    }
   ],
   "source": [
    "print(a1+a2)"
   ]
  },
  {
   "cell_type": "code",
   "execution_count": 175,
   "id": "8e3825e6",
   "metadata": {},
   "outputs": [],
   "source": [
    "#  if they are of different dimensions\n",
    "a4=np.arange(4)\n",
    "a5=np.arange(20).reshape(5,4)"
   ]
  },
  {
   "cell_type": "code",
   "execution_count": 176,
   "id": "c28211a5",
   "metadata": {},
   "outputs": [
    {
     "name": "stdout",
     "output_type": "stream",
     "text": [
      "[0 1 2 3]\n"
     ]
    }
   ],
   "source": [
    "print(a4)"
   ]
  },
  {
   "cell_type": "code",
   "execution_count": 177,
   "id": "90598396",
   "metadata": {},
   "outputs": [
    {
     "name": "stdout",
     "output_type": "stream",
     "text": [
      "[[ 0  1  2  3]\n",
      " [ 4  5  6  7]\n",
      " [ 8  9 10 11]\n",
      " [12 13 14 15]\n",
      " [16 17 18 19]]\n"
     ]
    }
   ],
   "source": [
    "print(a5)"
   ]
  },
  {
   "cell_type": "code",
   "execution_count": null,
   "id": "74415803",
   "metadata": {},
   "outputs": [],
   "source": [
    "# Numpy functions\n"
   ]
  },
  {
   "cell_type": "code",
   "execution_count": 178,
   "id": "0a4a11a8",
   "metadata": {},
   "outputs": [],
   "source": [
    "import numpy as np"
   ]
  },
  {
   "cell_type": "code",
   "execution_count": 180,
   "id": "fb2e4642",
   "metadata": {},
   "outputs": [
    {
     "data": {
      "text/plain": [
       "0.3347728864971684"
      ]
     },
     "execution_count": 180,
     "metadata": {},
     "output_type": "execute_result"
    }
   ],
   "source": [
    "np.random.random()     # everytime we run we will get different values."
   ]
  },
  {
   "cell_type": "code",
   "execution_count": 184,
   "id": "0e8d72ba",
   "metadata": {},
   "outputs": [
    {
     "data": {
      "text/plain": [
       "0.15416284237967237"
      ]
     },
     "execution_count": 184,
     "metadata": {},
     "output_type": "execute_result"
    }
   ],
   "source": [
    "np.random.seed(12)       # function for getting same value again and again.\n",
    "np.random.random()"
   ]
  },
  {
   "cell_type": "code",
   "execution_count": 188,
   "id": "2a17cd6c",
   "metadata": {},
   "outputs": [
    {
     "data": {
      "text/plain": [
       "6.384621436114869"
      ]
     },
     "execution_count": 188,
     "metadata": {},
     "output_type": "execute_result"
    }
   ],
   "source": [
    "np.random.uniform(5,100)    "
   ]
  },
  {
   "cell_type": "code",
   "execution_count": 191,
   "id": "49120f53",
   "metadata": {},
   "outputs": [
    {
     "data": {
      "text/plain": [
       "array([[67.47381188, 47.65174805],\n",
       "       [81.80066151, 29.66909157],\n",
       "       [73.57947178, 70.55961317],\n",
       "       [33.42937815, 34.13010538],\n",
       "       [97.82774982, 62.83362906]])"
      ]
     },
     "execution_count": 191,
     "metadata": {},
     "output_type": "execute_result"
    }
   ],
   "source": [
    "np.random.uniform(1,100,10).reshape(5,2)  # float values"
   ]
  },
  {
   "cell_type": "code",
   "execution_count": 198,
   "id": "07385e5d",
   "metadata": {},
   "outputs": [
    {
     "data": {
      "text/plain": [
       "array([[3, 7, 5, 8, 7],\n",
       "       [3, 4, 3, 7, 5],\n",
       "       [6, 1, 1, 6, 5]])"
      ]
     },
     "execution_count": 198,
     "metadata": {},
     "output_type": "execute_result"
    }
   ],
   "source": [
    "np.random.randint(1,10,15).reshape(3,5)              # integer value"
   ]
  },
  {
   "cell_type": "code",
   "execution_count": 200,
   "id": "a632c668",
   "metadata": {},
   "outputs": [
    {
     "data": {
      "text/plain": [
       "array([1, 4, 8, 7, 9, 7])"
      ]
     },
     "execution_count": 200,
     "metadata": {},
     "output_type": "execute_result"
    }
   ],
   "source": [
    "a=np.random.randint(1,10,6)\n",
    "a"
   ]
  },
  {
   "cell_type": "code",
   "execution_count": 201,
   "id": "a98acac9",
   "metadata": {},
   "outputs": [
    {
     "data": {
      "text/plain": [
       "9"
      ]
     },
     "execution_count": 201,
     "metadata": {},
     "output_type": "execute_result"
    }
   ],
   "source": [
    "np.max(a)                       # maximum of a particular array"
   ]
  },
  {
   "cell_type": "code",
   "execution_count": 202,
   "id": "7f85d9c4",
   "metadata": {},
   "outputs": [
    {
     "data": {
      "text/plain": [
       "1"
      ]
     },
     "execution_count": 202,
     "metadata": {},
     "output_type": "execute_result"
    }
   ],
   "source": [
    "np.min(a)                      # minimum of a particular array"
   ]
  },
  {
   "cell_type": "code",
   "execution_count": 205,
   "id": "1866285c",
   "metadata": {},
   "outputs": [
    {
     "data": {
      "text/plain": [
       "9"
      ]
     },
     "execution_count": 205,
     "metadata": {},
     "output_type": "execute_result"
    }
   ],
   "source": [
    "np.argmax(a)           # gives index of the maximum value"
   ]
  },
  {
   "cell_type": "code",
   "execution_count": 206,
   "id": "6a269144",
   "metadata": {},
   "outputs": [
    {
     "data": {
      "text/plain": [
       "9"
      ]
     },
     "execution_count": 206,
     "metadata": {},
     "output_type": "execute_result"
    }
   ],
   "source": [
    "a[np.argmax(a)]"
   ]
  },
  {
   "cell_type": "code",
   "execution_count": 207,
   "id": "3e91f394",
   "metadata": {},
   "outputs": [
    {
     "data": {
      "text/plain": [
       "1"
      ]
     },
     "execution_count": 207,
     "metadata": {},
     "output_type": "execute_result"
    }
   ],
   "source": [
    "a[np.argmin(a)]           # min value"
   ]
  },
  {
   "cell_type": "code",
   "execution_count": 209,
   "id": "55fcec7b",
   "metadata": {},
   "outputs": [
    {
     "data": {
      "text/plain": [
       "0"
      ]
     },
     "execution_count": 209,
     "metadata": {},
     "output_type": "execute_result"
    }
   ],
   "source": [
    "np.argmin(a)                  # index of minimum value"
   ]
  },
  {
   "cell_type": "code",
   "execution_count": 210,
   "id": "357d8586",
   "metadata": {},
   "outputs": [
    {
     "data": {
      "text/plain": [
       "array([2, 5, 7, 6, 3, 5])"
      ]
     },
     "execution_count": 210,
     "metadata": {},
     "output_type": "execute_result"
    }
   ],
   "source": [
    "a=np.random.randint(1,10,6)\n",
    "a"
   ]
  },
  {
   "cell_type": "code",
   "execution_count": 214,
   "id": "e718ea79",
   "metadata": {},
   "outputs": [
    {
     "data": {
      "text/plain": [
       "array([ 2, -1, -1,  6, -1, -1])"
      ]
     },
     "execution_count": 214,
     "metadata": {},
     "output_type": "execute_result"
    }
   ],
   "source": [
    "a[a%2==1]=-1\n",
    "a"
   ]
  },
  {
   "cell_type": "code",
   "execution_count": 217,
   "id": "c09611bc",
   "metadata": {},
   "outputs": [
    {
     "data": {
      "text/plain": [
       "array([27,  9, 23, 42, 15,  5])"
      ]
     },
     "execution_count": 217,
     "metadata": {},
     "output_type": "execute_result"
    }
   ],
   "source": [
    "a=np.random.randint(1,50,6)\n",
    "a"
   ]
  },
  {
   "cell_type": "code",
   "execution_count": 218,
   "id": "9210edd0",
   "metadata": {},
   "outputs": [
    {
     "data": {
      "text/plain": [
       "array([-1, -1, -1, 42, -1, -1])"
      ]
     },
     "execution_count": 218,
     "metadata": {},
     "output_type": "execute_result"
    }
   ],
   "source": [
    "np.where(a%2==1,-1,a)           # if odd then replaced with 1"
   ]
  },
  {
   "cell_type": "code",
   "execution_count": 219,
   "id": "789b026f",
   "metadata": {},
   "outputs": [
    {
     "data": {
      "text/plain": [
       "array([-1, -1, -1, 42, -1, -1])"
      ]
     },
     "execution_count": 219,
     "metadata": {},
     "output_type": "execute_result"
    }
   ],
   "source": [
    "out=np.where(a%2==1,-1,a)\n",
    "out"
   ]
  },
  {
   "cell_type": "code",
   "execution_count": 220,
   "id": "250fe4bf",
   "metadata": {},
   "outputs": [
    {
     "data": {
      "text/plain": [
       "array([26, 16,  5, 34, 29, 21, 18, 27, 44,  5])"
      ]
     },
     "execution_count": 220,
     "metadata": {},
     "output_type": "execute_result"
    }
   ],
   "source": [
    "a=np.random.randint(1,50,10)\n",
    "a"
   ]
  },
  {
   "cell_type": "code",
   "execution_count": 221,
   "id": "a0d28800",
   "metadata": {},
   "outputs": [],
   "source": [
    "a=np.sort(a)"
   ]
  },
  {
   "cell_type": "code",
   "execution_count": 222,
   "id": "b9d42327",
   "metadata": {},
   "outputs": [
    {
     "data": {
      "text/plain": [
       "array([ 5,  5, 16, 18, 21, 26, 27, 29, 34, 44])"
      ]
     },
     "execution_count": 222,
     "metadata": {},
     "output_type": "execute_result"
    }
   ],
   "source": [
    "a"
   ]
  },
  {
   "cell_type": "code",
   "execution_count": 224,
   "id": "d1c04e8c",
   "metadata": {},
   "outputs": [
    {
     "data": {
      "text/plain": [
       "16.5"
      ]
     },
     "execution_count": 224,
     "metadata": {},
     "output_type": "execute_result"
    }
   ],
   "source": [
    "#  percentile function\n",
    "np.percentile(a,25)"
   ]
  },
  {
   "cell_type": "code",
   "execution_count": 225,
   "id": "175a0f26",
   "metadata": {},
   "outputs": [
    {
     "data": {
      "text/plain": [
       "28.5"
      ]
     },
     "execution_count": 225,
     "metadata": {},
     "output_type": "execute_result"
    }
   ],
   "source": [
    "np.percentile(a,75)"
   ]
  },
  {
   "cell_type": "code",
   "execution_count": 226,
   "id": "9d2a164a",
   "metadata": {},
   "outputs": [
    {
     "data": {
      "text/plain": [
       "23.5"
      ]
     },
     "execution_count": 226,
     "metadata": {},
     "output_type": "execute_result"
    }
   ],
   "source": [
    "np.percentile(a,50)"
   ]
  },
  {
   "cell_type": "code",
   "execution_count": 227,
   "id": "7c9494e1",
   "metadata": {},
   "outputs": [
    {
     "data": {
      "text/plain": [
       "43.81999999999999"
      ]
     },
     "execution_count": 227,
     "metadata": {},
     "output_type": "execute_result"
    }
   ],
   "source": [
    "np.percentile(a,99.8)"
   ]
  },
  {
   "cell_type": "code",
   "execution_count": null,
   "id": "c34cb757",
   "metadata": {},
   "outputs": [],
   "source": []
  },
  {
   "cell_type": "code",
   "execution_count": null,
   "id": "849d815c",
   "metadata": {},
   "outputs": [],
   "source": []
  },
  {
   "cell_type": "code",
   "execution_count": null,
   "id": "c0d3cf2d",
   "metadata": {},
   "outputs": [],
   "source": []
  },
  {
   "cell_type": "code",
   "execution_count": null,
   "id": "28b3658c",
   "metadata": {},
   "outputs": [],
   "source": []
  },
  {
   "cell_type": "code",
   "execution_count": null,
   "id": "7999f9fa",
   "metadata": {},
   "outputs": [],
   "source": []
  },
  {
   "cell_type": "code",
   "execution_count": null,
   "id": "f6d214e2",
   "metadata": {},
   "outputs": [],
   "source": []
  },
  {
   "cell_type": "code",
   "execution_count": null,
   "id": "7d7a4102",
   "metadata": {},
   "outputs": [],
   "source": []
  },
  {
   "cell_type": "code",
   "execution_count": null,
   "id": "1638f0ca",
   "metadata": {},
   "outputs": [],
   "source": []
  }
 ],
 "metadata": {
  "kernelspec": {
   "display_name": "Python 3 (ipykernel)",
   "language": "python",
   "name": "python3"
  },
  "language_info": {
   "codemirror_mode": {
    "name": "ipython",
    "version": 3
   },
   "file_extension": ".py",
   "mimetype": "text/x-python",
   "name": "python",
   "nbconvert_exporter": "python",
   "pygments_lexer": "ipython3",
   "version": "3.9.13"
  }
 },
 "nbformat": 4,
 "nbformat_minor": 5
}
