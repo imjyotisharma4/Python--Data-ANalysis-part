{
 "cells": [
  {
   "cell_type": "code",
   "execution_count": null,
   "id": "9a30ad08",
   "metadata": {},
   "outputs": [],
   "source": [
    "# r: read operation\n",
    "# w: write operation\n",
    "# a: append operation\n",
    "# r+ : read and write the previous data will not be deleted\n",
    "# w+ : To write and read. Overrite. Previous data will be deleted.\n",
    "# a+ : append and read the data .Not overrite"
   ]
  },
  {
   "cell_type": "code",
   "execution_count": 5,
   "id": "4e39e18d",
   "metadata": {},
   "outputs": [],
   "source": [
    "# open() : to open the file\n",
    "\n",
    "file=open(\"C:\\\\Users\\\\hp\\\\Datasets\\\\abc.txt\")"
   ]
  },
  {
   "cell_type": "code",
   "execution_count": 6,
   "id": "2f08c644",
   "metadata": {},
   "outputs": [
    {
     "data": {
      "text/plain": [
       "<_io.TextIOWrapper name='C:\\\\Users\\\\hp\\\\Datasets\\\\abc.txt' mode='r' encoding='cp1252'>"
      ]
     },
     "execution_count": 6,
     "metadata": {},
     "output_type": "execute_result"
    }
   ],
   "source": [
    "file"
   ]
  },
  {
   "cell_type": "code",
   "execution_count": 7,
   "id": "ea3f7a08",
   "metadata": {},
   "outputs": [
    {
     "data": {
      "text/plain": [
       "'bhjhkjljljmljasckjshcjkJ\\nBankCreditCard\\nBankCreditCard'"
      ]
     },
     "execution_count": 7,
     "metadata": {},
     "output_type": "execute_result"
    }
   ],
   "source": [
    "# read() -- to read the file\n",
    "\n",
    "file.read()"
   ]
  },
  {
   "cell_type": "code",
   "execution_count": 12,
   "id": "398672d1",
   "metadata": {},
   "outputs": [
    {
     "data": {
      "text/plain": [
       "'bhjhkjljljmljasckjshcjkJ\\n'"
      ]
     },
     "execution_count": 12,
     "metadata": {},
     "output_type": "execute_result"
    }
   ],
   "source": [
    "# readline() -- to read the file line by line\n",
    "\n",
    "file=open(\"C:\\\\Users\\\\hp\\\\Datasets\\\\abc.txt\")             #need to give file name\n",
    "\n",
    "# double \\\\ backward slash or single forward slash/\n",
    "file.readline() "
   ]
  },
  {
   "cell_type": "code",
   "execution_count": 9,
   "id": "963b7e75",
   "metadata": {},
   "outputs": [
    {
     "data": {
      "text/plain": [
       "'BankCreditCard\\n'"
      ]
     },
     "execution_count": 9,
     "metadata": {},
     "output_type": "execute_result"
    }
   ],
   "source": [
    "# if we run again..cursor will move to second line\n",
    "\n",
    "file.readline()"
   ]
  },
  {
   "cell_type": "code",
   "execution_count": 13,
   "id": "ba251b89",
   "metadata": {},
   "outputs": [
    {
     "data": {
      "text/plain": [
       "'BankCreditCard\\nBankC'"
      ]
     },
     "execution_count": 13,
     "metadata": {},
     "output_type": "execute_result"
    }
   ],
   "source": [
    "file.read(20)"
   ]
  },
  {
   "cell_type": "code",
   "execution_count": 17,
   "id": "513a454d",
   "metadata": {},
   "outputs": [
    {
     "data": {
      "text/plain": [
       "'bhjhkjljljmljasckjsh'"
      ]
     },
     "execution_count": 17,
     "metadata": {},
     "output_type": "execute_result"
    }
   ],
   "source": [
    "file=open(\"C:\\\\Users\\\\hp\\\\Datasets\\\\abc.txt\",'r')          #read mode ,'r'  \n",
    "file.read(20)"
   ]
  },
  {
   "cell_type": "code",
   "execution_count": 2,
   "id": "3d531eca",
   "metadata": {},
   "outputs": [],
   "source": [
    "file=open(\"C:\\\\Users\\\\hp\\\\Datasets\\\\abc.txt\",'w')       #write mode,'w'-- it overrites..deletees the previous and write new data"
   ]
  },
  {
   "cell_type": "code",
   "execution_count": 3,
   "id": "1b1e126b",
   "metadata": {},
   "outputs": [
    {
     "data": {
      "text/plain": [
       "44"
      ]
     },
     "execution_count": 3,
     "metadata": {},
     "output_type": "execute_result"
    }
   ],
   "source": [
    "# write() -- to write into file. It ovverrites if opened in write mode.\n",
    "file.write(\"I am writing new file in my old file\")\n",
    "file.write(\"This is further to above line\")\n",
    "file.write(\"I am adding one more line in my current file\")  #shows the no of characters in last line."
   ]
  },
  {
   "cell_type": "code",
   "execution_count": 4,
   "id": "344de3bf",
   "metadata": {},
   "outputs": [],
   "source": [
    "# close() -- To close the file\n",
    "file.close()"
   ]
  },
  {
   "cell_type": "code",
   "execution_count": 6,
   "id": "4956f2a8",
   "metadata": {},
   "outputs": [
    {
     "data": {
      "text/plain": [
       "'I am writing new file in my old fileThis is further to above lineI am adding one more line in my current file'"
      ]
     },
     "execution_count": 6,
     "metadata": {},
     "output_type": "execute_result"
    }
   ],
   "source": [
    "file=open(\"C:\\\\Users\\\\hp\\\\Datasets\\\\abc.txt\",'r')              \n",
    "file.read()               \n"
   ]
  },
  {
   "cell_type": "code",
   "execution_count": 15,
   "id": "1624f49b",
   "metadata": {},
   "outputs": [],
   "source": [
    "file=open(\"C:\\\\Users\\\\hp\\\\Datasets\\\\abc.txt\",'a')           #adds new lines with previous lines."
   ]
  },
  {
   "cell_type": "code",
   "execution_count": 16,
   "id": "323bd45c",
   "metadata": {},
   "outputs": [
    {
     "data": {
      "text/plain": [
       "16"
      ]
     },
     "execution_count": 16,
     "metadata": {},
     "output_type": "execute_result"
    }
   ],
   "source": [
    "file.write(\"I am writing new file in my old file \\n\")            #'\\n' for next line.\n",
    "file.write(\"One more line is added \\n\")\n",
    "file.write(\"New line added \\n\")\n",
    "# 16...........shows the number of characters in last line."
   ]
  },
  {
   "cell_type": "code",
   "execution_count": 17,
   "id": "237337b1",
   "metadata": {},
   "outputs": [],
   "source": [
    "file.close()"
   ]
  },
  {
   "cell_type": "code",
   "execution_count": 1,
   "id": "d70e3162",
   "metadata": {},
   "outputs": [
    {
     "data": {
      "text/plain": [
       "''"
      ]
     },
     "execution_count": 1,
     "metadata": {},
     "output_type": "execute_result"
    }
   ],
   "source": [
    "file=open(\"C:\\\\Users\\\\hp\\\\Datasets\\\\abc.txt\",'r+')         #does not overrite in 'r+' mode.\n",
    "file.read()"
   ]
  },
  {
   "cell_type": "code",
   "execution_count": 19,
   "id": "6819e46a",
   "metadata": {},
   "outputs": [
    {
     "data": {
      "text/plain": [
       "31"
      ]
     },
     "execution_count": 19,
     "metadata": {},
     "output_type": "execute_result"
    }
   ],
   "source": [
    "file.write(\"I am adding new data \\n\")\n",
    "file.write(\"I want to understand w and r+ \\n\")"
   ]
  },
  {
   "cell_type": "code",
   "execution_count": 20,
   "id": "f99ed2ae",
   "metadata": {},
   "outputs": [],
   "source": [
    "file.close()"
   ]
  },
  {
   "cell_type": "code",
   "execution_count": 29,
   "id": "14ac925e",
   "metadata": {},
   "outputs": [],
   "source": [
    "file=open(\"C:\\\\Users\\\\hp\\\\Datasets\\\\abc.txt\",'w+')         #Overrite in 'w+' mode."
   ]
  },
  {
   "cell_type": "code",
   "execution_count": 26,
   "id": "338d06d2",
   "metadata": {},
   "outputs": [
    {
     "data": {
      "text/plain": [
       "37"
      ]
     },
     "execution_count": 26,
     "metadata": {},
     "output_type": "execute_result"
    }
   ],
   "source": [
    "file.write(\"I am adding w+ \\n\")                                 \n",
    "file.write(\"I want to understand what is right. \\n\")"
   ]
  },
  {
   "cell_type": "code",
   "execution_count": 31,
   "id": "d75b567b",
   "metadata": {},
   "outputs": [
    {
     "data": {
      "text/plain": [
       "''"
      ]
     },
     "execution_count": 31,
     "metadata": {},
     "output_type": "execute_result"
    }
   ],
   "source": [
    "file.readline()       "
   ]
  },
  {
   "cell_type": "code",
   "execution_count": 28,
   "id": "4f3fe12c",
   "metadata": {},
   "outputs": [],
   "source": [
    "file.close()"
   ]
  },
  {
   "cell_type": "code",
   "execution_count": 3,
   "id": "b71fdd46",
   "metadata": {},
   "outputs": [
    {
     "name": "stdout",
     "output_type": "stream",
     "text": [
      "Enter a no45\n",
      "Enter a no7\n",
      "6.428571428571429\n"
     ]
    }
   ],
   "source": [
    "num1=int(input(\"Enter a no\"))\n",
    "num2=int(input(\"Enter a no\"))\n",
    "result=num1/num2\n",
    "print(result)"
   ]
  },
  {
   "cell_type": "code",
   "execution_count": 1,
   "id": "210aed09",
   "metadata": {},
   "outputs": [
    {
     "name": "stdout",
     "output_type": "stream",
     "text": [
      "Enter a no5\n",
      "Enter a no7\n",
      "0.7142857142857143\n"
     ]
    }
   ],
   "source": [
    "num1=int(input(\"Enter a no\"))\n",
    "num2=int(input(\"Enter a no\"))\n",
    "result=num1/num2                     #this piece of code will give error.\n",
    "print(result)\n",
    "\n",
    "# showing error on dividing by 0"
   ]
  },
  {
   "cell_type": "code",
   "execution_count": null,
   "id": "06db852b",
   "metadata": {},
   "outputs": [],
   "source": [
    "# getcwd-get current working directory\n",
    "os.getcwd()"
   ]
  },
  {
   "cell_type": "code",
   "execution_count": null,
   "id": "22866fe4",
   "metadata": {},
   "outputs": [],
   "source": [
    "file=open('newfile1.txt')"
   ]
  },
  {
   "cell_type": "code",
   "execution_count": null,
   "id": "1b17d6d7",
   "metadata": {},
   "outputs": [],
   "source": []
  },
  {
   "cell_type": "markdown",
   "id": "31f60c7b",
   "metadata": {},
   "source": [
    "# Exception handling"
   ]
  },
  {
   "cell_type": "code",
   "execution_count": 18,
   "id": "07447c9a",
   "metadata": {},
   "outputs": [
    {
     "name": "stdout",
     "output_type": "stream",
     "text": [
      "Enter a no :9\n",
      "Enter a no :0\n",
      "Cannot be divided by zero\n"
     ]
    }
   ],
   "source": [
    "# try -- We write that piece of code that will give us error.\n",
    "# except -- \n",
    "num1=int(input(\"Enter a no :\"))\n",
    "num2=int(input(\"Enter a no :\"))\n",
    "try:\n",
    "    result=num1/num2          #error will be thrown from here.Error created from here.\n",
    "    print(result)\n",
    "except ZeroDivisionError:    #error will be catch by this block.\n",
    "#Asks to ignore error and print the message instead of throwing an error.\n",
    "        print(\"Cannot be divided by zero\")"
   ]
  },
  {
   "cell_type": "code",
   "execution_count": 11,
   "id": "758b30d0",
   "metadata": {},
   "outputs": [
    {
     "name": "stdout",
     "output_type": "stream",
     "text": [
      "Enter a no :9\n",
      "Enter a no :a\n",
      "Cannot be divided\n"
     ]
    }
   ],
   "source": [
    "num1=input(\"Enter a no :\")\n",
    "num2=input(\"Enter a no :\")\n",
    "try:\n",
    "    result=int(num1)/int(num2)          #error will be thrown from here.\n",
    "    #Error created from here.Mention 'int' here.\n",
    "    print(result)\n",
    "except Exception:                  #all the exceptions included\n",
    "    print(\"Cannot be divided\")"
   ]
  },
  {
   "cell_type": "code",
   "execution_count": 14,
   "id": "aa6abf00",
   "metadata": {},
   "outputs": [
    {
     "name": "stdout",
     "output_type": "stream",
     "text": [
      "Enter a no :9\n",
      "Enter a no :b\n",
      "Cannot be divided\n"
     ]
    }
   ],
   "source": [
    "# instead of ignoring the error ,try to rectify the error. We will write the name of 'exception' in the 'except'\n",
    "# But for particularly handling the error, \n",
    "\n",
    "# we have to give name to the exception.\n",
    "# if we individually want to resolve an exception, we have to give its name.\n",
    "\n",
    "\n",
    "num1=input(\"Enter a no :\")\n",
    "num2=input(\"Enter a no :\")\n",
    "try:\n",
    "    result=int(num1)/int(num2)  #error will be thrown from here.Error created from here.Mention 'int' here.\n",
    "    print(result)\n",
    "except ValueError:                  #all the exceptions included\n",
    "    print(\"Cannot be divided\")\n",
    "    \n",
    "#     here we have mentioned the error that we wanted to resolve."
   ]
  },
  {
   "cell_type": "code",
   "execution_count": 21,
   "id": "46b5617f",
   "metadata": {},
   "outputs": [
    {
     "name": "stdout",
     "output_type": "stream",
     "text": [
      "Enter a no :70\n",
      "Enter a no :0\n",
      "Cannot be divided\n"
     ]
    }
   ],
   "source": [
    "num1=input(\"Enter a no :\")\n",
    "num2=input(\"Enter a no :\")\n",
    "try:\n",
    "    result=int(num1)/int(num2)  \n",
    "    print(result)\n",
    "except (ValueError,ZeroDivisionError):                  #in case we have two errors\n",
    "    print(\"Cannot be divided\")\n",
    "    "
   ]
  },
  {
   "cell_type": "code",
   "execution_count": 3,
   "id": "632b3cf5",
   "metadata": {},
   "outputs": [
    {
     "name": "stdout",
     "output_type": "stream",
     "text": [
      "Enter a no :9\n",
      "Enter a no :0\n",
      "Cannot be divided\n"
     ]
    }
   ],
   "source": [
    "num1=input(\"Enter a no :\")\n",
    "num2=input(\"Enter a no :\")\n",
    "try:\n",
    "    result=int(num1)/int(num2)  \n",
    "    print(result)\n",
    "except ValueError:                  #in case we have two errors\n",
    "    print(\"Cannot be divided\")\n",
    "except ZeroDivisionError:\n",
    "    print(\"Cannot be divided\")\n",
    "    "
   ]
  },
  {
   "cell_type": "code",
   "execution_count": 26,
   "id": "107a8deb",
   "metadata": {},
   "outputs": [
    {
     "name": "stdout",
     "output_type": "stream",
     "text": [
      "Enter a no :9\n",
      "Enter a no :9\n",
      "1.0\n",
      "Result obtained\n"
     ]
    }
   ],
   "source": [
    "num1=input(\"Enter a no :\")\n",
    "num2=input(\"Enter a no :\")\n",
    "try:               \n",
    "    result=int(num1)/int(num2)  \n",
    "    print(result)\n",
    "except (ValueError,ZeroDivisionError):                  #in case we have two errors\n",
    "    print(\"Cannot be divided\")\n",
    "else: \n",
    "    print(\"Result obtained\")\n",
    "                                         #else can be executed only when try will be executed successfully otherwise\n",
    "#it goes to 'else' and blocks.'else' does not works with except.\n",
    "               "
   ]
  },
  {
   "cell_type": "code",
   "execution_count": null,
   "id": "78720a79",
   "metadata": {},
   "outputs": [],
   "source": [
    "# finally - It executes after either 'try' or 'catch'."
   ]
  },
  {
   "cell_type": "code",
   "execution_count": 5,
   "id": "930864fb",
   "metadata": {},
   "outputs": [
    {
     "name": "stdout",
     "output_type": "stream",
     "text": [
      "Enter a no :9\n",
      "Enter a no :b\n",
      "Cannot be divided\n",
      "Operation Successful\n"
     ]
    }
   ],
   "source": [
    "num1=input(\"Enter a no :\")\n",
    "num2=input(\"Enter a no :\")\n",
    "try:               \n",
    "    result=int(num1)/int(num2)  \n",
    "    print(result)\n",
    "except (ValueError,ZeroDivisionError):                  \n",
    "    print(\"Cannot be divided\")\n",
    "else: \n",
    "    print(\"Result obtained\")\n",
    "finally:                                           #either 'try' or 'except', 'finally' works for both the cases.\n",
    "    print(\"Operation Successful\")\n",
    "                            "
   ]
  },
  {
   "cell_type": "code",
   "execution_count": 10,
   "id": "11029be7",
   "metadata": {},
   "outputs": [
    {
     "name": "stdout",
     "output_type": "stream",
     "text": [
      "Enter a no :9\n",
      "Enter a no :0\n",
      "Exception name: division by zero\n"
     ]
    }
   ],
   "source": [
    "# exception as 'e'\n",
    "\n",
    "num1=input(\"Enter a no :\")\n",
    "num2=input(\"Enter a no :\")\n",
    "try:               \n",
    "    result=int(num1)/int(num2)  \n",
    "    print(result)\n",
    "except Exception as e :\n",
    "    print(\"Exception name:\",e)"
   ]
  },
  {
   "cell_type": "code",
   "execution_count": null,
   "id": "f6ff7d05",
   "metadata": {},
   "outputs": [],
   "source": []
  },
  {
   "cell_type": "code",
   "execution_count": null,
   "id": "097b7bef",
   "metadata": {},
   "outputs": [],
   "source": []
  },
  {
   "cell_type": "code",
   "execution_count": null,
   "id": "a6f2b66d",
   "metadata": {},
   "outputs": [],
   "source": []
  },
  {
   "cell_type": "code",
   "execution_count": null,
   "id": "e7977901",
   "metadata": {},
   "outputs": [],
   "source": []
  },
  {
   "cell_type": "code",
   "execution_count": null,
   "id": "d05cb8f6",
   "metadata": {},
   "outputs": [],
   "source": []
  },
  {
   "cell_type": "code",
   "execution_count": null,
   "id": "1b99f4de",
   "metadata": {},
   "outputs": [],
   "source": []
  }
 ],
 "metadata": {
  "kernelspec": {
   "display_name": "Python 3 (ipykernel)",
   "language": "python",
   "name": "python3"
  },
  "language_info": {
   "codemirror_mode": {
    "name": "ipython",
    "version": 3
   },
   "file_extension": ".py",
   "mimetype": "text/x-python",
   "name": "python",
   "nbconvert_exporter": "python",
   "pygments_lexer": "ipython3",
   "version": "3.9.13"
  }
 },
 "nbformat": 4,
 "nbformat_minor": 5
}
