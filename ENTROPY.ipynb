{
 "cells": [
  {
   "cell_type": "code",
   "execution_count": 2,
   "id": "06be1665",
   "metadata": {},
   "outputs": [
    {
     "ename": "NameError",
     "evalue": "name 'summation' is not defined",
     "output_type": "error",
     "traceback": [
      "\u001b[1;31m---------------------------------------------------------------------------\u001b[0m",
      "\u001b[1;31mNameError\u001b[0m                                 Traceback (most recent call last)",
      "\u001b[1;32m~\\AppData\\Local\\Temp\\ipykernel_31820\\2974155025.py\u001b[0m in \u001b[0;36m<module>\u001b[1;34m\u001b[0m\n\u001b[1;32m----> 1\u001b[1;33m \u001b[0mEntropy\u001b[0m\u001b[1;33m=\u001b[0m\u001b[0msummation\u001b[0m\u001b[1;33m(\u001b[0m\u001b[1;33m-\u001b[0m\u001b[0mp\u001b[0m\u001b[1;33m.\u001b[0m\u001b[0mlog2\u001b[0m\u001b[1;33m(\u001b[0m\u001b[0mp\u001b[0m\u001b[1;33m)\u001b[0m\u001b[1;33m-\u001b[0m\u001b[1;33m(\u001b[0m\u001b[1;36m1\u001b[0m\u001b[1;33m-\u001b[0m\u001b[0mp\u001b[0m\u001b[1;33m)\u001b[0m\u001b[1;33m.\u001b[0m\u001b[0mlog2\u001b[0m\u001b[1;33m(\u001b[0m\u001b[1;36m1\u001b[0m\u001b[1;33m-\u001b[0m\u001b[0mp\u001b[0m\u001b[1;33m)\u001b[0m\u001b[1;33m)\u001b[0m\u001b[1;33m\u001b[0m\u001b[1;33m\u001b[0m\u001b[0m\n\u001b[0m",
      "\u001b[1;31mNameError\u001b[0m: name 'summation' is not defined"
     ]
    }
   ],
   "source": [
    "Entropy=summation(-p.log2(p)-(1-p).log2(1-p))"
   ]
  },
  {
   "cell_type": "code",
   "execution_count": null,
   "id": "18414f62",
   "metadata": {},
   "outputs": [],
   "source": [
    "y=9\n",
    "n=5\n",
    "t=14"
   ]
  },
  {
   "cell_type": "code",
   "execution_count": 1,
   "id": "ce6fcf56",
   "metadata": {},
   "outputs": [
    {
     "data": {
      "text/plain": [
       "0.6428571428571429"
      ]
     },
     "execution_count": 1,
     "metadata": {},
     "output_type": "execute_result"
    }
   ],
   "source": [
    "# p(y)-- proportion of 'y'\n",
    "p=9/14\n",
    "p"
   ]
  },
  {
   "cell_type": "code",
   "execution_count": 2,
   "id": "0ebc20f1",
   "metadata": {},
   "outputs": [],
   "source": [
    "import math as m"
   ]
  },
  {
   "cell_type": "code",
   "execution_count": 4,
   "id": "3552253f",
   "metadata": {},
   "outputs": [
    {
     "data": {
      "text/plain": [
       "-0.6374299206152917"
      ]
     },
     "execution_count": 4,
     "metadata": {},
     "output_type": "execute_result"
    }
   ],
   "source": [
    "m.log2(p)"
   ]
  },
  {
   "cell_type": "code",
   "execution_count": 5,
   "id": "73bb4e09",
   "metadata": {},
   "outputs": [
    {
     "data": {
      "text/plain": [
       "0.3571428571428571"
      ]
     },
     "execution_count": 5,
     "metadata": {},
     "output_type": "execute_result"
    }
   ],
   "source": [
    "1-p"
   ]
  },
  {
   "cell_type": "code",
   "execution_count": 6,
   "id": "664932ec",
   "metadata": {},
   "outputs": [
    {
     "data": {
      "text/plain": [
       "-1.485426827170242"
      ]
     },
     "execution_count": 6,
     "metadata": {},
     "output_type": "execute_result"
    }
   ],
   "source": [
    "m.log2(1-p)"
   ]
  },
  {
   "cell_type": "code",
   "execution_count": 7,
   "id": "42ad7214",
   "metadata": {},
   "outputs": [
    {
     "data": {
      "text/plain": [
       "0.9212"
      ]
     },
     "execution_count": 7,
     "metadata": {},
     "output_type": "execute_result"
    }
   ],
   "source": [
    "(-(0.64)*(-0.63))-((0.35)*(-1.48))            #Value of entropy---impure case...closer to 1."
   ]
  },
  {
   "cell_type": "code",
   "execution_count": null,
   "id": "38109103",
   "metadata": {},
   "outputs": [],
   "source": []
  },
  {
   "cell_type": "code",
   "execution_count": null,
   "id": "7f22686d",
   "metadata": {},
   "outputs": [],
   "source": [
    "y=5\n",
    "n=5"
   ]
  },
  {
   "cell_type": "code",
   "execution_count": 8,
   "id": "5a0485fa",
   "metadata": {},
   "outputs": [
    {
     "data": {
      "text/plain": [
       "0.5"
      ]
     },
     "execution_count": 8,
     "metadata": {},
     "output_type": "execute_result"
    }
   ],
   "source": [
    "p=5/10\n",
    "p"
   ]
  },
  {
   "cell_type": "code",
   "execution_count": 9,
   "id": "72caf6eb",
   "metadata": {},
   "outputs": [
    {
     "data": {
      "text/plain": [
       "0.5"
      ]
     },
     "execution_count": 9,
     "metadata": {},
     "output_type": "execute_result"
    }
   ],
   "source": [
    "1-p"
   ]
  },
  {
   "cell_type": "code",
   "execution_count": 11,
   "id": "a95acd43",
   "metadata": {},
   "outputs": [
    {
     "data": {
      "text/plain": [
       "-1.0"
      ]
     },
     "execution_count": 11,
     "metadata": {},
     "output_type": "execute_result"
    }
   ],
   "source": [
    "m.log2(p)"
   ]
  },
  {
   "cell_type": "code",
   "execution_count": 12,
   "id": "0d54cfa5",
   "metadata": {},
   "outputs": [
    {
     "data": {
      "text/plain": [
       "-1.0"
      ]
     },
     "execution_count": 12,
     "metadata": {},
     "output_type": "execute_result"
    }
   ],
   "source": [
    "m.log2(1-p)"
   ]
  },
  {
   "cell_type": "code",
   "execution_count": 14,
   "id": "e21a5d7c",
   "metadata": {},
   "outputs": [
    {
     "data": {
      "text/plain": [
       "1.0"
      ]
     },
     "execution_count": 14,
     "metadata": {},
     "output_type": "execute_result"
    }
   ],
   "source": [
    "(-(0.5)*(-1.0))-(0.5*(-1.0))                                #entropy"
   ]
  },
  {
   "cell_type": "code",
   "execution_count": null,
   "id": "5cd62373",
   "metadata": {},
   "outputs": [],
   "source": []
  },
  {
   "cell_type": "code",
   "execution_count": 23,
   "id": "3ffa6038",
   "metadata": {},
   "outputs": [],
   "source": [
    "y=10\n",
    "n=0"
   ]
  },
  {
   "cell_type": "code",
   "execution_count": 24,
   "id": "aa5877a6",
   "metadata": {},
   "outputs": [
    {
     "data": {
      "text/plain": [
       "1.0"
      ]
     },
     "execution_count": 24,
     "metadata": {},
     "output_type": "execute_result"
    }
   ],
   "source": [
    "p=10/10\n",
    "p"
   ]
  },
  {
   "cell_type": "code",
   "execution_count": 25,
   "id": "957e58af",
   "metadata": {},
   "outputs": [
    {
     "data": {
      "text/plain": [
       "0.0"
      ]
     },
     "execution_count": 25,
     "metadata": {},
     "output_type": "execute_result"
    }
   ],
   "source": [
    "1-p"
   ]
  },
  {
   "cell_type": "code",
   "execution_count": 26,
   "id": "44237c5f",
   "metadata": {},
   "outputs": [
    {
     "data": {
      "text/plain": [
       "0.0"
      ]
     },
     "execution_count": 26,
     "metadata": {},
     "output_type": "execute_result"
    }
   ],
   "source": [
    "m.log2(p)                     #entropy...closer to 0...pure case"
   ]
  },
  {
   "cell_type": "code",
   "execution_count": null,
   "id": "2f23082c",
   "metadata": {},
   "outputs": [],
   "source": [
    "y=3\n",
    "n=2\n",
    "total=5\n"
   ]
  },
  {
   "cell_type": "code",
   "execution_count": 15,
   "id": "16f07fe4",
   "metadata": {},
   "outputs": [
    {
     "data": {
      "text/plain": [
       "0.3571428571428571"
      ]
     },
     "execution_count": 15,
     "metadata": {},
     "output_type": "execute_result"
    }
   ],
   "source": [
    "p=9/14\n",
    "1-p"
   ]
  },
  {
   "cell_type": "code",
   "execution_count": 23,
   "id": "ce3c8195",
   "metadata": {},
   "outputs": [],
   "source": [
    "import math as m"
   ]
  },
  {
   "cell_type": "code",
   "execution_count": 18,
   "id": "73ae80a2",
   "metadata": {},
   "outputs": [
    {
     "data": {
      "text/plain": [
       "-0.6374299206152917"
      ]
     },
     "execution_count": 18,
     "metadata": {},
     "output_type": "execute_result"
    }
   ],
   "source": [
    "m.log2(p)"
   ]
  },
  {
   "cell_type": "code",
   "execution_count": 13,
   "id": "a002e243",
   "metadata": {},
   "outputs": [
    {
     "data": {
      "text/plain": [
       "-1.485426827170242"
      ]
     },
     "execution_count": 13,
     "metadata": {},
     "output_type": "execute_result"
    }
   ],
   "source": [
    "m.log2(1-p)"
   ]
  },
  {
   "cell_type": "code",
   "execution_count": 44,
   "id": "f7f93c53",
   "metadata": {},
   "outputs": [
    {
     "data": {
      "text/plain": [
       "0.923"
      ]
     },
     "execution_count": 44,
     "metadata": {},
     "output_type": "execute_result"
    }
   ],
   "source": [
    "(-(9/14)*(-0.63)-(0.35)*(-1.48))                         #dep var"
   ]
  },
  {
   "cell_type": "code",
   "execution_count": 28,
   "id": "4e104bdc",
   "metadata": {},
   "outputs": [
    {
     "data": {
      "text/plain": [
       "0.6428571428571428"
      ]
     },
     "execution_count": 28,
     "metadata": {},
     "output_type": "execute_result"
    }
   ],
   "source": [
    "p=5/14\n",
    "1-p"
   ]
  },
  {
   "cell_type": "code",
   "execution_count": 29,
   "id": "6907423a",
   "metadata": {},
   "outputs": [
    {
     "data": {
      "text/plain": [
       "-1.4854268271702418"
      ]
     },
     "execution_count": 29,
     "metadata": {},
     "output_type": "execute_result"
    }
   ],
   "source": [
    "m.log2(p)"
   ]
  },
  {
   "cell_type": "code",
   "execution_count": 30,
   "id": "a39faf8d",
   "metadata": {},
   "outputs": [
    {
     "data": {
      "text/plain": [
       "-0.6374299206152919"
      ]
     },
     "execution_count": 30,
     "metadata": {},
     "output_type": "execute_result"
    }
   ],
   "source": [
    "m.log2(1-p)"
   ]
  },
  {
   "cell_type": "code",
   "execution_count": 32,
   "id": "79f18e79",
   "metadata": {},
   "outputs": [
    {
     "data": {
      "text/plain": [
       "0.9317714285714286"
      ]
     },
     "execution_count": 32,
     "metadata": {},
     "output_type": "execute_result"
    }
   ],
   "source": [
    "(-(5/14)*(-1.48)-(0.64)*(-0.63))                      #rainy"
   ]
  },
  {
   "cell_type": "code",
   "execution_count": 33,
   "id": "d807c434",
   "metadata": {},
   "outputs": [
    {
     "data": {
      "text/plain": [
       "0.7142857142857143"
      ]
     },
     "execution_count": 33,
     "metadata": {},
     "output_type": "execute_result"
    }
   ],
   "source": [
    "p=4/14\n",
    "1-p"
   ]
  },
  {
   "cell_type": "code",
   "execution_count": 35,
   "id": "41489484",
   "metadata": {},
   "outputs": [
    {
     "data": {
      "text/plain": [
       "-1.8073549220576042"
      ]
     },
     "execution_count": 35,
     "metadata": {},
     "output_type": "execute_result"
    }
   ],
   "source": [
    "m.log2(p)"
   ]
  },
  {
   "cell_type": "code",
   "execution_count": 36,
   "id": "73d14354",
   "metadata": {},
   "outputs": [
    {
     "data": {
      "text/plain": [
       "-0.4854268271702417"
      ]
     },
     "execution_count": 36,
     "metadata": {},
     "output_type": "execute_result"
    }
   ],
   "source": [
    "m.log2(1-p)"
   ]
  },
  {
   "cell_type": "code",
   "execution_count": 37,
   "id": "cafba045",
   "metadata": {},
   "outputs": [
    {
     "data": {
      "text/plain": [
       "0.8550857142857142"
      ]
     },
     "execution_count": 37,
     "metadata": {},
     "output_type": "execute_result"
    }
   ],
   "source": [
    "(-(4/14)*(-1.80)-(0.71)*(-0.48))                 #overcast"
   ]
  },
  {
   "cell_type": "code",
   "execution_count": 39,
   "id": "c4eab272",
   "metadata": {},
   "outputs": [
    {
     "data": {
      "text/plain": [
       "0.6428571428571428"
      ]
     },
     "execution_count": 39,
     "metadata": {},
     "output_type": "execute_result"
    }
   ],
   "source": [
    "p=5/14\n",
    "1-p"
   ]
  },
  {
   "cell_type": "code",
   "execution_count": 40,
   "id": "450269a8",
   "metadata": {},
   "outputs": [
    {
     "data": {
      "text/plain": [
       "-1.4854268271702418"
      ]
     },
     "execution_count": 40,
     "metadata": {},
     "output_type": "execute_result"
    }
   ],
   "source": [
    "m.log2(p)"
   ]
  },
  {
   "cell_type": "code",
   "execution_count": 41,
   "id": "8e70c791",
   "metadata": {},
   "outputs": [
    {
     "data": {
      "text/plain": [
       "-0.6374299206152919"
      ]
     },
     "execution_count": 41,
     "metadata": {},
     "output_type": "execute_result"
    }
   ],
   "source": [
    "m.log2(1-p)"
   ]
  },
  {
   "cell_type": "code",
   "execution_count": 43,
   "id": "c8cb04c3",
   "metadata": {},
   "outputs": [
    {
     "data": {
      "text/plain": [
       "0.9317714285714286"
      ]
     },
     "execution_count": 43,
     "metadata": {},
     "output_type": "execute_result"
    }
   ],
   "source": [
    "(-(5/14)*(-1.48)-(0.64)*(-0.63))                 #sunny"
   ]
  },
  {
   "cell_type": "code",
   "execution_count": 53,
   "id": "3f05faae",
   "metadata": {},
   "outputs": [
    {
     "ename": "SyntaxError",
     "evalue": "invalid syntax (1791985892.py, line 3)",
     "output_type": "error",
     "traceback": [
      "\u001b[1;36m  File \u001b[1;32m\"C:\\Users\\hp\\AppData\\Local\\Temp\\ipykernel_19256\\1791985892.py\"\u001b[1;36m, line \u001b[1;32m3\u001b[0m\n\u001b[1;33m    (-(9/14)log2(9/14)-(5/14)log2(5/14))\u001b[0m\n\u001b[1;37m            ^\u001b[0m\n\u001b[1;31mSyntaxError\u001b[0m\u001b[1;31m:\u001b[0m invalid syntax\n"
     ]
    }
   ],
   "source": [
    "\n"
   ]
  },
  {
   "cell_type": "code",
   "execution_count": 54,
   "id": "872104db",
   "metadata": {},
   "outputs": [
    {
     "data": {
      "text/plain": [
       "-0.4418327522790392"
      ]
     },
     "execution_count": 54,
     "metadata": {},
     "output_type": "execute_result"
    }
   ],
   "source": [
    "m.log(9/14)"
   ]
  },
  {
   "cell_type": "code",
   "execution_count": 55,
   "id": "52345b8a",
   "metadata": {},
   "outputs": [
    {
     "data": {
      "text/plain": [
       "4.0216"
      ]
     },
     "execution_count": 55,
     "metadata": {},
     "output_type": "execute_result"
    }
   ],
   "source": [
    "(9.14)*(-0.44)                  #(-(9/14)log2(9/14)"
   ]
  },
  {
   "cell_type": "code",
   "execution_count": 56,
   "id": "1ab6a183",
   "metadata": {},
   "outputs": [
    {
     "data": {
      "text/plain": [
       "-1.4854268271702418"
      ]
     },
     "execution_count": 56,
     "metadata": {},
     "output_type": "execute_result"
    }
   ],
   "source": [
    "m.log2(5/14)"
   ]
  },
  {
   "cell_type": "code",
   "execution_count": 57,
   "id": "95059efe",
   "metadata": {},
   "outputs": [
    {
     "data": {
      "text/plain": [
       "-0.5285714285714286"
      ]
     },
     "execution_count": 57,
     "metadata": {},
     "output_type": "execute_result"
    }
   ],
   "source": [
    "(5/14)*(-1.48)                               #-(5/14)log2(5/14))"
   ]
  },
  {
   "cell_type": "code",
   "execution_count": null,
   "id": "2df47bed",
   "metadata": {},
   "outputs": [],
   "source": [
    "# Dependent variable\n",
    "\n"
   ]
  },
  {
   "cell_type": "code",
   "execution_count": 58,
   "id": "889d16e3",
   "metadata": {},
   "outputs": [
    {
     "data": {
      "text/plain": [
       "4.550171428571429"
      ]
     },
     "execution_count": 58,
     "metadata": {},
     "output_type": "execute_result"
    }
   ],
   "source": [
    "(-((9.14)*(-0.44))-(5/14)*(-1.48))"
   ]
  },
  {
   "cell_type": "code",
   "execution_count": 46,
   "id": "6c0ae3e1",
   "metadata": {},
   "outputs": [
    {
     "data": {
      "text/plain": [
       "0.9071428571428571"
      ]
     },
     "execution_count": 46,
     "metadata": {},
     "output_type": "execute_result"
    }
   ],
   "source": [
    "# overall entropy -- Independentvar\n",
    "(5/14)*(0.93)+(4/14)*(0.85)+(5/14)*(0.93)"
   ]
  },
  {
   "cell_type": "code",
   "execution_count": 59,
   "id": "d7be5a5f",
   "metadata": {},
   "outputs": [
    {
     "data": {
      "text/plain": [
       "3.65"
      ]
     },
     "execution_count": 59,
     "metadata": {},
     "output_type": "execute_result"
    }
   ],
   "source": [
    "# information gain\n",
    "# dep var - Ind var\n",
    "# E(T)-E(t,outlook)\n",
    "\n",
    "4.55-0.90"
   ]
  },
  {
   "cell_type": "code",
   "execution_count": null,
   "id": "a5b078c4",
   "metadata": {},
   "outputs": [],
   "source": [
    "# temperature-------Entropy=summation(-p.log2(p)-(1-p).log2(1-p))"
   ]
  },
  {
   "cell_type": "code",
   "execution_count": 68,
   "id": "d52ccf9e",
   "metadata": {},
   "outputs": [
    {
     "data": {
      "text/plain": [
       "0.7142857142857143"
      ]
     },
     "execution_count": 68,
     "metadata": {},
     "output_type": "execute_result"
    }
   ],
   "source": [
    "p=4/14\n",
    "(1-p)"
   ]
  },
  {
   "cell_type": "code",
   "execution_count": 61,
   "id": "0f95a8ff",
   "metadata": {},
   "outputs": [],
   "source": [
    "import math as m\n"
   ]
  },
  {
   "cell_type": "code",
   "execution_count": 69,
   "id": "7eb2df81",
   "metadata": {},
   "outputs": [
    {
     "data": {
      "text/plain": [
       "-1.8073549220576042"
      ]
     },
     "execution_count": 69,
     "metadata": {},
     "output_type": "execute_result"
    }
   ],
   "source": [
    "m.log2(p)"
   ]
  },
  {
   "cell_type": "code",
   "execution_count": 70,
   "id": "5c7ad3a9",
   "metadata": {},
   "outputs": [
    {
     "data": {
      "text/plain": [
       "-0.4854268271702417"
      ]
     },
     "execution_count": 70,
     "metadata": {},
     "output_type": "execute_result"
    }
   ],
   "source": [
    "m.log2(1-p)"
   ]
  },
  {
   "cell_type": "code",
   "execution_count": 71,
   "id": "f2a2f6b5",
   "metadata": {},
   "outputs": [
    {
     "data": {
      "text/plain": [
       "0.8550857142857142"
      ]
     },
     "execution_count": 71,
     "metadata": {},
     "output_type": "execute_result"
    }
   ],
   "source": [
    "(-(4/14)*(-1.80)-(0.71)*(-0.48))"
   ]
  },
  {
   "cell_type": "code",
   "execution_count": null,
   "id": "6a4172c5",
   "metadata": {},
   "outputs": [],
   "source": []
  },
  {
   "cell_type": "code",
   "execution_count": 64,
   "id": "c76ba182",
   "metadata": {},
   "outputs": [
    {
     "data": {
      "text/plain": [
       "0.5714285714285714"
      ]
     },
     "execution_count": 64,
     "metadata": {},
     "output_type": "execute_result"
    }
   ],
   "source": [
    "p=6/14\n",
    "(1-p)"
   ]
  },
  {
   "cell_type": "code",
   "execution_count": 92,
   "id": "f0b4afac",
   "metadata": {},
   "outputs": [
    {
     "data": {
      "text/plain": [
       "-1.222392421336448"
      ]
     },
     "execution_count": 92,
     "metadata": {},
     "output_type": "execute_result"
    }
   ],
   "source": [
    "m.log2(p)"
   ]
  },
  {
   "cell_type": "code",
   "execution_count": 93,
   "id": "ef4a2884",
   "metadata": {},
   "outputs": [
    {
     "data": {
      "text/plain": [
       "-0.8073549220576043"
      ]
     },
     "execution_count": 93,
     "metadata": {},
     "output_type": "execute_result"
    }
   ],
   "source": [
    "m.log2(1-p)"
   ]
  },
  {
   "cell_type": "code",
   "execution_count": 94,
   "id": "e6155201",
   "metadata": {},
   "outputs": [
    {
     "data": {
      "text/plain": [
       "0.98"
      ]
     },
     "execution_count": 94,
     "metadata": {},
     "output_type": "execute_result"
    }
   ],
   "source": [
    "# hot\n",
    "\n",
    "(-(6/14)*(-1.22)-(8/14)*(-0.80))"
   ]
  },
  {
   "cell_type": "code",
   "execution_count": 73,
   "id": "9c689c3b",
   "metadata": {},
   "outputs": [
    {
     "data": {
      "text/plain": [
       "0.7142857142857143"
      ]
     },
     "execution_count": 73,
     "metadata": {},
     "output_type": "execute_result"
    }
   ],
   "source": [
    "p=4/14\n",
    "(1-p)"
   ]
  },
  {
   "cell_type": "code",
   "execution_count": 74,
   "id": "67bb0354",
   "metadata": {},
   "outputs": [
    {
     "data": {
      "text/plain": [
       "-1.8073549220576042"
      ]
     },
     "execution_count": 74,
     "metadata": {},
     "output_type": "execute_result"
    }
   ],
   "source": [
    "m.log2(p)"
   ]
  },
  {
   "cell_type": "code",
   "execution_count": 75,
   "id": "d2686c61",
   "metadata": {},
   "outputs": [
    {
     "data": {
      "text/plain": [
       "-0.4854268271702417"
      ]
     },
     "execution_count": 75,
     "metadata": {},
     "output_type": "execute_result"
    }
   ],
   "source": [
    "m.log2(1-p)"
   ]
  },
  {
   "cell_type": "code",
   "execution_count": 87,
   "id": "5a14f2bc",
   "metadata": {},
   "outputs": [
    {
     "data": {
      "text/plain": [
       "-0.1752685714285714"
      ]
     },
     "execution_count": 87,
     "metadata": {},
     "output_type": "execute_result"
    }
   ],
   "source": [
    "-(4/14)*(-1.80)*(0.71)*(-0.48)                    #cold"
   ]
  },
  {
   "cell_type": "code",
   "execution_count": 88,
   "id": "8ec1b9c5",
   "metadata": {},
   "outputs": [
    {
     "data": {
      "text/plain": [
       "0.98"
      ]
     },
     "execution_count": 88,
     "metadata": {},
     "output_type": "execute_result"
    }
   ],
   "source": [
    "-(6/14)*(-1.22)-(8/14)*(-0.80)"
   ]
  },
  {
   "cell_type": "code",
   "execution_count": 77,
   "id": "e6ce7570",
   "metadata": {},
   "outputs": [
    {
     "data": {
      "text/plain": [
       "0.5714285714285714"
      ]
     },
     "execution_count": 77,
     "metadata": {},
     "output_type": "execute_result"
    }
   ],
   "source": [
    "p=6/14\n",
    "(1-p)"
   ]
  },
  {
   "cell_type": "code",
   "execution_count": 78,
   "id": "34ad2815",
   "metadata": {},
   "outputs": [
    {
     "data": {
      "text/plain": [
       "-0.8073549220576043"
      ]
     },
     "execution_count": 78,
     "metadata": {},
     "output_type": "execute_result"
    }
   ],
   "source": [
    "m.log2(1-p)"
   ]
  },
  {
   "cell_type": "code",
   "execution_count": 89,
   "id": "0214099e",
   "metadata": {},
   "outputs": [
    {
     "data": {
      "text/plain": [
       "0.61"
      ]
     },
     "execution_count": 89,
     "metadata": {},
     "output_type": "execute_result"
    }
   ],
   "source": [
    "(4/14)*(0.85)+(6/14)*(0.97)+(4/14)*(-(0.17))"
   ]
  },
  {
   "cell_type": "code",
   "execution_count": 91,
   "id": "1cd8329d",
   "metadata": {},
   "outputs": [
    {
     "data": {
      "text/plain": [
       "0.37"
      ]
     },
     "execution_count": 91,
     "metadata": {},
     "output_type": "execute_result"
    }
   ],
   "source": [
    "0.98-0.61"
   ]
  },
  {
   "cell_type": "code",
   "execution_count": 18,
   "id": "3b7e8965",
   "metadata": {},
   "outputs": [],
   "source": [
    "# f1"
   ]
  },
  {
   "cell_type": "code",
   "execution_count": 8,
   "id": "d2931b86",
   "metadata": {},
   "outputs": [],
   "source": [
    "import math as m"
   ]
  },
  {
   "cell_type": "code",
   "execution_count": 15,
   "id": "fc47d62a",
   "metadata": {},
   "outputs": [
    {
     "data": {
      "text/plain": [
       "0.7142857142857143"
      ]
     },
     "execution_count": 15,
     "metadata": {},
     "output_type": "execute_result"
    }
   ],
   "source": [
    "x=5/7\n",
    "p=float(x)\n",
    "p"
   ]
  },
  {
   "cell_type": "code",
   "execution_count": 6,
   "id": "d138d0c0",
   "metadata": {},
   "outputs": [
    {
     "data": {
      "text/plain": [
       "0.2857142857142857"
      ]
     },
     "execution_count": 6,
     "metadata": {},
     "output_type": "execute_result"
    }
   ],
   "source": [
    "1-p"
   ]
  },
  {
   "cell_type": "code",
   "execution_count": 12,
   "id": "2f2c14dc",
   "metadata": {},
   "outputs": [
    {
     "data": {
      "text/plain": [
       "-0.4854268271702417"
      ]
     },
     "execution_count": 12,
     "metadata": {},
     "output_type": "execute_result"
    }
   ],
   "source": [
    "m.log2(p)"
   ]
  },
  {
   "cell_type": "code",
   "execution_count": 13,
   "id": "1abadbaa",
   "metadata": {},
   "outputs": [
    {
     "data": {
      "text/plain": [
       "-1.8073549220576042"
      ]
     },
     "execution_count": 13,
     "metadata": {},
     "output_type": "execute_result"
    }
   ],
   "source": [
    "m.log2(1-p)"
   ]
  },
  {
   "cell_type": "code",
   "execution_count": 16,
   "id": "64307d1b",
   "metadata": {},
   "outputs": [
    {
     "data": {
      "text/plain": [
       "0.8448000000000001"
      ]
     },
     "execution_count": 16,
     "metadata": {},
     "output_type": "execute_result"
    }
   ],
   "source": [
    "(-(0.71)*(-0.48)-(0.28)*((-1.80))) #---- Entropy of feature1----"
   ]
  },
  {
   "cell_type": "code",
   "execution_count": null,
   "id": "a638ef47",
   "metadata": {},
   "outputs": [],
   "source": [
    "# f2"
   ]
  },
  {
   "cell_type": "code",
   "execution_count": 19,
   "id": "27302522",
   "metadata": {},
   "outputs": [
    {
     "data": {
      "text/plain": [
       "0.6"
      ]
     },
     "execution_count": 19,
     "metadata": {},
     "output_type": "execute_result"
    }
   ],
   "source": [
    "y=3/5\n",
    "p=float(y)              \n",
    "p"
   ]
  },
  {
   "cell_type": "code",
   "execution_count": 20,
   "id": "78dfdc7a",
   "metadata": {},
   "outputs": [
    {
     "data": {
      "text/plain": [
       "0.4"
      ]
     },
     "execution_count": 20,
     "metadata": {},
     "output_type": "execute_result"
    }
   ],
   "source": [
    "1-p"
   ]
  },
  {
   "cell_type": "code",
   "execution_count": 21,
   "id": "fb30313c",
   "metadata": {},
   "outputs": [
    {
     "data": {
      "text/plain": [
       "-0.7369655941662062"
      ]
     },
     "execution_count": 21,
     "metadata": {},
     "output_type": "execute_result"
    }
   ],
   "source": [
    "m.log2(p)"
   ]
  },
  {
   "cell_type": "code",
   "execution_count": 22,
   "id": "321a1bb2",
   "metadata": {},
   "outputs": [
    {
     "data": {
      "text/plain": [
       "-1.3219280948873622"
      ]
     },
     "execution_count": 22,
     "metadata": {},
     "output_type": "execute_result"
    }
   ],
   "source": [
    "m.log2(1-p)"
   ]
  },
  {
   "cell_type": "code",
   "execution_count": 25,
   "id": "add3cd98",
   "metadata": {},
   "outputs": [
    {
     "data": {
      "text/plain": [
       "0.966"
      ]
     },
     "execution_count": 25,
     "metadata": {},
     "output_type": "execute_result"
    }
   ],
   "source": [
    "(-(0.6)*(-0.73)-(0.4)*(-1.32))  #---- Entropy of feature1----"
   ]
  },
  {
   "cell_type": "code",
   "execution_count": null,
   "id": "b6ab134b",
   "metadata": {},
   "outputs": [],
   "source": []
  },
  {
   "cell_type": "code",
   "execution_count": null,
   "id": "e997edf4",
   "metadata": {},
   "outputs": [],
   "source": []
  },
  {
   "cell_type": "code",
   "execution_count": null,
   "id": "447c9ad0",
   "metadata": {},
   "outputs": [],
   "source": [
    "# Entropy"
   ]
  },
  {
   "cell_type": "code",
   "execution_count": 14,
   "id": "5b0df140",
   "metadata": {},
   "outputs": [
    {
     "data": {
      "text/plain": [
       "0.5714285714285714"
      ]
     },
     "execution_count": 14,
     "metadata": {},
     "output_type": "execute_result"
    }
   ],
   "source": [
    "# above avg\n",
    "s=14\n",
    "p=8\n",
    "n=6\n",
    "prob_P=p/s\n",
    "prob_P"
   ]
  },
  {
   "cell_type": "code",
   "execution_count": 6,
   "id": "66bc31e6",
   "metadata": {},
   "outputs": [
    {
     "data": {
      "text/plain": [
       "0.42857142857142855"
      ]
     },
     "execution_count": 6,
     "metadata": {},
     "output_type": "execute_result"
    }
   ],
   "source": [
    "prob_N=n/s\n",
    "prob_N"
   ]
  },
  {
   "cell_type": "code",
   "execution_count": 10,
   "id": "25981fea",
   "metadata": {},
   "outputs": [
    {
     "data": {
      "text/plain": [
       "[0.48979591836734704]"
      ]
     },
     "execution_count": 10,
     "metadata": {},
     "output_type": "execute_result"
    }
   ],
   "source": [
    "gini_above=[1-((prob_P**2)+(prob_N**2))]\n",
    "gini_above"
   ]
  },
  {
   "cell_type": "code",
   "execution_count": null,
   "id": "c74ec14b",
   "metadata": {},
   "outputs": [],
   "source": []
  },
  {
   "cell_type": "code",
   "execution_count": null,
   "id": "3b38d61f",
   "metadata": {},
   "outputs": [],
   "source": [
    "# below avg"
   ]
  },
  {
   "cell_type": "code",
   "execution_count": 11,
   "id": "50918631",
   "metadata": {},
   "outputs": [
    {
     "data": {
      "text/plain": [
       "0.3333333333333333"
      ]
     },
     "execution_count": 11,
     "metadata": {},
     "output_type": "execute_result"
    }
   ],
   "source": [
    "s=6\n",
    "p=2\n",
    "n=4\n",
    "prob_P=p/s\n",
    "prob_P"
   ]
  },
  {
   "cell_type": "code",
   "execution_count": 12,
   "id": "b99f0251",
   "metadata": {},
   "outputs": [
    {
     "data": {
      "text/plain": [
       "0.6666666666666666"
      ]
     },
     "execution_count": 12,
     "metadata": {},
     "output_type": "execute_result"
    }
   ],
   "source": [
    "prob_N=n/s\n",
    "prob_N"
   ]
  },
  {
   "cell_type": "code",
   "execution_count": 13,
   "id": "32392467",
   "metadata": {},
   "outputs": [
    {
     "data": {
      "text/plain": [
       "[0.4444444444444444]"
      ]
     },
     "execution_count": 13,
     "metadata": {},
     "output_type": "execute_result"
    }
   ],
   "source": [
    "# Weighted Gini Impurity -- > Below avg\n",
    "\n",
    "gini_below=[1-((prob_P**2)+(prob_N**2))]\n",
    "gini_below"
   ]
  },
  {
   "cell_type": "code",
   "execution_count": 15,
   "id": "312bfe92",
   "metadata": {},
   "outputs": [
    {
     "data": {
      "text/plain": [
       "0.46799999999999997"
      ]
     },
     "execution_count": 15,
     "metadata": {},
     "output_type": "execute_result"
    }
   ],
   "source": [
    "# Weighted Gini Impurity  -->  Above Avg \n",
    "total=(14/20)*(0.48)+(6/20)*(0.44)\n",
    "total"
   ]
  },
  {
   "cell_type": "code",
   "execution_count": null,
   "id": "837c26c1",
   "metadata": {},
   "outputs": [],
   "source": []
  },
  {
   "cell_type": "code",
   "execution_count": null,
   "id": "23d51ebf",
   "metadata": {},
   "outputs": [],
   "source": []
  },
  {
   "cell_type": "code",
   "execution_count": null,
   "id": "0c293e4e",
   "metadata": {},
   "outputs": [],
   "source": []
  },
  {
   "cell_type": "code",
   "execution_count": null,
   "id": "fc57964a",
   "metadata": {},
   "outputs": [],
   "source": []
  }
 ],
 "metadata": {
  "kernelspec": {
   "display_name": "Python 3 (ipykernel)",
   "language": "python",
   "name": "python3"
  },
  "language_info": {
   "codemirror_mode": {
    "name": "ipython",
    "version": 3
   },
   "file_extension": ".py",
   "mimetype": "text/x-python",
   "name": "python",
   "nbconvert_exporter": "python",
   "pygments_lexer": "ipython3",
   "version": "3.9.13"
  }
 },
 "nbformat": 4,
 "nbformat_minor": 5
}
