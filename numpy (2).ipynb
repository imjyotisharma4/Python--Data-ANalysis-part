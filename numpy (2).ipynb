{
 "cells": [
  {
   "cell_type": "code",
   "execution_count": 1,
   "id": "f2b9c5a6",
   "metadata": {},
   "outputs": [],
   "source": [
    "# pip install numpy\n",
    "# for installing a library"
   ]
  },
  {
   "cell_type": "code",
   "execution_count": 2,
   "id": "b906d616",
   "metadata": {},
   "outputs": [],
   "source": [
    "import numpy as np"
   ]
  },
  {
   "cell_type": "code",
   "execution_count": 3,
   "id": "00fee5a3",
   "metadata": {},
   "outputs": [
    {
     "data": {
      "text/plain": [
       "[23, 67, 54, 89, 31]"
      ]
     },
     "execution_count": 3,
     "metadata": {},
     "output_type": "execute_result"
    }
   ],
   "source": [
    "li=[23,67,54,89,31]\n",
    "li"
   ]
  },
  {
   "cell_type": "code",
   "execution_count": 4,
   "id": "2bf1cbc0",
   "metadata": {},
   "outputs": [],
   "source": [
    "# array has only one datatype\n",
    "# vector 1-D\n",
    "# matrix 2-D\n",
    "# tensor 3-D"
   ]
  },
  {
   "cell_type": "code",
   "execution_count": 6,
   "id": "aedd32f5",
   "metadata": {},
   "outputs": [
    {
     "data": {
      "text/plain": [
       "array([23, 67, 54, 89, 31])"
      ]
     },
     "execution_count": 6,
     "metadata": {},
     "output_type": "execute_result"
    }
   ],
   "source": [
    "# convert a list to  array\n",
    "ar=np.array(li)\n",
    "ar"
   ]
  },
  {
   "cell_type": "code",
   "execution_count": 7,
   "id": "9ecc04e8",
   "metadata": {},
   "outputs": [
    {
     "data": {
      "text/plain": [
       "numpy.ndarray"
      ]
     },
     "execution_count": 7,
     "metadata": {},
     "output_type": "execute_result"
    }
   ],
   "source": [
    "type(ar)"
   ]
  },
  {
   "cell_type": "code",
   "execution_count": 8,
   "id": "2c4ddaf8",
   "metadata": {},
   "outputs": [],
   "source": [
    "l=[1,2,3,6.4,6.4,'a',True,3+2j]"
   ]
  },
  {
   "cell_type": "code",
   "execution_count": 9,
   "id": "b3611e95",
   "metadata": {},
   "outputs": [
    {
     "name": "stdout",
     "output_type": "stream",
     "text": [
      "['1' '2' '3' '6.4' '6.4' 'a' 'True' '(3+2j)']\n",
      "<class 'numpy.ndarray'>\n"
     ]
    },
    {
     "data": {
      "text/plain": [
       "dtype('<U64')"
      ]
     },
     "execution_count": 9,
     "metadata": {},
     "output_type": "execute_result"
    }
   ],
   "source": [
    "ar1=np.array(l)\n",
    "print(ar1)\n",
    "print(type(ar1))\n",
    "ar1.dtype"
   ]
  },
  {
   "cell_type": "code",
   "execution_count": 10,
   "id": "de9c6f77",
   "metadata": {},
   "outputs": [
    {
     "data": {
      "text/plain": [
       "dtype('<U64')"
      ]
     },
     "execution_count": 10,
     "metadata": {},
     "output_type": "execute_result"
    }
   ],
   "source": [
    "# string>complex_no>float>integer>bool\n",
    "ar1.dtype"
   ]
  },
  {
   "cell_type": "code",
   "execution_count": 13,
   "id": "a0e1dd62",
   "metadata": {},
   "outputs": [
    {
     "name": "stdout",
     "output_type": "stream",
     "text": [
      "[23 67 54 89 31]\n"
     ]
    },
    {
     "data": {
      "text/plain": [
       "1"
      ]
     },
     "execution_count": 13,
     "metadata": {},
     "output_type": "execute_result"
    }
   ],
   "source": [
    "print(ar)\n",
    "ar1.ndim\n",
    "# ar.dtype"
   ]
  },
  {
   "cell_type": "code",
   "execution_count": 19,
   "id": "6da3f452",
   "metadata": {},
   "outputs": [
    {
     "name": "stdout",
     "output_type": "stream",
     "text": [
      "(5,)\n",
      "5\n"
     ]
    },
    {
     "data": {
      "text/plain": [
       "5"
      ]
     },
     "execution_count": 19,
     "metadata": {},
     "output_type": "execute_result"
    }
   ],
   "source": [
    "print(ar.shape)\n",
    "print(len(ar))\n",
    "ar.size"
   ]
  },
  {
   "cell_type": "code",
   "execution_count": 20,
   "id": "c93c1dd1",
   "metadata": {},
   "outputs": [],
   "source": [
    "L=[[1,2,3],[4,5,6],[7,8,9],[10,11,12]]"
   ]
  },
  {
   "cell_type": "code",
   "execution_count": 21,
   "id": "feed028c",
   "metadata": {},
   "outputs": [],
   "source": [
    "a=np.array(L)"
   ]
  },
  {
   "cell_type": "code",
   "execution_count": 22,
   "id": "ecee09d2",
   "metadata": {},
   "outputs": [
    {
     "data": {
      "text/plain": [
       "array([[ 1,  2,  3],\n",
       "       [ 4,  5,  6],\n",
       "       [ 7,  8,  9],\n",
       "       [10, 11, 12]])"
      ]
     },
     "execution_count": 22,
     "metadata": {},
     "output_type": "execute_result"
    }
   ],
   "source": [
    "a"
   ]
  },
  {
   "cell_type": "code",
   "execution_count": 23,
   "id": "8c2fb68f",
   "metadata": {},
   "outputs": [
    {
     "data": {
      "text/plain": [
       "(4, 3)"
      ]
     },
     "execution_count": 23,
     "metadata": {},
     "output_type": "execute_result"
    }
   ],
   "source": [
    "a.shape"
   ]
  },
  {
   "cell_type": "code",
   "execution_count": 24,
   "id": "4aae655f",
   "metadata": {},
   "outputs": [
    {
     "data": {
      "text/plain": [
       "2"
      ]
     },
     "execution_count": 24,
     "metadata": {},
     "output_type": "execute_result"
    }
   ],
   "source": [
    "a.ndim\n"
   ]
  },
  {
   "cell_type": "code",
   "execution_count": 26,
   "id": "ed64f8a3",
   "metadata": {},
   "outputs": [
    {
     "name": "stdout",
     "output_type": "stream",
     "text": [
      "(4, 3)\n",
      "12\n"
     ]
    },
    {
     "data": {
      "text/plain": [
       "4"
      ]
     },
     "execution_count": 26,
     "metadata": {},
     "output_type": "execute_result"
    }
   ],
   "source": [
    "print(a.shape)\n",
    "\n",
    "print(a.size)\n",
    "len(a)"
   ]
  },
  {
   "cell_type": "code",
   "execution_count": 27,
   "id": "535fa2ac",
   "metadata": {},
   "outputs": [],
   "source": [
    "A=[[[1,2,3],[4,5,6]],[[7,8,9],[10,11,12]]]"
   ]
  },
  {
   "cell_type": "code",
   "execution_count": 28,
   "id": "77ad54ce",
   "metadata": {},
   "outputs": [],
   "source": [
    "ar3=np.array(A)"
   ]
  },
  {
   "cell_type": "code",
   "execution_count": 29,
   "id": "1d70078a",
   "metadata": {},
   "outputs": [
    {
     "data": {
      "text/plain": [
       "array([[[ 1,  2,  3],\n",
       "        [ 4,  5,  6]],\n",
       "\n",
       "       [[ 7,  8,  9],\n",
       "        [10, 11, 12]]])"
      ]
     },
     "execution_count": 29,
     "metadata": {},
     "output_type": "execute_result"
    }
   ],
   "source": [
    "ar3"
   ]
  },
  {
   "cell_type": "code",
   "execution_count": 35,
   "id": "e498ff38",
   "metadata": {},
   "outputs": [
    {
     "name": "stdout",
     "output_type": "stream",
     "text": [
      "4\n",
      "12\n"
     ]
    },
    {
     "data": {
      "text/plain": [
       "(2, 2, 3)"
      ]
     },
     "execution_count": 35,
     "metadata": {},
     "output_type": "execute_result"
    }
   ],
   "source": [
    "print(len(a))\n",
    "print(a.size)\n",
    "ar3.shape\n"
   ]
  },
  {
   "cell_type": "code",
   "execution_count": 36,
   "id": "d0cc455f",
   "metadata": {},
   "outputs": [
    {
     "name": "stdout",
     "output_type": "stream",
     "text": [
      "3\n"
     ]
    },
    {
     "data": {
      "text/plain": [
       "(24, 12, 4)"
      ]
     },
     "execution_count": 36,
     "metadata": {},
     "output_type": "execute_result"
    }
   ],
   "source": [
    "print(ar3.ndim)\n",
    "ar3.strides\n",
    "# The strides of an array tell us how many bytes we have to skip in memory\n",
    "# to move to the next position along a certain axis"
   ]
  },
  {
   "cell_type": "code",
   "execution_count": 38,
   "id": "b6795a5e",
   "metadata": {},
   "outputs": [
    {
     "data": {
      "text/plain": [
       "array([0, 0, 0, 0])"
      ]
     },
     "execution_count": 38,
     "metadata": {},
     "output_type": "execute_result"
    }
   ],
   "source": [
    "np.zeros(4,dtype=int,order='F')\n"
   ]
  },
  {
   "cell_type": "code",
   "execution_count": 39,
   "id": "7da6af06",
   "metadata": {},
   "outputs": [
    {
     "name": "stdout",
     "output_type": "stream",
     "text": [
      "[[0. 0. 0.]\n",
      " [0. 0. 0.]\n",
      " [0. 0. 0.]\n",
      " [0. 0. 0.]\n",
      " [0. 0. 0.]]\n"
     ]
    },
    {
     "data": {
      "text/plain": [
       "dtype('float64')"
      ]
     },
     "execution_count": 39,
     "metadata": {},
     "output_type": "execute_result"
    }
   ],
   "source": [
    "z1=np.zeros((5,3),dtype=float,order='F')\n",
    "print(z1)\n",
    "z1.dtype\n"
   ]
  },
  {
   "cell_type": "code",
   "execution_count": 40,
   "id": "ea98d7e5",
   "metadata": {},
   "outputs": [
    {
     "data": {
      "text/plain": [
       "array([[0., 0., 0.],\n",
       "       [0., 0., 0.],\n",
       "       [0., 0., 0.],\n",
       "       [0., 0., 0.],\n",
       "       [0., 0., 0.]])"
      ]
     },
     "execution_count": 40,
     "metadata": {},
     "output_type": "execute_result"
    }
   ],
   "source": [
    "z1"
   ]
  },
  {
   "cell_type": "code",
   "execution_count": 41,
   "id": "4d880c25",
   "metadata": {},
   "outputs": [
    {
     "data": {
      "text/plain": [
       "array([[[0, 0],\n",
       "        [0, 0],\n",
       "        [0, 0]],\n",
       "\n",
       "       [[0, 0],\n",
       "        [0, 0],\n",
       "        [0, 0]]])"
      ]
     },
     "execution_count": 41,
     "metadata": {},
     "output_type": "execute_result"
    }
   ],
   "source": [
    "z=np.zeros((2,3,2),dtype=int,order='C')\n",
    "z.dtype\n",
    "z"
   ]
  },
  {
   "cell_type": "code",
   "execution_count": 42,
   "id": "5bdef0fe",
   "metadata": {},
   "outputs": [
    {
     "data": {
      "text/plain": [
       "array([[['1', '1', '1', '1'],\n",
       "        ['1', '1', '1', '1'],\n",
       "        ['1', '1', '1', '1']],\n",
       "\n",
       "       [['1', '1', '1', '1'],\n",
       "        ['1', '1', '1', '1'],\n",
       "        ['1', '1', '1', '1']]], dtype='<U1')"
      ]
     },
     "execution_count": 42,
     "metadata": {},
     "output_type": "execute_result"
    }
   ],
   "source": [
    "c=np.ones((2,3,4),dtype=str)\n",
    "c"
   ]
  },
  {
   "cell_type": "code",
   "execution_count": 58,
   "id": "57c031d2",
   "metadata": {},
   "outputs": [
    {
     "data": {
      "text/plain": [
       "array([[[786, 786, 786, 786, 786, 786, 786, 786],\n",
       "        [786, 786, 786, 786, 786, 786, 786, 786],\n",
       "        [786, 786, 786, 786, 786, 786, 786, 786],\n",
       "        [786, 786, 786, 786, 786, 786, 786, 786]],\n",
       "\n",
       "       [[786, 786, 786, 786, 786, 786, 786, 786],\n",
       "        [786, 786, 786, 786, 786, 786, 786, 786],\n",
       "        [786, 786, 786, 786, 786, 786, 786, 786],\n",
       "        [786, 786, 786, 786, 786, 786, 786, 786]]])"
      ]
     },
     "execution_count": 58,
     "metadata": {},
     "output_type": "execute_result"
    }
   ],
   "source": [
    "# np.full()- to make a matrix with a particular value\n",
    "np.full((2,4,8),786,dtype=int)"
   ]
  },
  {
   "cell_type": "code",
   "execution_count": 59,
   "id": "f0cba343",
   "metadata": {},
   "outputs": [
    {
     "data": {
      "text/plain": [
       "array([[[3.14, 3.14, 3.14, 3.14],\n",
       "        [3.14, 3.14, 3.14, 3.14]],\n",
       "\n",
       "       [[3.14, 3.14, 3.14, 3.14],\n",
       "        [3.14, 3.14, 3.14, 3.14]],\n",
       "\n",
       "       [[3.14, 3.14, 3.14, 3.14],\n",
       "        [3.14, 3.14, 3.14, 3.14]]])"
      ]
     },
     "execution_count": 59,
     "metadata": {},
     "output_type": "execute_result"
    }
   ],
   "source": [
    "np.full((3,2,4),3.14)"
   ]
  },
  {
   "cell_type": "code",
   "execution_count": 60,
   "id": "1e310c12",
   "metadata": {},
   "outputs": [],
   "source": [
    "# np.identity- a square matrix whose diagonal is 1"
   ]
  },
  {
   "cell_type": "code",
   "execution_count": 61,
   "id": "ccba4443",
   "metadata": {},
   "outputs": [
    {
     "data": {
      "text/plain": [
       "array([[1, 0, 0, 0, 0],\n",
       "       [0, 1, 0, 0, 0],\n",
       "       [0, 0, 1, 0, 0],\n",
       "       [0, 0, 0, 1, 0],\n",
       "       [0, 0, 0, 0, 1]])"
      ]
     },
     "execution_count": 61,
     "metadata": {},
     "output_type": "execute_result"
    }
   ],
   "source": [
    "np.identity(5,dtype=int)\n",
    "#np.eye(2,dtype=float)"
   ]
  },
  {
   "cell_type": "code",
   "execution_count": 62,
   "id": "b0178187",
   "metadata": {},
   "outputs": [
    {
     "data": {
      "text/plain": [
       "array([  0,  20,  40,  60,  80, 100, 120, 140, 160, 180, 200])"
      ]
     },
     "execution_count": 62,
     "metadata": {},
     "output_type": "execute_result"
    }
   ],
   "source": [
    "# arange and linspace\n",
    "a=np.arange(0,201,20,dtype=int)\n",
    "a"
   ]
  },
  {
   "cell_type": "code",
   "execution_count": 63,
   "id": "e0d4be4d",
   "metadata": {},
   "outputs": [
    {
     "name": "stdout",
     "output_type": "stream",
     "text": [
      "[ 20  16  12   8   4   0  -4  -8 -12 -16 -20]\n"
     ]
    },
    {
     "data": {
      "text/plain": [
       "0"
      ]
     },
     "execution_count": 63,
     "metadata": {},
     "output_type": "execute_result"
    }
   ],
   "source": [
    "a=np.arange(20,-21,-4)\n",
    "print(a)\n",
    "a.sum()"
   ]
  },
  {
   "cell_type": "code",
   "execution_count": 64,
   "id": "21538c74",
   "metadata": {},
   "outputs": [
    {
     "name": "stdout",
     "output_type": "stream",
     "text": [
      "[10 11 12 13 15 16 17 18]\n"
     ]
    },
    {
     "data": {
      "text/plain": [
       "(array([10.  , 11.25, 12.5 , 13.75, 15.  , 16.25, 17.5 , 18.75]), 1.25)"
      ]
     },
     "execution_count": 64,
     "metadata": {},
     "output_type": "execute_result"
    }
   ],
   "source": [
    "print(np.linspace(10,20,8,endpoint=False,dtype=int))\n",
    "np.linspace(10,20,8,endpoint=False,dtype=float,retstep=True,)"
   ]
  },
  {
   "cell_type": "code",
   "execution_count": 66,
   "id": "0daba161",
   "metadata": {},
   "outputs": [
    {
     "data": {
      "text/plain": [
       "array([1.e+010, 1.e+100])"
      ]
     },
     "execution_count": 66,
     "metadata": {},
     "output_type": "execute_result"
    }
   ],
   "source": [
    "np.logspace(10,100,2,base=10)"
   ]
  },
  {
   "cell_type": "code",
   "execution_count": 67,
   "id": "d1a351c6",
   "metadata": {},
   "outputs": [
    {
     "data": {
      "text/plain": [
       "array([ 1.        ,  1.39495079,  1.94588772,  2.71441762,  3.78647901,\n",
       "        5.2819519 ,  7.368063  , 10.27808533, 14.33742329, 20.        ])"
      ]
     },
     "execution_count": 67,
     "metadata": {},
     "output_type": "execute_result"
    }
   ],
   "source": [
    "np.geomspace(1,20,10)"
   ]
  },
  {
   "cell_type": "code",
   "execution_count": 71,
   "id": "1f1ed170",
   "metadata": {},
   "outputs": [
    {
     "name": "stdout",
     "output_type": "stream",
     "text": [
      "<class 'numpy.ndarray'>\n"
     ]
    },
    {
     "data": {
      "text/plain": [
       "array([23, 45, 78, 98])"
      ]
     },
     "execution_count": 71,
     "metadata": {},
     "output_type": "execute_result"
    }
   ],
   "source": [
    "#array with tuple\n",
    "b=np.array((23,45,78,98))\n",
    "print(type(b))\n",
    "b"
   ]
  },
  {
   "cell_type": "code",
   "execution_count": 40,
   "id": "c2dafb33",
   "metadata": {},
   "outputs": [],
   "source": [
    "#  Array with a SET we can not created"
   ]
  },
  {
   "cell_type": "code",
   "execution_count": 72,
   "id": "40ee09a9",
   "metadata": {},
   "outputs": [
    {
     "name": "stdout",
     "output_type": "stream",
     "text": [
      "{1, 2, 3, 4, 5, 6, 7, 8, 9}\n",
      "0\n"
     ]
    },
    {
     "data": {
      "text/plain": [
       "numpy.ndarray"
      ]
     },
     "execution_count": 72,
     "metadata": {},
     "output_type": "execute_result"
    }
   ],
   "source": [
    "a=np.array({1,2,3,4,5,6,7,8,9,1,1,1,1})\n",
    "print(a)\n",
    "print(a.ndim)\n",
    "a.shape\n",
    "type(a)\n"
   ]
  },
  {
   "cell_type": "code",
   "execution_count": 73,
   "id": "1bae08ea",
   "metadata": {},
   "outputs": [
    {
     "name": "stdout",
     "output_type": "stream",
     "text": [
      "0\n"
     ]
    },
    {
     "data": {
      "text/plain": [
       "array({1: 23, 2: 46}, dtype=object)"
      ]
     },
     "execution_count": 73,
     "metadata": {},
     "output_type": "execute_result"
    }
   ],
   "source": [
    "c=np.array({1:23,2:46})\n",
    "print(c.ndim)\n",
    "# we cannot make array with dictionary and set objects...\n",
    "#type(c)\n",
    "c"
   ]
  },
  {
   "cell_type": "code",
   "execution_count": 74,
   "id": "89128b44",
   "metadata": {},
   "outputs": [],
   "source": [
    "import numpy as np"
   ]
  },
  {
   "cell_type": "markdown",
   "id": "964be9d4",
   "metadata": {},
   "source": [
    "# Second Class"
   ]
  },
  {
   "cell_type": "code",
   "execution_count": 75,
   "id": "9f80e9f5",
   "metadata": {},
   "outputs": [],
   "source": [
    "# converting 1-D to 2-D and 3-D array"
   ]
  },
  {
   "cell_type": "code",
   "execution_count": 76,
   "id": "2935b93b",
   "metadata": {},
   "outputs": [
    {
     "data": {
      "text/plain": [
       "array([ 1,  2,  3,  4,  5,  6,  7,  8,  9, 10, 11, 12, 13, 14, 15, 16, 17,\n",
       "       18, 19, 20, 21, 22, 23, 24, 25, 26, 27, 28, 29, 30])"
      ]
     },
     "execution_count": 76,
     "metadata": {},
     "output_type": "execute_result"
    }
   ],
   "source": [
    "n1=np.arange(1,31)\n",
    "n1"
   ]
  },
  {
   "cell_type": "code",
   "execution_count": 79,
   "id": "4c8d280d",
   "metadata": {},
   "outputs": [
    {
     "data": {
      "text/plain": [
       "array([[ 1,  2,  3,  4,  5],\n",
       "       [ 6,  7,  8,  9, 10],\n",
       "       [11, 12, 13, 14, 15],\n",
       "       [16, 17, 18, 19, 20],\n",
       "       [21, 22, 23, 24, 25],\n",
       "       [26, 27, 28, 29, 30]])"
      ]
     },
     "execution_count": 79,
     "metadata": {},
     "output_type": "execute_result"
    }
   ],
   "source": [
    "np.reshape(n1,(5,6))\n",
    "n1.reshape(6,5)"
   ]
  },
  {
   "cell_type": "code",
   "execution_count": 80,
   "id": "c983bbbb",
   "metadata": {},
   "outputs": [
    {
     "data": {
      "text/plain": [
       "array([[ 1,  7, 13, 19, 25],\n",
       "       [ 2,  8, 14, 20, 26],\n",
       "       [ 3,  9, 15, 21, 27],\n",
       "       [ 4, 10, 16, 22, 28],\n",
       "       [ 5, 11, 17, 23, 29],\n",
       "       [ 6, 12, 18, 24, 30]])"
      ]
     },
     "execution_count": 80,
     "metadata": {},
     "output_type": "execute_result"
    }
   ],
   "source": [
    "n1.reshape(6,5,order='F') # 'C' for rows"
   ]
  },
  {
   "cell_type": "code",
   "execution_count": 82,
   "id": "8116e4ea",
   "metadata": {},
   "outputs": [
    {
     "data": {
      "text/plain": [
       "array([[[ 1, 16],\n",
       "        [ 6, 21],\n",
       "        [11, 26]],\n",
       "\n",
       "       [[ 2, 17],\n",
       "        [ 7, 22],\n",
       "        [12, 27]],\n",
       "\n",
       "       [[ 3, 18],\n",
       "        [ 8, 23],\n",
       "        [13, 28]],\n",
       "\n",
       "       [[ 4, 19],\n",
       "        [ 9, 24],\n",
       "        [14, 29]],\n",
       "\n",
       "       [[ 5, 20],\n",
       "        [10, 25],\n",
       "        [15, 30]]])"
      ]
     },
     "execution_count": 82,
     "metadata": {},
     "output_type": "execute_result"
    }
   ],
   "source": [
    "a=n1.reshape(5,3,2,order='F')\n",
    "a"
   ]
  },
  {
   "cell_type": "code",
   "execution_count": 49,
   "id": "f5f96dbf",
   "metadata": {},
   "outputs": [
    {
     "data": {
      "text/plain": [
       "dtype('int32')"
      ]
     },
     "execution_count": 49,
     "metadata": {},
     "output_type": "execute_result"
    }
   ],
   "source": [
    "a.dtype"
   ]
  },
  {
   "cell_type": "code",
   "execution_count": 50,
   "id": "5e9e7c5d",
   "metadata": {},
   "outputs": [
    {
     "data": {
      "text/plain": [
       "array([[[ 1,  2,  3,  4,  5,  6,  7,  8,  9, 10],\n",
       "        [11, 12, 13, 14, 15, 16, 17, 18, 19, 20],\n",
       "        [21, 22, 23, 24, 25, 26, 27, 28, 29, 30]]])"
      ]
     },
     "execution_count": 50,
     "metadata": {},
     "output_type": "execute_result"
    }
   ],
   "source": [
    "np.reshape(n1,(1,3,10))"
   ]
  },
  {
   "cell_type": "code",
   "execution_count": 51,
   "id": "3e4c6ea1",
   "metadata": {},
   "outputs": [],
   "source": [
    "# Converting 3-D to 2-D"
   ]
  },
  {
   "cell_type": "code",
   "execution_count": 84,
   "id": "960b44a5",
   "metadata": {},
   "outputs": [
    {
     "data": {
      "text/plain": [
       "array([[[ 1,  7, 13, 19, 25],\n",
       "        [ 4, 10, 16, 22, 28]],\n",
       "\n",
       "       [[ 2,  8, 14, 20, 26],\n",
       "        [ 5, 11, 17, 23, 29]],\n",
       "\n",
       "       [[ 3,  9, 15, 21, 27],\n",
       "        [ 6, 12, 18, 24, 30]]])"
      ]
     },
     "execution_count": 84,
     "metadata": {},
     "output_type": "execute_result"
    }
   ],
   "source": [
    "mat=np.reshape(n1,(3,2,5),order='F')\n",
    "mat"
   ]
  },
  {
   "cell_type": "code",
   "execution_count": 85,
   "id": "737ab46d",
   "metadata": {},
   "outputs": [
    {
     "name": "stdout",
     "output_type": "stream",
     "text": [
      "(3, 2, 5)\n"
     ]
    },
    {
     "data": {
      "text/plain": [
       "30"
      ]
     },
     "execution_count": 85,
     "metadata": {},
     "output_type": "execute_result"
    }
   ],
   "source": [
    "print(mat.shape)\n",
    "mat.size"
   ]
  },
  {
   "cell_type": "code",
   "execution_count": 86,
   "id": "3ab6f2ee",
   "metadata": {},
   "outputs": [
    {
     "data": {
      "text/plain": [
       "array([[ 1,  6, 11, 16, 21, 26],\n",
       "       [ 2,  7, 12, 17, 22, 27],\n",
       "       [ 3,  8, 13, 18, 23, 28],\n",
       "       [ 4,  9, 14, 19, 24, 29],\n",
       "       [ 5, 10, 15, 20, 25, 30]])"
      ]
     },
     "execution_count": 86,
     "metadata": {},
     "output_type": "execute_result"
    }
   ],
   "source": [
    "mat.reshape(5,6,order='F')"
   ]
  },
  {
   "cell_type": "code",
   "execution_count": 89,
   "id": "9ac5ec1a",
   "metadata": {},
   "outputs": [
    {
     "name": "stdout",
     "output_type": "stream",
     "text": [
      "[[[1, 2, 3], [4, 5, 6]], [[7, 8, 9], [10, 11, 12]]]\n",
      "[[[ 1  2  3]\n",
      "  [ 4  5  6]]\n",
      "\n",
      " [[ 7  8  9]\n",
      "  [10 11 12]]]\n",
      "<class 'numpy.ndarray'>\n",
      "[ 1  2  3  4  5  6  7  8  9 10 11 12]\n"
     ]
    },
    {
     "data": {
      "text/plain": [
       "1"
      ]
     },
     "execution_count": 89,
     "metadata": {},
     "output_type": "execute_result"
    }
   ],
   "source": [
    "print(A)\n",
    "Z=A\n",
    "S=np.reshape(Z,(2,2,3))\n",
    "print(S)\n",
    "E=S.flatten()\n",
    "print(type(E))\n",
    "print(E)\n",
    "E.ndim"
   ]
  },
  {
   "cell_type": "code",
   "execution_count": 91,
   "id": "0e311592",
   "metadata": {},
   "outputs": [
    {
     "name": "stdout",
     "output_type": "stream",
     "text": [
      "[[[ 1  7 13 19 25]\n",
      "  [ 4 10 16 22 28]]\n",
      "\n",
      " [[ 2  8 14 20 26]\n",
      "  [ 5 11 17 23 29]]\n",
      "\n",
      " [[ 3  9 15 21 27]\n",
      "  [ 6 12 18 24 30]]]\n"
     ]
    },
    {
     "data": {
      "text/plain": [
       "array([ 1,  7, 13, 19, 25,  4, 10, 16, 22, 28,  2,  8, 14, 20, 26,  5, 11,\n",
       "       17, 23, 29,  3,  9, 15, 21, 27,  6, 12, 18, 24, 30])"
      ]
     },
     "execution_count": 91,
     "metadata": {},
     "output_type": "execute_result"
    }
   ],
   "source": [
    "print(mat)\n",
    "mat.flatten()"
   ]
  },
  {
   "cell_type": "code",
   "execution_count": null,
   "id": "53a3f1d8",
   "metadata": {},
   "outputs": [],
   "source": []
  },
  {
   "cell_type": "code",
   "execution_count": null,
   "id": "d001616b",
   "metadata": {},
   "outputs": [],
   "source": []
  },
  {
   "cell_type": "code",
   "execution_count": 99,
   "id": "907eb4e0",
   "metadata": {},
   "outputs": [
    {
     "name": "stdout",
     "output_type": "stream",
     "text": [
      "<class 'list'>\n"
     ]
    },
    {
     "data": {
      "text/plain": [
       "[1, 2, 3, 4, 5, 6, 7, 8, 9, 10, 11, 12]"
      ]
     },
     "execution_count": 99,
     "metadata": {},
     "output_type": "execute_result"
    }
   ],
   "source": [
    "S.flatten()\n",
    "a=list(S.flatten())\n",
    "\n",
    "print(type(a))\n",
    "a"
   ]
  },
  {
   "cell_type": "code",
   "execution_count": 100,
   "id": "6e3691cd",
   "metadata": {},
   "outputs": [],
   "source": [
    "# Unique()\n"
   ]
  },
  {
   "cell_type": "code",
   "execution_count": 4,
   "id": "ec7bf40a",
   "metadata": {},
   "outputs": [
    {
     "data": {
      "text/plain": [
       "array([ 6,  8, 10,  5,  9,  5, 10,  8,  7,  9, 10,  5,  7,  7,  9,  5,  5,\n",
       "        9,  5,  9, 10,  9,  5,  7])"
      ]
     },
     "execution_count": 4,
     "metadata": {},
     "output_type": "execute_result"
    }
   ],
   "source": [
    "ar=np.random.randint(5,11,24)\n",
    "ar"
   ]
  },
  {
   "cell_type": "code",
   "execution_count": 8,
   "id": "099bcac6",
   "metadata": {},
   "outputs": [
    {
     "data": {
      "text/plain": [
       "array([0.96877268, 0.76997555, 0.40532169, 0.86370163, 0.01082482,\n",
       "       0.07078942, 0.29215329, 0.17792729, 0.14618763, 0.91335082,\n",
       "       0.92379213, 0.47657596, 0.99788211, 0.69709875, 0.55820652,\n",
       "       0.14449789, 0.00774152, 0.12247998, 0.90923659, 0.59290927,\n",
       "       0.78991534, 0.85680863, 0.65120732, 0.64432172])"
      ]
     },
     "execution_count": 8,
     "metadata": {},
     "output_type": "execute_result"
    }
   ],
   "source": [
    "ar=np.random.random(24)\n",
    "ar"
   ]
  },
  {
   "cell_type": "code",
   "execution_count": 9,
   "id": "a5ac4465",
   "metadata": {},
   "outputs": [
    {
     "name": "stdout",
     "output_type": "stream",
     "text": [
      "[4, 3, 4, 2, 1, 1, 6, 6, 3, 3]\n"
     ]
    }
   ],
   "source": [
    "import random\n",
    "list1 = [1, 2, 3, 4, 5, 6]\n",
    "print(random.choices(list1,k=10))"
   ]
  },
  {
   "cell_type": "code",
   "execution_count": 10,
   "id": "1624b9af",
   "metadata": {},
   "outputs": [
    {
     "data": {
      "text/plain": [
       "array([0.00774152, 0.01082482, 0.07078942, 0.12247998, 0.14449789,\n",
       "       0.14618763, 0.17792729, 0.29215329, 0.40532169, 0.47657596,\n",
       "       0.55820652, 0.59290927, 0.64432172, 0.65120732, 0.69709875,\n",
       "       0.76997555, 0.78991534, 0.85680863, 0.86370163, 0.90923659,\n",
       "       0.91335082, 0.92379213, 0.96877268, 0.99788211])"
      ]
     },
     "execution_count": 10,
     "metadata": {},
     "output_type": "execute_result"
    }
   ],
   "source": [
    "np.unique(ar)"
   ]
  },
  {
   "cell_type": "code",
   "execution_count": 11,
   "id": "d7f2223e",
   "metadata": {},
   "outputs": [],
   "source": [
    "# coverting array to list\n",
    "import numpy as np"
   ]
  },
  {
   "cell_type": "code",
   "execution_count": 12,
   "id": "da6328c2",
   "metadata": {},
   "outputs": [
    {
     "name": "stdout",
     "output_type": "stream",
     "text": [
      "[0.968772677600897, 0.7699755510877013, 0.40532168860163553, 0.8637016305404274, 0.010824824615807915, 0.07078942306062141, 0.29215328693137665, 0.17792728652586065, 0.14618762886772152, 0.9133508193199347, 0.9237921272506664, 0.47657596254334367, 0.9978821129716431, 0.697098749488745, 0.5582065174256767, 0.14449788737285507, 0.007741520825808368, 0.12247998130883375, 0.9092365940140978, 0.592909270092326, 0.7899153428986204, 0.8568086310431775, 0.651207318785245, 0.6443217212034252]\n",
      "[[[0.96877268 0.99788211]\n",
      "  [0.86370163 0.14449789]\n",
      "  [0.29215329 0.90923659]\n",
      "  [0.91335082 0.85680863]]\n",
      "\n",
      " [[0.76997555 0.69709875]\n",
      "  [0.01082482 0.00774152]\n",
      "  [0.17792729 0.59290927]\n",
      "  [0.92379213 0.65120732]]\n",
      "\n",
      " [[0.40532169 0.55820652]\n",
      "  [0.07078942 0.12247998]\n",
      "  [0.14618763 0.78991534]\n",
      "  [0.47657596 0.64432172]]]\n"
     ]
    },
    {
     "data": {
      "text/plain": [
       "[[[0.968772677600897, 0.9978821129716431],\n",
       "  [0.8637016305404274, 0.14449788737285507],\n",
       "  [0.29215328693137665, 0.9092365940140978],\n",
       "  [0.9133508193199347, 0.8568086310431775]],\n",
       " [[0.7699755510877013, 0.697098749488745],\n",
       "  [0.010824824615807915, 0.007741520825808368],\n",
       "  [0.17792728652586065, 0.592909270092326],\n",
       "  [0.9237921272506664, 0.651207318785245]],\n",
       " [[0.40532168860163553, 0.5582065174256767],\n",
       "  [0.07078942306062141, 0.12247998130883375],\n",
       "  [0.14618762886772152, 0.7899153428986204],\n",
       "  [0.47657596254334367, 0.6443217212034252]]]"
      ]
     },
     "execution_count": 12,
     "metadata": {},
     "output_type": "execute_result"
    }
   ],
   "source": [
    "print(ar.tolist())\n",
    "T=ar.reshape(3,4,2,order='F')\n",
    "print(T)\n",
    "T.tolist()"
   ]
  },
  {
   "cell_type": "code",
   "execution_count": 13,
   "id": "9f29cd3b",
   "metadata": {},
   "outputs": [],
   "source": [
    "a1=np.random.randint(10,100,7)\n",
    "a2=np.random.randint(10,100,5)\n",
    "a3=np.random.randint(10,100,5)"
   ]
  },
  {
   "cell_type": "code",
   "execution_count": 125,
   "id": "32b96f18",
   "metadata": {},
   "outputs": [
    {
     "data": {
      "text/plain": [
       "array([18, 82, 48, 85, 89, 51, 76])"
      ]
     },
     "execution_count": 125,
     "metadata": {},
     "output_type": "execute_result"
    }
   ],
   "source": [
    "a1"
   ]
  },
  {
   "cell_type": "code",
   "execution_count": 126,
   "id": "7e2f5937",
   "metadata": {},
   "outputs": [
    {
     "name": "stdout",
     "output_type": "stream",
     "text": [
      "[76 29 70 90 60]\n"
     ]
    },
    {
     "data": {
      "text/plain": [
       "array([44, 16, 16, 51, 46])"
      ]
     },
     "execution_count": 126,
     "metadata": {},
     "output_type": "execute_result"
    }
   ],
   "source": [
    "print(a2)\n",
    "a3"
   ]
  },
  {
   "cell_type": "code",
   "execution_count": 127,
   "id": "c32f866a",
   "metadata": {},
   "outputs": [
    {
     "data": {
      "text/plain": [
       "array([18, 82, 48, 85, 89, 51, 76, 76, 29, 70, 90, 60, 44, 16, 16, 51, 46])"
      ]
     },
     "execution_count": 127,
     "metadata": {},
     "output_type": "execute_result"
    }
   ],
   "source": [
    "np.concatenate((a1,a2,a3),axis=0)"
   ]
  },
  {
   "cell_type": "code",
   "execution_count": 128,
   "id": "3195b46b",
   "metadata": {},
   "outputs": [
    {
     "data": {
      "text/plain": [
       "array([[66, 88, 61, 90],\n",
       "       [72, 85, 77, 49],\n",
       "       [84, 10, 47, 80],\n",
       "       [28, 69, 59, 94],\n",
       "       [20, 41, 92, 22]])"
      ]
     },
     "execution_count": 128,
     "metadata": {},
     "output_type": "execute_result"
    }
   ],
   "source": [
    "mat1=np.random.randint(10,100,20).reshape(5,4)\n",
    "mat1"
   ]
  },
  {
   "cell_type": "code",
   "execution_count": 129,
   "id": "49f79d7f",
   "metadata": {},
   "outputs": [
    {
     "data": {
      "text/plain": [
       "array([[29, 21, 31, 65, 82, 29],\n",
       "       [38, 17, 42, 89, 74, 95],\n",
       "       [45, 56, 19, 83, 59, 47],\n",
       "       [54, 75, 67, 33, 71, 72],\n",
       "       [52, 72, 74, 78, 23, 32]])"
      ]
     },
     "execution_count": 129,
     "metadata": {},
     "output_type": "execute_result"
    }
   ],
   "source": [
    "mat2=np.random.randint(10,100,30).reshape(5,6)\n",
    "mat2"
   ]
  },
  {
   "cell_type": "code",
   "execution_count": 131,
   "id": "ac79d8ea",
   "metadata": {},
   "outputs": [
    {
     "data": {
      "text/plain": [
       "array([[66, 88, 61, 90, 29, 21, 31, 65, 82, 29],\n",
       "       [72, 85, 77, 49, 38, 17, 42, 89, 74, 95],\n",
       "       [84, 10, 47, 80, 45, 56, 19, 83, 59, 47],\n",
       "       [28, 69, 59, 94, 54, 75, 67, 33, 71, 72],\n",
       "       [20, 41, 92, 22, 52, 72, 74, 78, 23, 32]])"
      ]
     },
     "execution_count": 131,
     "metadata": {},
     "output_type": "execute_result"
    }
   ],
   "source": [
    "np.concatenate((mat1,mat2),axis=1)\n",
    "# axis=1 columnwise\n",
    "# axis=0 rawwise"
   ]
  },
  {
   "cell_type": "code",
   "execution_count": 132,
   "id": "017a613a",
   "metadata": {},
   "outputs": [
    {
     "name": "stdout",
     "output_type": "stream",
     "text": [
      "[[96 91 80 65]\n",
      " [50 54 77 95]\n",
      " [71 83 83 60]\n",
      " [51 57 53 93]\n",
      " [92 67 77 62]]\n",
      "\n",
      "\n",
      "\n",
      "[[36 48 23 14]\n",
      " [10 47 43  9]\n",
      " [26 14 34 28]\n",
      " [16 13 37 10]\n",
      " [29 14 39 29]\n",
      " [16  3 35 26]]\n",
      "\n",
      "\n",
      "\n",
      "[[96 91 80 65]\n",
      " [50 54 77 95]\n",
      " [71 83 83 60]\n",
      " [51 57 53 93]\n",
      " [92 67 77 62]\n",
      " [36 48 23 14]\n",
      " [10 47 43  9]\n",
      " [26 14 34 28]\n",
      " [16 13 37 10]\n",
      " [29 14 39 29]\n",
      " [16  3 35 26]]\n"
     ]
    }
   ],
   "source": [
    "q1=np.random.randint(50,100,20).reshape(5,4)\n",
    "print(q1)\n",
    "print(\"\\n\\n\")\n",
    "q2=np.random.randint(0,50,24).reshape(6,4)\n",
    "print(q2)\n",
    "print(\"\\n\\n\")\n",
    "\n",
    "Q=np.concatenate((q1,q2),axis=0)\n",
    "print(Q)"
   ]
  },
  {
   "cell_type": "code",
   "execution_count": 133,
   "id": "79310e4f",
   "metadata": {},
   "outputs": [
    {
     "data": {
      "text/plain": [
       "[[96, 91, 80, 65],\n",
       " [50, 54, 77, 95],\n",
       " [71, 83, 83, 60],\n",
       " [51, 57, 53, 93],\n",
       " [92, 67, 77, 62],\n",
       " [36, 48, 23, 14],\n",
       " [10, 47, 43, 9],\n",
       " [26, 14, 34, 28],\n",
       " [16, 13, 37, 10],\n",
       " [29, 14, 39, 29],\n",
       " [16, 3, 35, 26]]"
      ]
     },
     "execution_count": 133,
     "metadata": {},
     "output_type": "execute_result"
    }
   ],
   "source": [
    "Q.tolist()"
   ]
  },
  {
   "cell_type": "code",
   "execution_count": 78,
   "id": "32850998",
   "metadata": {},
   "outputs": [],
   "source": [
    "# Slicing in array"
   ]
  },
  {
   "cell_type": "code",
   "execution_count": 134,
   "id": "e88064fe",
   "metadata": {},
   "outputs": [],
   "source": [
    "ar1=np.random.randint(10,100,30)"
   ]
  },
  {
   "cell_type": "code",
   "execution_count": 135,
   "id": "e165e1f2",
   "metadata": {},
   "outputs": [
    {
     "data": {
      "text/plain": [
       "array([93, 71, 21, 23, 53, 12, 64, 76, 74, 92, 45, 80, 44, 12, 13, 51, 68,\n",
       "       82, 54, 42, 42, 59, 82, 25, 29, 43, 27, 35, 76, 79])"
      ]
     },
     "execution_count": 135,
     "metadata": {},
     "output_type": "execute_result"
    }
   ],
   "source": [
    "ar1"
   ]
  },
  {
   "cell_type": "code",
   "execution_count": 136,
   "id": "ebca9875",
   "metadata": {},
   "outputs": [
    {
     "data": {
      "text/plain": [
       "23"
      ]
     },
     "execution_count": 136,
     "metadata": {},
     "output_type": "execute_result"
    }
   ],
   "source": [
    "ar1[3]"
   ]
  },
  {
   "cell_type": "code",
   "execution_count": 137,
   "id": "9f6461af",
   "metadata": {},
   "outputs": [
    {
     "data": {
      "text/plain": [
       "21"
      ]
     },
     "execution_count": 137,
     "metadata": {},
     "output_type": "execute_result"
    }
   ],
   "source": [
    "ar1[2]"
   ]
  },
  {
   "cell_type": "code",
   "execution_count": 138,
   "id": "f8d62dbe",
   "metadata": {},
   "outputs": [
    {
     "data": {
      "text/plain": [
       "79"
      ]
     },
     "execution_count": 138,
     "metadata": {},
     "output_type": "execute_result"
    }
   ],
   "source": [
    "ar1[-1]"
   ]
  },
  {
   "cell_type": "code",
   "execution_count": 139,
   "id": "e67be709",
   "metadata": {},
   "outputs": [
    {
     "data": {
      "text/plain": [
       "93"
      ]
     },
     "execution_count": 139,
     "metadata": {},
     "output_type": "execute_result"
    }
   ],
   "source": [
    "ar1[-30]"
   ]
  },
  {
   "cell_type": "code",
   "execution_count": 140,
   "id": "3ff025e2",
   "metadata": {},
   "outputs": [
    {
     "data": {
      "text/plain": [
       "array([21, 53, 64, 74])"
      ]
     },
     "execution_count": 140,
     "metadata": {},
     "output_type": "execute_result"
    }
   ],
   "source": [
    "ar1[2:9:2]"
   ]
  },
  {
   "cell_type": "code",
   "execution_count": 141,
   "id": "5ee85b79",
   "metadata": {},
   "outputs": [
    {
     "data": {
      "text/plain": [
       "array([[29, 21, 31, 65, 82, 29],\n",
       "       [38, 17, 42, 89, 74, 95],\n",
       "       [45, 56, 19, 83, 59, 47],\n",
       "       [54, 75, 67, 33, 71, 72],\n",
       "       [52, 72, 74, 78, 23, 32]])"
      ]
     },
     "execution_count": 141,
     "metadata": {},
     "output_type": "execute_result"
    }
   ],
   "source": [
    "mat2"
   ]
  },
  {
   "cell_type": "code",
   "execution_count": 87,
   "id": "a70a954f",
   "metadata": {},
   "outputs": [
    {
     "data": {
      "text/plain": [
       "array([90, 14, 36, 81, 13, 94])"
      ]
     },
     "execution_count": 87,
     "metadata": {},
     "output_type": "execute_result"
    }
   ],
   "source": [
    "mat2[0]"
   ]
  },
  {
   "cell_type": "code",
   "execution_count": 142,
   "id": "c62bce6b",
   "metadata": {},
   "outputs": [
    {
     "data": {
      "text/plain": [
       "array([[29, 21, 31, 65, 82, 29],\n",
       "       [38, 17, 42, 89, 74, 95],\n",
       "       [45, 56, 19, 83, 59, 47]])"
      ]
     },
     "execution_count": 142,
     "metadata": {},
     "output_type": "execute_result"
    }
   ],
   "source": [
    "mat2[:-2]"
   ]
  },
  {
   "cell_type": "code",
   "execution_count": 143,
   "id": "a4e9f725",
   "metadata": {},
   "outputs": [
    {
     "data": {
      "text/plain": [
       "array([[54, 75, 67, 33, 71, 72],\n",
       "       [52, 72, 74, 78, 23, 32]])"
      ]
     },
     "execution_count": 143,
     "metadata": {},
     "output_type": "execute_result"
    }
   ],
   "source": [
    "mat2[-2:]"
   ]
  },
  {
   "cell_type": "code",
   "execution_count": 144,
   "id": "168040eb",
   "metadata": {},
   "outputs": [
    {
     "data": {
      "text/plain": [
       "array([[21],\n",
       "       [17],\n",
       "       [56],\n",
       "       [75],\n",
       "       [72]])"
      ]
     },
     "execution_count": 144,
     "metadata": {},
     "output_type": "execute_result"
    }
   ],
   "source": [
    "mat2[:,1:2]"
   ]
  },
  {
   "cell_type": "code",
   "execution_count": 145,
   "id": "fe6b8457",
   "metadata": {},
   "outputs": [
    {
     "data": {
      "text/plain": [
       "array([[31, 65],\n",
       "       [42, 89],\n",
       "       [19, 83],\n",
       "       [67, 33],\n",
       "       [74, 78]])"
      ]
     },
     "execution_count": 145,
     "metadata": {},
     "output_type": "execute_result"
    }
   ],
   "source": [
    "mat2[:,-4:-2]"
   ]
  },
  {
   "cell_type": "code",
   "execution_count": 146,
   "id": "8416e707",
   "metadata": {},
   "outputs": [
    {
     "data": {
      "text/plain": [
       "array([[71, 72],\n",
       "       [23, 32]])"
      ]
     },
     "execution_count": 146,
     "metadata": {},
     "output_type": "execute_result"
    }
   ],
   "source": [
    "mat2[-2:,-2:]\n"
   ]
  },
  {
   "cell_type": "code",
   "execution_count": 147,
   "id": "7cf08a5c",
   "metadata": {},
   "outputs": [
    {
     "data": {
      "text/plain": [
       "array([[29, 21, 31, 65, 82, 29],\n",
       "       [38, 17, 42, 89, 74, 95],\n",
       "       [45, 56, 19, 83, 59, 47],\n",
       "       [54, 75, 67, 33, 71, 72],\n",
       "       [52, 72, 74, 78, 23, 32]])"
      ]
     },
     "execution_count": 147,
     "metadata": {},
     "output_type": "execute_result"
    }
   ],
   "source": [
    "mat2"
   ]
  },
  {
   "cell_type": "markdown",
   "id": "918b6ed6",
   "metadata": {},
   "source": []
  },
  {
   "cell_type": "code",
   "execution_count": 150,
   "id": "023c41eb",
   "metadata": {},
   "outputs": [
    {
     "data": {
      "text/plain": [
       "array([[29, 65],\n",
       "       [38, 89],\n",
       "       [45, 83],\n",
       "       [54, 33],\n",
       "       [52, 78]])"
      ]
     },
     "execution_count": 150,
     "metadata": {},
     "output_type": "execute_result"
    }
   ],
   "source": [
    "mat2[:,::3]"
   ]
  },
  {
   "cell_type": "code",
   "execution_count": 151,
   "id": "2f2da31d",
   "metadata": {},
   "outputs": [
    {
     "data": {
      "text/plain": [
       "array([[29, 21, 31, 65, 82, 29],\n",
       "       [45, 56, 19, 83, 59, 47],\n",
       "       [52, 72, 74, 78, 23, 32]])"
      ]
     },
     "execution_count": 151,
     "metadata": {},
     "output_type": "execute_result"
    }
   ],
   "source": [
    "mat2[::2,:]"
   ]
  },
  {
   "cell_type": "code",
   "execution_count": 152,
   "id": "c69e2bbc",
   "metadata": {},
   "outputs": [
    {
     "data": {
      "text/plain": [
       "array([[29, 65],\n",
       "       [45, 83],\n",
       "       [52, 78]])"
      ]
     },
     "execution_count": 152,
     "metadata": {},
     "output_type": "execute_result"
    }
   ],
   "source": [
    "mat2[::2,::3]"
   ]
  },
  {
   "cell_type": "code",
   "execution_count": 154,
   "id": "5aec1c80",
   "metadata": {},
   "outputs": [
    {
     "name": "stdout",
     "output_type": "stream",
     "text": [
      "[[29 21 31 65 82 29]\n",
      " [52 72 74 78 23 32]\n",
      " [52 72 74 78 23 32]\n",
      " [54 75 67 33 71 72]]\n"
     ]
    },
    {
     "data": {
      "text/plain": [
       "array([71])"
      ]
     },
     "execution_count": 154,
     "metadata": {},
     "output_type": "execute_result"
    }
   ],
   "source": [
    "print(mat2[[0,-1,4,3],:])\n",
    "mat2[[-2],[-2]]"
   ]
  },
  {
   "cell_type": "code",
   "execution_count": 153,
   "id": "4c582c56",
   "metadata": {},
   "outputs": [
    {
     "data": {
      "text/plain": [
       "array([[29, 21, 31, 65, 82, 29],\n",
       "       [38, 17, 42, 89, 74, 95],\n",
       "       [45, 56, 19, 83, 59, 47],\n",
       "       [54, 75, 67, 33, 71, 72],\n",
       "       [52, 72, 74, 78, 23, 32]])"
      ]
     },
     "execution_count": 153,
     "metadata": {},
     "output_type": "execute_result"
    }
   ],
   "source": [
    "mat2\n"
   ]
  },
  {
   "cell_type": "code",
   "execution_count": 155,
   "id": "49c5a88b",
   "metadata": {},
   "outputs": [
    {
     "data": {
      "text/plain": [
       "array([[[74, 63, 88, 58, 33],\n",
       "        [89, 43, 41, 75, 14],\n",
       "        [69, 44, 80, 15, 39],\n",
       "        [14, 79, 76, 15, 24]],\n",
       "\n",
       "       [[61, 87, 88, 56, 23],\n",
       "        [56, 95, 25, 52, 56],\n",
       "        [55, 96, 48, 46, 18],\n",
       "        [73, 54, 87, 74, 89]]])"
      ]
     },
     "execution_count": 155,
     "metadata": {},
     "output_type": "execute_result"
    }
   ],
   "source": [
    "import numpy as np\n",
    "mat3=np.random.randint(10,100,40).reshape(2,4,5)\n",
    "mat3"
   ]
  },
  {
   "cell_type": "code",
   "execution_count": 156,
   "id": "6b61c5f8",
   "metadata": {},
   "outputs": [
    {
     "data": {
      "text/plain": [
       "array([[74, 63, 88, 58, 33],\n",
       "       [89, 43, 41, 75, 14],\n",
       "       [69, 44, 80, 15, 39],\n",
       "       [14, 79, 76, 15, 24]])"
      ]
     },
     "execution_count": 156,
     "metadata": {},
     "output_type": "execute_result"
    }
   ],
   "source": [
    "mat3[0]"
   ]
  },
  {
   "cell_type": "code",
   "execution_count": 157,
   "id": "85d23298",
   "metadata": {},
   "outputs": [
    {
     "data": {
      "text/plain": [
       "array([[61, 87, 88, 56, 23],\n",
       "       [56, 95, 25, 52, 56],\n",
       "       [55, 96, 48, 46, 18],\n",
       "       [73, 54, 87, 74, 89]])"
      ]
     },
     "execution_count": 157,
     "metadata": {},
     "output_type": "execute_result"
    }
   ],
   "source": [
    "mat3[1]"
   ]
  },
  {
   "cell_type": "code",
   "execution_count": 158,
   "id": "adb8add4",
   "metadata": {},
   "outputs": [
    {
     "data": {
      "text/plain": [
       "array([[58, 33],\n",
       "       [75, 14],\n",
       "       [15, 39],\n",
       "       [15, 24]])"
      ]
     },
     "execution_count": 158,
     "metadata": {},
     "output_type": "execute_result"
    }
   ],
   "source": [
    "mat3[0,:,-2:]"
   ]
  },
  {
   "cell_type": "code",
   "execution_count": 159,
   "id": "2f511a0e",
   "metadata": {},
   "outputs": [
    {
     "data": {
      "text/plain": [
       "array([[61, 87, 88, 56, 23],\n",
       "       [56, 95, 25, 52, 56]])"
      ]
     },
     "execution_count": 159,
     "metadata": {},
     "output_type": "execute_result"
    }
   ],
   "source": [
    "mat3[1,:2,:]"
   ]
  },
  {
   "cell_type": "code",
   "execution_count": 160,
   "id": "2c4ced12",
   "metadata": {},
   "outputs": [
    {
     "data": {
      "text/plain": [
       "array([[[58, 33],\n",
       "        [75, 14],\n",
       "        [15, 39],\n",
       "        [15, 24]],\n",
       "\n",
       "       [[56, 23],\n",
       "        [52, 56],\n",
       "        [46, 18],\n",
       "        [74, 89]]])"
      ]
     },
     "execution_count": 160,
     "metadata": {},
     "output_type": "execute_result"
    }
   ],
   "source": [
    "mat3[:,:,-2:]"
   ]
  },
  {
   "cell_type": "code",
   "execution_count": 161,
   "id": "39c49ae2",
   "metadata": {},
   "outputs": [
    {
     "data": {
      "text/plain": [
       "array([[[69, 44, 80, 15, 39],\n",
       "        [14, 79, 76, 15, 24]],\n",
       "\n",
       "       [[55, 96, 48, 46, 18],\n",
       "        [73, 54, 87, 74, 89]]])"
      ]
     },
     "execution_count": 161,
     "metadata": {},
     "output_type": "execute_result"
    }
   ],
   "source": [
    "mat3[:,-2:,:]"
   ]
  },
  {
   "cell_type": "code",
   "execution_count": 162,
   "id": "6bcfff54",
   "metadata": {},
   "outputs": [
    {
     "data": {
      "text/plain": [
       "array([[[15, 39],\n",
       "        [15, 24]],\n",
       "\n",
       "       [[46, 18],\n",
       "        [74, 89]]])"
      ]
     },
     "execution_count": 162,
     "metadata": {},
     "output_type": "execute_result"
    }
   ],
   "source": [
    "mat3[:,-2:,-2:]"
   ]
  },
  {
   "cell_type": "code",
   "execution_count": 163,
   "id": "1b8bd652",
   "metadata": {},
   "outputs": [],
   "source": [
    "# vastack, hstack,columnstack"
   ]
  },
  {
   "cell_type": "code",
   "execution_count": 164,
   "id": "563fbfce",
   "metadata": {},
   "outputs": [
    {
     "name": "stdout",
     "output_type": "stream",
     "text": [
      "[31 74 19 77 66 90 35] [44 97 47 44 48 55 44] [95 90 84 72 30 33 69] [15 64 80 76 43 36 14]\n"
     ]
    }
   ],
   "source": [
    "a1=np.random.randint(10,100,7)\n",
    "a2=np.random.randint(10,100,7)\n",
    "a3=np.random.randint(10,100,7)\n",
    "a4=np.random.randint(10,100,7)\n",
    "print(a1,a2,a3,a4)"
   ]
  },
  {
   "cell_type": "code",
   "execution_count": 165,
   "id": "a929b2b2",
   "metadata": {},
   "outputs": [
    {
     "name": "stdout",
     "output_type": "stream",
     "text": [
      "[[31 74 19 77 66 90 35]\n",
      " [44 97 47 44 48 55 44]\n",
      " [95 90 84 72 30 33 69]\n",
      " [15 64 80 76 43 36 14]]\n"
     ]
    },
    {
     "data": {
      "text/plain": [
       "(4, 7)"
      ]
     },
     "execution_count": 165,
     "metadata": {},
     "output_type": "execute_result"
    }
   ],
   "source": [
    "a=np.vstack((a1,a2,a3,a4))\n",
    "print(a)\n",
    "a.shape"
   ]
  },
  {
   "cell_type": "code",
   "execution_count": 166,
   "id": "d2489d14",
   "metadata": {},
   "outputs": [
    {
     "data": {
      "text/plain": [
       "array([31, 74, 19, 77, 66, 90, 35])"
      ]
     },
     "execution_count": 166,
     "metadata": {},
     "output_type": "execute_result"
    }
   ],
   "source": [
    "a1"
   ]
  },
  {
   "cell_type": "code",
   "execution_count": 167,
   "id": "99b2ba9f",
   "metadata": {},
   "outputs": [
    {
     "name": "stdout",
     "output_type": "stream",
     "text": [
      "[31 74 19 77 66 90 35 44 97 47 44 48 55 44 95 90 84 72 30 33 69 15 64 80\n",
      " 76 43 36 14]\n"
     ]
    },
    {
     "data": {
      "text/plain": [
       "(28,)"
      ]
     },
     "execution_count": 167,
     "metadata": {},
     "output_type": "execute_result"
    }
   ],
   "source": [
    "b=np.hstack((a1,a2,a3,a4))\n",
    "print(b)\n",
    "b.shape"
   ]
  },
  {
   "cell_type": "code",
   "execution_count": 168,
   "id": "408e4c4b",
   "metadata": {},
   "outputs": [
    {
     "data": {
      "text/plain": [
       "array([[31, 44, 95, 15],\n",
       "       [74, 97, 90, 64],\n",
       "       [19, 47, 84, 80],\n",
       "       [77, 44, 72, 76],\n",
       "       [66, 48, 30, 43],\n",
       "       [90, 55, 33, 36],\n",
       "       [35, 44, 69, 14]])"
      ]
     },
     "execution_count": 168,
     "metadata": {},
     "output_type": "execute_result"
    }
   ],
   "source": [
    "a=np.column_stack((a1,a2,a3,a4))\n",
    "a"
   ]
  },
  {
   "cell_type": "code",
   "execution_count": 119,
   "id": "abf26de7",
   "metadata": {},
   "outputs": [],
   "source": [
    "# intersect-1D and setdiff-1D"
   ]
  },
  {
   "cell_type": "code",
   "execution_count": 169,
   "id": "229968a5",
   "metadata": {},
   "outputs": [],
   "source": [
    "a1=np.random.randint(10,15,20)\n",
    "a2=np.random.randint(13,20,20)"
   ]
  },
  {
   "cell_type": "code",
   "execution_count": 170,
   "id": "6803fbba",
   "metadata": {},
   "outputs": [
    {
     "data": {
      "text/plain": [
       "array([12, 12, 14, 14, 13, 11, 12, 13, 14, 10, 11, 12, 11, 14, 12, 12, 14,\n",
       "       12, 10, 11])"
      ]
     },
     "execution_count": 170,
     "metadata": {},
     "output_type": "execute_result"
    }
   ],
   "source": [
    "a1"
   ]
  },
  {
   "cell_type": "code",
   "execution_count": 171,
   "id": "8d320c77",
   "metadata": {},
   "outputs": [
    {
     "data": {
      "text/plain": [
       "array([13, 13, 13, 17, 16, 19, 15, 16, 16, 17, 14, 19, 18, 14, 14, 16, 13,\n",
       "       18, 18, 15])"
      ]
     },
     "execution_count": 171,
     "metadata": {},
     "output_type": "execute_result"
    }
   ],
   "source": [
    "a2"
   ]
  },
  {
   "cell_type": "code",
   "execution_count": 172,
   "id": "76d315bf",
   "metadata": {},
   "outputs": [
    {
     "data": {
      "text/plain": [
       "array([13, 14])"
      ]
     },
     "execution_count": 172,
     "metadata": {},
     "output_type": "execute_result"
    }
   ],
   "source": [
    "np.intersect1d(a1,a2)"
   ]
  },
  {
   "cell_type": "code",
   "execution_count": 173,
   "id": "8c6e69d3",
   "metadata": {},
   "outputs": [
    {
     "data": {
      "text/plain": [
       "array([10, 11, 12, 13, 14])"
      ]
     },
     "execution_count": 173,
     "metadata": {},
     "output_type": "execute_result"
    }
   ],
   "source": [
    "np.unique(a1)"
   ]
  },
  {
   "cell_type": "code",
   "execution_count": 174,
   "id": "a51882a2",
   "metadata": {},
   "outputs": [
    {
     "data": {
      "text/plain": [
       "array([13, 14, 15, 16, 17, 18, 19])"
      ]
     },
     "execution_count": 174,
     "metadata": {},
     "output_type": "execute_result"
    }
   ],
   "source": [
    "np.unique(a2)"
   ]
  },
  {
   "cell_type": "code",
   "execution_count": 175,
   "id": "8669cb4c",
   "metadata": {},
   "outputs": [
    {
     "data": {
      "text/plain": [
       "array([10, 11, 12])"
      ]
     },
     "execution_count": 175,
     "metadata": {},
     "output_type": "execute_result"
    }
   ],
   "source": [
    "np.setdiff1d(a1,a2)"
   ]
  },
  {
   "cell_type": "code",
   "execution_count": 176,
   "id": "f311572e",
   "metadata": {},
   "outputs": [
    {
     "data": {
      "text/plain": [
       "array([15, 16, 17, 18, 19])"
      ]
     },
     "execution_count": 176,
     "metadata": {},
     "output_type": "execute_result"
    }
   ],
   "source": [
    "np.setdiff1d(a2,a1)"
   ]
  },
  {
   "cell_type": "markdown",
   "id": "dad503c2",
   "metadata": {},
   "source": [
    " # Array arithmaric"
   ]
  },
  {
   "cell_type": "code",
   "execution_count": 128,
   "id": "143d036e",
   "metadata": {},
   "outputs": [
    {
     "data": {
      "text/plain": [
       "array([19, 16, 16, 17, 16, 16, 18, 20, 16, 20, 16, 16, 18, 16, 17, 19, 17,\n",
       "       19, 19, 18])"
      ]
     },
     "execution_count": 128,
     "metadata": {},
     "output_type": "execute_result"
    }
   ],
   "source": [
    "a1+6"
   ]
  },
  {
   "cell_type": "code",
   "execution_count": 177,
   "id": "95e91592",
   "metadata": {},
   "outputs": [
    {
     "name": "stdout",
     "output_type": "stream",
     "text": [
      "[25 25 27 31 29 30 27 29 30 27 25 31 29 28 26 28 27 30 28 26]\n",
      "[12 12 14 14 13 11 12 13 14 10 11 12 11 14 12 12 14 12 10 11] [13 13 13 17 16 19 15 16 16 17 14 19 18 14 14 16 13 18 18 15]\n"
     ]
    }
   ],
   "source": [
    "print(a1+a2)\n",
    "print(a1,a2)"
   ]
  },
  {
   "cell_type": "code",
   "execution_count": 178,
   "id": "699f6ef9",
   "metadata": {},
   "outputs": [
    {
     "data": {
      "text/plain": [
       "558"
      ]
     },
     "execution_count": 178,
     "metadata": {},
     "output_type": "execute_result"
    }
   ],
   "source": [
    "np.sum((a1,a2))"
   ]
  },
  {
   "cell_type": "code",
   "execution_count": 179,
   "id": "e9fab894",
   "metadata": {},
   "outputs": [
    {
     "data": {
      "text/plain": [
       "array([25, 25, 27, 31, 29, 30, 27, 29, 30, 27, 25, 31, 29, 28, 26, 28, 27,\n",
       "       30, 28, 26])"
      ]
     },
     "execution_count": 179,
     "metadata": {},
     "output_type": "execute_result"
    }
   ],
   "source": [
    "np.sum((a1,a2),axis=0)"
   ]
  },
  {
   "cell_type": "code",
   "execution_count": 180,
   "id": "f5abbb36",
   "metadata": {},
   "outputs": [
    {
     "data": {
      "text/plain": [
       "array([12, 12, 14, 14, 13, 11, 12, 13, 14, 10, 11, 12, 11, 14, 12, 12, 14,\n",
       "       12, 10, 11])"
      ]
     },
     "execution_count": 180,
     "metadata": {},
     "output_type": "execute_result"
    }
   ],
   "source": [
    "a1"
   ]
  },
  {
   "cell_type": "code",
   "execution_count": 181,
   "id": "055a7dc2",
   "metadata": {},
   "outputs": [
    {
     "data": {
      "text/plain": [
       "array([13, 13, 13, 17, 16, 19, 15, 16, 16, 17, 14, 19, 18, 14, 14, 16, 13,\n",
       "       18, 18, 15])"
      ]
     },
     "execution_count": 181,
     "metadata": {},
     "output_type": "execute_result"
    }
   ],
   "source": [
    "a2"
   ]
  },
  {
   "cell_type": "code",
   "execution_count": 182,
   "id": "50a5a8b9",
   "metadata": {},
   "outputs": [
    {
     "data": {
      "text/plain": [
       "array([244, 314])"
      ]
     },
     "execution_count": 182,
     "metadata": {},
     "output_type": "execute_result"
    }
   ],
   "source": [
    "np.sum((a1,a2),axis=1)"
   ]
  },
  {
   "cell_type": "code",
   "execution_count": 183,
   "id": "f964a514",
   "metadata": {},
   "outputs": [
    {
     "data": {
      "text/plain": [
       "array([ 9,  9, 11, 11, 10,  8,  9, 10, 11,  7,  8,  9,  8, 11,  9,  9, 11,\n",
       "        9,  7,  8])"
      ]
     },
     "execution_count": 183,
     "metadata": {},
     "output_type": "execute_result"
    }
   ],
   "source": [
    "a1-3"
   ]
  },
  {
   "cell_type": "code",
   "execution_count": 184,
   "id": "9cc50c67",
   "metadata": {},
   "outputs": [
    {
     "data": {
      "text/plain": [
       "array([-1, -1,  1, -3, -3, -8, -3, -3, -2, -7, -3, -7, -7,  0, -2, -4,  1,\n",
       "       -6, -8, -4])"
      ]
     },
     "execution_count": 184,
     "metadata": {},
     "output_type": "execute_result"
    }
   ],
   "source": [
    "a1-a2"
   ]
  },
  {
   "cell_type": "code",
   "execution_count": 185,
   "id": "1e0a501b",
   "metadata": {},
   "outputs": [
    {
     "data": {
      "text/plain": [
       "array([-1, -1,  1, -3, -3, -8, -3, -3, -2, -7, -3, -7, -7,  0, -2, -4,  1,\n",
       "       -6, -8, -4])"
      ]
     },
     "execution_count": 185,
     "metadata": {},
     "output_type": "execute_result"
    }
   ],
   "source": [
    "np.subtract(a1,a2)"
   ]
  },
  {
   "cell_type": "code",
   "execution_count": 186,
   "id": "61dcb4e2",
   "metadata": {},
   "outputs": [
    {
     "data": {
      "text/plain": [
       "array([[ 1,  1, -1,  3,  3,  8,  3,  3,  2,  7,  3,  7,  7,  0,  2,  4,\n",
       "        -1,  6,  8,  4]])"
      ]
     },
     "execution_count": 186,
     "metadata": {},
     "output_type": "execute_result"
    }
   ],
   "source": [
    "np.diff((a1,a2),axis=0) # a2-a1"
   ]
  },
  {
   "cell_type": "code",
   "execution_count": 187,
   "id": "37271bb2",
   "metadata": {},
   "outputs": [
    {
     "data": {
      "text/plain": [
       "array([[ 0,  2,  0, -1, -2,  1,  1,  1, -4,  1,  1, -1,  3, -2,  0,  2,\n",
       "        -2, -2,  1],\n",
       "       [ 0,  0,  4, -1,  3, -4,  1,  0,  1, -3,  5, -1, -4,  0,  2, -3,\n",
       "         5,  0, -3]])"
      ]
     },
     "execution_count": 187,
     "metadata": {},
     "output_type": "execute_result"
    }
   ],
   "source": [
    "np.diff((a1,a2),axis=1) # a2-a1"
   ]
  },
  {
   "cell_type": "code",
   "execution_count": 188,
   "id": "17c00788",
   "metadata": {},
   "outputs": [],
   "source": [
    "# multiply"
   ]
  },
  {
   "cell_type": "code",
   "execution_count": 189,
   "id": "bd176040",
   "metadata": {},
   "outputs": [
    {
     "data": {
      "text/plain": [
       "array([12, 12, 14, 14, 13, 11, 12, 13, 14, 10, 11, 12, 11, 14, 12, 12, 14,\n",
       "       12, 10, 11])"
      ]
     },
     "execution_count": 189,
     "metadata": {},
     "output_type": "execute_result"
    }
   ],
   "source": [
    "a1"
   ]
  },
  {
   "cell_type": "code",
   "execution_count": 190,
   "id": "1442fd53",
   "metadata": {},
   "outputs": [
    {
     "data": {
      "text/plain": [
       "array([13, 13, 13, 17, 16, 19, 15, 16, 16, 17, 14, 19, 18, 14, 14, 16, 13,\n",
       "       18, 18, 15])"
      ]
     },
     "execution_count": 190,
     "metadata": {},
     "output_type": "execute_result"
    }
   ],
   "source": [
    "a2"
   ]
  },
  {
   "cell_type": "code",
   "execution_count": 191,
   "id": "1799cf92",
   "metadata": {},
   "outputs": [
    {
     "data": {
      "text/plain": [
       "array([156, 156, 182, 238, 208, 209, 180, 208, 224, 170, 154, 228, 198,\n",
       "       196, 168, 192, 182, 216, 180, 165])"
      ]
     },
     "execution_count": 191,
     "metadata": {},
     "output_type": "execute_result"
    }
   ],
   "source": [
    "np.multiply(a1,a2)"
   ]
  },
  {
   "cell_type": "code",
   "execution_count": 192,
   "id": "9723784f",
   "metadata": {},
   "outputs": [
    {
     "data": {
      "text/plain": [
       "array([[8, 1, 8, 3],\n",
       "       [3, 4, 3, 6],\n",
       "       [7, 7, 1, 5],\n",
       "       [7, 2, 6, 8],\n",
       "       [2, 8, 5, 7]])"
      ]
     },
     "execution_count": 192,
     "metadata": {},
     "output_type": "execute_result"
    }
   ],
   "source": [
    "mat1=np.random.randint(1,10,20).reshape(5,4)\n",
    "mat1\n"
   ]
  },
  {
   "cell_type": "code",
   "execution_count": 193,
   "id": "fec5293a",
   "metadata": {},
   "outputs": [
    {
     "data": {
      "text/plain": [
       "array([[108, 101, 108, 103],\n",
       "       [103, 104, 103, 106],\n",
       "       [107, 107, 101, 105],\n",
       "       [107, 102, 106, 108],\n",
       "       [102, 108, 105, 107]])"
      ]
     },
     "execution_count": 193,
     "metadata": {},
     "output_type": "execute_result"
    }
   ],
   "source": [
    "mat1+100"
   ]
  },
  {
   "cell_type": "code",
   "execution_count": null,
   "id": "9684aed7",
   "metadata": {},
   "outputs": [],
   "source": [
    "mat2=np.random.randint(10,30,20).reshape(5,4)\n",
    "mat2"
   ]
  },
  {
   "cell_type": "code",
   "execution_count": 146,
   "id": "78e8c677",
   "metadata": {},
   "outputs": [
    {
     "ename": "ValueError",
     "evalue": "operands could not be broadcast together with shapes (5,4) (5,6) ",
     "output_type": "error",
     "traceback": [
      "\u001b[1;31m---------------------------------------------------------------------------\u001b[0m",
      "\u001b[1;31mValueError\u001b[0m                                Traceback (most recent call last)",
      "Input \u001b[1;32mIn [146]\u001b[0m, in \u001b[0;36m<cell line: 1>\u001b[1;34m()\u001b[0m\n\u001b[1;32m----> 1\u001b[0m \u001b[43mnp\u001b[49m\u001b[38;5;241;43m.\u001b[39;49m\u001b[43mmultiply\u001b[49m\u001b[43m(\u001b[49m\u001b[43mmat1\u001b[49m\u001b[43m,\u001b[49m\u001b[43mmat2\u001b[49m\u001b[43m)\u001b[49m\n",
      "\u001b[1;31mValueError\u001b[0m: operands could not be broadcast together with shapes (5,4) (5,6) "
     ]
    }
   ],
   "source": [
    "np.multiply(mat1,mat2)"
   ]
  },
  {
   "cell_type": "code",
   "execution_count": null,
   "id": "dea2e408",
   "metadata": {},
   "outputs": [],
   "source": [
    "np.divide(mat1,mat2)"
   ]
  },
  {
   "cell_type": "code",
   "execution_count": null,
   "id": "7f39d09e",
   "metadata": {},
   "outputs": [],
   "source": [
    "mat2/2"
   ]
  },
  {
   "cell_type": "code",
   "execution_count": null,
   "id": "29078665",
   "metadata": {},
   "outputs": [],
   "source": [
    "mat2//10"
   ]
  },
  {
   "cell_type": "code",
   "execution_count": null,
   "id": "1e5cf7b3",
   "metadata": {},
   "outputs": [],
   "source": [
    "np.power(mat2,2)"
   ]
  },
  {
   "cell_type": "code",
   "execution_count": null,
   "id": "549abd89",
   "metadata": {},
   "outputs": [],
   "source": [
    "# saving a numpy file"
   ]
  },
  {
   "cell_type": "code",
   "execution_count": null,
   "id": "551831f5",
   "metadata": {},
   "outputs": [],
   "source": [
    "np.save('matrix2',mat2) # extension .npy"
   ]
  },
  {
   "cell_type": "code",
   "execution_count": null,
   "id": "ed52dedb",
   "metadata": {},
   "outputs": [],
   "source": [
    "var1=np.save('matrix1',mat1)"
   ]
  },
  {
   "cell_type": "code",
   "execution_count": null,
   "id": "f6cf9de8",
   "metadata": {},
   "outputs": [],
   "source": [
    "import os\n",
    "os.getcwd()"
   ]
  },
  {
   "cell_type": "code",
   "execution_count": null,
   "id": "48aa51d6",
   "metadata": {},
   "outputs": [],
   "source": []
  }
 ],
 "metadata": {
  "kernelspec": {
   "display_name": "Python 3 (ipykernel)",
   "language": "python",
   "name": "python3"
  },
  "language_info": {
   "codemirror_mode": {
    "name": "ipython",
    "version": 3
   },
   "file_extension": ".py",
   "mimetype": "text/x-python",
   "name": "python",
   "nbconvert_exporter": "python",
   "pygments_lexer": "ipython3",
   "version": "3.9.13"
  }
 },
 "nbformat": 4,
 "nbformat_minor": 5
}
