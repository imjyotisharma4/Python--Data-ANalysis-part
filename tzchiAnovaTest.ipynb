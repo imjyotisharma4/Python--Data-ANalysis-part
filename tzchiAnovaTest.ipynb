{
 "cells": [
  {
   "cell_type": "code",
   "execution_count": 2,
   "id": "99851287",
   "metadata": {},
   "outputs": [],
   "source": [
    "from scipy import stats\n",
    "import pandas as pd\n",
    "import seaborn as sns\n",
    "import numpy as np\n",
    "import matplotlib.pyplot as plt"
   ]
  },
  {
   "cell_type": "code",
   "execution_count": 3,
   "id": "04658ff4",
   "metadata": {},
   "outputs": [
    {
     "data": {
      "text/html": [
       "<div>\n",
       "<style scoped>\n",
       "    .dataframe tbody tr th:only-of-type {\n",
       "        vertical-align: middle;\n",
       "    }\n",
       "\n",
       "    .dataframe tbody tr th {\n",
       "        vertical-align: top;\n",
       "    }\n",
       "\n",
       "    .dataframe thead th {\n",
       "        text-align: right;\n",
       "    }\n",
       "</style>\n",
       "<table border=\"1\" class=\"dataframe\">\n",
       "  <thead>\n",
       "    <tr style=\"text-align: right;\">\n",
       "      <th></th>\n",
       "      <th>sepal_length</th>\n",
       "      <th>sepal_width</th>\n",
       "      <th>petal_length</th>\n",
       "      <th>petal_width</th>\n",
       "      <th>species</th>\n",
       "    </tr>\n",
       "  </thead>\n",
       "  <tbody>\n",
       "    <tr>\n",
       "      <th>0</th>\n",
       "      <td>5.1</td>\n",
       "      <td>3.5</td>\n",
       "      <td>1.4</td>\n",
       "      <td>0.2</td>\n",
       "      <td>setosa</td>\n",
       "    </tr>\n",
       "    <tr>\n",
       "      <th>1</th>\n",
       "      <td>4.9</td>\n",
       "      <td>3.0</td>\n",
       "      <td>1.4</td>\n",
       "      <td>0.2</td>\n",
       "      <td>setosa</td>\n",
       "    </tr>\n",
       "    <tr>\n",
       "      <th>2</th>\n",
       "      <td>4.7</td>\n",
       "      <td>3.2</td>\n",
       "      <td>1.3</td>\n",
       "      <td>0.2</td>\n",
       "      <td>setosa</td>\n",
       "    </tr>\n",
       "    <tr>\n",
       "      <th>3</th>\n",
       "      <td>4.6</td>\n",
       "      <td>3.1</td>\n",
       "      <td>1.5</td>\n",
       "      <td>0.2</td>\n",
       "      <td>setosa</td>\n",
       "    </tr>\n",
       "    <tr>\n",
       "      <th>4</th>\n",
       "      <td>5.0</td>\n",
       "      <td>3.6</td>\n",
       "      <td>1.4</td>\n",
       "      <td>0.2</td>\n",
       "      <td>setosa</td>\n",
       "    </tr>\n",
       "  </tbody>\n",
       "</table>\n",
       "</div>"
      ],
      "text/plain": [
       "   sepal_length  sepal_width  petal_length  petal_width species\n",
       "0           5.1          3.5           1.4          0.2  setosa\n",
       "1           4.9          3.0           1.4          0.2  setosa\n",
       "2           4.7          3.2           1.3          0.2  setosa\n",
       "3           4.6          3.1           1.5          0.2  setosa\n",
       "4           5.0          3.6           1.4          0.2  setosa"
      ]
     },
     "execution_count": 3,
     "metadata": {},
     "output_type": "execute_result"
    }
   ],
   "source": [
    "# import the data\n",
    "df= sns.load_dataset(\"iris\")\n",
    "df.head()"
   ]
  },
  {
   "cell_type": "code",
   "execution_count": 6,
   "id": "2f37e543",
   "metadata": {},
   "outputs": [
    {
     "data": {
      "text/plain": [
       "setosa        50\n",
       "versicolor    50\n",
       "virginica     50\n",
       "Name: species, dtype: int64"
      ]
     },
     "execution_count": 6,
     "metadata": {},
     "output_type": "execute_result"
    }
   ],
   "source": [
    "df.tail()\n",
    "df['species'].value_counts()"
   ]
  },
  {
   "cell_type": "code",
   "execution_count": 9,
   "id": "087ef873",
   "metadata": {},
   "outputs": [
    {
     "data": {
      "text/plain": [
       "(50, 5)"
      ]
     },
     "execution_count": 9,
     "metadata": {},
     "output_type": "execute_result"
    }
   ],
   "source": [
    "setosa = df[(df['species'] == 'setosa')]\n",
    "setosa.shape"
   ]
  },
  {
   "cell_type": "code",
   "execution_count": 10,
   "id": "ae6868a4",
   "metadata": {},
   "outputs": [],
   "source": [
    "#df[(df['species'] == 'setosa')]\n"
   ]
  },
  {
   "cell_type": "code",
   "execution_count": 11,
   "id": "75ed9679",
   "metadata": {},
   "outputs": [
    {
     "data": {
      "text/plain": [
       "(50, 5)"
      ]
     },
     "execution_count": 11,
     "metadata": {},
     "output_type": "execute_result"
    }
   ],
   "source": [
    "versicolor = df[(df['species'] == 'versicolor')]\n",
    "versicolor.shape"
   ]
  },
  {
   "cell_type": "code",
   "execution_count": 61,
   "id": "edce6b18",
   "metadata": {},
   "outputs": [],
   "source": [
    "setosa['sepal_width']=setosa['sepal_width'].sample(28)\n",
    "versicolor['sepal_width']=versicolor['sepal_width'].sample(28)"
   ]
  },
  {
   "cell_type": "code",
   "execution_count": 14,
   "id": "ebb7042a",
   "metadata": {},
   "outputs": [],
   "source": [
    "#setosa['sepal_width'].sample(28)"
   ]
  },
  {
   "cell_type": "code",
   "execution_count": 60,
   "id": "62b37f17",
   "metadata": {},
   "outputs": [
    {
     "name": "stdout",
     "output_type": "stream",
     "text": [
      "3.528571428571428\n",
      "2.742857142857143\n"
     ]
    }
   ],
   "source": [
    "print(np.mean(setosa['sepal_width']))\n",
    "print(np.mean(versicolor['sepal_width']))"
   ]
  },
  {
   "cell_type": "code",
   "execution_count": 16,
   "id": "63f0ab71",
   "metadata": {},
   "outputs": [],
   "source": [
    "H0=\"Mean value of both distributions is same\" #setosa['sepal_width'] & versicolor['sepal_width']\n",
    "H1=\"Mean value is different\""
   ]
  },
  {
   "cell_type": "code",
   "execution_count": 15,
   "id": "e70d4488",
   "metadata": {},
   "outputs": [],
   "source": [
    "tvalue,pvalue=stats.ttest_ind(setosa['sepal_width'], versicolor['sepal_width'])\n"
   ]
  },
  {
   "cell_type": "code",
   "execution_count": 17,
   "id": "123e3eb7",
   "metadata": {},
   "outputs": [
    {
     "data": {
      "text/plain": [
       "1.8452599454769322e-15"
      ]
     },
     "execution_count": 17,
     "metadata": {},
     "output_type": "execute_result"
    }
   ],
   "source": [
    "pvalue"
   ]
  },
  {
   "cell_type": "code",
   "execution_count": 19,
   "id": "a1f80d09",
   "metadata": {},
   "outputs": [
    {
     "data": {
      "text/plain": [
       "9.454975848128596"
      ]
     },
     "execution_count": 19,
     "metadata": {},
     "output_type": "execute_result"
    }
   ],
   "source": [
    "tvalue"
   ]
  },
  {
   "cell_type": "code",
   "execution_count": 18,
   "id": "90164e72",
   "metadata": {},
   "outputs": [
    {
     "name": "stdout",
     "output_type": "stream",
     "text": [
      "Mean value is different\n"
     ]
    }
   ],
   "source": [
    "if pvalue>=0.05:\n",
    "    print(HO)\n",
    "else:\n",
    "    print(H1)"
   ]
  },
  {
   "cell_type": "code",
   "execution_count": null,
   "id": "3b3ef816",
   "metadata": {},
   "outputs": [],
   "source": [
    "print(np.mean(setosa['sepal_width']))\n",
    "print(np.mean(versicolor['sepal_width']))"
   ]
  },
  {
   "cell_type": "code",
   "execution_count": null,
   "id": "9b34950d",
   "metadata": {},
   "outputs": [],
   "source": [
    "# skewness/kurtosis"
   ]
  },
  {
   "cell_type": "code",
   "execution_count": 9,
   "id": "9c2e87ff",
   "metadata": {},
   "outputs": [
    {
     "data": {
      "text/html": [
       "<div>\n",
       "<style scoped>\n",
       "    .dataframe tbody tr th:only-of-type {\n",
       "        vertical-align: middle;\n",
       "    }\n",
       "\n",
       "    .dataframe tbody tr th {\n",
       "        vertical-align: top;\n",
       "    }\n",
       "\n",
       "    .dataframe thead th {\n",
       "        text-align: right;\n",
       "    }\n",
       "</style>\n",
       "<table border=\"1\" class=\"dataframe\">\n",
       "  <thead>\n",
       "    <tr style=\"text-align: right;\">\n",
       "      <th></th>\n",
       "      <th>Id</th>\n",
       "      <th>OverallQual</th>\n",
       "      <th>YearBuilt</th>\n",
       "      <th>TotalBsmtSF</th>\n",
       "      <th>Electrical</th>\n",
       "      <th>GrLivArea</th>\n",
       "      <th>FullBath</th>\n",
       "      <th>GarageType</th>\n",
       "      <th>GarageCars</th>\n",
       "      <th>GarageArea</th>\n",
       "      <th>Fence</th>\n",
       "      <th>MiscFeature</th>\n",
       "      <th>SalePrice</th>\n",
       "    </tr>\n",
       "  </thead>\n",
       "  <tbody>\n",
       "    <tr>\n",
       "      <th>0</th>\n",
       "      <td>1</td>\n",
       "      <td>7</td>\n",
       "      <td>2003</td>\n",
       "      <td>856</td>\n",
       "      <td>SBrkr</td>\n",
       "      <td>1710</td>\n",
       "      <td>2</td>\n",
       "      <td>Attchd</td>\n",
       "      <td>2</td>\n",
       "      <td>548</td>\n",
       "      <td>NaN</td>\n",
       "      <td>NaN</td>\n",
       "      <td>208500</td>\n",
       "    </tr>\n",
       "    <tr>\n",
       "      <th>1</th>\n",
       "      <td>2</td>\n",
       "      <td>6</td>\n",
       "      <td>1976</td>\n",
       "      <td>1262</td>\n",
       "      <td>SBrkr</td>\n",
       "      <td>1262</td>\n",
       "      <td>2</td>\n",
       "      <td>Attchd</td>\n",
       "      <td>2</td>\n",
       "      <td>460</td>\n",
       "      <td>NaN</td>\n",
       "      <td>NaN</td>\n",
       "      <td>181500</td>\n",
       "    </tr>\n",
       "    <tr>\n",
       "      <th>2</th>\n",
       "      <td>3</td>\n",
       "      <td>7</td>\n",
       "      <td>2001</td>\n",
       "      <td>920</td>\n",
       "      <td>SBrkr</td>\n",
       "      <td>1786</td>\n",
       "      <td>2</td>\n",
       "      <td>Attchd</td>\n",
       "      <td>2</td>\n",
       "      <td>608</td>\n",
       "      <td>NaN</td>\n",
       "      <td>NaN</td>\n",
       "      <td>223500</td>\n",
       "    </tr>\n",
       "    <tr>\n",
       "      <th>3</th>\n",
       "      <td>4</td>\n",
       "      <td>7</td>\n",
       "      <td>1915</td>\n",
       "      <td>756</td>\n",
       "      <td>SBrkr</td>\n",
       "      <td>1717</td>\n",
       "      <td>1</td>\n",
       "      <td>Detchd</td>\n",
       "      <td>3</td>\n",
       "      <td>642</td>\n",
       "      <td>NaN</td>\n",
       "      <td>NaN</td>\n",
       "      <td>140000</td>\n",
       "    </tr>\n",
       "    <tr>\n",
       "      <th>4</th>\n",
       "      <td>5</td>\n",
       "      <td>8</td>\n",
       "      <td>2000</td>\n",
       "      <td>1145</td>\n",
       "      <td>SBrkr</td>\n",
       "      <td>2198</td>\n",
       "      <td>2</td>\n",
       "      <td>Attchd</td>\n",
       "      <td>3</td>\n",
       "      <td>836</td>\n",
       "      <td>NaN</td>\n",
       "      <td>NaN</td>\n",
       "      <td>250000</td>\n",
       "    </tr>\n",
       "    <tr>\n",
       "      <th>...</th>\n",
       "      <td>...</td>\n",
       "      <td>...</td>\n",
       "      <td>...</td>\n",
       "      <td>...</td>\n",
       "      <td>...</td>\n",
       "      <td>...</td>\n",
       "      <td>...</td>\n",
       "      <td>...</td>\n",
       "      <td>...</td>\n",
       "      <td>...</td>\n",
       "      <td>...</td>\n",
       "      <td>...</td>\n",
       "      <td>...</td>\n",
       "    </tr>\n",
       "    <tr>\n",
       "      <th>1413</th>\n",
       "      <td>1414</td>\n",
       "      <td>6</td>\n",
       "      <td>1999</td>\n",
       "      <td>953</td>\n",
       "      <td>SBrkr</td>\n",
       "      <td>1647</td>\n",
       "      <td>2</td>\n",
       "      <td>Attchd</td>\n",
       "      <td>2</td>\n",
       "      <td>460</td>\n",
       "      <td>NaN</td>\n",
       "      <td>NaN</td>\n",
       "      <td>175000</td>\n",
       "    </tr>\n",
       "    <tr>\n",
       "      <th>1414</th>\n",
       "      <td>1415</td>\n",
       "      <td>6</td>\n",
       "      <td>1978</td>\n",
       "      <td>1542</td>\n",
       "      <td>SBrkr</td>\n",
       "      <td>2073</td>\n",
       "      <td>2</td>\n",
       "      <td>Attchd</td>\n",
       "      <td>2</td>\n",
       "      <td>500</td>\n",
       "      <td>MnPrv</td>\n",
       "      <td>NaN</td>\n",
       "      <td>210000</td>\n",
       "    </tr>\n",
       "    <tr>\n",
       "      <th>1415</th>\n",
       "      <td>1416</td>\n",
       "      <td>7</td>\n",
       "      <td>1941</td>\n",
       "      <td>1152</td>\n",
       "      <td>SBrkr</td>\n",
       "      <td>2340</td>\n",
       "      <td>2</td>\n",
       "      <td>Attchd</td>\n",
       "      <td>1</td>\n",
       "      <td>252</td>\n",
       "      <td>GdPrv</td>\n",
       "      <td>Shed</td>\n",
       "      <td>266500</td>\n",
       "    </tr>\n",
       "    <tr>\n",
       "      <th>1416</th>\n",
       "      <td>1417</td>\n",
       "      <td>5</td>\n",
       "      <td>1950</td>\n",
       "      <td>1078</td>\n",
       "      <td>FuseA</td>\n",
       "      <td>1078</td>\n",
       "      <td>1</td>\n",
       "      <td>NaN</td>\n",
       "      <td>1</td>\n",
       "      <td>240</td>\n",
       "      <td>NaN</td>\n",
       "      <td>NaN</td>\n",
       "      <td>142125</td>\n",
       "    </tr>\n",
       "    <tr>\n",
       "      <th>1417</th>\n",
       "      <td>1418</td>\n",
       "      <td>5</td>\n",
       "      <td>1965</td>\n",
       "      <td>1256</td>\n",
       "      <td>SBrkr</td>\n",
       "      <td>1256</td>\n",
       "      <td>1</td>\n",
       "      <td>Attchd</td>\n",
       "      <td>1</td>\n",
       "      <td>276</td>\n",
       "      <td>NaN</td>\n",
       "      <td>NaN</td>\n",
       "      <td>147500</td>\n",
       "    </tr>\n",
       "  </tbody>\n",
       "</table>\n",
       "<p>1418 rows × 13 columns</p>\n",
       "</div>"
      ],
      "text/plain": [
       "        Id  OverallQual  YearBuilt  TotalBsmtSF Electrical  GrLivArea  \\\n",
       "0        1            7       2003          856      SBrkr       1710   \n",
       "1        2            6       1976         1262      SBrkr       1262   \n",
       "2        3            7       2001          920      SBrkr       1786   \n",
       "3        4            7       1915          756      SBrkr       1717   \n",
       "4        5            8       2000         1145      SBrkr       2198   \n",
       "...    ...          ...        ...          ...        ...        ...   \n",
       "1413  1414            6       1999          953      SBrkr       1647   \n",
       "1414  1415            6       1978         1542      SBrkr       2073   \n",
       "1415  1416            7       1941         1152      SBrkr       2340   \n",
       "1416  1417            5       1950         1078      FuseA       1078   \n",
       "1417  1418            5       1965         1256      SBrkr       1256   \n",
       "\n",
       "      FullBath GarageType  GarageCars  GarageArea  Fence MiscFeature  \\\n",
       "0            2     Attchd           2         548    NaN         NaN   \n",
       "1            2     Attchd           2         460    NaN         NaN   \n",
       "2            2     Attchd           2         608    NaN         NaN   \n",
       "3            1     Detchd           3         642    NaN         NaN   \n",
       "4            2     Attchd           3         836    NaN         NaN   \n",
       "...        ...        ...         ...         ...    ...         ...   \n",
       "1413         2     Attchd           2         460    NaN         NaN   \n",
       "1414         2     Attchd           2         500  MnPrv         NaN   \n",
       "1415         2     Attchd           1         252  GdPrv        Shed   \n",
       "1416         1        NaN           1         240    NaN         NaN   \n",
       "1417         1     Attchd           1         276    NaN         NaN   \n",
       "\n",
       "      SalePrice  \n",
       "0        208500  \n",
       "1        181500  \n",
       "2        223500  \n",
       "3        140000  \n",
       "4        250000  \n",
       "...         ...  \n",
       "1413     175000  \n",
       "1414     210000  \n",
       "1415     266500  \n",
       "1416     142125  \n",
       "1417     147500  \n",
       "\n",
       "[1418 rows x 13 columns]"
      ]
     },
     "execution_count": 9,
     "metadata": {},
     "output_type": "execute_result"
    }
   ],
   "source": [
    "\n",
    "data = pd.read_csv(\"C:\\\\Users\\\\hp\\\\Documents\\\\DaTa sci\\\\STATISTICS\\\\housing data.csv\")\n",
    "data"
   ]
  },
  {
   "cell_type": "code",
   "execution_count": 10,
   "id": "5feec27f",
   "metadata": {},
   "outputs": [
    {
     "data": {
      "text/html": [
       "<div>\n",
       "<style scoped>\n",
       "    .dataframe tbody tr th:only-of-type {\n",
       "        vertical-align: middle;\n",
       "    }\n",
       "\n",
       "    .dataframe tbody tr th {\n",
       "        vertical-align: top;\n",
       "    }\n",
       "\n",
       "    .dataframe thead th {\n",
       "        text-align: right;\n",
       "    }\n",
       "</style>\n",
       "<table border=\"1\" class=\"dataframe\">\n",
       "  <thead>\n",
       "    <tr style=\"text-align: right;\">\n",
       "      <th></th>\n",
       "      <th>Id</th>\n",
       "      <th>OverallQual</th>\n",
       "      <th>YearBuilt</th>\n",
       "      <th>TotalBsmtSF</th>\n",
       "      <th>Electrical</th>\n",
       "      <th>GrLivArea</th>\n",
       "      <th>FullBath</th>\n",
       "      <th>GarageType</th>\n",
       "      <th>GarageCars</th>\n",
       "      <th>GarageArea</th>\n",
       "      <th>Fence</th>\n",
       "      <th>MiscFeature</th>\n",
       "      <th>SalePrice</th>\n",
       "    </tr>\n",
       "  </thead>\n",
       "  <tbody>\n",
       "    <tr>\n",
       "      <th>0</th>\n",
       "      <td>1</td>\n",
       "      <td>7</td>\n",
       "      <td>2003</td>\n",
       "      <td>856</td>\n",
       "      <td>SBrkr</td>\n",
       "      <td>1710</td>\n",
       "      <td>2</td>\n",
       "      <td>Attchd</td>\n",
       "      <td>2</td>\n",
       "      <td>548</td>\n",
       "      <td>NaN</td>\n",
       "      <td>NaN</td>\n",
       "      <td>208500</td>\n",
       "    </tr>\n",
       "    <tr>\n",
       "      <th>1</th>\n",
       "      <td>2</td>\n",
       "      <td>6</td>\n",
       "      <td>1976</td>\n",
       "      <td>1262</td>\n",
       "      <td>SBrkr</td>\n",
       "      <td>1262</td>\n",
       "      <td>2</td>\n",
       "      <td>Attchd</td>\n",
       "      <td>2</td>\n",
       "      <td>460</td>\n",
       "      <td>NaN</td>\n",
       "      <td>NaN</td>\n",
       "      <td>181500</td>\n",
       "    </tr>\n",
       "    <tr>\n",
       "      <th>2</th>\n",
       "      <td>3</td>\n",
       "      <td>7</td>\n",
       "      <td>2001</td>\n",
       "      <td>920</td>\n",
       "      <td>SBrkr</td>\n",
       "      <td>1786</td>\n",
       "      <td>2</td>\n",
       "      <td>Attchd</td>\n",
       "      <td>2</td>\n",
       "      <td>608</td>\n",
       "      <td>NaN</td>\n",
       "      <td>NaN</td>\n",
       "      <td>223500</td>\n",
       "    </tr>\n",
       "    <tr>\n",
       "      <th>3</th>\n",
       "      <td>4</td>\n",
       "      <td>7</td>\n",
       "      <td>1915</td>\n",
       "      <td>756</td>\n",
       "      <td>SBrkr</td>\n",
       "      <td>1717</td>\n",
       "      <td>1</td>\n",
       "      <td>Detchd</td>\n",
       "      <td>3</td>\n",
       "      <td>642</td>\n",
       "      <td>NaN</td>\n",
       "      <td>NaN</td>\n",
       "      <td>140000</td>\n",
       "    </tr>\n",
       "    <tr>\n",
       "      <th>4</th>\n",
       "      <td>5</td>\n",
       "      <td>8</td>\n",
       "      <td>2000</td>\n",
       "      <td>1145</td>\n",
       "      <td>SBrkr</td>\n",
       "      <td>2198</td>\n",
       "      <td>2</td>\n",
       "      <td>Attchd</td>\n",
       "      <td>3</td>\n",
       "      <td>836</td>\n",
       "      <td>NaN</td>\n",
       "      <td>NaN</td>\n",
       "      <td>250000</td>\n",
       "    </tr>\n",
       "  </tbody>\n",
       "</table>\n",
       "</div>"
      ],
      "text/plain": [
       "   Id  OverallQual  YearBuilt  TotalBsmtSF Electrical  GrLivArea  FullBath  \\\n",
       "0   1            7       2003          856      SBrkr       1710         2   \n",
       "1   2            6       1976         1262      SBrkr       1262         2   \n",
       "2   3            7       2001          920      SBrkr       1786         2   \n",
       "3   4            7       1915          756      SBrkr       1717         1   \n",
       "4   5            8       2000         1145      SBrkr       2198         2   \n",
       "\n",
       "  GarageType  GarageCars  GarageArea Fence MiscFeature  SalePrice  \n",
       "0     Attchd           2         548   NaN         NaN     208500  \n",
       "1     Attchd           2         460   NaN         NaN     181500  \n",
       "2     Attchd           2         608   NaN         NaN     223500  \n",
       "3     Detchd           3         642   NaN         NaN     140000  \n",
       "4     Attchd           3         836   NaN         NaN     250000  "
      ]
     },
     "execution_count": 10,
     "metadata": {},
     "output_type": "execute_result"
    }
   ],
   "source": [
    "data.head()"
   ]
  },
  {
   "cell_type": "code",
   "execution_count": 12,
   "id": "39bfc407",
   "metadata": {},
   "outputs": [
    {
     "data": {
      "text/plain": [
       "(1418, 13)"
      ]
     },
     "execution_count": 12,
     "metadata": {},
     "output_type": "execute_result"
    }
   ],
   "source": [
    "data.shape"
   ]
  },
  {
   "cell_type": "code",
   "execution_count": null,
   "id": "b5e3df11",
   "metadata": {},
   "outputs": [],
   "source": [
    "data['SalePrice'].head()"
   ]
  },
  {
   "cell_type": "code",
   "execution_count": 13,
   "id": "c212c70d",
   "metadata": {},
   "outputs": [
    {
     "name": "stderr",
     "output_type": "stream",
     "text": [
      "C:\\Users\\hp\\AppData\\Roaming\\Python\\Python39\\site-packages\\seaborn\\distributions.py:2551: FutureWarning: `distplot` is a deprecated function and will be removed in a future version. Please adapt your code to use either `displot` (a figure-level function with similar flexibility) or `histplot` (an axes-level function for histograms).\n",
      "  warnings.warn(msg, FutureWarning)\n"
     ]
    },
    {
     "name": "stdout",
     "output_type": "stream",
     "text": [
      "Skewness:  1.8646120239750106\n",
      "Kurtosis:  6.432852054835754\n"
     ]
    },
    {
     "data": {
      "image/png": "[encoded data removed]",
      "text/plain": [
       "<Figure size 640x480 with 1 Axes>"
      ]
     },
     "metadata": {},
     "output_type": "display_data"
    }
   ],
   "source": [
    "sns.distplot(data['SalePrice'])\n",
    "print('Skewness: ',data['SalePrice'].skew())\n",
    "print('Kurtosis: ',data['SalePrice'].kurt())\n",
    "plt.show()"
   ]
  },
  {
   "cell_type": "code",
   "execution_count": null,
   "id": "1dc7cc1f",
   "metadata": {},
   "outputs": [],
   "source": [
    "# ztest"
   ]
  },
  {
   "cell_type": "code",
   "execution_count": null,
   "id": "02ac86e4",
   "metadata": {},
   "outputs": [],
   "source": [
    "# Performing statistical test on SalePrice on the basis of overall quality"
   ]
  },
  {
   "cell_type": "code",
   "execution_count": 14,
   "id": "ced25ea6",
   "metadata": {},
   "outputs": [
    {
     "data": {
      "text/plain": [
       "5       143000\n",
       "8       118000\n",
       "9       129500\n",
       "11      144000\n",
       "16       90000\n",
       "         ...  \n",
       "1408    136000\n",
       "1410    145000\n",
       "1411     84500\n",
       "1416    142125\n",
       "1417    147500\n",
       "Name: SalePrice, Length: 516, dtype: int64"
      ]
     },
     "execution_count": 14,
     "metadata": {},
     "output_type": "execute_result"
    }
   ],
   "source": [
    "data[data['OverallQual']<=5][\"SalePrice\"]"
   ]
  },
  {
   "cell_type": "code",
   "execution_count": 15,
   "id": "4e850284",
   "metadata": {},
   "outputs": [],
   "source": [
    "price_a = data[data['OverallQual']<=5]['SalePrice']\n",
    "price_b = data[data['OverallQual']>5]['SalePrice']"
   ]
  },
  {
   "cell_type": "code",
   "execution_count": 42,
   "id": "e21761a2",
   "metadata": {},
   "outputs": [],
   "source": [
    "#data['OverallQual']<=5\n",
    "#data[data['OverallQual']<=5]\n",
    "#data[data['OverallQual']<=5]['SalePrice']"
   ]
  },
  {
   "cell_type": "code",
   "execution_count": 43,
   "id": "c9fefcff",
   "metadata": {},
   "outputs": [],
   "source": [
    "#price_a"
   ]
  },
  {
   "cell_type": "code",
   "execution_count": 16,
   "id": "ce1b364a",
   "metadata": {},
   "outputs": [],
   "source": [
    "from statsmodels.stats.weightstats import ztest"
   ]
  },
  {
   "cell_type": "code",
   "execution_count": 17,
   "id": "cbe6692f",
   "metadata": {},
   "outputs": [
    {
     "name": "stdout",
     "output_type": "stream",
     "text": [
      "Ha: is True (The sales price different because of overall Qual)\n"
     ]
    }
   ],
   "source": [
    "z_score,p_val = ztest(price_a,price_b)\n",
    "if p_val>0.05:\n",
    "    print('Ho: is True (There is no difference in price on the basis of Overall Qual)')\n",
    "else:\n",
    "    print('Ha: is True (The sales price different because of overall Qual)')"
   ]
  },
  {
   "cell_type": "code",
   "execution_count": 18,
   "id": "3fd35b86",
   "metadata": {},
   "outputs": [
    {
     "name": "stdout",
     "output_type": "stream",
     "text": [
      "2.0535400662857033e-123\n"
     ]
    }
   ],
   "source": [
    "print(p_val)"
   ]
  },
  {
   "cell_type": "code",
   "execution_count": 19,
   "id": "8b2ecc7c",
   "metadata": {},
   "outputs": [
    {
     "data": {
      "text/plain": [
       "-23.626614342802807"
      ]
     },
     "execution_count": 19,
     "metadata": {},
     "output_type": "execute_result"
    }
   ],
   "source": [
    "z_score"
   ]
  },
  {
   "cell_type": "code",
   "execution_count": null,
   "id": "57cbe0d0",
   "metadata": {},
   "outputs": [],
   "source": [
    "# Chi-square test"
   ]
  },
  {
   "cell_type": "code",
   "execution_count": 20,
   "id": "b477fdb4",
   "metadata": {},
   "outputs": [
    {
     "data": {
      "text/plain": [
       "Attchd     800\n",
       "Detchd     354\n",
       "BuiltIn     87\n",
       "Basment     19\n",
       "CarPort      9\n",
       "2Types       6\n",
       "Name: GarageType, dtype: int64"
      ]
     },
     "execution_count": 20,
     "metadata": {},
     "output_type": "execute_result"
    }
   ],
   "source": [
    "data['GarageType'].value_counts()"
   ]
  },
  {
   "cell_type": "code",
   "execution_count": 21,
   "id": "2cf90d0a",
   "metadata": {},
   "outputs": [
    {
     "data": {
      "text/plain": [
       "2    787\n",
       "1    364\n",
       "3    181\n",
       "0     81\n",
       "4      5\n",
       "Name: GarageCars, dtype: int64"
      ]
     },
     "execution_count": 21,
     "metadata": {},
     "output_type": "execute_result"
    }
   ],
   "source": [
    "data['GarageCars'].value_counts()"
   ]
  },
  {
   "cell_type": "code",
   "execution_count": 22,
   "id": "5c896069",
   "metadata": {},
   "outputs": [],
   "source": [
    "from scipy.stats import chi2_contingency"
   ]
  },
  {
   "cell_type": "code",
   "execution_count": 24,
   "id": "1b9e555c",
   "metadata": {},
   "outputs": [
    {
     "data": {
      "text/html": [
       "<div>\n",
       "<style scoped>\n",
       "    .dataframe tbody tr th:only-of-type {\n",
       "        vertical-align: middle;\n",
       "    }\n",
       "\n",
       "    .dataframe tbody tr th {\n",
       "        vertical-align: top;\n",
       "    }\n",
       "\n",
       "    .dataframe thead th {\n",
       "        text-align: right;\n",
       "    }\n",
       "</style>\n",
       "<table border=\"1\" class=\"dataframe\">\n",
       "  <thead>\n",
       "    <tr style=\"text-align: right;\">\n",
       "      <th>GarageType</th>\n",
       "      <th>2Types</th>\n",
       "      <th>Attchd</th>\n",
       "      <th>Basment</th>\n",
       "      <th>BuiltIn</th>\n",
       "      <th>CarPort</th>\n",
       "      <th>Detchd</th>\n",
       "    </tr>\n",
       "    <tr>\n",
       "      <th>GarageCars</th>\n",
       "      <th></th>\n",
       "      <th></th>\n",
       "      <th></th>\n",
       "      <th></th>\n",
       "      <th></th>\n",
       "      <th></th>\n",
       "    </tr>\n",
       "  </thead>\n",
       "  <tbody>\n",
       "    <tr>\n",
       "      <th>1</th>\n",
       "      <td>0</td>\n",
       "      <td>105</td>\n",
       "      <td>8</td>\n",
       "      <td>8</td>\n",
       "      <td>3</td>\n",
       "      <td>178</td>\n",
       "    </tr>\n",
       "    <tr>\n",
       "      <th>2</th>\n",
       "      <td>1</td>\n",
       "      <td>556</td>\n",
       "      <td>11</td>\n",
       "      <td>49</td>\n",
       "      <td>6</td>\n",
       "      <td>164</td>\n",
       "    </tr>\n",
       "    <tr>\n",
       "      <th>3</th>\n",
       "      <td>4</td>\n",
       "      <td>138</td>\n",
       "      <td>0</td>\n",
       "      <td>30</td>\n",
       "      <td>0</td>\n",
       "      <td>9</td>\n",
       "    </tr>\n",
       "    <tr>\n",
       "      <th>4</th>\n",
       "      <td>1</td>\n",
       "      <td>1</td>\n",
       "      <td>0</td>\n",
       "      <td>0</td>\n",
       "      <td>0</td>\n",
       "      <td>3</td>\n",
       "    </tr>\n",
       "  </tbody>\n",
       "</table>\n",
       "</div>"
      ],
      "text/plain": [
       "GarageType  2Types  Attchd  Basment  BuiltIn  CarPort  Detchd\n",
       "GarageCars                                                   \n",
       "1                0     105        8        8        3     178\n",
       "2                1     556       11       49        6     164\n",
       "3                4     138        0       30        0       9\n",
       "4                1       1        0        0        0       3"
      ]
     },
     "execution_count": 24,
     "metadata": {},
     "output_type": "execute_result"
    }
   ],
   "source": [
    "observed = pd.crosstab(data['GarageCars'],data['GarageType'])\n",
    "observed"
   ]
  },
  {
   "cell_type": "code",
   "execution_count": 25,
   "id": "6f30ffed",
   "metadata": {},
   "outputs": [
    {
     "data": {
      "text/html": [
       "<div>\n",
       "<style scoped>\n",
       "    .dataframe tbody tr th:only-of-type {\n",
       "        vertical-align: middle;\n",
       "    }\n",
       "\n",
       "    .dataframe tbody tr th {\n",
       "        vertical-align: top;\n",
       "    }\n",
       "\n",
       "    .dataframe thead th {\n",
       "        text-align: right;\n",
       "    }\n",
       "</style>\n",
       "<table border=\"1\" class=\"dataframe\">\n",
       "  <thead>\n",
       "    <tr style=\"text-align: right;\">\n",
       "      <th>GarageType</th>\n",
       "      <th>2Types</th>\n",
       "      <th>Attchd</th>\n",
       "      <th>Basment</th>\n",
       "      <th>BuiltIn</th>\n",
       "      <th>CarPort</th>\n",
       "      <th>Detchd</th>\n",
       "    </tr>\n",
       "    <tr>\n",
       "      <th>GarageCars</th>\n",
       "      <th></th>\n",
       "      <th></th>\n",
       "      <th></th>\n",
       "      <th></th>\n",
       "      <th></th>\n",
       "      <th></th>\n",
       "    </tr>\n",
       "  </thead>\n",
       "  <tbody>\n",
       "    <tr>\n",
       "      <th>1</th>\n",
       "      <td>0</td>\n",
       "      <td>105</td>\n",
       "      <td>8</td>\n",
       "      <td>8</td>\n",
       "      <td>3</td>\n",
       "      <td>178</td>\n",
       "    </tr>\n",
       "    <tr>\n",
       "      <th>2</th>\n",
       "      <td>1</td>\n",
       "      <td>556</td>\n",
       "      <td>11</td>\n",
       "      <td>49</td>\n",
       "      <td>6</td>\n",
       "      <td>164</td>\n",
       "    </tr>\n",
       "    <tr>\n",
       "      <th>3</th>\n",
       "      <td>4</td>\n",
       "      <td>138</td>\n",
       "      <td>0</td>\n",
       "      <td>30</td>\n",
       "      <td>0</td>\n",
       "      <td>9</td>\n",
       "    </tr>\n",
       "    <tr>\n",
       "      <th>4</th>\n",
       "      <td>1</td>\n",
       "      <td>1</td>\n",
       "      <td>0</td>\n",
       "      <td>0</td>\n",
       "      <td>0</td>\n",
       "      <td>3</td>\n",
       "    </tr>\n",
       "  </tbody>\n",
       "</table>\n",
       "</div>"
      ],
      "text/plain": [
       "GarageType  2Types  Attchd  Basment  BuiltIn  CarPort  Detchd\n",
       "GarageCars                                                   \n",
       "1                0     105        8        8        3     178\n",
       "2                1     556       11       49        6     164\n",
       "3                4     138        0       30        0       9\n",
       "4                1       1        0        0        0       3"
      ]
     },
     "execution_count": 25,
     "metadata": {},
     "output_type": "execute_result"
    }
   ],
   "source": [
    "pd.crosstab(data['GarageCars'],data['GarageType'])"
   ]
  },
  {
   "cell_type": "code",
   "execution_count": 46,
   "id": "7dd87687",
   "metadata": {},
   "outputs": [
    {
     "data": {
      "text/html": [
       "<div>\n",
       "<style scoped>\n",
       "    .dataframe tbody tr th:only-of-type {\n",
       "        vertical-align: middle;\n",
       "    }\n",
       "\n",
       "    .dataframe tbody tr th {\n",
       "        vertical-align: top;\n",
       "    }\n",
       "\n",
       "    .dataframe thead th {\n",
       "        text-align: right;\n",
       "    }\n",
       "</style>\n",
       "<table border=\"1\" class=\"dataframe\">\n",
       "  <thead>\n",
       "    <tr style=\"text-align: right;\">\n",
       "      <th>GarageType</th>\n",
       "      <th>2Types</th>\n",
       "      <th>Attchd</th>\n",
       "      <th>Basment</th>\n",
       "      <th>BuiltIn</th>\n",
       "      <th>CarPort</th>\n",
       "      <th>Detchd</th>\n",
       "    </tr>\n",
       "    <tr>\n",
       "      <th>GarageCars</th>\n",
       "      <th></th>\n",
       "      <th></th>\n",
       "      <th></th>\n",
       "      <th></th>\n",
       "      <th></th>\n",
       "      <th></th>\n",
       "    </tr>\n",
       "  </thead>\n",
       "  <tbody>\n",
       "    <tr>\n",
       "      <th>1</th>\n",
       "      <td>0</td>\n",
       "      <td>105</td>\n",
       "      <td>8</td>\n",
       "      <td>8</td>\n",
       "      <td>3</td>\n",
       "      <td>178</td>\n",
       "    </tr>\n",
       "    <tr>\n",
       "      <th>2</th>\n",
       "      <td>1</td>\n",
       "      <td>556</td>\n",
       "      <td>11</td>\n",
       "      <td>49</td>\n",
       "      <td>6</td>\n",
       "      <td>164</td>\n",
       "    </tr>\n",
       "    <tr>\n",
       "      <th>3</th>\n",
       "      <td>4</td>\n",
       "      <td>138</td>\n",
       "      <td>0</td>\n",
       "      <td>30</td>\n",
       "      <td>0</td>\n",
       "      <td>9</td>\n",
       "    </tr>\n",
       "    <tr>\n",
       "      <th>4</th>\n",
       "      <td>1</td>\n",
       "      <td>1</td>\n",
       "      <td>0</td>\n",
       "      <td>0</td>\n",
       "      <td>0</td>\n",
       "      <td>3</td>\n",
       "    </tr>\n",
       "  </tbody>\n",
       "</table>\n",
       "</div>"
      ],
      "text/plain": [
       "GarageType  2Types  Attchd  Basment  BuiltIn  CarPort  Detchd\n",
       "GarageCars                                                   \n",
       "1                0     105        8        8        3     178\n",
       "2                1     556       11       49        6     164\n",
       "3                4     138        0       30        0       9\n",
       "4                1       1        0        0        0       3"
      ]
     },
     "execution_count": 46,
     "metadata": {},
     "output_type": "execute_result"
    }
   ],
   "source": [
    "observed"
   ]
  },
  {
   "cell_type": "code",
   "execution_count": 26,
   "id": "af349019",
   "metadata": {},
   "outputs": [],
   "source": [
    "chi,p_val,dof,expected = chi2_contingency(observed)"
   ]
  },
  {
   "cell_type": "code",
   "execution_count": 50,
   "id": "a4de2d2c",
   "metadata": {},
   "outputs": [
    {
     "data": {
      "text/plain": [
       "array([[1.42117647e+00, 1.89490196e+02, 4.50039216e+00, 2.06070588e+01,\n",
       "        2.13176471e+00, 8.38494118e+01],\n",
       "       [3.70352941e+00, 4.93803922e+02, 1.17278431e+01, 5.37011765e+01,\n",
       "        5.55529412e+00, 2.18508235e+02],\n",
       "       [8.51764706e-01, 1.13568627e+02, 2.69725490e+00, 1.23505882e+01,\n",
       "        1.27764706e+00, 5.02541176e+01],\n",
       "       [2.35294118e-02, 3.13725490e+00, 7.45098039e-02, 3.41176471e-01,\n",
       "        3.52941176e-02, 1.38823529e+00]])"
      ]
     },
     "execution_count": 50,
     "metadata": {},
     "output_type": "execute_result"
    }
   ],
   "source": [
    "expected"
   ]
  },
  {
   "cell_type": "code",
   "execution_count": 31,
   "id": "748f9751",
   "metadata": {},
   "outputs": [
    {
     "name": "stdout",
     "output_type": "stream",
     "text": [
      "Ha: is True (Garage cars is dependent of garage type)\n"
     ]
    }
   ],
   "source": [
    "if p_val>0.05:\n",
    "    print('Ho: is True (Garage cars is independent of garage type)')\n",
    "else:\n",
    "    print('Ha: is True (Garage cars is dependent of garage type)')"
   ]
  },
  {
   "cell_type": "code",
   "execution_count": 32,
   "id": "28087214",
   "metadata": {},
   "outputs": [
    {
     "data": {
      "text/plain": [
       "9.277832977712945e-56"
      ]
     },
     "execution_count": 32,
     "metadata": {},
     "output_type": "execute_result"
    }
   ],
   "source": [
    "p_val"
   ]
  },
  {
   "cell_type": "code",
   "execution_count": 35,
   "id": "f8ba4f35",
   "metadata": {},
   "outputs": [],
   "source": [
    "#Anova\n",
    "df=sns.load_dataset('iris')"
   ]
  },
  {
   "cell_type": "code",
   "execution_count": 36,
   "id": "70ec150d",
   "metadata": {},
   "outputs": [],
   "source": [
    "setosa=df[df[\"species\"]=='setosa']['petal_length']\n",
    "versicolor=df[df[\"species\"]=='versicolor']['petal_length']\n",
    "virginica=df[df[\"species\"]=='virginica']['petal_length']"
   ]
  },
  {
   "cell_type": "code",
   "execution_count": 37,
   "id": "9d6b0b0a",
   "metadata": {},
   "outputs": [],
   "source": [
    "H0=\"mean value of petal_length of setosa,versicolor,virginica is same\"\n",
    "H1=\"mean value of petal_length of setosa,versicolor,virginica is different\""
   ]
  },
  {
   "cell_type": "code",
   "execution_count": 38,
   "id": "3ebaf08f",
   "metadata": {},
   "outputs": [
    {
     "name": "stdout",
     "output_type": "stream",
     "text": [
      "1180.161182252981 2.8567766109615584e-91\n"
     ]
    }
   ],
   "source": [
    "import scipy.stats as stats\n",
    "# stats f_oneway functions takes the groups as input and returns ANOVA F and p value\n",
    "fvalue, pvalue = stats.f_oneway(setosa,versicolor,virginica)\n",
    "print(fvalue, pvalue)"
   ]
  },
  {
   "cell_type": "code",
   "execution_count": 39,
   "id": "c27ed326",
   "metadata": {},
   "outputs": [
    {
     "name": "stdout",
     "output_type": "stream",
     "text": [
      "mean value of petal_length of setosa,versicolor,virginica is different\n"
     ]
    }
   ],
   "source": [
    "if pvalue>=0.05:\n",
    "    print(Ho)\n",
    "else:\n",
    "    print(H1)"
   ]
  },
  {
   "cell_type": "code",
   "execution_count": null,
   "id": "51f6216a",
   "metadata": {},
   "outputs": [],
   "source": [
    "# Outliers Detection"
   ]
  },
  {
   "cell_type": "code",
   "execution_count": 27,
   "id": "fe62162a",
   "metadata": {},
   "outputs": [
    {
     "ename": "NameError",
     "evalue": "name 'iris' is not defined",
     "output_type": "error",
     "traceback": [
      "\u001b[1;31m---------------------------------------------------------------------------\u001b[0m",
      "\u001b[1;31mNameError\u001b[0m                                 Traceback (most recent call last)",
      "\u001b[1;32m~\\AppData\\Local\\Temp\\ipykernel_14744\\2389036739.py\u001b[0m in \u001b[0;36m<module>\u001b[1;34m\u001b[0m\n\u001b[0;32m      4\u001b[0m \u001b[1;31m# Example\u001b[0m\u001b[1;33m\u001b[0m\u001b[1;33m\u001b[0m\u001b[0m\n\u001b[0;32m      5\u001b[0m \u001b[1;31m# iris['sepal_length'].quantile(0.5) # 0.5 in pandas quantile\u001b[0m\u001b[1;33m\u001b[0m\u001b[1;33m\u001b[0m\u001b[0m\n\u001b[1;32m----> 6\u001b[1;33m \u001b[0mnp\u001b[0m\u001b[1;33m.\u001b[0m\u001b[0mquantile\u001b[0m\u001b[1;33m(\u001b[0m\u001b[0miris\u001b[0m\u001b[1;33m[\u001b[0m\u001b[1;34m'sepal_length'\u001b[0m\u001b[1;33m]\u001b[0m\u001b[1;33m,\u001b[0m \u001b[0mq\u001b[0m \u001b[1;33m=\u001b[0m \u001b[1;36m0.50\u001b[0m\u001b[1;33m)\u001b[0m \u001b[1;31m# 0.5 in numpy quantile (\"q\" will always be between 0 to 1)\u001b[0m\u001b[1;33m\u001b[0m\u001b[1;33m\u001b[0m\u001b[0m\n\u001b[0m\u001b[0;32m      7\u001b[0m \u001b[0mnp\u001b[0m\u001b[1;33m.\u001b[0m\u001b[0mpercentile\u001b[0m\u001b[1;33m(\u001b[0m\u001b[0miris\u001b[0m\u001b[1;33m[\u001b[0m\u001b[1;34m'sepal_length'\u001b[0m\u001b[1;33m]\u001b[0m\u001b[1;33m,\u001b[0m \u001b[0mq\u001b[0m \u001b[1;33m=\u001b[0m \u001b[1;36m50\u001b[0m\u001b[1;33m)\u001b[0m \u001b[1;31m# 50 in numpy percentile (\"q\" will always be between 0 to 100)\u001b[0m\u001b[1;33m\u001b[0m\u001b[1;33m\u001b[0m\u001b[0m\n\u001b[0;32m      8\u001b[0m \u001b[1;33m\u001b[0m\u001b[0m\n",
      "\u001b[1;31mNameError\u001b[0m: name 'iris' is not defined"
     ]
    }
   ],
   "source": [
    "## IMPORTANT Pointer to keep in mind:\n",
    "## If you are using pandas quantile or numpy quantile, then values should be between [0,1]\n",
    "## If you are using numpy percentile, then percentile values should be between [0,100]\n",
    "# Example \n",
    "# iris['sepal_length'].quantile(0.5) # 0.5 in pandas quantile\n",
    "np.quantile(iris['sepal_length'], q = 0.50) # 0.5 in numpy quantile (\"q\" will always be between 0 to 1)\n",
    "np.percentile(iris['sepal_length'], q = 50) # 50 in numpy percentile (\"q\" will always be between 0 to 100)\n",
    "\n",
    "# Method 1: Percentiles\n",
    "# import numpy as np\n",
    "np.percentile(iris['sepal_length'], q = [0,1,25,50,75,95,96,97,98,99,100])\n",
    "Lower_Bound = np.percentile(iris['sepal_length'], q = 1)\n",
    "Lower_Bound\n",
    "Upper_Bound = np.percentile(iris['sepal_length'], q = 99)\n",
    "Upper_Bound\n",
    "\n",
    "\n",
    "# Method 2: Mean +- N*Std_Dev\n",
    "Lower_Bound = iris['sepal_length'].mean() - 3*iris['sepal_length'].std()\n",
    "Lower_Bound\n",
    "Upper_Bound = iris['sepal_length'].mean() + 3*iris['sepal_length'].std()\n",
    "Upper_Bound \n",
    "\n",
    "# Method 3: Boxplot\n",
    "## sns.boxplot(y = iris['sepal_length'])\n",
    "\n",
    "# Q1 = np.percentile(iris['sepal_length'], q = 25)\n",
    "# Q3 = np.percentile(iris['sepal_length'], q = 75)\n",
    "# IQR = Q3 - Q1\n",
    "IQR = np.percentile(iris['sepal_length'], q = 75) - np.percentile(iris['sepal_length'], q = 25)\n",
    "Lower_Bound = np.percentile(iris['sepal_length'], q = 25) - 1.5*IQR\n",
    "Lower_Bound \n",
    "Upper_Bound = np.percentile(iris['sepal_length'], q = 75) + 1.5*IQR\n",
    "Upper_Bound\n",
    "\n",
    "\n",
    "\n"
   ]
  }
 ],
 "metadata": {
  "kernelspec": {
   "display_name": "Python 3 (ipykernel)",
   "language": "python",
   "name": "python3"
  },
  "language_info": {
   "codemirror_mode": {
    "name": "ipython",
    "version": 3
   },
   "file_extension": ".py",
   "mimetype": "text/x-python",
   "name": "python",
   "nbconvert_exporter": "python",
   "pygments_lexer": "ipython3",
   "version": "3.9.13"
  }
 },
 "nbformat": 4,
 "nbformat_minor": 5
}
